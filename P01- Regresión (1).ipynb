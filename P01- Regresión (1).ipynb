{
 "cells": [
  {
   "cell_type": "markdown",
   "id": "c8497edb9b342b8e",
   "metadata": {},
   "source": [
    "# P01 - Regresión\n",
    "\n",
    "# Predicción y análisis de profit de ventas de bicicletas\n",
    "\n",
    "* Andre Esteban\n",
    "* Nicolas Martinez\n",
    "* Gonzalo Cano\n",
    "\n",
    "---"
   ]
  },
  {
   "cell_type": "markdown",
   "id": "6d8b4955fc1b547",
   "metadata": {},
   "source": [
    "## Objetivos\n",
    "\n",
    "**Objetivos generales:**\n",
    "\n",
    "El objetivo general de este proyecto es hacer un análisis de los datos de las ventas de una empresa que se dedica a vender bicicletas mediante la aplicación de modelos de regresión y técnicas de regularización, con el fin de identificar qué factores son los más relevantes para las ventas de la empresa y proponer modelos que nos permitan optimizar la toma de decisiones comerciales para la empresa.\n",
    "\n",
    "**Objetivos Específicos:**\n",
    "\n",
    "Para poder cumplir el objetivo del proyecto lo que se tendrá que hacer es lo siguiente:\n",
    "\n",
    "* Analizar el dataset de la empresa, identificando la estructura, que variables tenemos disponibles y la información relevante que aportan las muestras.\n",
    "\n",
    "* Limpiar y transformar los datos, ajustando las variables necesarias para que puedan usarse adecuadamente en los modelos de regresión.\n",
    "\n",
    "* Usar y comparar diferentes enfoques de regresión para evaluar el ajuste de los modelos a través de las métricas de desempeño.\n",
    "\n",
    "* Utilizar métodos de penalización para evaluar el impacto en la predicción y en la significancia de las variables.\n",
    "\n",
    "* Diseñar un Pipeline que incluya de forma estructurada todos los pasos que se realizaron para hacer el modelo.\n",
    "\n",
    "* Evaluar los valores estadísticos de los modelos y compararlos para identificar aquel modelo que tenga un mejor balance.\n",
    "\n",
    "* A partir de los resultados obtenidos concluir sobre la efectividad de los modelos y la relevancia de los factores en las ventas de la empresa.\n"
   ]
  },
  {
   "cell_type": "markdown",
   "id": "db062747c87f52fe",
   "metadata": {
    "jp-MarkdownHeadingCollapsed": true
   },
   "source": [
    "---\n",
    "## Marco Téorico\n",
    "\n",
    "La regresión lineal es una herramienta estadística que predice o estima el valor de una variable, llamada dependiente, en función de una o más variables independientes. Según IBM, busca ajustar una línea recta, o plano, si hay múltiples variables, que minimice la diferencia entre los valores reales y los valores predichos, mediante un método de “mínimos cuadrados”. Con ello genera una fórmula matemática interpretable que explica la relación entre variables. Esta técnica es usada en muchos ámbitos (negocios, ciencias sociales, ambientales) porque permite transformar datos en pronósticos útiles y entender cómo cambian los resultados cuando varían las variables explicativas. (IBM, 2021)\n",
    "\n",
    "$$ y = b_0 + b_1 x $$\n",
    "\n",
    "La regresión polinómial es una técnica estadística que extiende la regresión lineal al incluir potencias de la variable independiente x, lo que permite capturar relaciones no lineales con la variable dependiente y. Aunque el modelo describe curvas, sigue siendo lineal en sus parámetros y por ello se considera un caso especial de regresión lineal múltiple. Su objetivo es encontrar la mejor curva de ajuste, generalmente mediante mínimos cuadrados, para explicar fenómenos donde una recta no basta. Además, se aplican pruebas para elegir el grado adecuado del polinomio y se utilizan herramientas como intervalos de confianza, bondad de ajuste y análisis de residuos para validar el modelo. (Conzmr, 2017)\n",
    "\n",
    "$$ y = \\beta_0 + \\beta_1 x + \\beta_2 x^2 + \\beta_3 x^3 + \\cdots + \\beta_n x^n $$\n",
    "\n",
    "La interacción ocurre cuando el efecto de una variable explicativa sobre el resultado depende del nivel de otra variable. En otras palabras, dos o más factores no se suman de forma independiente, sino que se alteran mutuamente. Por ejemplo, el efecto de X sobre Y puede variar si otra variable Z toma distintos valores. En regresión se modela con un término multiplicativo (por ejemplo X*Z) y, si su coeficiente es significativo, eso indica que hay una interacción real entre esos factores. (Camacho, s.f)\n",
    "\n",
    "La significancia de factores se refiere a la comprobación estadística de si cada variable explicativa tiene un efecto real sobre la variable dependiente. En regresión, esto se hace mediante pruebas t, obteniendo p_values que indican la probabilidad de que ese efecto pueda ser cero por azar. Si el p-value es menor que un nivel de confianza, decimos que el factor es significativo. Esta evaluación ayuda a decidir qué variables quedan en el modelo final. (ChReInvent, s. f.)\n",
    "\n",
    "La regularización es una técnica para mejorar modelos de regresión evitando que los coeficientes se vuelvan demasiado grandes (lo que puede provocar sobreajuste). \n",
    "- Ridge (o regularización L2) agrega un término que penaliza la suma de los cuadrados de los coeficientes. Así los coeficientes grandes se reducen, pero ninguno llega a cero. (IBM, 2023)\n",
    "- Lasso (o regularización L1) penaliza la suma de los valores absolutos de los coeficientes. Esto puede forzar algunos coeficientes exactamente a cero, lo que equivale a una selección automática de variables. (Amat Rodrigo, 2016)\n",
    "-  ElasticNet combina ambas penalizaciones (L1 + L2). De esta forma hereda ventajas de Ridge (coeficientes estables frente a correlación) y de Lasso (puede poner coeficientes a cero). Se usa cuando hay muchas variables correlacionadas. (Interactive Chaos, s. f.)\n",
    "\n",
    "El tema elegido para proyecto se centra en evaluar la relación entre diferentes variables y las ventas de una empresa que se dedica a vender bicicletas mediante modelos de regresión lineal y sus variantes regularizadas (Ridge, Lasso y Elastic Net). El objetivo es identificar qué factores influyen de manera significativa en las ventas y cómo cambia el desempeño del modelo al aplicar distintas técnicas de regularización."
   ]
  },
  {
   "cell_type": "markdown",
   "id": "42379ed4450889b7",
   "metadata": {},
   "source": [
    "---\n",
    "## Análisis de dataset\n",
    "\n",
    "**¿De dónde viene?**\n",
    "\n",
    "El dataset proviene de la página de internet Kaggle, la cual es una página de internet donde se pueden encontrar muchos datasets para el análisis de datos, este dataset viene de un repositorio que se llama “Company Financials Dataset” creado por Atharva Arya\n",
    "\n",
    "**¿Qué contiene?**\n",
    "\n",
    "El dataset contiene datos de ventas y costos simulados de una empresa durante el año 2024, contiene información financiera de ventas de productos incluyendo lo siguiente:\n",
    "\n",
    "* Segmento de mercado\n",
    "\n",
    "* País de venta\n",
    "\n",
    "* Nombre y tipo del producto\n",
    "\n",
    "* Precio de manufactura y precio de venta\n",
    "\n",
    "* Unidades vendidas\n",
    "\n",
    "* Ventas brutas y netas\n",
    "\n",
    "* Costos de producción\n",
    "\n",
    "* Utilidades\n",
    "\n",
    "* Fechas\n",
    "\n",
    "**¿Qué información dan las muestras?**\n",
    "\n",
    "Cada fila del dataset es una muestra de transacción de ventas donde se puede ver el comportamiento del producto vendido en un país determinado, segmento y periodo, todo esto nos muestra el nivel de ventas alcanzado, la rentabilidad de cada producto, la relación entre lo vendido, precio, costos y utilidades\n",
    "\n",
    "**¿Qué se quiere analizar?**\n",
    "\n",
    "El objetivo es predecir y analizar lautilidd (Profit) de la empresa, entonces se requiere identificar qué factores son los que influyen más en las ventas, evaluar cómo cambian las utilidades según las variaciones en las variables y comparar los diferentes modelos de regresión para ver cuál es el que ofrece la mejor predicción\n",
    "\n",
    "**¿Qué variables se tienen que transformar para poder usarse en un modelo de regresión?**\n",
    "\n",
    "Primero se tienen que limpiar las variables numéricas que tienen caracteres especiales para poder convertirlos en valores numéricos y después transformar las variables categóricas, como el segmento de mercado, tipo de producto, país y el nombre del mes, transformarlas en variables dummies para poder hacer la regresión. También se van a tener que escalar o estandarizar los datos para mejorar la comparabilidad de los datos en los modelos."
   ]
  },
  {
   "cell_type": "markdown",
   "id": "1b97c21e-38d6-40da-ac85-bbdc2a80596a",
   "metadata": {},
   "source": [
    "---\n",
    "## Pipeline\n",
    "### Dataset"
   ]
  },
  {
   "cell_type": "code",
   "execution_count": 135,
   "id": "cdb73ed03f1ac21d",
   "metadata": {
    "ExecuteTime": {
     "end_time": "2025-09-29T19:26:54.957970Z",
     "start_time": "2025-09-29T19:26:54.874359Z"
    },
    "scrolled": true
   },
   "outputs": [
    {
     "data": {
      "text/html": [
       "<div>\n",
       "<style scoped>\n",
       "    .dataframe tbody tr th:only-of-type {\n",
       "        vertical-align: middle;\n",
       "    }\n",
       "\n",
       "    .dataframe tbody tr th {\n",
       "        vertical-align: top;\n",
       "    }\n",
       "\n",
       "    .dataframe thead th {\n",
       "        text-align: right;\n",
       "    }\n",
       "</style>\n",
       "<table border=\"1\" class=\"dataframe\">\n",
       "  <thead>\n",
       "    <tr style=\"text-align: right;\">\n",
       "      <th></th>\n",
       "      <th>Segment</th>\n",
       "      <th>Country</th>\n",
       "      <th>Product</th>\n",
       "      <th>Discount Band</th>\n",
       "      <th>Units Sold</th>\n",
       "      <th>Manufacturing Price</th>\n",
       "      <th>Sale Price</th>\n",
       "      <th>Gross Sales</th>\n",
       "      <th>Discounts</th>\n",
       "      <th>Sales</th>\n",
       "      <th>COGS</th>\n",
       "      <th>Profit</th>\n",
       "      <th>Date</th>\n",
       "      <th>Month Number</th>\n",
       "      <th>Month Name</th>\n",
       "      <th>Year</th>\n",
       "    </tr>\n",
       "  </thead>\n",
       "  <tbody>\n",
       "    <tr>\n",
       "      <th>0</th>\n",
       "      <td>Government</td>\n",
       "      <td>Canada</td>\n",
       "      <td>Carretera</td>\n",
       "      <td>None</td>\n",
       "      <td>1618.5</td>\n",
       "      <td>3</td>\n",
       "      <td>20</td>\n",
       "      <td>32370</td>\n",
       "      <td>0</td>\n",
       "      <td>32370</td>\n",
       "      <td>16185</td>\n",
       "      <td>16185</td>\n",
       "      <td>2014-01-01</td>\n",
       "      <td>1</td>\n",
       "      <td>January</td>\n",
       "      <td>2014</td>\n",
       "    </tr>\n",
       "    <tr>\n",
       "      <th>1</th>\n",
       "      <td>Government</td>\n",
       "      <td>Germany</td>\n",
       "      <td>Carretera</td>\n",
       "      <td>None</td>\n",
       "      <td>1321.0</td>\n",
       "      <td>3</td>\n",
       "      <td>20</td>\n",
       "      <td>26420</td>\n",
       "      <td>0</td>\n",
       "      <td>26420</td>\n",
       "      <td>13210</td>\n",
       "      <td>13210</td>\n",
       "      <td>2014-01-01</td>\n",
       "      <td>1</td>\n",
       "      <td>January</td>\n",
       "      <td>2014</td>\n",
       "    </tr>\n",
       "    <tr>\n",
       "      <th>2</th>\n",
       "      <td>Midmarket</td>\n",
       "      <td>France</td>\n",
       "      <td>Carretera</td>\n",
       "      <td>None</td>\n",
       "      <td>2178.0</td>\n",
       "      <td>3</td>\n",
       "      <td>15</td>\n",
       "      <td>32670</td>\n",
       "      <td>0</td>\n",
       "      <td>32670</td>\n",
       "      <td>21780</td>\n",
       "      <td>10890</td>\n",
       "      <td>2014-06-01</td>\n",
       "      <td>6</td>\n",
       "      <td>June</td>\n",
       "      <td>2014</td>\n",
       "    </tr>\n",
       "    <tr>\n",
       "      <th>3</th>\n",
       "      <td>Midmarket</td>\n",
       "      <td>Germany</td>\n",
       "      <td>Carretera</td>\n",
       "      <td>None</td>\n",
       "      <td>888.0</td>\n",
       "      <td>3</td>\n",
       "      <td>15</td>\n",
       "      <td>13320</td>\n",
       "      <td>0</td>\n",
       "      <td>13320</td>\n",
       "      <td>8880</td>\n",
       "      <td>4440</td>\n",
       "      <td>2014-06-01</td>\n",
       "      <td>6</td>\n",
       "      <td>June</td>\n",
       "      <td>2014</td>\n",
       "    </tr>\n",
       "    <tr>\n",
       "      <th>4</th>\n",
       "      <td>Midmarket</td>\n",
       "      <td>Mexico</td>\n",
       "      <td>Carretera</td>\n",
       "      <td>None</td>\n",
       "      <td>2470.0</td>\n",
       "      <td>3</td>\n",
       "      <td>15</td>\n",
       "      <td>37050</td>\n",
       "      <td>0</td>\n",
       "      <td>37050</td>\n",
       "      <td>24700</td>\n",
       "      <td>12350</td>\n",
       "      <td>2014-06-01</td>\n",
       "      <td>6</td>\n",
       "      <td>June</td>\n",
       "      <td>2014</td>\n",
       "    </tr>\n",
       "    <tr>\n",
       "      <th>...</th>\n",
       "      <td>...</td>\n",
       "      <td>...</td>\n",
       "      <td>...</td>\n",
       "      <td>...</td>\n",
       "      <td>...</td>\n",
       "      <td>...</td>\n",
       "      <td>...</td>\n",
       "      <td>...</td>\n",
       "      <td>...</td>\n",
       "      <td>...</td>\n",
       "      <td>...</td>\n",
       "      <td>...</td>\n",
       "      <td>...</td>\n",
       "      <td>...</td>\n",
       "      <td>...</td>\n",
       "      <td>...</td>\n",
       "    </tr>\n",
       "    <tr>\n",
       "      <th>695</th>\n",
       "      <td>Small Business</td>\n",
       "      <td>France</td>\n",
       "      <td>Amarilla</td>\n",
       "      <td>High</td>\n",
       "      <td>2475.0</td>\n",
       "      <td>260</td>\n",
       "      <td>300</td>\n",
       "      <td>$7,42,500.00</td>\n",
       "      <td>$1,11,375.00</td>\n",
       "      <td>$6,31,125.00</td>\n",
       "      <td>$6,18,750.00</td>\n",
       "      <td>12375</td>\n",
       "      <td>2014-03-01</td>\n",
       "      <td>3</td>\n",
       "      <td>March</td>\n",
       "      <td>2014</td>\n",
       "    </tr>\n",
       "    <tr>\n",
       "      <th>696</th>\n",
       "      <td>Small Business</td>\n",
       "      <td>Mexico</td>\n",
       "      <td>Amarilla</td>\n",
       "      <td>High</td>\n",
       "      <td>546.0</td>\n",
       "      <td>260</td>\n",
       "      <td>300</td>\n",
       "      <td>$1,63,800.00</td>\n",
       "      <td>24570</td>\n",
       "      <td>$1,39,230.00</td>\n",
       "      <td>$1,36,500.00</td>\n",
       "      <td>2730</td>\n",
       "      <td>2014-10-01</td>\n",
       "      <td>10</td>\n",
       "      <td>October</td>\n",
       "      <td>2014</td>\n",
       "    </tr>\n",
       "    <tr>\n",
       "      <th>697</th>\n",
       "      <td>Government</td>\n",
       "      <td>Mexico</td>\n",
       "      <td>Montana</td>\n",
       "      <td>High</td>\n",
       "      <td>1368.0</td>\n",
       "      <td>5</td>\n",
       "      <td>7</td>\n",
       "      <td>9576</td>\n",
       "      <td>1436.4</td>\n",
       "      <td>8139.6</td>\n",
       "      <td>6840</td>\n",
       "      <td>1299.6</td>\n",
       "      <td>2014-02-01</td>\n",
       "      <td>2</td>\n",
       "      <td>February</td>\n",
       "      <td>2014</td>\n",
       "    </tr>\n",
       "    <tr>\n",
       "      <th>698</th>\n",
       "      <td>Government</td>\n",
       "      <td>Canada</td>\n",
       "      <td>Paseo</td>\n",
       "      <td>High</td>\n",
       "      <td>723.0</td>\n",
       "      <td>10</td>\n",
       "      <td>7</td>\n",
       "      <td>5061</td>\n",
       "      <td>759.15</td>\n",
       "      <td>4301.85</td>\n",
       "      <td>3615</td>\n",
       "      <td>686.85</td>\n",
       "      <td>2014-04-01</td>\n",
       "      <td>4</td>\n",
       "      <td>April</td>\n",
       "      <td>2014</td>\n",
       "    </tr>\n",
       "    <tr>\n",
       "      <th>699</th>\n",
       "      <td>Channel Partners</td>\n",
       "      <td>United States of America</td>\n",
       "      <td>VTT</td>\n",
       "      <td>High</td>\n",
       "      <td>1806.0</td>\n",
       "      <td>250</td>\n",
       "      <td>12</td>\n",
       "      <td>21672</td>\n",
       "      <td>3250.8</td>\n",
       "      <td>18421.2</td>\n",
       "      <td>5418</td>\n",
       "      <td>13003.2</td>\n",
       "      <td>2014-05-01</td>\n",
       "      <td>5</td>\n",
       "      <td>May</td>\n",
       "      <td>2014</td>\n",
       "    </tr>\n",
       "  </tbody>\n",
       "</table>\n",
       "<p>700 rows × 16 columns</p>\n",
       "</div>"
      ],
      "text/plain": [
       "              Segment                   Country      Product Discount Band  \\\n",
       "0          Government                    Canada   Carretera          None    \n",
       "1          Government                   Germany   Carretera          None    \n",
       "2           Midmarket                    France   Carretera          None    \n",
       "3           Midmarket                   Germany   Carretera          None    \n",
       "4           Midmarket                    Mexico   Carretera          None    \n",
       "..                ...                       ...          ...           ...   \n",
       "695    Small Business                    France    Amarilla          High    \n",
       "696    Small Business                    Mexico    Amarilla          High    \n",
       "697        Government                    Mexico     Montana          High    \n",
       "698        Government                    Canada       Paseo          High    \n",
       "699  Channel Partners  United States of America         VTT          High    \n",
       "\n",
       "     Units Sold  Manufacturing Price  Sale Price     Gross Sales  \\\n",
       "0        1618.5                    3          20           32370   \n",
       "1        1321.0                    3          20           26420   \n",
       "2        2178.0                    3          15           32670   \n",
       "3         888.0                    3          15           13320   \n",
       "4        2470.0                    3          15           37050   \n",
       "..          ...                  ...         ...             ...   \n",
       "695      2475.0                  260         300   $7,42,500.00    \n",
       "696       546.0                  260         300   $1,63,800.00    \n",
       "697      1368.0                    5           7            9576   \n",
       "698       723.0                   10           7            5061   \n",
       "699      1806.0                  250          12           21672   \n",
       "\n",
       "          Discounts           Sales            COGS   Profit       Date  \\\n",
       "0                 0           32370           16185    16185 2014-01-01   \n",
       "1                 0           26420           13210    13210 2014-01-01   \n",
       "2                 0           32670           21780    10890 2014-06-01   \n",
       "3                 0           13320            8880     4440 2014-06-01   \n",
       "4                 0           37050           24700    12350 2014-06-01   \n",
       "..              ...             ...             ...      ...        ...   \n",
       "695   $1,11,375.00    $6,31,125.00    $6,18,750.00     12375 2014-03-01   \n",
       "696           24570   $1,39,230.00    $1,36,500.00      2730 2014-10-01   \n",
       "697          1436.4          8139.6            6840   1299.6 2014-02-01   \n",
       "698          759.15         4301.85            3615   686.85 2014-04-01   \n",
       "699          3250.8         18421.2            5418  13003.2 2014-05-01   \n",
       "\n",
       "     Month Number  Month Name  Year  \n",
       "0               1    January   2014  \n",
       "1               1    January   2014  \n",
       "2               6       June   2014  \n",
       "3               6       June   2014  \n",
       "4               6       June   2014  \n",
       "..            ...         ...   ...  \n",
       "695             3      March   2014  \n",
       "696            10    October   2014  \n",
       "697             2   February   2014  \n",
       "698             4      April   2014  \n",
       "699             5        May   2014  \n",
       "\n",
       "[700 rows x 16 columns]"
      ]
     },
     "execution_count": 135,
     "metadata": {},
     "output_type": "execute_result"
    }
   ],
   "source": [
    "import pandas as pd\n",
    "\n",
    "data = pd.read_excel('DataSet_Proyecto.xlsx')\n",
    "# Quitar espacios extra en los nombres de columnas\n",
    "data.columns = data.columns.str.strip()\n",
    "data"
   ]
  },
  {
   "cell_type": "markdown",
   "id": "cc23a04e-c316-4ee9-a6bc-6c0b7394a83a",
   "metadata": {},
   "source": [
    "### Análisis Exploratorio de Datos (EDA)"
   ]
  },
  {
   "cell_type": "code",
   "execution_count": 136,
   "id": "c0df04e7-eb76-4059-a243-b08c32530d80",
   "metadata": {
    "ExecuteTime": {
     "end_time": "2025-09-29T19:26:54.995384Z",
     "start_time": "2025-09-29T19:26:54.990817Z"
    }
   },
   "outputs": [
    {
     "name": "stdout",
     "output_type": "stream",
     "text": [
      "<class 'pandas.core.frame.DataFrame'>\n",
      "RangeIndex: 700 entries, 0 to 699\n",
      "Data columns (total 16 columns):\n",
      " #   Column               Non-Null Count  Dtype         \n",
      "---  ------               --------------  -----         \n",
      " 0   Segment              700 non-null    object        \n",
      " 1   Country              700 non-null    object        \n",
      " 2   Product              700 non-null    object        \n",
      " 3   Discount Band        700 non-null    object        \n",
      " 4   Units Sold           700 non-null    float64       \n",
      " 5   Manufacturing Price  700 non-null    int64         \n",
      " 6   Sale Price           700 non-null    int64         \n",
      " 7   Gross Sales          700 non-null    object        \n",
      " 8   Discounts            700 non-null    object        \n",
      " 9   Sales                700 non-null    object        \n",
      " 10  COGS                 700 non-null    object        \n",
      " 11  Profit               700 non-null    object        \n",
      " 12  Date                 700 non-null    datetime64[ns]\n",
      " 13  Month Number         700 non-null    int64         \n",
      " 14  Month Name           700 non-null    object        \n",
      " 15  Year                 700 non-null    int64         \n",
      "dtypes: datetime64[ns](1), float64(1), int64(4), object(10)\n",
      "memory usage: 87.6+ KB\n"
     ]
    }
   ],
   "source": [
    "data.info()"
   ]
  },
  {
   "cell_type": "code",
   "execution_count": 137,
   "id": "d7d5e1bb-c522-4f2f-9a7e-e37377ed0e12",
   "metadata": {
    "ExecuteTime": {
     "end_time": "2025-09-29T19:26:55.078933Z",
     "start_time": "2025-09-29T19:26:55.067752Z"
    }
   },
   "outputs": [
    {
     "data": {
      "text/html": [
       "<div>\n",
       "<style scoped>\n",
       "    .dataframe tbody tr th:only-of-type {\n",
       "        vertical-align: middle;\n",
       "    }\n",
       "\n",
       "    .dataframe tbody tr th {\n",
       "        vertical-align: top;\n",
       "    }\n",
       "\n",
       "    .dataframe thead th {\n",
       "        text-align: right;\n",
       "    }\n",
       "</style>\n",
       "<table border=\"1\" class=\"dataframe\">\n",
       "  <thead>\n",
       "    <tr style=\"text-align: right;\">\n",
       "      <th></th>\n",
       "      <th>Units Sold</th>\n",
       "      <th>Manufacturing Price</th>\n",
       "      <th>Sale Price</th>\n",
       "      <th>Date</th>\n",
       "      <th>Month Number</th>\n",
       "      <th>Year</th>\n",
       "    </tr>\n",
       "  </thead>\n",
       "  <tbody>\n",
       "    <tr>\n",
       "      <th>count</th>\n",
       "      <td>700.000000</td>\n",
       "      <td>700.000000</td>\n",
       "      <td>700.000000</td>\n",
       "      <td>700</td>\n",
       "      <td>700.000000</td>\n",
       "      <td>700.000000</td>\n",
       "    </tr>\n",
       "    <tr>\n",
       "      <th>mean</th>\n",
       "      <td>1608.294286</td>\n",
       "      <td>96.477143</td>\n",
       "      <td>118.428571</td>\n",
       "      <td>2014-04-28 21:36:00</td>\n",
       "      <td>7.900000</td>\n",
       "      <td>2013.750000</td>\n",
       "    </tr>\n",
       "    <tr>\n",
       "      <th>min</th>\n",
       "      <td>200.000000</td>\n",
       "      <td>3.000000</td>\n",
       "      <td>7.000000</td>\n",
       "      <td>2013-09-01 00:00:00</td>\n",
       "      <td>1.000000</td>\n",
       "      <td>2013.000000</td>\n",
       "    </tr>\n",
       "    <tr>\n",
       "      <th>25%</th>\n",
       "      <td>905.000000</td>\n",
       "      <td>5.000000</td>\n",
       "      <td>12.000000</td>\n",
       "      <td>2013-12-24 06:00:00</td>\n",
       "      <td>5.750000</td>\n",
       "      <td>2013.750000</td>\n",
       "    </tr>\n",
       "    <tr>\n",
       "      <th>50%</th>\n",
       "      <td>1542.500000</td>\n",
       "      <td>10.000000</td>\n",
       "      <td>20.000000</td>\n",
       "      <td>2014-05-16 12:00:00</td>\n",
       "      <td>9.000000</td>\n",
       "      <td>2014.000000</td>\n",
       "    </tr>\n",
       "    <tr>\n",
       "      <th>75%</th>\n",
       "      <td>2229.125000</td>\n",
       "      <td>250.000000</td>\n",
       "      <td>300.000000</td>\n",
       "      <td>2014-09-08 12:00:00</td>\n",
       "      <td>10.250000</td>\n",
       "      <td>2014.000000</td>\n",
       "    </tr>\n",
       "    <tr>\n",
       "      <th>max</th>\n",
       "      <td>4492.500000</td>\n",
       "      <td>260.000000</td>\n",
       "      <td>350.000000</td>\n",
       "      <td>2014-12-01 00:00:00</td>\n",
       "      <td>12.000000</td>\n",
       "      <td>2014.000000</td>\n",
       "    </tr>\n",
       "    <tr>\n",
       "      <th>std</th>\n",
       "      <td>867.427859</td>\n",
       "      <td>108.602612</td>\n",
       "      <td>136.775515</td>\n",
       "      <td>NaN</td>\n",
       "      <td>3.377321</td>\n",
       "      <td>0.433322</td>\n",
       "    </tr>\n",
       "  </tbody>\n",
       "</table>\n",
       "</div>"
      ],
      "text/plain": [
       "        Units Sold  Manufacturing Price  Sale Price                 Date  \\\n",
       "count   700.000000           700.000000  700.000000                  700   \n",
       "mean   1608.294286            96.477143  118.428571  2014-04-28 21:36:00   \n",
       "min     200.000000             3.000000    7.000000  2013-09-01 00:00:00   \n",
       "25%     905.000000             5.000000   12.000000  2013-12-24 06:00:00   \n",
       "50%    1542.500000            10.000000   20.000000  2014-05-16 12:00:00   \n",
       "75%    2229.125000           250.000000  300.000000  2014-09-08 12:00:00   \n",
       "max    4492.500000           260.000000  350.000000  2014-12-01 00:00:00   \n",
       "std     867.427859           108.602612  136.775515                  NaN   \n",
       "\n",
       "       Month Number         Year  \n",
       "count    700.000000   700.000000  \n",
       "mean       7.900000  2013.750000  \n",
       "min        1.000000  2013.000000  \n",
       "25%        5.750000  2013.750000  \n",
       "50%        9.000000  2014.000000  \n",
       "75%       10.250000  2014.000000  \n",
       "max       12.000000  2014.000000  \n",
       "std        3.377321     0.433322  "
      ]
     },
     "execution_count": 137,
     "metadata": {},
     "output_type": "execute_result"
    }
   ],
   "source": [
    "data.describe()"
   ]
  },
  {
   "cell_type": "code",
   "execution_count": 138,
   "id": "e67ab948-2deb-4896-9d8b-e56678693ba8",
   "metadata": {
    "ExecuteTime": {
     "end_time": "2025-09-29T19:26:55.146328Z",
     "start_time": "2025-09-29T19:26:55.142871Z"
    }
   },
   "outputs": [
    {
     "data": {
      "text/plain": [
       "Segment                0\n",
       "Country                0\n",
       "Product                0\n",
       "Discount Band          0\n",
       "Units Sold             0\n",
       "Manufacturing Price    0\n",
       "Sale Price             0\n",
       "Gross Sales            0\n",
       "Discounts              0\n",
       "Sales                  0\n",
       "COGS                   0\n",
       "Profit                 0\n",
       "Date                   0\n",
       "Month Number           0\n",
       "Month Name             0\n",
       "Year                   0\n",
       "dtype: int64"
      ]
     },
     "execution_count": 138,
     "metadata": {},
     "output_type": "execute_result"
    }
   ],
   "source": [
    "data.isnull().sum()"
   ]
  },
  {
   "cell_type": "code",
   "execution_count": 139,
   "id": "a03b2651-5589-4454-b25c-715269c51cfa",
   "metadata": {
    "ExecuteTime": {
     "end_time": "2025-09-29T19:26:55.364084Z",
     "start_time": "2025-09-29T19:26:55.360444Z"
    }
   },
   "outputs": [
    {
     "data": {
      "text/plain": [
       "0"
      ]
     },
     "execution_count": 139,
     "metadata": {},
     "output_type": "execute_result"
    }
   ],
   "source": [
    "data.duplicated().sum()"
   ]
  },
  {
   "cell_type": "markdown",
   "id": "b2f7ac33-f3b7-4f2f-bfb8-72e16bdb85e3",
   "metadata": {},
   "source": [
    "## Feature Engineering"
   ]
  },
  {
   "cell_type": "code",
   "execution_count": 140,
   "id": "41b1da6e7cf02d44",
   "metadata": {
    "ExecuteTime": {
     "end_time": "2025-09-29T19:26:55.441184Z",
     "start_time": "2025-09-29T19:26:55.435762Z"
    }
   },
   "outputs": [
    {
     "data": {
      "text/html": [
       "<div>\n",
       "<style scoped>\n",
       "    .dataframe tbody tr th:only-of-type {\n",
       "        vertical-align: middle;\n",
       "    }\n",
       "\n",
       "    .dataframe tbody tr th {\n",
       "        vertical-align: top;\n",
       "    }\n",
       "\n",
       "    .dataframe thead th {\n",
       "        text-align: right;\n",
       "    }\n",
       "</style>\n",
       "<table border=\"1\" class=\"dataframe\">\n",
       "  <thead>\n",
       "    <tr style=\"text-align: right;\">\n",
       "      <th></th>\n",
       "      <th>Segment</th>\n",
       "      <th>Country</th>\n",
       "      <th>Product</th>\n",
       "      <th>Units Sold</th>\n",
       "      <th>Manufacturing Price</th>\n",
       "      <th>Sale Price</th>\n",
       "      <th>Gross Sales</th>\n",
       "      <th>Discounts</th>\n",
       "      <th>Sales</th>\n",
       "      <th>COGS</th>\n",
       "      <th>Profit</th>\n",
       "      <th>Month Number</th>\n",
       "      <th>Year</th>\n",
       "    </tr>\n",
       "  </thead>\n",
       "  <tbody>\n",
       "    <tr>\n",
       "      <th>0</th>\n",
       "      <td>Government</td>\n",
       "      <td>Canada</td>\n",
       "      <td>Carretera</td>\n",
       "      <td>1618.5</td>\n",
       "      <td>3</td>\n",
       "      <td>20</td>\n",
       "      <td>32370</td>\n",
       "      <td>0</td>\n",
       "      <td>32370</td>\n",
       "      <td>16185</td>\n",
       "      <td>16185</td>\n",
       "      <td>1</td>\n",
       "      <td>2014</td>\n",
       "    </tr>\n",
       "    <tr>\n",
       "      <th>1</th>\n",
       "      <td>Government</td>\n",
       "      <td>Germany</td>\n",
       "      <td>Carretera</td>\n",
       "      <td>1321.0</td>\n",
       "      <td>3</td>\n",
       "      <td>20</td>\n",
       "      <td>26420</td>\n",
       "      <td>0</td>\n",
       "      <td>26420</td>\n",
       "      <td>13210</td>\n",
       "      <td>13210</td>\n",
       "      <td>1</td>\n",
       "      <td>2014</td>\n",
       "    </tr>\n",
       "    <tr>\n",
       "      <th>2</th>\n",
       "      <td>Midmarket</td>\n",
       "      <td>France</td>\n",
       "      <td>Carretera</td>\n",
       "      <td>2178.0</td>\n",
       "      <td>3</td>\n",
       "      <td>15</td>\n",
       "      <td>32670</td>\n",
       "      <td>0</td>\n",
       "      <td>32670</td>\n",
       "      <td>21780</td>\n",
       "      <td>10890</td>\n",
       "      <td>6</td>\n",
       "      <td>2014</td>\n",
       "    </tr>\n",
       "    <tr>\n",
       "      <th>3</th>\n",
       "      <td>Midmarket</td>\n",
       "      <td>Germany</td>\n",
       "      <td>Carretera</td>\n",
       "      <td>888.0</td>\n",
       "      <td>3</td>\n",
       "      <td>15</td>\n",
       "      <td>13320</td>\n",
       "      <td>0</td>\n",
       "      <td>13320</td>\n",
       "      <td>8880</td>\n",
       "      <td>4440</td>\n",
       "      <td>6</td>\n",
       "      <td>2014</td>\n",
       "    </tr>\n",
       "    <tr>\n",
       "      <th>4</th>\n",
       "      <td>Midmarket</td>\n",
       "      <td>Mexico</td>\n",
       "      <td>Carretera</td>\n",
       "      <td>2470.0</td>\n",
       "      <td>3</td>\n",
       "      <td>15</td>\n",
       "      <td>37050</td>\n",
       "      <td>0</td>\n",
       "      <td>37050</td>\n",
       "      <td>24700</td>\n",
       "      <td>12350</td>\n",
       "      <td>6</td>\n",
       "      <td>2014</td>\n",
       "    </tr>\n",
       "    <tr>\n",
       "      <th>...</th>\n",
       "      <td>...</td>\n",
       "      <td>...</td>\n",
       "      <td>...</td>\n",
       "      <td>...</td>\n",
       "      <td>...</td>\n",
       "      <td>...</td>\n",
       "      <td>...</td>\n",
       "      <td>...</td>\n",
       "      <td>...</td>\n",
       "      <td>...</td>\n",
       "      <td>...</td>\n",
       "      <td>...</td>\n",
       "      <td>...</td>\n",
       "    </tr>\n",
       "    <tr>\n",
       "      <th>695</th>\n",
       "      <td>Small Business</td>\n",
       "      <td>France</td>\n",
       "      <td>Amarilla</td>\n",
       "      <td>2475.0</td>\n",
       "      <td>260</td>\n",
       "      <td>300</td>\n",
       "      <td>$7,42,500.00</td>\n",
       "      <td>$1,11,375.00</td>\n",
       "      <td>$6,31,125.00</td>\n",
       "      <td>$6,18,750.00</td>\n",
       "      <td>12375</td>\n",
       "      <td>3</td>\n",
       "      <td>2014</td>\n",
       "    </tr>\n",
       "    <tr>\n",
       "      <th>696</th>\n",
       "      <td>Small Business</td>\n",
       "      <td>Mexico</td>\n",
       "      <td>Amarilla</td>\n",
       "      <td>546.0</td>\n",
       "      <td>260</td>\n",
       "      <td>300</td>\n",
       "      <td>$1,63,800.00</td>\n",
       "      <td>24570</td>\n",
       "      <td>$1,39,230.00</td>\n",
       "      <td>$1,36,500.00</td>\n",
       "      <td>2730</td>\n",
       "      <td>10</td>\n",
       "      <td>2014</td>\n",
       "    </tr>\n",
       "    <tr>\n",
       "      <th>697</th>\n",
       "      <td>Government</td>\n",
       "      <td>Mexico</td>\n",
       "      <td>Montana</td>\n",
       "      <td>1368.0</td>\n",
       "      <td>5</td>\n",
       "      <td>7</td>\n",
       "      <td>9576</td>\n",
       "      <td>1436.4</td>\n",
       "      <td>8139.6</td>\n",
       "      <td>6840</td>\n",
       "      <td>1299.6</td>\n",
       "      <td>2</td>\n",
       "      <td>2014</td>\n",
       "    </tr>\n",
       "    <tr>\n",
       "      <th>698</th>\n",
       "      <td>Government</td>\n",
       "      <td>Canada</td>\n",
       "      <td>Paseo</td>\n",
       "      <td>723.0</td>\n",
       "      <td>10</td>\n",
       "      <td>7</td>\n",
       "      <td>5061</td>\n",
       "      <td>759.15</td>\n",
       "      <td>4301.85</td>\n",
       "      <td>3615</td>\n",
       "      <td>686.85</td>\n",
       "      <td>4</td>\n",
       "      <td>2014</td>\n",
       "    </tr>\n",
       "    <tr>\n",
       "      <th>699</th>\n",
       "      <td>Channel Partners</td>\n",
       "      <td>United States of America</td>\n",
       "      <td>VTT</td>\n",
       "      <td>1806.0</td>\n",
       "      <td>250</td>\n",
       "      <td>12</td>\n",
       "      <td>21672</td>\n",
       "      <td>3250.8</td>\n",
       "      <td>18421.2</td>\n",
       "      <td>5418</td>\n",
       "      <td>13003.2</td>\n",
       "      <td>5</td>\n",
       "      <td>2014</td>\n",
       "    </tr>\n",
       "  </tbody>\n",
       "</table>\n",
       "<p>700 rows × 13 columns</p>\n",
       "</div>"
      ],
      "text/plain": [
       "              Segment                   Country      Product  Units Sold  \\\n",
       "0          Government                    Canada   Carretera       1618.5   \n",
       "1          Government                   Germany   Carretera       1321.0   \n",
       "2           Midmarket                    France   Carretera       2178.0   \n",
       "3           Midmarket                   Germany   Carretera        888.0   \n",
       "4           Midmarket                    Mexico   Carretera       2470.0   \n",
       "..                ...                       ...          ...         ...   \n",
       "695    Small Business                    France    Amarilla       2475.0   \n",
       "696    Small Business                    Mexico    Amarilla        546.0   \n",
       "697        Government                    Mexico     Montana       1368.0   \n",
       "698        Government                    Canada       Paseo        723.0   \n",
       "699  Channel Partners  United States of America         VTT       1806.0   \n",
       "\n",
       "     Manufacturing Price  Sale Price     Gross Sales       Discounts  \\\n",
       "0                      3          20           32370               0   \n",
       "1                      3          20           26420               0   \n",
       "2                      3          15           32670               0   \n",
       "3                      3          15           13320               0   \n",
       "4                      3          15           37050               0   \n",
       "..                   ...         ...             ...             ...   \n",
       "695                  260         300   $7,42,500.00    $1,11,375.00    \n",
       "696                  260         300   $1,63,800.00            24570   \n",
       "697                    5           7            9576          1436.4   \n",
       "698                   10           7            5061          759.15   \n",
       "699                  250          12           21672          3250.8   \n",
       "\n",
       "              Sales            COGS   Profit  Month Number  Year  \n",
       "0             32370           16185    16185             1  2014  \n",
       "1             26420           13210    13210             1  2014  \n",
       "2             32670           21780    10890             6  2014  \n",
       "3             13320            8880     4440             6  2014  \n",
       "4             37050           24700    12350             6  2014  \n",
       "..              ...             ...      ...           ...   ...  \n",
       "695   $6,31,125.00    $6,18,750.00     12375             3  2014  \n",
       "696   $1,39,230.00    $1,36,500.00      2730            10  2014  \n",
       "697          8139.6            6840   1299.6             2  2014  \n",
       "698         4301.85            3615   686.85             4  2014  \n",
       "699         18421.2            5418  13003.2             5  2014  \n",
       "\n",
       "[700 rows x 13 columns]"
      ]
     },
     "execution_count": 140,
     "metadata": {},
     "output_type": "execute_result"
    }
   ],
   "source": [
    "# Quitar columnas irrelevantes para predecir nuestras utilidades\n",
    "data = data.drop(columns=['Discount Band','Date','Month Name'])\n",
    "data"
   ]
  },
  {
   "cell_type": "code",
   "execution_count": 141,
   "id": "e313b82e1c3236",
   "metadata": {
    "ExecuteTime": {
     "end_time": "2025-09-29T19:26:55.508827Z",
     "start_time": "2025-09-29T19:26:55.499443Z"
    }
   },
   "outputs": [
    {
     "name": "stderr",
     "output_type": "stream",
     "text": [
      "<>:5: SyntaxWarning: invalid escape sequence '\\$'\n",
      "<>:5: SyntaxWarning: invalid escape sequence '\\$'\n",
      "/var/folders/20/xvvxf3fd0bsc8mhjgvpylzzc0000gn/T/ipykernel_26309/3704823260.py:5: SyntaxWarning: invalid escape sequence '\\$'\n",
      "  data[cols_a_convertir] = data[cols_a_convertir].replace('[\\$,]', '', regex=True).astype(float)\n"
     ]
    },
    {
     "data": {
      "text/html": [
       "<div>\n",
       "<style scoped>\n",
       "    .dataframe tbody tr th:only-of-type {\n",
       "        vertical-align: middle;\n",
       "    }\n",
       "\n",
       "    .dataframe tbody tr th {\n",
       "        vertical-align: top;\n",
       "    }\n",
       "\n",
       "    .dataframe thead th {\n",
       "        text-align: right;\n",
       "    }\n",
       "</style>\n",
       "<table border=\"1\" class=\"dataframe\">\n",
       "  <thead>\n",
       "    <tr style=\"text-align: right;\">\n",
       "      <th></th>\n",
       "      <th>Segment</th>\n",
       "      <th>Country</th>\n",
       "      <th>Product</th>\n",
       "      <th>Units Sold</th>\n",
       "      <th>Manufacturing Price</th>\n",
       "      <th>Sale Price</th>\n",
       "      <th>Gross Sales</th>\n",
       "      <th>Discounts</th>\n",
       "      <th>Sales</th>\n",
       "      <th>COGS</th>\n",
       "      <th>Profit</th>\n",
       "      <th>Month Number</th>\n",
       "      <th>Year</th>\n",
       "    </tr>\n",
       "  </thead>\n",
       "  <tbody>\n",
       "    <tr>\n",
       "      <th>0</th>\n",
       "      <td>Government</td>\n",
       "      <td>Canada</td>\n",
       "      <td>Carretera</td>\n",
       "      <td>1618.5</td>\n",
       "      <td>3.0</td>\n",
       "      <td>20.0</td>\n",
       "      <td>32370.0</td>\n",
       "      <td>0.00</td>\n",
       "      <td>32370.00</td>\n",
       "      <td>16185.0</td>\n",
       "      <td>16185.00</td>\n",
       "      <td>1</td>\n",
       "      <td>2014</td>\n",
       "    </tr>\n",
       "    <tr>\n",
       "      <th>1</th>\n",
       "      <td>Government</td>\n",
       "      <td>Germany</td>\n",
       "      <td>Carretera</td>\n",
       "      <td>1321.0</td>\n",
       "      <td>3.0</td>\n",
       "      <td>20.0</td>\n",
       "      <td>26420.0</td>\n",
       "      <td>0.00</td>\n",
       "      <td>26420.00</td>\n",
       "      <td>13210.0</td>\n",
       "      <td>13210.00</td>\n",
       "      <td>1</td>\n",
       "      <td>2014</td>\n",
       "    </tr>\n",
       "    <tr>\n",
       "      <th>2</th>\n",
       "      <td>Midmarket</td>\n",
       "      <td>France</td>\n",
       "      <td>Carretera</td>\n",
       "      <td>2178.0</td>\n",
       "      <td>3.0</td>\n",
       "      <td>15.0</td>\n",
       "      <td>32670.0</td>\n",
       "      <td>0.00</td>\n",
       "      <td>32670.00</td>\n",
       "      <td>21780.0</td>\n",
       "      <td>10890.00</td>\n",
       "      <td>6</td>\n",
       "      <td>2014</td>\n",
       "    </tr>\n",
       "    <tr>\n",
       "      <th>3</th>\n",
       "      <td>Midmarket</td>\n",
       "      <td>Germany</td>\n",
       "      <td>Carretera</td>\n",
       "      <td>888.0</td>\n",
       "      <td>3.0</td>\n",
       "      <td>15.0</td>\n",
       "      <td>13320.0</td>\n",
       "      <td>0.00</td>\n",
       "      <td>13320.00</td>\n",
       "      <td>8880.0</td>\n",
       "      <td>4440.00</td>\n",
       "      <td>6</td>\n",
       "      <td>2014</td>\n",
       "    </tr>\n",
       "    <tr>\n",
       "      <th>4</th>\n",
       "      <td>Midmarket</td>\n",
       "      <td>Mexico</td>\n",
       "      <td>Carretera</td>\n",
       "      <td>2470.0</td>\n",
       "      <td>3.0</td>\n",
       "      <td>15.0</td>\n",
       "      <td>37050.0</td>\n",
       "      <td>0.00</td>\n",
       "      <td>37050.00</td>\n",
       "      <td>24700.0</td>\n",
       "      <td>12350.00</td>\n",
       "      <td>6</td>\n",
       "      <td>2014</td>\n",
       "    </tr>\n",
       "    <tr>\n",
       "      <th>...</th>\n",
       "      <td>...</td>\n",
       "      <td>...</td>\n",
       "      <td>...</td>\n",
       "      <td>...</td>\n",
       "      <td>...</td>\n",
       "      <td>...</td>\n",
       "      <td>...</td>\n",
       "      <td>...</td>\n",
       "      <td>...</td>\n",
       "      <td>...</td>\n",
       "      <td>...</td>\n",
       "      <td>...</td>\n",
       "      <td>...</td>\n",
       "    </tr>\n",
       "    <tr>\n",
       "      <th>695</th>\n",
       "      <td>Small Business</td>\n",
       "      <td>France</td>\n",
       "      <td>Amarilla</td>\n",
       "      <td>2475.0</td>\n",
       "      <td>260.0</td>\n",
       "      <td>300.0</td>\n",
       "      <td>742500.0</td>\n",
       "      <td>111375.00</td>\n",
       "      <td>631125.00</td>\n",
       "      <td>618750.0</td>\n",
       "      <td>12375.00</td>\n",
       "      <td>3</td>\n",
       "      <td>2014</td>\n",
       "    </tr>\n",
       "    <tr>\n",
       "      <th>696</th>\n",
       "      <td>Small Business</td>\n",
       "      <td>Mexico</td>\n",
       "      <td>Amarilla</td>\n",
       "      <td>546.0</td>\n",
       "      <td>260.0</td>\n",
       "      <td>300.0</td>\n",
       "      <td>163800.0</td>\n",
       "      <td>24570.00</td>\n",
       "      <td>139230.00</td>\n",
       "      <td>136500.0</td>\n",
       "      <td>2730.00</td>\n",
       "      <td>10</td>\n",
       "      <td>2014</td>\n",
       "    </tr>\n",
       "    <tr>\n",
       "      <th>697</th>\n",
       "      <td>Government</td>\n",
       "      <td>Mexico</td>\n",
       "      <td>Montana</td>\n",
       "      <td>1368.0</td>\n",
       "      <td>5.0</td>\n",
       "      <td>7.0</td>\n",
       "      <td>9576.0</td>\n",
       "      <td>1436.40</td>\n",
       "      <td>8139.60</td>\n",
       "      <td>6840.0</td>\n",
       "      <td>1299.60</td>\n",
       "      <td>2</td>\n",
       "      <td>2014</td>\n",
       "    </tr>\n",
       "    <tr>\n",
       "      <th>698</th>\n",
       "      <td>Government</td>\n",
       "      <td>Canada</td>\n",
       "      <td>Paseo</td>\n",
       "      <td>723.0</td>\n",
       "      <td>10.0</td>\n",
       "      <td>7.0</td>\n",
       "      <td>5061.0</td>\n",
       "      <td>759.15</td>\n",
       "      <td>4301.85</td>\n",
       "      <td>3615.0</td>\n",
       "      <td>686.85</td>\n",
       "      <td>4</td>\n",
       "      <td>2014</td>\n",
       "    </tr>\n",
       "    <tr>\n",
       "      <th>699</th>\n",
       "      <td>Channel Partners</td>\n",
       "      <td>United States of America</td>\n",
       "      <td>VTT</td>\n",
       "      <td>1806.0</td>\n",
       "      <td>250.0</td>\n",
       "      <td>12.0</td>\n",
       "      <td>21672.0</td>\n",
       "      <td>3250.80</td>\n",
       "      <td>18421.20</td>\n",
       "      <td>5418.0</td>\n",
       "      <td>13003.20</td>\n",
       "      <td>5</td>\n",
       "      <td>2014</td>\n",
       "    </tr>\n",
       "  </tbody>\n",
       "</table>\n",
       "<p>700 rows × 13 columns</p>\n",
       "</div>"
      ],
      "text/plain": [
       "              Segment                   Country      Product  Units Sold  \\\n",
       "0          Government                    Canada   Carretera       1618.5   \n",
       "1          Government                   Germany   Carretera       1321.0   \n",
       "2           Midmarket                    France   Carretera       2178.0   \n",
       "3           Midmarket                   Germany   Carretera        888.0   \n",
       "4           Midmarket                    Mexico   Carretera       2470.0   \n",
       "..                ...                       ...          ...         ...   \n",
       "695    Small Business                    France    Amarilla       2475.0   \n",
       "696    Small Business                    Mexico    Amarilla        546.0   \n",
       "697        Government                    Mexico     Montana       1368.0   \n",
       "698        Government                    Canada       Paseo        723.0   \n",
       "699  Channel Partners  United States of America         VTT       1806.0   \n",
       "\n",
       "     Manufacturing Price  Sale Price  Gross Sales  Discounts      Sales  \\\n",
       "0                    3.0        20.0      32370.0       0.00   32370.00   \n",
       "1                    3.0        20.0      26420.0       0.00   26420.00   \n",
       "2                    3.0        15.0      32670.0       0.00   32670.00   \n",
       "3                    3.0        15.0      13320.0       0.00   13320.00   \n",
       "4                    3.0        15.0      37050.0       0.00   37050.00   \n",
       "..                   ...         ...          ...        ...        ...   \n",
       "695                260.0       300.0     742500.0  111375.00  631125.00   \n",
       "696                260.0       300.0     163800.0   24570.00  139230.00   \n",
       "697                  5.0         7.0       9576.0    1436.40    8139.60   \n",
       "698                 10.0         7.0       5061.0     759.15    4301.85   \n",
       "699                250.0        12.0      21672.0    3250.80   18421.20   \n",
       "\n",
       "         COGS    Profit  Month Number  Year  \n",
       "0     16185.0  16185.00             1  2014  \n",
       "1     13210.0  13210.00             1  2014  \n",
       "2     21780.0  10890.00             6  2014  \n",
       "3      8880.0   4440.00             6  2014  \n",
       "4     24700.0  12350.00             6  2014  \n",
       "..        ...       ...           ...   ...  \n",
       "695  618750.0  12375.00             3  2014  \n",
       "696  136500.0   2730.00            10  2014  \n",
       "697    6840.0   1299.60             2  2014  \n",
       "698    3615.0    686.85             4  2014  \n",
       "699    5418.0  13003.20             5  2014  \n",
       "\n",
       "[700 rows x 13 columns]"
      ]
     },
     "execution_count": 141,
     "metadata": {},
     "output_type": "execute_result"
    }
   ],
   "source": [
    "# Quitamos las comas y signos de las columnas\n",
    "cols_a_convertir = ['Units Sold', 'Manufacturing Price', 'Sale Price', 'Gross Sales','Sales','COGS','Profit','Discounts']\n",
    "\n",
    "# Reemplazamos $ y comas en todas las columnas seleccionadas\n",
    "data[cols_a_convertir] = data[cols_a_convertir].replace('[\\$,]', '', regex=True).astype(float)\n",
    "data"
   ]
  },
  {
   "cell_type": "code",
   "execution_count": 142,
   "id": "6663f1db0dafb9dd",
   "metadata": {
    "ExecuteTime": {
     "end_time": "2025-09-29T19:26:55.625197Z",
     "start_time": "2025-09-29T19:26:55.614201Z"
    }
   },
   "outputs": [
    {
     "data": {
      "text/html": [
       "<div>\n",
       "<style scoped>\n",
       "    .dataframe tbody tr th:only-of-type {\n",
       "        vertical-align: middle;\n",
       "    }\n",
       "\n",
       "    .dataframe tbody tr th {\n",
       "        vertical-align: top;\n",
       "    }\n",
       "\n",
       "    .dataframe thead th {\n",
       "        text-align: right;\n",
       "    }\n",
       "</style>\n",
       "<table border=\"1\" class=\"dataframe\">\n",
       "  <thead>\n",
       "    <tr style=\"text-align: right;\">\n",
       "      <th></th>\n",
       "      <th>Units Sold</th>\n",
       "      <th>Manufacturing Price</th>\n",
       "      <th>Sale Price</th>\n",
       "      <th>Gross Sales</th>\n",
       "      <th>Discounts</th>\n",
       "      <th>Sales</th>\n",
       "      <th>COGS</th>\n",
       "      <th>Profit</th>\n",
       "      <th>Month Number</th>\n",
       "      <th>Year</th>\n",
       "    </tr>\n",
       "  </thead>\n",
       "  <tbody>\n",
       "    <tr>\n",
       "      <th>count</th>\n",
       "      <td>700.000000</td>\n",
       "      <td>700.000000</td>\n",
       "      <td>700.000000</td>\n",
       "      <td>7.000000e+02</td>\n",
       "      <td>700.000000</td>\n",
       "      <td>7.000000e+02</td>\n",
       "      <td>700.000000</td>\n",
       "      <td>700.000000</td>\n",
       "      <td>700.000000</td>\n",
       "      <td>700.000000</td>\n",
       "    </tr>\n",
       "    <tr>\n",
       "      <th>mean</th>\n",
       "      <td>1608.294286</td>\n",
       "      <td>96.477143</td>\n",
       "      <td>118.428571</td>\n",
       "      <td>1.827594e+05</td>\n",
       "      <td>13150.354671</td>\n",
       "      <td>1.696091e+05</td>\n",
       "      <td>145475.211429</td>\n",
       "      <td>24133.860414</td>\n",
       "      <td>7.900000</td>\n",
       "      <td>2013.750000</td>\n",
       "    </tr>\n",
       "    <tr>\n",
       "      <th>std</th>\n",
       "      <td>867.427859</td>\n",
       "      <td>108.602612</td>\n",
       "      <td>136.775515</td>\n",
       "      <td>2.542623e+05</td>\n",
       "      <td>22962.928760</td>\n",
       "      <td>2.367263e+05</td>\n",
       "      <td>203865.506118</td>\n",
       "      <td>42760.626547</td>\n",
       "      <td>3.377321</td>\n",
       "      <td>0.433322</td>\n",
       "    </tr>\n",
       "    <tr>\n",
       "      <th>min</th>\n",
       "      <td>200.000000</td>\n",
       "      <td>3.000000</td>\n",
       "      <td>7.000000</td>\n",
       "      <td>1.799000e+03</td>\n",
       "      <td>0.000000</td>\n",
       "      <td>1.655080e+03</td>\n",
       "      <td>918.000000</td>\n",
       "      <td>-40617.500000</td>\n",
       "      <td>1.000000</td>\n",
       "      <td>2013.000000</td>\n",
       "    </tr>\n",
       "    <tr>\n",
       "      <th>25%</th>\n",
       "      <td>905.000000</td>\n",
       "      <td>5.000000</td>\n",
       "      <td>12.000000</td>\n",
       "      <td>1.739175e+04</td>\n",
       "      <td>800.320000</td>\n",
       "      <td>1.592800e+04</td>\n",
       "      <td>7490.000000</td>\n",
       "      <td>2805.960000</td>\n",
       "      <td>5.750000</td>\n",
       "      <td>2013.750000</td>\n",
       "    </tr>\n",
       "    <tr>\n",
       "      <th>50%</th>\n",
       "      <td>1542.500000</td>\n",
       "      <td>10.000000</td>\n",
       "      <td>20.000000</td>\n",
       "      <td>3.798000e+04</td>\n",
       "      <td>2585.250000</td>\n",
       "      <td>3.554020e+04</td>\n",
       "      <td>22506.250000</td>\n",
       "      <td>9242.200000</td>\n",
       "      <td>9.000000</td>\n",
       "      <td>2014.000000</td>\n",
       "    </tr>\n",
       "    <tr>\n",
       "      <th>75%</th>\n",
       "      <td>2229.125000</td>\n",
       "      <td>250.000000</td>\n",
       "      <td>300.000000</td>\n",
       "      <td>2.790250e+05</td>\n",
       "      <td>15956.347500</td>\n",
       "      <td>2.610775e+05</td>\n",
       "      <td>245607.500000</td>\n",
       "      <td>22662.000000</td>\n",
       "      <td>10.250000</td>\n",
       "      <td>2014.000000</td>\n",
       "    </tr>\n",
       "    <tr>\n",
       "      <th>max</th>\n",
       "      <td>4492.500000</td>\n",
       "      <td>260.000000</td>\n",
       "      <td>350.000000</td>\n",
       "      <td>1.207500e+06</td>\n",
       "      <td>149677.500000</td>\n",
       "      <td>1.159200e+06</td>\n",
       "      <td>950625.000000</td>\n",
       "      <td>262200.000000</td>\n",
       "      <td>12.000000</td>\n",
       "      <td>2014.000000</td>\n",
       "    </tr>\n",
       "  </tbody>\n",
       "</table>\n",
       "</div>"
      ],
      "text/plain": [
       "        Units Sold  Manufacturing Price  Sale Price   Gross Sales  \\\n",
       "count   700.000000           700.000000  700.000000  7.000000e+02   \n",
       "mean   1608.294286            96.477143  118.428571  1.827594e+05   \n",
       "std     867.427859           108.602612  136.775515  2.542623e+05   \n",
       "min     200.000000             3.000000    7.000000  1.799000e+03   \n",
       "25%     905.000000             5.000000   12.000000  1.739175e+04   \n",
       "50%    1542.500000            10.000000   20.000000  3.798000e+04   \n",
       "75%    2229.125000           250.000000  300.000000  2.790250e+05   \n",
       "max    4492.500000           260.000000  350.000000  1.207500e+06   \n",
       "\n",
       "           Discounts         Sales           COGS         Profit  \\\n",
       "count     700.000000  7.000000e+02     700.000000     700.000000   \n",
       "mean    13150.354671  1.696091e+05  145475.211429   24133.860414   \n",
       "std     22962.928760  2.367263e+05  203865.506118   42760.626547   \n",
       "min         0.000000  1.655080e+03     918.000000  -40617.500000   \n",
       "25%       800.320000  1.592800e+04    7490.000000    2805.960000   \n",
       "50%      2585.250000  3.554020e+04   22506.250000    9242.200000   \n",
       "75%     15956.347500  2.610775e+05  245607.500000   22662.000000   \n",
       "max    149677.500000  1.159200e+06  950625.000000  262200.000000   \n",
       "\n",
       "       Month Number         Year  \n",
       "count    700.000000   700.000000  \n",
       "mean       7.900000  2013.750000  \n",
       "std        3.377321     0.433322  \n",
       "min        1.000000  2013.000000  \n",
       "25%        5.750000  2013.750000  \n",
       "50%        9.000000  2014.000000  \n",
       "75%       10.250000  2014.000000  \n",
       "max       12.000000  2014.000000  "
      ]
     },
     "execution_count": 142,
     "metadata": {},
     "output_type": "execute_result"
    }
   ],
   "source": [
    "data.describe()"
   ]
  },
  {
   "cell_type": "code",
   "execution_count": 143,
   "id": "d47466801367d09e",
   "metadata": {
    "ExecuteTime": {
     "end_time": "2025-09-29T19:26:55.808662Z",
     "start_time": "2025-09-29T19:26:55.804924Z"
    }
   },
   "outputs": [
    {
     "data": {
      "text/plain": [
       "Country\n",
       "Canada                      140\n",
       "Germany                     140\n",
       "France                      140\n",
       "Mexico                      140\n",
       "United States of America    140\n",
       "Name: count, dtype: int64"
      ]
     },
     "execution_count": 143,
     "metadata": {},
     "output_type": "execute_result"
    }
   ],
   "source": [
    "# Analizamos si nos conviene convertir la variable de países a una de región\n",
    "data['Country'].value_counts()"
   ]
  },
  {
   "cell_type": "code",
   "execution_count": null,
   "id": "d05656fe-03a0-4659-b07b-e7ba7f9cbb6c",
   "metadata": {
    "ExecuteTime": {
     "end_time": "2025-09-29T19:26:55.907299Z",
     "start_time": "2025-09-29T19:26:55.905764Z"
    }
   },
   "outputs": [],
   "source": []
  },
  {
   "cell_type": "code",
   "execution_count": 144,
   "id": "11a4e08d-6f65-4019-b345-e51f484682f2",
   "metadata": {
    "ExecuteTime": {
     "end_time": "2025-09-29T19:26:55.952559Z",
     "start_time": "2025-09-29T19:26:55.940748Z"
    }
   },
   "outputs": [
    {
     "data": {
      "text/html": [
       "<div>\n",
       "<style scoped>\n",
       "    .dataframe tbody tr th:only-of-type {\n",
       "        vertical-align: middle;\n",
       "    }\n",
       "\n",
       "    .dataframe tbody tr th {\n",
       "        vertical-align: top;\n",
       "    }\n",
       "\n",
       "    .dataframe thead th {\n",
       "        text-align: right;\n",
       "    }\n",
       "</style>\n",
       "<table border=\"1\" class=\"dataframe\">\n",
       "  <thead>\n",
       "    <tr style=\"text-align: right;\">\n",
       "      <th></th>\n",
       "      <th>Units Sold</th>\n",
       "      <th>Manufacturing Price</th>\n",
       "      <th>Sale Price</th>\n",
       "      <th>Gross Sales</th>\n",
       "      <th>Discounts</th>\n",
       "      <th>Sales</th>\n",
       "      <th>COGS</th>\n",
       "      <th>Profit</th>\n",
       "      <th>Month Number</th>\n",
       "      <th>Year</th>\n",
       "      <th>...</th>\n",
       "      <th>Segment_Small Business</th>\n",
       "      <th>Country_France</th>\n",
       "      <th>Country_Germany</th>\n",
       "      <th>Country_Mexico</th>\n",
       "      <th>Country_United States of America</th>\n",
       "      <th>Product_ Carretera</th>\n",
       "      <th>Product_ Montana</th>\n",
       "      <th>Product_ Paseo</th>\n",
       "      <th>Product_ VTT</th>\n",
       "      <th>Product_ Velo</th>\n",
       "    </tr>\n",
       "  </thead>\n",
       "  <tbody>\n",
       "    <tr>\n",
       "      <th>0</th>\n",
       "      <td>1618.5</td>\n",
       "      <td>3.0</td>\n",
       "      <td>20.0</td>\n",
       "      <td>32370.0</td>\n",
       "      <td>0.0</td>\n",
       "      <td>32370.0</td>\n",
       "      <td>16185.0</td>\n",
       "      <td>16185.0</td>\n",
       "      <td>1.0</td>\n",
       "      <td>2014.0</td>\n",
       "      <td>...</td>\n",
       "      <td>0.0</td>\n",
       "      <td>0.0</td>\n",
       "      <td>0.0</td>\n",
       "      <td>0.0</td>\n",
       "      <td>0.0</td>\n",
       "      <td>1.0</td>\n",
       "      <td>0.0</td>\n",
       "      <td>0.0</td>\n",
       "      <td>0.0</td>\n",
       "      <td>0.0</td>\n",
       "    </tr>\n",
       "    <tr>\n",
       "      <th>1</th>\n",
       "      <td>1321.0</td>\n",
       "      <td>3.0</td>\n",
       "      <td>20.0</td>\n",
       "      <td>26420.0</td>\n",
       "      <td>0.0</td>\n",
       "      <td>26420.0</td>\n",
       "      <td>13210.0</td>\n",
       "      <td>13210.0</td>\n",
       "      <td>1.0</td>\n",
       "      <td>2014.0</td>\n",
       "      <td>...</td>\n",
       "      <td>0.0</td>\n",
       "      <td>0.0</td>\n",
       "      <td>1.0</td>\n",
       "      <td>0.0</td>\n",
       "      <td>0.0</td>\n",
       "      <td>1.0</td>\n",
       "      <td>0.0</td>\n",
       "      <td>0.0</td>\n",
       "      <td>0.0</td>\n",
       "      <td>0.0</td>\n",
       "    </tr>\n",
       "    <tr>\n",
       "      <th>2</th>\n",
       "      <td>2178.0</td>\n",
       "      <td>3.0</td>\n",
       "      <td>15.0</td>\n",
       "      <td>32670.0</td>\n",
       "      <td>0.0</td>\n",
       "      <td>32670.0</td>\n",
       "      <td>21780.0</td>\n",
       "      <td>10890.0</td>\n",
       "      <td>6.0</td>\n",
       "      <td>2014.0</td>\n",
       "      <td>...</td>\n",
       "      <td>0.0</td>\n",
       "      <td>1.0</td>\n",
       "      <td>0.0</td>\n",
       "      <td>0.0</td>\n",
       "      <td>0.0</td>\n",
       "      <td>1.0</td>\n",
       "      <td>0.0</td>\n",
       "      <td>0.0</td>\n",
       "      <td>0.0</td>\n",
       "      <td>0.0</td>\n",
       "    </tr>\n",
       "    <tr>\n",
       "      <th>3</th>\n",
       "      <td>888.0</td>\n",
       "      <td>3.0</td>\n",
       "      <td>15.0</td>\n",
       "      <td>13320.0</td>\n",
       "      <td>0.0</td>\n",
       "      <td>13320.0</td>\n",
       "      <td>8880.0</td>\n",
       "      <td>4440.0</td>\n",
       "      <td>6.0</td>\n",
       "      <td>2014.0</td>\n",
       "      <td>...</td>\n",
       "      <td>0.0</td>\n",
       "      <td>0.0</td>\n",
       "      <td>1.0</td>\n",
       "      <td>0.0</td>\n",
       "      <td>0.0</td>\n",
       "      <td>1.0</td>\n",
       "      <td>0.0</td>\n",
       "      <td>0.0</td>\n",
       "      <td>0.0</td>\n",
       "      <td>0.0</td>\n",
       "    </tr>\n",
       "    <tr>\n",
       "      <th>4</th>\n",
       "      <td>2470.0</td>\n",
       "      <td>3.0</td>\n",
       "      <td>15.0</td>\n",
       "      <td>37050.0</td>\n",
       "      <td>0.0</td>\n",
       "      <td>37050.0</td>\n",
       "      <td>24700.0</td>\n",
       "      <td>12350.0</td>\n",
       "      <td>6.0</td>\n",
       "      <td>2014.0</td>\n",
       "      <td>...</td>\n",
       "      <td>0.0</td>\n",
       "      <td>0.0</td>\n",
       "      <td>0.0</td>\n",
       "      <td>1.0</td>\n",
       "      <td>0.0</td>\n",
       "      <td>1.0</td>\n",
       "      <td>0.0</td>\n",
       "      <td>0.0</td>\n",
       "      <td>0.0</td>\n",
       "      <td>0.0</td>\n",
       "    </tr>\n",
       "  </tbody>\n",
       "</table>\n",
       "<p>5 rows × 23 columns</p>\n",
       "</div>"
      ],
      "text/plain": [
       "   Units Sold  Manufacturing Price  Sale Price  Gross Sales  Discounts  \\\n",
       "0      1618.5                  3.0        20.0      32370.0        0.0   \n",
       "1      1321.0                  3.0        20.0      26420.0        0.0   \n",
       "2      2178.0                  3.0        15.0      32670.0        0.0   \n",
       "3       888.0                  3.0        15.0      13320.0        0.0   \n",
       "4      2470.0                  3.0        15.0      37050.0        0.0   \n",
       "\n",
       "     Sales     COGS   Profit  Month Number    Year  ...  \\\n",
       "0  32370.0  16185.0  16185.0           1.0  2014.0  ...   \n",
       "1  26420.0  13210.0  13210.0           1.0  2014.0  ...   \n",
       "2  32670.0  21780.0  10890.0           6.0  2014.0  ...   \n",
       "3  13320.0   8880.0   4440.0           6.0  2014.0  ...   \n",
       "4  37050.0  24700.0  12350.0           6.0  2014.0  ...   \n",
       "\n",
       "   Segment_Small Business  Country_France  Country_Germany  Country_Mexico  \\\n",
       "0                     0.0             0.0              0.0             0.0   \n",
       "1                     0.0             0.0              1.0             0.0   \n",
       "2                     0.0             1.0              0.0             0.0   \n",
       "3                     0.0             0.0              1.0             0.0   \n",
       "4                     0.0             0.0              0.0             1.0   \n",
       "\n",
       "   Country_United States of America  Product_ Carretera   Product_ Montana   \\\n",
       "0                               0.0                  1.0                0.0   \n",
       "1                               0.0                  1.0                0.0   \n",
       "2                               0.0                  1.0                0.0   \n",
       "3                               0.0                  1.0                0.0   \n",
       "4                               0.0                  1.0                0.0   \n",
       "\n",
       "   Product_ Paseo   Product_ VTT   Product_ Velo   \n",
       "0              0.0            0.0             0.0  \n",
       "1              0.0            0.0             0.0  \n",
       "2              0.0            0.0             0.0  \n",
       "3              0.0            0.0             0.0  \n",
       "4              0.0            0.0             0.0  \n",
       "\n",
       "[5 rows x 23 columns]"
      ]
     },
     "execution_count": 144,
     "metadata": {},
     "output_type": "execute_result"
    }
   ],
   "source": [
    "# Podemos seguir trabajando con países, ya que no hay muchos, no es necesario agruparlos por regiones\n",
    "# Ahora continuamos con la preparación de nuestros datos, convertimos las variables categóricas Segment, Country, Product a numéricas (dummies)\n",
    "data = pd.get_dummies(data, columns=['Segment', 'Country', 'Product'], drop_first=True).astype(float)\n",
    "data.head()"
   ]
  },
  {
   "cell_type": "code",
   "execution_count": 145,
   "id": "a70ff291",
   "metadata": {
    "ExecuteTime": {
     "end_time": "2025-09-29T19:26:55.997809Z",
     "start_time": "2025-09-29T19:26:55.993476Z"
    },
    "scrolled": true
   },
   "outputs": [
    {
     "name": "stdout",
     "output_type": "stream",
     "text": [
      "<class 'pandas.core.frame.DataFrame'>\n",
      "RangeIndex: 700 entries, 0 to 699\n",
      "Data columns (total 23 columns):\n",
      " #   Column                            Non-Null Count  Dtype  \n",
      "---  ------                            --------------  -----  \n",
      " 0   Units Sold                        700 non-null    float64\n",
      " 1   Manufacturing Price               700 non-null    float64\n",
      " 2   Sale Price                        700 non-null    float64\n",
      " 3   Gross Sales                       700 non-null    float64\n",
      " 4   Discounts                         700 non-null    float64\n",
      " 5   Sales                             700 non-null    float64\n",
      " 6   COGS                              700 non-null    float64\n",
      " 7   Profit                            700 non-null    float64\n",
      " 8   Month Number                      700 non-null    float64\n",
      " 9   Year                              700 non-null    float64\n",
      " 10  Segment_Enterprise                700 non-null    float64\n",
      " 11  Segment_Government                700 non-null    float64\n",
      " 12  Segment_Midmarket                 700 non-null    float64\n",
      " 13  Segment_Small Business            700 non-null    float64\n",
      " 14  Country_France                    700 non-null    float64\n",
      " 15  Country_Germany                   700 non-null    float64\n",
      " 16  Country_Mexico                    700 non-null    float64\n",
      " 17  Country_United States of America  700 non-null    float64\n",
      " 18  Product_ Carretera                700 non-null    float64\n",
      " 19  Product_ Montana                  700 non-null    float64\n",
      " 20  Product_ Paseo                    700 non-null    float64\n",
      " 21  Product_ VTT                      700 non-null    float64\n",
      " 22  Product_ Velo                     700 non-null    float64\n",
      "dtypes: float64(23)\n",
      "memory usage: 125.9 KB\n"
     ]
    }
   ],
   "source": [
    "data.info()"
   ]
  },
  {
   "cell_type": "markdown",
   "id": "7ee2466c",
   "metadata": {},
   "source": [
    "---\n",
    "## Modelo propuesto\n",
    "Los 3 modelos distintos para comparar entre ellos serán:\n",
    "\n",
    "- 1. Lineal Múltiple (relación directa de costos y ventas)\n",
    "- 2. Polinomial (grado 2)\n",
    "- 3. Lineal Múltiple usando Precio Efectivo (variale obtenida)\n",
    "\n",
    "Cada modelo tendrá 4 versiones: sin penalización, Ridge, Lasso, y ElasticNet."
   ]
  },
  {
   "cell_type": "markdown",
   "id": "b779f4cc-52cf-4dbc-8fbb-b286e749a63a",
   "metadata": {},
   "source": [
    "---\n",
    "### 1. Lineal Múltiple (relación directa de costos y ventas)"
   ]
  },
  {
   "cell_type": "markdown",
   "id": "84516e96-8270-45e3-a20b-bed3dd080900",
   "metadata": {},
   "source": [
    "### Sin Penalización"
   ]
  },
  {
   "cell_type": "code",
   "execution_count": 146,
   "id": "1ce999ef-f97e-4847-a08a-9caafbcc6323",
   "metadata": {
    "ExecuteTime": {
     "end_time": "2025-09-29T19:26:56.071672Z",
     "start_time": "2025-09-29T19:26:56.069852Z"
    }
   },
   "outputs": [],
   "source": [
    "import numpy as np\n",
    "import pandas as pd\n",
    "from sklearn.linear_model import LinearRegression\n",
    "from sklearn.metrics import r2_score\n",
    "import statsmodels.api as sm\n",
    "from scipy import stats\n",
    "from sklearn.model_selection import train_test_split\n",
    "from sklearn.linear_model import LinearRegression, Ridge, Lasso, ElasticNet"
   ]
  },
  {
   "cell_type": "markdown",
   "id": "3c84876e-2924-491e-a681-567dbea9e14a",
   "metadata": {},
   "source": [
    "## Creación del modelo (Seleccionar \"x\" y \"y\")"
   ]
  },
  {
   "cell_type": "code",
   "execution_count": 147,
   "id": "863780cc-3e42-478e-9fb5-c826db933c5f",
   "metadata": {
    "ExecuteTime": {
     "end_time": "2025-09-29T19:26:56.107605Z",
     "start_time": "2025-09-29T19:26:56.104805Z"
    }
   },
   "outputs": [],
   "source": [
    "y = data[\"Profit\"]\n",
    "x = data.drop(columns=[\"Profit\"])"
   ]
  },
  {
   "cell_type": "code",
   "execution_count": 148,
   "id": "bcf130cb-1451-49b5-b3f3-0acef2388d26",
   "metadata": {
    "ExecuteTime": {
     "end_time": "2025-09-29T19:26:56.126061Z",
     "start_time": "2025-09-29T19:26:56.124156Z"
    }
   },
   "outputs": [],
   "source": [
    "n = len(data)"
   ]
  },
  {
   "cell_type": "markdown",
   "id": "ff33461f-addc-4eb2-897f-a4f99196b02b",
   "metadata": {},
   "source": [
    "## Cross Validation (Train-Test split)"
   ]
  },
  {
   "cell_type": "code",
   "execution_count": 149,
   "id": "8ee5a04e-95a2-4992-a12b-a65e8211c5c9",
   "metadata": {
    "ExecuteTime": {
     "end_time": "2025-09-29T19:26:56.142272Z",
     "start_time": "2025-09-29T19:26:56.134050Z"
    }
   },
   "outputs": [],
   "source": [
    "x_train, x_test, y_train, y_test = train_test_split(x, y, train_size = 0.4, random_state = 137)"
   ]
  },
  {
   "cell_type": "markdown",
   "id": "5cc5877b-747c-4ac1-a6de-3c548a4161fa",
   "metadata": {},
   "source": [
    "#### Escalamiento"
   ]
  },
  {
   "cell_type": "code",
   "execution_count": 150,
   "id": "b1f62959-4028-4263-9d62-c0b494ce42db",
   "metadata": {
    "ExecuteTime": {
     "end_time": "2025-09-29T19:26:56.156935Z",
     "start_time": "2025-09-29T19:26:56.151639Z"
    }
   },
   "outputs": [
    {
     "data": {
      "text/html": [
       "<style>#sk-container-id-10 {\n",
       "  /* Definition of color scheme common for light and dark mode */\n",
       "  --sklearn-color-text: black;\n",
       "  --sklearn-color-line: gray;\n",
       "  /* Definition of color scheme for unfitted estimators */\n",
       "  --sklearn-color-unfitted-level-0: #fff5e6;\n",
       "  --sklearn-color-unfitted-level-1: #f6e4d2;\n",
       "  --sklearn-color-unfitted-level-2: #ffe0b3;\n",
       "  --sklearn-color-unfitted-level-3: chocolate;\n",
       "  /* Definition of color scheme for fitted estimators */\n",
       "  --sklearn-color-fitted-level-0: #f0f8ff;\n",
       "  --sklearn-color-fitted-level-1: #d4ebff;\n",
       "  --sklearn-color-fitted-level-2: #b3dbfd;\n",
       "  --sklearn-color-fitted-level-3: cornflowerblue;\n",
       "\n",
       "  /* Specific color for light theme */\n",
       "  --sklearn-color-text-on-default-background: var(--sg-text-color, var(--theme-code-foreground, var(--jp-content-font-color1, black)));\n",
       "  --sklearn-color-background: var(--sg-background-color, var(--theme-background, var(--jp-layout-color0, white)));\n",
       "  --sklearn-color-border-box: var(--sg-text-color, var(--theme-code-foreground, var(--jp-content-font-color1, black)));\n",
       "  --sklearn-color-icon: #696969;\n",
       "\n",
       "  @media (prefers-color-scheme: dark) {\n",
       "    /* Redefinition of color scheme for dark theme */\n",
       "    --sklearn-color-text-on-default-background: var(--sg-text-color, var(--theme-code-foreground, var(--jp-content-font-color1, white)));\n",
       "    --sklearn-color-background: var(--sg-background-color, var(--theme-background, var(--jp-layout-color0, #111)));\n",
       "    --sklearn-color-border-box: var(--sg-text-color, var(--theme-code-foreground, var(--jp-content-font-color1, white)));\n",
       "    --sklearn-color-icon: #878787;\n",
       "  }\n",
       "}\n",
       "\n",
       "#sk-container-id-10 {\n",
       "  color: var(--sklearn-color-text);\n",
       "}\n",
       "\n",
       "#sk-container-id-10 pre {\n",
       "  padding: 0;\n",
       "}\n",
       "\n",
       "#sk-container-id-10 input.sk-hidden--visually {\n",
       "  border: 0;\n",
       "  clip: rect(1px 1px 1px 1px);\n",
       "  clip: rect(1px, 1px, 1px, 1px);\n",
       "  height: 1px;\n",
       "  margin: -1px;\n",
       "  overflow: hidden;\n",
       "  padding: 0;\n",
       "  position: absolute;\n",
       "  width: 1px;\n",
       "}\n",
       "\n",
       "#sk-container-id-10 div.sk-dashed-wrapped {\n",
       "  border: 1px dashed var(--sklearn-color-line);\n",
       "  margin: 0 0.4em 0.5em 0.4em;\n",
       "  box-sizing: border-box;\n",
       "  padding-bottom: 0.4em;\n",
       "  background-color: var(--sklearn-color-background);\n",
       "}\n",
       "\n",
       "#sk-container-id-10 div.sk-container {\n",
       "  /* jupyter's `normalize.less` sets `[hidden] { display: none; }`\n",
       "     but bootstrap.min.css set `[hidden] { display: none !important; }`\n",
       "     so we also need the `!important` here to be able to override the\n",
       "     default hidden behavior on the sphinx rendered scikit-learn.org.\n",
       "     See: https://github.com/scikit-learn/scikit-learn/issues/21755 */\n",
       "  display: inline-block !important;\n",
       "  position: relative;\n",
       "}\n",
       "\n",
       "#sk-container-id-10 div.sk-text-repr-fallback {\n",
       "  display: none;\n",
       "}\n",
       "\n",
       "div.sk-parallel-item,\n",
       "div.sk-serial,\n",
       "div.sk-item {\n",
       "  /* draw centered vertical line to link estimators */\n",
       "  background-image: linear-gradient(var(--sklearn-color-text-on-default-background), var(--sklearn-color-text-on-default-background));\n",
       "  background-size: 2px 100%;\n",
       "  background-repeat: no-repeat;\n",
       "  background-position: center center;\n",
       "}\n",
       "\n",
       "/* Parallel-specific style estimator block */\n",
       "\n",
       "#sk-container-id-10 div.sk-parallel-item::after {\n",
       "  content: \"\";\n",
       "  width: 100%;\n",
       "  border-bottom: 2px solid var(--sklearn-color-text-on-default-background);\n",
       "  flex-grow: 1;\n",
       "}\n",
       "\n",
       "#sk-container-id-10 div.sk-parallel {\n",
       "  display: flex;\n",
       "  align-items: stretch;\n",
       "  justify-content: center;\n",
       "  background-color: var(--sklearn-color-background);\n",
       "  position: relative;\n",
       "}\n",
       "\n",
       "#sk-container-id-10 div.sk-parallel-item {\n",
       "  display: flex;\n",
       "  flex-direction: column;\n",
       "}\n",
       "\n",
       "#sk-container-id-10 div.sk-parallel-item:first-child::after {\n",
       "  align-self: flex-end;\n",
       "  width: 50%;\n",
       "}\n",
       "\n",
       "#sk-container-id-10 div.sk-parallel-item:last-child::after {\n",
       "  align-self: flex-start;\n",
       "  width: 50%;\n",
       "}\n",
       "\n",
       "#sk-container-id-10 div.sk-parallel-item:only-child::after {\n",
       "  width: 0;\n",
       "}\n",
       "\n",
       "/* Serial-specific style estimator block */\n",
       "\n",
       "#sk-container-id-10 div.sk-serial {\n",
       "  display: flex;\n",
       "  flex-direction: column;\n",
       "  align-items: center;\n",
       "  background-color: var(--sklearn-color-background);\n",
       "  padding-right: 1em;\n",
       "  padding-left: 1em;\n",
       "}\n",
       "\n",
       "\n",
       "/* Toggleable style: style used for estimator/Pipeline/ColumnTransformer box that is\n",
       "clickable and can be expanded/collapsed.\n",
       "- Pipeline and ColumnTransformer use this feature and define the default style\n",
       "- Estimators will overwrite some part of the style using the `sk-estimator` class\n",
       "*/\n",
       "\n",
       "/* Pipeline and ColumnTransformer style (default) */\n",
       "\n",
       "#sk-container-id-10 div.sk-toggleable {\n",
       "  /* Default theme specific background. It is overwritten whether we have a\n",
       "  specific estimator or a Pipeline/ColumnTransformer */\n",
       "  background-color: var(--sklearn-color-background);\n",
       "}\n",
       "\n",
       "/* Toggleable label */\n",
       "#sk-container-id-10 label.sk-toggleable__label {\n",
       "  cursor: pointer;\n",
       "  display: block;\n",
       "  width: 100%;\n",
       "  margin-bottom: 0;\n",
       "  padding: 0.5em;\n",
       "  box-sizing: border-box;\n",
       "  text-align: center;\n",
       "}\n",
       "\n",
       "#sk-container-id-10 label.sk-toggleable__label-arrow:before {\n",
       "  /* Arrow on the left of the label */\n",
       "  content: \"▸\";\n",
       "  float: left;\n",
       "  margin-right: 0.25em;\n",
       "  color: var(--sklearn-color-icon);\n",
       "}\n",
       "\n",
       "#sk-container-id-10 label.sk-toggleable__label-arrow:hover:before {\n",
       "  color: var(--sklearn-color-text);\n",
       "}\n",
       "\n",
       "/* Toggleable content - dropdown */\n",
       "\n",
       "#sk-container-id-10 div.sk-toggleable__content {\n",
       "  max-height: 0;\n",
       "  max-width: 0;\n",
       "  overflow: hidden;\n",
       "  text-align: left;\n",
       "  /* unfitted */\n",
       "  background-color: var(--sklearn-color-unfitted-level-0);\n",
       "}\n",
       "\n",
       "#sk-container-id-10 div.sk-toggleable__content.fitted {\n",
       "  /* fitted */\n",
       "  background-color: var(--sklearn-color-fitted-level-0);\n",
       "}\n",
       "\n",
       "#sk-container-id-10 div.sk-toggleable__content pre {\n",
       "  margin: 0.2em;\n",
       "  border-radius: 0.25em;\n",
       "  color: var(--sklearn-color-text);\n",
       "  /* unfitted */\n",
       "  background-color: var(--sklearn-color-unfitted-level-0);\n",
       "}\n",
       "\n",
       "#sk-container-id-10 div.sk-toggleable__content.fitted pre {\n",
       "  /* unfitted */\n",
       "  background-color: var(--sklearn-color-fitted-level-0);\n",
       "}\n",
       "\n",
       "#sk-container-id-10 input.sk-toggleable__control:checked~div.sk-toggleable__content {\n",
       "  /* Expand drop-down */\n",
       "  max-height: 200px;\n",
       "  max-width: 100%;\n",
       "  overflow: auto;\n",
       "}\n",
       "\n",
       "#sk-container-id-10 input.sk-toggleable__control:checked~label.sk-toggleable__label-arrow:before {\n",
       "  content: \"▾\";\n",
       "}\n",
       "\n",
       "/* Pipeline/ColumnTransformer-specific style */\n",
       "\n",
       "#sk-container-id-10 div.sk-label input.sk-toggleable__control:checked~label.sk-toggleable__label {\n",
       "  color: var(--sklearn-color-text);\n",
       "  background-color: var(--sklearn-color-unfitted-level-2);\n",
       "}\n",
       "\n",
       "#sk-container-id-10 div.sk-label.fitted input.sk-toggleable__control:checked~label.sk-toggleable__label {\n",
       "  background-color: var(--sklearn-color-fitted-level-2);\n",
       "}\n",
       "\n",
       "/* Estimator-specific style */\n",
       "\n",
       "/* Colorize estimator box */\n",
       "#sk-container-id-10 div.sk-estimator input.sk-toggleable__control:checked~label.sk-toggleable__label {\n",
       "  /* unfitted */\n",
       "  background-color: var(--sklearn-color-unfitted-level-2);\n",
       "}\n",
       "\n",
       "#sk-container-id-10 div.sk-estimator.fitted input.sk-toggleable__control:checked~label.sk-toggleable__label {\n",
       "  /* fitted */\n",
       "  background-color: var(--sklearn-color-fitted-level-2);\n",
       "}\n",
       "\n",
       "#sk-container-id-10 div.sk-label label.sk-toggleable__label,\n",
       "#sk-container-id-10 div.sk-label label {\n",
       "  /* The background is the default theme color */\n",
       "  color: var(--sklearn-color-text-on-default-background);\n",
       "}\n",
       "\n",
       "/* On hover, darken the color of the background */\n",
       "#sk-container-id-10 div.sk-label:hover label.sk-toggleable__label {\n",
       "  color: var(--sklearn-color-text);\n",
       "  background-color: var(--sklearn-color-unfitted-level-2);\n",
       "}\n",
       "\n",
       "/* Label box, darken color on hover, fitted */\n",
       "#sk-container-id-10 div.sk-label.fitted:hover label.sk-toggleable__label.fitted {\n",
       "  color: var(--sklearn-color-text);\n",
       "  background-color: var(--sklearn-color-fitted-level-2);\n",
       "}\n",
       "\n",
       "/* Estimator label */\n",
       "\n",
       "#sk-container-id-10 div.sk-label label {\n",
       "  font-family: monospace;\n",
       "  font-weight: bold;\n",
       "  display: inline-block;\n",
       "  line-height: 1.2em;\n",
       "}\n",
       "\n",
       "#sk-container-id-10 div.sk-label-container {\n",
       "  text-align: center;\n",
       "}\n",
       "\n",
       "/* Estimator-specific */\n",
       "#sk-container-id-10 div.sk-estimator {\n",
       "  font-family: monospace;\n",
       "  border: 1px dotted var(--sklearn-color-border-box);\n",
       "  border-radius: 0.25em;\n",
       "  box-sizing: border-box;\n",
       "  margin-bottom: 0.5em;\n",
       "  /* unfitted */\n",
       "  background-color: var(--sklearn-color-unfitted-level-0);\n",
       "}\n",
       "\n",
       "#sk-container-id-10 div.sk-estimator.fitted {\n",
       "  /* fitted */\n",
       "  background-color: var(--sklearn-color-fitted-level-0);\n",
       "}\n",
       "\n",
       "/* on hover */\n",
       "#sk-container-id-10 div.sk-estimator:hover {\n",
       "  /* unfitted */\n",
       "  background-color: var(--sklearn-color-unfitted-level-2);\n",
       "}\n",
       "\n",
       "#sk-container-id-10 div.sk-estimator.fitted:hover {\n",
       "  /* fitted */\n",
       "  background-color: var(--sklearn-color-fitted-level-2);\n",
       "}\n",
       "\n",
       "/* Specification for estimator info (e.g. \"i\" and \"?\") */\n",
       "\n",
       "/* Common style for \"i\" and \"?\" */\n",
       "\n",
       ".sk-estimator-doc-link,\n",
       "a:link.sk-estimator-doc-link,\n",
       "a:visited.sk-estimator-doc-link {\n",
       "  float: right;\n",
       "  font-size: smaller;\n",
       "  line-height: 1em;\n",
       "  font-family: monospace;\n",
       "  background-color: var(--sklearn-color-background);\n",
       "  border-radius: 1em;\n",
       "  height: 1em;\n",
       "  width: 1em;\n",
       "  text-decoration: none !important;\n",
       "  margin-left: 1ex;\n",
       "  /* unfitted */\n",
       "  border: var(--sklearn-color-unfitted-level-1) 1pt solid;\n",
       "  color: var(--sklearn-color-unfitted-level-1);\n",
       "}\n",
       "\n",
       ".sk-estimator-doc-link.fitted,\n",
       "a:link.sk-estimator-doc-link.fitted,\n",
       "a:visited.sk-estimator-doc-link.fitted {\n",
       "  /* fitted */\n",
       "  border: var(--sklearn-color-fitted-level-1) 1pt solid;\n",
       "  color: var(--sklearn-color-fitted-level-1);\n",
       "}\n",
       "\n",
       "/* On hover */\n",
       "div.sk-estimator:hover .sk-estimator-doc-link:hover,\n",
       ".sk-estimator-doc-link:hover,\n",
       "div.sk-label-container:hover .sk-estimator-doc-link:hover,\n",
       ".sk-estimator-doc-link:hover {\n",
       "  /* unfitted */\n",
       "  background-color: var(--sklearn-color-unfitted-level-3);\n",
       "  color: var(--sklearn-color-background);\n",
       "  text-decoration: none;\n",
       "}\n",
       "\n",
       "div.sk-estimator.fitted:hover .sk-estimator-doc-link.fitted:hover,\n",
       ".sk-estimator-doc-link.fitted:hover,\n",
       "div.sk-label-container:hover .sk-estimator-doc-link.fitted:hover,\n",
       ".sk-estimator-doc-link.fitted:hover {\n",
       "  /* fitted */\n",
       "  background-color: var(--sklearn-color-fitted-level-3);\n",
       "  color: var(--sklearn-color-background);\n",
       "  text-decoration: none;\n",
       "}\n",
       "\n",
       "/* Span, style for the box shown on hovering the info icon */\n",
       ".sk-estimator-doc-link span {\n",
       "  display: none;\n",
       "  z-index: 9999;\n",
       "  position: relative;\n",
       "  font-weight: normal;\n",
       "  right: .2ex;\n",
       "  padding: .5ex;\n",
       "  margin: .5ex;\n",
       "  width: min-content;\n",
       "  min-width: 20ex;\n",
       "  max-width: 50ex;\n",
       "  color: var(--sklearn-color-text);\n",
       "  box-shadow: 2pt 2pt 4pt #999;\n",
       "  /* unfitted */\n",
       "  background: var(--sklearn-color-unfitted-level-0);\n",
       "  border: .5pt solid var(--sklearn-color-unfitted-level-3);\n",
       "}\n",
       "\n",
       ".sk-estimator-doc-link.fitted span {\n",
       "  /* fitted */\n",
       "  background: var(--sklearn-color-fitted-level-0);\n",
       "  border: var(--sklearn-color-fitted-level-3);\n",
       "}\n",
       "\n",
       ".sk-estimator-doc-link:hover span {\n",
       "  display: block;\n",
       "}\n",
       "\n",
       "/* \"?\"-specific style due to the `<a>` HTML tag */\n",
       "\n",
       "#sk-container-id-10 a.estimator_doc_link {\n",
       "  float: right;\n",
       "  font-size: 1rem;\n",
       "  line-height: 1em;\n",
       "  font-family: monospace;\n",
       "  background-color: var(--sklearn-color-background);\n",
       "  border-radius: 1rem;\n",
       "  height: 1rem;\n",
       "  width: 1rem;\n",
       "  text-decoration: none;\n",
       "  /* unfitted */\n",
       "  color: var(--sklearn-color-unfitted-level-1);\n",
       "  border: var(--sklearn-color-unfitted-level-1) 1pt solid;\n",
       "}\n",
       "\n",
       "#sk-container-id-10 a.estimator_doc_link.fitted {\n",
       "  /* fitted */\n",
       "  border: var(--sklearn-color-fitted-level-1) 1pt solid;\n",
       "  color: var(--sklearn-color-fitted-level-1);\n",
       "}\n",
       "\n",
       "/* On hover */\n",
       "#sk-container-id-10 a.estimator_doc_link:hover {\n",
       "  /* unfitted */\n",
       "  background-color: var(--sklearn-color-unfitted-level-3);\n",
       "  color: var(--sklearn-color-background);\n",
       "  text-decoration: none;\n",
       "}\n",
       "\n",
       "#sk-container-id-10 a.estimator_doc_link.fitted:hover {\n",
       "  /* fitted */\n",
       "  background-color: var(--sklearn-color-fitted-level-3);\n",
       "}\n",
       "</style><div id=\"sk-container-id-10\" class=\"sk-top-container\"><div class=\"sk-text-repr-fallback\"><pre>LinearRegression()</pre><b>In a Jupyter environment, please rerun this cell to show the HTML representation or trust the notebook. <br />On GitHub, the HTML representation is unable to render, please try loading this page with nbviewer.org.</b></div><div class=\"sk-container\" hidden><div class=\"sk-item\"><div class=\"sk-estimator fitted sk-toggleable\"><input class=\"sk-toggleable__control sk-hidden--visually\" id=\"sk-estimator-id-10\" type=\"checkbox\" checked><label for=\"sk-estimator-id-10\" class=\"sk-toggleable__label fitted sk-toggleable__label-arrow fitted\">&nbsp;&nbsp;LinearRegression<a class=\"sk-estimator-doc-link fitted\" rel=\"noreferrer\" target=\"_blank\" href=\"https://scikit-learn.org/1.5/modules/generated/sklearn.linear_model.LinearRegression.html\">?<span>Documentation for LinearRegression</span></a><span class=\"sk-estimator-doc-link fitted\">i<span>Fitted</span></span></label><div class=\"sk-toggleable__content fitted\"><pre>LinearRegression()</pre></div> </div></div></div></div>"
      ],
      "text/plain": [
       "LinearRegression()"
      ]
     },
     "execution_count": 150,
     "metadata": {},
     "output_type": "execute_result"
    }
   ],
   "source": [
    "from sklearn.preprocessing import StandardScaler\n",
    "scaler = StandardScaler().fit(x_train)\n",
    "X_train_scaled = scaler.transform(x_train)\n",
    "lr = LinearRegression()\n",
    "lr.fit(X_train_scaled, y_train)"
   ]
  },
  {
   "cell_type": "markdown",
   "id": "22143848-5eac-46ed-9c85-45b9bded4861",
   "metadata": {},
   "source": [
    "#### Train"
   ]
  },
  {
   "cell_type": "code",
   "execution_count": 151,
   "id": "c0b3db18-6c72-4a0a-9e3b-a3afe41c3908",
   "metadata": {
    "ExecuteTime": {
     "end_time": "2025-09-29T19:26:56.189643Z",
     "start_time": "2025-09-29T19:26:56.186988Z"
    }
   },
   "outputs": [
    {
     "data": {
      "text/plain": [
       "1.0"
      ]
     },
     "execution_count": 151,
     "metadata": {},
     "output_type": "execute_result"
    }
   ],
   "source": [
    "y_hat = lr.predict(X_train_scaled)\n",
    "r2_score(y_train, y_hat)"
   ]
  },
  {
   "cell_type": "markdown",
   "id": "6f918779-4065-4f50-9c90-e2f12a807e05",
   "metadata": {},
   "source": [
    "## Selección del Modelo (Regresión Lineal)"
   ]
  },
  {
   "cell_type": "code",
   "execution_count": 152,
   "id": "fa2f82e4-b007-4566-afa5-8631ea24d39c",
   "metadata": {
    "ExecuteTime": {
     "end_time": "2025-09-29T19:26:56.242427Z",
     "start_time": "2025-09-29T19:26:56.222381Z"
    }
   },
   "outputs": [
    {
     "data": {
      "text/html": [
       "<table class=\"simpletable\">\n",
       "<caption>OLS Regression Results</caption>\n",
       "<tr>\n",
       "  <th>Dep. Variable:</th>         <td>Profit</td>      <th>  R-squared:         </th> <td>   1.000</td> \n",
       "</tr>\n",
       "<tr>\n",
       "  <th>Model:</th>                   <td>OLS</td>       <th>  Adj. R-squared:    </th> <td>   1.000</td> \n",
       "</tr>\n",
       "<tr>\n",
       "  <th>Method:</th>             <td>Least Squares</td>  <th>  F-statistic:       </th> <td>3.518e+19</td>\n",
       "</tr>\n",
       "<tr>\n",
       "  <th>Date:</th>             <td>Mon, 29 Sep 2025</td> <th>  Prob (F-statistic):</th>  <td>  0.00</td>  \n",
       "</tr>\n",
       "<tr>\n",
       "  <th>Time:</th>                 <td>13:26:56</td>     <th>  Log-Likelihood:    </th> <td>  2548.7</td> \n",
       "</tr>\n",
       "<tr>\n",
       "  <th>No. Observations:</th>      <td>   280</td>      <th>  AIC:               </th> <td>  -5053.</td> \n",
       "</tr>\n",
       "<tr>\n",
       "  <th>Df Residuals:</th>          <td>   258</td>      <th>  BIC:               </th> <td>  -4973.</td> \n",
       "</tr>\n",
       "<tr>\n",
       "  <th>Df Model:</th>              <td>    21</td>      <th>                     </th>     <td> </td>    \n",
       "</tr>\n",
       "<tr>\n",
       "  <th>Covariance Type:</th>      <td>nonrobust</td>    <th>                     </th>     <td> </td>    \n",
       "</tr>\n",
       "</table>\n",
       "<table class=\"simpletable\">\n",
       "<tr>\n",
       "    <td></td>       <th>coef</th>     <th>std err</th>      <th>t</th>      <th>P>|t|</th>  <th>[0.025</th>    <th>0.975]</th>  \n",
       "</tr>\n",
       "<tr>\n",
       "  <th>const</th> <td> 2.617e+04</td> <td> 1.68e-06</td> <td> 1.56e+10</td> <td> 0.000</td> <td> 2.62e+04</td> <td> 2.62e+04</td>\n",
       "</tr>\n",
       "<tr>\n",
       "  <th>x1</th>    <td>-2.792e-10</td> <td> 2.36e-06</td> <td>   -0.000</td> <td> 1.000</td> <td>-4.66e-06</td> <td> 4.66e-06</td>\n",
       "</tr>\n",
       "<tr>\n",
       "  <th>x2</th>    <td>    0.0020</td> <td> 8.95e-06</td> <td>  223.026</td> <td> 0.000</td> <td>    0.002</td> <td>    0.002</td>\n",
       "</tr>\n",
       "<tr>\n",
       "  <th>x3</th>    <td>-4.895e-10</td> <td> 4.41e-06</td> <td>   -0.000</td> <td> 1.000</td> <td>-8.69e-06</td> <td> 8.69e-06</td>\n",
       "</tr>\n",
       "<tr>\n",
       "  <th>x4</th>    <td>   -0.0118</td> <td>  536.414</td> <td> -2.2e-05</td> <td> 1.000</td> <td>-1056.318</td> <td> 1056.294</td>\n",
       "</tr>\n",
       "<tr>\n",
       "  <th>x5</th>    <td>    0.0010</td> <td>   47.471</td> <td> 2.17e-05</td> <td> 1.000</td> <td>  -93.478</td> <td>   93.480</td>\n",
       "</tr>\n",
       "<tr>\n",
       "  <th>x6</th>    <td> 2.424e+05</td> <td>  498.976</td> <td>  485.744</td> <td> 0.000</td> <td> 2.41e+05</td> <td> 2.43e+05</td>\n",
       "</tr>\n",
       "<tr>\n",
       "  <th>x7</th>    <td>-2.061e+05</td> <td> 3.74e-05</td> <td>-5.51e+09</td> <td> 0.000</td> <td>-2.06e+05</td> <td>-2.06e+05</td>\n",
       "</tr>\n",
       "<tr>\n",
       "  <th>x8</th>    <td>-9.652e-11</td> <td> 1.88e-06</td> <td>-5.15e-05</td> <td> 1.000</td> <td>-3.69e-06</td> <td> 3.69e-06</td>\n",
       "</tr>\n",
       "<tr>\n",
       "  <th>x9</th>    <td>-5.866e-11</td> <td> 1.85e-06</td> <td>-3.18e-05</td> <td> 1.000</td> <td>-3.64e-06</td> <td> 3.64e-06</td>\n",
       "</tr>\n",
       "<tr>\n",
       "  <th>x10</th>   <td> 2.274e-10</td> <td> 3.88e-06</td> <td> 5.87e-05</td> <td> 1.000</td> <td>-7.63e-06</td> <td> 7.63e-06</td>\n",
       "</tr>\n",
       "<tr>\n",
       "  <th>x11</th>   <td> 2.726e-10</td> <td> 2.81e-06</td> <td> 9.69e-05</td> <td> 1.000</td> <td>-5.54e-06</td> <td> 5.54e-06</td>\n",
       "</tr>\n",
       "<tr>\n",
       "  <th>x12</th>   <td> 1.775e-10</td> <td> 2.25e-06</td> <td> 7.87e-05</td> <td> 1.000</td> <td>-4.44e-06</td> <td> 4.44e-06</td>\n",
       "</tr>\n",
       "<tr>\n",
       "  <th>x13</th>   <td> 1.867e-10</td> <td> 4.03e-06</td> <td> 4.63e-05</td> <td> 1.000</td> <td>-7.93e-06</td> <td> 7.93e-06</td>\n",
       "</tr>\n",
       "<tr>\n",
       "  <th>x14</th>   <td>-2.969e-10</td> <td> 2.08e-06</td> <td>   -0.000</td> <td> 1.000</td> <td>-4.09e-06</td> <td> 4.09e-06</td>\n",
       "</tr>\n",
       "<tr>\n",
       "  <th>x15</th>   <td>-3.474e-10</td> <td> 2.16e-06</td> <td>   -0.000</td> <td> 1.000</td> <td>-4.26e-06</td> <td> 4.25e-06</td>\n",
       "</tr>\n",
       "<tr>\n",
       "  <th>x16</th>   <td>-3.183e-10</td> <td> 2.18e-06</td> <td>   -0.000</td> <td> 1.000</td> <td> -4.3e-06</td> <td>  4.3e-06</td>\n",
       "</tr>\n",
       "<tr>\n",
       "  <th>x17</th>   <td>-3.463e-10</td> <td> 2.19e-06</td> <td>   -0.000</td> <td> 1.000</td> <td>-4.32e-06</td> <td> 4.32e-06</td>\n",
       "</tr>\n",
       "<tr>\n",
       "  <th>x18</th>   <td>    0.0016</td> <td> 7.37e-06</td> <td>  219.102</td> <td> 0.000</td> <td>    0.002</td> <td>    0.002</td>\n",
       "</tr>\n",
       "<tr>\n",
       "  <th>x19</th>   <td>    0.0016</td> <td> 7.49e-06</td> <td>  218.748</td> <td> 0.000</td> <td>    0.002</td> <td>    0.002</td>\n",
       "</tr>\n",
       "<tr>\n",
       "  <th>x20</th>   <td>    0.0020</td> <td> 8.98e-06</td> <td>  222.693</td> <td> 0.000</td> <td>    0.002</td> <td>    0.002</td>\n",
       "</tr>\n",
       "<tr>\n",
       "  <th>x21</th>   <td> 6.357e-05</td> <td>  2.2e-06</td> <td>   28.859</td> <td> 0.000</td> <td> 5.92e-05</td> <td> 6.79e-05</td>\n",
       "</tr>\n",
       "<tr>\n",
       "  <th>x22</th>   <td>    0.0010</td> <td> 4.99e-06</td> <td>  205.576</td> <td> 0.000</td> <td>    0.001</td> <td>    0.001</td>\n",
       "</tr>\n",
       "</table>\n",
       "<table class=\"simpletable\">\n",
       "<tr>\n",
       "  <th>Omnibus:</th>       <td>96.012</td> <th>  Durbin-Watson:     </th> <td>   1.864</td>\n",
       "</tr>\n",
       "<tr>\n",
       "  <th>Prob(Omnibus):</th> <td> 0.000</td> <th>  Jarque-Bera (JB):  </th> <td> 210.864</td>\n",
       "</tr>\n",
       "<tr>\n",
       "  <th>Skew:</th>          <td> 1.732</td> <th>  Prob(JB):          </th> <td>1.63e-46</td>\n",
       "</tr>\n",
       "<tr>\n",
       "  <th>Kurtosis:</th>      <td> 5.464</td> <th>  Cond. No.          </th> <td>3.33e+15</td>\n",
       "</tr>\n",
       "</table><br/><br/>Notes:<br/>[1] Standard Errors assume that the covariance matrix of the errors is correctly specified.<br/>[2] The smallest eigenvalue is 1.23e-28. This might indicate that there are<br/>strong multicollinearity problems or that the design matrix is singular."
      ],
      "text/latex": [
       "\\begin{center}\n",
       "\\begin{tabular}{lclc}\n",
       "\\toprule\n",
       "\\textbf{Dep. Variable:}    &      Profit      & \\textbf{  R-squared:         } &     1.000   \\\\\n",
       "\\textbf{Model:}            &       OLS        & \\textbf{  Adj. R-squared:    } &     1.000   \\\\\n",
       "\\textbf{Method:}           &  Least Squares   & \\textbf{  F-statistic:       } & 3.518e+19   \\\\\n",
       "\\textbf{Date:}             & Mon, 29 Sep 2025 & \\textbf{  Prob (F-statistic):} &     0.00    \\\\\n",
       "\\textbf{Time:}             &     13:26:56     & \\textbf{  Log-Likelihood:    } &    2548.7   \\\\\n",
       "\\textbf{No. Observations:} &         280      & \\textbf{  AIC:               } &    -5053.   \\\\\n",
       "\\textbf{Df Residuals:}     &         258      & \\textbf{  BIC:               } &    -4973.   \\\\\n",
       "\\textbf{Df Model:}         &          21      & \\textbf{                     } &             \\\\\n",
       "\\textbf{Covariance Type:}  &    nonrobust     & \\textbf{                     } &             \\\\\n",
       "\\bottomrule\n",
       "\\end{tabular}\n",
       "\\begin{tabular}{lcccccc}\n",
       "               & \\textbf{coef} & \\textbf{std err} & \\textbf{t} & \\textbf{P$> |$t$|$} & \\textbf{[0.025} & \\textbf{0.975]}  \\\\\n",
       "\\midrule\n",
       "\\textbf{const} &    2.617e+04  &     1.68e-06     &  1.56e+10  &         0.000        &     2.62e+04    &     2.62e+04     \\\\\n",
       "\\textbf{x1}    &   -2.792e-10  &     2.36e-06     &    -0.000  &         1.000        &    -4.66e-06    &     4.66e-06     \\\\\n",
       "\\textbf{x2}    &       0.0020  &     8.95e-06     &   223.026  &         0.000        &        0.002    &        0.002     \\\\\n",
       "\\textbf{x3}    &   -4.895e-10  &     4.41e-06     &    -0.000  &         1.000        &    -8.69e-06    &     8.69e-06     \\\\\n",
       "\\textbf{x4}    &      -0.0118  &      536.414     &  -2.2e-05  &         1.000        &    -1056.318    &     1056.294     \\\\\n",
       "\\textbf{x5}    &       0.0010  &       47.471     &  2.17e-05  &         1.000        &      -93.478    &       93.480     \\\\\n",
       "\\textbf{x6}    &    2.424e+05  &      498.976     &   485.744  &         0.000        &     2.41e+05    &     2.43e+05     \\\\\n",
       "\\textbf{x7}    &   -2.061e+05  &     3.74e-05     & -5.51e+09  &         0.000        &    -2.06e+05    &    -2.06e+05     \\\\\n",
       "\\textbf{x8}    &   -9.652e-11  &     1.88e-06     & -5.15e-05  &         1.000        &    -3.69e-06    &     3.69e-06     \\\\\n",
       "\\textbf{x9}    &   -5.866e-11  &     1.85e-06     & -3.18e-05  &         1.000        &    -3.64e-06    &     3.64e-06     \\\\\n",
       "\\textbf{x10}   &    2.274e-10  &     3.88e-06     &  5.87e-05  &         1.000        &    -7.63e-06    &     7.63e-06     \\\\\n",
       "\\textbf{x11}   &    2.726e-10  &     2.81e-06     &  9.69e-05  &         1.000        &    -5.54e-06    &     5.54e-06     \\\\\n",
       "\\textbf{x12}   &    1.775e-10  &     2.25e-06     &  7.87e-05  &         1.000        &    -4.44e-06    &     4.44e-06     \\\\\n",
       "\\textbf{x13}   &    1.867e-10  &     4.03e-06     &  4.63e-05  &         1.000        &    -7.93e-06    &     7.93e-06     \\\\\n",
       "\\textbf{x14}   &   -2.969e-10  &     2.08e-06     &    -0.000  &         1.000        &    -4.09e-06    &     4.09e-06     \\\\\n",
       "\\textbf{x15}   &   -3.474e-10  &     2.16e-06     &    -0.000  &         1.000        &    -4.26e-06    &     4.25e-06     \\\\\n",
       "\\textbf{x16}   &   -3.183e-10  &     2.18e-06     &    -0.000  &         1.000        &     -4.3e-06    &      4.3e-06     \\\\\n",
       "\\textbf{x17}   &   -3.463e-10  &     2.19e-06     &    -0.000  &         1.000        &    -4.32e-06    &     4.32e-06     \\\\\n",
       "\\textbf{x18}   &       0.0016  &     7.37e-06     &   219.102  &         0.000        &        0.002    &        0.002     \\\\\n",
       "\\textbf{x19}   &       0.0016  &     7.49e-06     &   218.748  &         0.000        &        0.002    &        0.002     \\\\\n",
       "\\textbf{x20}   &       0.0020  &     8.98e-06     &   222.693  &         0.000        &        0.002    &        0.002     \\\\\n",
       "\\textbf{x21}   &    6.357e-05  &      2.2e-06     &    28.859  &         0.000        &     5.92e-05    &     6.79e-05     \\\\\n",
       "\\textbf{x22}   &       0.0010  &     4.99e-06     &   205.576  &         0.000        &        0.001    &        0.001     \\\\\n",
       "\\bottomrule\n",
       "\\end{tabular}\n",
       "\\begin{tabular}{lclc}\n",
       "\\textbf{Omnibus:}       & 96.012 & \\textbf{  Durbin-Watson:     } &    1.864  \\\\\n",
       "\\textbf{Prob(Omnibus):} &  0.000 & \\textbf{  Jarque-Bera (JB):  } &  210.864  \\\\\n",
       "\\textbf{Skew:}          &  1.732 & \\textbf{  Prob(JB):          } & 1.63e-46  \\\\\n",
       "\\textbf{Kurtosis:}      &  5.464 & \\textbf{  Cond. No.          } & 3.33e+15  \\\\\n",
       "\\bottomrule\n",
       "\\end{tabular}\n",
       "%\\caption{OLS Regression Results}\n",
       "\\end{center}\n",
       "\n",
       "Notes: \\newline\n",
       " [1] Standard Errors assume that the covariance matrix of the errors is correctly specified. \\newline\n",
       " [2] The smallest eigenvalue is 1.23e-28. This might indicate that there are \\newline\n",
       " strong multicollinearity problems or that the design matrix is singular."
      ],
      "text/plain": [
       "<class 'statsmodels.iolib.summary.Summary'>\n",
       "\"\"\"\n",
       "                            OLS Regression Results                            \n",
       "==============================================================================\n",
       "Dep. Variable:                 Profit   R-squared:                       1.000\n",
       "Model:                            OLS   Adj. R-squared:                  1.000\n",
       "Method:                 Least Squares   F-statistic:                 3.518e+19\n",
       "Date:                Mon, 29 Sep 2025   Prob (F-statistic):               0.00\n",
       "Time:                        13:26:56   Log-Likelihood:                 2548.7\n",
       "No. Observations:                 280   AIC:                            -5053.\n",
       "Df Residuals:                     258   BIC:                            -4973.\n",
       "Df Model:                          21                                         \n",
       "Covariance Type:            nonrobust                                         \n",
       "==============================================================================\n",
       "                 coef    std err          t      P>|t|      [0.025      0.975]\n",
       "------------------------------------------------------------------------------\n",
       "const       2.617e+04   1.68e-06   1.56e+10      0.000    2.62e+04    2.62e+04\n",
       "x1         -2.792e-10   2.36e-06     -0.000      1.000   -4.66e-06    4.66e-06\n",
       "x2             0.0020   8.95e-06    223.026      0.000       0.002       0.002\n",
       "x3         -4.895e-10   4.41e-06     -0.000      1.000   -8.69e-06    8.69e-06\n",
       "x4            -0.0118    536.414   -2.2e-05      1.000   -1056.318    1056.294\n",
       "x5             0.0010     47.471   2.17e-05      1.000     -93.478      93.480\n",
       "x6          2.424e+05    498.976    485.744      0.000    2.41e+05    2.43e+05\n",
       "x7         -2.061e+05   3.74e-05  -5.51e+09      0.000   -2.06e+05   -2.06e+05\n",
       "x8         -9.652e-11   1.88e-06  -5.15e-05      1.000   -3.69e-06    3.69e-06\n",
       "x9         -5.866e-11   1.85e-06  -3.18e-05      1.000   -3.64e-06    3.64e-06\n",
       "x10         2.274e-10   3.88e-06   5.87e-05      1.000   -7.63e-06    7.63e-06\n",
       "x11         2.726e-10   2.81e-06   9.69e-05      1.000   -5.54e-06    5.54e-06\n",
       "x12         1.775e-10   2.25e-06   7.87e-05      1.000   -4.44e-06    4.44e-06\n",
       "x13         1.867e-10   4.03e-06   4.63e-05      1.000   -7.93e-06    7.93e-06\n",
       "x14        -2.969e-10   2.08e-06     -0.000      1.000   -4.09e-06    4.09e-06\n",
       "x15        -3.474e-10   2.16e-06     -0.000      1.000   -4.26e-06    4.25e-06\n",
       "x16        -3.183e-10   2.18e-06     -0.000      1.000    -4.3e-06     4.3e-06\n",
       "x17        -3.463e-10   2.19e-06     -0.000      1.000   -4.32e-06    4.32e-06\n",
       "x18            0.0016   7.37e-06    219.102      0.000       0.002       0.002\n",
       "x19            0.0016   7.49e-06    218.748      0.000       0.002       0.002\n",
       "x20            0.0020   8.98e-06    222.693      0.000       0.002       0.002\n",
       "x21         6.357e-05    2.2e-06     28.859      0.000    5.92e-05    6.79e-05\n",
       "x22            0.0010   4.99e-06    205.576      0.000       0.001       0.001\n",
       "==============================================================================\n",
       "Omnibus:                       96.012   Durbin-Watson:                   1.864\n",
       "Prob(Omnibus):                  0.000   Jarque-Bera (JB):              210.864\n",
       "Skew:                           1.732   Prob(JB):                     1.63e-46\n",
       "Kurtosis:                       5.464   Cond. No.                     3.33e+15\n",
       "==============================================================================\n",
       "\n",
       "Notes:\n",
       "[1] Standard Errors assume that the covariance matrix of the errors is correctly specified.\n",
       "[2] The smallest eigenvalue is 1.23e-28. This might indicate that there are\n",
       "strong multicollinearity problems or that the design matrix is singular.\n",
       "\"\"\""
      ]
     },
     "execution_count": 152,
     "metadata": {},
     "output_type": "execute_result"
    }
   ],
   "source": [
    "n = len(X_train_scaled)\n",
    "unos = np.ones([n,1])\n",
    "X = np.column_stack([unos,X_train_scaled])\n",
    "ols = sm.OLS(y_train, X)\n",
    "results = ols.fit()\n",
    "results.summary()"
   ]
  },
  {
   "cell_type": "markdown",
   "id": "793b4a02-cb5c-4f79-a5a5-665dc8232cbf",
   "metadata": {},
   "source": [
    "### Análisis de significancia "
   ]
  },
  {
   "cell_type": "markdown",
   "id": "c7449178-7353-4f7d-ac23-92022b0798cb",
   "metadata": {},
   "source": [
    "Los p_values muy bajos (cercanos a 0), significa que su efecto es real y sí son importantes para explicar la ganancia. Entre ellas están principalmente COGS y algunos productos, que claramente influyen en cómo se mueve el Profit. En cambio, muchas otras variables tienen p_values muy altos (incluso cercanos a 1), lo que quiere decir que sus efectos podrían deberse al azar y que no aportan nada relevante al modelo, como sucede con varias categorías de país o segmento."
   ]
  },
  {
   "cell_type": "markdown",
   "id": "59f70f7e-1998-4ed1-b6cb-eaacf0bdabbe",
   "metadata": {},
   "source": [
    "#### Interpretación signos betas"
   ]
  },
  {
   "attachments": {},
   "cell_type": "markdown",
   "id": "c80857db-ae46-4416-9531-ec1e19a4877f",
   "metadata": {},
   "source": [
    "- Constante: Representa el valor base del Profit, que es de aproximadamente 26170, cuando todas las demás variables están en cero, es decir, el punto de partida del modelo.\n",
    "\n",
    "- Units Sold: Tiene un coeficiente negativo prácticamente nulo (-6.139e-12), lo que indica que aunque cambien las unidades vendidas, no hay un efecto real en el Profit.\n",
    "\n",
    "- Manufacturing Price: Es positivo pero insignificante (0.0000), por lo que casi no afecta la ganancia.\n",
    "\n",
    "- Sale Price: Presenta un coeficiente positivo (5.457e-11), aunque tan pequeño que su efecto en el Profit es prácticamente nulo.\n",
    "\n",
    "- Gross Sales: Tiene un coeficiente positivo de 0.0012, lo que sugiere un aporte muy bajo a la ganancia.\n",
    "\n",
    "- Discounts: Su coeficiente es de 0.0010, también positivo, pero con una influencia mínima en el Profit.\n",
    "\n",
    "- COGS: Muestra un valor alto y positivo (224200), lo que significa que está fuertemente relacionado con un aumento en el Profit.\n",
    "\n",
    "- Profit anterior: Tiene un coeficiente negativo grande (-206100), lo que implica que esta variable reduce de manera importante la ganancia.\n",
    "\n",
    "- Month Number: Presenta un valor negativo muy pequeño (-1.455e-11), sin efecto relevante en el Profit.\n",
    "\n",
    "- Year: Su coeficiente es de -2.319e-12, negativo y prácticamente sin importancia.\n",
    "\n",
    "- Segment_Enterprise: Muestra un coeficiente de -5.366e-11, lo que lo hace irrelevante en la ganancia.\n",
    "\n",
    "- Segment_Government: Con un valor de -2.285e-11, es negativo y sin peso en el modelo.\n",
    "\n",
    "- Segment_Midmarket: Tiene un coeficiente de -2.215e-11, también negativo y sin relevancia.\n",
    "\n",
    "- Segment_Small Business: Su valor es de -4.775e-12, muy pequeño, sin impacto en el Profit.\n",
    "\n",
    "- Country_France: Tiene un coeficiente de -2.808e-11, prácticamente irrelevante.\n",
    "\n",
    "- Country_Germany: Presenta un valor de -3.133e-11, negativo y sin peso en la ganancia.\n",
    "\n",
    "- Country_Mexico: Su coeficiente es positivo (7.583e-11), pero demasiado pequeño para tener efecto real.\n",
    "\n",
    "- Country_United States of America: Muestra un valor negativo muy pequeño (-7.39e-12), sin importancia en el resultado.\n",
    "\n",
    "- Product_Carretera: Tiene un coeficiente positivo de 0.0006, que indica un impacto leve en el Profit.\n",
    "\n",
    "- Product_Montana: Su valor es de 0.0007, también positivo y con un efecto pequeño.\n",
    "\n",
    "- Product_Paseo: Presenta un coeficiente positivo de 0.0008, un poco más fuerte que los anteriores, con un impacto más claro en la ganancia.\n",
    "\n",
    "- Product_VTT: Tiene un coeficiente positivo de 2.531e-05, lo que aporta de manera muy moderada al Profit.\n",
    "\n",
    "- Product_Velo: Su coeficiente es de 0.0004, positivo y con un pequeño efecto en el aumento de la ganancia."
   ]
  },
  {
   "cell_type": "markdown",
   "id": "ad8438c7-6a88-4330-a637-5e84eba67f70",
   "metadata": {},
   "source": [
    "#### Test"
   ]
  },
  {
   "cell_type": "code",
   "execution_count": 153,
   "id": "a5be3817-796d-4a46-a601-d7b4e427c656",
   "metadata": {
    "ExecuteTime": {
     "end_time": "2025-09-29T19:26:56.260029Z",
     "start_time": "2025-09-29T19:26:56.255379Z"
    }
   },
   "outputs": [
    {
     "data": {
      "text/html": [
       "<style>#sk-container-id-11 {\n",
       "  /* Definition of color scheme common for light and dark mode */\n",
       "  --sklearn-color-text: black;\n",
       "  --sklearn-color-line: gray;\n",
       "  /* Definition of color scheme for unfitted estimators */\n",
       "  --sklearn-color-unfitted-level-0: #fff5e6;\n",
       "  --sklearn-color-unfitted-level-1: #f6e4d2;\n",
       "  --sklearn-color-unfitted-level-2: #ffe0b3;\n",
       "  --sklearn-color-unfitted-level-3: chocolate;\n",
       "  /* Definition of color scheme for fitted estimators */\n",
       "  --sklearn-color-fitted-level-0: #f0f8ff;\n",
       "  --sklearn-color-fitted-level-1: #d4ebff;\n",
       "  --sklearn-color-fitted-level-2: #b3dbfd;\n",
       "  --sklearn-color-fitted-level-3: cornflowerblue;\n",
       "\n",
       "  /* Specific color for light theme */\n",
       "  --sklearn-color-text-on-default-background: var(--sg-text-color, var(--theme-code-foreground, var(--jp-content-font-color1, black)));\n",
       "  --sklearn-color-background: var(--sg-background-color, var(--theme-background, var(--jp-layout-color0, white)));\n",
       "  --sklearn-color-border-box: var(--sg-text-color, var(--theme-code-foreground, var(--jp-content-font-color1, black)));\n",
       "  --sklearn-color-icon: #696969;\n",
       "\n",
       "  @media (prefers-color-scheme: dark) {\n",
       "    /* Redefinition of color scheme for dark theme */\n",
       "    --sklearn-color-text-on-default-background: var(--sg-text-color, var(--theme-code-foreground, var(--jp-content-font-color1, white)));\n",
       "    --sklearn-color-background: var(--sg-background-color, var(--theme-background, var(--jp-layout-color0, #111)));\n",
       "    --sklearn-color-border-box: var(--sg-text-color, var(--theme-code-foreground, var(--jp-content-font-color1, white)));\n",
       "    --sklearn-color-icon: #878787;\n",
       "  }\n",
       "}\n",
       "\n",
       "#sk-container-id-11 {\n",
       "  color: var(--sklearn-color-text);\n",
       "}\n",
       "\n",
       "#sk-container-id-11 pre {\n",
       "  padding: 0;\n",
       "}\n",
       "\n",
       "#sk-container-id-11 input.sk-hidden--visually {\n",
       "  border: 0;\n",
       "  clip: rect(1px 1px 1px 1px);\n",
       "  clip: rect(1px, 1px, 1px, 1px);\n",
       "  height: 1px;\n",
       "  margin: -1px;\n",
       "  overflow: hidden;\n",
       "  padding: 0;\n",
       "  position: absolute;\n",
       "  width: 1px;\n",
       "}\n",
       "\n",
       "#sk-container-id-11 div.sk-dashed-wrapped {\n",
       "  border: 1px dashed var(--sklearn-color-line);\n",
       "  margin: 0 0.4em 0.5em 0.4em;\n",
       "  box-sizing: border-box;\n",
       "  padding-bottom: 0.4em;\n",
       "  background-color: var(--sklearn-color-background);\n",
       "}\n",
       "\n",
       "#sk-container-id-11 div.sk-container {\n",
       "  /* jupyter's `normalize.less` sets `[hidden] { display: none; }`\n",
       "     but bootstrap.min.css set `[hidden] { display: none !important; }`\n",
       "     so we also need the `!important` here to be able to override the\n",
       "     default hidden behavior on the sphinx rendered scikit-learn.org.\n",
       "     See: https://github.com/scikit-learn/scikit-learn/issues/21755 */\n",
       "  display: inline-block !important;\n",
       "  position: relative;\n",
       "}\n",
       "\n",
       "#sk-container-id-11 div.sk-text-repr-fallback {\n",
       "  display: none;\n",
       "}\n",
       "\n",
       "div.sk-parallel-item,\n",
       "div.sk-serial,\n",
       "div.sk-item {\n",
       "  /* draw centered vertical line to link estimators */\n",
       "  background-image: linear-gradient(var(--sklearn-color-text-on-default-background), var(--sklearn-color-text-on-default-background));\n",
       "  background-size: 2px 100%;\n",
       "  background-repeat: no-repeat;\n",
       "  background-position: center center;\n",
       "}\n",
       "\n",
       "/* Parallel-specific style estimator block */\n",
       "\n",
       "#sk-container-id-11 div.sk-parallel-item::after {\n",
       "  content: \"\";\n",
       "  width: 100%;\n",
       "  border-bottom: 2px solid var(--sklearn-color-text-on-default-background);\n",
       "  flex-grow: 1;\n",
       "}\n",
       "\n",
       "#sk-container-id-11 div.sk-parallel {\n",
       "  display: flex;\n",
       "  align-items: stretch;\n",
       "  justify-content: center;\n",
       "  background-color: var(--sklearn-color-background);\n",
       "  position: relative;\n",
       "}\n",
       "\n",
       "#sk-container-id-11 div.sk-parallel-item {\n",
       "  display: flex;\n",
       "  flex-direction: column;\n",
       "}\n",
       "\n",
       "#sk-container-id-11 div.sk-parallel-item:first-child::after {\n",
       "  align-self: flex-end;\n",
       "  width: 50%;\n",
       "}\n",
       "\n",
       "#sk-container-id-11 div.sk-parallel-item:last-child::after {\n",
       "  align-self: flex-start;\n",
       "  width: 50%;\n",
       "}\n",
       "\n",
       "#sk-container-id-11 div.sk-parallel-item:only-child::after {\n",
       "  width: 0;\n",
       "}\n",
       "\n",
       "/* Serial-specific style estimator block */\n",
       "\n",
       "#sk-container-id-11 div.sk-serial {\n",
       "  display: flex;\n",
       "  flex-direction: column;\n",
       "  align-items: center;\n",
       "  background-color: var(--sklearn-color-background);\n",
       "  padding-right: 1em;\n",
       "  padding-left: 1em;\n",
       "}\n",
       "\n",
       "\n",
       "/* Toggleable style: style used for estimator/Pipeline/ColumnTransformer box that is\n",
       "clickable and can be expanded/collapsed.\n",
       "- Pipeline and ColumnTransformer use this feature and define the default style\n",
       "- Estimators will overwrite some part of the style using the `sk-estimator` class\n",
       "*/\n",
       "\n",
       "/* Pipeline and ColumnTransformer style (default) */\n",
       "\n",
       "#sk-container-id-11 div.sk-toggleable {\n",
       "  /* Default theme specific background. It is overwritten whether we have a\n",
       "  specific estimator or a Pipeline/ColumnTransformer */\n",
       "  background-color: var(--sklearn-color-background);\n",
       "}\n",
       "\n",
       "/* Toggleable label */\n",
       "#sk-container-id-11 label.sk-toggleable__label {\n",
       "  cursor: pointer;\n",
       "  display: block;\n",
       "  width: 100%;\n",
       "  margin-bottom: 0;\n",
       "  padding: 0.5em;\n",
       "  box-sizing: border-box;\n",
       "  text-align: center;\n",
       "}\n",
       "\n",
       "#sk-container-id-11 label.sk-toggleable__label-arrow:before {\n",
       "  /* Arrow on the left of the label */\n",
       "  content: \"▸\";\n",
       "  float: left;\n",
       "  margin-right: 0.25em;\n",
       "  color: var(--sklearn-color-icon);\n",
       "}\n",
       "\n",
       "#sk-container-id-11 label.sk-toggleable__label-arrow:hover:before {\n",
       "  color: var(--sklearn-color-text);\n",
       "}\n",
       "\n",
       "/* Toggleable content - dropdown */\n",
       "\n",
       "#sk-container-id-11 div.sk-toggleable__content {\n",
       "  max-height: 0;\n",
       "  max-width: 0;\n",
       "  overflow: hidden;\n",
       "  text-align: left;\n",
       "  /* unfitted */\n",
       "  background-color: var(--sklearn-color-unfitted-level-0);\n",
       "}\n",
       "\n",
       "#sk-container-id-11 div.sk-toggleable__content.fitted {\n",
       "  /* fitted */\n",
       "  background-color: var(--sklearn-color-fitted-level-0);\n",
       "}\n",
       "\n",
       "#sk-container-id-11 div.sk-toggleable__content pre {\n",
       "  margin: 0.2em;\n",
       "  border-radius: 0.25em;\n",
       "  color: var(--sklearn-color-text);\n",
       "  /* unfitted */\n",
       "  background-color: var(--sklearn-color-unfitted-level-0);\n",
       "}\n",
       "\n",
       "#sk-container-id-11 div.sk-toggleable__content.fitted pre {\n",
       "  /* unfitted */\n",
       "  background-color: var(--sklearn-color-fitted-level-0);\n",
       "}\n",
       "\n",
       "#sk-container-id-11 input.sk-toggleable__control:checked~div.sk-toggleable__content {\n",
       "  /* Expand drop-down */\n",
       "  max-height: 200px;\n",
       "  max-width: 100%;\n",
       "  overflow: auto;\n",
       "}\n",
       "\n",
       "#sk-container-id-11 input.sk-toggleable__control:checked~label.sk-toggleable__label-arrow:before {\n",
       "  content: \"▾\";\n",
       "}\n",
       "\n",
       "/* Pipeline/ColumnTransformer-specific style */\n",
       "\n",
       "#sk-container-id-11 div.sk-label input.sk-toggleable__control:checked~label.sk-toggleable__label {\n",
       "  color: var(--sklearn-color-text);\n",
       "  background-color: var(--sklearn-color-unfitted-level-2);\n",
       "}\n",
       "\n",
       "#sk-container-id-11 div.sk-label.fitted input.sk-toggleable__control:checked~label.sk-toggleable__label {\n",
       "  background-color: var(--sklearn-color-fitted-level-2);\n",
       "}\n",
       "\n",
       "/* Estimator-specific style */\n",
       "\n",
       "/* Colorize estimator box */\n",
       "#sk-container-id-11 div.sk-estimator input.sk-toggleable__control:checked~label.sk-toggleable__label {\n",
       "  /* unfitted */\n",
       "  background-color: var(--sklearn-color-unfitted-level-2);\n",
       "}\n",
       "\n",
       "#sk-container-id-11 div.sk-estimator.fitted input.sk-toggleable__control:checked~label.sk-toggleable__label {\n",
       "  /* fitted */\n",
       "  background-color: var(--sklearn-color-fitted-level-2);\n",
       "}\n",
       "\n",
       "#sk-container-id-11 div.sk-label label.sk-toggleable__label,\n",
       "#sk-container-id-11 div.sk-label label {\n",
       "  /* The background is the default theme color */\n",
       "  color: var(--sklearn-color-text-on-default-background);\n",
       "}\n",
       "\n",
       "/* On hover, darken the color of the background */\n",
       "#sk-container-id-11 div.sk-label:hover label.sk-toggleable__label {\n",
       "  color: var(--sklearn-color-text);\n",
       "  background-color: var(--sklearn-color-unfitted-level-2);\n",
       "}\n",
       "\n",
       "/* Label box, darken color on hover, fitted */\n",
       "#sk-container-id-11 div.sk-label.fitted:hover label.sk-toggleable__label.fitted {\n",
       "  color: var(--sklearn-color-text);\n",
       "  background-color: var(--sklearn-color-fitted-level-2);\n",
       "}\n",
       "\n",
       "/* Estimator label */\n",
       "\n",
       "#sk-container-id-11 div.sk-label label {\n",
       "  font-family: monospace;\n",
       "  font-weight: bold;\n",
       "  display: inline-block;\n",
       "  line-height: 1.2em;\n",
       "}\n",
       "\n",
       "#sk-container-id-11 div.sk-label-container {\n",
       "  text-align: center;\n",
       "}\n",
       "\n",
       "/* Estimator-specific */\n",
       "#sk-container-id-11 div.sk-estimator {\n",
       "  font-family: monospace;\n",
       "  border: 1px dotted var(--sklearn-color-border-box);\n",
       "  border-radius: 0.25em;\n",
       "  box-sizing: border-box;\n",
       "  margin-bottom: 0.5em;\n",
       "  /* unfitted */\n",
       "  background-color: var(--sklearn-color-unfitted-level-0);\n",
       "}\n",
       "\n",
       "#sk-container-id-11 div.sk-estimator.fitted {\n",
       "  /* fitted */\n",
       "  background-color: var(--sklearn-color-fitted-level-0);\n",
       "}\n",
       "\n",
       "/* on hover */\n",
       "#sk-container-id-11 div.sk-estimator:hover {\n",
       "  /* unfitted */\n",
       "  background-color: var(--sklearn-color-unfitted-level-2);\n",
       "}\n",
       "\n",
       "#sk-container-id-11 div.sk-estimator.fitted:hover {\n",
       "  /* fitted */\n",
       "  background-color: var(--sklearn-color-fitted-level-2);\n",
       "}\n",
       "\n",
       "/* Specification for estimator info (e.g. \"i\" and \"?\") */\n",
       "\n",
       "/* Common style for \"i\" and \"?\" */\n",
       "\n",
       ".sk-estimator-doc-link,\n",
       "a:link.sk-estimator-doc-link,\n",
       "a:visited.sk-estimator-doc-link {\n",
       "  float: right;\n",
       "  font-size: smaller;\n",
       "  line-height: 1em;\n",
       "  font-family: monospace;\n",
       "  background-color: var(--sklearn-color-background);\n",
       "  border-radius: 1em;\n",
       "  height: 1em;\n",
       "  width: 1em;\n",
       "  text-decoration: none !important;\n",
       "  margin-left: 1ex;\n",
       "  /* unfitted */\n",
       "  border: var(--sklearn-color-unfitted-level-1) 1pt solid;\n",
       "  color: var(--sklearn-color-unfitted-level-1);\n",
       "}\n",
       "\n",
       ".sk-estimator-doc-link.fitted,\n",
       "a:link.sk-estimator-doc-link.fitted,\n",
       "a:visited.sk-estimator-doc-link.fitted {\n",
       "  /* fitted */\n",
       "  border: var(--sklearn-color-fitted-level-1) 1pt solid;\n",
       "  color: var(--sklearn-color-fitted-level-1);\n",
       "}\n",
       "\n",
       "/* On hover */\n",
       "div.sk-estimator:hover .sk-estimator-doc-link:hover,\n",
       ".sk-estimator-doc-link:hover,\n",
       "div.sk-label-container:hover .sk-estimator-doc-link:hover,\n",
       ".sk-estimator-doc-link:hover {\n",
       "  /* unfitted */\n",
       "  background-color: var(--sklearn-color-unfitted-level-3);\n",
       "  color: var(--sklearn-color-background);\n",
       "  text-decoration: none;\n",
       "}\n",
       "\n",
       "div.sk-estimator.fitted:hover .sk-estimator-doc-link.fitted:hover,\n",
       ".sk-estimator-doc-link.fitted:hover,\n",
       "div.sk-label-container:hover .sk-estimator-doc-link.fitted:hover,\n",
       ".sk-estimator-doc-link.fitted:hover {\n",
       "  /* fitted */\n",
       "  background-color: var(--sklearn-color-fitted-level-3);\n",
       "  color: var(--sklearn-color-background);\n",
       "  text-decoration: none;\n",
       "}\n",
       "\n",
       "/* Span, style for the box shown on hovering the info icon */\n",
       ".sk-estimator-doc-link span {\n",
       "  display: none;\n",
       "  z-index: 9999;\n",
       "  position: relative;\n",
       "  font-weight: normal;\n",
       "  right: .2ex;\n",
       "  padding: .5ex;\n",
       "  margin: .5ex;\n",
       "  width: min-content;\n",
       "  min-width: 20ex;\n",
       "  max-width: 50ex;\n",
       "  color: var(--sklearn-color-text);\n",
       "  box-shadow: 2pt 2pt 4pt #999;\n",
       "  /* unfitted */\n",
       "  background: var(--sklearn-color-unfitted-level-0);\n",
       "  border: .5pt solid var(--sklearn-color-unfitted-level-3);\n",
       "}\n",
       "\n",
       ".sk-estimator-doc-link.fitted span {\n",
       "  /* fitted */\n",
       "  background: var(--sklearn-color-fitted-level-0);\n",
       "  border: var(--sklearn-color-fitted-level-3);\n",
       "}\n",
       "\n",
       ".sk-estimator-doc-link:hover span {\n",
       "  display: block;\n",
       "}\n",
       "\n",
       "/* \"?\"-specific style due to the `<a>` HTML tag */\n",
       "\n",
       "#sk-container-id-11 a.estimator_doc_link {\n",
       "  float: right;\n",
       "  font-size: 1rem;\n",
       "  line-height: 1em;\n",
       "  font-family: monospace;\n",
       "  background-color: var(--sklearn-color-background);\n",
       "  border-radius: 1rem;\n",
       "  height: 1rem;\n",
       "  width: 1rem;\n",
       "  text-decoration: none;\n",
       "  /* unfitted */\n",
       "  color: var(--sklearn-color-unfitted-level-1);\n",
       "  border: var(--sklearn-color-unfitted-level-1) 1pt solid;\n",
       "}\n",
       "\n",
       "#sk-container-id-11 a.estimator_doc_link.fitted {\n",
       "  /* fitted */\n",
       "  border: var(--sklearn-color-fitted-level-1) 1pt solid;\n",
       "  color: var(--sklearn-color-fitted-level-1);\n",
       "}\n",
       "\n",
       "/* On hover */\n",
       "#sk-container-id-11 a.estimator_doc_link:hover {\n",
       "  /* unfitted */\n",
       "  background-color: var(--sklearn-color-unfitted-level-3);\n",
       "  color: var(--sklearn-color-background);\n",
       "  text-decoration: none;\n",
       "}\n",
       "\n",
       "#sk-container-id-11 a.estimator_doc_link.fitted:hover {\n",
       "  /* fitted */\n",
       "  background-color: var(--sklearn-color-fitted-level-3);\n",
       "}\n",
       "</style><div id=\"sk-container-id-11\" class=\"sk-top-container\"><div class=\"sk-text-repr-fallback\"><pre>LinearRegression()</pre><b>In a Jupyter environment, please rerun this cell to show the HTML representation or trust the notebook. <br />On GitHub, the HTML representation is unable to render, please try loading this page with nbviewer.org.</b></div><div class=\"sk-container\" hidden><div class=\"sk-item\"><div class=\"sk-estimator fitted sk-toggleable\"><input class=\"sk-toggleable__control sk-hidden--visually\" id=\"sk-estimator-id-11\" type=\"checkbox\" checked><label for=\"sk-estimator-id-11\" class=\"sk-toggleable__label fitted sk-toggleable__label-arrow fitted\">&nbsp;&nbsp;LinearRegression<a class=\"sk-estimator-doc-link fitted\" rel=\"noreferrer\" target=\"_blank\" href=\"https://scikit-learn.org/1.5/modules/generated/sklearn.linear_model.LinearRegression.html\">?<span>Documentation for LinearRegression</span></a><span class=\"sk-estimator-doc-link fitted\">i<span>Fitted</span></span></label><div class=\"sk-toggleable__content fitted\"><pre>LinearRegression()</pre></div> </div></div></div></div>"
      ],
      "text/plain": [
       "LinearRegression()"
      ]
     },
     "execution_count": 153,
     "metadata": {},
     "output_type": "execute_result"
    }
   ],
   "source": [
    "X_test_scaled = scaler.transform(x_test)\n",
    "lr = LinearRegression()\n",
    "lr.fit(X_test_scaled, y_test)"
   ]
  },
  {
   "cell_type": "code",
   "execution_count": 154,
   "id": "13e924ae-2dc5-4124-98db-ad2d76477bf7",
   "metadata": {
    "ExecuteTime": {
     "end_time": "2025-09-29T19:26:56.331294Z",
     "start_time": "2025-09-29T19:26:56.296071Z"
    }
   },
   "outputs": [
    {
     "data": {
      "text/plain": [
       "1.0"
      ]
     },
     "execution_count": 154,
     "metadata": {},
     "output_type": "execute_result"
    }
   ],
   "source": [
    "y_hat_test = lr.predict(X_test_scaled)\n",
    "r2_score(y_test, y_hat_test)"
   ]
  },
  {
   "cell_type": "code",
   "execution_count": 155,
   "id": "e00c86da-a27b-4d02-9ee2-590cda330785",
   "metadata": {
    "ExecuteTime": {
     "end_time": "2025-09-29T19:26:56.383620Z",
     "start_time": "2025-09-29T19:26:56.355764Z"
    }
   },
   "outputs": [
    {
     "data": {
      "text/html": [
       "<table class=\"simpletable\">\n",
       "<caption>OLS Regression Results</caption>\n",
       "<tr>\n",
       "  <th>Dep. Variable:</th>         <td>Profit</td>      <th>  R-squared:         </th> <td>   1.000</td> \n",
       "</tr>\n",
       "<tr>\n",
       "  <th>Model:</th>                   <td>OLS</td>       <th>  Adj. R-squared:    </th> <td>   1.000</td> \n",
       "</tr>\n",
       "<tr>\n",
       "  <th>Method:</th>             <td>Least Squares</td>  <th>  F-statistic:       </th> <td>9.931e+18</td>\n",
       "</tr>\n",
       "<tr>\n",
       "  <th>Date:</th>             <td>Mon, 29 Sep 2025</td> <th>  Prob (F-statistic):</th>  <td>  0.00</td>  \n",
       "</tr>\n",
       "<tr>\n",
       "  <th>Time:</th>                 <td>13:26:56</td>     <th>  Log-Likelihood:    </th> <td>  3514.8</td> \n",
       "</tr>\n",
       "<tr>\n",
       "  <th>No. Observations:</th>      <td>   420</td>      <th>  AIC:               </th> <td>  -6986.</td> \n",
       "</tr>\n",
       "<tr>\n",
       "  <th>Df Residuals:</th>          <td>   398</td>      <th>  BIC:               </th> <td>  -6897.</td> \n",
       "</tr>\n",
       "<tr>\n",
       "  <th>Df Model:</th>              <td>    21</td>      <th>                     </th>     <td> </td>    \n",
       "</tr>\n",
       "<tr>\n",
       "  <th>Covariance Type:</th>      <td>nonrobust</td>    <th>                     </th>     <td> </td>    \n",
       "</tr>\n",
       "</table>\n",
       "<table class=\"simpletable\">\n",
       "<tr>\n",
       "    <td></td>       <th>coef</th>     <th>std err</th>      <th>t</th>      <th>P>|t|</th>  <th>[0.025</th>    <th>0.975]</th>  \n",
       "</tr>\n",
       "<tr>\n",
       "  <th>const</th> <td> 2.617e+04</td> <td> 3.03e-06</td> <td> 8.63e+09</td> <td> 0.000</td> <td> 2.62e+04</td> <td> 2.62e+04</td>\n",
       "</tr>\n",
       "<tr>\n",
       "  <th>x1</th>    <td>-8.345e-11</td> <td> 3.53e-06</td> <td>-2.36e-05</td> <td> 1.000</td> <td>-6.94e-06</td> <td> 6.94e-06</td>\n",
       "</tr>\n",
       "<tr>\n",
       "  <th>x2</th>    <td>   -0.0002</td> <td> 3.46e-06</td> <td>  -71.669</td> <td> 0.000</td> <td>   -0.000</td> <td>   -0.000</td>\n",
       "</tr>\n",
       "<tr>\n",
       "  <th>x3</th>    <td>-2.469e-10</td> <td> 6.96e-06</td> <td>-3.55e-05</td> <td> 1.000</td> <td>-1.37e-05</td> <td> 1.37e-05</td>\n",
       "</tr>\n",
       "<tr>\n",
       "  <th>x4</th>    <td>   -0.0127</td> <td>  792.429</td> <td>-1.61e-05</td> <td> 1.000</td> <td>-1557.882</td> <td> 1557.856</td>\n",
       "</tr>\n",
       "<tr>\n",
       "  <th>x5</th>    <td>    0.0011</td> <td>   70.127</td> <td>  1.6e-05</td> <td> 1.000</td> <td> -137.865</td> <td>  137.867</td>\n",
       "</tr>\n",
       "<tr>\n",
       "  <th>x6</th>    <td> 2.424e+05</td> <td>  737.123</td> <td>  328.811</td> <td> 0.000</td> <td> 2.41e+05</td> <td> 2.44e+05</td>\n",
       "</tr>\n",
       "<tr>\n",
       "  <th>x7</th>    <td>-2.061e+05</td> <td> 5.65e-05</td> <td>-3.65e+09</td> <td> 0.000</td> <td>-2.06e+05</td> <td>-2.06e+05</td>\n",
       "</tr>\n",
       "<tr>\n",
       "  <th>x8</th>    <td>-4.366e-11</td> <td> 3.36e-06</td> <td> -1.3e-05</td> <td> 1.000</td> <td>-6.61e-06</td> <td> 6.61e-06</td>\n",
       "</tr>\n",
       "<tr>\n",
       "  <th>x9</th>    <td>-1.353e-10</td> <td> 3.01e-06</td> <td> -4.5e-05</td> <td> 1.000</td> <td>-5.92e-06</td> <td> 5.92e-06</td>\n",
       "</tr>\n",
       "<tr>\n",
       "  <th>x10</th>   <td> 1.819e-12</td> <td> 6.62e-06</td> <td> 2.75e-07</td> <td> 1.000</td> <td> -1.3e-05</td> <td>  1.3e-05</td>\n",
       "</tr>\n",
       "<tr>\n",
       "  <th>x11</th>   <td>-3.774e-11</td> <td> 4.71e-06</td> <td>-8.02e-06</td> <td> 1.000</td> <td>-9.26e-06</td> <td> 9.26e-06</td>\n",
       "</tr>\n",
       "<tr>\n",
       "  <th>x12</th>   <td>-4.206e-11</td> <td> 3.62e-06</td> <td>-1.16e-05</td> <td> 1.000</td> <td>-7.12e-06</td> <td> 7.12e-06</td>\n",
       "</tr>\n",
       "<tr>\n",
       "  <th>x13</th>   <td>-4.047e-11</td> <td> 6.59e-06</td> <td>-6.14e-06</td> <td> 1.000</td> <td>-1.29e-05</td> <td> 1.29e-05</td>\n",
       "</tr>\n",
       "<tr>\n",
       "  <th>x14</th>   <td>-2.274e-12</td> <td> 3.32e-06</td> <td>-6.85e-07</td> <td> 1.000</td> <td>-6.53e-06</td> <td> 6.53e-06</td>\n",
       "</tr>\n",
       "<tr>\n",
       "  <th>x15</th>   <td> 4.604e-11</td> <td> 3.58e-06</td> <td> 1.29e-05</td> <td> 1.000</td> <td>-7.03e-06</td> <td> 7.03e-06</td>\n",
       "</tr>\n",
       "<tr>\n",
       "  <th>x16</th>   <td>  2.16e-11</td> <td>  3.7e-06</td> <td> 5.84e-06</td> <td> 1.000</td> <td>-7.27e-06</td> <td> 7.27e-06</td>\n",
       "</tr>\n",
       "<tr>\n",
       "  <th>x17</th>   <td> 6.843e-12</td> <td> 3.84e-06</td> <td> 1.78e-06</td> <td> 1.000</td> <td>-7.54e-06</td> <td> 7.54e-06</td>\n",
       "</tr>\n",
       "<tr>\n",
       "  <th>x18</th>   <td>   -0.0002</td> <td> 2.72e-06</td> <td>  -73.736</td> <td> 0.000</td> <td>   -0.000</td> <td>   -0.000</td>\n",
       "</tr>\n",
       "<tr>\n",
       "  <th>x19</th>   <td>   -0.0002</td> <td> 2.72e-06</td> <td>  -74.947</td> <td> 0.000</td> <td>   -0.000</td> <td>   -0.000</td>\n",
       "</tr>\n",
       "<tr>\n",
       "  <th>x20</th>   <td>   -0.0002</td> <td> 2.58e-06</td> <td>  -96.449</td> <td> 0.000</td> <td>   -0.000</td> <td>   -0.000</td>\n",
       "</tr>\n",
       "<tr>\n",
       "  <th>x21</th>   <td>-7.898e-06</td> <td> 3.62e-06</td> <td>   -2.184</td> <td> 0.030</td> <td> -1.5e-05</td> <td>-7.88e-07</td>\n",
       "</tr>\n",
       "<tr>\n",
       "  <th>x22</th>   <td>   -0.0001</td> <td> 3.55e-06</td> <td>  -35.888</td> <td> 0.000</td> <td>   -0.000</td> <td>   -0.000</td>\n",
       "</tr>\n",
       "</table>\n",
       "<table class=\"simpletable\">\n",
       "<tr>\n",
       "  <th>Omnibus:</th>       <td>139.553</td> <th>  Durbin-Watson:     </th> <td>   1.769</td>\n",
       "</tr>\n",
       "<tr>\n",
       "  <th>Prob(Omnibus):</th> <td> 0.000</td>  <th>  Jarque-Bera (JB):  </th> <td> 315.247</td>\n",
       "</tr>\n",
       "<tr>\n",
       "  <th>Skew:</th>          <td> 1.748</td>  <th>  Prob(JB):          </th> <td>3.51e-69</td>\n",
       "</tr>\n",
       "<tr>\n",
       "  <th>Kurtosis:</th>      <td> 5.407</td>  <th>  Cond. No.          </th> <td>2.41e+15</td>\n",
       "</tr>\n",
       "</table><br/><br/>Notes:<br/>[1] Standard Errors assume that the covariance matrix of the errors is correctly specified.<br/>[2] The smallest eigenvalue is 3.34e-28. This might indicate that there are<br/>strong multicollinearity problems or that the design matrix is singular."
      ],
      "text/latex": [
       "\\begin{center}\n",
       "\\begin{tabular}{lclc}\n",
       "\\toprule\n",
       "\\textbf{Dep. Variable:}    &      Profit      & \\textbf{  R-squared:         } &     1.000   \\\\\n",
       "\\textbf{Model:}            &       OLS        & \\textbf{  Adj. R-squared:    } &     1.000   \\\\\n",
       "\\textbf{Method:}           &  Least Squares   & \\textbf{  F-statistic:       } & 9.931e+18   \\\\\n",
       "\\textbf{Date:}             & Mon, 29 Sep 2025 & \\textbf{  Prob (F-statistic):} &     0.00    \\\\\n",
       "\\textbf{Time:}             &     13:26:56     & \\textbf{  Log-Likelihood:    } &    3514.8   \\\\\n",
       "\\textbf{No. Observations:} &         420      & \\textbf{  AIC:               } &    -6986.   \\\\\n",
       "\\textbf{Df Residuals:}     &         398      & \\textbf{  BIC:               } &    -6897.   \\\\\n",
       "\\textbf{Df Model:}         &          21      & \\textbf{                     } &             \\\\\n",
       "\\textbf{Covariance Type:}  &    nonrobust     & \\textbf{                     } &             \\\\\n",
       "\\bottomrule\n",
       "\\end{tabular}\n",
       "\\begin{tabular}{lcccccc}\n",
       "               & \\textbf{coef} & \\textbf{std err} & \\textbf{t} & \\textbf{P$> |$t$|$} & \\textbf{[0.025} & \\textbf{0.975]}  \\\\\n",
       "\\midrule\n",
       "\\textbf{const} &    2.617e+04  &     3.03e-06     &  8.63e+09  &         0.000        &     2.62e+04    &     2.62e+04     \\\\\n",
       "\\textbf{x1}    &   -8.345e-11  &     3.53e-06     & -2.36e-05  &         1.000        &    -6.94e-06    &     6.94e-06     \\\\\n",
       "\\textbf{x2}    &      -0.0002  &     3.46e-06     &   -71.669  &         0.000        &       -0.000    &       -0.000     \\\\\n",
       "\\textbf{x3}    &   -2.469e-10  &     6.96e-06     & -3.55e-05  &         1.000        &    -1.37e-05    &     1.37e-05     \\\\\n",
       "\\textbf{x4}    &      -0.0127  &      792.429     & -1.61e-05  &         1.000        &    -1557.882    &     1557.856     \\\\\n",
       "\\textbf{x5}    &       0.0011  &       70.127     &   1.6e-05  &         1.000        &     -137.865    &      137.867     \\\\\n",
       "\\textbf{x6}    &    2.424e+05  &      737.123     &   328.811  &         0.000        &     2.41e+05    &     2.44e+05     \\\\\n",
       "\\textbf{x7}    &   -2.061e+05  &     5.65e-05     & -3.65e+09  &         0.000        &    -2.06e+05    &    -2.06e+05     \\\\\n",
       "\\textbf{x8}    &   -4.366e-11  &     3.36e-06     &  -1.3e-05  &         1.000        &    -6.61e-06    &     6.61e-06     \\\\\n",
       "\\textbf{x9}    &   -1.353e-10  &     3.01e-06     &  -4.5e-05  &         1.000        &    -5.92e-06    &     5.92e-06     \\\\\n",
       "\\textbf{x10}   &    1.819e-12  &     6.62e-06     &  2.75e-07  &         1.000        &     -1.3e-05    &      1.3e-05     \\\\\n",
       "\\textbf{x11}   &   -3.774e-11  &     4.71e-06     & -8.02e-06  &         1.000        &    -9.26e-06    &     9.26e-06     \\\\\n",
       "\\textbf{x12}   &   -4.206e-11  &     3.62e-06     & -1.16e-05  &         1.000        &    -7.12e-06    &     7.12e-06     \\\\\n",
       "\\textbf{x13}   &   -4.047e-11  &     6.59e-06     & -6.14e-06  &         1.000        &    -1.29e-05    &     1.29e-05     \\\\\n",
       "\\textbf{x14}   &   -2.274e-12  &     3.32e-06     & -6.85e-07  &         1.000        &    -6.53e-06    &     6.53e-06     \\\\\n",
       "\\textbf{x15}   &    4.604e-11  &     3.58e-06     &  1.29e-05  &         1.000        &    -7.03e-06    &     7.03e-06     \\\\\n",
       "\\textbf{x16}   &     2.16e-11  &      3.7e-06     &  5.84e-06  &         1.000        &    -7.27e-06    &     7.27e-06     \\\\\n",
       "\\textbf{x17}   &    6.843e-12  &     3.84e-06     &  1.78e-06  &         1.000        &    -7.54e-06    &     7.54e-06     \\\\\n",
       "\\textbf{x18}   &      -0.0002  &     2.72e-06     &   -73.736  &         0.000        &       -0.000    &       -0.000     \\\\\n",
       "\\textbf{x19}   &      -0.0002  &     2.72e-06     &   -74.947  &         0.000        &       -0.000    &       -0.000     \\\\\n",
       "\\textbf{x20}   &      -0.0002  &     2.58e-06     &   -96.449  &         0.000        &       -0.000    &       -0.000     \\\\\n",
       "\\textbf{x21}   &   -7.898e-06  &     3.62e-06     &    -2.184  &         0.030        &     -1.5e-05    &    -7.88e-07     \\\\\n",
       "\\textbf{x22}   &      -0.0001  &     3.55e-06     &   -35.888  &         0.000        &       -0.000    &       -0.000     \\\\\n",
       "\\bottomrule\n",
       "\\end{tabular}\n",
       "\\begin{tabular}{lclc}\n",
       "\\textbf{Omnibus:}       & 139.553 & \\textbf{  Durbin-Watson:     } &    1.769  \\\\\n",
       "\\textbf{Prob(Omnibus):} &   0.000 & \\textbf{  Jarque-Bera (JB):  } &  315.247  \\\\\n",
       "\\textbf{Skew:}          &   1.748 & \\textbf{  Prob(JB):          } & 3.51e-69  \\\\\n",
       "\\textbf{Kurtosis:}      &   5.407 & \\textbf{  Cond. No.          } & 2.41e+15  \\\\\n",
       "\\bottomrule\n",
       "\\end{tabular}\n",
       "%\\caption{OLS Regression Results}\n",
       "\\end{center}\n",
       "\n",
       "Notes: \\newline\n",
       " [1] Standard Errors assume that the covariance matrix of the errors is correctly specified. \\newline\n",
       " [2] The smallest eigenvalue is 3.34e-28. This might indicate that there are \\newline\n",
       " strong multicollinearity problems or that the design matrix is singular."
      ],
      "text/plain": [
       "<class 'statsmodels.iolib.summary.Summary'>\n",
       "\"\"\"\n",
       "                            OLS Regression Results                            \n",
       "==============================================================================\n",
       "Dep. Variable:                 Profit   R-squared:                       1.000\n",
       "Model:                            OLS   Adj. R-squared:                  1.000\n",
       "Method:                 Least Squares   F-statistic:                 9.931e+18\n",
       "Date:                Mon, 29 Sep 2025   Prob (F-statistic):               0.00\n",
       "Time:                        13:26:56   Log-Likelihood:                 3514.8\n",
       "No. Observations:                 420   AIC:                            -6986.\n",
       "Df Residuals:                     398   BIC:                            -6897.\n",
       "Df Model:                          21                                         \n",
       "Covariance Type:            nonrobust                                         \n",
       "==============================================================================\n",
       "                 coef    std err          t      P>|t|      [0.025      0.975]\n",
       "------------------------------------------------------------------------------\n",
       "const       2.617e+04   3.03e-06   8.63e+09      0.000    2.62e+04    2.62e+04\n",
       "x1         -8.345e-11   3.53e-06  -2.36e-05      1.000   -6.94e-06    6.94e-06\n",
       "x2            -0.0002   3.46e-06    -71.669      0.000      -0.000      -0.000\n",
       "x3         -2.469e-10   6.96e-06  -3.55e-05      1.000   -1.37e-05    1.37e-05\n",
       "x4            -0.0127    792.429  -1.61e-05      1.000   -1557.882    1557.856\n",
       "x5             0.0011     70.127    1.6e-05      1.000    -137.865     137.867\n",
       "x6          2.424e+05    737.123    328.811      0.000    2.41e+05    2.44e+05\n",
       "x7         -2.061e+05   5.65e-05  -3.65e+09      0.000   -2.06e+05   -2.06e+05\n",
       "x8         -4.366e-11   3.36e-06   -1.3e-05      1.000   -6.61e-06    6.61e-06\n",
       "x9         -1.353e-10   3.01e-06   -4.5e-05      1.000   -5.92e-06    5.92e-06\n",
       "x10         1.819e-12   6.62e-06   2.75e-07      1.000    -1.3e-05     1.3e-05\n",
       "x11        -3.774e-11   4.71e-06  -8.02e-06      1.000   -9.26e-06    9.26e-06\n",
       "x12        -4.206e-11   3.62e-06  -1.16e-05      1.000   -7.12e-06    7.12e-06\n",
       "x13        -4.047e-11   6.59e-06  -6.14e-06      1.000   -1.29e-05    1.29e-05\n",
       "x14        -2.274e-12   3.32e-06  -6.85e-07      1.000   -6.53e-06    6.53e-06\n",
       "x15         4.604e-11   3.58e-06   1.29e-05      1.000   -7.03e-06    7.03e-06\n",
       "x16          2.16e-11    3.7e-06   5.84e-06      1.000   -7.27e-06    7.27e-06\n",
       "x17         6.843e-12   3.84e-06   1.78e-06      1.000   -7.54e-06    7.54e-06\n",
       "x18           -0.0002   2.72e-06    -73.736      0.000      -0.000      -0.000\n",
       "x19           -0.0002   2.72e-06    -74.947      0.000      -0.000      -0.000\n",
       "x20           -0.0002   2.58e-06    -96.449      0.000      -0.000      -0.000\n",
       "x21        -7.898e-06   3.62e-06     -2.184      0.030    -1.5e-05   -7.88e-07\n",
       "x22           -0.0001   3.55e-06    -35.888      0.000      -0.000      -0.000\n",
       "==============================================================================\n",
       "Omnibus:                      139.553   Durbin-Watson:                   1.769\n",
       "Prob(Omnibus):                  0.000   Jarque-Bera (JB):              315.247\n",
       "Skew:                           1.748   Prob(JB):                     3.51e-69\n",
       "Kurtosis:                       5.407   Cond. No.                     2.41e+15\n",
       "==============================================================================\n",
       "\n",
       "Notes:\n",
       "[1] Standard Errors assume that the covariance matrix of the errors is correctly specified.\n",
       "[2] The smallest eigenvalue is 3.34e-28. This might indicate that there are\n",
       "strong multicollinearity problems or that the design matrix is singular.\n",
       "\"\"\""
      ]
     },
     "execution_count": 155,
     "metadata": {},
     "output_type": "execute_result"
    }
   ],
   "source": [
    "n = len(X_test_scaled)\n",
    "unos = np.ones([n,1])\n",
    "X = np.column_stack([unos,X_test_scaled])\n",
    "ols = sm.OLS(y_test, X)\n",
    "results = ols.fit()\n",
    "results.summary()"
   ]
  },
  {
   "cell_type": "markdown",
   "id": "dfb70faa-7262-4f4b-be10-77ee318c08df",
   "metadata": {},
   "source": [
    "### Análisis de significancia"
   ]
  },
  {
   "cell_type": "markdown",
   "id": "b5bbc73d-c422-4369-8b68-636e764f5706",
   "metadata": {},
   "source": [
    "En este caso, la mayoría de las variables como las unidades vendidas, el precio de manufactura, las ventas brutas, los descuentos, los costos y hasta los segmentos y países muestran p-values muy altos, lo que significa que no tienen un efecto real sobre el Profit y su influencia podría deberse al azar. En cambio, las variables relacionadas con los productos (Carretera, Montana, Paseo, VTT y Velo) presentan p-values muy bajos, lo que indica que sí son significativas y realmente ayudan a explicar las variaciones en la ganancia."
   ]
  },
  {
   "cell_type": "markdown",
   "id": "6a8a07bc-6dd9-4c4b-951d-5e38079f7e50",
   "metadata": {},
   "source": [
    "#### Interpretación signos Betas"
   ]
  },
  {
   "cell_type": "markdown",
   "id": "c9e78025-d691-442a-88b3-d0d32094616b",
   "metadata": {},
   "source": [
    "- Constante: Representa el valor base del Profit, que es de aproximadamente 26170, cuando todas las demás variables están en cero, es decir, el punto de partida del modelo.\n",
    "\n",
    "- Units Sold: Tiene un coeficiente positivo muy pequeño (1.887e-11), lo que significa que el número de unidades vendidas prácticamente no tiene un efecto real sobre la ganancia.\n",
    "\n",
    "- Manufacturing Price: Presenta un valor positivo bajo (0.0021), indicando que un aumento en el precio de fabricación tiene un efecto muy limitado sobre el Profit.\n",
    "\n",
    "- Sale Price: Su coeficiente es muy pequeño (2.274e-11), por lo que no influye de manera importante en la ganancia.\n",
    "\n",
    "- Gross Sales: Tiene un coeficiente positivo de 0.0020, lo que sugiere un aporte bajo al Profit.\n",
    "\n",
    "- Discounts: Su valor es de -0.0004, indicando que los descuentos tienden a reducir levemente la ganancia.\n",
    "\n",
    "- Sales: Presenta un coeficiente alto y positivo (224200), lo que significa que las ventas son un factor fuertemente asociado al aumento del Profit.\n",
    "\n",
    "- COGS: Su coeficiente es negativo y grande (-206100), mostrando que los costos de los bienes vendidos reducen fuertemente la ganancia.\n",
    "\n",
    "- Month Number: Su valor es negativo pero muy pequeño (-1.876e-11), lo que indica que el número de mes no tiene un efecto significativo en el Profit.\n",
    "\n",
    "- Year: Muestra un coeficiente negativo prácticamente nulo (-9.123e-11), sin influencia real en la ganancia.\n",
    "\n",
    "- Segment_Enterprise: Tiene un coeficiente positivo pequeño (3.058e-11), lo que implica que pertenecer al segmento Enterprise casi no influye en el Profit.\n",
    "\n",
    "- Segment_Government: Presenta un valor positivo bajo (8.822e-11), con un efecto prácticamente nulo sobre la ganancia.\n",
    "\n",
    "- Segment_Midmarket: Su coeficiente es positivo y muy pequeño (5.753e-11), indicando poca o nula relevancia.\n",
    "\n",
    "- Segment_Small Business: Tiene un coeficiente positivo (4.775e-12) tan pequeño que no influye en el Profit.\n",
    "\n",
    "- Country_France: Su coeficiente es negativo muy bajo (-2.808e-11), sin importancia en la ganancia.\n",
    "\n",
    "- Country_Germany: Presenta un valor negativo mínimo (-3.133e-11), también irrelevante.\n",
    "\n",
    "- Country_Mexico: Tiene un coeficiente positivo (1.012e-11) pero demasiado pequeño para tener efecto real.\n",
    "\n",
    "- Country_United States of America: Su valor es negativo y casi nulo (-7.753e-11), sin impacto en el Profit.\n",
    "\n",
    "- Product_Carretera: Presenta un coeficiente positivo de 0.0017, lo que indica un aporte leve al Profit.\n",
    "\n",
    "- Product_Montana: Tiene un coeficiente de 0.0017, también positivo y con un efecto pequeño en la ganancia.\n",
    "\n",
    "- Product_Paseo: Su coeficiente es positivo (0.0021), un poco más alto que los anteriores, lo que indica un efecto moderado en el aumento del Profit.\n",
    "\n",
    "- Product_VTT: Muestra un valor positivo bajo (6.656e-05), con un impacto muy leve en la ganancia.\n",
    "\n",
    "- Product_Velo: Tiene un coeficiente positivo de 0.0011, que representa un pequeño efecto en el Profit"
   ]
  },
  {
   "cell_type": "markdown",
   "id": "45013c2e-a1c1-4c56-b283-5305ac95df79",
   "metadata": {},
   "source": [
    "### Ridge"
   ]
  },
  {
   "cell_type": "code",
   "execution_count": 156,
   "id": "88afc1a4-2781-49cf-8d46-66aa64ccc2cd",
   "metadata": {
    "ExecuteTime": {
     "end_time": "2025-09-29T19:26:56.399381Z",
     "start_time": "2025-09-29T19:26:56.392751Z"
    }
   },
   "outputs": [
    {
     "data": {
      "text/html": [
       "<style>#sk-container-id-12 {\n",
       "  /* Definition of color scheme common for light and dark mode */\n",
       "  --sklearn-color-text: black;\n",
       "  --sklearn-color-line: gray;\n",
       "  /* Definition of color scheme for unfitted estimators */\n",
       "  --sklearn-color-unfitted-level-0: #fff5e6;\n",
       "  --sklearn-color-unfitted-level-1: #f6e4d2;\n",
       "  --sklearn-color-unfitted-level-2: #ffe0b3;\n",
       "  --sklearn-color-unfitted-level-3: chocolate;\n",
       "  /* Definition of color scheme for fitted estimators */\n",
       "  --sklearn-color-fitted-level-0: #f0f8ff;\n",
       "  --sklearn-color-fitted-level-1: #d4ebff;\n",
       "  --sklearn-color-fitted-level-2: #b3dbfd;\n",
       "  --sklearn-color-fitted-level-3: cornflowerblue;\n",
       "\n",
       "  /* Specific color for light theme */\n",
       "  --sklearn-color-text-on-default-background: var(--sg-text-color, var(--theme-code-foreground, var(--jp-content-font-color1, black)));\n",
       "  --sklearn-color-background: var(--sg-background-color, var(--theme-background, var(--jp-layout-color0, white)));\n",
       "  --sklearn-color-border-box: var(--sg-text-color, var(--theme-code-foreground, var(--jp-content-font-color1, black)));\n",
       "  --sklearn-color-icon: #696969;\n",
       "\n",
       "  @media (prefers-color-scheme: dark) {\n",
       "    /* Redefinition of color scheme for dark theme */\n",
       "    --sklearn-color-text-on-default-background: var(--sg-text-color, var(--theme-code-foreground, var(--jp-content-font-color1, white)));\n",
       "    --sklearn-color-background: var(--sg-background-color, var(--theme-background, var(--jp-layout-color0, #111)));\n",
       "    --sklearn-color-border-box: var(--sg-text-color, var(--theme-code-foreground, var(--jp-content-font-color1, white)));\n",
       "    --sklearn-color-icon: #878787;\n",
       "  }\n",
       "}\n",
       "\n",
       "#sk-container-id-12 {\n",
       "  color: var(--sklearn-color-text);\n",
       "}\n",
       "\n",
       "#sk-container-id-12 pre {\n",
       "  padding: 0;\n",
       "}\n",
       "\n",
       "#sk-container-id-12 input.sk-hidden--visually {\n",
       "  border: 0;\n",
       "  clip: rect(1px 1px 1px 1px);\n",
       "  clip: rect(1px, 1px, 1px, 1px);\n",
       "  height: 1px;\n",
       "  margin: -1px;\n",
       "  overflow: hidden;\n",
       "  padding: 0;\n",
       "  position: absolute;\n",
       "  width: 1px;\n",
       "}\n",
       "\n",
       "#sk-container-id-12 div.sk-dashed-wrapped {\n",
       "  border: 1px dashed var(--sklearn-color-line);\n",
       "  margin: 0 0.4em 0.5em 0.4em;\n",
       "  box-sizing: border-box;\n",
       "  padding-bottom: 0.4em;\n",
       "  background-color: var(--sklearn-color-background);\n",
       "}\n",
       "\n",
       "#sk-container-id-12 div.sk-container {\n",
       "  /* jupyter's `normalize.less` sets `[hidden] { display: none; }`\n",
       "     but bootstrap.min.css set `[hidden] { display: none !important; }`\n",
       "     so we also need the `!important` here to be able to override the\n",
       "     default hidden behavior on the sphinx rendered scikit-learn.org.\n",
       "     See: https://github.com/scikit-learn/scikit-learn/issues/21755 */\n",
       "  display: inline-block !important;\n",
       "  position: relative;\n",
       "}\n",
       "\n",
       "#sk-container-id-12 div.sk-text-repr-fallback {\n",
       "  display: none;\n",
       "}\n",
       "\n",
       "div.sk-parallel-item,\n",
       "div.sk-serial,\n",
       "div.sk-item {\n",
       "  /* draw centered vertical line to link estimators */\n",
       "  background-image: linear-gradient(var(--sklearn-color-text-on-default-background), var(--sklearn-color-text-on-default-background));\n",
       "  background-size: 2px 100%;\n",
       "  background-repeat: no-repeat;\n",
       "  background-position: center center;\n",
       "}\n",
       "\n",
       "/* Parallel-specific style estimator block */\n",
       "\n",
       "#sk-container-id-12 div.sk-parallel-item::after {\n",
       "  content: \"\";\n",
       "  width: 100%;\n",
       "  border-bottom: 2px solid var(--sklearn-color-text-on-default-background);\n",
       "  flex-grow: 1;\n",
       "}\n",
       "\n",
       "#sk-container-id-12 div.sk-parallel {\n",
       "  display: flex;\n",
       "  align-items: stretch;\n",
       "  justify-content: center;\n",
       "  background-color: var(--sklearn-color-background);\n",
       "  position: relative;\n",
       "}\n",
       "\n",
       "#sk-container-id-12 div.sk-parallel-item {\n",
       "  display: flex;\n",
       "  flex-direction: column;\n",
       "}\n",
       "\n",
       "#sk-container-id-12 div.sk-parallel-item:first-child::after {\n",
       "  align-self: flex-end;\n",
       "  width: 50%;\n",
       "}\n",
       "\n",
       "#sk-container-id-12 div.sk-parallel-item:last-child::after {\n",
       "  align-self: flex-start;\n",
       "  width: 50%;\n",
       "}\n",
       "\n",
       "#sk-container-id-12 div.sk-parallel-item:only-child::after {\n",
       "  width: 0;\n",
       "}\n",
       "\n",
       "/* Serial-specific style estimator block */\n",
       "\n",
       "#sk-container-id-12 div.sk-serial {\n",
       "  display: flex;\n",
       "  flex-direction: column;\n",
       "  align-items: center;\n",
       "  background-color: var(--sklearn-color-background);\n",
       "  padding-right: 1em;\n",
       "  padding-left: 1em;\n",
       "}\n",
       "\n",
       "\n",
       "/* Toggleable style: style used for estimator/Pipeline/ColumnTransformer box that is\n",
       "clickable and can be expanded/collapsed.\n",
       "- Pipeline and ColumnTransformer use this feature and define the default style\n",
       "- Estimators will overwrite some part of the style using the `sk-estimator` class\n",
       "*/\n",
       "\n",
       "/* Pipeline and ColumnTransformer style (default) */\n",
       "\n",
       "#sk-container-id-12 div.sk-toggleable {\n",
       "  /* Default theme specific background. It is overwritten whether we have a\n",
       "  specific estimator or a Pipeline/ColumnTransformer */\n",
       "  background-color: var(--sklearn-color-background);\n",
       "}\n",
       "\n",
       "/* Toggleable label */\n",
       "#sk-container-id-12 label.sk-toggleable__label {\n",
       "  cursor: pointer;\n",
       "  display: block;\n",
       "  width: 100%;\n",
       "  margin-bottom: 0;\n",
       "  padding: 0.5em;\n",
       "  box-sizing: border-box;\n",
       "  text-align: center;\n",
       "}\n",
       "\n",
       "#sk-container-id-12 label.sk-toggleable__label-arrow:before {\n",
       "  /* Arrow on the left of the label */\n",
       "  content: \"▸\";\n",
       "  float: left;\n",
       "  margin-right: 0.25em;\n",
       "  color: var(--sklearn-color-icon);\n",
       "}\n",
       "\n",
       "#sk-container-id-12 label.sk-toggleable__label-arrow:hover:before {\n",
       "  color: var(--sklearn-color-text);\n",
       "}\n",
       "\n",
       "/* Toggleable content - dropdown */\n",
       "\n",
       "#sk-container-id-12 div.sk-toggleable__content {\n",
       "  max-height: 0;\n",
       "  max-width: 0;\n",
       "  overflow: hidden;\n",
       "  text-align: left;\n",
       "  /* unfitted */\n",
       "  background-color: var(--sklearn-color-unfitted-level-0);\n",
       "}\n",
       "\n",
       "#sk-container-id-12 div.sk-toggleable__content.fitted {\n",
       "  /* fitted */\n",
       "  background-color: var(--sklearn-color-fitted-level-0);\n",
       "}\n",
       "\n",
       "#sk-container-id-12 div.sk-toggleable__content pre {\n",
       "  margin: 0.2em;\n",
       "  border-radius: 0.25em;\n",
       "  color: var(--sklearn-color-text);\n",
       "  /* unfitted */\n",
       "  background-color: var(--sklearn-color-unfitted-level-0);\n",
       "}\n",
       "\n",
       "#sk-container-id-12 div.sk-toggleable__content.fitted pre {\n",
       "  /* unfitted */\n",
       "  background-color: var(--sklearn-color-fitted-level-0);\n",
       "}\n",
       "\n",
       "#sk-container-id-12 input.sk-toggleable__control:checked~div.sk-toggleable__content {\n",
       "  /* Expand drop-down */\n",
       "  max-height: 200px;\n",
       "  max-width: 100%;\n",
       "  overflow: auto;\n",
       "}\n",
       "\n",
       "#sk-container-id-12 input.sk-toggleable__control:checked~label.sk-toggleable__label-arrow:before {\n",
       "  content: \"▾\";\n",
       "}\n",
       "\n",
       "/* Pipeline/ColumnTransformer-specific style */\n",
       "\n",
       "#sk-container-id-12 div.sk-label input.sk-toggleable__control:checked~label.sk-toggleable__label {\n",
       "  color: var(--sklearn-color-text);\n",
       "  background-color: var(--sklearn-color-unfitted-level-2);\n",
       "}\n",
       "\n",
       "#sk-container-id-12 div.sk-label.fitted input.sk-toggleable__control:checked~label.sk-toggleable__label {\n",
       "  background-color: var(--sklearn-color-fitted-level-2);\n",
       "}\n",
       "\n",
       "/* Estimator-specific style */\n",
       "\n",
       "/* Colorize estimator box */\n",
       "#sk-container-id-12 div.sk-estimator input.sk-toggleable__control:checked~label.sk-toggleable__label {\n",
       "  /* unfitted */\n",
       "  background-color: var(--sklearn-color-unfitted-level-2);\n",
       "}\n",
       "\n",
       "#sk-container-id-12 div.sk-estimator.fitted input.sk-toggleable__control:checked~label.sk-toggleable__label {\n",
       "  /* fitted */\n",
       "  background-color: var(--sklearn-color-fitted-level-2);\n",
       "}\n",
       "\n",
       "#sk-container-id-12 div.sk-label label.sk-toggleable__label,\n",
       "#sk-container-id-12 div.sk-label label {\n",
       "  /* The background is the default theme color */\n",
       "  color: var(--sklearn-color-text-on-default-background);\n",
       "}\n",
       "\n",
       "/* On hover, darken the color of the background */\n",
       "#sk-container-id-12 div.sk-label:hover label.sk-toggleable__label {\n",
       "  color: var(--sklearn-color-text);\n",
       "  background-color: var(--sklearn-color-unfitted-level-2);\n",
       "}\n",
       "\n",
       "/* Label box, darken color on hover, fitted */\n",
       "#sk-container-id-12 div.sk-label.fitted:hover label.sk-toggleable__label.fitted {\n",
       "  color: var(--sklearn-color-text);\n",
       "  background-color: var(--sklearn-color-fitted-level-2);\n",
       "}\n",
       "\n",
       "/* Estimator label */\n",
       "\n",
       "#sk-container-id-12 div.sk-label label {\n",
       "  font-family: monospace;\n",
       "  font-weight: bold;\n",
       "  display: inline-block;\n",
       "  line-height: 1.2em;\n",
       "}\n",
       "\n",
       "#sk-container-id-12 div.sk-label-container {\n",
       "  text-align: center;\n",
       "}\n",
       "\n",
       "/* Estimator-specific */\n",
       "#sk-container-id-12 div.sk-estimator {\n",
       "  font-family: monospace;\n",
       "  border: 1px dotted var(--sklearn-color-border-box);\n",
       "  border-radius: 0.25em;\n",
       "  box-sizing: border-box;\n",
       "  margin-bottom: 0.5em;\n",
       "  /* unfitted */\n",
       "  background-color: var(--sklearn-color-unfitted-level-0);\n",
       "}\n",
       "\n",
       "#sk-container-id-12 div.sk-estimator.fitted {\n",
       "  /* fitted */\n",
       "  background-color: var(--sklearn-color-fitted-level-0);\n",
       "}\n",
       "\n",
       "/* on hover */\n",
       "#sk-container-id-12 div.sk-estimator:hover {\n",
       "  /* unfitted */\n",
       "  background-color: var(--sklearn-color-unfitted-level-2);\n",
       "}\n",
       "\n",
       "#sk-container-id-12 div.sk-estimator.fitted:hover {\n",
       "  /* fitted */\n",
       "  background-color: var(--sklearn-color-fitted-level-2);\n",
       "}\n",
       "\n",
       "/* Specification for estimator info (e.g. \"i\" and \"?\") */\n",
       "\n",
       "/* Common style for \"i\" and \"?\" */\n",
       "\n",
       ".sk-estimator-doc-link,\n",
       "a:link.sk-estimator-doc-link,\n",
       "a:visited.sk-estimator-doc-link {\n",
       "  float: right;\n",
       "  font-size: smaller;\n",
       "  line-height: 1em;\n",
       "  font-family: monospace;\n",
       "  background-color: var(--sklearn-color-background);\n",
       "  border-radius: 1em;\n",
       "  height: 1em;\n",
       "  width: 1em;\n",
       "  text-decoration: none !important;\n",
       "  margin-left: 1ex;\n",
       "  /* unfitted */\n",
       "  border: var(--sklearn-color-unfitted-level-1) 1pt solid;\n",
       "  color: var(--sklearn-color-unfitted-level-1);\n",
       "}\n",
       "\n",
       ".sk-estimator-doc-link.fitted,\n",
       "a:link.sk-estimator-doc-link.fitted,\n",
       "a:visited.sk-estimator-doc-link.fitted {\n",
       "  /* fitted */\n",
       "  border: var(--sklearn-color-fitted-level-1) 1pt solid;\n",
       "  color: var(--sklearn-color-fitted-level-1);\n",
       "}\n",
       "\n",
       "/* On hover */\n",
       "div.sk-estimator:hover .sk-estimator-doc-link:hover,\n",
       ".sk-estimator-doc-link:hover,\n",
       "div.sk-label-container:hover .sk-estimator-doc-link:hover,\n",
       ".sk-estimator-doc-link:hover {\n",
       "  /* unfitted */\n",
       "  background-color: var(--sklearn-color-unfitted-level-3);\n",
       "  color: var(--sklearn-color-background);\n",
       "  text-decoration: none;\n",
       "}\n",
       "\n",
       "div.sk-estimator.fitted:hover .sk-estimator-doc-link.fitted:hover,\n",
       ".sk-estimator-doc-link.fitted:hover,\n",
       "div.sk-label-container:hover .sk-estimator-doc-link.fitted:hover,\n",
       ".sk-estimator-doc-link.fitted:hover {\n",
       "  /* fitted */\n",
       "  background-color: var(--sklearn-color-fitted-level-3);\n",
       "  color: var(--sklearn-color-background);\n",
       "  text-decoration: none;\n",
       "}\n",
       "\n",
       "/* Span, style for the box shown on hovering the info icon */\n",
       ".sk-estimator-doc-link span {\n",
       "  display: none;\n",
       "  z-index: 9999;\n",
       "  position: relative;\n",
       "  font-weight: normal;\n",
       "  right: .2ex;\n",
       "  padding: .5ex;\n",
       "  margin: .5ex;\n",
       "  width: min-content;\n",
       "  min-width: 20ex;\n",
       "  max-width: 50ex;\n",
       "  color: var(--sklearn-color-text);\n",
       "  box-shadow: 2pt 2pt 4pt #999;\n",
       "  /* unfitted */\n",
       "  background: var(--sklearn-color-unfitted-level-0);\n",
       "  border: .5pt solid var(--sklearn-color-unfitted-level-3);\n",
       "}\n",
       "\n",
       ".sk-estimator-doc-link.fitted span {\n",
       "  /* fitted */\n",
       "  background: var(--sklearn-color-fitted-level-0);\n",
       "  border: var(--sklearn-color-fitted-level-3);\n",
       "}\n",
       "\n",
       ".sk-estimator-doc-link:hover span {\n",
       "  display: block;\n",
       "}\n",
       "\n",
       "/* \"?\"-specific style due to the `<a>` HTML tag */\n",
       "\n",
       "#sk-container-id-12 a.estimator_doc_link {\n",
       "  float: right;\n",
       "  font-size: 1rem;\n",
       "  line-height: 1em;\n",
       "  font-family: monospace;\n",
       "  background-color: var(--sklearn-color-background);\n",
       "  border-radius: 1rem;\n",
       "  height: 1rem;\n",
       "  width: 1rem;\n",
       "  text-decoration: none;\n",
       "  /* unfitted */\n",
       "  color: var(--sklearn-color-unfitted-level-1);\n",
       "  border: var(--sklearn-color-unfitted-level-1) 1pt solid;\n",
       "}\n",
       "\n",
       "#sk-container-id-12 a.estimator_doc_link.fitted {\n",
       "  /* fitted */\n",
       "  border: var(--sklearn-color-fitted-level-1) 1pt solid;\n",
       "  color: var(--sklearn-color-fitted-level-1);\n",
       "}\n",
       "\n",
       "/* On hover */\n",
       "#sk-container-id-12 a.estimator_doc_link:hover {\n",
       "  /* unfitted */\n",
       "  background-color: var(--sklearn-color-unfitted-level-3);\n",
       "  color: var(--sklearn-color-background);\n",
       "  text-decoration: none;\n",
       "}\n",
       "\n",
       "#sk-container-id-12 a.estimator_doc_link.fitted:hover {\n",
       "  /* fitted */\n",
       "  background-color: var(--sklearn-color-fitted-level-3);\n",
       "}\n",
       "</style><div id=\"sk-container-id-12\" class=\"sk-top-container\"><div class=\"sk-text-repr-fallback\"><pre>Ridge(alpha=0.1)</pre><b>In a Jupyter environment, please rerun this cell to show the HTML representation or trust the notebook. <br />On GitHub, the HTML representation is unable to render, please try loading this page with nbviewer.org.</b></div><div class=\"sk-container\" hidden><div class=\"sk-item\"><div class=\"sk-estimator fitted sk-toggleable\"><input class=\"sk-toggleable__control sk-hidden--visually\" id=\"sk-estimator-id-12\" type=\"checkbox\" checked><label for=\"sk-estimator-id-12\" class=\"sk-toggleable__label fitted sk-toggleable__label-arrow fitted\">&nbsp;&nbsp;Ridge<a class=\"sk-estimator-doc-link fitted\" rel=\"noreferrer\" target=\"_blank\" href=\"https://scikit-learn.org/1.5/modules/generated/sklearn.linear_model.Ridge.html\">?<span>Documentation for Ridge</span></a><span class=\"sk-estimator-doc-link fitted\">i<span>Fitted</span></span></label><div class=\"sk-toggleable__content fitted\"><pre>Ridge(alpha=0.1)</pre></div> </div></div></div></div>"
      ],
      "text/plain": [
       "Ridge(alpha=0.1)"
      ]
     },
     "execution_count": 156,
     "metadata": {},
     "output_type": "execute_result"
    }
   ],
   "source": [
    "l2 = Ridge(alpha = 0.1)  \n",
    "l2.fit(x, y)"
   ]
  },
  {
   "cell_type": "code",
   "execution_count": 157,
   "id": "13ee0db9-5055-4f42-a0a2-b5cf0eb8a4e5",
   "metadata": {
    "ExecuteTime": {
     "end_time": "2025-09-29T19:26:56.422669Z",
     "start_time": "2025-09-29T19:26:56.418010Z"
    }
   },
   "outputs": [],
   "source": [
    "y_pred = l2.predict(x)"
   ]
  },
  {
   "cell_type": "code",
   "execution_count": 158,
   "id": "daeb28e8-89f8-4498-a20e-f82e8a9f8f94",
   "metadata": {
    "ExecuteTime": {
     "end_time": "2025-09-29T19:26:56.445266Z",
     "start_time": "2025-09-29T19:26:56.442747Z"
    }
   },
   "outputs": [
    {
     "data": {
      "text/plain": [
       "1.0"
      ]
     },
     "execution_count": 158,
     "metadata": {},
     "output_type": "execute_result"
    }
   ],
   "source": [
    "r2_score(y, y_pred)"
   ]
  },
  {
   "cell_type": "code",
   "execution_count": 159,
   "id": "75f8e150-2b7b-4d80-aef5-33d8ccc37e06",
   "metadata": {
    "ExecuteTime": {
     "end_time": "2025-09-29T19:26:56.475026Z",
     "start_time": "2025-09-29T19:26:56.472826Z"
    }
   },
   "outputs": [
    {
     "data": {
      "text/plain": [
       "-0.00686682137529715"
      ]
     },
     "execution_count": 159,
     "metadata": {},
     "output_type": "execute_result"
    }
   ],
   "source": [
    "l2.intercept_"
   ]
  },
  {
   "cell_type": "code",
   "execution_count": 160,
   "id": "2277eab7-2d86-419a-8405-64af7a6e93d7",
   "metadata": {
    "ExecuteTime": {
     "end_time": "2025-09-29T19:26:56.492098Z",
     "start_time": "2025-09-29T19:26:56.489976Z"
    }
   },
   "outputs": [
    {
     "data": {
      "text/plain": [
       "array([ 7.07411285e-08,  1.90350353e-07,  3.58485626e-07,  3.11945779e-01,\n",
       "       -3.11945781e-01,  6.88054220e-01, -9.99999998e-01, -7.62326592e-06,\n",
       "        3.38043284e-06, -5.30837924e-05,  2.48910640e-05,  7.55115086e-05,\n",
       "       -4.58756640e-05,  2.46950396e-05, -5.68380324e-06, -7.19867924e-06,\n",
       "        4.74429278e-05,  1.84068981e-05, -2.35664360e-05,  7.71710686e-06,\n",
       "       -6.05694638e-05, -3.71757700e-07])"
      ]
     },
     "execution_count": 160,
     "metadata": {},
     "output_type": "execute_result"
    }
   ],
   "source": [
    "l2.coef_"
   ]
  },
  {
   "cell_type": "code",
   "execution_count": 161,
   "id": "20e0df17-4232-4560-a4e8-2d00c126d41c",
   "metadata": {
    "ExecuteTime": {
     "end_time": "2025-09-29T19:26:56.519600Z",
     "start_time": "2025-09-29T19:26:56.514320Z"
    }
   },
   "outputs": [
    {
     "data": {
      "text/plain": [
       "1.0"
      ]
     },
     "execution_count": 161,
     "metadata": {},
     "output_type": "execute_result"
    }
   ],
   "source": [
    "l2 = Ridge(alpha = 1)  \n",
    "l2.fit(x, y)\n",
    "y_pred = l2.predict(x)\n",
    "r2_score(y, y_pred)"
   ]
  },
  {
   "cell_type": "code",
   "execution_count": 162,
   "id": "80303ddd-2dab-45ae-be68-9dc3f5785768",
   "metadata": {
    "ExecuteTime": {
     "end_time": "2025-09-29T19:26:56.539869Z",
     "start_time": "2025-09-29T19:26:56.536699Z"
    }
   },
   "outputs": [
    {
     "data": {
      "text/plain": [
       "-0.007445818147971295"
      ]
     },
     "execution_count": 162,
     "metadata": {},
     "output_type": "execute_result"
    }
   ],
   "source": [
    "l2.intercept_"
   ]
  },
  {
   "cell_type": "code",
   "execution_count": 163,
   "id": "bcf63caf-6fc7-4e78-b045-917cd2d1ce47",
   "metadata": {
    "ExecuteTime": {
     "end_time": "2025-09-29T19:26:56.558114Z",
     "start_time": "2025-09-29T19:26:56.555610Z"
    }
   },
   "outputs": [
    {
     "data": {
      "text/plain": [
       "array([ 7.59677454e-08,  2.01890334e-07,  3.80551562e-07,  3.34768597e-01,\n",
       "       -3.34768600e-01,  6.65231401e-01, -9.99999998e-01, -8.17995884e-06,\n",
       "        3.66584012e-06, -5.44155900e-05,  2.69570839e-05,  8.04910041e-05,\n",
       "       -4.66900946e-05,  2.59144655e-05, -6.40659088e-06, -8.04029633e-06,\n",
       "        5.03053044e-05,  1.94981396e-05, -2.50875091e-05,  8.22205192e-06,\n",
       "       -6.39405541e-05, -2.18315404e-07])"
      ]
     },
     "execution_count": 163,
     "metadata": {},
     "output_type": "execute_result"
    }
   ],
   "source": [
    "l2.coef_"
   ]
  },
  {
   "cell_type": "code",
   "execution_count": 164,
   "id": "58768cd7-2285-4971-a578-3cfc445a28f6",
   "metadata": {
    "ExecuteTime": {
     "end_time": "2025-09-29T19:26:56.607548Z",
     "start_time": "2025-09-29T19:26:56.586127Z"
    }
   },
   "outputs": [
    {
     "data": {
      "text/plain": [
       "1.0"
      ]
     },
     "execution_count": 164,
     "metadata": {},
     "output_type": "execute_result"
    }
   ],
   "source": [
    "l2 = Ridge(alpha = 10)  \n",
    "l2.fit(x, y)\n",
    "y_pred = l2.predict(x)\n",
    "r2_score(y, y_pred)"
   ]
  },
  {
   "cell_type": "code",
   "execution_count": 165,
   "id": "1cf8d4a7-7e49-4944-9d45-5409b29cb6c3",
   "metadata": {
    "ExecuteTime": {
     "end_time": "2025-09-29T19:26:56.645073Z",
     "start_time": "2025-09-29T19:26:56.629261Z"
    }
   },
   "outputs": [
    {
     "data": {
      "text/plain": [
       "-0.007630474014149513"
      ]
     },
     "execution_count": 165,
     "metadata": {},
     "output_type": "execute_result"
    }
   ],
   "source": [
    "l2.intercept_"
   ]
  },
  {
   "cell_type": "code",
   "execution_count": 166,
   "id": "f64fe5c3-407c-47a2-9821-40ee51c3d255",
   "metadata": {
    "ExecuteTime": {
     "end_time": "2025-09-29T19:26:56.694371Z",
     "start_time": "2025-09-29T19:26:56.676307Z"
    }
   },
   "outputs": [
    {
     "data": {
      "text/plain": [
       "array([ 7.60366959e-08,  1.80571470e-07,  3.54829282e-07,  3.33319620e-01,\n",
       "       -3.33319622e-01,  6.66680378e-01, -9.99999998e-01, -8.13710019e-06,\n",
       "        3.75937943e-06, -4.11714270e-05,  2.59783265e-05,  7.25721234e-05,\n",
       "       -3.36913583e-05,  2.13593210e-05, -8.45067457e-06, -1.01005631e-05,\n",
       "        4.48774479e-05,  1.69990831e-05, -2.31963014e-05,  7.66776342e-06,\n",
       "       -5.46783730e-05,  1.25634525e-06])"
      ]
     },
     "execution_count": 166,
     "metadata": {},
     "output_type": "execute_result"
    }
   ],
   "source": [
    "l2.coef_"
   ]
  },
  {
   "cell_type": "markdown",
   "id": "54e67dad-8f1b-44e8-9c01-11d4aa790790",
   "metadata": {},
   "source": [
    "#### Interpretación"
   ]
  },
  {
   "cell_type": "markdown",
   "id": "de988af6-f59d-4473-a4d5-264b54e6864c",
   "metadata": {},
   "source": [
    "La regresión Ridge con diferentes valores de alpha (0.1, 1 y 10), el desempeño del modelo prácticamente no cambió, ya que el R2 se mantuvo en 1, lo que significa que el ajuste sigue siendo perfecto. Lo que sí varió fueron los coeficientes, al aumentar alpha, los betas se fueron reduciendo ligeramente en magnitud. Esto sucede porque Ridge aplica una penalización que encoge los coeficientes para evitar que alguno crezca demasiado y cause sobreajuste. En pocas palabras, al subir alpha no pierdes poder de predicción en este caso porque los datos ya están muy bien ajustados, pero los coeficientes se hacen un poco más pequeños, logrando un modelo más estable y menos sensible al ruido."
   ]
  },
  {
   "cell_type": "markdown",
   "id": "1816dafd-7dad-442e-be77-26d35daf0029",
   "metadata": {},
   "source": [
    "### Ridge Train"
   ]
  },
  {
   "cell_type": "code",
   "execution_count": 167,
   "id": "c417e381-265d-4c4d-ae92-89fdbca39ee4",
   "metadata": {
    "ExecuteTime": {
     "end_time": "2025-09-29T19:26:56.728420Z",
     "start_time": "2025-09-29T19:26:56.723124Z"
    }
   },
   "outputs": [
    {
     "data": {
      "text/html": [
       "<style>#sk-container-id-13 {\n",
       "  /* Definition of color scheme common for light and dark mode */\n",
       "  --sklearn-color-text: black;\n",
       "  --sklearn-color-line: gray;\n",
       "  /* Definition of color scheme for unfitted estimators */\n",
       "  --sklearn-color-unfitted-level-0: #fff5e6;\n",
       "  --sklearn-color-unfitted-level-1: #f6e4d2;\n",
       "  --sklearn-color-unfitted-level-2: #ffe0b3;\n",
       "  --sklearn-color-unfitted-level-3: chocolate;\n",
       "  /* Definition of color scheme for fitted estimators */\n",
       "  --sklearn-color-fitted-level-0: #f0f8ff;\n",
       "  --sklearn-color-fitted-level-1: #d4ebff;\n",
       "  --sklearn-color-fitted-level-2: #b3dbfd;\n",
       "  --sklearn-color-fitted-level-3: cornflowerblue;\n",
       "\n",
       "  /* Specific color for light theme */\n",
       "  --sklearn-color-text-on-default-background: var(--sg-text-color, var(--theme-code-foreground, var(--jp-content-font-color1, black)));\n",
       "  --sklearn-color-background: var(--sg-background-color, var(--theme-background, var(--jp-layout-color0, white)));\n",
       "  --sklearn-color-border-box: var(--sg-text-color, var(--theme-code-foreground, var(--jp-content-font-color1, black)));\n",
       "  --sklearn-color-icon: #696969;\n",
       "\n",
       "  @media (prefers-color-scheme: dark) {\n",
       "    /* Redefinition of color scheme for dark theme */\n",
       "    --sklearn-color-text-on-default-background: var(--sg-text-color, var(--theme-code-foreground, var(--jp-content-font-color1, white)));\n",
       "    --sklearn-color-background: var(--sg-background-color, var(--theme-background, var(--jp-layout-color0, #111)));\n",
       "    --sklearn-color-border-box: var(--sg-text-color, var(--theme-code-foreground, var(--jp-content-font-color1, white)));\n",
       "    --sklearn-color-icon: #878787;\n",
       "  }\n",
       "}\n",
       "\n",
       "#sk-container-id-13 {\n",
       "  color: var(--sklearn-color-text);\n",
       "}\n",
       "\n",
       "#sk-container-id-13 pre {\n",
       "  padding: 0;\n",
       "}\n",
       "\n",
       "#sk-container-id-13 input.sk-hidden--visually {\n",
       "  border: 0;\n",
       "  clip: rect(1px 1px 1px 1px);\n",
       "  clip: rect(1px, 1px, 1px, 1px);\n",
       "  height: 1px;\n",
       "  margin: -1px;\n",
       "  overflow: hidden;\n",
       "  padding: 0;\n",
       "  position: absolute;\n",
       "  width: 1px;\n",
       "}\n",
       "\n",
       "#sk-container-id-13 div.sk-dashed-wrapped {\n",
       "  border: 1px dashed var(--sklearn-color-line);\n",
       "  margin: 0 0.4em 0.5em 0.4em;\n",
       "  box-sizing: border-box;\n",
       "  padding-bottom: 0.4em;\n",
       "  background-color: var(--sklearn-color-background);\n",
       "}\n",
       "\n",
       "#sk-container-id-13 div.sk-container {\n",
       "  /* jupyter's `normalize.less` sets `[hidden] { display: none; }`\n",
       "     but bootstrap.min.css set `[hidden] { display: none !important; }`\n",
       "     so we also need the `!important` here to be able to override the\n",
       "     default hidden behavior on the sphinx rendered scikit-learn.org.\n",
       "     See: https://github.com/scikit-learn/scikit-learn/issues/21755 */\n",
       "  display: inline-block !important;\n",
       "  position: relative;\n",
       "}\n",
       "\n",
       "#sk-container-id-13 div.sk-text-repr-fallback {\n",
       "  display: none;\n",
       "}\n",
       "\n",
       "div.sk-parallel-item,\n",
       "div.sk-serial,\n",
       "div.sk-item {\n",
       "  /* draw centered vertical line to link estimators */\n",
       "  background-image: linear-gradient(var(--sklearn-color-text-on-default-background), var(--sklearn-color-text-on-default-background));\n",
       "  background-size: 2px 100%;\n",
       "  background-repeat: no-repeat;\n",
       "  background-position: center center;\n",
       "}\n",
       "\n",
       "/* Parallel-specific style estimator block */\n",
       "\n",
       "#sk-container-id-13 div.sk-parallel-item::after {\n",
       "  content: \"\";\n",
       "  width: 100%;\n",
       "  border-bottom: 2px solid var(--sklearn-color-text-on-default-background);\n",
       "  flex-grow: 1;\n",
       "}\n",
       "\n",
       "#sk-container-id-13 div.sk-parallel {\n",
       "  display: flex;\n",
       "  align-items: stretch;\n",
       "  justify-content: center;\n",
       "  background-color: var(--sklearn-color-background);\n",
       "  position: relative;\n",
       "}\n",
       "\n",
       "#sk-container-id-13 div.sk-parallel-item {\n",
       "  display: flex;\n",
       "  flex-direction: column;\n",
       "}\n",
       "\n",
       "#sk-container-id-13 div.sk-parallel-item:first-child::after {\n",
       "  align-self: flex-end;\n",
       "  width: 50%;\n",
       "}\n",
       "\n",
       "#sk-container-id-13 div.sk-parallel-item:last-child::after {\n",
       "  align-self: flex-start;\n",
       "  width: 50%;\n",
       "}\n",
       "\n",
       "#sk-container-id-13 div.sk-parallel-item:only-child::after {\n",
       "  width: 0;\n",
       "}\n",
       "\n",
       "/* Serial-specific style estimator block */\n",
       "\n",
       "#sk-container-id-13 div.sk-serial {\n",
       "  display: flex;\n",
       "  flex-direction: column;\n",
       "  align-items: center;\n",
       "  background-color: var(--sklearn-color-background);\n",
       "  padding-right: 1em;\n",
       "  padding-left: 1em;\n",
       "}\n",
       "\n",
       "\n",
       "/* Toggleable style: style used for estimator/Pipeline/ColumnTransformer box that is\n",
       "clickable and can be expanded/collapsed.\n",
       "- Pipeline and ColumnTransformer use this feature and define the default style\n",
       "- Estimators will overwrite some part of the style using the `sk-estimator` class\n",
       "*/\n",
       "\n",
       "/* Pipeline and ColumnTransformer style (default) */\n",
       "\n",
       "#sk-container-id-13 div.sk-toggleable {\n",
       "  /* Default theme specific background. It is overwritten whether we have a\n",
       "  specific estimator or a Pipeline/ColumnTransformer */\n",
       "  background-color: var(--sklearn-color-background);\n",
       "}\n",
       "\n",
       "/* Toggleable label */\n",
       "#sk-container-id-13 label.sk-toggleable__label {\n",
       "  cursor: pointer;\n",
       "  display: block;\n",
       "  width: 100%;\n",
       "  margin-bottom: 0;\n",
       "  padding: 0.5em;\n",
       "  box-sizing: border-box;\n",
       "  text-align: center;\n",
       "}\n",
       "\n",
       "#sk-container-id-13 label.sk-toggleable__label-arrow:before {\n",
       "  /* Arrow on the left of the label */\n",
       "  content: \"▸\";\n",
       "  float: left;\n",
       "  margin-right: 0.25em;\n",
       "  color: var(--sklearn-color-icon);\n",
       "}\n",
       "\n",
       "#sk-container-id-13 label.sk-toggleable__label-arrow:hover:before {\n",
       "  color: var(--sklearn-color-text);\n",
       "}\n",
       "\n",
       "/* Toggleable content - dropdown */\n",
       "\n",
       "#sk-container-id-13 div.sk-toggleable__content {\n",
       "  max-height: 0;\n",
       "  max-width: 0;\n",
       "  overflow: hidden;\n",
       "  text-align: left;\n",
       "  /* unfitted */\n",
       "  background-color: var(--sklearn-color-unfitted-level-0);\n",
       "}\n",
       "\n",
       "#sk-container-id-13 div.sk-toggleable__content.fitted {\n",
       "  /* fitted */\n",
       "  background-color: var(--sklearn-color-fitted-level-0);\n",
       "}\n",
       "\n",
       "#sk-container-id-13 div.sk-toggleable__content pre {\n",
       "  margin: 0.2em;\n",
       "  border-radius: 0.25em;\n",
       "  color: var(--sklearn-color-text);\n",
       "  /* unfitted */\n",
       "  background-color: var(--sklearn-color-unfitted-level-0);\n",
       "}\n",
       "\n",
       "#sk-container-id-13 div.sk-toggleable__content.fitted pre {\n",
       "  /* unfitted */\n",
       "  background-color: var(--sklearn-color-fitted-level-0);\n",
       "}\n",
       "\n",
       "#sk-container-id-13 input.sk-toggleable__control:checked~div.sk-toggleable__content {\n",
       "  /* Expand drop-down */\n",
       "  max-height: 200px;\n",
       "  max-width: 100%;\n",
       "  overflow: auto;\n",
       "}\n",
       "\n",
       "#sk-container-id-13 input.sk-toggleable__control:checked~label.sk-toggleable__label-arrow:before {\n",
       "  content: \"▾\";\n",
       "}\n",
       "\n",
       "/* Pipeline/ColumnTransformer-specific style */\n",
       "\n",
       "#sk-container-id-13 div.sk-label input.sk-toggleable__control:checked~label.sk-toggleable__label {\n",
       "  color: var(--sklearn-color-text);\n",
       "  background-color: var(--sklearn-color-unfitted-level-2);\n",
       "}\n",
       "\n",
       "#sk-container-id-13 div.sk-label.fitted input.sk-toggleable__control:checked~label.sk-toggleable__label {\n",
       "  background-color: var(--sklearn-color-fitted-level-2);\n",
       "}\n",
       "\n",
       "/* Estimator-specific style */\n",
       "\n",
       "/* Colorize estimator box */\n",
       "#sk-container-id-13 div.sk-estimator input.sk-toggleable__control:checked~label.sk-toggleable__label {\n",
       "  /* unfitted */\n",
       "  background-color: var(--sklearn-color-unfitted-level-2);\n",
       "}\n",
       "\n",
       "#sk-container-id-13 div.sk-estimator.fitted input.sk-toggleable__control:checked~label.sk-toggleable__label {\n",
       "  /* fitted */\n",
       "  background-color: var(--sklearn-color-fitted-level-2);\n",
       "}\n",
       "\n",
       "#sk-container-id-13 div.sk-label label.sk-toggleable__label,\n",
       "#sk-container-id-13 div.sk-label label {\n",
       "  /* The background is the default theme color */\n",
       "  color: var(--sklearn-color-text-on-default-background);\n",
       "}\n",
       "\n",
       "/* On hover, darken the color of the background */\n",
       "#sk-container-id-13 div.sk-label:hover label.sk-toggleable__label {\n",
       "  color: var(--sklearn-color-text);\n",
       "  background-color: var(--sklearn-color-unfitted-level-2);\n",
       "}\n",
       "\n",
       "/* Label box, darken color on hover, fitted */\n",
       "#sk-container-id-13 div.sk-label.fitted:hover label.sk-toggleable__label.fitted {\n",
       "  color: var(--sklearn-color-text);\n",
       "  background-color: var(--sklearn-color-fitted-level-2);\n",
       "}\n",
       "\n",
       "/* Estimator label */\n",
       "\n",
       "#sk-container-id-13 div.sk-label label {\n",
       "  font-family: monospace;\n",
       "  font-weight: bold;\n",
       "  display: inline-block;\n",
       "  line-height: 1.2em;\n",
       "}\n",
       "\n",
       "#sk-container-id-13 div.sk-label-container {\n",
       "  text-align: center;\n",
       "}\n",
       "\n",
       "/* Estimator-specific */\n",
       "#sk-container-id-13 div.sk-estimator {\n",
       "  font-family: monospace;\n",
       "  border: 1px dotted var(--sklearn-color-border-box);\n",
       "  border-radius: 0.25em;\n",
       "  box-sizing: border-box;\n",
       "  margin-bottom: 0.5em;\n",
       "  /* unfitted */\n",
       "  background-color: var(--sklearn-color-unfitted-level-0);\n",
       "}\n",
       "\n",
       "#sk-container-id-13 div.sk-estimator.fitted {\n",
       "  /* fitted */\n",
       "  background-color: var(--sklearn-color-fitted-level-0);\n",
       "}\n",
       "\n",
       "/* on hover */\n",
       "#sk-container-id-13 div.sk-estimator:hover {\n",
       "  /* unfitted */\n",
       "  background-color: var(--sklearn-color-unfitted-level-2);\n",
       "}\n",
       "\n",
       "#sk-container-id-13 div.sk-estimator.fitted:hover {\n",
       "  /* fitted */\n",
       "  background-color: var(--sklearn-color-fitted-level-2);\n",
       "}\n",
       "\n",
       "/* Specification for estimator info (e.g. \"i\" and \"?\") */\n",
       "\n",
       "/* Common style for \"i\" and \"?\" */\n",
       "\n",
       ".sk-estimator-doc-link,\n",
       "a:link.sk-estimator-doc-link,\n",
       "a:visited.sk-estimator-doc-link {\n",
       "  float: right;\n",
       "  font-size: smaller;\n",
       "  line-height: 1em;\n",
       "  font-family: monospace;\n",
       "  background-color: var(--sklearn-color-background);\n",
       "  border-radius: 1em;\n",
       "  height: 1em;\n",
       "  width: 1em;\n",
       "  text-decoration: none !important;\n",
       "  margin-left: 1ex;\n",
       "  /* unfitted */\n",
       "  border: var(--sklearn-color-unfitted-level-1) 1pt solid;\n",
       "  color: var(--sklearn-color-unfitted-level-1);\n",
       "}\n",
       "\n",
       ".sk-estimator-doc-link.fitted,\n",
       "a:link.sk-estimator-doc-link.fitted,\n",
       "a:visited.sk-estimator-doc-link.fitted {\n",
       "  /* fitted */\n",
       "  border: var(--sklearn-color-fitted-level-1) 1pt solid;\n",
       "  color: var(--sklearn-color-fitted-level-1);\n",
       "}\n",
       "\n",
       "/* On hover */\n",
       "div.sk-estimator:hover .sk-estimator-doc-link:hover,\n",
       ".sk-estimator-doc-link:hover,\n",
       "div.sk-label-container:hover .sk-estimator-doc-link:hover,\n",
       ".sk-estimator-doc-link:hover {\n",
       "  /* unfitted */\n",
       "  background-color: var(--sklearn-color-unfitted-level-3);\n",
       "  color: var(--sklearn-color-background);\n",
       "  text-decoration: none;\n",
       "}\n",
       "\n",
       "div.sk-estimator.fitted:hover .sk-estimator-doc-link.fitted:hover,\n",
       ".sk-estimator-doc-link.fitted:hover,\n",
       "div.sk-label-container:hover .sk-estimator-doc-link.fitted:hover,\n",
       ".sk-estimator-doc-link.fitted:hover {\n",
       "  /* fitted */\n",
       "  background-color: var(--sklearn-color-fitted-level-3);\n",
       "  color: var(--sklearn-color-background);\n",
       "  text-decoration: none;\n",
       "}\n",
       "\n",
       "/* Span, style for the box shown on hovering the info icon */\n",
       ".sk-estimator-doc-link span {\n",
       "  display: none;\n",
       "  z-index: 9999;\n",
       "  position: relative;\n",
       "  font-weight: normal;\n",
       "  right: .2ex;\n",
       "  padding: .5ex;\n",
       "  margin: .5ex;\n",
       "  width: min-content;\n",
       "  min-width: 20ex;\n",
       "  max-width: 50ex;\n",
       "  color: var(--sklearn-color-text);\n",
       "  box-shadow: 2pt 2pt 4pt #999;\n",
       "  /* unfitted */\n",
       "  background: var(--sklearn-color-unfitted-level-0);\n",
       "  border: .5pt solid var(--sklearn-color-unfitted-level-3);\n",
       "}\n",
       "\n",
       ".sk-estimator-doc-link.fitted span {\n",
       "  /* fitted */\n",
       "  background: var(--sklearn-color-fitted-level-0);\n",
       "  border: var(--sklearn-color-fitted-level-3);\n",
       "}\n",
       "\n",
       ".sk-estimator-doc-link:hover span {\n",
       "  display: block;\n",
       "}\n",
       "\n",
       "/* \"?\"-specific style due to the `<a>` HTML tag */\n",
       "\n",
       "#sk-container-id-13 a.estimator_doc_link {\n",
       "  float: right;\n",
       "  font-size: 1rem;\n",
       "  line-height: 1em;\n",
       "  font-family: monospace;\n",
       "  background-color: var(--sklearn-color-background);\n",
       "  border-radius: 1rem;\n",
       "  height: 1rem;\n",
       "  width: 1rem;\n",
       "  text-decoration: none;\n",
       "  /* unfitted */\n",
       "  color: var(--sklearn-color-unfitted-level-1);\n",
       "  border: var(--sklearn-color-unfitted-level-1) 1pt solid;\n",
       "}\n",
       "\n",
       "#sk-container-id-13 a.estimator_doc_link.fitted {\n",
       "  /* fitted */\n",
       "  border: var(--sklearn-color-fitted-level-1) 1pt solid;\n",
       "  color: var(--sklearn-color-fitted-level-1);\n",
       "}\n",
       "\n",
       "/* On hover */\n",
       "#sk-container-id-13 a.estimator_doc_link:hover {\n",
       "  /* unfitted */\n",
       "  background-color: var(--sklearn-color-unfitted-level-3);\n",
       "  color: var(--sklearn-color-background);\n",
       "  text-decoration: none;\n",
       "}\n",
       "\n",
       "#sk-container-id-13 a.estimator_doc_link.fitted:hover {\n",
       "  /* fitted */\n",
       "  background-color: var(--sklearn-color-fitted-level-3);\n",
       "}\n",
       "</style><div id=\"sk-container-id-13\" class=\"sk-top-container\"><div class=\"sk-text-repr-fallback\"><pre>Ridge(alpha=0.1)</pre><b>In a Jupyter environment, please rerun this cell to show the HTML representation or trust the notebook. <br />On GitHub, the HTML representation is unable to render, please try loading this page with nbviewer.org.</b></div><div class=\"sk-container\" hidden><div class=\"sk-item\"><div class=\"sk-estimator fitted sk-toggleable\"><input class=\"sk-toggleable__control sk-hidden--visually\" id=\"sk-estimator-id-13\" type=\"checkbox\" checked><label for=\"sk-estimator-id-13\" class=\"sk-toggleable__label fitted sk-toggleable__label-arrow fitted\">&nbsp;&nbsp;Ridge<a class=\"sk-estimator-doc-link fitted\" rel=\"noreferrer\" target=\"_blank\" href=\"https://scikit-learn.org/1.5/modules/generated/sklearn.linear_model.Ridge.html\">?<span>Documentation for Ridge</span></a><span class=\"sk-estimator-doc-link fitted\">i<span>Fitted</span></span></label><div class=\"sk-toggleable__content fitted\"><pre>Ridge(alpha=0.1)</pre></div> </div></div></div></div>"
      ],
      "text/plain": [
       "Ridge(alpha=0.1)"
      ]
     },
     "execution_count": 167,
     "metadata": {},
     "output_type": "execute_result"
    }
   ],
   "source": [
    "l2 = Ridge(alpha = 0.1)  \n",
    "l2.fit(X_train_scaled, y_train)"
   ]
  },
  {
   "cell_type": "code",
   "execution_count": 168,
   "id": "9c663933-3d8e-4e83-9294-14c0fb2a60b6",
   "metadata": {
    "ExecuteTime": {
     "end_time": "2025-09-29T19:26:56.770702Z",
     "start_time": "2025-09-29T19:26:56.765406Z"
    }
   },
   "outputs": [
    {
     "data": {
      "text/plain": [
       "0.9979710353907838"
      ]
     },
     "execution_count": 168,
     "metadata": {},
     "output_type": "execute_result"
    }
   ],
   "source": [
    "y_pred = l2.predict(X_train_scaled)\n",
    "r2_score(y_train, y_pred)"
   ]
  },
  {
   "cell_type": "code",
   "execution_count": 169,
   "id": "99719669-7e13-4c76-b960-5a32c74a56bb",
   "metadata": {
    "ExecuteTime": {
     "end_time": "2025-09-29T19:26:56.804905Z",
     "start_time": "2025-09-29T19:26:56.801731Z"
    }
   },
   "outputs": [
    {
     "data": {
      "text/plain": [
       "26173.29235714285"
      ]
     },
     "execution_count": 169,
     "metadata": {},
     "output_type": "execute_result"
    }
   ],
   "source": [
    "l2.intercept_"
   ]
  },
  {
   "cell_type": "code",
   "execution_count": 170,
   "id": "d629e3f6-0e29-40d9-8f07-94bcd076b47e",
   "metadata": {
    "ExecuteTime": {
     "end_time": "2025-09-29T19:26:56.853821Z",
     "start_time": "2025-09-29T19:26:56.824892Z"
    }
   },
   "outputs": [
    {
     "data": {
      "text/plain": [
       "array([ 5.15948601e+01,  1.65744087e+02,  2.34472208e+03,  9.90267205e+04,\n",
       "       -1.33699430e+04,  1.07728596e+05, -1.60338185e+05, -1.25230283e+02,\n",
       "       -5.73833305e+01, -3.78709740e+03, -5.25939362e+02, -5.08809251e+02,\n",
       "       -3.60397681e+03,  4.62324619e+01, -1.39332815e+02, -2.92033378e+02,\n",
       "       -3.73768290e+02, -9.91050695e+01, -7.77632860e+01, -8.72916601e+01,\n",
       "       -5.59167852e+01,  1.31578155e+02])"
      ]
     },
     "execution_count": 170,
     "metadata": {},
     "output_type": "execute_result"
    }
   ],
   "source": [
    "l2.coef_"
   ]
  },
  {
   "cell_type": "code",
   "execution_count": 171,
   "id": "844de7cf-ae0a-492e-a6f1-948ed603cb85",
   "metadata": {
    "ExecuteTime": {
     "end_time": "2025-09-29T19:26:56.874434Z",
     "start_time": "2025-09-29T19:26:56.870399Z"
    }
   },
   "outputs": [
    {
     "data": {
      "text/html": [
       "<style>#sk-container-id-14 {\n",
       "  /* Definition of color scheme common for light and dark mode */\n",
       "  --sklearn-color-text: black;\n",
       "  --sklearn-color-line: gray;\n",
       "  /* Definition of color scheme for unfitted estimators */\n",
       "  --sklearn-color-unfitted-level-0: #fff5e6;\n",
       "  --sklearn-color-unfitted-level-1: #f6e4d2;\n",
       "  --sklearn-color-unfitted-level-2: #ffe0b3;\n",
       "  --sklearn-color-unfitted-level-3: chocolate;\n",
       "  /* Definition of color scheme for fitted estimators */\n",
       "  --sklearn-color-fitted-level-0: #f0f8ff;\n",
       "  --sklearn-color-fitted-level-1: #d4ebff;\n",
       "  --sklearn-color-fitted-level-2: #b3dbfd;\n",
       "  --sklearn-color-fitted-level-3: cornflowerblue;\n",
       "\n",
       "  /* Specific color for light theme */\n",
       "  --sklearn-color-text-on-default-background: var(--sg-text-color, var(--theme-code-foreground, var(--jp-content-font-color1, black)));\n",
       "  --sklearn-color-background: var(--sg-background-color, var(--theme-background, var(--jp-layout-color0, white)));\n",
       "  --sklearn-color-border-box: var(--sg-text-color, var(--theme-code-foreground, var(--jp-content-font-color1, black)));\n",
       "  --sklearn-color-icon: #696969;\n",
       "\n",
       "  @media (prefers-color-scheme: dark) {\n",
       "    /* Redefinition of color scheme for dark theme */\n",
       "    --sklearn-color-text-on-default-background: var(--sg-text-color, var(--theme-code-foreground, var(--jp-content-font-color1, white)));\n",
       "    --sklearn-color-background: var(--sg-background-color, var(--theme-background, var(--jp-layout-color0, #111)));\n",
       "    --sklearn-color-border-box: var(--sg-text-color, var(--theme-code-foreground, var(--jp-content-font-color1, white)));\n",
       "    --sklearn-color-icon: #878787;\n",
       "  }\n",
       "}\n",
       "\n",
       "#sk-container-id-14 {\n",
       "  color: var(--sklearn-color-text);\n",
       "}\n",
       "\n",
       "#sk-container-id-14 pre {\n",
       "  padding: 0;\n",
       "}\n",
       "\n",
       "#sk-container-id-14 input.sk-hidden--visually {\n",
       "  border: 0;\n",
       "  clip: rect(1px 1px 1px 1px);\n",
       "  clip: rect(1px, 1px, 1px, 1px);\n",
       "  height: 1px;\n",
       "  margin: -1px;\n",
       "  overflow: hidden;\n",
       "  padding: 0;\n",
       "  position: absolute;\n",
       "  width: 1px;\n",
       "}\n",
       "\n",
       "#sk-container-id-14 div.sk-dashed-wrapped {\n",
       "  border: 1px dashed var(--sklearn-color-line);\n",
       "  margin: 0 0.4em 0.5em 0.4em;\n",
       "  box-sizing: border-box;\n",
       "  padding-bottom: 0.4em;\n",
       "  background-color: var(--sklearn-color-background);\n",
       "}\n",
       "\n",
       "#sk-container-id-14 div.sk-container {\n",
       "  /* jupyter's `normalize.less` sets `[hidden] { display: none; }`\n",
       "     but bootstrap.min.css set `[hidden] { display: none !important; }`\n",
       "     so we also need the `!important` here to be able to override the\n",
       "     default hidden behavior on the sphinx rendered scikit-learn.org.\n",
       "     See: https://github.com/scikit-learn/scikit-learn/issues/21755 */\n",
       "  display: inline-block !important;\n",
       "  position: relative;\n",
       "}\n",
       "\n",
       "#sk-container-id-14 div.sk-text-repr-fallback {\n",
       "  display: none;\n",
       "}\n",
       "\n",
       "div.sk-parallel-item,\n",
       "div.sk-serial,\n",
       "div.sk-item {\n",
       "  /* draw centered vertical line to link estimators */\n",
       "  background-image: linear-gradient(var(--sklearn-color-text-on-default-background), var(--sklearn-color-text-on-default-background));\n",
       "  background-size: 2px 100%;\n",
       "  background-repeat: no-repeat;\n",
       "  background-position: center center;\n",
       "}\n",
       "\n",
       "/* Parallel-specific style estimator block */\n",
       "\n",
       "#sk-container-id-14 div.sk-parallel-item::after {\n",
       "  content: \"\";\n",
       "  width: 100%;\n",
       "  border-bottom: 2px solid var(--sklearn-color-text-on-default-background);\n",
       "  flex-grow: 1;\n",
       "}\n",
       "\n",
       "#sk-container-id-14 div.sk-parallel {\n",
       "  display: flex;\n",
       "  align-items: stretch;\n",
       "  justify-content: center;\n",
       "  background-color: var(--sklearn-color-background);\n",
       "  position: relative;\n",
       "}\n",
       "\n",
       "#sk-container-id-14 div.sk-parallel-item {\n",
       "  display: flex;\n",
       "  flex-direction: column;\n",
       "}\n",
       "\n",
       "#sk-container-id-14 div.sk-parallel-item:first-child::after {\n",
       "  align-self: flex-end;\n",
       "  width: 50%;\n",
       "}\n",
       "\n",
       "#sk-container-id-14 div.sk-parallel-item:last-child::after {\n",
       "  align-self: flex-start;\n",
       "  width: 50%;\n",
       "}\n",
       "\n",
       "#sk-container-id-14 div.sk-parallel-item:only-child::after {\n",
       "  width: 0;\n",
       "}\n",
       "\n",
       "/* Serial-specific style estimator block */\n",
       "\n",
       "#sk-container-id-14 div.sk-serial {\n",
       "  display: flex;\n",
       "  flex-direction: column;\n",
       "  align-items: center;\n",
       "  background-color: var(--sklearn-color-background);\n",
       "  padding-right: 1em;\n",
       "  padding-left: 1em;\n",
       "}\n",
       "\n",
       "\n",
       "/* Toggleable style: style used for estimator/Pipeline/ColumnTransformer box that is\n",
       "clickable and can be expanded/collapsed.\n",
       "- Pipeline and ColumnTransformer use this feature and define the default style\n",
       "- Estimators will overwrite some part of the style using the `sk-estimator` class\n",
       "*/\n",
       "\n",
       "/* Pipeline and ColumnTransformer style (default) */\n",
       "\n",
       "#sk-container-id-14 div.sk-toggleable {\n",
       "  /* Default theme specific background. It is overwritten whether we have a\n",
       "  specific estimator or a Pipeline/ColumnTransformer */\n",
       "  background-color: var(--sklearn-color-background);\n",
       "}\n",
       "\n",
       "/* Toggleable label */\n",
       "#sk-container-id-14 label.sk-toggleable__label {\n",
       "  cursor: pointer;\n",
       "  display: block;\n",
       "  width: 100%;\n",
       "  margin-bottom: 0;\n",
       "  padding: 0.5em;\n",
       "  box-sizing: border-box;\n",
       "  text-align: center;\n",
       "}\n",
       "\n",
       "#sk-container-id-14 label.sk-toggleable__label-arrow:before {\n",
       "  /* Arrow on the left of the label */\n",
       "  content: \"▸\";\n",
       "  float: left;\n",
       "  margin-right: 0.25em;\n",
       "  color: var(--sklearn-color-icon);\n",
       "}\n",
       "\n",
       "#sk-container-id-14 label.sk-toggleable__label-arrow:hover:before {\n",
       "  color: var(--sklearn-color-text);\n",
       "}\n",
       "\n",
       "/* Toggleable content - dropdown */\n",
       "\n",
       "#sk-container-id-14 div.sk-toggleable__content {\n",
       "  max-height: 0;\n",
       "  max-width: 0;\n",
       "  overflow: hidden;\n",
       "  text-align: left;\n",
       "  /* unfitted */\n",
       "  background-color: var(--sklearn-color-unfitted-level-0);\n",
       "}\n",
       "\n",
       "#sk-container-id-14 div.sk-toggleable__content.fitted {\n",
       "  /* fitted */\n",
       "  background-color: var(--sklearn-color-fitted-level-0);\n",
       "}\n",
       "\n",
       "#sk-container-id-14 div.sk-toggleable__content pre {\n",
       "  margin: 0.2em;\n",
       "  border-radius: 0.25em;\n",
       "  color: var(--sklearn-color-text);\n",
       "  /* unfitted */\n",
       "  background-color: var(--sklearn-color-unfitted-level-0);\n",
       "}\n",
       "\n",
       "#sk-container-id-14 div.sk-toggleable__content.fitted pre {\n",
       "  /* unfitted */\n",
       "  background-color: var(--sklearn-color-fitted-level-0);\n",
       "}\n",
       "\n",
       "#sk-container-id-14 input.sk-toggleable__control:checked~div.sk-toggleable__content {\n",
       "  /* Expand drop-down */\n",
       "  max-height: 200px;\n",
       "  max-width: 100%;\n",
       "  overflow: auto;\n",
       "}\n",
       "\n",
       "#sk-container-id-14 input.sk-toggleable__control:checked~label.sk-toggleable__label-arrow:before {\n",
       "  content: \"▾\";\n",
       "}\n",
       "\n",
       "/* Pipeline/ColumnTransformer-specific style */\n",
       "\n",
       "#sk-container-id-14 div.sk-label input.sk-toggleable__control:checked~label.sk-toggleable__label {\n",
       "  color: var(--sklearn-color-text);\n",
       "  background-color: var(--sklearn-color-unfitted-level-2);\n",
       "}\n",
       "\n",
       "#sk-container-id-14 div.sk-label.fitted input.sk-toggleable__control:checked~label.sk-toggleable__label {\n",
       "  background-color: var(--sklearn-color-fitted-level-2);\n",
       "}\n",
       "\n",
       "/* Estimator-specific style */\n",
       "\n",
       "/* Colorize estimator box */\n",
       "#sk-container-id-14 div.sk-estimator input.sk-toggleable__control:checked~label.sk-toggleable__label {\n",
       "  /* unfitted */\n",
       "  background-color: var(--sklearn-color-unfitted-level-2);\n",
       "}\n",
       "\n",
       "#sk-container-id-14 div.sk-estimator.fitted input.sk-toggleable__control:checked~label.sk-toggleable__label {\n",
       "  /* fitted */\n",
       "  background-color: var(--sklearn-color-fitted-level-2);\n",
       "}\n",
       "\n",
       "#sk-container-id-14 div.sk-label label.sk-toggleable__label,\n",
       "#sk-container-id-14 div.sk-label label {\n",
       "  /* The background is the default theme color */\n",
       "  color: var(--sklearn-color-text-on-default-background);\n",
       "}\n",
       "\n",
       "/* On hover, darken the color of the background */\n",
       "#sk-container-id-14 div.sk-label:hover label.sk-toggleable__label {\n",
       "  color: var(--sklearn-color-text);\n",
       "  background-color: var(--sklearn-color-unfitted-level-2);\n",
       "}\n",
       "\n",
       "/* Label box, darken color on hover, fitted */\n",
       "#sk-container-id-14 div.sk-label.fitted:hover label.sk-toggleable__label.fitted {\n",
       "  color: var(--sklearn-color-text);\n",
       "  background-color: var(--sklearn-color-fitted-level-2);\n",
       "}\n",
       "\n",
       "/* Estimator label */\n",
       "\n",
       "#sk-container-id-14 div.sk-label label {\n",
       "  font-family: monospace;\n",
       "  font-weight: bold;\n",
       "  display: inline-block;\n",
       "  line-height: 1.2em;\n",
       "}\n",
       "\n",
       "#sk-container-id-14 div.sk-label-container {\n",
       "  text-align: center;\n",
       "}\n",
       "\n",
       "/* Estimator-specific */\n",
       "#sk-container-id-14 div.sk-estimator {\n",
       "  font-family: monospace;\n",
       "  border: 1px dotted var(--sklearn-color-border-box);\n",
       "  border-radius: 0.25em;\n",
       "  box-sizing: border-box;\n",
       "  margin-bottom: 0.5em;\n",
       "  /* unfitted */\n",
       "  background-color: var(--sklearn-color-unfitted-level-0);\n",
       "}\n",
       "\n",
       "#sk-container-id-14 div.sk-estimator.fitted {\n",
       "  /* fitted */\n",
       "  background-color: var(--sklearn-color-fitted-level-0);\n",
       "}\n",
       "\n",
       "/* on hover */\n",
       "#sk-container-id-14 div.sk-estimator:hover {\n",
       "  /* unfitted */\n",
       "  background-color: var(--sklearn-color-unfitted-level-2);\n",
       "}\n",
       "\n",
       "#sk-container-id-14 div.sk-estimator.fitted:hover {\n",
       "  /* fitted */\n",
       "  background-color: var(--sklearn-color-fitted-level-2);\n",
       "}\n",
       "\n",
       "/* Specification for estimator info (e.g. \"i\" and \"?\") */\n",
       "\n",
       "/* Common style for \"i\" and \"?\" */\n",
       "\n",
       ".sk-estimator-doc-link,\n",
       "a:link.sk-estimator-doc-link,\n",
       "a:visited.sk-estimator-doc-link {\n",
       "  float: right;\n",
       "  font-size: smaller;\n",
       "  line-height: 1em;\n",
       "  font-family: monospace;\n",
       "  background-color: var(--sklearn-color-background);\n",
       "  border-radius: 1em;\n",
       "  height: 1em;\n",
       "  width: 1em;\n",
       "  text-decoration: none !important;\n",
       "  margin-left: 1ex;\n",
       "  /* unfitted */\n",
       "  border: var(--sklearn-color-unfitted-level-1) 1pt solid;\n",
       "  color: var(--sklearn-color-unfitted-level-1);\n",
       "}\n",
       "\n",
       ".sk-estimator-doc-link.fitted,\n",
       "a:link.sk-estimator-doc-link.fitted,\n",
       "a:visited.sk-estimator-doc-link.fitted {\n",
       "  /* fitted */\n",
       "  border: var(--sklearn-color-fitted-level-1) 1pt solid;\n",
       "  color: var(--sklearn-color-fitted-level-1);\n",
       "}\n",
       "\n",
       "/* On hover */\n",
       "div.sk-estimator:hover .sk-estimator-doc-link:hover,\n",
       ".sk-estimator-doc-link:hover,\n",
       "div.sk-label-container:hover .sk-estimator-doc-link:hover,\n",
       ".sk-estimator-doc-link:hover {\n",
       "  /* unfitted */\n",
       "  background-color: var(--sklearn-color-unfitted-level-3);\n",
       "  color: var(--sklearn-color-background);\n",
       "  text-decoration: none;\n",
       "}\n",
       "\n",
       "div.sk-estimator.fitted:hover .sk-estimator-doc-link.fitted:hover,\n",
       ".sk-estimator-doc-link.fitted:hover,\n",
       "div.sk-label-container:hover .sk-estimator-doc-link.fitted:hover,\n",
       ".sk-estimator-doc-link.fitted:hover {\n",
       "  /* fitted */\n",
       "  background-color: var(--sklearn-color-fitted-level-3);\n",
       "  color: var(--sklearn-color-background);\n",
       "  text-decoration: none;\n",
       "}\n",
       "\n",
       "/* Span, style for the box shown on hovering the info icon */\n",
       ".sk-estimator-doc-link span {\n",
       "  display: none;\n",
       "  z-index: 9999;\n",
       "  position: relative;\n",
       "  font-weight: normal;\n",
       "  right: .2ex;\n",
       "  padding: .5ex;\n",
       "  margin: .5ex;\n",
       "  width: min-content;\n",
       "  min-width: 20ex;\n",
       "  max-width: 50ex;\n",
       "  color: var(--sklearn-color-text);\n",
       "  box-shadow: 2pt 2pt 4pt #999;\n",
       "  /* unfitted */\n",
       "  background: var(--sklearn-color-unfitted-level-0);\n",
       "  border: .5pt solid var(--sklearn-color-unfitted-level-3);\n",
       "}\n",
       "\n",
       ".sk-estimator-doc-link.fitted span {\n",
       "  /* fitted */\n",
       "  background: var(--sklearn-color-fitted-level-0);\n",
       "  border: var(--sklearn-color-fitted-level-3);\n",
       "}\n",
       "\n",
       ".sk-estimator-doc-link:hover span {\n",
       "  display: block;\n",
       "}\n",
       "\n",
       "/* \"?\"-specific style due to the `<a>` HTML tag */\n",
       "\n",
       "#sk-container-id-14 a.estimator_doc_link {\n",
       "  float: right;\n",
       "  font-size: 1rem;\n",
       "  line-height: 1em;\n",
       "  font-family: monospace;\n",
       "  background-color: var(--sklearn-color-background);\n",
       "  border-radius: 1rem;\n",
       "  height: 1rem;\n",
       "  width: 1rem;\n",
       "  text-decoration: none;\n",
       "  /* unfitted */\n",
       "  color: var(--sklearn-color-unfitted-level-1);\n",
       "  border: var(--sklearn-color-unfitted-level-1) 1pt solid;\n",
       "}\n",
       "\n",
       "#sk-container-id-14 a.estimator_doc_link.fitted {\n",
       "  /* fitted */\n",
       "  border: var(--sklearn-color-fitted-level-1) 1pt solid;\n",
       "  color: var(--sklearn-color-fitted-level-1);\n",
       "}\n",
       "\n",
       "/* On hover */\n",
       "#sk-container-id-14 a.estimator_doc_link:hover {\n",
       "  /* unfitted */\n",
       "  background-color: var(--sklearn-color-unfitted-level-3);\n",
       "  color: var(--sklearn-color-background);\n",
       "  text-decoration: none;\n",
       "}\n",
       "\n",
       "#sk-container-id-14 a.estimator_doc_link.fitted:hover {\n",
       "  /* fitted */\n",
       "  background-color: var(--sklearn-color-fitted-level-3);\n",
       "}\n",
       "</style><div id=\"sk-container-id-14\" class=\"sk-top-container\"><div class=\"sk-text-repr-fallback\"><pre>Ridge(alpha=1)</pre><b>In a Jupyter environment, please rerun this cell to show the HTML representation or trust the notebook. <br />On GitHub, the HTML representation is unable to render, please try loading this page with nbviewer.org.</b></div><div class=\"sk-container\" hidden><div class=\"sk-item\"><div class=\"sk-estimator fitted sk-toggleable\"><input class=\"sk-toggleable__control sk-hidden--visually\" id=\"sk-estimator-id-14\" type=\"checkbox\" checked><label for=\"sk-estimator-id-14\" class=\"sk-toggleable__label fitted sk-toggleable__label-arrow fitted\">&nbsp;&nbsp;Ridge<a class=\"sk-estimator-doc-link fitted\" rel=\"noreferrer\" target=\"_blank\" href=\"https://scikit-learn.org/1.5/modules/generated/sklearn.linear_model.Ridge.html\">?<span>Documentation for Ridge</span></a><span class=\"sk-estimator-doc-link fitted\">i<span>Fitted</span></span></label><div class=\"sk-toggleable__content fitted\"><pre>Ridge(alpha=1)</pre></div> </div></div></div></div>"
      ],
      "text/plain": [
       "Ridge(alpha=1)"
      ]
     },
     "execution_count": 171,
     "metadata": {},
     "output_type": "execute_result"
    }
   ],
   "source": [
    "l2 = Ridge(alpha = 1)  \n",
    "l2.fit(X_train_scaled, y_train)"
   ]
  },
  {
   "cell_type": "code",
   "execution_count": 172,
   "id": "ac066082-976a-4e89-9708-eeb84bc06006",
   "metadata": {
    "ExecuteTime": {
     "end_time": "2025-09-29T19:26:56.892726Z",
     "start_time": "2025-09-29T19:26:56.890707Z"
    }
   },
   "outputs": [
    {
     "data": {
      "text/plain": [
       "26173.292357142836"
      ]
     },
     "execution_count": 172,
     "metadata": {},
     "output_type": "execute_result"
    }
   ],
   "source": [
    "l2.intercept_"
   ]
  },
  {
   "cell_type": "code",
   "execution_count": 173,
   "id": "0cc18bba-60fd-49f1-826d-2dc4753a1863",
   "metadata": {
    "ExecuteTime": {
     "end_time": "2025-09-29T19:26:56.923730Z",
     "start_time": "2025-09-29T19:26:56.921566Z"
    }
   },
   "outputs": [
    {
     "data": {
      "text/plain": [
       "array([   198.29112078,    573.91843667,   8110.99836436,  45958.76598462,\n",
       "       -19891.11493851,  51299.38696247, -46878.2112887 ,   -432.8043955 ,\n",
       "         -201.55176627, -13044.14370837,  -1664.01318231,  -1691.41835001,\n",
       "       -12373.02684152,    160.85559003,   -474.93238058,  -1006.51384941,\n",
       "        -1308.35191871,   -334.90402644,   -262.73250256,   -310.28794846,\n",
       "         -197.62075744,    448.04155754])"
      ]
     },
     "execution_count": 173,
     "metadata": {},
     "output_type": "execute_result"
    }
   ],
   "source": [
    "l2.coef_"
   ]
  },
  {
   "cell_type": "code",
   "execution_count": 174,
   "id": "a2977ab2-70d3-4b05-8a16-201121b5f277",
   "metadata": {
    "ExecuteTime": {
     "end_time": "2025-09-29T19:26:56.948706Z",
     "start_time": "2025-09-29T19:26:56.945454Z"
    }
   },
   "outputs": [
    {
     "data": {
      "text/plain": [
       "0.952941545862401"
      ]
     },
     "execution_count": 174,
     "metadata": {},
     "output_type": "execute_result"
    }
   ],
   "source": [
    "l2 = Ridge(alpha = 10)  \n",
    "l2.fit(X_train_scaled, y_train)\n",
    "y_pred = l2.predict(X_train_scaled)\n",
    "r2_score(y_train, y_pred)"
   ]
  },
  {
   "cell_type": "code",
   "execution_count": 175,
   "id": "93832f9f-8ab4-4f15-a03c-d78db4b5e1bb",
   "metadata": {
    "ExecuteTime": {
     "end_time": "2025-09-29T19:26:56.972849Z",
     "start_time": "2025-09-29T19:26:56.970969Z"
    }
   },
   "outputs": [
    {
     "data": {
      "text/plain": [
       "26173.29235714283"
      ]
     },
     "execution_count": 175,
     "metadata": {},
     "output_type": "execute_result"
    }
   ],
   "source": [
    "l2.intercept_"
   ]
  },
  {
   "cell_type": "code",
   "execution_count": 176,
   "id": "1014057b-dd09-4c21-a9d2-4e9340b4e959",
   "metadata": {
    "ExecuteTime": {
     "end_time": "2025-09-29T19:26:56.991872Z",
     "start_time": "2025-09-29T19:26:56.989609Z"
    }
   },
   "outputs": [
    {
     "data": {
      "text/plain": [
       "array([   499.97778957,    730.91729462,  10201.07454871,  20357.66100511,\n",
       "       -20235.99032516,  23810.25802592,   5067.83689989,   -531.45902538,\n",
       "         -286.22593926, -15723.50319049,   -410.59360598,  -1408.63329467,\n",
       "       -14465.20615271,    222.03880398,   -491.40406645,  -1213.15992638,\n",
       "        -1803.12089029,   -339.94719909,   -254.58139042,   -478.81220061,\n",
       "         -290.01532275,    471.80128787])"
      ]
     },
     "execution_count": 176,
     "metadata": {},
     "output_type": "execute_result"
    }
   ],
   "source": [
    "l2.coef_"
   ]
  },
  {
   "cell_type": "markdown",
   "id": "ba600be5-ad70-48d2-b152-5e2d8e14cd21",
   "metadata": {},
   "source": [
    "#### Interpretación"
   ]
  },
  {
   "cell_type": "markdown",
   "id": "af5c2c09-2d82-46e9-a282-d2dc8985dc16",
   "metadata": {},
   "source": [
    "Cuando entrenamos el modelo Ridge con diferentes valores de alpha, lo que pasa es que los coeficientes cambian bastante, con un alpha pequeño (0.1) el modelo se ajusta casi perfecto a los datos, pero los betas quedan muy grandes y desbalanceados, lo que puede ser señal de sobreajuste, al subir alpha a 1 los coeficientes ya no son tan extremos y se empiezan a acomodar en valores más razonables, manteniendo un R2 muy alto, y cuando alpha llega a 10, los coeficientes se reducen todavía más, lo que hace al modelo más estable y menos dependiente de cada variable, aunque a cambio el R2 baja un poco."
   ]
  },
  {
   "cell_type": "markdown",
   "id": "c3c19961-9004-4559-b6fb-c97715fd74fa",
   "metadata": {},
   "source": [
    "### Ridge test"
   ]
  },
  {
   "cell_type": "code",
   "execution_count": 177,
   "id": "617868f1-809f-4c90-b4e4-bced65aa2ae8",
   "metadata": {
    "ExecuteTime": {
     "end_time": "2025-09-29T19:26:57.018893Z",
     "start_time": "2025-09-29T19:26:57.013867Z"
    }
   },
   "outputs": [
    {
     "data": {
      "text/html": [
       "<style>#sk-container-id-15 {\n",
       "  /* Definition of color scheme common for light and dark mode */\n",
       "  --sklearn-color-text: black;\n",
       "  --sklearn-color-line: gray;\n",
       "  /* Definition of color scheme for unfitted estimators */\n",
       "  --sklearn-color-unfitted-level-0: #fff5e6;\n",
       "  --sklearn-color-unfitted-level-1: #f6e4d2;\n",
       "  --sklearn-color-unfitted-level-2: #ffe0b3;\n",
       "  --sklearn-color-unfitted-level-3: chocolate;\n",
       "  /* Definition of color scheme for fitted estimators */\n",
       "  --sklearn-color-fitted-level-0: #f0f8ff;\n",
       "  --sklearn-color-fitted-level-1: #d4ebff;\n",
       "  --sklearn-color-fitted-level-2: #b3dbfd;\n",
       "  --sklearn-color-fitted-level-3: cornflowerblue;\n",
       "\n",
       "  /* Specific color for light theme */\n",
       "  --sklearn-color-text-on-default-background: var(--sg-text-color, var(--theme-code-foreground, var(--jp-content-font-color1, black)));\n",
       "  --sklearn-color-background: var(--sg-background-color, var(--theme-background, var(--jp-layout-color0, white)));\n",
       "  --sklearn-color-border-box: var(--sg-text-color, var(--theme-code-foreground, var(--jp-content-font-color1, black)));\n",
       "  --sklearn-color-icon: #696969;\n",
       "\n",
       "  @media (prefers-color-scheme: dark) {\n",
       "    /* Redefinition of color scheme for dark theme */\n",
       "    --sklearn-color-text-on-default-background: var(--sg-text-color, var(--theme-code-foreground, var(--jp-content-font-color1, white)));\n",
       "    --sklearn-color-background: var(--sg-background-color, var(--theme-background, var(--jp-layout-color0, #111)));\n",
       "    --sklearn-color-border-box: var(--sg-text-color, var(--theme-code-foreground, var(--jp-content-font-color1, white)));\n",
       "    --sklearn-color-icon: #878787;\n",
       "  }\n",
       "}\n",
       "\n",
       "#sk-container-id-15 {\n",
       "  color: var(--sklearn-color-text);\n",
       "}\n",
       "\n",
       "#sk-container-id-15 pre {\n",
       "  padding: 0;\n",
       "}\n",
       "\n",
       "#sk-container-id-15 input.sk-hidden--visually {\n",
       "  border: 0;\n",
       "  clip: rect(1px 1px 1px 1px);\n",
       "  clip: rect(1px, 1px, 1px, 1px);\n",
       "  height: 1px;\n",
       "  margin: -1px;\n",
       "  overflow: hidden;\n",
       "  padding: 0;\n",
       "  position: absolute;\n",
       "  width: 1px;\n",
       "}\n",
       "\n",
       "#sk-container-id-15 div.sk-dashed-wrapped {\n",
       "  border: 1px dashed var(--sklearn-color-line);\n",
       "  margin: 0 0.4em 0.5em 0.4em;\n",
       "  box-sizing: border-box;\n",
       "  padding-bottom: 0.4em;\n",
       "  background-color: var(--sklearn-color-background);\n",
       "}\n",
       "\n",
       "#sk-container-id-15 div.sk-container {\n",
       "  /* jupyter's `normalize.less` sets `[hidden] { display: none; }`\n",
       "     but bootstrap.min.css set `[hidden] { display: none !important; }`\n",
       "     so we also need the `!important` here to be able to override the\n",
       "     default hidden behavior on the sphinx rendered scikit-learn.org.\n",
       "     See: https://github.com/scikit-learn/scikit-learn/issues/21755 */\n",
       "  display: inline-block !important;\n",
       "  position: relative;\n",
       "}\n",
       "\n",
       "#sk-container-id-15 div.sk-text-repr-fallback {\n",
       "  display: none;\n",
       "}\n",
       "\n",
       "div.sk-parallel-item,\n",
       "div.sk-serial,\n",
       "div.sk-item {\n",
       "  /* draw centered vertical line to link estimators */\n",
       "  background-image: linear-gradient(var(--sklearn-color-text-on-default-background), var(--sklearn-color-text-on-default-background));\n",
       "  background-size: 2px 100%;\n",
       "  background-repeat: no-repeat;\n",
       "  background-position: center center;\n",
       "}\n",
       "\n",
       "/* Parallel-specific style estimator block */\n",
       "\n",
       "#sk-container-id-15 div.sk-parallel-item::after {\n",
       "  content: \"\";\n",
       "  width: 100%;\n",
       "  border-bottom: 2px solid var(--sklearn-color-text-on-default-background);\n",
       "  flex-grow: 1;\n",
       "}\n",
       "\n",
       "#sk-container-id-15 div.sk-parallel {\n",
       "  display: flex;\n",
       "  align-items: stretch;\n",
       "  justify-content: center;\n",
       "  background-color: var(--sklearn-color-background);\n",
       "  position: relative;\n",
       "}\n",
       "\n",
       "#sk-container-id-15 div.sk-parallel-item {\n",
       "  display: flex;\n",
       "  flex-direction: column;\n",
       "}\n",
       "\n",
       "#sk-container-id-15 div.sk-parallel-item:first-child::after {\n",
       "  align-self: flex-end;\n",
       "  width: 50%;\n",
       "}\n",
       "\n",
       "#sk-container-id-15 div.sk-parallel-item:last-child::after {\n",
       "  align-self: flex-start;\n",
       "  width: 50%;\n",
       "}\n",
       "\n",
       "#sk-container-id-15 div.sk-parallel-item:only-child::after {\n",
       "  width: 0;\n",
       "}\n",
       "\n",
       "/* Serial-specific style estimator block */\n",
       "\n",
       "#sk-container-id-15 div.sk-serial {\n",
       "  display: flex;\n",
       "  flex-direction: column;\n",
       "  align-items: center;\n",
       "  background-color: var(--sklearn-color-background);\n",
       "  padding-right: 1em;\n",
       "  padding-left: 1em;\n",
       "}\n",
       "\n",
       "\n",
       "/* Toggleable style: style used for estimator/Pipeline/ColumnTransformer box that is\n",
       "clickable and can be expanded/collapsed.\n",
       "- Pipeline and ColumnTransformer use this feature and define the default style\n",
       "- Estimators will overwrite some part of the style using the `sk-estimator` class\n",
       "*/\n",
       "\n",
       "/* Pipeline and ColumnTransformer style (default) */\n",
       "\n",
       "#sk-container-id-15 div.sk-toggleable {\n",
       "  /* Default theme specific background. It is overwritten whether we have a\n",
       "  specific estimator or a Pipeline/ColumnTransformer */\n",
       "  background-color: var(--sklearn-color-background);\n",
       "}\n",
       "\n",
       "/* Toggleable label */\n",
       "#sk-container-id-15 label.sk-toggleable__label {\n",
       "  cursor: pointer;\n",
       "  display: block;\n",
       "  width: 100%;\n",
       "  margin-bottom: 0;\n",
       "  padding: 0.5em;\n",
       "  box-sizing: border-box;\n",
       "  text-align: center;\n",
       "}\n",
       "\n",
       "#sk-container-id-15 label.sk-toggleable__label-arrow:before {\n",
       "  /* Arrow on the left of the label */\n",
       "  content: \"▸\";\n",
       "  float: left;\n",
       "  margin-right: 0.25em;\n",
       "  color: var(--sklearn-color-icon);\n",
       "}\n",
       "\n",
       "#sk-container-id-15 label.sk-toggleable__label-arrow:hover:before {\n",
       "  color: var(--sklearn-color-text);\n",
       "}\n",
       "\n",
       "/* Toggleable content - dropdown */\n",
       "\n",
       "#sk-container-id-15 div.sk-toggleable__content {\n",
       "  max-height: 0;\n",
       "  max-width: 0;\n",
       "  overflow: hidden;\n",
       "  text-align: left;\n",
       "  /* unfitted */\n",
       "  background-color: var(--sklearn-color-unfitted-level-0);\n",
       "}\n",
       "\n",
       "#sk-container-id-15 div.sk-toggleable__content.fitted {\n",
       "  /* fitted */\n",
       "  background-color: var(--sklearn-color-fitted-level-0);\n",
       "}\n",
       "\n",
       "#sk-container-id-15 div.sk-toggleable__content pre {\n",
       "  margin: 0.2em;\n",
       "  border-radius: 0.25em;\n",
       "  color: var(--sklearn-color-text);\n",
       "  /* unfitted */\n",
       "  background-color: var(--sklearn-color-unfitted-level-0);\n",
       "}\n",
       "\n",
       "#sk-container-id-15 div.sk-toggleable__content.fitted pre {\n",
       "  /* unfitted */\n",
       "  background-color: var(--sklearn-color-fitted-level-0);\n",
       "}\n",
       "\n",
       "#sk-container-id-15 input.sk-toggleable__control:checked~div.sk-toggleable__content {\n",
       "  /* Expand drop-down */\n",
       "  max-height: 200px;\n",
       "  max-width: 100%;\n",
       "  overflow: auto;\n",
       "}\n",
       "\n",
       "#sk-container-id-15 input.sk-toggleable__control:checked~label.sk-toggleable__label-arrow:before {\n",
       "  content: \"▾\";\n",
       "}\n",
       "\n",
       "/* Pipeline/ColumnTransformer-specific style */\n",
       "\n",
       "#sk-container-id-15 div.sk-label input.sk-toggleable__control:checked~label.sk-toggleable__label {\n",
       "  color: var(--sklearn-color-text);\n",
       "  background-color: var(--sklearn-color-unfitted-level-2);\n",
       "}\n",
       "\n",
       "#sk-container-id-15 div.sk-label.fitted input.sk-toggleable__control:checked~label.sk-toggleable__label {\n",
       "  background-color: var(--sklearn-color-fitted-level-2);\n",
       "}\n",
       "\n",
       "/* Estimator-specific style */\n",
       "\n",
       "/* Colorize estimator box */\n",
       "#sk-container-id-15 div.sk-estimator input.sk-toggleable__control:checked~label.sk-toggleable__label {\n",
       "  /* unfitted */\n",
       "  background-color: var(--sklearn-color-unfitted-level-2);\n",
       "}\n",
       "\n",
       "#sk-container-id-15 div.sk-estimator.fitted input.sk-toggleable__control:checked~label.sk-toggleable__label {\n",
       "  /* fitted */\n",
       "  background-color: var(--sklearn-color-fitted-level-2);\n",
       "}\n",
       "\n",
       "#sk-container-id-15 div.sk-label label.sk-toggleable__label,\n",
       "#sk-container-id-15 div.sk-label label {\n",
       "  /* The background is the default theme color */\n",
       "  color: var(--sklearn-color-text-on-default-background);\n",
       "}\n",
       "\n",
       "/* On hover, darken the color of the background */\n",
       "#sk-container-id-15 div.sk-label:hover label.sk-toggleable__label {\n",
       "  color: var(--sklearn-color-text);\n",
       "  background-color: var(--sklearn-color-unfitted-level-2);\n",
       "}\n",
       "\n",
       "/* Label box, darken color on hover, fitted */\n",
       "#sk-container-id-15 div.sk-label.fitted:hover label.sk-toggleable__label.fitted {\n",
       "  color: var(--sklearn-color-text);\n",
       "  background-color: var(--sklearn-color-fitted-level-2);\n",
       "}\n",
       "\n",
       "/* Estimator label */\n",
       "\n",
       "#sk-container-id-15 div.sk-label label {\n",
       "  font-family: monospace;\n",
       "  font-weight: bold;\n",
       "  display: inline-block;\n",
       "  line-height: 1.2em;\n",
       "}\n",
       "\n",
       "#sk-container-id-15 div.sk-label-container {\n",
       "  text-align: center;\n",
       "}\n",
       "\n",
       "/* Estimator-specific */\n",
       "#sk-container-id-15 div.sk-estimator {\n",
       "  font-family: monospace;\n",
       "  border: 1px dotted var(--sklearn-color-border-box);\n",
       "  border-radius: 0.25em;\n",
       "  box-sizing: border-box;\n",
       "  margin-bottom: 0.5em;\n",
       "  /* unfitted */\n",
       "  background-color: var(--sklearn-color-unfitted-level-0);\n",
       "}\n",
       "\n",
       "#sk-container-id-15 div.sk-estimator.fitted {\n",
       "  /* fitted */\n",
       "  background-color: var(--sklearn-color-fitted-level-0);\n",
       "}\n",
       "\n",
       "/* on hover */\n",
       "#sk-container-id-15 div.sk-estimator:hover {\n",
       "  /* unfitted */\n",
       "  background-color: var(--sklearn-color-unfitted-level-2);\n",
       "}\n",
       "\n",
       "#sk-container-id-15 div.sk-estimator.fitted:hover {\n",
       "  /* fitted */\n",
       "  background-color: var(--sklearn-color-fitted-level-2);\n",
       "}\n",
       "\n",
       "/* Specification for estimator info (e.g. \"i\" and \"?\") */\n",
       "\n",
       "/* Common style for \"i\" and \"?\" */\n",
       "\n",
       ".sk-estimator-doc-link,\n",
       "a:link.sk-estimator-doc-link,\n",
       "a:visited.sk-estimator-doc-link {\n",
       "  float: right;\n",
       "  font-size: smaller;\n",
       "  line-height: 1em;\n",
       "  font-family: monospace;\n",
       "  background-color: var(--sklearn-color-background);\n",
       "  border-radius: 1em;\n",
       "  height: 1em;\n",
       "  width: 1em;\n",
       "  text-decoration: none !important;\n",
       "  margin-left: 1ex;\n",
       "  /* unfitted */\n",
       "  border: var(--sklearn-color-unfitted-level-1) 1pt solid;\n",
       "  color: var(--sklearn-color-unfitted-level-1);\n",
       "}\n",
       "\n",
       ".sk-estimator-doc-link.fitted,\n",
       "a:link.sk-estimator-doc-link.fitted,\n",
       "a:visited.sk-estimator-doc-link.fitted {\n",
       "  /* fitted */\n",
       "  border: var(--sklearn-color-fitted-level-1) 1pt solid;\n",
       "  color: var(--sklearn-color-fitted-level-1);\n",
       "}\n",
       "\n",
       "/* On hover */\n",
       "div.sk-estimator:hover .sk-estimator-doc-link:hover,\n",
       ".sk-estimator-doc-link:hover,\n",
       "div.sk-label-container:hover .sk-estimator-doc-link:hover,\n",
       ".sk-estimator-doc-link:hover {\n",
       "  /* unfitted */\n",
       "  background-color: var(--sklearn-color-unfitted-level-3);\n",
       "  color: var(--sklearn-color-background);\n",
       "  text-decoration: none;\n",
       "}\n",
       "\n",
       "div.sk-estimator.fitted:hover .sk-estimator-doc-link.fitted:hover,\n",
       ".sk-estimator-doc-link.fitted:hover,\n",
       "div.sk-label-container:hover .sk-estimator-doc-link.fitted:hover,\n",
       ".sk-estimator-doc-link.fitted:hover {\n",
       "  /* fitted */\n",
       "  background-color: var(--sklearn-color-fitted-level-3);\n",
       "  color: var(--sklearn-color-background);\n",
       "  text-decoration: none;\n",
       "}\n",
       "\n",
       "/* Span, style for the box shown on hovering the info icon */\n",
       ".sk-estimator-doc-link span {\n",
       "  display: none;\n",
       "  z-index: 9999;\n",
       "  position: relative;\n",
       "  font-weight: normal;\n",
       "  right: .2ex;\n",
       "  padding: .5ex;\n",
       "  margin: .5ex;\n",
       "  width: min-content;\n",
       "  min-width: 20ex;\n",
       "  max-width: 50ex;\n",
       "  color: var(--sklearn-color-text);\n",
       "  box-shadow: 2pt 2pt 4pt #999;\n",
       "  /* unfitted */\n",
       "  background: var(--sklearn-color-unfitted-level-0);\n",
       "  border: .5pt solid var(--sklearn-color-unfitted-level-3);\n",
       "}\n",
       "\n",
       ".sk-estimator-doc-link.fitted span {\n",
       "  /* fitted */\n",
       "  background: var(--sklearn-color-fitted-level-0);\n",
       "  border: var(--sklearn-color-fitted-level-3);\n",
       "}\n",
       "\n",
       ".sk-estimator-doc-link:hover span {\n",
       "  display: block;\n",
       "}\n",
       "\n",
       "/* \"?\"-specific style due to the `<a>` HTML tag */\n",
       "\n",
       "#sk-container-id-15 a.estimator_doc_link {\n",
       "  float: right;\n",
       "  font-size: 1rem;\n",
       "  line-height: 1em;\n",
       "  font-family: monospace;\n",
       "  background-color: var(--sklearn-color-background);\n",
       "  border-radius: 1rem;\n",
       "  height: 1rem;\n",
       "  width: 1rem;\n",
       "  text-decoration: none;\n",
       "  /* unfitted */\n",
       "  color: var(--sklearn-color-unfitted-level-1);\n",
       "  border: var(--sklearn-color-unfitted-level-1) 1pt solid;\n",
       "}\n",
       "\n",
       "#sk-container-id-15 a.estimator_doc_link.fitted {\n",
       "  /* fitted */\n",
       "  border: var(--sklearn-color-fitted-level-1) 1pt solid;\n",
       "  color: var(--sklearn-color-fitted-level-1);\n",
       "}\n",
       "\n",
       "/* On hover */\n",
       "#sk-container-id-15 a.estimator_doc_link:hover {\n",
       "  /* unfitted */\n",
       "  background-color: var(--sklearn-color-unfitted-level-3);\n",
       "  color: var(--sklearn-color-background);\n",
       "  text-decoration: none;\n",
       "}\n",
       "\n",
       "#sk-container-id-15 a.estimator_doc_link.fitted:hover {\n",
       "  /* fitted */\n",
       "  background-color: var(--sklearn-color-fitted-level-3);\n",
       "}\n",
       "</style><div id=\"sk-container-id-15\" class=\"sk-top-container\"><div class=\"sk-text-repr-fallback\"><pre>Ridge(alpha=0.1)</pre><b>In a Jupyter environment, please rerun this cell to show the HTML representation or trust the notebook. <br />On GitHub, the HTML representation is unable to render, please try loading this page with nbviewer.org.</b></div><div class=\"sk-container\" hidden><div class=\"sk-item\"><div class=\"sk-estimator fitted sk-toggleable\"><input class=\"sk-toggleable__control sk-hidden--visually\" id=\"sk-estimator-id-15\" type=\"checkbox\" checked><label for=\"sk-estimator-id-15\" class=\"sk-toggleable__label fitted sk-toggleable__label-arrow fitted\">&nbsp;&nbsp;Ridge<a class=\"sk-estimator-doc-link fitted\" rel=\"noreferrer\" target=\"_blank\" href=\"https://scikit-learn.org/1.5/modules/generated/sklearn.linear_model.Ridge.html\">?<span>Documentation for Ridge</span></a><span class=\"sk-estimator-doc-link fitted\">i<span>Fitted</span></span></label><div class=\"sk-toggleable__content fitted\"><pre>Ridge(alpha=0.1)</pre></div> </div></div></div></div>"
      ],
      "text/plain": [
       "Ridge(alpha=0.1)"
      ]
     },
     "execution_count": 177,
     "metadata": {},
     "output_type": "execute_result"
    }
   ],
   "source": [
    "l2 = Ridge(alpha = 0.1)\n",
    "l2.fit(X_test_scaled, y_test)"
   ]
  },
  {
   "cell_type": "code",
   "execution_count": 178,
   "id": "fbe70369-50e5-4095-ad97-6bce2b653d40",
   "metadata": {
    "ExecuteTime": {
     "end_time": "2025-09-29T19:26:57.076639Z",
     "start_time": "2025-09-29T19:26:57.058423Z"
    }
   },
   "outputs": [
    {
     "data": {
      "text/plain": [
       "0.9988733957668678"
      ]
     },
     "execution_count": 178,
     "metadata": {},
     "output_type": "execute_result"
    }
   ],
   "source": [
    "y_pred_test = l2.predict(X_test_scaled)\n",
    "r2_score(y_test, y_pred_test)"
   ]
  },
  {
   "cell_type": "code",
   "execution_count": 179,
   "id": "3ccb7090-efb4-4ea0-b951-e35230eef255",
   "metadata": {
    "ExecuteTime": {
     "end_time": "2025-09-29T19:26:57.095212Z",
     "start_time": "2025-09-29T19:26:57.093336Z"
    }
   },
   "outputs": [
    {
     "data": {
      "text/plain": [
       "25959.58925202517"
      ]
     },
     "execution_count": 179,
     "metadata": {},
     "output_type": "execute_result"
    }
   ],
   "source": [
    "l2.intercept_"
   ]
  },
  {
   "cell_type": "code",
   "execution_count": 180,
   "id": "4d1091f1-6259-4ec8-948f-2578550904cd",
   "metadata": {
    "ExecuteTime": {
     "end_time": "2025-09-29T19:26:57.117043Z",
     "start_time": "2025-09-29T19:26:57.114926Z"
    }
   },
   "outputs": [
    {
     "data": {
      "text/plain": [
       "array([-7.75581724e+01, -2.55361612e+01,  1.29666516e+03,  1.07534270e+05,\n",
       "       -1.19928337e+04,  1.16743446e+05, -1.78817785e+05,  7.89241014e+00,\n",
       "       -1.07036787e+02, -2.56778295e+03, -4.48390768e+02, -3.67378463e+02,\n",
       "       -2.19641248e+03,  7.88981430e+01, -3.41317345e+00,  9.65163202e+01,\n",
       "       -9.83076398e+01,  8.03475082e+00, -2.22729282e+01,  4.93986667e+01,\n",
       "       -1.98256742e-01, -2.36901840e+01])"
      ]
     },
     "execution_count": 180,
     "metadata": {},
     "output_type": "execute_result"
    }
   ],
   "source": [
    "l2.coef_"
   ]
  },
  {
   "cell_type": "code",
   "execution_count": 181,
   "id": "aced5742-ef67-4068-87aa-a57b936efff1",
   "metadata": {
    "ExecuteTime": {
     "end_time": "2025-09-29T19:26:57.136312Z",
     "start_time": "2025-09-29T19:26:57.132737Z"
    }
   },
   "outputs": [
    {
     "data": {
      "text/plain": [
       "0.9748671160591301"
      ]
     },
     "execution_count": 181,
     "metadata": {},
     "output_type": "execute_result"
    }
   ],
   "source": [
    "l2 = Ridge(alpha = 1)\n",
    "l2.fit(X_test_scaled, y_test)\n",
    "y_pred_test = l2.predict(X_test_scaled)\n",
    "r2_score(y_test, y_pred_test)"
   ]
  },
  {
   "cell_type": "code",
   "execution_count": 182,
   "id": "3460362b-584b-41f1-b930-b00073d85ec2",
   "metadata": {
    "ExecuteTime": {
     "end_time": "2025-09-29T19:26:57.161901Z",
     "start_time": "2025-09-29T19:26:57.160044Z"
    }
   },
   "outputs": [
    {
     "data": {
      "text/plain": [
       "25160.713313025717"
      ]
     },
     "execution_count": 182,
     "metadata": {},
     "output_type": "execute_result"
    }
   ],
   "source": [
    "l2.intercept_"
   ]
  },
  {
   "cell_type": "code",
   "execution_count": 183,
   "id": "bc838637-045a-404b-89ce-b06d4db06fdb",
   "metadata": {
    "ExecuteTime": {
     "end_time": "2025-09-29T19:26:57.179864Z",
     "start_time": "2025-09-29T19:26:57.177841Z"
    }
   },
   "outputs": [
    {
     "data": {
      "text/plain": [
       "array([-3.40249807e+02, -1.05591891e+02,  6.10330613e+03,  5.97325358e+04,\n",
       "       -1.68779986e+04,  6.58199361e+04, -7.74982955e+04,  4.94825548e+01,\n",
       "       -4.94408935e+02, -1.20178472e+04, -2.00895272e+03, -1.68001342e+03,\n",
       "       -1.02393642e+04,  3.78363278e+02, -4.43564696e+00,  4.52390354e+02,\n",
       "       -4.58595778e+02,  3.30578047e+01, -1.11989113e+02,  2.32644117e+02,\n",
       "       -6.47218849e+00, -1.20907013e+02])"
      ]
     },
     "execution_count": 183,
     "metadata": {},
     "output_type": "execute_result"
    }
   ],
   "source": [
    "l2.coef_"
   ]
  },
  {
   "cell_type": "code",
   "execution_count": 184,
   "id": "eafd793d-4994-4060-bb1f-427dfabc84b6",
   "metadata": {
    "ExecuteTime": {
     "end_time": "2025-09-29T19:26:57.208590Z",
     "start_time": "2025-09-29T19:26:57.202771Z"
    }
   },
   "outputs": [
    {
     "data": {
      "text/plain": [
       "0.9340048663838719"
      ]
     },
     "execution_count": 184,
     "metadata": {},
     "output_type": "execute_result"
    }
   ],
   "source": [
    "l2 = Ridge(alpha = 10)\n",
    "l2.fit(X_test_scaled, y_test)\n",
    "y_pred_test = l2.predict(X_test_scaled)\n",
    "r2_score(y_test, y_pred_test)"
   ]
  },
  {
   "cell_type": "code",
   "execution_count": 185,
   "id": "ce648458-fe59-49e0-a934-8cecdad23809",
   "metadata": {
    "ExecuteTime": {
     "end_time": "2025-09-29T19:26:57.227043Z",
     "start_time": "2025-09-29T19:26:57.225063Z"
    }
   },
   "outputs": [
    {
     "data": {
      "text/plain": [
       "24511.66494301642"
      ]
     },
     "execution_count": 185,
     "metadata": {},
     "output_type": "execute_result"
    }
   ],
   "source": [
    "l2.intercept_"
   ]
  },
  {
   "cell_type": "code",
   "execution_count": 186,
   "id": "eec00532-979a-4415-a789-5ab699dbc376",
   "metadata": {
    "ExecuteTime": {
     "end_time": "2025-09-29T19:26:57.245079Z",
     "start_time": "2025-09-29T19:26:57.242906Z"
    }
   },
   "outputs": [
    {
     "data": {
      "text/plain": [
       "array([-1.81366616e+02,  3.03845970e+01,  9.45532444e+03,  2.29958598e+04,\n",
       "       -1.90252946e+04,  2.65312180e+04, -1.78004138e+03,  2.47647087e+02,\n",
       "       -6.32315002e+02, -1.76729430e+04, -1.73615910e+03, -1.94929883e+03,\n",
       "       -1.44970630e+04,  6.78500272e+02,  1.49272827e+02,  6.67170622e+02,\n",
       "       -6.59788897e+02, -1.41672832e+01, -2.72695818e+02,  3.65436715e+02,\n",
       "       -7.53074733e+01, -3.09006915e+02])"
      ]
     },
     "execution_count": 186,
     "metadata": {},
     "output_type": "execute_result"
    }
   ],
   "source": [
    "l2.coef_"
   ]
  },
  {
   "cell_type": "markdown",
   "id": "87a8b3ac-4a7b-4626-ba87-022c36e0789f",
   "metadata": {},
   "source": [
    "#### Interpretación"
   ]
  },
  {
   "cell_type": "markdown",
   "id": "9e3c9752-c3b1-4c6f-b1a1-a578ed595b3b",
   "metadata": {},
   "source": [
    "Al aplicar Ridge sobre los datos de prueba, se observa que al usar un valor pequeño de alpha (0.1) el modelo alcanza un ajuste muy alto (R2 = 0.99) y los coeficientes mantienen valores grandes, lo que indica que la regularización es casi nula. Cuando el alpha aumenta a 1, el R2 baja un poco (0.97) y los coeficientes empiezan a reducirse, lo que muestra cómo Ridge penaliza los valores extremos y busca un balance más estable en las variables. Finalmente, con un alpha de 10, el R2 cae todavía más (0.93) y los coeficientes se achican de manera más marcada, señalando que la regularización es fuerte, el modelo se simplifica al costo de perder algo de precisión"
   ]
  },
  {
   "cell_type": "code",
   "execution_count": null,
   "id": "a4c7779c-d366-4d2c-b21c-7bae518f91c2",
   "metadata": {
    "ExecuteTime": {
     "end_time": "2025-09-29T19:26:57.265727Z",
     "start_time": "2025-09-29T19:26:57.264332Z"
    }
   },
   "outputs": [],
   "source": []
  },
  {
   "cell_type": "markdown",
   "id": "d51e4985-1aff-464a-81ff-f66f479bd3e0",
   "metadata": {},
   "source": [
    "### Lasso"
   ]
  },
  {
   "cell_type": "code",
   "execution_count": 187,
   "id": "710c748a-e5e2-4f02-9562-3e3283012f1c",
   "metadata": {
    "ExecuteTime": {
     "end_time": "2025-09-29T19:26:57.312774Z",
     "start_time": "2025-09-29T19:26:57.290642Z"
    }
   },
   "outputs": [
    {
     "name": "stderr",
     "output_type": "stream",
     "text": [
      "/opt/anaconda3/lib/python3.12/site-packages/sklearn/linear_model/_coordinate_descent.py:697: ConvergenceWarning: Objective did not converge. You might want to increase the number of iterations, check the scale of the features or consider increasing regularisation. Duality gap: 2.580e+08, tolerance: 1.278e+08\n",
      "  model = cd_fast.enet_coordinate_descent(\n"
     ]
    },
    {
     "data": {
      "text/plain": [
       "0.9995982889930705"
      ]
     },
     "execution_count": 187,
     "metadata": {},
     "output_type": "execute_result"
    }
   ],
   "source": [
    "l1 = Lasso(alpha = 0.1)   \n",
    "l1.fit(x, y)\n",
    "y_pred = l1.predict(x)\n",
    "r2_score(y, y_pred)"
   ]
  },
  {
   "cell_type": "code",
   "execution_count": 188,
   "id": "22f62a88-7917-4d71-af06-6c8402ca1380",
   "metadata": {
    "ExecuteTime": {
     "end_time": "2025-09-29T19:26:57.321900Z",
     "start_time": "2025-09-29T19:26:57.319946Z"
    }
   },
   "outputs": [
    {
     "data": {
      "text/plain": [
       "232612.439119602"
      ]
     },
     "execution_count": 188,
     "metadata": {},
     "output_type": "execute_result"
    }
   ],
   "source": [
    "l1.intercept_"
   ]
  },
  {
   "cell_type": "code",
   "execution_count": 189,
   "id": "694acc9f-f9fb-47aa-8033-333a2874ca53",
   "metadata": {
    "ExecuteTime": {
     "end_time": "2025-09-29T19:26:57.357246Z",
     "start_time": "2025-09-29T19:26:57.350347Z"
    }
   },
   "outputs": [
    {
     "data": {
      "text/plain": [
       "array([ 2.93114195e-02,  9.25612733e+00,  7.00284166e+00,  8.56779992e-01,\n",
       "       -9.29632597e-01,  7.57884925e-02, -9.15869708e-01, -1.58458603e+00,\n",
       "       -1.16277451e+02, -4.44158670e+03, -4.92566822e+02, -6.37764054e+02,\n",
       "       -3.96464189e+03,  5.10427962e+01, -6.11986381e+01, -3.29799163e+01,\n",
       "       -2.35034787e+02,  2.30173655e+03,  2.26437672e+03,  2.32647500e+03,\n",
       "        7.78533461e+01,  1.34278036e+03])"
      ]
     },
     "execution_count": 189,
     "metadata": {},
     "output_type": "execute_result"
    }
   ],
   "source": [
    "l1.coef_"
   ]
  },
  {
   "cell_type": "code",
   "execution_count": 190,
   "id": "16d7836b-779c-4e07-995d-61008c238de1",
   "metadata": {
    "ExecuteTime": {
     "end_time": "2025-09-29T19:26:57.408084Z",
     "start_time": "2025-09-29T19:26:57.381181Z"
    }
   },
   "outputs": [
    {
     "name": "stderr",
     "output_type": "stream",
     "text": [
      "/opt/anaconda3/lib/python3.12/site-packages/sklearn/linear_model/_coordinate_descent.py:697: ConvergenceWarning: Objective did not converge. You might want to increase the number of iterations, check the scale of the features or consider increasing regularisation. Duality gap: 2.579e+08, tolerance: 1.278e+08\n",
      "  model = cd_fast.enet_coordinate_descent(\n"
     ]
    },
    {
     "data": {
      "text/plain": [
       "0.9996073523362428"
      ]
     },
     "execution_count": 190,
     "metadata": {},
     "output_type": "execute_result"
    }
   ],
   "source": [
    "l1 = Lasso(alpha = 1)   \n",
    "l1.fit(x, y)\n",
    "y_pred = l1.predict(x)\n",
    "r2_score(y, y_pred)"
   ]
  },
  {
   "cell_type": "code",
   "execution_count": 191,
   "id": "e30aa8b5-e00d-4bd6-8ae6-23f454d34b53",
   "metadata": {
    "ExecuteTime": {
     "end_time": "2025-09-29T19:26:57.461490Z",
     "start_time": "2025-09-29T19:26:57.459046Z"
    }
   },
   "outputs": [
    {
     "data": {
      "text/plain": [
       "219258.22918490466"
      ]
     },
     "execution_count": 191,
     "metadata": {},
     "output_type": "execute_result"
    }
   ],
   "source": [
    "l1.intercept_"
   ]
  },
  {
   "cell_type": "code",
   "execution_count": 192,
   "id": "41509592-8a32-46a3-9d4b-31760447ba55",
   "metadata": {
    "ExecuteTime": {
     "end_time": "2025-09-29T19:26:57.485138Z",
     "start_time": "2025-09-29T19:26:57.482327Z"
    }
   },
   "outputs": [
    {
     "data": {
      "text/plain": [
       "array([ 3.09117624e-02,  2.59761143e-01,  6.89730424e+00,  8.57555544e-01,\n",
       "       -9.29572591e-01,  7.57836166e-02, -9.16846802e-01, -1.11555657e+00,\n",
       "       -1.08511827e+02, -4.35321646e+03, -4.54539815e+02, -5.98472780e+02,\n",
       "       -3.87521693e+03,  5.49655559e+01, -4.64794254e+01, -1.86851148e+01,\n",
       "       -2.18332033e+02, -0.00000000e+00, -1.68244626e+01,  7.79461725e+01,\n",
       "       -5.39803289e-01,  8.08391085e+01])"
      ]
     },
     "execution_count": 192,
     "metadata": {},
     "output_type": "execute_result"
    }
   ],
   "source": [
    "l1.coef_"
   ]
  },
  {
   "cell_type": "code",
   "execution_count": 193,
   "id": "ddba5d25-a7c2-4201-8998-6643e5d4f5e5",
   "metadata": {
    "ExecuteTime": {
     "end_time": "2025-09-29T19:26:57.537101Z",
     "start_time": "2025-09-29T19:26:57.509302Z"
    }
   },
   "outputs": [
    {
     "name": "stderr",
     "output_type": "stream",
     "text": [
      "/opt/anaconda3/lib/python3.12/site-packages/sklearn/linear_model/_coordinate_descent.py:697: ConvergenceWarning: Objective did not converge. You might want to increase the number of iterations, check the scale of the features or consider increasing regularisation. Duality gap: 2.513e+08, tolerance: 1.278e+08\n",
      "  model = cd_fast.enet_coordinate_descent(\n"
     ]
    },
    {
     "data": {
      "text/plain": [
       "0.999682457604533"
      ]
     },
     "execution_count": 193,
     "metadata": {},
     "output_type": "execute_result"
    }
   ],
   "source": [
    "l1 = Lasso(alpha = 10)   \n",
    "l1.fit(x, y)\n",
    "y_pred = l1.predict(x)\n",
    "r2_score(y, y_pred)"
   ]
  },
  {
   "cell_type": "code",
   "execution_count": 194,
   "id": "7a702c85-4065-48c7-83b0-e72143211d3b",
   "metadata": {
    "ExecuteTime": {
     "end_time": "2025-09-29T19:26:57.561367Z",
     "start_time": "2025-09-29T19:26:57.558946Z"
    }
   },
   "outputs": [
    {
     "data": {
      "text/plain": [
       "77531.68530157334"
      ]
     },
     "execution_count": 194,
     "metadata": {},
     "output_type": "execute_result"
    }
   ],
   "source": [
    "l1.intercept_"
   ]
  },
  {
   "cell_type": "code",
   "execution_count": 195,
   "id": "e27ac704-07b8-43b4-9a2e-2abe881f0d6b",
   "metadata": {
    "ExecuteTime": {
     "end_time": "2025-09-29T19:26:57.595552Z",
     "start_time": "2025-09-29T19:26:57.592031Z"
    }
   },
   "outputs": [
    {
     "data": {
      "text/plain": [
       "array([ 3.86171914e-02,  1.44386815e-01,  5.83324967e+00,  8.65274731e-01,\n",
       "       -9.29122137e-01,  7.57470541e-02, -9.26567845e-01,  1.25554686e+00,\n",
       "       -3.83095700e+01, -3.47043806e+03, -7.31355034e+01, -2.04213497e+02,\n",
       "       -2.97560679e+03,  2.11498623e+01, -0.00000000e+00, -0.00000000e+00,\n",
       "       -1.25599900e+02, -0.00000000e+00, -0.00000000e+00,  0.00000000e+00,\n",
       "       -0.00000000e+00,  0.00000000e+00])"
      ]
     },
     "execution_count": 195,
     "metadata": {},
     "output_type": "execute_result"
    }
   ],
   "source": [
    "l1.coef_"
   ]
  },
  {
   "cell_type": "markdown",
   "id": "190147b5-3ba1-4413-95b3-b60abdb0a7c9",
   "metadata": {},
   "source": [
    "#### Interpretación"
   ]
  },
  {
   "cell_type": "markdown",
   "id": "3f9391a3-ea0f-449d-80d5-8823742e0834",
   "metadata": {},
   "source": [
    "En el modelo Lasso, cuando se usó un alpha pequeño (0.1), el modelo mantuvo la mayoría de los coeficientes con valores distintos de cero, mostrando un ajuste muy preciso al conjunto de datos (R2 = 0.9996). Al aumentar el alpha a 1, varios coeficientes comenzaron a reducirse y algunos se acercaron a cero, lo que significa que el modelo ya empieza a simplificarse eliminando variables menos relevantes, aunque todavía conserva un poder predictivo casi perfecto (R2 = 0.9996). Finalmente, con un alpha de 10, el efecto de la regularización fue mucho más fuerte, varios coeficientes se convirtieron exactamente en cero, dejando fuera varias variables del modelo, y aunque la precisión sigue siendo alta, se observa cómo Lasso prioriza un modelo más sencillo sacrificando un poco de ajuste."
   ]
  },
  {
   "cell_type": "markdown",
   "id": "3bf6be3f-8002-4752-ad64-04c05a62437e",
   "metadata": {},
   "source": [
    "### Lasso Train"
   ]
  },
  {
   "cell_type": "code",
   "execution_count": 196,
   "id": "c8df4ec7-a4fc-4021-9510-df0b45b58866",
   "metadata": {
    "ExecuteTime": {
     "end_time": "2025-09-29T19:26:57.633321Z",
     "start_time": "2025-09-29T19:26:57.624890Z"
    }
   },
   "outputs": [
    {
     "name": "stderr",
     "output_type": "stream",
     "text": [
      "/opt/anaconda3/lib/python3.12/site-packages/sklearn/linear_model/_coordinate_descent.py:697: ConvergenceWarning: Objective did not converge. You might want to increase the number of iterations, check the scale of the features or consider increasing regularisation. Duality gap: 2.293e+08, tolerance: 5.824e+07\n",
      "  model = cd_fast.enet_coordinate_descent(\n"
     ]
    },
    {
     "data": {
      "text/html": [
       "<style>#sk-container-id-16 {\n",
       "  /* Definition of color scheme common for light and dark mode */\n",
       "  --sklearn-color-text: black;\n",
       "  --sklearn-color-line: gray;\n",
       "  /* Definition of color scheme for unfitted estimators */\n",
       "  --sklearn-color-unfitted-level-0: #fff5e6;\n",
       "  --sklearn-color-unfitted-level-1: #f6e4d2;\n",
       "  --sklearn-color-unfitted-level-2: #ffe0b3;\n",
       "  --sklearn-color-unfitted-level-3: chocolate;\n",
       "  /* Definition of color scheme for fitted estimators */\n",
       "  --sklearn-color-fitted-level-0: #f0f8ff;\n",
       "  --sklearn-color-fitted-level-1: #d4ebff;\n",
       "  --sklearn-color-fitted-level-2: #b3dbfd;\n",
       "  --sklearn-color-fitted-level-3: cornflowerblue;\n",
       "\n",
       "  /* Specific color for light theme */\n",
       "  --sklearn-color-text-on-default-background: var(--sg-text-color, var(--theme-code-foreground, var(--jp-content-font-color1, black)));\n",
       "  --sklearn-color-background: var(--sg-background-color, var(--theme-background, var(--jp-layout-color0, white)));\n",
       "  --sklearn-color-border-box: var(--sg-text-color, var(--theme-code-foreground, var(--jp-content-font-color1, black)));\n",
       "  --sklearn-color-icon: #696969;\n",
       "\n",
       "  @media (prefers-color-scheme: dark) {\n",
       "    /* Redefinition of color scheme for dark theme */\n",
       "    --sklearn-color-text-on-default-background: var(--sg-text-color, var(--theme-code-foreground, var(--jp-content-font-color1, white)));\n",
       "    --sklearn-color-background: var(--sg-background-color, var(--theme-background, var(--jp-layout-color0, #111)));\n",
       "    --sklearn-color-border-box: var(--sg-text-color, var(--theme-code-foreground, var(--jp-content-font-color1, white)));\n",
       "    --sklearn-color-icon: #878787;\n",
       "  }\n",
       "}\n",
       "\n",
       "#sk-container-id-16 {\n",
       "  color: var(--sklearn-color-text);\n",
       "}\n",
       "\n",
       "#sk-container-id-16 pre {\n",
       "  padding: 0;\n",
       "}\n",
       "\n",
       "#sk-container-id-16 input.sk-hidden--visually {\n",
       "  border: 0;\n",
       "  clip: rect(1px 1px 1px 1px);\n",
       "  clip: rect(1px, 1px, 1px, 1px);\n",
       "  height: 1px;\n",
       "  margin: -1px;\n",
       "  overflow: hidden;\n",
       "  padding: 0;\n",
       "  position: absolute;\n",
       "  width: 1px;\n",
       "}\n",
       "\n",
       "#sk-container-id-16 div.sk-dashed-wrapped {\n",
       "  border: 1px dashed var(--sklearn-color-line);\n",
       "  margin: 0 0.4em 0.5em 0.4em;\n",
       "  box-sizing: border-box;\n",
       "  padding-bottom: 0.4em;\n",
       "  background-color: var(--sklearn-color-background);\n",
       "}\n",
       "\n",
       "#sk-container-id-16 div.sk-container {\n",
       "  /* jupyter's `normalize.less` sets `[hidden] { display: none; }`\n",
       "     but bootstrap.min.css set `[hidden] { display: none !important; }`\n",
       "     so we also need the `!important` here to be able to override the\n",
       "     default hidden behavior on the sphinx rendered scikit-learn.org.\n",
       "     See: https://github.com/scikit-learn/scikit-learn/issues/21755 */\n",
       "  display: inline-block !important;\n",
       "  position: relative;\n",
       "}\n",
       "\n",
       "#sk-container-id-16 div.sk-text-repr-fallback {\n",
       "  display: none;\n",
       "}\n",
       "\n",
       "div.sk-parallel-item,\n",
       "div.sk-serial,\n",
       "div.sk-item {\n",
       "  /* draw centered vertical line to link estimators */\n",
       "  background-image: linear-gradient(var(--sklearn-color-text-on-default-background), var(--sklearn-color-text-on-default-background));\n",
       "  background-size: 2px 100%;\n",
       "  background-repeat: no-repeat;\n",
       "  background-position: center center;\n",
       "}\n",
       "\n",
       "/* Parallel-specific style estimator block */\n",
       "\n",
       "#sk-container-id-16 div.sk-parallel-item::after {\n",
       "  content: \"\";\n",
       "  width: 100%;\n",
       "  border-bottom: 2px solid var(--sklearn-color-text-on-default-background);\n",
       "  flex-grow: 1;\n",
       "}\n",
       "\n",
       "#sk-container-id-16 div.sk-parallel {\n",
       "  display: flex;\n",
       "  align-items: stretch;\n",
       "  justify-content: center;\n",
       "  background-color: var(--sklearn-color-background);\n",
       "  position: relative;\n",
       "}\n",
       "\n",
       "#sk-container-id-16 div.sk-parallel-item {\n",
       "  display: flex;\n",
       "  flex-direction: column;\n",
       "}\n",
       "\n",
       "#sk-container-id-16 div.sk-parallel-item:first-child::after {\n",
       "  align-self: flex-end;\n",
       "  width: 50%;\n",
       "}\n",
       "\n",
       "#sk-container-id-16 div.sk-parallel-item:last-child::after {\n",
       "  align-self: flex-start;\n",
       "  width: 50%;\n",
       "}\n",
       "\n",
       "#sk-container-id-16 div.sk-parallel-item:only-child::after {\n",
       "  width: 0;\n",
       "}\n",
       "\n",
       "/* Serial-specific style estimator block */\n",
       "\n",
       "#sk-container-id-16 div.sk-serial {\n",
       "  display: flex;\n",
       "  flex-direction: column;\n",
       "  align-items: center;\n",
       "  background-color: var(--sklearn-color-background);\n",
       "  padding-right: 1em;\n",
       "  padding-left: 1em;\n",
       "}\n",
       "\n",
       "\n",
       "/* Toggleable style: style used for estimator/Pipeline/ColumnTransformer box that is\n",
       "clickable and can be expanded/collapsed.\n",
       "- Pipeline and ColumnTransformer use this feature and define the default style\n",
       "- Estimators will overwrite some part of the style using the `sk-estimator` class\n",
       "*/\n",
       "\n",
       "/* Pipeline and ColumnTransformer style (default) */\n",
       "\n",
       "#sk-container-id-16 div.sk-toggleable {\n",
       "  /* Default theme specific background. It is overwritten whether we have a\n",
       "  specific estimator or a Pipeline/ColumnTransformer */\n",
       "  background-color: var(--sklearn-color-background);\n",
       "}\n",
       "\n",
       "/* Toggleable label */\n",
       "#sk-container-id-16 label.sk-toggleable__label {\n",
       "  cursor: pointer;\n",
       "  display: block;\n",
       "  width: 100%;\n",
       "  margin-bottom: 0;\n",
       "  padding: 0.5em;\n",
       "  box-sizing: border-box;\n",
       "  text-align: center;\n",
       "}\n",
       "\n",
       "#sk-container-id-16 label.sk-toggleable__label-arrow:before {\n",
       "  /* Arrow on the left of the label */\n",
       "  content: \"▸\";\n",
       "  float: left;\n",
       "  margin-right: 0.25em;\n",
       "  color: var(--sklearn-color-icon);\n",
       "}\n",
       "\n",
       "#sk-container-id-16 label.sk-toggleable__label-arrow:hover:before {\n",
       "  color: var(--sklearn-color-text);\n",
       "}\n",
       "\n",
       "/* Toggleable content - dropdown */\n",
       "\n",
       "#sk-container-id-16 div.sk-toggleable__content {\n",
       "  max-height: 0;\n",
       "  max-width: 0;\n",
       "  overflow: hidden;\n",
       "  text-align: left;\n",
       "  /* unfitted */\n",
       "  background-color: var(--sklearn-color-unfitted-level-0);\n",
       "}\n",
       "\n",
       "#sk-container-id-16 div.sk-toggleable__content.fitted {\n",
       "  /* fitted */\n",
       "  background-color: var(--sklearn-color-fitted-level-0);\n",
       "}\n",
       "\n",
       "#sk-container-id-16 div.sk-toggleable__content pre {\n",
       "  margin: 0.2em;\n",
       "  border-radius: 0.25em;\n",
       "  color: var(--sklearn-color-text);\n",
       "  /* unfitted */\n",
       "  background-color: var(--sklearn-color-unfitted-level-0);\n",
       "}\n",
       "\n",
       "#sk-container-id-16 div.sk-toggleable__content.fitted pre {\n",
       "  /* unfitted */\n",
       "  background-color: var(--sklearn-color-fitted-level-0);\n",
       "}\n",
       "\n",
       "#sk-container-id-16 input.sk-toggleable__control:checked~div.sk-toggleable__content {\n",
       "  /* Expand drop-down */\n",
       "  max-height: 200px;\n",
       "  max-width: 100%;\n",
       "  overflow: auto;\n",
       "}\n",
       "\n",
       "#sk-container-id-16 input.sk-toggleable__control:checked~label.sk-toggleable__label-arrow:before {\n",
       "  content: \"▾\";\n",
       "}\n",
       "\n",
       "/* Pipeline/ColumnTransformer-specific style */\n",
       "\n",
       "#sk-container-id-16 div.sk-label input.sk-toggleable__control:checked~label.sk-toggleable__label {\n",
       "  color: var(--sklearn-color-text);\n",
       "  background-color: var(--sklearn-color-unfitted-level-2);\n",
       "}\n",
       "\n",
       "#sk-container-id-16 div.sk-label.fitted input.sk-toggleable__control:checked~label.sk-toggleable__label {\n",
       "  background-color: var(--sklearn-color-fitted-level-2);\n",
       "}\n",
       "\n",
       "/* Estimator-specific style */\n",
       "\n",
       "/* Colorize estimator box */\n",
       "#sk-container-id-16 div.sk-estimator input.sk-toggleable__control:checked~label.sk-toggleable__label {\n",
       "  /* unfitted */\n",
       "  background-color: var(--sklearn-color-unfitted-level-2);\n",
       "}\n",
       "\n",
       "#sk-container-id-16 div.sk-estimator.fitted input.sk-toggleable__control:checked~label.sk-toggleable__label {\n",
       "  /* fitted */\n",
       "  background-color: var(--sklearn-color-fitted-level-2);\n",
       "}\n",
       "\n",
       "#sk-container-id-16 div.sk-label label.sk-toggleable__label,\n",
       "#sk-container-id-16 div.sk-label label {\n",
       "  /* The background is the default theme color */\n",
       "  color: var(--sklearn-color-text-on-default-background);\n",
       "}\n",
       "\n",
       "/* On hover, darken the color of the background */\n",
       "#sk-container-id-16 div.sk-label:hover label.sk-toggleable__label {\n",
       "  color: var(--sklearn-color-text);\n",
       "  background-color: var(--sklearn-color-unfitted-level-2);\n",
       "}\n",
       "\n",
       "/* Label box, darken color on hover, fitted */\n",
       "#sk-container-id-16 div.sk-label.fitted:hover label.sk-toggleable__label.fitted {\n",
       "  color: var(--sklearn-color-text);\n",
       "  background-color: var(--sklearn-color-fitted-level-2);\n",
       "}\n",
       "\n",
       "/* Estimator label */\n",
       "\n",
       "#sk-container-id-16 div.sk-label label {\n",
       "  font-family: monospace;\n",
       "  font-weight: bold;\n",
       "  display: inline-block;\n",
       "  line-height: 1.2em;\n",
       "}\n",
       "\n",
       "#sk-container-id-16 div.sk-label-container {\n",
       "  text-align: center;\n",
       "}\n",
       "\n",
       "/* Estimator-specific */\n",
       "#sk-container-id-16 div.sk-estimator {\n",
       "  font-family: monospace;\n",
       "  border: 1px dotted var(--sklearn-color-border-box);\n",
       "  border-radius: 0.25em;\n",
       "  box-sizing: border-box;\n",
       "  margin-bottom: 0.5em;\n",
       "  /* unfitted */\n",
       "  background-color: var(--sklearn-color-unfitted-level-0);\n",
       "}\n",
       "\n",
       "#sk-container-id-16 div.sk-estimator.fitted {\n",
       "  /* fitted */\n",
       "  background-color: var(--sklearn-color-fitted-level-0);\n",
       "}\n",
       "\n",
       "/* on hover */\n",
       "#sk-container-id-16 div.sk-estimator:hover {\n",
       "  /* unfitted */\n",
       "  background-color: var(--sklearn-color-unfitted-level-2);\n",
       "}\n",
       "\n",
       "#sk-container-id-16 div.sk-estimator.fitted:hover {\n",
       "  /* fitted */\n",
       "  background-color: var(--sklearn-color-fitted-level-2);\n",
       "}\n",
       "\n",
       "/* Specification for estimator info (e.g. \"i\" and \"?\") */\n",
       "\n",
       "/* Common style for \"i\" and \"?\" */\n",
       "\n",
       ".sk-estimator-doc-link,\n",
       "a:link.sk-estimator-doc-link,\n",
       "a:visited.sk-estimator-doc-link {\n",
       "  float: right;\n",
       "  font-size: smaller;\n",
       "  line-height: 1em;\n",
       "  font-family: monospace;\n",
       "  background-color: var(--sklearn-color-background);\n",
       "  border-radius: 1em;\n",
       "  height: 1em;\n",
       "  width: 1em;\n",
       "  text-decoration: none !important;\n",
       "  margin-left: 1ex;\n",
       "  /* unfitted */\n",
       "  border: var(--sklearn-color-unfitted-level-1) 1pt solid;\n",
       "  color: var(--sklearn-color-unfitted-level-1);\n",
       "}\n",
       "\n",
       ".sk-estimator-doc-link.fitted,\n",
       "a:link.sk-estimator-doc-link.fitted,\n",
       "a:visited.sk-estimator-doc-link.fitted {\n",
       "  /* fitted */\n",
       "  border: var(--sklearn-color-fitted-level-1) 1pt solid;\n",
       "  color: var(--sklearn-color-fitted-level-1);\n",
       "}\n",
       "\n",
       "/* On hover */\n",
       "div.sk-estimator:hover .sk-estimator-doc-link:hover,\n",
       ".sk-estimator-doc-link:hover,\n",
       "div.sk-label-container:hover .sk-estimator-doc-link:hover,\n",
       ".sk-estimator-doc-link:hover {\n",
       "  /* unfitted */\n",
       "  background-color: var(--sklearn-color-unfitted-level-3);\n",
       "  color: var(--sklearn-color-background);\n",
       "  text-decoration: none;\n",
       "}\n",
       "\n",
       "div.sk-estimator.fitted:hover .sk-estimator-doc-link.fitted:hover,\n",
       ".sk-estimator-doc-link.fitted:hover,\n",
       "div.sk-label-container:hover .sk-estimator-doc-link.fitted:hover,\n",
       ".sk-estimator-doc-link.fitted:hover {\n",
       "  /* fitted */\n",
       "  background-color: var(--sklearn-color-fitted-level-3);\n",
       "  color: var(--sklearn-color-background);\n",
       "  text-decoration: none;\n",
       "}\n",
       "\n",
       "/* Span, style for the box shown on hovering the info icon */\n",
       ".sk-estimator-doc-link span {\n",
       "  display: none;\n",
       "  z-index: 9999;\n",
       "  position: relative;\n",
       "  font-weight: normal;\n",
       "  right: .2ex;\n",
       "  padding: .5ex;\n",
       "  margin: .5ex;\n",
       "  width: min-content;\n",
       "  min-width: 20ex;\n",
       "  max-width: 50ex;\n",
       "  color: var(--sklearn-color-text);\n",
       "  box-shadow: 2pt 2pt 4pt #999;\n",
       "  /* unfitted */\n",
       "  background: var(--sklearn-color-unfitted-level-0);\n",
       "  border: .5pt solid var(--sklearn-color-unfitted-level-3);\n",
       "}\n",
       "\n",
       ".sk-estimator-doc-link.fitted span {\n",
       "  /* fitted */\n",
       "  background: var(--sklearn-color-fitted-level-0);\n",
       "  border: var(--sklearn-color-fitted-level-3);\n",
       "}\n",
       "\n",
       ".sk-estimator-doc-link:hover span {\n",
       "  display: block;\n",
       "}\n",
       "\n",
       "/* \"?\"-specific style due to the `<a>` HTML tag */\n",
       "\n",
       "#sk-container-id-16 a.estimator_doc_link {\n",
       "  float: right;\n",
       "  font-size: 1rem;\n",
       "  line-height: 1em;\n",
       "  font-family: monospace;\n",
       "  background-color: var(--sklearn-color-background);\n",
       "  border-radius: 1rem;\n",
       "  height: 1rem;\n",
       "  width: 1rem;\n",
       "  text-decoration: none;\n",
       "  /* unfitted */\n",
       "  color: var(--sklearn-color-unfitted-level-1);\n",
       "  border: var(--sklearn-color-unfitted-level-1) 1pt solid;\n",
       "}\n",
       "\n",
       "#sk-container-id-16 a.estimator_doc_link.fitted {\n",
       "  /* fitted */\n",
       "  border: var(--sklearn-color-fitted-level-1) 1pt solid;\n",
       "  color: var(--sklearn-color-fitted-level-1);\n",
       "}\n",
       "\n",
       "/* On hover */\n",
       "#sk-container-id-16 a.estimator_doc_link:hover {\n",
       "  /* unfitted */\n",
       "  background-color: var(--sklearn-color-unfitted-level-3);\n",
       "  color: var(--sklearn-color-background);\n",
       "  text-decoration: none;\n",
       "}\n",
       "\n",
       "#sk-container-id-16 a.estimator_doc_link.fitted:hover {\n",
       "  /* fitted */\n",
       "  background-color: var(--sklearn-color-fitted-level-3);\n",
       "}\n",
       "</style><div id=\"sk-container-id-16\" class=\"sk-top-container\"><div class=\"sk-text-repr-fallback\"><pre>Lasso(alpha=0.1)</pre><b>In a Jupyter environment, please rerun this cell to show the HTML representation or trust the notebook. <br />On GitHub, the HTML representation is unable to render, please try loading this page with nbviewer.org.</b></div><div class=\"sk-container\" hidden><div class=\"sk-item\"><div class=\"sk-estimator fitted sk-toggleable\"><input class=\"sk-toggleable__control sk-hidden--visually\" id=\"sk-estimator-id-16\" type=\"checkbox\" checked><label for=\"sk-estimator-id-16\" class=\"sk-toggleable__label fitted sk-toggleable__label-arrow fitted\">&nbsp;&nbsp;Lasso<a class=\"sk-estimator-doc-link fitted\" rel=\"noreferrer\" target=\"_blank\" href=\"https://scikit-learn.org/1.5/modules/generated/sklearn.linear_model.Lasso.html\">?<span>Documentation for Lasso</span></a><span class=\"sk-estimator-doc-link fitted\">i<span>Fitted</span></span></label><div class=\"sk-toggleable__content fitted\"><pre>Lasso(alpha=0.1)</pre></div> </div></div></div></div>"
      ],
      "text/plain": [
       "Lasso(alpha=0.1)"
      ]
     },
     "execution_count": 196,
     "metadata": {},
     "output_type": "execute_result"
    }
   ],
   "source": [
    "l1 = Lasso(alpha = 0.1)\n",
    "l1.fit(X_train_scaled, y_train)"
   ]
  },
  {
   "cell_type": "code",
   "execution_count": 197,
   "id": "f7e1573f-d145-4d4b-9848-1558b4098a7f",
   "metadata": {
    "ExecuteTime": {
     "end_time": "2025-09-29T19:26:57.665471Z",
     "start_time": "2025-09-29T19:26:57.662657Z"
    }
   },
   "outputs": [
    {
     "data": {
      "text/plain": [
       "0.9992306889432909"
      ]
     },
     "execution_count": 197,
     "metadata": {},
     "output_type": "execute_result"
    }
   ],
   "source": [
    "y_pred = l1.predict(X_train_scaled)\n",
    "r2_score(y_train, y_pred)"
   ]
  },
  {
   "cell_type": "code",
   "execution_count": 198,
   "id": "6d07915f-819a-407c-aa58-fd188be6ebae",
   "metadata": {
    "ExecuteTime": {
     "end_time": "2025-09-29T19:26:57.694321Z",
     "start_time": "2025-09-29T19:26:57.692119Z"
    }
   },
   "outputs": [
    {
     "data": {
      "text/plain": [
       "26173.292357142855"
      ]
     },
     "execution_count": 198,
     "metadata": {},
     "output_type": "execute_result"
    }
   ],
   "source": [
    "l1.intercept_"
   ]
  },
  {
   "cell_type": "code",
   "execution_count": 199,
   "id": "dda1372c-27e8-49eb-bbe3-d6c941d79484",
   "metadata": {
    "ExecuteTime": {
     "end_time": "2025-09-29T19:26:57.714022Z",
     "start_time": "2025-09-29T19:26:57.710160Z"
    }
   },
   "outputs": [
    {
     "data": {
      "text/plain": [
       "array([ 1.11389529e+02,  5.01137425e+02,  1.61754294e+03,  2.12185423e+05,\n",
       "       -2.16845321e+04,  1.87916147e+04, -1.78030798e+05, -7.36845981e+01,\n",
       "       -2.81513535e+01, -2.33346694e+03, -3.40955424e+02, -3.20706384e+02,\n",
       "       -2.22398716e+03,  2.29002311e+01, -8.35601039e+01, -1.75110410e+02,\n",
       "       -2.22410551e+02,  2.71551087e+02,  2.81658132e+02,  3.54533902e+02,\n",
       "       -1.41614564e+01,  2.96084368e+02])"
      ]
     },
     "execution_count": 199,
     "metadata": {},
     "output_type": "execute_result"
    }
   ],
   "source": [
    "l1.coef_"
   ]
  },
  {
   "cell_type": "code",
   "execution_count": 200,
   "id": "6c33f18d-c106-49eb-8441-4344a979a86f",
   "metadata": {
    "ExecuteTime": {
     "end_time": "2025-09-29T19:26:57.746623Z",
     "start_time": "2025-09-29T19:26:57.734177Z"
    }
   },
   "outputs": [
    {
     "name": "stderr",
     "output_type": "stream",
     "text": [
      "/opt/anaconda3/lib/python3.12/site-packages/sklearn/linear_model/_coordinate_descent.py:697: ConvergenceWarning: Objective did not converge. You might want to increase the number of iterations, check the scale of the features or consider increasing regularisation. Duality gap: 2.850e+08, tolerance: 5.824e+07\n",
      "  model = cd_fast.enet_coordinate_descent(\n"
     ]
    },
    {
     "data": {
      "text/plain": [
       "0.9991982192978226"
      ]
     },
     "execution_count": 200,
     "metadata": {},
     "output_type": "execute_result"
    }
   ],
   "source": [
    "l1 = Lasso(alpha = 1)\n",
    "l1.fit(X_train_scaled, y_train)\n",
    "y_pred = l1.predict(X_train_scaled)\n",
    "r2_score(y_train, y_pred)"
   ]
  },
  {
   "cell_type": "code",
   "execution_count": 201,
   "id": "3d955f9a-4f3e-4b53-bc7c-407f70b3bafe",
   "metadata": {
    "ExecuteTime": {
     "end_time": "2025-09-29T19:26:57.768631Z",
     "start_time": "2025-09-29T19:26:57.765560Z"
    }
   },
   "outputs": [
    {
     "data": {
      "text/plain": [
       "26173.292357142855"
      ]
     },
     "execution_count": 201,
     "metadata": {},
     "output_type": "execute_result"
    }
   ],
   "source": [
    "l1.intercept_"
   ]
  },
  {
   "cell_type": "code",
   "execution_count": 202,
   "id": "cdff3baa-7d61-446a-9850-55e2cf981246",
   "metadata": {
    "ExecuteTime": {
     "end_time": "2025-09-29T19:26:57.791884Z",
     "start_time": "2025-09-29T19:26:57.788816Z"
    }
   },
   "outputs": [
    {
     "data": {
      "text/plain": [
       "array([ 1.09173851e+02,  1.49128361e+02,  1.63946257e+03,  2.11437614e+05,\n",
       "       -2.16749386e+04,  1.89364576e+04, -1.77435515e+05, -7.39057893e+01,\n",
       "       -2.76750928e+01, -2.37723448e+03, -3.40191308e+02, -3.22769305e+02,\n",
       "       -2.26381431e+03,  2.40177291e+01, -8.38951166e+01, -1.76679894e+02,\n",
       "       -2.25359108e+02, -1.34987985e+01, -7.55225055e+00,  0.00000000e+00,\n",
       "       -2.47413296e+01,  1.16485525e+02])"
      ]
     },
     "execution_count": 202,
     "metadata": {},
     "output_type": "execute_result"
    }
   ],
   "source": [
    "l1.coef_"
   ]
  },
  {
   "cell_type": "code",
   "execution_count": 203,
   "id": "0fabd34e-6cba-4146-a4da-6d9d746ff8e0",
   "metadata": {
    "ExecuteTime": {
     "end_time": "2025-09-29T19:26:57.827517Z",
     "start_time": "2025-09-29T19:26:57.819361Z"
    }
   },
   "outputs": [
    {
     "name": "stderr",
     "output_type": "stream",
     "text": [
      "/opt/anaconda3/lib/python3.12/site-packages/sklearn/linear_model/_coordinate_descent.py:697: ConvergenceWarning: Objective did not converge. You might want to increase the number of iterations, check the scale of the features or consider increasing regularisation. Duality gap: 7.524e+08, tolerance: 5.824e+07\n",
      "  model = cd_fast.enet_coordinate_descent(\n"
     ]
    },
    {
     "data": {
      "text/plain": [
       "0.9988332052987142"
      ]
     },
     "execution_count": 203,
     "metadata": {},
     "output_type": "execute_result"
    }
   ],
   "source": [
    "l1 = Lasso(alpha = 10)\n",
    "l1.fit(X_train_scaled, y_train)\n",
    "y_pred = l1.predict(X_train_scaled)\n",
    "r2_score(y_train, y_pred)"
   ]
  },
  {
   "cell_type": "code",
   "execution_count": 204,
   "id": "84af1892-7b62-4f77-805c-c96a35da227d",
   "metadata": {
    "ExecuteTime": {
     "end_time": "2025-09-29T19:26:57.847707Z",
     "start_time": "2025-09-29T19:26:57.845032Z"
    }
   },
   "outputs": [
    {
     "data": {
      "text/plain": [
       "26173.292357142855"
      ]
     },
     "execution_count": 204,
     "metadata": {},
     "output_type": "execute_result"
    }
   ],
   "source": [
    "l1.intercept_"
   ]
  },
  {
   "cell_type": "code",
   "execution_count": 205,
   "id": "988cb600-17d5-42db-91a8-88d425042d64",
   "metadata": {
    "ExecuteTime": {
     "end_time": "2025-09-29T19:26:57.873847Z",
     "start_time": "2025-09-29T19:26:57.871355Z"
    }
   },
   "outputs": [
    {
     "data": {
      "text/plain": [
       "array([ 8.67758531e+01,  1.63677054e+02,  1.85911563e+03,  2.03958404e+05,\n",
       "       -2.15791773e+04,  2.03850367e+04, -1.71481711e+05, -7.60151265e+01,\n",
       "       -2.32430927e+01, -2.81582251e+03, -3.33206478e+02, -3.43970767e+02,\n",
       "       -2.66252076e+03,  3.52852634e+01, -8.64976842e+01, -1.91993239e+02,\n",
       "       -2.54752315e+02, -4.38188303e+00, -0.00000000e+00,  0.00000000e+00,\n",
       "       -1.78857755e+01,  1.36480979e+02])"
      ]
     },
     "execution_count": 205,
     "metadata": {},
     "output_type": "execute_result"
    }
   ],
   "source": [
    "l1.coef_"
   ]
  },
  {
   "cell_type": "markdown",
   "id": "9c385c1f-39c2-4977-89b9-c4d5406fd935",
   "metadata": {},
   "source": [
    "#### Interpretación"
   ]
  },
  {
   "cell_type": "markdown",
   "id": "348a5091-91f5-4718-bc52-c07c1b5449e3",
   "metadata": {},
   "source": [
    "En el caso del entrenamiento con Lasso, se observa que al usar un alpha pequeño (0.1), el modelo mantiene casi todos los coeficientes con valores distintos de cero, lo que significa que conserva la mayoría de las variables en la explicación del Profit, aunque con diferentes grados de impacto. Cuando se incrementa alpha a 1, algunos coeficientes empiezan a reducirse bastante, llegando incluso a desaparecer, quedando en cero, lo que indica que el modelo empieza a simplificar y eliminar variables que no aportan mucho. Finalmente, con un alpha más grande (10), el efecto es todavía más claro, varios coeficientes se vuelven exactamente cero, dejando solo a unas cuantas variables con influencia sobre el Profit."
   ]
  },
  {
   "cell_type": "markdown",
   "id": "bca5ffb0-365f-47f1-a47e-33dc2266a7ee",
   "metadata": {},
   "source": [
    "### Lasso Test"
   ]
  },
  {
   "cell_type": "code",
   "execution_count": 206,
   "id": "72bac8fe-f14f-4801-a510-131ba1e494ce",
   "metadata": {
    "ExecuteTime": {
     "end_time": "2025-09-29T19:26:57.968039Z",
     "start_time": "2025-09-29T19:26:57.896854Z"
    }
   },
   "outputs": [
    {
     "name": "stderr",
     "output_type": "stream",
     "text": [
      "/opt/anaconda3/lib/python3.12/site-packages/sklearn/linear_model/_coordinate_descent.py:697: ConvergenceWarning: Objective did not converge. You might want to increase the number of iterations, check the scale of the features or consider increasing regularisation. Duality gap: 1.259e+08, tolerance: 6.938e+07\n",
      "  model = cd_fast.enet_coordinate_descent(\n"
     ]
    },
    {
     "data": {
      "text/html": [
       "<style>#sk-container-id-17 {\n",
       "  /* Definition of color scheme common for light and dark mode */\n",
       "  --sklearn-color-text: black;\n",
       "  --sklearn-color-line: gray;\n",
       "  /* Definition of color scheme for unfitted estimators */\n",
       "  --sklearn-color-unfitted-level-0: #fff5e6;\n",
       "  --sklearn-color-unfitted-level-1: #f6e4d2;\n",
       "  --sklearn-color-unfitted-level-2: #ffe0b3;\n",
       "  --sklearn-color-unfitted-level-3: chocolate;\n",
       "  /* Definition of color scheme for fitted estimators */\n",
       "  --sklearn-color-fitted-level-0: #f0f8ff;\n",
       "  --sklearn-color-fitted-level-1: #d4ebff;\n",
       "  --sklearn-color-fitted-level-2: #b3dbfd;\n",
       "  --sklearn-color-fitted-level-3: cornflowerblue;\n",
       "\n",
       "  /* Specific color for light theme */\n",
       "  --sklearn-color-text-on-default-background: var(--sg-text-color, var(--theme-code-foreground, var(--jp-content-font-color1, black)));\n",
       "  --sklearn-color-background: var(--sg-background-color, var(--theme-background, var(--jp-layout-color0, white)));\n",
       "  --sklearn-color-border-box: var(--sg-text-color, var(--theme-code-foreground, var(--jp-content-font-color1, black)));\n",
       "  --sklearn-color-icon: #696969;\n",
       "\n",
       "  @media (prefers-color-scheme: dark) {\n",
       "    /* Redefinition of color scheme for dark theme */\n",
       "    --sklearn-color-text-on-default-background: var(--sg-text-color, var(--theme-code-foreground, var(--jp-content-font-color1, white)));\n",
       "    --sklearn-color-background: var(--sg-background-color, var(--theme-background, var(--jp-layout-color0, #111)));\n",
       "    --sklearn-color-border-box: var(--sg-text-color, var(--theme-code-foreground, var(--jp-content-font-color1, white)));\n",
       "    --sklearn-color-icon: #878787;\n",
       "  }\n",
       "}\n",
       "\n",
       "#sk-container-id-17 {\n",
       "  color: var(--sklearn-color-text);\n",
       "}\n",
       "\n",
       "#sk-container-id-17 pre {\n",
       "  padding: 0;\n",
       "}\n",
       "\n",
       "#sk-container-id-17 input.sk-hidden--visually {\n",
       "  border: 0;\n",
       "  clip: rect(1px 1px 1px 1px);\n",
       "  clip: rect(1px, 1px, 1px, 1px);\n",
       "  height: 1px;\n",
       "  margin: -1px;\n",
       "  overflow: hidden;\n",
       "  padding: 0;\n",
       "  position: absolute;\n",
       "  width: 1px;\n",
       "}\n",
       "\n",
       "#sk-container-id-17 div.sk-dashed-wrapped {\n",
       "  border: 1px dashed var(--sklearn-color-line);\n",
       "  margin: 0 0.4em 0.5em 0.4em;\n",
       "  box-sizing: border-box;\n",
       "  padding-bottom: 0.4em;\n",
       "  background-color: var(--sklearn-color-background);\n",
       "}\n",
       "\n",
       "#sk-container-id-17 div.sk-container {\n",
       "  /* jupyter's `normalize.less` sets `[hidden] { display: none; }`\n",
       "     but bootstrap.min.css set `[hidden] { display: none !important; }`\n",
       "     so we also need the `!important` here to be able to override the\n",
       "     default hidden behavior on the sphinx rendered scikit-learn.org.\n",
       "     See: https://github.com/scikit-learn/scikit-learn/issues/21755 */\n",
       "  display: inline-block !important;\n",
       "  position: relative;\n",
       "}\n",
       "\n",
       "#sk-container-id-17 div.sk-text-repr-fallback {\n",
       "  display: none;\n",
       "}\n",
       "\n",
       "div.sk-parallel-item,\n",
       "div.sk-serial,\n",
       "div.sk-item {\n",
       "  /* draw centered vertical line to link estimators */\n",
       "  background-image: linear-gradient(var(--sklearn-color-text-on-default-background), var(--sklearn-color-text-on-default-background));\n",
       "  background-size: 2px 100%;\n",
       "  background-repeat: no-repeat;\n",
       "  background-position: center center;\n",
       "}\n",
       "\n",
       "/* Parallel-specific style estimator block */\n",
       "\n",
       "#sk-container-id-17 div.sk-parallel-item::after {\n",
       "  content: \"\";\n",
       "  width: 100%;\n",
       "  border-bottom: 2px solid var(--sklearn-color-text-on-default-background);\n",
       "  flex-grow: 1;\n",
       "}\n",
       "\n",
       "#sk-container-id-17 div.sk-parallel {\n",
       "  display: flex;\n",
       "  align-items: stretch;\n",
       "  justify-content: center;\n",
       "  background-color: var(--sklearn-color-background);\n",
       "  position: relative;\n",
       "}\n",
       "\n",
       "#sk-container-id-17 div.sk-parallel-item {\n",
       "  display: flex;\n",
       "  flex-direction: column;\n",
       "}\n",
       "\n",
       "#sk-container-id-17 div.sk-parallel-item:first-child::after {\n",
       "  align-self: flex-end;\n",
       "  width: 50%;\n",
       "}\n",
       "\n",
       "#sk-container-id-17 div.sk-parallel-item:last-child::after {\n",
       "  align-self: flex-start;\n",
       "  width: 50%;\n",
       "}\n",
       "\n",
       "#sk-container-id-17 div.sk-parallel-item:only-child::after {\n",
       "  width: 0;\n",
       "}\n",
       "\n",
       "/* Serial-specific style estimator block */\n",
       "\n",
       "#sk-container-id-17 div.sk-serial {\n",
       "  display: flex;\n",
       "  flex-direction: column;\n",
       "  align-items: center;\n",
       "  background-color: var(--sklearn-color-background);\n",
       "  padding-right: 1em;\n",
       "  padding-left: 1em;\n",
       "}\n",
       "\n",
       "\n",
       "/* Toggleable style: style used for estimator/Pipeline/ColumnTransformer box that is\n",
       "clickable and can be expanded/collapsed.\n",
       "- Pipeline and ColumnTransformer use this feature and define the default style\n",
       "- Estimators will overwrite some part of the style using the `sk-estimator` class\n",
       "*/\n",
       "\n",
       "/* Pipeline and ColumnTransformer style (default) */\n",
       "\n",
       "#sk-container-id-17 div.sk-toggleable {\n",
       "  /* Default theme specific background. It is overwritten whether we have a\n",
       "  specific estimator or a Pipeline/ColumnTransformer */\n",
       "  background-color: var(--sklearn-color-background);\n",
       "}\n",
       "\n",
       "/* Toggleable label */\n",
       "#sk-container-id-17 label.sk-toggleable__label {\n",
       "  cursor: pointer;\n",
       "  display: block;\n",
       "  width: 100%;\n",
       "  margin-bottom: 0;\n",
       "  padding: 0.5em;\n",
       "  box-sizing: border-box;\n",
       "  text-align: center;\n",
       "}\n",
       "\n",
       "#sk-container-id-17 label.sk-toggleable__label-arrow:before {\n",
       "  /* Arrow on the left of the label */\n",
       "  content: \"▸\";\n",
       "  float: left;\n",
       "  margin-right: 0.25em;\n",
       "  color: var(--sklearn-color-icon);\n",
       "}\n",
       "\n",
       "#sk-container-id-17 label.sk-toggleable__label-arrow:hover:before {\n",
       "  color: var(--sklearn-color-text);\n",
       "}\n",
       "\n",
       "/* Toggleable content - dropdown */\n",
       "\n",
       "#sk-container-id-17 div.sk-toggleable__content {\n",
       "  max-height: 0;\n",
       "  max-width: 0;\n",
       "  overflow: hidden;\n",
       "  text-align: left;\n",
       "  /* unfitted */\n",
       "  background-color: var(--sklearn-color-unfitted-level-0);\n",
       "}\n",
       "\n",
       "#sk-container-id-17 div.sk-toggleable__content.fitted {\n",
       "  /* fitted */\n",
       "  background-color: var(--sklearn-color-fitted-level-0);\n",
       "}\n",
       "\n",
       "#sk-container-id-17 div.sk-toggleable__content pre {\n",
       "  margin: 0.2em;\n",
       "  border-radius: 0.25em;\n",
       "  color: var(--sklearn-color-text);\n",
       "  /* unfitted */\n",
       "  background-color: var(--sklearn-color-unfitted-level-0);\n",
       "}\n",
       "\n",
       "#sk-container-id-17 div.sk-toggleable__content.fitted pre {\n",
       "  /* unfitted */\n",
       "  background-color: var(--sklearn-color-fitted-level-0);\n",
       "}\n",
       "\n",
       "#sk-container-id-17 input.sk-toggleable__control:checked~div.sk-toggleable__content {\n",
       "  /* Expand drop-down */\n",
       "  max-height: 200px;\n",
       "  max-width: 100%;\n",
       "  overflow: auto;\n",
       "}\n",
       "\n",
       "#sk-container-id-17 input.sk-toggleable__control:checked~label.sk-toggleable__label-arrow:before {\n",
       "  content: \"▾\";\n",
       "}\n",
       "\n",
       "/* Pipeline/ColumnTransformer-specific style */\n",
       "\n",
       "#sk-container-id-17 div.sk-label input.sk-toggleable__control:checked~label.sk-toggleable__label {\n",
       "  color: var(--sklearn-color-text);\n",
       "  background-color: var(--sklearn-color-unfitted-level-2);\n",
       "}\n",
       "\n",
       "#sk-container-id-17 div.sk-label.fitted input.sk-toggleable__control:checked~label.sk-toggleable__label {\n",
       "  background-color: var(--sklearn-color-fitted-level-2);\n",
       "}\n",
       "\n",
       "/* Estimator-specific style */\n",
       "\n",
       "/* Colorize estimator box */\n",
       "#sk-container-id-17 div.sk-estimator input.sk-toggleable__control:checked~label.sk-toggleable__label {\n",
       "  /* unfitted */\n",
       "  background-color: var(--sklearn-color-unfitted-level-2);\n",
       "}\n",
       "\n",
       "#sk-container-id-17 div.sk-estimator.fitted input.sk-toggleable__control:checked~label.sk-toggleable__label {\n",
       "  /* fitted */\n",
       "  background-color: var(--sklearn-color-fitted-level-2);\n",
       "}\n",
       "\n",
       "#sk-container-id-17 div.sk-label label.sk-toggleable__label,\n",
       "#sk-container-id-17 div.sk-label label {\n",
       "  /* The background is the default theme color */\n",
       "  color: var(--sklearn-color-text-on-default-background);\n",
       "}\n",
       "\n",
       "/* On hover, darken the color of the background */\n",
       "#sk-container-id-17 div.sk-label:hover label.sk-toggleable__label {\n",
       "  color: var(--sklearn-color-text);\n",
       "  background-color: var(--sklearn-color-unfitted-level-2);\n",
       "}\n",
       "\n",
       "/* Label box, darken color on hover, fitted */\n",
       "#sk-container-id-17 div.sk-label.fitted:hover label.sk-toggleable__label.fitted {\n",
       "  color: var(--sklearn-color-text);\n",
       "  background-color: var(--sklearn-color-fitted-level-2);\n",
       "}\n",
       "\n",
       "/* Estimator label */\n",
       "\n",
       "#sk-container-id-17 div.sk-label label {\n",
       "  font-family: monospace;\n",
       "  font-weight: bold;\n",
       "  display: inline-block;\n",
       "  line-height: 1.2em;\n",
       "}\n",
       "\n",
       "#sk-container-id-17 div.sk-label-container {\n",
       "  text-align: center;\n",
       "}\n",
       "\n",
       "/* Estimator-specific */\n",
       "#sk-container-id-17 div.sk-estimator {\n",
       "  font-family: monospace;\n",
       "  border: 1px dotted var(--sklearn-color-border-box);\n",
       "  border-radius: 0.25em;\n",
       "  box-sizing: border-box;\n",
       "  margin-bottom: 0.5em;\n",
       "  /* unfitted */\n",
       "  background-color: var(--sklearn-color-unfitted-level-0);\n",
       "}\n",
       "\n",
       "#sk-container-id-17 div.sk-estimator.fitted {\n",
       "  /* fitted */\n",
       "  background-color: var(--sklearn-color-fitted-level-0);\n",
       "}\n",
       "\n",
       "/* on hover */\n",
       "#sk-container-id-17 div.sk-estimator:hover {\n",
       "  /* unfitted */\n",
       "  background-color: var(--sklearn-color-unfitted-level-2);\n",
       "}\n",
       "\n",
       "#sk-container-id-17 div.sk-estimator.fitted:hover {\n",
       "  /* fitted */\n",
       "  background-color: var(--sklearn-color-fitted-level-2);\n",
       "}\n",
       "\n",
       "/* Specification for estimator info (e.g. \"i\" and \"?\") */\n",
       "\n",
       "/* Common style for \"i\" and \"?\" */\n",
       "\n",
       ".sk-estimator-doc-link,\n",
       "a:link.sk-estimator-doc-link,\n",
       "a:visited.sk-estimator-doc-link {\n",
       "  float: right;\n",
       "  font-size: smaller;\n",
       "  line-height: 1em;\n",
       "  font-family: monospace;\n",
       "  background-color: var(--sklearn-color-background);\n",
       "  border-radius: 1em;\n",
       "  height: 1em;\n",
       "  width: 1em;\n",
       "  text-decoration: none !important;\n",
       "  margin-left: 1ex;\n",
       "  /* unfitted */\n",
       "  border: var(--sklearn-color-unfitted-level-1) 1pt solid;\n",
       "  color: var(--sklearn-color-unfitted-level-1);\n",
       "}\n",
       "\n",
       ".sk-estimator-doc-link.fitted,\n",
       "a:link.sk-estimator-doc-link.fitted,\n",
       "a:visited.sk-estimator-doc-link.fitted {\n",
       "  /* fitted */\n",
       "  border: var(--sklearn-color-fitted-level-1) 1pt solid;\n",
       "  color: var(--sklearn-color-fitted-level-1);\n",
       "}\n",
       "\n",
       "/* On hover */\n",
       "div.sk-estimator:hover .sk-estimator-doc-link:hover,\n",
       ".sk-estimator-doc-link:hover,\n",
       "div.sk-label-container:hover .sk-estimator-doc-link:hover,\n",
       ".sk-estimator-doc-link:hover {\n",
       "  /* unfitted */\n",
       "  background-color: var(--sklearn-color-unfitted-level-3);\n",
       "  color: var(--sklearn-color-background);\n",
       "  text-decoration: none;\n",
       "}\n",
       "\n",
       "div.sk-estimator.fitted:hover .sk-estimator-doc-link.fitted:hover,\n",
       ".sk-estimator-doc-link.fitted:hover,\n",
       "div.sk-label-container:hover .sk-estimator-doc-link.fitted:hover,\n",
       ".sk-estimator-doc-link.fitted:hover {\n",
       "  /* fitted */\n",
       "  background-color: var(--sklearn-color-fitted-level-3);\n",
       "  color: var(--sklearn-color-background);\n",
       "  text-decoration: none;\n",
       "}\n",
       "\n",
       "/* Span, style for the box shown on hovering the info icon */\n",
       ".sk-estimator-doc-link span {\n",
       "  display: none;\n",
       "  z-index: 9999;\n",
       "  position: relative;\n",
       "  font-weight: normal;\n",
       "  right: .2ex;\n",
       "  padding: .5ex;\n",
       "  margin: .5ex;\n",
       "  width: min-content;\n",
       "  min-width: 20ex;\n",
       "  max-width: 50ex;\n",
       "  color: var(--sklearn-color-text);\n",
       "  box-shadow: 2pt 2pt 4pt #999;\n",
       "  /* unfitted */\n",
       "  background: var(--sklearn-color-unfitted-level-0);\n",
       "  border: .5pt solid var(--sklearn-color-unfitted-level-3);\n",
       "}\n",
       "\n",
       ".sk-estimator-doc-link.fitted span {\n",
       "  /* fitted */\n",
       "  background: var(--sklearn-color-fitted-level-0);\n",
       "  border: var(--sklearn-color-fitted-level-3);\n",
       "}\n",
       "\n",
       ".sk-estimator-doc-link:hover span {\n",
       "  display: block;\n",
       "}\n",
       "\n",
       "/* \"?\"-specific style due to the `<a>` HTML tag */\n",
       "\n",
       "#sk-container-id-17 a.estimator_doc_link {\n",
       "  float: right;\n",
       "  font-size: 1rem;\n",
       "  line-height: 1em;\n",
       "  font-family: monospace;\n",
       "  background-color: var(--sklearn-color-background);\n",
       "  border-radius: 1rem;\n",
       "  height: 1rem;\n",
       "  width: 1rem;\n",
       "  text-decoration: none;\n",
       "  /* unfitted */\n",
       "  color: var(--sklearn-color-unfitted-level-1);\n",
       "  border: var(--sklearn-color-unfitted-level-1) 1pt solid;\n",
       "}\n",
       "\n",
       "#sk-container-id-17 a.estimator_doc_link.fitted {\n",
       "  /* fitted */\n",
       "  border: var(--sklearn-color-fitted-level-1) 1pt solid;\n",
       "  color: var(--sklearn-color-fitted-level-1);\n",
       "}\n",
       "\n",
       "/* On hover */\n",
       "#sk-container-id-17 a.estimator_doc_link:hover {\n",
       "  /* unfitted */\n",
       "  background-color: var(--sklearn-color-unfitted-level-3);\n",
       "  color: var(--sklearn-color-background);\n",
       "  text-decoration: none;\n",
       "}\n",
       "\n",
       "#sk-container-id-17 a.estimator_doc_link.fitted:hover {\n",
       "  /* fitted */\n",
       "  background-color: var(--sklearn-color-fitted-level-3);\n",
       "}\n",
       "</style><div id=\"sk-container-id-17\" class=\"sk-top-container\"><div class=\"sk-text-repr-fallback\"><pre>Lasso(alpha=0.1)</pre><b>In a Jupyter environment, please rerun this cell to show the HTML representation or trust the notebook. <br />On GitHub, the HTML representation is unable to render, please try loading this page with nbviewer.org.</b></div><div class=\"sk-container\" hidden><div class=\"sk-item\"><div class=\"sk-estimator fitted sk-toggleable\"><input class=\"sk-toggleable__control sk-hidden--visually\" id=\"sk-estimator-id-17\" type=\"checkbox\" checked><label for=\"sk-estimator-id-17\" class=\"sk-toggleable__label fitted sk-toggleable__label-arrow fitted\">&nbsp;&nbsp;Lasso<a class=\"sk-estimator-doc-link fitted\" rel=\"noreferrer\" target=\"_blank\" href=\"https://scikit-learn.org/1.5/modules/generated/sklearn.linear_model.Lasso.html\">?<span>Documentation for Lasso</span></a><span class=\"sk-estimator-doc-link fitted\">i<span>Fitted</span></span></label><div class=\"sk-toggleable__content fitted\"><pre>Lasso(alpha=0.1)</pre></div> </div></div></div></div>"
      ],
      "text/plain": [
       "Lasso(alpha=0.1)"
      ]
     },
     "execution_count": 206,
     "metadata": {},
     "output_type": "execute_result"
    }
   ],
   "source": [
    "l1 = Lasso(alpha = 0.1)\n",
    "l1.fit(X_test_scaled, y_test)"
   ]
  },
  {
   "cell_type": "code",
   "execution_count": 207,
   "id": "1fa9f13b-4d45-4c0c-86c2-fd4f9276088e",
   "metadata": {
    "ExecuteTime": {
     "end_time": "2025-09-29T19:26:58.001681Z",
     "start_time": "2025-09-29T19:26:57.989724Z"
    }
   },
   "outputs": [
    {
     "data": {
      "text/plain": [
       "0.9996629060631375"
      ]
     },
     "execution_count": 207,
     "metadata": {},
     "output_type": "execute_result"
    }
   ],
   "source": [
    "y_pred_test = l1.predict(X_test_scaled)\n",
    "r2_score(y_test, y_pred_test)"
   ]
  },
  {
   "cell_type": "code",
   "execution_count": 208,
   "id": "a597bf96-db92-4bd1-a805-a620664b17c9",
   "metadata": {
    "ExecuteTime": {
     "end_time": "2025-09-29T19:26:58.035979Z",
     "start_time": "2025-09-29T19:26:58.032613Z"
    }
   },
   "outputs": [
    {
     "data": {
      "text/plain": [
       "26054.6068123175"
      ]
     },
     "execution_count": 208,
     "metadata": {},
     "output_type": "execute_result"
    }
   ],
   "source": [
    "l1.intercept_"
   ]
  },
  {
   "cell_type": "code",
   "execution_count": 209,
   "id": "585b302e-3d42-4368-a0e7-89162fdd7c8c",
   "metadata": {
    "ExecuteTime": {
     "end_time": "2025-09-29T19:26:58.058213Z",
     "start_time": "2025-09-29T19:26:58.055597Z"
    }
   },
   "outputs": [
    {
     "data": {
      "text/plain": [
       "array([-2.15278441e+00,  1.71171410e+03,  8.04448971e+02,  2.25942808e+05,\n",
       "       -2.13830217e+04,  1.81795808e+04, -1.91229812e+05,  4.07660887e+00,\n",
       "       -5.81189597e+01, -1.39954567e+03, -2.48462683e+02, -2.03942429e+02,\n",
       "       -1.19452365e+03,  4.32286137e+01,  8.88103431e-01,  5.33200461e+01,\n",
       "       -4.94078475e+01,  1.39676035e+03,  1.40290072e+03,  1.75523501e+03,\n",
       "        5.05412884e+01,  8.78176213e+02])"
      ]
     },
     "execution_count": 209,
     "metadata": {},
     "output_type": "execute_result"
    }
   ],
   "source": [
    "l1.coef_"
   ]
  },
  {
   "cell_type": "code",
   "execution_count": 210,
   "id": "02f9a3e3-6806-4c02-acb0-75617e8ed926",
   "metadata": {
    "ExecuteTime": {
     "end_time": "2025-09-29T19:26:58.155055Z",
     "start_time": "2025-09-29T19:26:58.089245Z"
    }
   },
   "outputs": [
    {
     "name": "stderr",
     "output_type": "stream",
     "text": [
      "/opt/anaconda3/lib/python3.12/site-packages/sklearn/linear_model/_coordinate_descent.py:697: ConvergenceWarning: Objective did not converge. You might want to increase the number of iterations, check the scale of the features or consider increasing regularisation. Duality gap: 2.096e+08, tolerance: 6.938e+07\n",
      "  model = cd_fast.enet_coordinate_descent(\n"
     ]
    },
    {
     "data": {
      "text/plain": [
       "0.999638993732422"
      ]
     },
     "execution_count": 210,
     "metadata": {},
     "output_type": "execute_result"
    }
   ],
   "source": [
    "l1 = Lasso(alpha = 1)\n",
    "l1.fit(X_test_scaled, y_test)\n",
    "y_pred_test = l1.predict(X_test_scaled)\n",
    "r2_score(y_test, y_pred_test)"
   ]
  },
  {
   "cell_type": "code",
   "execution_count": 211,
   "id": "073b1b2f-aa73-4091-a682-c2b7e49a43ef",
   "metadata": {
    "ExecuteTime": {
     "end_time": "2025-09-29T19:26:58.167341Z",
     "start_time": "2025-09-29T19:26:58.164110Z"
    }
   },
   "outputs": [
    {
     "data": {
      "text/plain": [
       "26050.541151620302"
      ]
     },
     "execution_count": 211,
     "metadata": {},
     "output_type": "execute_result"
    }
   ],
   "source": [
    "l1.intercept_"
   ]
  },
  {
   "cell_type": "code",
   "execution_count": 212,
   "id": "a62373ec-5f14-4bbd-9ea8-8f11dae896cb",
   "metadata": {
    "ExecuteTime": {
     "end_time": "2025-09-29T19:26:58.191173Z",
     "start_time": "2025-09-29T19:26:58.188569Z"
    }
   },
   "outputs": [
    {
     "data": {
      "text/plain": [
       "array([-3.22888487e+00, -0.00000000e+00,  8.24734388e+02,  2.25250444e+05,\n",
       "       -2.13664720e+04,  1.83320444e+04, -1.90708543e+05,  4.22091955e+00,\n",
       "       -5.93745812e+01, -1.44316434e+03, -2.50079364e+02, -2.06954502e+02,\n",
       "       -1.22956871e+03,  4.34500506e+01,  0.00000000e+00,  5.32495868e+01,\n",
       "       -5.13825873e+01,  1.11650754e+01, -1.78695895e+00,  4.14457015e+01,\n",
       "       -2.33191860e+00, -0.00000000e+00])"
      ]
     },
     "execution_count": 212,
     "metadata": {},
     "output_type": "execute_result"
    }
   ],
   "source": [
    "l1.coef_"
   ]
  },
  {
   "cell_type": "code",
   "execution_count": 213,
   "id": "e099cccb-1054-4790-82a4-90689c6e8756",
   "metadata": {
    "ExecuteTime": {
     "end_time": "2025-09-29T19:26:58.232193Z",
     "start_time": "2025-09-29T19:26:58.213280Z"
    }
   },
   "outputs": [
    {
     "name": "stderr",
     "output_type": "stream",
     "text": [
      "/opt/anaconda3/lib/python3.12/site-packages/sklearn/linear_model/_coordinate_descent.py:697: ConvergenceWarning: Objective did not converge. You might want to increase the number of iterations, check the scale of the features or consider increasing regularisation. Duality gap: 8.732e+08, tolerance: 6.938e+07\n",
      "  model = cd_fast.enet_coordinate_descent(\n"
     ]
    },
    {
     "data": {
      "text/plain": [
       "0.9993530157359914"
      ]
     },
     "execution_count": 213,
     "metadata": {},
     "output_type": "execute_result"
    }
   ],
   "source": [
    "l1 = Lasso(alpha = 10)\n",
    "l1.fit(X_test_scaled, y_test)\n",
    "y_pred_test = l1.predict(X_test_scaled)\n",
    "r2_score(y_test, y_pred_test)"
   ]
  },
  {
   "cell_type": "code",
   "execution_count": 214,
   "id": "1b484253-2549-4298-bda3-116dcff0021d",
   "metadata": {
    "ExecuteTime": {
     "end_time": "2025-09-29T19:26:58.252862Z",
     "start_time": "2025-09-29T19:26:58.250284Z"
    }
   },
   "outputs": [
    {
     "data": {
      "text/plain": [
       "26010.2998060431"
      ]
     },
     "execution_count": 214,
     "metadata": {},
     "output_type": "execute_result"
    }
   ],
   "source": [
    "l1.intercept_"
   ]
  },
  {
   "cell_type": "code",
   "execution_count": 215,
   "id": "d0bb7b71-de33-4165-adb4-da00a3a6ebc7",
   "metadata": {
    "ExecuteTime": {
     "end_time": "2025-09-29T19:26:58.295997Z",
     "start_time": "2025-09-29T19:26:58.293910Z"
    }
   },
   "outputs": [
    {
     "data": {
      "text/plain": [
       "array([-1.26239830e+01, -0.00000000e+00,  1.02808388e+03,  2.18342767e+05,\n",
       "       -2.12002543e+04,  1.98560680e+04, -1.85513617e+05,  5.07772167e+00,\n",
       "       -7.25294121e+01, -1.87766934e+03, -2.64286059e+02, -2.35559457e+02,\n",
       "       -1.57657497e+03,  5.01787669e+01, -0.00000000e+00,  5.73881001e+01,\n",
       "       -6.59276239e+01,  3.80154927e+00, -1.00507683e+00,  4.48183602e+01,\n",
       "       -0.00000000e+00, -0.00000000e+00])"
      ]
     },
     "execution_count": 215,
     "metadata": {},
     "output_type": "execute_result"
    }
   ],
   "source": [
    "l1.coef_"
   ]
  },
  {
   "cell_type": "markdown",
   "id": "942b6ad8-af87-4c54-a69d-dab6c457c044",
   "metadata": {},
   "source": [
    "#### Interpretación"
   ]
  },
  {
   "cell_type": "markdown",
   "id": "304f36ad-adec-47af-ba15-02facd9dd49b",
   "metadata": {},
   "source": [
    "Cuando aplicamos Lasso con diferentes valores de alpha, vemos que el R2 se mantiene prácticamente igual, lo que significa que el modelo sigue explicando muy bien las ganancias. Con valores de alpha pequeños (0.1 o 1), la mayoría de las variables mantienen algún peso en el modelo, aunque algunos coeficientes son muy bajos. Sin embargo, al aumentar alpha a 10, Lasso empieza a reducir más coeficientes a cero, eliminando el efecto de varias variables y dejando solo a las más importantes."
   ]
  },
  {
   "cell_type": "markdown",
   "id": "b7f544e1-c6a8-438b-826b-0c269c6298ef",
   "metadata": {},
   "source": [
    "### ElasticNet"
   ]
  },
  {
   "cell_type": "code",
   "execution_count": 216,
   "id": "4f845956-7406-4789-9c7e-5624b3d16620",
   "metadata": {
    "ExecuteTime": {
     "end_time": "2025-09-29T19:26:58.362795Z",
     "start_time": "2025-09-29T19:26:58.325365Z"
    }
   },
   "outputs": [
    {
     "data": {
      "text/html": [
       "<style>#sk-container-id-18 {\n",
       "  /* Definition of color scheme common for light and dark mode */\n",
       "  --sklearn-color-text: black;\n",
       "  --sklearn-color-line: gray;\n",
       "  /* Definition of color scheme for unfitted estimators */\n",
       "  --sklearn-color-unfitted-level-0: #fff5e6;\n",
       "  --sklearn-color-unfitted-level-1: #f6e4d2;\n",
       "  --sklearn-color-unfitted-level-2: #ffe0b3;\n",
       "  --sklearn-color-unfitted-level-3: chocolate;\n",
       "  /* Definition of color scheme for fitted estimators */\n",
       "  --sklearn-color-fitted-level-0: #f0f8ff;\n",
       "  --sklearn-color-fitted-level-1: #d4ebff;\n",
       "  --sklearn-color-fitted-level-2: #b3dbfd;\n",
       "  --sklearn-color-fitted-level-3: cornflowerblue;\n",
       "\n",
       "  /* Specific color for light theme */\n",
       "  --sklearn-color-text-on-default-background: var(--sg-text-color, var(--theme-code-foreground, var(--jp-content-font-color1, black)));\n",
       "  --sklearn-color-background: var(--sg-background-color, var(--theme-background, var(--jp-layout-color0, white)));\n",
       "  --sklearn-color-border-box: var(--sg-text-color, var(--theme-code-foreground, var(--jp-content-font-color1, black)));\n",
       "  --sklearn-color-icon: #696969;\n",
       "\n",
       "  @media (prefers-color-scheme: dark) {\n",
       "    /* Redefinition of color scheme for dark theme */\n",
       "    --sklearn-color-text-on-default-background: var(--sg-text-color, var(--theme-code-foreground, var(--jp-content-font-color1, white)));\n",
       "    --sklearn-color-background: var(--sg-background-color, var(--theme-background, var(--jp-layout-color0, #111)));\n",
       "    --sklearn-color-border-box: var(--sg-text-color, var(--theme-code-foreground, var(--jp-content-font-color1, white)));\n",
       "    --sklearn-color-icon: #878787;\n",
       "  }\n",
       "}\n",
       "\n",
       "#sk-container-id-18 {\n",
       "  color: var(--sklearn-color-text);\n",
       "}\n",
       "\n",
       "#sk-container-id-18 pre {\n",
       "  padding: 0;\n",
       "}\n",
       "\n",
       "#sk-container-id-18 input.sk-hidden--visually {\n",
       "  border: 0;\n",
       "  clip: rect(1px 1px 1px 1px);\n",
       "  clip: rect(1px, 1px, 1px, 1px);\n",
       "  height: 1px;\n",
       "  margin: -1px;\n",
       "  overflow: hidden;\n",
       "  padding: 0;\n",
       "  position: absolute;\n",
       "  width: 1px;\n",
       "}\n",
       "\n",
       "#sk-container-id-18 div.sk-dashed-wrapped {\n",
       "  border: 1px dashed var(--sklearn-color-line);\n",
       "  margin: 0 0.4em 0.5em 0.4em;\n",
       "  box-sizing: border-box;\n",
       "  padding-bottom: 0.4em;\n",
       "  background-color: var(--sklearn-color-background);\n",
       "}\n",
       "\n",
       "#sk-container-id-18 div.sk-container {\n",
       "  /* jupyter's `normalize.less` sets `[hidden] { display: none; }`\n",
       "     but bootstrap.min.css set `[hidden] { display: none !important; }`\n",
       "     so we also need the `!important` here to be able to override the\n",
       "     default hidden behavior on the sphinx rendered scikit-learn.org.\n",
       "     See: https://github.com/scikit-learn/scikit-learn/issues/21755 */\n",
       "  display: inline-block !important;\n",
       "  position: relative;\n",
       "}\n",
       "\n",
       "#sk-container-id-18 div.sk-text-repr-fallback {\n",
       "  display: none;\n",
       "}\n",
       "\n",
       "div.sk-parallel-item,\n",
       "div.sk-serial,\n",
       "div.sk-item {\n",
       "  /* draw centered vertical line to link estimators */\n",
       "  background-image: linear-gradient(var(--sklearn-color-text-on-default-background), var(--sklearn-color-text-on-default-background));\n",
       "  background-size: 2px 100%;\n",
       "  background-repeat: no-repeat;\n",
       "  background-position: center center;\n",
       "}\n",
       "\n",
       "/* Parallel-specific style estimator block */\n",
       "\n",
       "#sk-container-id-18 div.sk-parallel-item::after {\n",
       "  content: \"\";\n",
       "  width: 100%;\n",
       "  border-bottom: 2px solid var(--sklearn-color-text-on-default-background);\n",
       "  flex-grow: 1;\n",
       "}\n",
       "\n",
       "#sk-container-id-18 div.sk-parallel {\n",
       "  display: flex;\n",
       "  align-items: stretch;\n",
       "  justify-content: center;\n",
       "  background-color: var(--sklearn-color-background);\n",
       "  position: relative;\n",
       "}\n",
       "\n",
       "#sk-container-id-18 div.sk-parallel-item {\n",
       "  display: flex;\n",
       "  flex-direction: column;\n",
       "}\n",
       "\n",
       "#sk-container-id-18 div.sk-parallel-item:first-child::after {\n",
       "  align-self: flex-end;\n",
       "  width: 50%;\n",
       "}\n",
       "\n",
       "#sk-container-id-18 div.sk-parallel-item:last-child::after {\n",
       "  align-self: flex-start;\n",
       "  width: 50%;\n",
       "}\n",
       "\n",
       "#sk-container-id-18 div.sk-parallel-item:only-child::after {\n",
       "  width: 0;\n",
       "}\n",
       "\n",
       "/* Serial-specific style estimator block */\n",
       "\n",
       "#sk-container-id-18 div.sk-serial {\n",
       "  display: flex;\n",
       "  flex-direction: column;\n",
       "  align-items: center;\n",
       "  background-color: var(--sklearn-color-background);\n",
       "  padding-right: 1em;\n",
       "  padding-left: 1em;\n",
       "}\n",
       "\n",
       "\n",
       "/* Toggleable style: style used for estimator/Pipeline/ColumnTransformer box that is\n",
       "clickable and can be expanded/collapsed.\n",
       "- Pipeline and ColumnTransformer use this feature and define the default style\n",
       "- Estimators will overwrite some part of the style using the `sk-estimator` class\n",
       "*/\n",
       "\n",
       "/* Pipeline and ColumnTransformer style (default) */\n",
       "\n",
       "#sk-container-id-18 div.sk-toggleable {\n",
       "  /* Default theme specific background. It is overwritten whether we have a\n",
       "  specific estimator or a Pipeline/ColumnTransformer */\n",
       "  background-color: var(--sklearn-color-background);\n",
       "}\n",
       "\n",
       "/* Toggleable label */\n",
       "#sk-container-id-18 label.sk-toggleable__label {\n",
       "  cursor: pointer;\n",
       "  display: block;\n",
       "  width: 100%;\n",
       "  margin-bottom: 0;\n",
       "  padding: 0.5em;\n",
       "  box-sizing: border-box;\n",
       "  text-align: center;\n",
       "}\n",
       "\n",
       "#sk-container-id-18 label.sk-toggleable__label-arrow:before {\n",
       "  /* Arrow on the left of the label */\n",
       "  content: \"▸\";\n",
       "  float: left;\n",
       "  margin-right: 0.25em;\n",
       "  color: var(--sklearn-color-icon);\n",
       "}\n",
       "\n",
       "#sk-container-id-18 label.sk-toggleable__label-arrow:hover:before {\n",
       "  color: var(--sklearn-color-text);\n",
       "}\n",
       "\n",
       "/* Toggleable content - dropdown */\n",
       "\n",
       "#sk-container-id-18 div.sk-toggleable__content {\n",
       "  max-height: 0;\n",
       "  max-width: 0;\n",
       "  overflow: hidden;\n",
       "  text-align: left;\n",
       "  /* unfitted */\n",
       "  background-color: var(--sklearn-color-unfitted-level-0);\n",
       "}\n",
       "\n",
       "#sk-container-id-18 div.sk-toggleable__content.fitted {\n",
       "  /* fitted */\n",
       "  background-color: var(--sklearn-color-fitted-level-0);\n",
       "}\n",
       "\n",
       "#sk-container-id-18 div.sk-toggleable__content pre {\n",
       "  margin: 0.2em;\n",
       "  border-radius: 0.25em;\n",
       "  color: var(--sklearn-color-text);\n",
       "  /* unfitted */\n",
       "  background-color: var(--sklearn-color-unfitted-level-0);\n",
       "}\n",
       "\n",
       "#sk-container-id-18 div.sk-toggleable__content.fitted pre {\n",
       "  /* unfitted */\n",
       "  background-color: var(--sklearn-color-fitted-level-0);\n",
       "}\n",
       "\n",
       "#sk-container-id-18 input.sk-toggleable__control:checked~div.sk-toggleable__content {\n",
       "  /* Expand drop-down */\n",
       "  max-height: 200px;\n",
       "  max-width: 100%;\n",
       "  overflow: auto;\n",
       "}\n",
       "\n",
       "#sk-container-id-18 input.sk-toggleable__control:checked~label.sk-toggleable__label-arrow:before {\n",
       "  content: \"▾\";\n",
       "}\n",
       "\n",
       "/* Pipeline/ColumnTransformer-specific style */\n",
       "\n",
       "#sk-container-id-18 div.sk-label input.sk-toggleable__control:checked~label.sk-toggleable__label {\n",
       "  color: var(--sklearn-color-text);\n",
       "  background-color: var(--sklearn-color-unfitted-level-2);\n",
       "}\n",
       "\n",
       "#sk-container-id-18 div.sk-label.fitted input.sk-toggleable__control:checked~label.sk-toggleable__label {\n",
       "  background-color: var(--sklearn-color-fitted-level-2);\n",
       "}\n",
       "\n",
       "/* Estimator-specific style */\n",
       "\n",
       "/* Colorize estimator box */\n",
       "#sk-container-id-18 div.sk-estimator input.sk-toggleable__control:checked~label.sk-toggleable__label {\n",
       "  /* unfitted */\n",
       "  background-color: var(--sklearn-color-unfitted-level-2);\n",
       "}\n",
       "\n",
       "#sk-container-id-18 div.sk-estimator.fitted input.sk-toggleable__control:checked~label.sk-toggleable__label {\n",
       "  /* fitted */\n",
       "  background-color: var(--sklearn-color-fitted-level-2);\n",
       "}\n",
       "\n",
       "#sk-container-id-18 div.sk-label label.sk-toggleable__label,\n",
       "#sk-container-id-18 div.sk-label label {\n",
       "  /* The background is the default theme color */\n",
       "  color: var(--sklearn-color-text-on-default-background);\n",
       "}\n",
       "\n",
       "/* On hover, darken the color of the background */\n",
       "#sk-container-id-18 div.sk-label:hover label.sk-toggleable__label {\n",
       "  color: var(--sklearn-color-text);\n",
       "  background-color: var(--sklearn-color-unfitted-level-2);\n",
       "}\n",
       "\n",
       "/* Label box, darken color on hover, fitted */\n",
       "#sk-container-id-18 div.sk-label.fitted:hover label.sk-toggleable__label.fitted {\n",
       "  color: var(--sklearn-color-text);\n",
       "  background-color: var(--sklearn-color-fitted-level-2);\n",
       "}\n",
       "\n",
       "/* Estimator label */\n",
       "\n",
       "#sk-container-id-18 div.sk-label label {\n",
       "  font-family: monospace;\n",
       "  font-weight: bold;\n",
       "  display: inline-block;\n",
       "  line-height: 1.2em;\n",
       "}\n",
       "\n",
       "#sk-container-id-18 div.sk-label-container {\n",
       "  text-align: center;\n",
       "}\n",
       "\n",
       "/* Estimator-specific */\n",
       "#sk-container-id-18 div.sk-estimator {\n",
       "  font-family: monospace;\n",
       "  border: 1px dotted var(--sklearn-color-border-box);\n",
       "  border-radius: 0.25em;\n",
       "  box-sizing: border-box;\n",
       "  margin-bottom: 0.5em;\n",
       "  /* unfitted */\n",
       "  background-color: var(--sklearn-color-unfitted-level-0);\n",
       "}\n",
       "\n",
       "#sk-container-id-18 div.sk-estimator.fitted {\n",
       "  /* fitted */\n",
       "  background-color: var(--sklearn-color-fitted-level-0);\n",
       "}\n",
       "\n",
       "/* on hover */\n",
       "#sk-container-id-18 div.sk-estimator:hover {\n",
       "  /* unfitted */\n",
       "  background-color: var(--sklearn-color-unfitted-level-2);\n",
       "}\n",
       "\n",
       "#sk-container-id-18 div.sk-estimator.fitted:hover {\n",
       "  /* fitted */\n",
       "  background-color: var(--sklearn-color-fitted-level-2);\n",
       "}\n",
       "\n",
       "/* Specification for estimator info (e.g. \"i\" and \"?\") */\n",
       "\n",
       "/* Common style for \"i\" and \"?\" */\n",
       "\n",
       ".sk-estimator-doc-link,\n",
       "a:link.sk-estimator-doc-link,\n",
       "a:visited.sk-estimator-doc-link {\n",
       "  float: right;\n",
       "  font-size: smaller;\n",
       "  line-height: 1em;\n",
       "  font-family: monospace;\n",
       "  background-color: var(--sklearn-color-background);\n",
       "  border-radius: 1em;\n",
       "  height: 1em;\n",
       "  width: 1em;\n",
       "  text-decoration: none !important;\n",
       "  margin-left: 1ex;\n",
       "  /* unfitted */\n",
       "  border: var(--sklearn-color-unfitted-level-1) 1pt solid;\n",
       "  color: var(--sklearn-color-unfitted-level-1);\n",
       "}\n",
       "\n",
       ".sk-estimator-doc-link.fitted,\n",
       "a:link.sk-estimator-doc-link.fitted,\n",
       "a:visited.sk-estimator-doc-link.fitted {\n",
       "  /* fitted */\n",
       "  border: var(--sklearn-color-fitted-level-1) 1pt solid;\n",
       "  color: var(--sklearn-color-fitted-level-1);\n",
       "}\n",
       "\n",
       "/* On hover */\n",
       "div.sk-estimator:hover .sk-estimator-doc-link:hover,\n",
       ".sk-estimator-doc-link:hover,\n",
       "div.sk-label-container:hover .sk-estimator-doc-link:hover,\n",
       ".sk-estimator-doc-link:hover {\n",
       "  /* unfitted */\n",
       "  background-color: var(--sklearn-color-unfitted-level-3);\n",
       "  color: var(--sklearn-color-background);\n",
       "  text-decoration: none;\n",
       "}\n",
       "\n",
       "div.sk-estimator.fitted:hover .sk-estimator-doc-link.fitted:hover,\n",
       ".sk-estimator-doc-link.fitted:hover,\n",
       "div.sk-label-container:hover .sk-estimator-doc-link.fitted:hover,\n",
       ".sk-estimator-doc-link.fitted:hover {\n",
       "  /* fitted */\n",
       "  background-color: var(--sklearn-color-fitted-level-3);\n",
       "  color: var(--sklearn-color-background);\n",
       "  text-decoration: none;\n",
       "}\n",
       "\n",
       "/* Span, style for the box shown on hovering the info icon */\n",
       ".sk-estimator-doc-link span {\n",
       "  display: none;\n",
       "  z-index: 9999;\n",
       "  position: relative;\n",
       "  font-weight: normal;\n",
       "  right: .2ex;\n",
       "  padding: .5ex;\n",
       "  margin: .5ex;\n",
       "  width: min-content;\n",
       "  min-width: 20ex;\n",
       "  max-width: 50ex;\n",
       "  color: var(--sklearn-color-text);\n",
       "  box-shadow: 2pt 2pt 4pt #999;\n",
       "  /* unfitted */\n",
       "  background: var(--sklearn-color-unfitted-level-0);\n",
       "  border: .5pt solid var(--sklearn-color-unfitted-level-3);\n",
       "}\n",
       "\n",
       ".sk-estimator-doc-link.fitted span {\n",
       "  /* fitted */\n",
       "  background: var(--sklearn-color-fitted-level-0);\n",
       "  border: var(--sklearn-color-fitted-level-3);\n",
       "}\n",
       "\n",
       ".sk-estimator-doc-link:hover span {\n",
       "  display: block;\n",
       "}\n",
       "\n",
       "/* \"?\"-specific style due to the `<a>` HTML tag */\n",
       "\n",
       "#sk-container-id-18 a.estimator_doc_link {\n",
       "  float: right;\n",
       "  font-size: 1rem;\n",
       "  line-height: 1em;\n",
       "  font-family: monospace;\n",
       "  background-color: var(--sklearn-color-background);\n",
       "  border-radius: 1rem;\n",
       "  height: 1rem;\n",
       "  width: 1rem;\n",
       "  text-decoration: none;\n",
       "  /* unfitted */\n",
       "  color: var(--sklearn-color-unfitted-level-1);\n",
       "  border: var(--sklearn-color-unfitted-level-1) 1pt solid;\n",
       "}\n",
       "\n",
       "#sk-container-id-18 a.estimator_doc_link.fitted {\n",
       "  /* fitted */\n",
       "  border: var(--sklearn-color-fitted-level-1) 1pt solid;\n",
       "  color: var(--sklearn-color-fitted-level-1);\n",
       "}\n",
       "\n",
       "/* On hover */\n",
       "#sk-container-id-18 a.estimator_doc_link:hover {\n",
       "  /* unfitted */\n",
       "  background-color: var(--sklearn-color-unfitted-level-3);\n",
       "  color: var(--sklearn-color-background);\n",
       "  text-decoration: none;\n",
       "}\n",
       "\n",
       "#sk-container-id-18 a.estimator_doc_link.fitted:hover {\n",
       "  /* fitted */\n",
       "  background-color: var(--sklearn-color-fitted-level-3);\n",
       "}\n",
       "</style><div id=\"sk-container-id-18\" class=\"sk-top-container\"><div class=\"sk-text-repr-fallback\"><pre>ElasticNet(alpha=0.1)</pre><b>In a Jupyter environment, please rerun this cell to show the HTML representation or trust the notebook. <br />On GitHub, the HTML representation is unable to render, please try loading this page with nbviewer.org.</b></div><div class=\"sk-container\" hidden><div class=\"sk-item\"><div class=\"sk-estimator fitted sk-toggleable\"><input class=\"sk-toggleable__control sk-hidden--visually\" id=\"sk-estimator-id-18\" type=\"checkbox\" checked><label for=\"sk-estimator-id-18\" class=\"sk-toggleable__label fitted sk-toggleable__label-arrow fitted\">&nbsp;&nbsp;ElasticNet<a class=\"sk-estimator-doc-link fitted\" rel=\"noreferrer\" target=\"_blank\" href=\"https://scikit-learn.org/1.5/modules/generated/sklearn.linear_model.ElasticNet.html\">?<span>Documentation for ElasticNet</span></a><span class=\"sk-estimator-doc-link fitted\">i<span>Fitted</span></span></label><div class=\"sk-toggleable__content fitted\"><pre>ElasticNet(alpha=0.1)</pre></div> </div></div></div></div>"
      ],
      "text/plain": [
       "ElasticNet(alpha=0.1)"
      ]
     },
     "execution_count": 216,
     "metadata": {},
     "output_type": "execute_result"
    }
   ],
   "source": [
    "le = ElasticNet(alpha=0.1)\n",
    "le.fit(x, y)"
   ]
  },
  {
   "cell_type": "code",
   "execution_count": 217,
   "id": "20505962-d596-4582-8fb1-b87893a801cf",
   "metadata": {
    "ExecuteTime": {
     "end_time": "2025-09-29T19:26:58.430337Z",
     "start_time": "2025-09-29T19:26:58.418663Z"
    }
   },
   "outputs": [],
   "source": [
    "y_pred = le.predict(x)"
   ]
  },
  {
   "cell_type": "code",
   "execution_count": 218,
   "id": "643916af-80df-4f29-89c7-640bf5449945",
   "metadata": {
    "ExecuteTime": {
     "end_time": "2025-09-29T19:26:58.453320Z",
     "start_time": "2025-09-29T19:26:58.446201Z"
    }
   },
   "outputs": [
    {
     "data": {
      "text/plain": [
       "0.99999728324975"
      ]
     },
     "execution_count": 218,
     "metadata": {},
     "output_type": "execute_result"
    }
   ],
   "source": [
    "r2_score(y, y_pred)"
   ]
  },
  {
   "cell_type": "code",
   "execution_count": 219,
   "id": "19855ee0-744d-43da-b1db-37a10b07f2da",
   "metadata": {
    "ExecuteTime": {
     "end_time": "2025-09-29T19:26:58.476197Z",
     "start_time": "2025-09-29T19:26:58.472723Z"
    }
   },
   "outputs": [
    {
     "data": {
      "text/plain": [
       "9607.669719744772"
      ]
     },
     "execution_count": 219,
     "metadata": {},
     "output_type": "execute_result"
    }
   ],
   "source": [
    "le.intercept_"
   ]
  },
  {
   "cell_type": "code",
   "execution_count": 220,
   "id": "a914cfac-f509-4dcc-b83b-f7ccb28a8330",
   "metadata": {
    "ExecuteTime": {
     "end_time": "2025-09-29T19:26:58.498781Z",
     "start_time": "2025-09-29T19:26:58.495798Z"
    }
   },
   "outputs": [
    {
     "data": {
      "text/plain": [
       "array([ 9.09711030e-03,  2.86171685e-02,  3.82310300e-01,  9.20082115e-01,\n",
       "       -9.25050488e-01,  7.54149368e-02, -9.94464883e-01,  2.31668053e-02,\n",
       "       -4.78335542e+00, -1.50596313e+02,  4.92310748e+01,  1.73806777e+01,\n",
       "       -1.02730065e+02,  3.89489604e+00, -7.15291603e-01, -0.00000000e+00,\n",
       "       -9.74308328e+00,  0.00000000e+00, -3.92017250e+00,  3.12428222e+00,\n",
       "       -4.17129774e+00,  2.86767887e-02])"
      ]
     },
     "execution_count": 220,
     "metadata": {},
     "output_type": "execute_result"
    }
   ],
   "source": [
    "le.coef_"
   ]
  },
  {
   "cell_type": "code",
   "execution_count": 221,
   "id": "86efc299-9041-4efa-b2d9-7f8641775691",
   "metadata": {
    "ExecuteTime": {
     "end_time": "2025-09-29T19:26:58.541851Z",
     "start_time": "2025-09-29T19:26:58.516554Z"
    }
   },
   "outputs": [
    {
     "data": {
      "text/plain": [
       "0.999999996468273"
      ]
     },
     "execution_count": 221,
     "metadata": {},
     "output_type": "execute_result"
    }
   ],
   "source": [
    "le = ElasticNet(alpha=1)\n",
    "le.fit(x, y)\n",
    "y_pred = le.predict(x)\n",
    "r2_score(y, y_pred)"
   ]
  },
  {
   "cell_type": "code",
   "execution_count": 222,
   "id": "a33844c6-e632-4089-a9a9-402c161d4c5e",
   "metadata": {
    "ExecuteTime": {
     "end_time": "2025-09-29T19:26:58.551507Z",
     "start_time": "2025-09-29T19:26:58.549094Z"
    }
   },
   "outputs": [
    {
     "data": {
      "text/plain": [
       "-0.9496180851638201"
      ]
     },
     "execution_count": 222,
     "metadata": {},
     "output_type": "execute_result"
    }
   ],
   "source": [
    "le.intercept_"
   ]
  },
  {
   "cell_type": "code",
   "execution_count": 223,
   "id": "08034062-7d0b-422f-beb2-7f03d8dd8401",
   "metadata": {
    "ExecuteTime": {
     "end_time": "2025-09-29T19:26:58.571341Z",
     "start_time": "2025-09-29T19:26:58.568296Z"
    }
   },
   "outputs": [
    {
     "data": {
      "text/plain": [
       "array([ 4.90782910e-04,  4.35744139e-04,  9.76777022e-03,  9.24518599e-01,\n",
       "       -9.24633377e-01,  7.53809545e-02, -9.99880047e-01,  0.00000000e+00,\n",
       "       -0.00000000e+00, -1.16988651e-01,  1.72805832e-01,  0.00000000e+00,\n",
       "       -0.00000000e+00,  0.00000000e+00,  0.00000000e+00,  0.00000000e+00,\n",
       "       -0.00000000e+00, -0.00000000e+00, -0.00000000e+00,  0.00000000e+00,\n",
       "       -0.00000000e+00, -0.00000000e+00])"
      ]
     },
     "execution_count": 223,
     "metadata": {},
     "output_type": "execute_result"
    }
   ],
   "source": [
    "le.coef_"
   ]
  },
  {
   "cell_type": "code",
   "execution_count": 224,
   "id": "4c02c395-6e8d-49b5-a171-ac6351978688",
   "metadata": {
    "ExecuteTime": {
     "end_time": "2025-09-29T19:26:58.607802Z",
     "start_time": "2025-09-29T19:26:58.589884Z"
    }
   },
   "outputs": [
    {
     "data": {
      "text/plain": [
       "0.9999999970683007"
      ]
     },
     "execution_count": 224,
     "metadata": {},
     "output_type": "execute_result"
    }
   ],
   "source": [
    "le = ElasticNet(alpha=10)\n",
    "le.fit(x, y)\n",
    "y_pred = le.predict(x)\n",
    "r2_score(y, y_pred)"
   ]
  },
  {
   "cell_type": "code",
   "execution_count": 225,
   "id": "58aaec65-7609-4f58-8eb1-15668c432c64",
   "metadata": {
    "ExecuteTime": {
     "end_time": "2025-09-29T19:26:58.618977Z",
     "start_time": "2025-09-29T19:26:58.616110Z"
    }
   },
   "outputs": [
    {
     "data": {
      "text/plain": [
       "-0.6467405813091318"
      ]
     },
     "execution_count": 225,
     "metadata": {},
     "output_type": "execute_result"
    }
   ],
   "source": [
    "le.intercept_"
   ]
  },
  {
   "cell_type": "code",
   "execution_count": 226,
   "id": "5b8641a7-6c26-4534-b4c4-ca59aa3f05f2",
   "metadata": {
    "ExecuteTime": {
     "end_time": "2025-09-29T19:26:58.638987Z",
     "start_time": "2025-09-29T19:26:58.635433Z"
    }
   },
   "outputs": [
    {
     "data": {
      "text/plain": [
       "array([ 3.81562412e-04,  1.87234824e-05,  7.92556728e-03,  9.24529870e-01,\n",
       "       -9.24631855e-01,  7.53810139e-02, -9.99893117e-01,  0.00000000e+00,\n",
       "       -0.00000000e+00, -0.00000000e+00,  0.00000000e+00,  0.00000000e+00,\n",
       "       -0.00000000e+00,  0.00000000e+00,  0.00000000e+00,  0.00000000e+00,\n",
       "       -0.00000000e+00, -0.00000000e+00, -0.00000000e+00,  0.00000000e+00,\n",
       "       -0.00000000e+00, -0.00000000e+00])"
      ]
     },
     "execution_count": 226,
     "metadata": {},
     "output_type": "execute_result"
    }
   ],
   "source": [
    "le.coef_"
   ]
  },
  {
   "cell_type": "markdown",
   "id": "4019c814-559a-4f06-b5ac-1a4dd5e8c0c4",
   "metadata": {},
   "source": [
    "#### Interpretación"
   ]
  },
  {
   "cell_type": "markdown",
   "id": "b4b06693-2e0c-4a1f-839a-ab40d6fec7b7",
   "metadata": {},
   "source": [
    "Con ElasticNet, al usar un alpha bajo como 0.1 el modelo mantiene casi todos los coeficientes con valores pequeños pero distintos de cero, lo que indica que la mayoría de las variables todavía tienen algo de peso en la predicción del Profit. Sin embargo, cuando subimos alpha a 1 ya empieza a notarse una mayor reducción en los coeficientes, varios de ellos se acercan mucho a cero, lo que significa que el modelo está siendo más estricto y dejando fuera a factores que considera poco relevantes. Finalmente, con alpha en 10 la penalización es mucho más fuerte y muchos coeficientes desaparecen completamente, se vuelven cero, quedándose solo las variables más importantes para explicar la ganancia, lo que simplifica el modelo aunque también reduce un poco la precisión"
   ]
  },
  {
   "cell_type": "markdown",
   "id": "99a18fdb-cf9e-4ffc-b433-7a32154ee987",
   "metadata": {},
   "source": [
    "### ElasticNet Train"
   ]
  },
  {
   "cell_type": "code",
   "execution_count": 227,
   "id": "8d642c85-496d-4ae8-908b-0125cf2907aa",
   "metadata": {
    "ExecuteTime": {
     "end_time": "2025-09-29T19:26:58.668532Z",
     "start_time": "2025-09-29T19:26:58.661976Z"
    }
   },
   "outputs": [
    {
     "data": {
      "text/plain": [
       "0.949287256903387"
      ]
     },
     "execution_count": 227,
     "metadata": {},
     "output_type": "execute_result"
    }
   ],
   "source": [
    "le = ElasticNet(alpha = 0.1)\n",
    "le.fit(X_train_scaled, y_train)\n",
    "y_pred = le.predict(X_train_scaled)\n",
    "r2_score(y_train, y_pred)"
   ]
  },
  {
   "cell_type": "code",
   "execution_count": 228,
   "id": "852560b9-8a42-443a-84e2-e5baf30d24c5",
   "metadata": {
    "ExecuteTime": {
     "end_time": "2025-09-29T19:26:58.685251Z",
     "start_time": "2025-09-29T19:26:58.683038Z"
    }
   },
   "outputs": [
    {
     "data": {
      "text/plain": [
       "26173.29235714283"
      ]
     },
     "execution_count": 228,
     "metadata": {},
     "output_type": "execute_result"
    }
   ],
   "source": [
    "le.intercept_"
   ]
  },
  {
   "cell_type": "code",
   "execution_count": 229,
   "id": "6bba7b51-15ac-44e4-80b6-ba218d67ac15",
   "metadata": {
    "ExecuteTime": {
     "end_time": "2025-09-29T19:26:58.698983Z",
     "start_time": "2025-09-29T19:26:58.696397Z"
    }
   },
   "outputs": [
    {
     "data": {
      "text/plain": [
       "array([   601.21669581,    729.14722856,  10103.02197228,  18897.73846361,\n",
       "       -19284.93924955,  22150.52113273,   7046.91970037,   -518.43439184,\n",
       "         -295.31422672, -15300.31442334,    202.52663141,  -1148.6652381 ,\n",
       "       -13898.63788789,    231.66246678,   -435.23572305,  -1177.39887054,\n",
       "        -1839.49311445,   -309.55518054,   -220.44664555,   -505.35483193,\n",
       "         -300.56443834,    427.45994047])"
      ]
     },
     "execution_count": 229,
     "metadata": {},
     "output_type": "execute_result"
    }
   ],
   "source": [
    "le.coef_"
   ]
  },
  {
   "cell_type": "code",
   "execution_count": 230,
   "id": "4c2d2054-1062-48d3-a0cc-a0dacd24a30f",
   "metadata": {
    "ExecuteTime": {
     "end_time": "2025-09-29T19:26:58.776718Z",
     "start_time": "2025-09-29T19:26:58.743583Z"
    }
   },
   "outputs": [
    {
     "data": {
      "text/plain": [
       "0.8383589152203555"
      ]
     },
     "execution_count": 230,
     "metadata": {},
     "output_type": "execute_result"
    }
   ],
   "source": [
    "le = ElasticNet(alpha = 1)\n",
    "le.fit(X_train_scaled, y_train)\n",
    "y_pred = le.predict(X_train_scaled)\n",
    "r2_score(y_train, y_pred)"
   ]
  },
  {
   "cell_type": "code",
   "execution_count": 231,
   "id": "496e5f8e-b676-47e3-a4e6-91897d46dc2b",
   "metadata": {
    "ExecuteTime": {
     "end_time": "2025-09-29T19:26:58.827607Z",
     "start_time": "2025-09-29T19:26:58.806991Z"
    }
   },
   "outputs": [
    {
     "data": {
      "text/plain": [
       "26173.292357142825"
      ]
     },
     "execution_count": 231,
     "metadata": {},
     "output_type": "execute_result"
    }
   ],
   "source": [
    "le.intercept_"
   ]
  },
  {
   "cell_type": "code",
   "execution_count": 232,
   "id": "eb98b028-6533-4c8c-9281-b43aca0b8c2b",
   "metadata": {
    "ExecuteTime": {
     "end_time": "2025-09-29T19:26:58.839429Z",
     "start_time": "2025-09-29T19:26:58.836532Z"
    }
   },
   "outputs": [
    {
     "data": {
      "text/plain": [
       "array([ 1796.54361601,   617.61048885,  7511.53405149, 10794.71144486,\n",
       "       -5651.30172019, 12142.38448997,  8283.65739254,  -309.45416493,\n",
       "        -290.54362501, -8700.41394485,  4884.70060098,   273.96618137,\n",
       "       -5931.9392827 ,   406.31133479,   422.14662878,  -600.1270435 ,\n",
       "       -1685.99321015,  -156.64608719,   277.47656067,  -588.89812794,\n",
       "        -263.35855339,  -232.85305285])"
      ]
     },
     "execution_count": 232,
     "metadata": {},
     "output_type": "execute_result"
    }
   ],
   "source": [
    "le.coef_"
   ]
  },
  {
   "cell_type": "code",
   "execution_count": 233,
   "id": "4d30ddcc-8625-4c9a-abff-061875ab6f22",
   "metadata": {
    "ExecuteTime": {
     "end_time": "2025-09-29T19:26:58.858778Z",
     "start_time": "2025-09-29T19:26:58.855134Z"
    }
   },
   "outputs": [
    {
     "data": {
      "text/plain": [
       "0.4898116672871923"
      ]
     },
     "execution_count": 233,
     "metadata": {},
     "output_type": "execute_result"
    }
   ],
   "source": [
    "le = ElasticNet(alpha = 10)\n",
    "le.fit(X_train_scaled, y_train)\n",
    "y_pred = le.predict(X_train_scaled)\n",
    "r2_score(y_train, y_pred)"
   ]
  },
  {
   "cell_type": "code",
   "execution_count": 234,
   "id": "1b2da652-bd5b-4211-b7bc-fa3b1ebd4369",
   "metadata": {
    "ExecuteTime": {
     "end_time": "2025-09-29T19:26:58.878498Z",
     "start_time": "2025-09-29T19:26:58.876264Z"
    }
   },
   "outputs": [
    {
     "data": {
      "text/plain": [
       "26173.292357142855"
      ]
     },
     "execution_count": 234,
     "metadata": {},
     "output_type": "execute_result"
    }
   ],
   "source": [
    "le.intercept_"
   ]
  },
  {
   "cell_type": "code",
   "execution_count": 235,
   "id": "6d4d6c50-a4f9-4c87-a268-30ecd603e8d6",
   "metadata": {
    "ExecuteTime": {
     "end_time": "2025-09-29T19:26:58.896839Z",
     "start_time": "2025-09-29T19:26:58.894717Z"
    }
   },
   "outputs": [
    {
     "data": {
      "text/plain": [
       "array([ 1301.64210331,   179.56207761,  3243.50082586,  4106.55246639,\n",
       "        1214.51972972,  4299.10758932,  3671.43203408,  -203.89769052,\n",
       "           5.15592072, -2186.97347524,  2209.85888537,  -533.80476956,\n",
       "        -299.23037085,   212.77653226,   253.87837228,  -197.20409372,\n",
       "        -485.12868153,  -151.22985813,   319.87775512,  -168.20339464,\n",
       "         -32.18953905,  -291.41768184])"
      ]
     },
     "execution_count": 235,
     "metadata": {},
     "output_type": "execute_result"
    }
   ],
   "source": [
    "le.coef_"
   ]
  },
  {
   "cell_type": "markdown",
   "id": "cac1ab83-cfbd-4d23-bc38-98b8506a0108",
   "metadata": {},
   "source": [
    "#### Interpretación"
   ]
  },
  {
   "cell_type": "markdown",
   "id": "d310b32a-5b64-48a7-89ac-9f4dc889056f",
   "metadata": {},
   "source": [
    "En este caso con Elastic Net aplicado al conjunto de entrenamiento, se observa que cuando el valor de alpha es 0.1, el modelo tiene un ajuste bastante alto con un R2 cercano a 0.95, lo que significa que explica bien la variabilidad del Profit, aunque algunos coeficientes ya empiezan a ser reducidos. Al subir alpha a 1, el ajuste baja notablemente (R2 = 0.83), lo cual indica que la regularización es más fuerte y varios coeficientes pierden peso, reduciendo la complejidad del modelo pero también su capacidad predictiva. Finalmente, con alpha = 10, el R2 cae todavía más (R2 = 0.49), lo que refleja que la penalización es tan intensa que muchos coeficientes se achican demasiado y el modelo deja de capturar gran parte de la relación con la variable objetivo"
   ]
  },
  {
   "cell_type": "markdown",
   "id": "5bd815bc-a93b-46ec-9390-a521fdae5b29",
   "metadata": {},
   "source": [
    "### ElasticNet Test"
   ]
  },
  {
   "cell_type": "code",
   "execution_count": 236,
   "id": "c2e69a91-95f4-4f45-8b4f-6a29986e77d4",
   "metadata": {
    "ExecuteTime": {
     "end_time": "2025-09-29T19:26:58.938566Z",
     "start_time": "2025-09-29T19:26:58.917192Z"
    }
   },
   "outputs": [
    {
     "name": "stderr",
     "output_type": "stream",
     "text": [
      "/opt/anaconda3/lib/python3.12/site-packages/sklearn/linear_model/_coordinate_descent.py:697: ConvergenceWarning: Objective did not converge. You might want to increase the number of iterations, check the scale of the features or consider increasing regularisation. Duality gap: 1.259e+08, tolerance: 6.938e+07\n",
      "  model = cd_fast.enet_coordinate_descent(\n"
     ]
    },
    {
     "data": {
      "text/plain": [
       "0.9996629060631375"
      ]
     },
     "execution_count": 236,
     "metadata": {},
     "output_type": "execute_result"
    }
   ],
   "source": [
    "le = Lasso(alpha = 0.1)\n",
    "le.fit(X_test_scaled, y_test)\n",
    "y_pred_test = le.predict(X_test_scaled)\n",
    "r2_score(y_test, y_pred_test)"
   ]
  },
  {
   "cell_type": "code",
   "execution_count": 237,
   "id": "0157500d-37ef-469d-9e34-2ff464192bb1",
   "metadata": {
    "ExecuteTime": {
     "end_time": "2025-09-29T19:26:58.950310Z",
     "start_time": "2025-09-29T19:26:58.947878Z"
    }
   },
   "outputs": [
    {
     "data": {
      "text/plain": [
       "26054.6068123175"
      ]
     },
     "execution_count": 237,
     "metadata": {},
     "output_type": "execute_result"
    }
   ],
   "source": [
    "le.intercept_"
   ]
  },
  {
   "cell_type": "code",
   "execution_count": 238,
   "id": "5d3079f3-1811-4a56-8ad5-e9e3ac1eea42",
   "metadata": {
    "ExecuteTime": {
     "end_time": "2025-09-29T19:26:59.026791Z",
     "start_time": "2025-09-29T19:26:58.991131Z"
    }
   },
   "outputs": [
    {
     "data": {
      "text/plain": [
       "array([-2.15278441e+00,  1.71171410e+03,  8.04448971e+02,  2.25942808e+05,\n",
       "       -2.13830217e+04,  1.81795808e+04, -1.91229812e+05,  4.07660887e+00,\n",
       "       -5.81189597e+01, -1.39954567e+03, -2.48462683e+02, -2.03942429e+02,\n",
       "       -1.19452365e+03,  4.32286137e+01,  8.88103431e-01,  5.33200461e+01,\n",
       "       -4.94078475e+01,  1.39676035e+03,  1.40290072e+03,  1.75523501e+03,\n",
       "        5.05412884e+01,  8.78176213e+02])"
      ]
     },
     "execution_count": 238,
     "metadata": {},
     "output_type": "execute_result"
    }
   ],
   "source": [
    "le.coef_"
   ]
  },
  {
   "cell_type": "code",
   "execution_count": 239,
   "id": "5f36d102-de16-4cff-ab75-ae3a8dd4257c",
   "metadata": {
    "ExecuteTime": {
     "end_time": "2025-09-29T19:26:59.094122Z",
     "start_time": "2025-09-29T19:26:59.076656Z"
    }
   },
   "outputs": [
    {
     "name": "stderr",
     "output_type": "stream",
     "text": [
      "/opt/anaconda3/lib/python3.12/site-packages/sklearn/linear_model/_coordinate_descent.py:697: ConvergenceWarning: Objective did not converge. You might want to increase the number of iterations, check the scale of the features or consider increasing regularisation. Duality gap: 2.096e+08, tolerance: 6.938e+07\n",
      "  model = cd_fast.enet_coordinate_descent(\n"
     ]
    },
    {
     "data": {
      "text/plain": [
       "0.999638993732422"
      ]
     },
     "execution_count": 239,
     "metadata": {},
     "output_type": "execute_result"
    }
   ],
   "source": [
    "le = Lasso(alpha = 1)\n",
    "le.fit(X_test_scaled, y_test)\n",
    "y_pred_test = le.predict(X_test_scaled)\n",
    "r2_score(y_test, y_pred_test)"
   ]
  },
  {
   "cell_type": "code",
   "execution_count": 240,
   "id": "6dc5a1bb-89a2-408e-acf4-133f7a42f979",
   "metadata": {
    "ExecuteTime": {
     "end_time": "2025-09-29T19:26:59.113754Z",
     "start_time": "2025-09-29T19:26:59.110871Z"
    }
   },
   "outputs": [
    {
     "data": {
      "text/plain": [
       "26050.541151620302"
      ]
     },
     "execution_count": 240,
     "metadata": {},
     "output_type": "execute_result"
    }
   ],
   "source": [
    "le.intercept_"
   ]
  },
  {
   "cell_type": "code",
   "execution_count": 241,
   "id": "2ff961ee-153a-4e70-87d0-c6cce489e52f",
   "metadata": {
    "ExecuteTime": {
     "end_time": "2025-09-29T19:26:59.137665Z",
     "start_time": "2025-09-29T19:26:59.134797Z"
    }
   },
   "outputs": [
    {
     "data": {
      "text/plain": [
       "array([-3.22888487e+00, -0.00000000e+00,  8.24734388e+02,  2.25250444e+05,\n",
       "       -2.13664720e+04,  1.83320444e+04, -1.90708543e+05,  4.22091955e+00,\n",
       "       -5.93745812e+01, -1.44316434e+03, -2.50079364e+02, -2.06954502e+02,\n",
       "       -1.22956871e+03,  4.34500506e+01,  0.00000000e+00,  5.32495868e+01,\n",
       "       -5.13825873e+01,  1.11650754e+01, -1.78695895e+00,  4.14457015e+01,\n",
       "       -2.33191860e+00, -0.00000000e+00])"
      ]
     },
     "execution_count": 241,
     "metadata": {},
     "output_type": "execute_result"
    }
   ],
   "source": [
    "le.coef_"
   ]
  },
  {
   "cell_type": "code",
   "execution_count": 242,
   "id": "c3f53b78-fafe-4c08-92f6-7f7fb8688d5c",
   "metadata": {
    "ExecuteTime": {
     "end_time": "2025-09-29T19:26:59.184296Z",
     "start_time": "2025-09-29T19:26:59.157667Z"
    }
   },
   "outputs": [
    {
     "name": "stderr",
     "output_type": "stream",
     "text": [
      "/opt/anaconda3/lib/python3.12/site-packages/sklearn/linear_model/_coordinate_descent.py:697: ConvergenceWarning: Objective did not converge. You might want to increase the number of iterations, check the scale of the features or consider increasing regularisation. Duality gap: 8.732e+08, tolerance: 6.938e+07\n",
      "  model = cd_fast.enet_coordinate_descent(\n"
     ]
    },
    {
     "data": {
      "text/plain": [
       "0.9993530157359914"
      ]
     },
     "execution_count": 242,
     "metadata": {},
     "output_type": "execute_result"
    }
   ],
   "source": [
    "le = Lasso(alpha = 10)\n",
    "le.fit(X_test_scaled, y_test)\n",
    "y_pred_test = le.predict(X_test_scaled)\n",
    "r2_score(y_test, y_pred_test)"
   ]
  },
  {
   "cell_type": "code",
   "execution_count": 243,
   "id": "e82f367b-c36f-4a4e-93b6-355d20e4ea4d",
   "metadata": {
    "ExecuteTime": {
     "end_time": "2025-09-29T19:26:59.245114Z",
     "start_time": "2025-09-29T19:26:59.207180Z"
    }
   },
   "outputs": [
    {
     "data": {
      "text/plain": [
       "26010.2998060431"
      ]
     },
     "execution_count": 243,
     "metadata": {},
     "output_type": "execute_result"
    }
   ],
   "source": [
    "le.intercept_"
   ]
  },
  {
   "cell_type": "code",
   "execution_count": 244,
   "id": "a1c41e66-4ce1-4011-9fa4-d53b97093004",
   "metadata": {
    "ExecuteTime": {
     "end_time": "2025-09-29T19:26:59.315614Z",
     "start_time": "2025-09-29T19:26:59.295605Z"
    }
   },
   "outputs": [
    {
     "data": {
      "text/plain": [
       "array([-1.26239830e+01, -0.00000000e+00,  1.02808388e+03,  2.18342767e+05,\n",
       "       -2.12002543e+04,  1.98560680e+04, -1.85513617e+05,  5.07772167e+00,\n",
       "       -7.25294121e+01, -1.87766934e+03, -2.64286059e+02, -2.35559457e+02,\n",
       "       -1.57657497e+03,  5.01787669e+01, -0.00000000e+00,  5.73881001e+01,\n",
       "       -6.59276239e+01,  3.80154927e+00, -1.00507683e+00,  4.48183602e+01,\n",
       "       -0.00000000e+00, -0.00000000e+00])"
      ]
     },
     "execution_count": 244,
     "metadata": {},
     "output_type": "execute_result"
    }
   ],
   "source": [
    "le.coef_"
   ]
  },
  {
   "cell_type": "markdown",
   "id": "3a4a3506-c09e-45c6-9658-2d21e40bd0ad",
   "metadata": {},
   "source": [
    "#### Interpretación"
   ]
  },
  {
   "cell_type": "markdown",
   "id": "2edb59fe-7661-4615-8510-5e7141ab1bd7",
   "metadata": {},
   "source": [
    "En este caso, los resultados de ElasticNet Test muestran cómo cambia el modelo al variar el valor de alpha. Con alpha = 0.1, el modelo logra un R2 casi perfecto (0.99966), con coeficientes con valores significativos que reflejan la influencia de varias variables. Cuando subimos a alpha = 1, el R2 se mantiene muy alto (0.99963), pero algunos coeficientes se reducen o incluso se llevan a cero, lo que indica que el modelo empieza a aplicar regularización fuerte, eliminando el efecto de variables menos importantes. Finalmente, con alpha = 10, el R2 sigue siendo altísimo (0.99953), pero se ve todavía más reducción en los coeficientes, varios ya son cero, lo que significa que ElasticNet está seleccionando solo las variables más relevantes y descartando otras."
   ]
  },
  {
   "cell_type": "markdown",
   "id": "7c08fdcdd85db400",
   "metadata": {},
   "source": [
    "---\n",
    "\n",
    "### 2. Regresión Polinomial (grado 2)"
   ]
  },
  {
   "cell_type": "markdown",
   "id": "97579eac-d2f5-4791-b4e7-6230d00be4dc",
   "metadata": {},
   "source": [
    "## Creación del modelo (Seleccionar \"x\" y \"y\", Cross-Validation (Train-Test Split))"
   ]
  },
  {
   "cell_type": "code",
   "execution_count": 245,
   "id": "c8c22142-28fe-4806-af82-472f01fd0ba7",
   "metadata": {
    "ExecuteTime": {
     "end_time": "2025-09-29T19:26:59.338959Z",
     "start_time": "2025-09-29T19:26:59.334002Z"
    }
   },
   "outputs": [],
   "source": [
    "# Preparando datos para el modelo\n",
    "data2 = data.copy()\n",
    "\n",
    "y = data2['Profit']\n",
    "x = data2.drop(columns=['Profit'])\n",
    "\n",
    "x_train, x_test, y_train, y_test = train_test_split(x, y, train_size = 0.4, random_state = 137)"
   ]
  },
  {
   "cell_type": "markdown",
   "id": "b4fbb2da",
   "metadata": {},
   "source": [
    "#### Escalamiento"
   ]
  },
  {
   "cell_type": "code",
   "execution_count": 246,
   "id": "c3de00af-4522-463c-b431-ba56d03204b3",
   "metadata": {
    "ExecuteTime": {
     "end_time": "2025-09-29T19:26:59.352167Z",
     "start_time": "2025-09-29T19:26:59.346740Z"
    }
   },
   "outputs": [],
   "source": [
    "scaler = StandardScaler().fit(x_train)\n",
    "x_train_scaled = scaler.transform(x_train)"
   ]
  },
  {
   "cell_type": "markdown",
   "id": "ef03e5a7",
   "metadata": {},
   "source": [
    "#### Regresión Polinomial utilizando los datos de entrenamiento"
   ]
  },
  {
   "cell_type": "markdown",
   "id": "869161c5-3c04-427c-8f0e-4a6fba89ec12",
   "metadata": {},
   "source": [
    "## Selección del Modelo (Regresión Polinomial)"
   ]
  },
  {
   "cell_type": "code",
   "execution_count": 247,
   "id": "da9af3ed",
   "metadata": {
    "ExecuteTime": {
     "end_time": "2025-09-29T19:26:59.405921Z",
     "start_time": "2025-09-29T19:26:59.365682Z"
    }
   },
   "outputs": [
    {
     "name": "stdout",
     "output_type": "stream",
     "text": [
      "B0=63225.870844432444 --- coefs=[ 2.53015002e+04  8.81303112e+02  1.17370408e+04  1.20103686e+04\n",
      " -2.01363565e+04  3.07161082e+04  1.19463330e+03 -5.33570255e-06\n",
      " -4.28504880e+02 -3.98322786e+03  7.65275503e+03 -1.22158156e+03\n",
      "  2.66253915e+03 -3.98212157e+02  8.96472468e+01  5.28298733e+02\n",
      " -6.31639456e+02 -2.03599034e+03  4.62738383e+02 -1.16845258e+03\n",
      " -1.30846970e+03 -1.19441023e+03 -2.18733476e-10 -4.07996012e+02\n",
      "  2.42939362e+04 -1.49092276e+04  1.31941255e+03  1.38686704e+04\n",
      "  2.58023647e-09  2.22826202e-11 -1.12549969e-11 -1.28576361e+02\n",
      " -2.33926189e+03 -2.36252790e+03  9.49910538e+03 -5.18411980e-11\n",
      " -2.27373675e-12 -7.63975549e-11 -2.59205990e-11 -3.30284523e+02\n",
      " -3.35067347e+02 -4.08843298e+02 -1.29972234e+01 -2.09618803e+02\n",
      " -4.81377966e+02 -1.91178850e+02 -1.40747174e+03  3.82124421e+02\n",
      "  1.24756057e+03  5.57402122e+01 -8.07419783e+01 -8.72067898e+01\n",
      " -5.56106212e+01  4.11886391e+01  2.24023101e+02  1.92229176e+02\n",
      "  1.53365895e+02 -2.46077883e+01 -1.98075780e+02  3.27116730e+02\n",
      "  9.30133980e+02  5.79618027e+02 -9.61777944e+02 -6.27986121e+02\n",
      " -1.45441349e+02 -1.39698386e-09 -6.68548742e+03 -2.90349858e+03\n",
      " -3.05193891e+04 -9.27218130e+02  2.63753464e-11 -1.31876732e-11\n",
      " -2.68074441e+03  1.90421008e+03 -3.13775302e+03 -6.46507057e+02\n",
      " -5.95719030e-11  2.46700438e-11  3.41060513e-11  1.50066626e-11\n",
      " -1.54764786e+02 -1.57005922e+02 -1.91575871e+02 -6.09024143e+00\n",
      " -9.82232191e+01  2.06271348e+04  5.49180244e+03  1.54851539e+03\n",
      "  1.00002972e+04  1.94639010e+04 -8.37436270e+03 -5.58516146e+03\n",
      "  3.70153423e+03 -3.19684124e+03  1.73251984e+02  6.75970755e+03\n",
      "  7.50736812e+03  7.16975165e+03 -2.86071734e+04  5.94304700e+03\n",
      "  6.22419409e+03 -1.23976109e+04  6.30115323e+03  7.52324003e+03\n",
      " -6.47548216e+02 -8.64160178e+03 -8.84990018e+02 -1.72248461e+03\n",
      "  7.41100711e+02 -1.77013344e+03  1.39636100e+03  2.05420696e+03\n",
      " -1.24847057e+03 -5.98209589e+02 -6.64374837e+02 -6.34497004e+02\n",
      "  2.53163103e+03 -3.17429153e+02 -3.39290250e+02  1.35524675e+03\n",
      " -5.49424036e+02 -5.33446889e+02 -1.92887982e+04 -9.30234819e+03\n",
      " -1.81054603e+04  7.78989222e+03 -1.86063089e+04  1.46774946e+04\n",
      "  2.15922757e+04 -1.31229818e+04 -6.28792843e+03 -6.98340765e+03\n",
      " -6.66935439e+03  2.66105978e+04 -5.57819645e+03 -5.84044454e+03\n",
      "  1.14705387e+04 -5.86334279e+03 -7.02986142e+03 -1.76715730e-07\n",
      "  1.23691279e-10  3.51519702e-10 -5.19342804e+03 -1.38620391e+02\n",
      " -2.31436610e+03  2.34946772e+03  4.27462510e-10  2.81943358e-10\n",
      "  1.04205355e-09  7.77617970e-10  4.51233072e+01  4.57767342e+01\n",
      "  5.58559679e+01  1.77567419e+00  2.86380166e+01 -9.09494702e-13\n",
      " -3.91082722e-11 -4.45652404e-11 -7.95807864e-12  1.61435310e-11\n",
      " -1.22781785e-11 -5.68434189e-11  9.09494702e-13 -1.00044417e-11\n",
      " -2.63753464e-11 -6.53629570e+01 -6.63094727e+01 -8.09096552e+01\n",
      " -2.57213672e+00 -4.14833389e+01 -3.19341432e+02 -2.50111043e-11\n",
      "  1.81898940e-11 -6.25277607e-12 -1.00044417e-11 -2.27373675e-12\n",
      "  1.18234311e-11 -3.63797881e-12 -4.18367563e-11 -7.05964081e+01\n",
      " -7.16187090e+01 -8.73878922e+01 -2.77808138e+00 -4.48048077e+01\n",
      " -8.08863770e+03  5.29502479e+02  1.15373993e+03  1.09068356e+03\n",
      " -2.29647412e-11 -5.08180165e-11 -5.50244295e-11 -7.63975549e-11\n",
      " -4.50183996e+01 -4.56703074e+01 -5.57261078e+01 -1.77154591e+00\n",
      " -2.85714357e+01  2.32285944e+03 -3.56472539e+03 -4.83737339e+03\n",
      "  5.13864507e-11 -1.72803993e-11  1.81898940e-11  2.77395884e-11\n",
      "  3.33433897e+01  3.38262326e+01  4.12741756e+01  1.31211562e+00\n",
      "  2.11617589e+01  1.90122940e+03 -1.03202887e+03 -8.64019967e-12\n",
      " -2.63753464e-11 -1.77351467e-11 -3.11501935e-11  1.81353153e+02\n",
      "  1.83979313e+02  2.24488330e+02  7.13653614e+00  1.15097827e+02\n",
      "  3.04447651e+03  1.72946102e-11 -4.00177669e-11 -6.91215973e-11\n",
      " -1.13686838e-13  1.55615054e+02  1.57868503e+02  1.92628378e+02\n",
      "  6.12370086e+00  9.87628518e+01 -3.44605107e+02 -3.19143294e+02\n",
      " -6.76837546e+02 -9.57346664e+02  1.24154110e+02  1.25951975e+02\n",
      "  1.53684390e+02  4.88566245e+00  7.87958078e+01 -6.12723766e+02\n",
      " -1.14744950e+02 -1.27576421e+03 -1.99207134e+01 -2.02091836e+01\n",
      " -2.46588913e+01 -7.83911881e-01 -1.26429057e+01 -1.06846046e+03\n",
      " -1.23102363e+03 -1.60348049e+02 -1.62670036e+02 -1.98487124e+02\n",
      " -6.30995175e+00 -1.01766700e+02 -7.78037359e+02  2.64810415e+02\n",
      "  2.68645113e+02  3.27796054e+02  1.04207127e+01  1.68064921e+02\n",
      "  1.78483384e+03 -3.53279512e+02 -3.02552329e+02  4.94544920e+02\n",
      "  8.30444821e+02  2.69137556e+02 -4.70965921e+02  7.23127922e+02\n",
      " -1.73426994e+02  7.71927846e+02  5.77316375e+02 -4.49214186e+02\n",
      "  1.41038385e+03  2.49050941e+01  9.05571371e+02]\n",
      "Grado 2 : r2=1.0\n"
     ]
    }
   ],
   "source": [
    "# Librerias\n",
    "from sklearn.linear_model import LinearRegression\n",
    "from sklearn.preprocessing import PolynomialFeatures\n",
    "from sklearn.metrics import r2_score\n",
    "\n",
    "# 1. SIN PENALIZACIÓN\n",
    "poly2 = PolynomialFeatures(2, include_bias=False)\n",
    "X2 = poly2.fit_transform(x_train_scaled)\n",
    "lr2 = LinearRegression().fit(X2, y_train)\n",
    "y2 = lr2.predict(X2)\n",
    "r2_2 = r2_score(y_train, y2)\n",
    "print(f\"B0={lr2.intercept_} --- coefs={lr2.coef_}\")\n",
    "print(f\"Grado 2 : r2={r2_2}\") \n"
   ]
  },
  {
   "cell_type": "markdown",
   "id": "df8870f3",
   "metadata": {},
   "source": [
    "**Interpretación Regresión sin penalización con datos de entrenamiento**\n",
    "\n",
    "Es raro y poco común que el en entrenamiento el R^2 sea exactamente 1 (ajuste perfecto), Esto suele indicar sobreajuste o que el modelo está memorizando los datos de entrenamiento en vez de aprender patrones generales. Calcularemos ahora el R^2 del Test para poder comparar"
   ]
  },
  {
   "cell_type": "code",
   "execution_count": 248,
   "id": "149e5bb8",
   "metadata": {
    "ExecuteTime": {
     "end_time": "2025-09-29T19:26:59.418380Z",
     "start_time": "2025-09-29T19:26:59.413035Z"
    }
   },
   "outputs": [
    {
     "name": "stdout",
     "output_type": "stream",
     "text": [
      "R^2 en prueba: 0.9999999999999998\n"
     ]
    }
   ],
   "source": [
    "x_test_scaled = scaler.transform(x_test)\n",
    "X2_test = poly2.transform(x_test_scaled)\n",
    "y2_test = lr2.predict(X2_test)\n",
    "r2_2_test = r2_score(y_test, y2_test)\n",
    "print(f\"R^2 en prueba: {r2_2_test}\")"
   ]
  },
  {
   "cell_type": "markdown",
   "id": "063f546b",
   "metadata": {},
   "source": [
    "Un R^2 asi de alto en el conjunto de prueba significa que el modelo polinomial está explicando casi toda la variabilidad del Profit en esos datos.\n",
    "Esto suele indicar sobreajuste: el modelo es tan complejo (muchos términos polinomiales) que se ajusta casi perfectamente tanto al entrenamiento como a la prueba.\n",
    "\n",
    "- En la práctica, un R^2 tan alto es sospechoso.\n",
    "- Puede indicar que el modelo no generalizará bien a nuevos datos.\n",
    "\n",
    "Por eso, ahora usaremos Regularizaciones...\n"
   ]
  },
  {
   "cell_type": "markdown",
   "id": "45acaa62",
   "metadata": {},
   "source": [
    "### Análisis de significancia de factores para modelo polinomial (grado 2) sin penalización\n",
    "\n",
    "Al aplicar regresión polinomial grado 2 sin penalización, el modelo incluye todas las variables originales, sus cuadrados y todas las interacciones posibles entre ellas. \n",
    "\n",
    "Por ello aparecen tantos factores:\n",
    "El modelo polinomial de grado 2 genera:\n",
    "- Todas las variables originales (Units Sold, Sale Price, Discounts, COGS, Segmentos, Países, Productos, etc.)\n",
    "- Todos los términos al cuadrado \n",
    "- Todas las combinaciones posibles entre dos variables\n",
    "\n",
    "\n",
    "En cuanto al desempeño, el modelo tiene un R^2 de **1.0 en train** y **casi 1.0 en test**, lo que indica un ajuste prácticamente perfecto. Aunque esto puede parecer ideal, en realidad es un claro indicio de sobreajuste, sobre todo porque no se aplicó ningún tipo de regularización.\n",
    "\n",
    "Respecto a los factores más influyentes según los coeficientes, los que más destacan son:\n",
    "\n",
    "- `Sales` (+36,025), `Manufacturing Price` (+28,243) y `Discounts` (−19,631) en sus términos lineales.\n",
    "- `Sale Price²`, `Sales²`, `Gross Sales²` y `COGS²` aparecen con coeficientes elevados también, mostrando que hay relaciones cuadráticas importantes.\n",
    "- Algunas interacciones muy significativas incluyen `Sale Price × Gross Sales` (−30,188), `Sales × COGS` (+19,329), y `Discounts × Sales` (−8,011), entre otras.\n",
    "\n",
    "En general, el modelo parece haber capturado demasiada complejidad, lo cual explica su desempeño perfecto pero poco realista. Sería recomendable probar con una versión regularizada (como Ridge o Lasso) para reducir el riesgo de overfitting y ver si se pueden mantener buenos resultados con un modelo más generalizable.\n"
   ]
  },
  {
   "cell_type": "markdown",
   "id": "f21bbe84",
   "metadata": {},
   "source": [
    "#### Regresión Polinomial con Regularización L2 Ridge"
   ]
  },
  {
   "cell_type": "code",
   "execution_count": 249,
   "id": "2d988de4",
   "metadata": {
    "ExecuteTime": {
     "end_time": "2025-09-29T19:26:59.458322Z",
     "start_time": "2025-09-29T19:26:59.433194Z"
    }
   },
   "outputs": [
    {
     "name": "stdout",
     "output_type": "stream",
     "text": [
      "Ridge Polinomial grado 2 - R2 train: 0.9999389836837981\n",
      "Ridge Polinomial grado 2 - R2 test: 0.9994283562079859\n",
      "Coeficientes Ridge Polinomial grado 2:\n",
      "[ 1.19492048e+04 -5.55685005e+00  7.01678860e+03  1.49430374e+04\n",
      " -1.53976613e+04  1.75290786e+04  9.07624924e+03  6.25696684e+01\n",
      "  5.72799549e+01 -3.88754351e+03  8.88522883e+03 -1.94374858e+03\n",
      "  3.13179238e+02  7.30235425e+00 -5.99301674e-01  1.32045921e+01\n",
      "  3.60906371e+00  5.11655308e+00 -3.56941514e+00 -2.82748156e+00\n",
      "  3.57509982e+00  1.37524846e+01 -1.78946784e+02 -9.30010749e+01\n",
      "  9.90988773e+03  4.74820594e+03 -7.49247724e+02  5.17574138e+03\n",
      " -5.72523169e+03 -1.90142588e+02 -5.86378590e+01 -2.92380985e+03\n",
      " -2.32926031e+03 -8.40397672e+02  3.09285370e+02 -8.16990203e+01\n",
      "  2.62695484e+01  5.50188218e+01 -4.06240466e+01  1.34071751e+01\n",
      "  9.28472172e-01 -4.41631999e+01  1.56508976e+02  2.34837858e+02\n",
      " -1.09107720e+01 -2.96815177e+01 -7.88204609e+01  9.31588763e+01\n",
      " -9.35970252e+01  2.10623839e+02  4.83562162e+01  1.03168248e+01\n",
      "  1.14924897e+02  5.48575497e+01  7.63925694e+00  4.74303760e+00\n",
      "  1.70936463e+01  4.11672221e+01  1.06476042e+01  1.32559691e+01\n",
      " -2.47456959e+00  5.40797186e+00  5.55933119e+00  7.17152115e+00\n",
      "  5.20336698e+00 -1.13925830e+04 -6.54391893e+03 -6.45747909e+03\n",
      " -6.42056491e+03 -2.44693872e+03 -2.00443172e+02 -6.12874690e+01\n",
      " -2.85079773e+03  2.50689719e+03 -1.16006357e+03 -2.47396475e+03\n",
      " -7.77432503e+01 -1.12732340e+01  9.47045310e+01 -2.74264022e+01\n",
      " -9.87310965e+01  5.29899345e+01 -1.34124791e+01  8.06125614e+01\n",
      "  1.49795531e+02 -1.44209241e+03 -4.56823015e+02 -1.50683129e+03\n",
      " -1.99207417e+02 -3.10887615e+02  3.21851444e+02 -5.37428972e+03\n",
      "  8.04626317e+03 -4.30468319e+03 -8.78327762e+02  1.44953843e+02\n",
      "  3.13017494e+02 -4.58889601e+02  2.41146393e+02 -4.18051858e+02\n",
      " -2.12296894e+02  3.52009239e+02 -1.15392400e+02  4.72054084e+02\n",
      "  6.58340726e+01 -4.97361372e+02  1.53035340e+03 -7.31333613e+01\n",
      " -4.99403058e+01 -3.00288224e+03  1.38912679e+03 -7.89132530e+02\n",
      " -4.23542164e+02 -5.21846108e+01  8.24384032e+01 -3.13236743e+01\n",
      "  1.30876972e+02 -7.93988055e+01 -8.32527731e+01  8.72283892e+01\n",
      " -7.13473932e+01 -8.88488614e+01 -1.57257083e+03 -3.59745862e+02\n",
      " -3.27255722e+02  3.50750912e+02 -5.49183637e+03  8.51781272e+03\n",
      " -4.55258553e+03 -9.03933952e+02  1.60794250e+02  3.28660082e+02\n",
      " -4.90339804e+02  2.46788435e+02 -4.41864339e+02 -2.20305065e+02\n",
      "  3.70121679e+02 -1.17262523e+02  5.15924701e+02  1.23211485e+03\n",
      "  9.12428009e+02 -5.59479070e+02 -3.44277185e+03  1.51276212e+03\n",
      " -2.05449712e+03  1.81043342e+03 -1.77367761e+02 -7.48174646e+02\n",
      "  8.70465606e+02 -6.41169496e+02  9.77636681e+02  4.77612391e+02\n",
      " -8.20175792e+02  1.58260178e+02 -1.12393465e+03  1.58000618e+01\n",
      " -2.35868633e+02 -8.07719988e+01 -2.14131641e+01 -8.75029539e+01\n",
      " -5.54909865e+01 -1.04143288e+01  2.51943020e+00 -1.81500497e+01\n",
      "  6.86836903e+01 -7.24292301e+01  6.14248152e+01  2.54406215e+01\n",
      " -2.49785860e+01 -1.26252581e+02 -7.68604944e+01  2.86830336e+01\n",
      "  4.42679450e+01  1.08254043e+01  1.08166469e+02  5.51158575e+01\n",
      " -3.77326658e+01  7.78511474e+01  6.48092475e+01  5.29832422e+01\n",
      " -4.92420322e+00 -2.12990596e+01 -1.05158805e+02 -4.76296885e+01\n",
      " -7.93541496e+03 -1.86432408e+02  2.28677886e+03  1.45922810e+03\n",
      "  5.18560451e+01  6.59702186e+01 -4.92820139e+01  1.63520813e+02\n",
      " -2.26797362e+01 -1.93922411e+02  8.04282967e+01 -9.97534137e+01\n",
      " -2.86573473e+01  2.17392798e+03 -1.69245791e+03 -3.90458105e+03\n",
      "  8.22096630e+01  1.86490030e+01  3.05966999e+01  9.13538940e+01\n",
      "  4.35493970e+01 -4.73235304e+01 -1.00268694e+00 -6.81273029e+01\n",
      " -9.35668733e+01 -4.31377272e+03  6.73236557e+02  1.36858554e+02\n",
      "  1.08789415e+02  1.62321406e+02  1.33579509e+02  4.13181436e+01\n",
      " -6.45362278e+01  6.17508178e-01  6.68137185e+00  2.15684350e+01\n",
      "  6.39274443e+02  8.51332893e+01  6.09704821e+01 -1.20048530e+00\n",
      "  1.22991651e+02 -2.08552002e+01 -7.46330723e+01  5.29975484e+01\n",
      " -2.58048698e+01  4.11595430e+01  1.29792307e+01 -3.25931829e+00\n",
      " -9.66306852e+00 -5.51524447e+00 -8.66231474e+00  6.81396568e+01\n",
      " -8.13882454e+01 -5.86801074e+01  3.38387206e+01 -9.50700841e-01\n",
      " -6.07410529e+00 -1.42428723e+00 -7.34992323e-01  3.94218472e+01\n",
      " -2.47720715e+01  1.02981507e+00 -9.37309472e+01  1.90843931e+01\n",
      " -8.88667114e+00  1.45934171e+01 -2.14764214e+01 -1.52480652e+01\n",
      "  1.54381587e+01  1.93937931e+01  4.84278353e+00  4.86403617e+01\n",
      "  9.30780173e+01 -1.03633666e+02 -6.73073202e+01 -4.49206237e+01\n",
      "  1.11157995e+01 -6.65445547e-01 -1.82259904e+00 -3.42254098e+00\n",
      " -7.86738588e+00 -7.43716824e+00  3.17860275e+00 -2.37466452e-02\n",
      " -3.78751396e+00 -3.32753286e+00 -9.23998587e-01 -6.48227043e+00\n",
      "  7.60534392e+00 -7.19716314e+00  2.14120631e+01]\n",
      "Intercepto:\n",
      "61619.3363795002\n"
     ]
    }
   ],
   "source": [
    "from sklearn.linear_model import Ridge\n",
    "\n",
    "# Transformar los datos de entrenamiento y prueba con polinomio grado 2\n",
    "X2_train = poly2.transform(x_train_scaled)\n",
    "X2_test = poly2.transform(scaler.transform(x_test))\n",
    "\n",
    "# Ridge con alpha = 0.1\n",
    "ridge_poly = Ridge(alpha=0.1)\n",
    "ridge_poly.fit(X2_train, y_train)\n",
    "\n",
    "# Predicción \n",
    "y2_train_pred = ridge_poly.predict(X2_train)\n",
    "y2_test_pred = ridge_poly.predict(X2_test)\n",
    "\n",
    "r2_train_ridge = r2_score(y_train, y2_train_pred)\n",
    "r2_test_ridge = r2_score(y_test, y2_test_pred)\n",
    "\n",
    "print(f\"Ridge Polinomial grado 2 - R2 train: {r2_train_ridge}\")\n",
    "print(f\"Ridge Polinomial grado 2 - R2 test: {r2_test_ridge}\")\n",
    "\n",
    "print(f\"Coeficientes Ridge Polinomial grado 2:\\n{ridge_poly.coef_}\")\n",
    "print(f\"Intercepto:\\n{ridge_poly.intercept_}\")"
   ]
  },
  {
   "cell_type": "markdown",
   "id": "1ac25cbc",
   "metadata": {},
   "source": [
    "**Interpretación Alpha = 0.1:**\n",
    "\n",
    "- El modelo Ridge apenas penaliza los coeficientes, por lo que los betas siguen siendo grandes y el ajuste (R^2) es casi perfecto tanto en train como en test. Esto indica que el modelo sigue sobreajustando, explicando casi toda la variabilidad, pero los coeficientes pueden ser inestables ante nuevos datos."
   ]
  },
  {
   "cell_type": "code",
   "execution_count": 250,
   "id": "d8c29b66",
   "metadata": {
    "ExecuteTime": {
     "end_time": "2025-09-29T19:26:59.563250Z",
     "start_time": "2025-09-29T19:26:59.511741Z"
    }
   },
   "outputs": [
    {
     "name": "stdout",
     "output_type": "stream",
     "text": [
      "Ridge Polinomial grado 2 - R2 train: 0.9961778857531101\n",
      "Ridge Polinomial grado 2 - R2 test: 0.9840094099825822\n"
     ]
    }
   ],
   "source": [
    "# Ridge con alpha = 10\n",
    "ridge_poly = Ridge(alpha=10)\n",
    "ridge_poly.fit(X2_train, y_train)\n",
    "\n",
    "# Predicción \n",
    "y2_train_pred = ridge_poly.predict(X2_train)\n",
    "y2_test_pred = ridge_poly.predict(X2_test)\n",
    "\n",
    "r2_train_ridge = r2_score(y_train, y2_train_pred)\n",
    "r2_test_ridge = r2_score(y_test, y2_test_pred)\n",
    "\n",
    "print(f\"Ridge Polinomial grado 2 - R2 train: {r2_train_ridge}\")\n",
    "print(f\"Ridge Polinomial grado 2 - R2 test: {r2_test_ridge}\")"
   ]
  },
  {
   "cell_type": "markdown",
   "id": "ec0c90f5",
   "metadata": {},
   "source": [
    "**Alpha = 10:**\n",
    "\n",
    "- La penalización es más fuerte. Los coeficientes (betas) se reducen notablemente en magnitud, lo que hace el modelo más estable y menos sensible al ruido. \n",
    "- El R^2 baja ligeramente, pero el modelo es menos propenso al sobreajuste y generaliza mejor."
   ]
  },
  {
   "cell_type": "code",
   "execution_count": 251,
   "id": "a618991d",
   "metadata": {
    "ExecuteTime": {
     "end_time": "2025-09-29T19:26:59.612985Z",
     "start_time": "2025-09-29T19:26:59.584733Z"
    }
   },
   "outputs": [
    {
     "name": "stdout",
     "output_type": "stream",
     "text": [
      "Ridge Polinomial grado 2 - R2 train: 0.9864985677087937\n",
      "Ridge Polinomial grado 2 - R2 test: 0.9629013415061379\n"
     ]
    }
   ],
   "source": [
    "# Ridge con alpha = 100\n",
    "ridge_poly = Ridge(alpha=100)\n",
    "ridge_poly.fit(X2_train, y_train)\n",
    "\n",
    "# Predicción \n",
    "y2_train_pred = ridge_poly.predict(X2_train)\n",
    "y2_test_pred = ridge_poly.predict(X2_test)\n",
    "\n",
    "r2_train_ridge = r2_score(y_train, y2_train_pred)\n",
    "r2_test_ridge = r2_score(y_test, y2_test_pred)\n",
    "\n",
    "print(f\"Ridge Polinomial grado 2 - R2 train: {r2_train_ridge}\")\n",
    "print(f\"Ridge Polinomial grado 2 - R2 test: {r2_test_ridge}\")"
   ]
  },
  {
   "cell_type": "markdown",
   "id": "97b263b8",
   "metadata": {},
   "source": [
    "**Alpha = 100:**\n",
    "\n",
    "La regularización es muy fuerte. Los coeficientes se achican mucho, perdiendo peso la mayoría de las variables. El R^2 baja más, lo que indica que el modelo explica menos variabilidad, pero es mucho más robusto y simple. Aquí el modelo prioriza la estabilidad sobre el ajuste perfecto."
   ]
  },
  {
   "cell_type": "markdown",
   "id": "ed631309",
   "metadata": {},
   "source": [
    "**Interpretación general Regresion Polinomial con Penalización L2 Ridge**\n",
    "\n",
    "A mayor alpha, los coeficientes se reducen y el modelo se vuelve más estable y menos complejo, pero puede perder capacidad de ajuste. Ridge ayuda a evitar el sobreajuste y a obtener betas más razonables, aunque el poder explicativo puede disminuir si la penalización es excesiva."
   ]
  },
  {
   "cell_type": "markdown",
   "id": "713c51f5",
   "metadata": {},
   "source": [
    "### Regresión Polinomial con Regularización L1 Lasso"
   ]
  },
  {
   "cell_type": "code",
   "execution_count": 252,
   "id": "2b9fbf0c",
   "metadata": {
    "ExecuteTime": {
     "end_time": "2025-09-29T19:26:59.750414Z",
     "start_time": "2025-09-29T19:26:59.629264Z"
    }
   },
   "outputs": [
    {
     "name": "stdout",
     "output_type": "stream",
     "text": [
      "Lasso Polinomial grado 2 - R2 train: 0.9999291679309867\n",
      "Lasso Polinomial grado 2 - R2 test: 0.9992901712773773\n",
      "Coeficientes Lasso Polinomial grado 2:\n",
      "[ 1.55859090e+04  1.60156179e+03  3.05408313e+04  1.07344576e+04\n",
      " -1.97337151e+04  1.71101750e+04 -8.31891253e+03 -8.89751188e+01\n",
      " -1.19028013e+01 -1.14170850e+04  5.73714387e+03  1.35625408e+03\n",
      " -9.60309921e+03 -8.36146897e+02  3.64371719e+02  4.71951236e+02\n",
      " -9.63784592e+02  1.58981280e+03 -0.00000000e+00 -6.34968271e+01\n",
      "  0.00000000e+00  1.46655362e+03 -9.33973018e+01  3.79954238e+02\n",
      "  2.16328681e+04  9.97097815e+03 -3.82702927e+02  3.39144047e+02\n",
      " -6.98652988e+03 -2.26056260e+02 -1.78581083e+02 -7.82851932e+03\n",
      " -1.60152904e+03 -1.27232615e+03 -1.13611185e+04 -9.85783763e+01\n",
      "  4.19778073e+01  2.66541539e+01 -7.14555500e+01  1.90833458e+02\n",
      "  3.60499619e+02  3.40549623e+02  9.76953919e+01  3.47422803e+02\n",
      " -9.34397928e+02  4.77466714e+00  1.26973546e+02  1.13965703e+02\n",
      "  1.62193876e+01 -6.41981056e+01  0.00000000e+00 -7.38800827e+01\n",
      "  2.97355241e+02 -1.41646579e+01  1.28898682e+01  1.29757472e+02\n",
      " -1.95131826e+01  3.57020744e+01  6.50224231e+01  6.34986479e+01\n",
      "  7.83110545e+02 -4.74173975e+02  0.00000000e+00 -1.27157178e-02\n",
      "  1.40969953e+03 -2.53196974e+04 -7.15722160e+03 -1.56618108e+03\n",
      "  9.86994745e+02  3.51969457e+03 -1.34360169e+02 -1.45700689e+02\n",
      " -4.79913527e+04  8.03713157e+03  1.54627393e+03  5.38608216e+02\n",
      " -1.16345394e+02 -1.39789976e+02  6.48523858e+01 -2.31147940e+02\n",
      "  5.96107345e+01  7.38077168e+01 -1.10758530e+02  1.86219079e+02\n",
      "  9.48154598e+01 -1.51774322e+03  1.00536127e+03 -7.51450507e+02\n",
      "  8.46427839e+02 -7.81160642e+02 -2.03847401e+02 -6.70763376e+03\n",
      "  3.43073315e+03 -9.33946254e+02  1.13673276e+03  5.07895146e+00\n",
      "  6.60539816e+02 -6.44466455e+02  1.74134728e+03 -1.10169191e+03\n",
      " -1.06443594e+03  7.58069371e+02 -7.76102164e+02  8.34321192e+02\n",
      " -9.53449976e+01 -2.02065716e+03  1.02230005e+03 -3.85219489e+01\n",
      " -4.18768305e+01 -8.94594597e+02  2.00374876e+02 -0.00000000e+00\n",
      " -4.37976224e+01  1.12672780e+02  2.12294617e+02  7.41406771e+01\n",
      "  1.67924701e+02 -6.88017014e+00  6.19568365e+01  1.75215217e+02\n",
      "  4.36842345e+01 -1.43282702e+01 -2.31869521e+03  8.88861960e+02\n",
      " -6.02415527e+02  5.53408533e+02 -1.37866034e+03  1.83172758e+03\n",
      " -6.98293623e+02  1.53770338e+03  8.47162845e+01  4.94392509e+02\n",
      " -6.87589036e+02 -0.00000000e+00 -1.93080373e+02 -0.00000000e+00\n",
      "  4.13167032e+01 -1.55254366e+02  4.22078224e+02  4.31794369e+01\n",
      "  1.55686346e+03 -7.69628182e+01  3.16450951e+03 -3.84429654e+03\n",
      "  2.86505802e+03  4.86741109e+02 -5.05677024e+01 -1.25851640e+03\n",
      "  1.05689115e+03 -1.74928102e+03  1.39511953e+03  1.04547841e+03\n",
      " -7.87579305e+02  6.99921780e+02 -1.32647969e+03  9.98491262e+01\n",
      "  1.12305606e+02 -1.59583005e+02 -7.69601270e+01 -4.51156885e+01\n",
      " -1.15587969e+02  5.65268787e+01  1.85021985e+01  1.63159864e+01\n",
      "  8.24375946e+01  5.52454265e+01  1.18592590e+00 -3.10424279e+00\n",
      "  2.77521080e+01 -1.58406976e+02  2.53149565e+01 -1.08021079e+02\n",
      " -4.17446766e+01  7.24718832e+00 -2.34958176e+01  8.76540897e+00\n",
      " -6.08241296e+01  1.38194030e+02  1.67093134e+01  8.79598994e+01\n",
      " -5.81402897e+01 -2.62725468e+00  1.05201893e+02  8.02020272e+01\n",
      " -6.16090300e+03 -1.06927331e+03  1.21481686e+03  6.53668039e+03\n",
      " -1.25343566e+01  9.77103807e+01 -1.14480469e+02  2.49661410e+02\n",
      "  4.50295742e+01 -1.14251953e+02  2.76175012e+02 -9.46035022e+01\n",
      "  1.31737010e+02  0.00000000e+00  6.66593525e+02  2.77597930e+03\n",
      " -1.12589245e+01 -1.11162684e+01 -1.67451499e+01  7.62736668e+01\n",
      " -1.21150459e+02 -3.86003593e+01  0.00000000e+00  3.18780452e+01\n",
      " -2.17143983e+00 -3.66342768e+02  1.04364514e+02  3.42567329e+01\n",
      "  3.76714080e+01  2.07703355e+01  5.02707367e+01 -0.00000000e+00\n",
      " -2.64382505e+01 -3.21064854e+01  1.94846896e+01  6.39771748e+01\n",
      " -1.18614281e+02 -2.52575703e+01  1.23728677e+02 -3.77198578e+01\n",
      "  1.90315996e+02 -8.20367531e+01  0.00000000e+00  1.96680107e+02\n",
      " -5.25862097e+01  1.58973519e+02  3.07731193e+02  3.00201264e+02\n",
      "  4.26042421e+02 -1.39325370e+03 -5.65419510e+00 -3.05107966e+01\n",
      " -1.13231683e+02 -1.60856069e+01 -1.84558505e+01 -1.28749537e+02\n",
      "  2.61907471e+02 -2.39650057e+02 -6.62849185e+01 -2.60025720e+01\n",
      " -3.14193996e+01 -1.36612844e+01 -2.15274860e+02 -1.19179360e+02\n",
      " -0.00000000e+00 -2.01579745e+01 -5.25631772e+01  9.26854962e+00\n",
      " -1.72047166e+01 -9.58763582e+01  1.78941329e+02  7.34864797e+01\n",
      "  6.75216858e+01  0.00000000e+00 -1.01909350e+02 -7.73443280e+01\n",
      " -2.64071039e+00 -0.00000000e+00 -1.00835439e+03  0.00000000e+00\n",
      "  2.44448767e+03  3.64894024e+01 -1.97212588e+02  0.00000000e+00\n",
      "  9.25026973e+02  1.10312095e+02 -5.31779035e+01  5.14254968e+02\n",
      "  1.50596503e+01  1.56788826e+02 -2.11688093e+02]\n",
      "Intercepto:\n",
      "64499.15626090606\n"
     ]
    }
   ],
   "source": [
    "from sklearn.linear_model import Lasso\n",
    "\n",
    "# Transformar los datos de entrenamiento y prueba con polinomio grado 2\n",
    "X2_train = poly2.transform(x_train_scaled)\n",
    "X2_test = poly2.transform(scaler.transform(x_test))\n",
    "\n",
    "# Lasso con alpha = 0.1\n",
    "lasso_poly = Lasso(alpha=0.1, max_iter=10000)\n",
    "lasso_poly.fit(X2_train, y_train)\n",
    "\n",
    "# Predicción\n",
    "y2_train_pred = lasso_poly.predict(X2_train)\n",
    "y2_test_pred = lasso_poly.predict(X2_test)\n",
    "\n",
    "r2_train_lasso = r2_score(y_train, y2_train_pred)\n",
    "r2_test_lasso = r2_score(y_test, y2_test_pred)\n",
    "\n",
    "print(f\"Lasso Polinomial grado 2 - R2 train: {r2_train_lasso}\")\n",
    "print(f\"Lasso Polinomial grado 2 - R2 test: {r2_test_lasso}\")\n",
    "print(f\"Coeficientes Lasso Polinomial grado 2:\\n{lasso_poly.coef_}\")\n",
    "print(f\"Intercepto:\\n{lasso_poly.intercept_}\")"
   ]
  },
  {
   "cell_type": "markdown",
   "id": "ae9ef81b",
   "metadata": {},
   "source": [
    "**Interpretación Alpha = 0.1**\n",
    "\n",
    "- El modelo apenas penaliza los coeficientes, por lo que la mayoría de los betas siguen teniendo valores distintos de cero.\n",
    "- El ajuste (R²) es muy alto tanto en train como en test, lo que indica que el modelo sigue explicando casi toda la variabilidad.\n",
    "- Lasso empieza a reducir los coeficientes menos relevantes, pero aún no elimina variables por completo."
   ]
  },
  {
   "cell_type": "code",
   "execution_count": 253,
   "id": "ea3a0382",
   "metadata": {
    "ExecuteTime": {
     "end_time": "2025-09-29T19:27:00.205076Z",
     "start_time": "2025-09-29T19:26:59.787994Z"
    }
   },
   "outputs": [
    {
     "name": "stdout",
     "output_type": "stream",
     "text": [
      "Lasso Polinomial grado 2 - R2 train: 0.99981253512057\n",
      "Lasso Polinomial grado 2 - R2 test: 0.9992745489456877\n"
     ]
    }
   ],
   "source": [
    "# Lasso con alpha = 10\n",
    "lasso_poly = Lasso(alpha=10, max_iter=10000)\n",
    "lasso_poly.fit(X2_train, y_train)\n",
    "\n",
    "# Predicción\n",
    "y2_train_pred = lasso_poly.predict(X2_train)\n",
    "y2_test_pred = lasso_poly.predict(X2_test)\n",
    "\n",
    "r2_train_lasso = r2_score(y_train, y2_train_pred)\n",
    "r2_test_lasso = r2_score(y_test, y2_test_pred)\n",
    "\n",
    "print(f\"Lasso Polinomial grado 2 - R2 train: {r2_train_lasso}\")\n",
    "print(f\"Lasso Polinomial grado 2 - R2 test: {r2_test_lasso}\")"
   ]
  },
  {
   "cell_type": "markdown",
   "id": "cec4a0e2",
   "metadata": {},
   "source": [
    "**Alpha = 10**\n",
    "- La penalización es mucho más fuerte.\n",
    "- Varios coeficientes se reducen drásticamente y muchos se vuelven exactamente cero.\n",
    "- El modelo elimina variables irrelevantes, quedando solo las más importantes.\n",
    "- El R^2 baja, pero el modelo se vuelve más simple y menos propenso al sobreajuste."
   ]
  },
  {
   "cell_type": "code",
   "execution_count": 254,
   "id": "d821b756",
   "metadata": {
    "ExecuteTime": {
     "end_time": "2025-09-29T19:27:00.367214Z",
     "start_time": "2025-09-29T19:27:00.217802Z"
    }
   },
   "outputs": [
    {
     "name": "stdout",
     "output_type": "stream",
     "text": [
      "Lasso Polinomial grado 2 - R2 train: 0.9980642188459469\n",
      "Lasso Polinomial grado 2 - R2 test: 0.996318934361431\n"
     ]
    }
   ],
   "source": [
    "# Lasso con alpha = 100\n",
    "lasso_poly = Lasso(alpha=100, max_iter=10000)\n",
    "lasso_poly.fit(X2_train, y_train)\n",
    "\n",
    "# Predicción\n",
    "y2_train_pred = lasso_poly.predict(X2_train)\n",
    "y2_test_pred = lasso_poly.predict(X2_test)\n",
    "\n",
    "r2_train_lasso = r2_score(y_train, y2_train_pred)\n",
    "r2_test_lasso = r2_score(y_test, y2_test_pred)\n",
    "\n",
    "print(f\"Lasso Polinomial grado 2 - R2 train: {r2_train_lasso}\")\n",
    "print(f\"Lasso Polinomial grado 2 - R2 test: {r2_test_lasso}\")"
   ]
  },
  {
   "cell_type": "markdown",
   "id": "4ec10d49",
   "metadata": {},
   "source": [
    "**Alpha = 100**\n",
    "- La regularización es extrema.\n",
    "- La mayoría de los coeficientes se llevan a cero, dejando muy pocas variables en el modelo.\n",
    "- El R^2 baja aún más, lo que significa que el modelo explica menos variabilidad.\n",
    "- El modelo prioriza la simplicidad y la robustez, pero pierde capacidad de ajuste.\n"
   ]
  },
  {
   "cell_type": "markdown",
   "id": "16a1f48b",
   "metadata": {},
   "source": [
    "### Interpretacion general Lasso\n",
    "\n",
    "A mayor alpha, Lasso reduce más coeficientes a cero, eliminando variables y simplificando el modelo. Esto ayuda a evitar el sobreajuste y a seleccionar solo los factores más relevantes, aunque puede perder poder explicativo si la penalización es excesiva."
   ]
  },
  {
   "cell_type": "markdown",
   "id": "5bd60a4c",
   "metadata": {},
   "source": [
    "### Regresión Polinomial con Regularización ElasticNet"
   ]
  },
  {
   "cell_type": "code",
   "execution_count": 255,
   "id": "89ec91a6",
   "metadata": {
    "ExecuteTime": {
     "end_time": "2025-09-29T19:27:00.883206Z",
     "start_time": "2025-09-29T19:27:00.415751Z"
    }
   },
   "outputs": [
    {
     "name": "stdout",
     "output_type": "stream",
     "text": [
      "ElasticNet Polinomial grado 2 - R2 train: 0.995384937616926\n",
      "ElasticNet Polinomial grado 2 - R2 test: 0.9813863076760136\n",
      "Coeficientes ElasticNet Polinomial grado 2:\n",
      "[ 2.85086182e+03  3.39126993e+01  4.01222125e+03  4.94772535e+03\n",
      " -3.36899783e+03  5.63962616e+03  4.18039299e+03 -2.14493873e+02\n",
      " -2.84593546e+01 -1.42232333e+03  3.35321617e+03 -8.11491985e+02\n",
      "  1.60875699e+02 -9.43270931e+00  5.23980482e+01 -2.28784234e+01\n",
      " -1.38447847e+02 -4.76272791e+01  1.00922127e+01 -3.12260407e+01\n",
      "  3.22284073e+01  5.07297490e+01  1.53981286e+02 -3.72643313e+02\n",
      "  1.05635565e+03 -1.24872233e+03  1.72832955e+03 -1.50702614e+03\n",
      " -1.75549081e+03 -5.28409480e+02  2.65902871e+02 -9.37189049e+02\n",
      " -1.18312957e+03 -6.70594018e+02  3.46516772e+02  2.16034613e+01\n",
      "  4.17146705e+02  3.84126422e+02 -3.26428681e+02 -2.59426332e+02\n",
      "  3.02225936e+01  1.33056682e+02  3.55072035e+02  8.03136039e+02\n",
      " -8.32528615e+00  1.42943310e+02  1.94917455e+01  4.39123705e+02\n",
      " -1.88425573e+01  4.36403748e+01  1.70594697e+02 -2.95081542e+01\n",
      "  4.49253892e+01 -9.19733441e+01 -7.47820785e+01 -1.79334747e+02\n",
      " -3.14166357e+02  1.43521305e+02  5.65385018e+01  1.15176214e+02\n",
      "  2.95025327e+01 -2.29031565e+01  6.17890337e+00  3.13539986e+01\n",
      " -6.71035615e+00  1.53328970e+03  3.06293110e+03 -4.80406378e+03\n",
      "  3.74994608e+03  3.12090377e+03 -5.31346396e+02  3.99529925e+02\n",
      " -1.63233093e+03  2.39936873e+03 -8.98815371e+02 -1.43548262e+03\n",
      "  2.05669983e+02  6.61165482e+02  2.10439430e+02 -1.58953845e+02\n",
      " -5.22748894e+02  9.89131503e+01  1.57658092e+01  1.09279035e+02\n",
      "  3.44829326e+02  1.23081071e+03 -1.31701354e+03  1.44873538e+03\n",
      "  1.25285289e+03  1.15209856e+02  3.22526967e+01 -1.94575378e+03\n",
      "  2.65974365e+03 -1.35390727e+03 -4.22698989e+02 -2.30406480e+01\n",
      " -3.25958496e+02  2.28272775e+02 -1.55049070e+02  1.03746081e+02\n",
      "  2.36930201e+02 -2.44681786e+02 -3.90699521e+01 -1.02585716e+02\n",
      " -8.09587491e+02 -1.33864065e+03 -1.52405960e+03 -7.76989524e+01\n",
      " -8.10619984e+02 -4.20289467e+03  1.03199930e+03  1.47244329e+03\n",
      " -1.64085413e+03  1.16097575e+02 -2.04004812e+02 -1.01145792e+03\n",
      "  6.45960596e+02 -4.77308129e+02 -6.12218390e+02  4.38396437e+02\n",
      " -1.41384910e+02  2.80167007e+01  1.68501884e+03  1.49196082e+03\n",
      "  1.31417315e+02  1.11958765e+02 -1.69186377e+03  2.76107920e+03\n",
      " -1.59573319e+03 -2.98303612e+02 -3.59841050e+01 -3.30985508e+02\n",
      "  3.41804300e+02 -2.28304029e+02  1.57113324e+02  3.13114509e+02\n",
      " -3.04914487e+02 -2.85289944e+01 -1.13117946e+02  1.33047148e+03\n",
      "  3.70908727e+02  1.04217792e+02 -1.84334385e+03  1.85494771e+03\n",
      " -1.05207371e+03 -1.69767957e+01  2.01092265e+01 -1.01815470e+02\n",
      "  1.58174380e+02 -3.63450089e+02  2.47760614e+02  1.50048922e+02\n",
      " -1.76785361e+02  1.51439654e+02 -3.81988201e+02  7.88275385e+01\n",
      " -7.27229019e+01 -2.03744720e+01 -2.74524419e+02 -2.65581130e+02\n",
      "  5.84549011e+01 -2.68329657e+02 -1.08000989e+02 -1.90714001e+02\n",
      " -8.56112525e+01 -3.80083166e+02  4.31662136e+02 -1.35526652e+01\n",
      " -6.70908196e+01 -3.91522364e+02  3.85272666e+01  1.17807090e+02\n",
      " -3.71761559e+02  9.43895618e+01  2.62329958e+02  2.18670146e+02\n",
      " -1.56193682e+02  5.79916535e+02  5.47562108e+02  4.68954508e+02\n",
      "  3.98466498e+00 -2.11061672e+02 -4.71835564e+02 -2.45144309e+02\n",
      " -2.90435114e+03 -1.08538987e+02  8.77413353e+02  5.13982492e+02\n",
      "  2.58653367e+02  6.63128716e+00 -3.32553142e+02  1.81358998e+02\n",
      "  9.80418773e+01 -2.03848323e+02  1.54272877e+02 -1.90665821e+02\n",
      " -2.07961311e+02  8.19668684e+02 -5.68235050e+02 -1.51163781e+03\n",
      " -1.03808246e+02 -1.28567851e+02  4.24374712e+01 -8.88169024e+01\n",
      "  2.31510678e+02 -1.33553449e+02  1.09225397e+01  4.48188642e+01\n",
      "  2.58876779e+00 -1.80217526e+03  2.68519673e+02  3.82531126e+02\n",
      "  2.49390383e+02  4.14215861e+02  2.74153842e+02  3.17669733e+02\n",
      " -1.85990314e+02 -3.82854459e+01  2.82747579e+02  2.31638182e+00\n",
      "  3.29438257e+02  1.68320613e+02  2.63813412e+02  1.79576528e+02\n",
      "  4.13565902e+02  1.52261447e+02 -3.37731974e+02  2.09266953e+02\n",
      "  1.50896866e+02  2.30440703e+02 -1.75414864e+01 -1.79411171e+01\n",
      "  1.50572599e+01  6.71929481e+01  7.22475103e+01  4.04133389e+02\n",
      " -3.77635249e+02  5.07587241e+02  5.56386840e+02  8.37056102e+01\n",
      " -1.47542040e+01  3.79044319e+01 -1.29514058e+02 -2.55230161e+01\n",
      "  0.00000000e+00  2.52887555e+02 -4.94645711e+01 -3.35134752e+01\n",
      "  8.30118196e+01  1.90258034e+02 -8.65379887e+01 -1.35163929e+02\n",
      "  5.03447421e+02 -3.81159159e+01 -1.86116011e+02  1.70163355e+02\n",
      "  4.51327718e+02 -6.00437563e+02 -1.58715490e+02 -3.48908510e+01\n",
      " -1.04645907e+02  1.42333336e+01  3.93826174e+01  5.30371036e+00\n",
      "  2.58523759e+00  2.21133085e+01  5.61968145e+00 -1.67626289e+01\n",
      " -2.52314952e+01 -3.69238622e+01 -5.23202623e+00 -1.28290489e+01\n",
      "  6.96866407e+01 -3.57404152e+01  7.95388870e+01]\n",
      "Intercepto:\n",
      "19676.734066647077\n"
     ]
    }
   ],
   "source": [
    "### Regresión Polinomial con Regularización Elastic Net\n",
    "\n",
    "from sklearn.linear_model import ElasticNet\n",
    "\n",
    "# Transformar los datos de entrenamiento y prueba con polinomio grado 2\n",
    "X2_train = poly2.transform(x_train_scaled)\n",
    "X2_test = poly2.transform(scaler.transform(x_test))\n",
    "\n",
    "# Elastic Net con alpha = 0.1 y l1_ratio = 0.5\n",
    "elastic_poly = ElasticNet(alpha=0.1, l1_ratio=0.5, max_iter=10000)\n",
    "elastic_poly.fit(X2_train, y_train)\n",
    "\n",
    "# Predicción\n",
    "y2_train_pred = elastic_poly.predict(X2_train)\n",
    "y2_test_pred = elastic_poly.predict(X2_test)\n",
    "\n",
    "r2_train_elastic = r2_score(y_train, y2_train_pred)\n",
    "r2_test_elastic = r2_score(y_test, y2_test_pred)\n",
    "\n",
    "print(f\"ElasticNet Polinomial grado 2 - R2 train: {r2_train_elastic}\")\n",
    "print(f\"ElasticNet Polinomial grado 2 - R2 test: {r2_test_elastic}\")\n",
    "print(f\"Coeficientes ElasticNet Polinomial grado 2:\\n{elastic_poly.coef_}\")\n",
    "print(f\"Intercepto:\\n{elastic_poly.intercept_}\")\n"
   ]
  },
  {
   "cell_type": "code",
   "execution_count": 256,
   "id": "807c578e",
   "metadata": {
    "ExecuteTime": {
     "end_time": "2025-09-29T19:27:00.931261Z",
     "start_time": "2025-09-29T19:27:00.901808Z"
    }
   },
   "outputs": [
    {
     "name": "stdout",
     "output_type": "stream",
     "text": [
      "ElasticNet Polinomial grado 2 - R2 train: 0.9526739220213911\n",
      "ElasticNet Polinomial grado 2 - R2 test: 0.9251567090000022\n"
     ]
    }
   ],
   "source": [
    "# Elastic Net con alpha = 10 y l1_ratio = 0.8\n",
    "elastic_poly = ElasticNet(alpha=10, l1_ratio=0.8, max_iter=10000)\n",
    "elastic_poly.fit(X2_train, y_train)\n",
    "\n",
    "# Predicción\n",
    "y2_train_pred = elastic_poly.predict(X2_train)\n",
    "y2_test_pred = elastic_poly.predict(X2_test)\n",
    "\n",
    "r2_train_elastic = r2_score(y_train, y2_train_pred)\n",
    "r2_test_elastic = r2_score(y_test, y2_test_pred)\n",
    "\n",
    "print(f\"ElasticNet Polinomial grado 2 - R2 train: {r2_train_elastic}\")\n",
    "print(f\"ElasticNet Polinomial grado 2 - R2 test: {r2_test_elastic}\")"
   ]
  },
  {
   "cell_type": "code",
   "execution_count": 257,
   "id": "7f2177ae",
   "metadata": {
    "ExecuteTime": {
     "end_time": "2025-09-29T19:27:00.963968Z",
     "start_time": "2025-09-29T19:27:00.944068Z"
    }
   },
   "outputs": [
    {
     "name": "stdout",
     "output_type": "stream",
     "text": [
      "ElasticNet Polinomial grado 2 - R2 train: 0.6798387461601714\n",
      "ElasticNet Polinomial grado 2 - R2 test: 0.6469481239405539\n"
     ]
    }
   ],
   "source": [
    "# Elastic Net con alpha = 100 y l1_ratio = 0.8\n",
    "elastic_poly = ElasticNet(alpha=100, l1_ratio=0.8, max_iter=10000)\n",
    "elastic_poly.fit(X2_train, y_train)\n",
    "\n",
    "# Predicción\n",
    "y2_train_pred = elastic_poly.predict(X2_train)\n",
    "y2_test_pred = elastic_poly.predict(X2_test)\n",
    "\n",
    "r2_train_elastic = r2_score(y_train, y2_train_pred)\n",
    "r2_test_elastic = r2_score(y_test, y2_test_pred)\n",
    "\n",
    "print(f\"ElasticNet Polinomial grado 2 - R2 train: {r2_train_elastic}\")\n",
    "print(f\"ElasticNet Polinomial grado 2 - R2 test: {r2_test_elastic}\")"
   ]
  },
  {
   "cell_type": "code",
   "execution_count": 258,
   "id": "9e415913",
   "metadata": {
    "ExecuteTime": {
     "end_time": "2025-09-29T19:27:01.004292Z",
     "start_time": "2025-09-29T19:27:00.978804Z"
    }
   },
   "outputs": [
    {
     "name": "stdout",
     "output_type": "stream",
     "text": [
      "ElasticNet Polinomial grado 2 - R2 train: 0.8554644726003577\n",
      "ElasticNet Polinomial grado 2 - R2 test: 0.8202029455349724\n"
     ]
    }
   ],
   "source": [
    "# Elastic Net con alpha = 10 y l1_ratio = 0.3\n",
    "elastic_poly = ElasticNet(alpha=10, l1_ratio=0.3, max_iter=10000)\n",
    "elastic_poly.fit(X2_train, y_train)\n",
    "\n",
    "# Predicción\n",
    "y2_train_pred = elastic_poly.predict(X2_train)\n",
    "y2_test_pred = elastic_poly.predict(X2_test)\n",
    "\n",
    "r2_train_elastic = r2_score(y_train, y2_train_pred)\n",
    "r2_test_elastic = r2_score(y_test, y2_test_pred)\n",
    "\n",
    "print(f\"ElasticNet Polinomial grado 2 - R2 train: {r2_train_elastic}\")\n",
    "print(f\"ElasticNet Polinomial grado 2 - R2 test: {r2_test_elastic}\")"
   ]
  },
  {
   "cell_type": "code",
   "execution_count": 259,
   "id": "524e768e",
   "metadata": {
    "ExecuteTime": {
     "end_time": "2025-09-29T19:27:01.024674Z",
     "start_time": "2025-09-29T19:27:01.012694Z"
    }
   },
   "outputs": [
    {
     "name": "stdout",
     "output_type": "stream",
     "text": [
      "ElasticNet Polinomial grado 2 - R2 train: 0.3974166121374071\n",
      "ElasticNet Polinomial grado 2 - R2 test: 0.3815959066145175\n"
     ]
    }
   ],
   "source": [
    "# Elastic Net con alpha = 100 y l1_ratio = 0.3\n",
    "elastic_poly = ElasticNet(alpha=100, l1_ratio=0.3, max_iter=10000)\n",
    "elastic_poly.fit(X2_train, y_train)\n",
    "\n",
    "# Predicción\n",
    "y2_train_pred = elastic_poly.predict(X2_train)\n",
    "y2_test_pred = elastic_poly.predict(X2_test)\n",
    "\n",
    "r2_train_elastic = r2_score(y_train, y2_train_pred)\n",
    "r2_test_elastic = r2_score(y_test, y2_test_pred)\n",
    "\n",
    "print(f\"ElasticNet Polinomial grado 2 - R2 train: {r2_train_elastic}\")\n",
    "print(f\"ElasticNet Polinomial grado 2 - R2 test: {r2_test_elastic}\")"
   ]
  },
  {
   "cell_type": "markdown",
   "id": "8f326b44",
   "metadata": {},
   "source": [
    "#### ElasticNet combina Lasso y Ridge, así que el efecto depende de ambos parámetros:\n",
    "\n",
    "**Interpretacion Alpha = 0.1 (penalización baja)**\n",
    "- **l1_ratio = 0.5 y 0.8 y 0.3**  \n",
    "  - El modelo apenas penaliza los coeficientes, por lo que la mayoría de los betas siguen teniendo valores distintos de cero.\n",
    "  - El R^2 es muy alto tanto en train como en test, indicando que el modelo explica casi toda la variabilidad.\n",
    "  - ElasticNet empieza a reducir coeficientes menos relevantes, pero aún no elimina variables por completo.\n",
    "  - El efecto de l1_ratio:\n",
    "    - **0.3:** Más parecido a Ridge, los coeficientes se reducen pero pocos llegan a cero.\n",
    "    - **0.5:** Balance entre Ridge y Lasso, algunos coeficientes se acercan a cero.\n",
    "    - **0.8:** Más parecido a Lasso, más coeficientes pequeños y algunos pueden ser cero."
   ]
  },
  {
   "cell_type": "markdown",
   "id": "ff7246ac",
   "metadata": {},
   "source": [
    "**Alpha = 10 (penalización media)**\n",
    "- **l1_ratio = 0.5 y 0.8 y 0.3**\n",
    "  - La penalización es mucho más fuerte.\n",
    "  - Varios coeficientes se reducen drásticamente y muchos se vuelven exactamente cero, eliminando variables irrelevantes.\n",
    "  - El R^2 baja, pero el modelo se vuelve más simple y menos propenso al sobreajuste.\n",
    "  - El efecto de l1_ratio:"
   ]
  },
  {
   "cell_type": "markdown",
   "id": "dca381ec",
   "metadata": {},
   "source": [
    "**Alpha = 100 (penalización alta)**\n",
    "- **l1_ratio = 0.5 y 0.8 y 0.3**\n",
    "  - La regularización es extrema.\n",
    "  - La mayoría de los coeficientes se llevan a cero, dejando muy pocas variables en el modelo.\n",
    "  - El R² baja aún más, el modelo explica menos variabilidad pero es muy robusto y simple.\n",
    "\n"
   ]
  },
  {
   "cell_type": "markdown",
   "id": "adbd202f",
   "metadata": {},
   "source": [
    "**Interpretación general ElasticNet**\n",
    "\n",
    "- A mayor alpha, ElasticNet reduce más coeficientes a cero y simplifica el modelo, sacrificando poder explicativo.\n",
    "- A mayor l1_ratio, el modelo se comporta más como Lasso (más coeficientes en cero).\n",
    "- A menor l1_ratio, el modelo se comporta más como Ridge (coeficientes pequeños pero no necesariamente cero).\n",
    "- El mejor balance depende de tu objetivo: si quieres simplicidad y selección de variables, usa alpha alto y l1_ratio alto; si prefieres mantener más variables, usa alpha bajo y l1_ratio bajo."
   ]
  },
  {
   "cell_type": "markdown",
   "id": "9443bccb7b358cb9",
   "metadata": {},
   "source": [
    "---\n",
    "### 3. Lineal Múltiple usando Precio Efectivo (variale obtenida)"
   ]
  },
  {
   "cell_type": "markdown",
   "id": "5cccc5f4-2860-4786-9682-3c466cfb9f83",
   "metadata": {},
   "source": [
    "## Creación del modelo (Seleccionar \"x\" y \"y\", Cross-Validation (Train-Test Split))"
   ]
  },
  {
   "cell_type": "code",
   "execution_count": 260,
   "id": "f26b9553ccb03c80",
   "metadata": {
    "ExecuteTime": {
     "end_time": "2025-09-29T19:27:01.043559Z",
     "start_time": "2025-09-29T19:27:01.038312Z"
    }
   },
   "outputs": [],
   "source": [
    "#Preparar los datos para mi modelo\n",
    "data_3 = data.copy()\n",
    "\n",
    "# Columna precio efectivo\n",
    "data_3['Precio_efectivo'] = data_3['Sale Price'] - (data_3['Discounts'] / data_3['Units Sold'])\n",
    "\n",
    "# Columnas dummies\n",
    "dummy_cols = []\n",
    "for col in data_3.columns:\n",
    "    if col.startswith(('Segment_', 'Country_', 'Product_')):\n",
    "        dummy_cols.append(col)\n",
    "\n",
    "y = data_3['Profit']\n",
    "X = data_3[['Units Sold', 'Precio_efectivo'] + dummy_cols]\n",
    "\n",
    "X_train, X_test, y_train, y_test = train_test_split(X, y, train_size = 0.4, random_state = 137)"
   ]
  },
  {
   "cell_type": "markdown",
   "id": "c25667bb-a175-49bf-a773-2e1b83b32057",
   "metadata": {},
   "source": [
    "## Selección del Modelo (Regresión Lineal)"
   ]
  },
  {
   "cell_type": "markdown",
   "id": "568a2967ae74ad67",
   "metadata": {},
   "source": [
    "#### Regresiones utilizando los datos de entrenamiento"
   ]
  },
  {
   "cell_type": "code",
   "execution_count": 261,
   "id": "8ed9ada94d60257a",
   "metadata": {
    "ExecuteTime": {
     "end_time": "2025-09-29T19:27:01.078663Z",
     "start_time": "2025-09-29T19:27:01.050800Z"
    }
   },
   "outputs": [
    {
     "data": {
      "text/html": [
       "<table class=\"simpletable\">\n",
       "<caption>OLS Regression Results</caption>\n",
       "<tr>\n",
       "  <th>Dep. Variable:</th>         <td>Profit</td>      <th>  R-squared:         </th> <td>   0.763</td>\n",
       "</tr>\n",
       "<tr>\n",
       "  <th>Model:</th>                   <td>OLS</td>       <th>  Adj. R-squared:    </th> <td>   0.750</td>\n",
       "</tr>\n",
       "<tr>\n",
       "  <th>Method:</th>             <td>Least Squares</td>  <th>  F-statistic:       </th> <td>   56.69</td>\n",
       "</tr>\n",
       "<tr>\n",
       "  <th>Date:</th>             <td>Mon, 29 Sep 2025</td> <th>  Prob (F-statistic):</th> <td>1.89e-73</td>\n",
       "</tr>\n",
       "<tr>\n",
       "  <th>Time:</th>                 <td>13:27:01</td>     <th>  Log-Likelihood:    </th> <td> -3199.5</td>\n",
       "</tr>\n",
       "<tr>\n",
       "  <th>No. Observations:</th>      <td>   280</td>      <th>  AIC:               </th> <td>   6431.</td>\n",
       "</tr>\n",
       "<tr>\n",
       "  <th>Df Residuals:</th>          <td>   264</td>      <th>  BIC:               </th> <td>   6489.</td>\n",
       "</tr>\n",
       "<tr>\n",
       "  <th>Df Model:</th>              <td>    15</td>      <th>                     </th>     <td> </td>   \n",
       "</tr>\n",
       "<tr>\n",
       "  <th>Covariance Type:</th>      <td>nonrobust</td>    <th>                     </th>     <td> </td>   \n",
       "</tr>\n",
       "</table>\n",
       "<table class=\"simpletable\">\n",
       "<tr>\n",
       "    <td></td>       <th>coef</th>     <th>std err</th>      <th>t</th>      <th>P>|t|</th>  <th>[0.025</th>    <th>0.975]</th>  \n",
       "</tr>\n",
       "<tr>\n",
       "  <th>const</th> <td> 2.617e+04</td> <td> 1366.178</td> <td>   19.158</td> <td> 0.000</td> <td> 2.35e+04</td> <td> 2.89e+04</td>\n",
       "</tr>\n",
       "<tr>\n",
       "  <th>x1</th>    <td> 1.296e+04</td> <td> 1446.333</td> <td>    8.958</td> <td> 0.000</td> <td> 1.01e+04</td> <td> 1.58e+04</td>\n",
       "</tr>\n",
       "<tr>\n",
       "  <th>x2</th>    <td> 4.131e+04</td> <td> 1763.861</td> <td>   23.422</td> <td> 0.000</td> <td> 3.78e+04</td> <td> 4.48e+04</td>\n",
       "</tr>\n",
       "<tr>\n",
       "  <th>x3</th>    <td>-1.953e+04</td> <td> 1894.345</td> <td>  -10.312</td> <td> 0.000</td> <td>-2.33e+04</td> <td>-1.58e+04</td>\n",
       "</tr>\n",
       "<tr>\n",
       "  <th>x4</th>    <td>-4750.1886</td> <td> 2252.833</td> <td>   -2.109</td> <td> 0.036</td> <td>-9185.995</td> <td> -314.382</td>\n",
       "</tr>\n",
       "<tr>\n",
       "  <th>x5</th>    <td>-3625.3333</td> <td> 1796.309</td> <td>   -2.018</td> <td> 0.045</td> <td>-7162.249</td> <td>  -88.418</td>\n",
       "</tr>\n",
       "<tr>\n",
       "  <th>x6</th>    <td>-2.077e+04</td> <td> 2206.906</td> <td>   -9.413</td> <td> 0.000</td> <td>-2.51e+04</td> <td>-1.64e+04</td>\n",
       "</tr>\n",
       "<tr>\n",
       "  <th>x7</th>    <td> -506.5224</td> <td> 1683.500</td> <td>   -0.301</td> <td> 0.764</td> <td>-3821.318</td> <td> 2808.274</td>\n",
       "</tr>\n",
       "<tr>\n",
       "  <th>x8</th>    <td> 1081.4579</td> <td> 1739.686</td> <td>    0.622</td> <td> 0.535</td> <td>-2343.968</td> <td> 4506.884</td>\n",
       "</tr>\n",
       "<tr>\n",
       "  <th>x9</th>    <td>-1529.7429</td> <td> 1758.790</td> <td>   -0.870</td> <td> 0.385</td> <td>-4992.784</td> <td> 1933.299</td>\n",
       "</tr>\n",
       "<tr>\n",
       "  <th>x10</th>   <td>-2835.1989</td> <td> 1744.915</td> <td>   -1.625</td> <td> 0.105</td> <td>-6270.920</td> <td>  600.522</td>\n",
       "</tr>\n",
       "<tr>\n",
       "  <th>x11</th>   <td> -884.5498</td> <td> 1784.355</td> <td>   -0.496</td> <td> 0.621</td> <td>-4397.929</td> <td> 2628.829</td>\n",
       "</tr>\n",
       "<tr>\n",
       "  <th>x12</th>   <td> -926.6090</td> <td> 1775.452</td> <td>   -0.522</td> <td> 0.602</td> <td>-4422.458</td> <td> 2569.240</td>\n",
       "</tr>\n",
       "<tr>\n",
       "  <th>x13</th>   <td>-1182.5122</td> <td> 1946.416</td> <td>   -0.608</td> <td> 0.544</td> <td>-5014.987</td> <td> 2649.962</td>\n",
       "</tr>\n",
       "<tr>\n",
       "  <th>x14</th>   <td> 1195.0669</td> <td> 1775.030</td> <td>    0.673</td> <td> 0.501</td> <td>-2299.951</td> <td> 4690.085</td>\n",
       "</tr>\n",
       "<tr>\n",
       "  <th>x15</th>   <td>  212.5041</td> <td> 1892.859</td> <td>    0.112</td> <td> 0.911</td> <td>-3514.517</td> <td> 3939.525</td>\n",
       "</tr>\n",
       "</table>\n",
       "<table class=\"simpletable\">\n",
       "<tr>\n",
       "  <th>Omnibus:</th>       <td>85.892</td> <th>  Durbin-Watson:     </th> <td>   1.983</td> \n",
       "</tr>\n",
       "<tr>\n",
       "  <th>Prob(Omnibus):</th> <td> 0.000</td> <th>  Jarque-Bera (JB):  </th> <td> 525.558</td> \n",
       "</tr>\n",
       "<tr>\n",
       "  <th>Skew:</th>          <td> 1.081</td> <th>  Prob(JB):          </th> <td>7.52e-115</td>\n",
       "</tr>\n",
       "<tr>\n",
       "  <th>Kurtosis:</th>      <td> 9.354</td> <th>  Cond. No.          </th> <td>    3.42</td> \n",
       "</tr>\n",
       "</table><br/><br/>Notes:<br/>[1] Standard Errors assume that the covariance matrix of the errors is correctly specified."
      ],
      "text/latex": [
       "\\begin{center}\n",
       "\\begin{tabular}{lclc}\n",
       "\\toprule\n",
       "\\textbf{Dep. Variable:}    &      Profit      & \\textbf{  R-squared:         } &     0.763   \\\\\n",
       "\\textbf{Model:}            &       OLS        & \\textbf{  Adj. R-squared:    } &     0.750   \\\\\n",
       "\\textbf{Method:}           &  Least Squares   & \\textbf{  F-statistic:       } &     56.69   \\\\\n",
       "\\textbf{Date:}             & Mon, 29 Sep 2025 & \\textbf{  Prob (F-statistic):} &  1.89e-73   \\\\\n",
       "\\textbf{Time:}             &     13:27:01     & \\textbf{  Log-Likelihood:    } &   -3199.5   \\\\\n",
       "\\textbf{No. Observations:} &         280      & \\textbf{  AIC:               } &     6431.   \\\\\n",
       "\\textbf{Df Residuals:}     &         264      & \\textbf{  BIC:               } &     6489.   \\\\\n",
       "\\textbf{Df Model:}         &          15      & \\textbf{                     } &             \\\\\n",
       "\\textbf{Covariance Type:}  &    nonrobust     & \\textbf{                     } &             \\\\\n",
       "\\bottomrule\n",
       "\\end{tabular}\n",
       "\\begin{tabular}{lcccccc}\n",
       "               & \\textbf{coef} & \\textbf{std err} & \\textbf{t} & \\textbf{P$> |$t$|$} & \\textbf{[0.025} & \\textbf{0.975]}  \\\\\n",
       "\\midrule\n",
       "\\textbf{const} &    2.617e+04  &     1366.178     &    19.158  &         0.000        &     2.35e+04    &     2.89e+04     \\\\\n",
       "\\textbf{x1}    &    1.296e+04  &     1446.333     &     8.958  &         0.000        &     1.01e+04    &     1.58e+04     \\\\\n",
       "\\textbf{x2}    &    4.131e+04  &     1763.861     &    23.422  &         0.000        &     3.78e+04    &     4.48e+04     \\\\\n",
       "\\textbf{x3}    &   -1.953e+04  &     1894.345     &   -10.312  &         0.000        &    -2.33e+04    &    -1.58e+04     \\\\\n",
       "\\textbf{x4}    &   -4750.1886  &     2252.833     &    -2.109  &         0.036        &    -9185.995    &     -314.382     \\\\\n",
       "\\textbf{x5}    &   -3625.3333  &     1796.309     &    -2.018  &         0.045        &    -7162.249    &      -88.418     \\\\\n",
       "\\textbf{x6}    &   -2.077e+04  &     2206.906     &    -9.413  &         0.000        &    -2.51e+04    &    -1.64e+04     \\\\\n",
       "\\textbf{x7}    &    -506.5224  &     1683.500     &    -0.301  &         0.764        &    -3821.318    &     2808.274     \\\\\n",
       "\\textbf{x8}    &    1081.4579  &     1739.686     &     0.622  &         0.535        &    -2343.968    &     4506.884     \\\\\n",
       "\\textbf{x9}    &   -1529.7429  &     1758.790     &    -0.870  &         0.385        &    -4992.784    &     1933.299     \\\\\n",
       "\\textbf{x10}   &   -2835.1989  &     1744.915     &    -1.625  &         0.105        &    -6270.920    &      600.522     \\\\\n",
       "\\textbf{x11}   &    -884.5498  &     1784.355     &    -0.496  &         0.621        &    -4397.929    &     2628.829     \\\\\n",
       "\\textbf{x12}   &    -926.6090  &     1775.452     &    -0.522  &         0.602        &    -4422.458    &     2569.240     \\\\\n",
       "\\textbf{x13}   &   -1182.5122  &     1946.416     &    -0.608  &         0.544        &    -5014.987    &     2649.962     \\\\\n",
       "\\textbf{x14}   &    1195.0669  &     1775.030     &     0.673  &         0.501        &    -2299.951    &     4690.085     \\\\\n",
       "\\textbf{x15}   &     212.5041  &     1892.859     &     0.112  &         0.911        &    -3514.517    &     3939.525     \\\\\n",
       "\\bottomrule\n",
       "\\end{tabular}\n",
       "\\begin{tabular}{lclc}\n",
       "\\textbf{Omnibus:}       & 85.892 & \\textbf{  Durbin-Watson:     } &     1.983  \\\\\n",
       "\\textbf{Prob(Omnibus):} &  0.000 & \\textbf{  Jarque-Bera (JB):  } &   525.558  \\\\\n",
       "\\textbf{Skew:}          &  1.081 & \\textbf{  Prob(JB):          } & 7.52e-115  \\\\\n",
       "\\textbf{Kurtosis:}      &  9.354 & \\textbf{  Cond. No.          } &      3.42  \\\\\n",
       "\\bottomrule\n",
       "\\end{tabular}\n",
       "%\\caption{OLS Regression Results}\n",
       "\\end{center}\n",
       "\n",
       "Notes: \\newline\n",
       " [1] Standard Errors assume that the covariance matrix of the errors is correctly specified."
      ],
      "text/plain": [
       "<class 'statsmodels.iolib.summary.Summary'>\n",
       "\"\"\"\n",
       "                            OLS Regression Results                            \n",
       "==============================================================================\n",
       "Dep. Variable:                 Profit   R-squared:                       0.763\n",
       "Model:                            OLS   Adj. R-squared:                  0.750\n",
       "Method:                 Least Squares   F-statistic:                     56.69\n",
       "Date:                Mon, 29 Sep 2025   Prob (F-statistic):           1.89e-73\n",
       "Time:                        13:27:01   Log-Likelihood:                -3199.5\n",
       "No. Observations:                 280   AIC:                             6431.\n",
       "Df Residuals:                     264   BIC:                             6489.\n",
       "Df Model:                          15                                         \n",
       "Covariance Type:            nonrobust                                         \n",
       "==============================================================================\n",
       "                 coef    std err          t      P>|t|      [0.025      0.975]\n",
       "------------------------------------------------------------------------------\n",
       "const       2.617e+04   1366.178     19.158      0.000    2.35e+04    2.89e+04\n",
       "x1          1.296e+04   1446.333      8.958      0.000    1.01e+04    1.58e+04\n",
       "x2          4.131e+04   1763.861     23.422      0.000    3.78e+04    4.48e+04\n",
       "x3         -1.953e+04   1894.345    -10.312      0.000   -2.33e+04   -1.58e+04\n",
       "x4         -4750.1886   2252.833     -2.109      0.036   -9185.995    -314.382\n",
       "x5         -3625.3333   1796.309     -2.018      0.045   -7162.249     -88.418\n",
       "x6         -2.077e+04   2206.906     -9.413      0.000   -2.51e+04   -1.64e+04\n",
       "x7          -506.5224   1683.500     -0.301      0.764   -3821.318    2808.274\n",
       "x8          1081.4579   1739.686      0.622      0.535   -2343.968    4506.884\n",
       "x9         -1529.7429   1758.790     -0.870      0.385   -4992.784    1933.299\n",
       "x10        -2835.1989   1744.915     -1.625      0.105   -6270.920     600.522\n",
       "x11         -884.5498   1784.355     -0.496      0.621   -4397.929    2628.829\n",
       "x12         -926.6090   1775.452     -0.522      0.602   -4422.458    2569.240\n",
       "x13        -1182.5122   1946.416     -0.608      0.544   -5014.987    2649.962\n",
       "x14         1195.0669   1775.030      0.673      0.501   -2299.951    4690.085\n",
       "x15          212.5041   1892.859      0.112      0.911   -3514.517    3939.525\n",
       "==============================================================================\n",
       "Omnibus:                       85.892   Durbin-Watson:                   1.983\n",
       "Prob(Omnibus):                  0.000   Jarque-Bera (JB):              525.558\n",
       "Skew:                           1.081   Prob(JB):                    7.52e-115\n",
       "Kurtosis:                       9.354   Cond. No.                         3.42\n",
       "==============================================================================\n",
       "\n",
       "Notes:\n",
       "[1] Standard Errors assume that the covariance matrix of the errors is correctly specified.\n",
       "\"\"\""
      ]
     },
     "execution_count": 261,
     "metadata": {},
     "output_type": "execute_result"
    }
   ],
   "source": [
    "# Sin penalización\n",
    "\n",
    "# Escalamiento\n",
    "scaler = StandardScaler().fit(X_train)\n",
    "X_scaled_train= scaler.transform(X_train)\n",
    "\n",
    "n=len(X_scaled_train)\n",
    "unos = np.ones([n,1])\n",
    "\n",
    "X = np.hstack([unos, X_scaled_train])\n",
    "ols = sm.OLS(y_train,X)\n",
    "results = ols.fit()\n",
    "results.summary()"
   ]
  },
  {
   "cell_type": "markdown",
   "id": "ee738916ec448868",
   "metadata": {},
   "source": [
    "**Interpretación Regresión sin penalización con datos de entrenamiento**\n",
    "\n",
    "* El modelo tiene un R^2 de 0.763 el cual nos dice que hay una variabilidad del profit del 76.3%\n",
    "* Units sold cuenta con un coeficiente positivo y con significancia estadistica, lo cual nos dice que a mayor volumen de ventas más profit\n",
    "* El precio efectivo también cuenta con un coeficiente positivo y con significancia estadistica, lo cual nos dice que precios netos más altos, ajustados por descuentos, incrementan el Profit.\n",
    "* Varios segmentos con significancia estadistica cuentan con coeficientes negativos lo cual nos dice que reducen el profit, segmentos como Enterprise, Government, Midmarket, Small Business reducen el Profit frente al segmento base Consumer.\n",
    "* Las variables de los paises no cuentan con signifciancia estadistica, lo cual nos dice que no afecta en el profit"
   ]
  },
  {
   "cell_type": "code",
   "execution_count": 262,
   "id": "99a14d11ca28c8f",
   "metadata": {
    "ExecuteTime": {
     "end_time": "2025-09-29T19:27:01.090122Z",
     "start_time": "2025-09-29T19:27:01.086952Z"
    }
   },
   "outputs": [
    {
     "name": "stdout",
     "output_type": "stream",
     "text": [
      "R2: 0.7631008110612786\n",
      "Constante: 26173.29235714285\n",
      "Coeficiente: [ 12949.65770228  41275.42041014 -19500.06439073  -4708.23589834\n",
      "  -3607.91095061 -20723.30285169   -507.2792443    1079.00610192\n",
      "  -1528.15779965  -2835.08640722   -880.45467747   -923.28484867\n",
      "  -1181.07156767   1193.00015638    212.11039169]\n"
     ]
    }
   ],
   "source": [
    "# Con penalización Ridge\n",
    "l2 = Ridge(alpha = 0.1)\n",
    "l2.fit(X_scaled_train, y_train)\n",
    "y_pred = l2.predict(X_scaled_train)\n",
    "r2 = r2_score(y_train, y_pred)\n",
    "\n",
    "print(f\"R2: {r2}\")\n",
    "print(f\"Constante: {l2.intercept_}\")\n",
    "print(f\"Coeficiente: {l2.coef_}\")"
   ]
  },
  {
   "cell_type": "code",
   "execution_count": 269,
   "id": "c05d53e80559f587",
   "metadata": {
    "ExecuteTime": {
     "end_time": "2025-09-29T19:28:20.654340Z",
     "start_time": "2025-09-29T19:28:20.649143Z"
    }
   },
   "outputs": [
    {
     "name": "stdout",
     "output_type": "stream",
     "text": [
      "R2: 0.7587058857788099\n",
      "Constante: 26173.29235714285\n",
      "Coeficiente: [ 12381.99983894  37997.41403372 -16806.36630231  -1431.94120792\n",
      "  -2323.32180427 -16687.75430187   -542.7572227     902.70979908\n",
      "  -1392.80851182  -2799.34577769   -590.21336339   -665.14842775\n",
      "  -1077.58877405   1009.2455994     143.37230504]\n"
     ]
    }
   ],
   "source": [
    "# Con penalización Ridge\n",
    "l2 = Ridge(alpha = 10)\n",
    "l2.fit(X_scaled_train, y_train)\n",
    "y_pred = l2.predict(X_scaled_train)\n",
    "r2 = r2_score(y_train, y_pred)\n",
    "\n",
    "print(f\"R2: {r2}\")\n",
    "print(f\"Constante: {l2.intercept_}\")\n",
    "print(f\"Coeficiente: {l2.coef_}\")"
   ]
  },
  {
   "cell_type": "code",
   "execution_count": 270,
   "id": "c61ee0f176b9adc2",
   "metadata": {
    "ExecuteTime": {
     "end_time": "2025-09-29T19:28:42.241201Z",
     "start_time": "2025-09-29T19:28:42.237636Z"
    }
   },
   "outputs": [
    {
     "name": "stdout",
     "output_type": "stream",
     "text": [
      "R2: 0.2874056019998592\n",
      "Constante: 26173.292357142855\n",
      "Coeficiente: [ 2713.29584518  6668.32442093 -2758.68089074  2993.52785088\n",
      " -1140.12352347   426.56608017   205.36977153   271.63588247\n",
      "  -324.71189541  -617.97840542  -255.88555866   425.30764077\n",
      "  -189.04413734    35.22615653  -463.02392109]\n"
     ]
    }
   ],
   "source": [
    "# Con penalización Ridge\n",
    "l2 = Ridge(alpha = 1000)\n",
    "l2.fit(X_scaled_train, y_train)\n",
    "y_pred = l2.predict(X_scaled_train)\n",
    "r2 = r2_score(y_train, y_pred)\n",
    "\n",
    "print(f\"R2: {r2}\")\n",
    "print(f\"Constante: {l2.intercept_}\")\n",
    "print(f\"Coeficiente: {l2.coef_}\")"
   ]
  },
  {
   "cell_type": "markdown",
   "id": "4830a7976e0b1206",
   "metadata": {},
   "source": [
    "**Interpretación Regresión con penalización Ridge (α = 0.1) con datos de entrenamiento**\n",
    "\n",
    "* El modelo tiene un R² de 0.763, lo que significa que explica el 76.3% de la variabilidad del Profit, prácticamente igual que el modelo sin penalización.\n",
    "* Units Sold mantiene un coeficiente positivo y fuerte, lo cual confirma que un mayor volumen de ventas incrementa significativamente el Profit.\n",
    "* Precio efectivo también conserva un coeficiente positivo y elevado, mostrando que precios netos más altos (después de descuentos) aumentan el Profit.\n",
    " * Los segmentos (Enterprise, Government, Midmarket y Small Business) presentan coeficientes negativos, lo que indica que reducen el Profit frente al segmento base (Consumer). Ridge suavizó ligeramente estos valores, pero el efecto sigue siendo claro.\n",
    "  * Las variables de países y productos no muestran un efecto relevante en el Profit, lo que confirma que su influencia es poco significativa en este modelo.\n"
   ]
  },
  {
   "cell_type": "code",
   "execution_count": 263,
   "id": "98e8810130408988",
   "metadata": {
    "ExecuteTime": {
     "end_time": "2025-09-29T19:27:01.119068Z",
     "start_time": "2025-09-29T19:27:01.109673Z"
    }
   },
   "outputs": [
    {
     "name": "stdout",
     "output_type": "stream",
     "text": [
      "R2: 0.7631014326594544\n",
      "Constante: 26173.29235714285\n",
      "Coeficiente: [ 12955.75519359  41313.22553347 -19533.00529492  -4749.31312881\n",
      "  -3624.81863301 -20772.2458942    -506.33696028   1081.43398179\n",
      "  -1529.49533529  -2834.96647978   -884.26135517   -926.36844669\n",
      "  -1182.28647016   1195.04028301    212.53204218]\n"
     ]
    }
   ],
   "source": [
    "# Con penalización Lasso\n",
    "l1 = Lasso(alpha = 0.1)\n",
    "l1.fit(X_scaled_train, y_train)\n",
    "y_pred = l1.predict(X_scaled_train)\n",
    "r2 = r2_score(y_train, y_pred)\n",
    "\n",
    "print(f\"R2: {r2}\")\n",
    "print(f\"Constante: {l1.intercept_}\")\n",
    "print(f\"Coeficiente: {l1.coef_}\")"
   ]
  },
  {
   "cell_type": "code",
   "execution_count": 271,
   "id": "4e5fc4a254836cf4",
   "metadata": {
    "ExecuteTime": {
     "end_time": "2025-09-29T19:29:17.603551Z",
     "start_time": "2025-09-29T19:29:17.600004Z"
    }
   },
   "outputs": [
    {
     "name": "stdout",
     "output_type": "stream",
     "text": [
      "R2: 0.7630990680056805\n",
      "Constante: 26173.29235714285\n",
      "Coeficiente: [ 12941.73896508  41271.557023   -19465.78702124  -4662.65685775\n",
      "  -3573.8711864  -20692.23578906   -487.97821249   1079.0687329\n",
      "  -1504.98825592  -2811.9536236    -855.69539672   -902.54821157\n",
      "  -1159.93154465   1192.40945933    215.30537291]\n"
     ]
    }
   ],
   "source": [
    "# Con penalización Lasso\n",
    "l1 = Lasso(alpha = 10)\n",
    "l1.fit(X_scaled_train, y_train)\n",
    "y_pred = l1.predict(X_scaled_train)\n",
    "r2 = r2_score(y_train, y_pred)\n",
    "\n",
    "print(f\"R2: {r2}\")\n",
    "print(f\"Constante: {l1.intercept_}\")\n",
    "print(f\"Coeficiente: {l1.coef_}\")"
   ]
  },
  {
   "cell_type": "code",
   "execution_count": 272,
   "id": "1f1f4a0dcece5589",
   "metadata": {
    "ExecuteTime": {
     "end_time": "2025-09-29T19:29:31.794787Z",
     "start_time": "2025-09-29T19:29:31.791259Z"
    }
   },
   "outputs": [
    {
     "name": "stdout",
     "output_type": "stream",
     "text": [
      "R2: 0.7526523332949329\n",
      "Constante: 26173.29235714285\n",
      "Coeficiente: [ 11683.72534053  38194.61273508 -15113.99013386      0.\n",
      "   -379.31586421 -15366.9031382      -0.            536.83928781\n",
      "     -0.          -1334.54872343     -0.             -0.\n",
      "     -0.            248.97072653      0.        ]\n"
     ]
    }
   ],
   "source": [
    "# Con penalización Lasso\n",
    "l1 = Lasso(alpha = 1000)\n",
    "l1.fit(X_scaled_train, y_train)\n",
    "y_pred = l1.predict(X_scaled_train)\n",
    "r2 = r2_score(y_train, y_pred)\n",
    "\n",
    "print(f\"R2: {r2}\")\n",
    "print(f\"Constante: {l1.intercept_}\")\n",
    "print(f\"Coeficiente: {l1.coef_}\")"
   ]
  },
  {
   "cell_type": "markdown",
   "id": "47c6b70b205b40e9",
   "metadata": {},
   "source": [
    "**Interpretación Regresión con penalización Lasso (α = 0.1) con datos de entrenamiento**\n",
    "\n",
    "* El modelo tiene un R² de 0.763, lo que significa que explica aproximadamente el 76.3% de la variabilidad del Profit, igual que en los modelos sin penalización y con Ridge.\n",
    "* Units Sold mantiene un coeficiente positivo y fuerte, confirmando que un mayor volumen de ventas incrementa significativamente el Profit.\n",
    "* El Precio efectivo conserva un coeficiente positivo y elevado, lo que indica que precios netos más altos (después de aplicar descuentos) aumentan el Profit.\n",
    "* Los segmentos (Enterprise, Government, Midmarket y Small Business) presentan coeficientes negativos, reduciendo el Profit en comparación con el segmento base (Consumer).\n",
    "* Las variables de países y productos muestran coeficientes más pequeños y cercanos a cero, lo que refleja que Lasso está reduciendo la relevancia de factores con poca contribución al modelo.\n",
    "* A diferencia de Ridge, Lasso puede llevar a cero coeficientes irrelevantes conforme le subamos el alpha, en este caso los coeficientes se reducen pero aún no desaparecen por completo hasta que le aumentamos el alpha.\n"
   ]
  },
  {
   "cell_type": "code",
   "execution_count": 264,
   "id": "74a7fe791020f736",
   "metadata": {
    "ExecuteTime": {
     "end_time": "2025-09-29T19:27:01.136053Z",
     "start_time": "2025-09-29T19:27:01.130684Z"
    }
   },
   "outputs": [
    {
     "name": "stdout",
     "output_type": "stream",
     "text": [
      "R2: 0.7554496103202067\n",
      "Constante: 26173.29235714285\n",
      "Coeficiente: [ 12175.42614909  36895.07797075 -15984.71130088   -475.20720913\n",
      "  -1983.70966417 -15435.5491577    -542.04681855    857.61078214\n",
      "  -1347.83836641  -2775.74546352   -517.76784366   -588.44323343\n",
      "  -1049.43699113    946.35728316    107.04535165]\n"
     ]
    }
   ],
   "source": [
    "# Penalización elastic net\n",
    "le = ElasticNet(alpha = 0.1)\n",
    "le.fit(X_scaled_train, y_train)\n",
    "y_pred = le.predict(X_scaled_train)\n",
    "r2 = r2_score(y_train, y_pred)\n",
    "\n",
    "print(f\"R2: {r2}\")\n",
    "print(f\"Constante: {le.intercept_}\")\n",
    "print(f\"Coeficiente: {le.coef_}\")"
   ]
  },
  {
   "cell_type": "code",
   "execution_count": 273,
   "id": "6bc66dcaf767d3d6",
   "metadata": {
    "ExecuteTime": {
     "end_time": "2025-09-29T19:30:25.159747Z",
     "start_time": "2025-09-29T19:30:25.156012Z"
    }
   },
   "outputs": [
    {
     "name": "stdout",
     "output_type": "stream",
     "text": [
      "R2: 0.22937913477938654\n",
      "Constante: 26173.292357142855\n",
      "Coeficiente: [ 2070.35759783  5095.6499744  -2138.30157991  2360.14762369\n",
      "  -959.41938095   434.21924901   180.79046741   209.82681122\n",
      "  -254.48887861  -468.48056532  -210.2783573    360.1603991\n",
      "  -143.278962      23.21004099  -375.37584155]\n"
     ]
    }
   ],
   "source": [
    "# Penalización elastic net\n",
    "le = ElasticNet(alpha = 10)\n",
    "le.fit(X_scaled_train, y_train)\n",
    "y_pred = le.predict(X_scaled_train)\n",
    "r2 = r2_score(y_train, y_pred)\n",
    "\n",
    "print(f\"R2: {r2}\")\n",
    "print(f\"Constante: {le.intercept_}\")\n",
    "print(f\"Coeficiente: {le.coef_}\")"
   ]
  },
  {
   "cell_type": "code",
   "execution_count": 274,
   "id": "eff1b7134cd008d5",
   "metadata": {
    "ExecuteTime": {
     "end_time": "2025-09-29T19:30:36.509718Z",
     "start_time": "2025-09-29T19:30:36.506550Z"
    }
   },
   "outputs": [
    {
     "name": "stdout",
     "output_type": "stream",
     "text": [
      "R2: 0.0031328791709303028\n",
      "Constante: 26173.292357142855\n",
      "Coeficiente: [ 24.01594284  61.38612478 -26.36516756  30.38202413 -14.27462351\n",
      "   8.39800245   2.20346165   1.61989847  -2.38566329  -4.56804674\n",
      "  -2.18593245   4.86016401  -0.81605984   0.          -4.39076572]\n"
     ]
    }
   ],
   "source": [
    "# Penalización elastic net\n",
    "le = ElasticNet(alpha = 1000)\n",
    "le.fit(X_scaled_train, y_train)\n",
    "y_pred = le.predict(X_scaled_train)\n",
    "r2 = r2_score(y_train, y_pred)\n",
    "\n",
    "print(f\"R2: {r2}\")\n",
    "print(f\"Constante: {le.intercept_}\")\n",
    "print(f\"Coeficiente: {le.coef_}\")"
   ]
  },
  {
   "cell_type": "markdown",
   "id": "ac756ab931f5e49c",
   "metadata": {},
   "source": [
    "**Interpretación Regresión con penalización Elastic Net (α = 0.1) con datos de entrenamiento**\n",
    "\n",
    "* El modelo tiene un R² de 0.755, lo que significa que explica aproximadamente el 75.5% de la variabilidad del Profit, ligeramente menor que en los modelos sin penalización, Ridge y Lasso.\n",
    "* Units Sold mantiene un coeficiente positivo y fuerte, confirmando que el volumen de ventas incrementa de forma significativa el Profit.\n",
    "* El Precio efectivo conserva un coeficiente positivo y elevado, mostrando que precios netos más altos, ajustados por descuentos, aumentan el Profit.\n",
    "* Los segmentos (Enterprise, Government, Midmarket y Small Business) siguen mostrando coeficientes negativos, reduciendo el Profit en comparación con el segmento base (Consumer). Sin embargo, Elastic Net los suaviza aún más respecto a Lasso y Ridge.\n",
    "* Las variables de países y productos son empujadas aún más cerca de cero, reforzando la idea de que su efecto sobre el Profit es poco relevante en este modelo.\n",
    "* Mientras más le subamos el alpha podemos ver como el modelo cambia drasticamente su R^2"
   ]
  },
  {
   "cell_type": "markdown",
   "id": "67942e1288395b81",
   "metadata": {},
   "source": [
    "### Regresiones utilizando datos de prueba\n"
   ]
  },
  {
   "cell_type": "code",
   "execution_count": 275,
   "id": "11f03174f9411d0e",
   "metadata": {
    "ExecuteTime": {
     "end_time": "2025-09-29T19:31:57.903402Z",
     "start_time": "2025-09-29T19:31:57.886114Z"
    }
   },
   "outputs": [
    {
     "data": {
      "text/html": [
       "<table class=\"simpletable\">\n",
       "<caption>OLS Regression Results</caption>\n",
       "<tr>\n",
       "  <th>Dep. Variable:</th>         <td>Profit</td>      <th>  R-squared:         </th> <td>   0.699</td>\n",
       "</tr>\n",
       "<tr>\n",
       "  <th>Model:</th>                   <td>OLS</td>       <th>  Adj. R-squared:    </th> <td>   0.688</td>\n",
       "</tr>\n",
       "<tr>\n",
       "  <th>Method:</th>             <td>Least Squares</td>  <th>  F-statistic:       </th> <td>   62.67</td>\n",
       "</tr>\n",
       "<tr>\n",
       "  <th>Date:</th>             <td>Mon, 29 Sep 2025</td> <th>  Prob (F-statistic):</th> <td>2.03e-95</td>\n",
       "</tr>\n",
       "<tr>\n",
       "  <th>Time:</th>                 <td>13:31:57</td>     <th>  Log-Likelihood:    </th> <td> -4800.8</td>\n",
       "</tr>\n",
       "<tr>\n",
       "  <th>No. Observations:</th>      <td>   420</td>      <th>  AIC:               </th> <td>   9634.</td>\n",
       "</tr>\n",
       "<tr>\n",
       "  <th>Df Residuals:</th>          <td>   404</td>      <th>  BIC:               </th> <td>   9698.</td>\n",
       "</tr>\n",
       "<tr>\n",
       "  <th>Df Model:</th>              <td>    15</td>      <th>                     </th>     <td> </td>   \n",
       "</tr>\n",
       "<tr>\n",
       "  <th>Covariance Type:</th>      <td>nonrobust</td>    <th>                     </th>     <td> </td>   \n",
       "</tr>\n",
       "</table>\n",
       "<table class=\"simpletable\">\n",
       "<tr>\n",
       "    <td></td>       <th>coef</th>     <th>std err</th>      <th>t</th>      <th>P>|t|</th>  <th>[0.025</th>    <th>0.975]</th>  \n",
       "</tr>\n",
       "<tr>\n",
       "  <th>const</th> <td> 2.277e+04</td> <td> 1108.581</td> <td>   20.544</td> <td> 0.000</td> <td> 2.06e+04</td> <td>  2.5e+04</td>\n",
       "</tr>\n",
       "<tr>\n",
       "  <th>x1</th>    <td> 1.224e+04</td> <td> 1129.408</td> <td>   10.836</td> <td> 0.000</td> <td>    1e+04</td> <td> 1.45e+04</td>\n",
       "</tr>\n",
       "<tr>\n",
       "  <th>x2</th>    <td> 3.687e+04</td> <td> 1498.010</td> <td>   24.615</td> <td> 0.000</td> <td> 3.39e+04</td> <td> 3.98e+04</td>\n",
       "</tr>\n",
       "<tr>\n",
       "  <th>x3</th>    <td>-1.803e+04</td> <td> 1543.797</td> <td>  -11.678</td> <td> 0.000</td> <td>-2.11e+04</td> <td> -1.5e+04</td>\n",
       "</tr>\n",
       "<tr>\n",
       "  <th>x4</th>    <td>-2776.8668</td> <td> 1804.418</td> <td>   -1.539</td> <td> 0.125</td> <td>-6324.088</td> <td>  770.354</td>\n",
       "</tr>\n",
       "<tr>\n",
       "  <th>x5</th>    <td>-2938.1331</td> <td> 1493.280</td> <td>   -1.968</td> <td> 0.050</td> <td>-5873.703</td> <td>   -2.563</td>\n",
       "</tr>\n",
       "<tr>\n",
       "  <th>x6</th>    <td>-1.634e+04</td> <td> 1859.100</td> <td>   -8.787</td> <td> 0.000</td> <td>   -2e+04</td> <td>-1.27e+04</td>\n",
       "</tr>\n",
       "<tr>\n",
       "  <th>x7</th>    <td> 2163.0945</td> <td> 1445.130</td> <td>    1.497</td> <td> 0.135</td> <td> -677.820</td> <td> 5004.009</td>\n",
       "</tr>\n",
       "<tr>\n",
       "  <th>x8</th>    <td> 2798.3813</td> <td> 1445.749</td> <td>    1.936</td> <td> 0.054</td> <td>  -43.749</td> <td> 5640.511</td>\n",
       "</tr>\n",
       "<tr>\n",
       "  <th>x9</th>    <td> 1076.5090</td> <td> 1422.056</td> <td>    0.757</td> <td> 0.449</td> <td>-1719.044</td> <td> 3872.062</td>\n",
       "</tr>\n",
       "<tr>\n",
       "  <th>x10</th>   <td>  491.5115</td> <td> 1410.660</td> <td>    0.348</td> <td> 0.728</td> <td>-2281.639</td> <td> 3264.662</td>\n",
       "</tr>\n",
       "<tr>\n",
       "  <th>x11</th>   <td>-1484.8338</td> <td> 1506.898</td> <td>   -0.985</td> <td> 0.325</td> <td>-4447.174</td> <td> 1477.506</td>\n",
       "</tr>\n",
       "<tr>\n",
       "  <th>x12</th>   <td> -892.9303</td> <td> 1506.781</td> <td>   -0.593</td> <td> 0.554</td> <td>-3855.041</td> <td> 2069.181</td>\n",
       "</tr>\n",
       "<tr>\n",
       "  <th>x13</th>   <td>  147.4676</td> <td> 1767.345</td> <td>    0.083</td> <td> 0.934</td> <td>-3326.874</td> <td> 3621.809</td>\n",
       "</tr>\n",
       "<tr>\n",
       "  <th>x14</th>   <td>-1026.1179</td> <td> 1580.701</td> <td>   -0.649</td> <td> 0.517</td> <td>-4133.545</td> <td> 2081.309</td>\n",
       "</tr>\n",
       "<tr>\n",
       "  <th>x15</th>   <td>  221.6500</td> <td> 1506.786</td> <td>    0.147</td> <td> 0.883</td> <td>-2740.471</td> <td> 3183.771</td>\n",
       "</tr>\n",
       "</table>\n",
       "<table class=\"simpletable\">\n",
       "<tr>\n",
       "  <th>Omnibus:</th>       <td>160.775</td> <th>  Durbin-Watson:     </th> <td>   2.028</td>\n",
       "</tr>\n",
       "<tr>\n",
       "  <th>Prob(Omnibus):</th> <td> 0.000</td>  <th>  Jarque-Bera (JB):  </th> <td>1496.604</td>\n",
       "</tr>\n",
       "<tr>\n",
       "  <th>Skew:</th>          <td> 1.363</td>  <th>  Prob(JB):          </th> <td>    0.00</td>\n",
       "</tr>\n",
       "<tr>\n",
       "  <th>Kurtosis:</th>      <td>11.837</td>  <th>  Cond. No.          </th> <td>    3.71</td>\n",
       "</tr>\n",
       "</table><br/><br/>Notes:<br/>[1] Standard Errors assume that the covariance matrix of the errors is correctly specified."
      ],
      "text/latex": [
       "\\begin{center}\n",
       "\\begin{tabular}{lclc}\n",
       "\\toprule\n",
       "\\textbf{Dep. Variable:}    &      Profit      & \\textbf{  R-squared:         } &     0.699   \\\\\n",
       "\\textbf{Model:}            &       OLS        & \\textbf{  Adj. R-squared:    } &     0.688   \\\\\n",
       "\\textbf{Method:}           &  Least Squares   & \\textbf{  F-statistic:       } &     62.67   \\\\\n",
       "\\textbf{Date:}             & Mon, 29 Sep 2025 & \\textbf{  Prob (F-statistic):} &  2.03e-95   \\\\\n",
       "\\textbf{Time:}             &     13:31:57     & \\textbf{  Log-Likelihood:    } &   -4800.8   \\\\\n",
       "\\textbf{No. Observations:} &         420      & \\textbf{  AIC:               } &     9634.   \\\\\n",
       "\\textbf{Df Residuals:}     &         404      & \\textbf{  BIC:               } &     9698.   \\\\\n",
       "\\textbf{Df Model:}         &          15      & \\textbf{                     } &             \\\\\n",
       "\\textbf{Covariance Type:}  &    nonrobust     & \\textbf{                     } &             \\\\\n",
       "\\bottomrule\n",
       "\\end{tabular}\n",
       "\\begin{tabular}{lcccccc}\n",
       "               & \\textbf{coef} & \\textbf{std err} & \\textbf{t} & \\textbf{P$> |$t$|$} & \\textbf{[0.025} & \\textbf{0.975]}  \\\\\n",
       "\\midrule\n",
       "\\textbf{const} &    2.277e+04  &     1108.581     &    20.544  &         0.000        &     2.06e+04    &      2.5e+04     \\\\\n",
       "\\textbf{x1}    &    1.224e+04  &     1129.408     &    10.836  &         0.000        &        1e+04    &     1.45e+04     \\\\\n",
       "\\textbf{x2}    &    3.687e+04  &     1498.010     &    24.615  &         0.000        &     3.39e+04    &     3.98e+04     \\\\\n",
       "\\textbf{x3}    &   -1.803e+04  &     1543.797     &   -11.678  &         0.000        &    -2.11e+04    &     -1.5e+04     \\\\\n",
       "\\textbf{x4}    &   -2776.8668  &     1804.418     &    -1.539  &         0.125        &    -6324.088    &      770.354     \\\\\n",
       "\\textbf{x5}    &   -2938.1331  &     1493.280     &    -1.968  &         0.050        &    -5873.703    &       -2.563     \\\\\n",
       "\\textbf{x6}    &   -1.634e+04  &     1859.100     &    -8.787  &         0.000        &       -2e+04    &    -1.27e+04     \\\\\n",
       "\\textbf{x7}    &    2163.0945  &     1445.130     &     1.497  &         0.135        &     -677.820    &     5004.009     \\\\\n",
       "\\textbf{x8}    &    2798.3813  &     1445.749     &     1.936  &         0.054        &      -43.749    &     5640.511     \\\\\n",
       "\\textbf{x9}    &    1076.5090  &     1422.056     &     0.757  &         0.449        &    -1719.044    &     3872.062     \\\\\n",
       "\\textbf{x10}   &     491.5115  &     1410.660     &     0.348  &         0.728        &    -2281.639    &     3264.662     \\\\\n",
       "\\textbf{x11}   &   -1484.8338  &     1506.898     &    -0.985  &         0.325        &    -4447.174    &     1477.506     \\\\\n",
       "\\textbf{x12}   &    -892.9303  &     1506.781     &    -0.593  &         0.554        &    -3855.041    &     2069.181     \\\\\n",
       "\\textbf{x13}   &     147.4676  &     1767.345     &     0.083  &         0.934        &    -3326.874    &     3621.809     \\\\\n",
       "\\textbf{x14}   &   -1026.1179  &     1580.701     &    -0.649  &         0.517        &    -4133.545    &     2081.309     \\\\\n",
       "\\textbf{x15}   &     221.6500  &     1506.786     &     0.147  &         0.883        &    -2740.471    &     3183.771     \\\\\n",
       "\\bottomrule\n",
       "\\end{tabular}\n",
       "\\begin{tabular}{lclc}\n",
       "\\textbf{Omnibus:}       & 160.775 & \\textbf{  Durbin-Watson:     } &    2.028  \\\\\n",
       "\\textbf{Prob(Omnibus):} &   0.000 & \\textbf{  Jarque-Bera (JB):  } & 1496.604  \\\\\n",
       "\\textbf{Skew:}          &   1.363 & \\textbf{  Prob(JB):          } &     0.00  \\\\\n",
       "\\textbf{Kurtosis:}      &  11.837 & \\textbf{  Cond. No.          } &     3.71  \\\\\n",
       "\\bottomrule\n",
       "\\end{tabular}\n",
       "%\\caption{OLS Regression Results}\n",
       "\\end{center}\n",
       "\n",
       "Notes: \\newline\n",
       " [1] Standard Errors assume that the covariance matrix of the errors is correctly specified."
      ],
      "text/plain": [
       "<class 'statsmodels.iolib.summary.Summary'>\n",
       "\"\"\"\n",
       "                            OLS Regression Results                            \n",
       "==============================================================================\n",
       "Dep. Variable:                 Profit   R-squared:                       0.699\n",
       "Model:                            OLS   Adj. R-squared:                  0.688\n",
       "Method:                 Least Squares   F-statistic:                     62.67\n",
       "Date:                Mon, 29 Sep 2025   Prob (F-statistic):           2.03e-95\n",
       "Time:                        13:31:57   Log-Likelihood:                -4800.8\n",
       "No. Observations:                 420   AIC:                             9634.\n",
       "Df Residuals:                     404   BIC:                             9698.\n",
       "Df Model:                          15                                         \n",
       "Covariance Type:            nonrobust                                         \n",
       "==============================================================================\n",
       "                 coef    std err          t      P>|t|      [0.025      0.975]\n",
       "------------------------------------------------------------------------------\n",
       "const       2.277e+04   1108.581     20.544      0.000    2.06e+04     2.5e+04\n",
       "x1          1.224e+04   1129.408     10.836      0.000       1e+04    1.45e+04\n",
       "x2          3.687e+04   1498.010     24.615      0.000    3.39e+04    3.98e+04\n",
       "x3         -1.803e+04   1543.797    -11.678      0.000   -2.11e+04    -1.5e+04\n",
       "x4         -2776.8668   1804.418     -1.539      0.125   -6324.088     770.354\n",
       "x5         -2938.1331   1493.280     -1.968      0.050   -5873.703      -2.563\n",
       "x6         -1.634e+04   1859.100     -8.787      0.000      -2e+04   -1.27e+04\n",
       "x7          2163.0945   1445.130      1.497      0.135    -677.820    5004.009\n",
       "x8          2798.3813   1445.749      1.936      0.054     -43.749    5640.511\n",
       "x9          1076.5090   1422.056      0.757      0.449   -1719.044    3872.062\n",
       "x10          491.5115   1410.660      0.348      0.728   -2281.639    3264.662\n",
       "x11        -1484.8338   1506.898     -0.985      0.325   -4447.174    1477.506\n",
       "x12         -892.9303   1506.781     -0.593      0.554   -3855.041    2069.181\n",
       "x13          147.4676   1767.345      0.083      0.934   -3326.874    3621.809\n",
       "x14        -1026.1179   1580.701     -0.649      0.517   -4133.545    2081.309\n",
       "x15          221.6500   1506.786      0.147      0.883   -2740.471    3183.771\n",
       "==============================================================================\n",
       "Omnibus:                      160.775   Durbin-Watson:                   2.028\n",
       "Prob(Omnibus):                  0.000   Jarque-Bera (JB):             1496.604\n",
       "Skew:                           1.363   Prob(JB):                         0.00\n",
       "Kurtosis:                      11.837   Cond. No.                         3.71\n",
       "==============================================================================\n",
       "\n",
       "Notes:\n",
       "[1] Standard Errors assume that the covariance matrix of the errors is correctly specified.\n",
       "\"\"\""
      ]
     },
     "execution_count": 275,
     "metadata": {},
     "output_type": "execute_result"
    }
   ],
   "source": [
    "# Sin penalización\n",
    "\n",
    "# Escalamiento\n",
    "scaler = StandardScaler().fit(X_test)\n",
    "X_scaled_test= scaler.transform(X_test)\n",
    "\n",
    "n=len(X_scaled_test)\n",
    "unos = np.ones([n,1])\n",
    "\n",
    "X = np.hstack([unos, X_scaled_test])\n",
    "ols = sm.OLS(y_test,X)\n",
    "results = ols.fit()\n",
    "results.summary()"
   ]
  },
  {
   "cell_type": "markdown",
   "id": "f832f923f7a9e93e",
   "metadata": {},
   "source": [
    "**Interpretación Regresión sin penalización con datos de prueba**\n",
    "\n",
    "* El modelo tiene un R² de 0.699, lo que significa que explica aproximadamente el 69.9% de la variabilidad del Profit.\n",
    "* Units Sold mantiene un coeficiente positivo y fuerte, confirmando que un mayor volumen de ventas incrementa el Profit.\n",
    "* El Precio efectivo conserva un coeficiente positivo y elevado, mostrando que precios netos más altos, ajustados por descuentos, aumentan el Profit.\n",
    "* Los segmentos Enterprise y Small Business presentan coeficientes negativos y significativos, lo que indica que reducen el Profit frente al segmento base (Consumer).\n",
    "* Otros segmentos como Government y Midmarket se acercan al ser significativos, pero no son concluyentes.\n",
    "* Las variables de países y productos no resultan significativas, lo que indica que no afectan de forma clara el Profit."
   ]
  },
  {
   "cell_type": "code",
   "execution_count": 266,
   "id": "9333ab2ff292e98c",
   "metadata": {
    "ExecuteTime": {
     "end_time": "2025-09-29T19:27:01.191072Z",
     "start_time": "2025-09-29T19:27:01.187582Z"
    }
   },
   "outputs": [
    {
     "name": "stdout",
     "output_type": "stream",
     "text": [
      "R2: 0.6994266816139776\n",
      "Constante: 22774.239119047626\n",
      "Coeficiente: [ 12234.74049737  36849.60150939 -18009.11808716  -2755.11833667\n",
      "  -2928.0567371  -16305.29081163   2161.90813173   2796.6679539\n",
      "   1074.07876232    490.70426879  -1486.5103126    -896.08573745\n",
      "    144.90544396  -1026.29702576    219.2515296 ]\n"
     ]
    }
   ],
   "source": [
    "# Con penalización Ridge\n",
    "l2 = Ridge(alpha = 0.1)\n",
    "l2.fit(X_scaled_test, y_test)\n",
    "y_pred = l2.predict(X_scaled_test)\n",
    "r2 = r2_score(y_test, y_pred)\n",
    "\n",
    "print(f\"R2: {r2}\")\n",
    "print(f\"Constante: {l2.intercept_}\")\n",
    "print(f\"Coeficiente: {l2.coef_}\")"
   ]
  },
  {
   "cell_type": "code",
   "execution_count": 276,
   "id": "849f4f0690d3c67",
   "metadata": {
    "ExecuteTime": {
     "end_time": "2025-09-29T19:32:51.324973Z",
     "start_time": "2025-09-29T19:32:51.321746Z"
    }
   },
   "outputs": [
    {
     "name": "stdout",
     "output_type": "stream",
     "text": [
      "R2: 0.6972749622969541\n",
      "Constante: 22774.239119047623\n",
      "Coeficiente: [ 1.18499656e+04  3.46681124e+04 -1.62940355e+04 -9.52051810e+02\n",
      " -2.12408535e+03 -1.37085960e+04  2.04805217e+03  2.63068301e+03\n",
      "  8.56549066e+02  4.13502692e+02 -1.59632760e+03 -1.13691667e+03\n",
      " -3.38956011e+01 -1.00538175e+03  4.53670924e+01]\n"
     ]
    }
   ],
   "source": [
    "# Con penalización Ridge\n",
    "l2 = Ridge(alpha = 10)\n",
    "l2.fit(X_scaled_test, y_test)\n",
    "y_pred = l2.predict(X_scaled_test)\n",
    "r2 = r2_score(y_test, y_pred)\n",
    "\n",
    "print(f\"R2: {r2}\")\n",
    "print(f\"Constante: {l2.intercept_}\")\n",
    "print(f\"Coeficiente: {l2.coef_}\")"
   ]
  },
  {
   "cell_type": "code",
   "execution_count": 277,
   "id": "48c4d702fc9b7aa4",
   "metadata": {
    "ExecuteTime": {
     "end_time": "2025-09-29T19:33:12.314963Z",
     "start_time": "2025-09-29T19:33:12.311692Z"
    }
   },
   "outputs": [
    {
     "name": "stdout",
     "output_type": "stream",
     "text": [
      "R2: 0.3176723822279358\n",
      "Constante: 22774.23911904762\n",
      "Coeficiente: [ 2809.78046981  7669.28035544 -3244.34636381  2519.09141899\n",
      " -1168.51489241  1317.51764157   434.40326421   318.99454436\n",
      "  -367.88054632   -99.98890631  -505.29379725  -772.29461105\n",
      "   104.99425362   411.50206756   -42.53280413]\n"
     ]
    }
   ],
   "source": [
    "# Con penalización Ridge\n",
    "l2 = Ridge(alpha = 1000)\n",
    "l2.fit(X_scaled_test, y_test)\n",
    "y_pred = l2.predict(X_scaled_test)\n",
    "r2 = r2_score(y_test, y_pred)\n",
    "\n",
    "print(f\"R2: {r2}\")\n",
    "print(f\"Constante: {l2.intercept_}\")\n",
    "print(f\"Coeficiente: {l2.coef_}\")"
   ]
  },
  {
   "cell_type": "markdown",
   "id": "37154af965cb46dc",
   "metadata": {},
   "source": [
    "**Interpretación Regresión con penalización Ridge (α = 0.1) con datos de prueba**\n",
    "\n",
    "* El modelo tiene un R² de 0.699, prácticamente igual al modelo sin penalización, lo que indica que mantiene el mismo poder explicativo.\n",
    "* Units Sold y Precio efectivo siguen siendo las variables más importantes con coeficientes positivos.\n",
    "* Los segmentos continúan mostrando efectos negativos.\n",
    "* Las variables de países y productos van cambiando mientras le aumentamos el alpha a la penalización, indicando que su efecto es poco relevante en la explicación del Profit.\n"
   ]
  },
  {
   "cell_type": "code",
   "execution_count": 267,
   "id": "83f8db44abc6ae99",
   "metadata": {
    "ExecuteTime": {
     "end_time": "2025-09-29T19:27:01.216988Z",
     "start_time": "2025-09-29T19:27:01.211257Z"
    }
   },
   "outputs": [
    {
     "name": "stdout",
     "output_type": "stream",
     "text": [
      "R2: 0.6994269552052952\n",
      "Constante: 22774.239119047626\n",
      "Coeficiente: [ 12238.62500893  36873.59245486 -18028.55497822  -2776.0982231\n",
      "  -2937.62075037 -16334.75403773   2162.68476629   2797.9888783\n",
      "   1076.06784812    491.11777829  -1484.75718658   -892.89701593\n",
      "    147.38890942  -1026.0022913     221.53898875]\n"
     ]
    }
   ],
   "source": [
    "# Con penalización Lasso\n",
    "l1 = Lasso(alpha = 0.1)\n",
    "l1.fit(X_scaled_test, y_test)\n",
    "y_pred = l1.predict(X_scaled_test)\n",
    "r2 = r2_score(y_test, y_pred)\n",
    "\n",
    "print(f\"R2: {r2}\")\n",
    "print(f\"Constante: {l1.intercept_}\")\n",
    "print(f\"Coeficiente: {l1.coef_}\")"
   ]
  },
  {
   "cell_type": "code",
   "execution_count": 278,
   "id": "2729a53cb40a9bec",
   "metadata": {
    "ExecuteTime": {
     "end_time": "2025-09-29T19:34:20.599492Z",
     "start_time": "2025-09-29T19:34:20.596508Z"
    }
   },
   "outputs": [
    {
     "name": "stdout",
     "output_type": "stream",
     "text": [
      "R2: 0.6994236826448916\n",
      "Constante: 22774.239119047626\n",
      "Coeficiente: [ 12225.04493469  36828.7777772  -17964.36357039  -2700.23679901\n",
      "  -2887.03891982 -16255.76258426   2122.11488858   2759.13387501\n",
      "   1032.38562623    452.12749231  -1476.96356307   -889.39424853\n",
      "    139.84215269  -1014.37910865    210.72028384]\n"
     ]
    }
   ],
   "source": [
    "# Con penalización Lasso\n",
    "l1 = Lasso(alpha = 10)\n",
    "l1.fit(X_scaled_test, y_test)\n",
    "y_pred = l1.predict(X_scaled_test)\n",
    "r2 = r2_score(y_test, y_pred)\n",
    "\n",
    "print(f\"R2: {r2}\")\n",
    "print(f\"Constante: {l1.intercept_}\")\n",
    "print(f\"Coeficiente: {l1.coef_}\")"
   ]
  },
  {
   "cell_type": "code",
   "execution_count": 279,
   "id": "e2de05d15f3988e9",
   "metadata": {
    "ExecuteTime": {
     "end_time": "2025-09-29T19:34:34.759406Z",
     "start_time": "2025-09-29T19:34:34.755613Z"
    }
   },
   "outputs": [
    {
     "name": "stdout",
     "output_type": "stream",
     "text": [
      "R2: 0.6879436509569838\n",
      "Constante: 22774.239119047623\n",
      "Coeficiente: [ 10828.44236821  33714.07359548 -14550.06840684      0.\n",
      "   -390.4751638  -11674.77793144    334.6014033     952.44638303\n",
      "     -0.             -0.           -310.98503296     -0.\n",
      "      0.             -0.              0.        ]\n"
     ]
    }
   ],
   "source": [
    "# Con penalización Lasso\n",
    "l1 = Lasso(alpha = 1000)\n",
    "l1.fit(X_scaled_test, y_test)\n",
    "y_pred = l1.predict(X_scaled_test)\n",
    "r2 = r2_score(y_test, y_pred)\n",
    "\n",
    "print(f\"R2: {r2}\")\n",
    "print(f\"Constante: {l1.intercept_}\")\n",
    "print(f\"Coeficiente: {l1.coef_}\")"
   ]
  },
  {
   "cell_type": "markdown",
   "id": "bf60cb8952e89b7b",
   "metadata": {},
   "source": [
    "**Interpretación Regresión con penalización Lasso (α = 0.1) con datos de prueba**\n",
    "\n",
    "* El modelo tiene un R² de 0.699, muy similar a OLS y Ridge, manteniendo el mismo poder explicativo.\n",
    "Units Sold y Precio efectivo mantienen coeficientes positivos y fuertes, confirmando su significancia como factores clave del Profit.\n",
    "* Los segmentos presentan coeficientes negativos, reduciendo el Profit en comparación con el segmento base (Consumer).\n",
    "* Las variables de países y productos muestran coeficientes aún más pequeños, reflejando que Lasso penaliza con mayor fuerza a las variables de menor relevancia, aunque no las eliminó hasta aumentarle el valor a alpha"
   ]
  },
  {
   "cell_type": "code",
   "execution_count": 268,
   "id": "e6acf6aa642ac1eb",
   "metadata": {
    "ExecuteTime": {
     "end_time": "2025-09-29T19:27:01.231293Z",
     "start_time": "2025-09-29T19:27:01.227507Z"
    }
   },
   "outputs": [
    {
     "name": "stdout",
     "output_type": "stream",
     "text": [
      "R2: 0.691845281997308\n",
      "Constante: 22774.239119047623\n",
      "Coeficiente: [ 11450.99826003  32672.18890867 -14858.92547902    455.70906651\n",
      "  -1551.78593048 -11517.33713779   1932.2364074    2458.71931801\n",
      "    659.56778639    336.66909883  -1636.73025393  -1294.52394001\n",
      "   -123.4831839    -932.50818717    -53.54663435]\n"
     ]
    }
   ],
   "source": [
    "# Penalización elastic net\n",
    "le = ElasticNet(alpha = 0.1)\n",
    "le.fit(X_scaled_test, y_test)\n",
    "y_pred = le.predict(X_scaled_test)\n",
    "r2 = r2_score(y_test, y_pred)\n",
    "\n",
    "print(f\"R2: {r2}\")\n",
    "print(f\"Constante: {le.intercept_}\")\n",
    "print(f\"Coeficiente: {le.coef_}\")"
   ]
  },
  {
   "cell_type": "code",
   "execution_count": 280,
   "id": "b80c4e32f3f059e4",
   "metadata": {
    "ExecuteTime": {
     "end_time": "2025-09-29T19:35:13.132668Z",
     "start_time": "2025-09-29T19:35:13.129617Z"
    }
   },
   "outputs": [
    {
     "name": "stdout",
     "output_type": "stream",
     "text": [
      "R2: 0.19854567630140973\n",
      "Constante: 22774.23911904762\n",
      "Coeficiente: [ 1495.02887306  4344.0360647  -1853.42477971  1486.08451851\n",
      "  -847.8116067   1038.18905908   245.95748476   166.41882542\n",
      "  -240.82409688   -65.14471182  -292.24376272  -461.86677074\n",
      "    63.48520983   314.12807465   -39.3818176 ]\n"
     ]
    }
   ],
   "source": [
    "# Penalización elastic net\n",
    "le = ElasticNet(alpha = 10)\n",
    "le.fit(X_scaled_test, y_test)\n",
    "y_pred = le.predict(X_scaled_test)\n",
    "r2 = r2_score(y_test, y_pred)\n",
    "\n",
    "print(f\"R2: {r2}\")\n",
    "print(f\"Constante: {le.intercept_}\")\n",
    "print(f\"Coeficiente: {le.coef_}\")"
   ]
  },
  {
   "cell_type": "code",
   "execution_count": 281,
   "id": "af4c9bf9e7043f80",
   "metadata": {
    "ExecuteTime": {
     "end_time": "2025-09-29T19:35:23.695308Z",
     "start_time": "2025-09-29T19:35:23.692080Z"
    }
   },
   "outputs": [
    {
     "name": "stdout",
     "output_type": "stream",
     "text": [
      "R2: 0.002676921871607507\n",
      "Constante: 22774.23911904762\n",
      "Coeficiente: [ 15.44519858  52.48174257 -21.85868232  17.76335711 -12.45208197\n",
      "  16.13815317   2.02732707   0.97154903  -2.41859877  -0.\n",
      "  -2.7083403   -4.97760164   0.           4.22981033  -0.        ]\n"
     ]
    }
   ],
   "source": [
    "# Penalización elastic net\n",
    "le = ElasticNet(alpha = 1000)\n",
    "le.fit(X_scaled_test, y_test)\n",
    "y_pred = le.predict(X_scaled_test)\n",
    "r2 = r2_score(y_test, y_pred)\n",
    "\n",
    "print(f\"R2: {r2}\")\n",
    "print(f\"Constante: {le.intercept_}\")\n",
    "print(f\"Coeficiente: {le.coef_}\")"
   ]
  },
  {
   "cell_type": "markdown",
   "id": "5aeb62b2a3b4fe83",
   "metadata": {},
   "source": [
    "**Interpretación Regresión con penalización Elastic Net (α = 0.1) con datos de prueba**\n",
    "\n",
    "* El modelo tiene un R² de 0.691, lo que significa que explica aproximadamente el 69.1% de la variabilidad del Profit, ligeramente menor que en OLS, Ridge y Lasso.\n",
    "* Units Sold mantiene un coeficiente positivo y fuerte, confirmando que el volumen de ventas incrementa de forma significativa el Profit.\n",
    "* El Precio efectivo conserva un coeficiente positivo y elevado, mostrando que precios netos más altos, ajustados por descuentos, aumentan el Profit.\n",
    "* Los segmentos (Enterprise, Government, Midmarket y Small Business) continúan mostrando coeficientes negativos, reduciendo el Profit en comparación con el segmento base (Consumer), aunque Elastic Net los suaviza más respecto a Ridge y Lasso.\n",
    "* Las variables de países y productos se acercan aún más cerca a cero, reforzando que su impacto en el Profit es poco relevante dentro del modelo."
   ]
  },
  {
   "cell_type": "markdown",
   "id": "4cf4fe71-dd4a-4e25-9c2f-813435799e99",
   "metadata": {},
   "source": [
    "---\n",
    "## Pipeline Diagrama\n",
    "<img src=\"Pipeline P01.png\">"
   ]
  },
  {
   "cell_type": "markdown",
   "id": "f4c25c426e7a6c3b",
   "metadata": {
    "jp-MarkdownHeadingCollapsed": true
   },
   "source": [
    "---\n",
    "\n",
    "## Comparaciones R2 de todos los modelos\n",
    "\n",
    "| Modelo   | Versión                                   | R² Entrenamiento | R² Prueba |\n",
    "|----------|-------------------------------------------|------------------|-----------|\n",
    "| Modelo 1 | Sin penalización                         | 1.0000           | 1.0000    |\n",
    "|          | Ridge (α=0.1)                            | 0.9979           | 0.9988    |\n",
    "|          | Lasso (α=0.1)                            | 0.9993           | 0.9996    |\n",
    "|          | ElasticNet (α=0.1)                       | 0.9492           | 0.9996    |\n",
    "| Modelo 2 | Sin penalización (Polinomial grado 2)    | 1.0000           | 0.9999    |\n",
    "|          | Ridge (α=0.1) (Polinomial grado 2)       | 0.9999           | 0.9994    |\n",
    "|          | Lasso (α=0.1) (Polinomial grado 2)       | 0.9999           | 0.9993    |\n",
    "|          | ElasticNet (α=0.1) (Polinomial grado 2)  | 0.9954           | 0.9814    |\n",
    "| Modelo 3 | Sin penalización                         | 0.7630           | 0.6990    |\n",
    "|          | Ridge (α=0.1)                            | 0.7631           | 0.6994    |\n",
    "|          | Lasso (α=0.1)                            | 0.7631           | 0.6994    |\n",
    "|          | ElasticNet (α=0.1)                       | 0.7554           | 0.6918    |\n",
    "\n",
    "###  Interpretación de los modelos según R²\n",
    "\n",
    "* **Modelo 1 (Lineal simple con variables básicas):**\n",
    "  * Tiene un **R^2 = 1 en entrenamiento y prueba** sin penalización, lo que indica un ajuste perfecto, aunque esto puede ser una señal de **sobreajuste**.\n",
    "  * Ridge y Lasso mantienen un ajuste casi perfecto, confirmando que el modelo es muy simple y los datos son fáciles de ajustar.\n",
    "  * ElasticNet reduce mucho el R^2 en entrenamiento (0.9492), pero en prueba sigue altísimo (0.9996), mostrando que la penalización evita sobreajuste en entrenamiento sin perder capacidad predictiva en prueba.\n",
    "\n",
    "* **Modelo 2 (Polinomial grado 2):**\n",
    "  * También muestra **R^2 ≈ 1 en entrenamiento y prueba** sin penalización, lo que nuevamente apunta a un posible **sobreajuste** por la mayor complejidad del polinomio.\n",
    "  * Ridge y Lasso logran mantener valores cercanos a 1, con un pequeño ajuste en los datos de prueba (0.9993–0.9994).\n",
    "  * ElasticNet penaliza más fuerte y reduce el R^2 en entrenamiento (0.9954) y sobre todo en prueba (0.9814), mostrando que introduce un mayor sesgo pero protege contra el exceso de complejidad.\n",
    "\n",
    "* **Modelo 3 (Lineal más simple y realista):**\n",
    "  * Aquí los R^2 bajan significativamente (**0.763 en entrenamiento y 0.699 en prueba** sin penalización), mostrando que este modelo **no explica toda la variabilidad** del profit, pero sí captura una parte razonable.\n",
    "  * Ridge y Lasso apenas cambian los resultados (0.763–0.699), lo cual indica que la regularización no aporta mucho valor porque el modelo ya es simple.\n",
    "  * ElasticNet reduce un poco el R^2 tanto en entrenamiento como en prueba, lo cual sugiere que está penalizando de más en un modelo que ya era parco.\n",
    "\n"
   ]
  },
  {
   "cell_type": "markdown",
   "id": "5b08443f",
   "metadata": {},
   "source": [
    "---"
   ]
  },
  {
   "cell_type": "markdown",
   "id": "e5dc74f9",
   "metadata": {},
   "source": [
    "# Conclusión General\n",
    "\n",
    "**Propósito del notebook.**  \n",
    "Buscamos predecir y entender **Profit** con tres enfoques de regresión (Lineal Múltiple, Polinomial g2 y Lineal Múltiple con *Precio Efectivo*), evaluando desempeño, significancia/estabilidad de coeficientes y el efecto de penalizaciones (Ridge, Lasso y Elastic Net). Con base en los resultados y las métricas, los objetivos **sí se cumplieron**.\n",
    "\n",
    "## 1) Regresión Lineal Múltiple (variables originales)\n",
    "- **Qué mostró:** desempeño **muy alto** y consistente. Con penalización, los coeficientes se estabilizan sin perder prácticamente ajuste.  \n",
    "- **Lectura:** aparecen señales de **multicolinealidad** (p-values inestables y betas sensibles a alpha), típico cuando las variables comerciales están fuertemente relacionadas.  \n",
    "- **Aporte a objetivos:** confirma que, con los datos “crudos”, el **Profit** se explica de forma casi determinística y la regularización ayuda a darle estabilidad al modelo.\n",
    "\n",
    "## 2) Regresión Polinomial (grado 2)\n",
    "- **Qué mostró:** el **mejor desempeño predictivo** del notebook. El modelo sin penalización llegó a **R^2 = 1** (y = 0.99999998 en prueba), lo que **al principio levantó la bandera de posible *overfit***. Al revisar penalizaciones (Ridge/Lasso/EN) el R² se mantuvo extraordinariamente alto, a la vez que se redujo la inestabilidad de los coeficientes.  \n",
    "- **Lectura:** las **no linealidades e interacciones** capturan muy bien la señal, pero también incrementan la colinealidad (alertas de diseño singular en OLS).  \n",
    "- **Aporte a objetivos:** demuestra que el componente no lineal es relevante para explicar Profit y que la regularización equilibra precisión y estabilidad.\n",
    "\n",
    "## 3) Lineal Múltiple con *Precio Efectivo* (variable obtenida)\n",
    "- **Qué mostró:** un ajuste **más moderado** (alrededor de 0.7 en test) pero con lectura más **limpia**: *Precio Efectivo* y **Units Sold** se consolidan como factores principales.  \n",
    "- **Lectura:** menor colinealidad percibida a cambio de menor R² que en los otros enfoques.  \n",
    "- **Aporte a objetivos:** ofrece **parsimonia** e interpretabilidad clara de los *drivers*, útil para análisis y comunicación.\n",
    "\n",
    "---\n",
    "\n",
    "## Comparación frente a lo que se buscaba\n",
    "- **Comparar enfoques:** logrado. Hay un gradiente claro:  \n",
    "  - **Máxima precisión:** Polinomial g2 (con la nota del posible *overfit* inicial cuando R² = 1).  \n",
    "  - **Precisión alta y estable:** Lineal Múltiple con regularización.  \n",
    "  - **Mayor simplicidad e interpretabilidad:** Lineal con *Precio Efectivo*.  \n",
    "- **Significancia/coeficientes y efecto de penalización:** documentado. Se observa cómo Ridge estabiliza, Lasso induce *sparsity* y Elastic Net equilibra ambos.  \n",
    "- **Pipeline y evaluación:** limpieza, escalamiento, *train/test* y análisis están completos y trazables.\n",
    "\n",
    "---\n",
    "\n",
    "## Cierre\n",
    "El notebook muestra que **Profit** puede modelarse con **altísima precisión** cuando se permiten interacciones (polinomial g2), y también que existe una alternativa **más sencilla y explicable** (precio efectivo + units) con desempeño razonable. En resumen, se cumplieron los objetivos: se compararon enfoques, se cuantificó su rendimiento y se entendieron los factores clave—dejando claro el balance entre **precisión**, **estabilidad** e **interpretabilidad**.\n"
   ]
  },
  {
   "cell_type": "markdown",
   "id": "64a4484e-1417-4116-b13f-72d0bbdf0c2d",
   "metadata": {},
   "source": [
    "---\n",
    "### Bibliografia APA"
   ]
  },
  {
   "cell_type": "code",
   "execution_count": null,
   "id": "61bf883053ec15f",
   "metadata": {
    "ExecuteTime": {
     "end_time": "2025-09-29T19:27:01.244069Z",
     "start_time": "2025-09-29T19:27:01.242634Z"
    }
   },
   "outputs": [],
   "source": []
  },
  {
   "cell_type": "markdown",
   "id": "844204f7-5aed-4f51-9f04-cd87c7e200b8",
   "metadata": {},
   "source": [
    "- IBM. (2021). What Is Linear Regression? Think. https://www.ibm.com/think/topics/linear-regression\n",
    "- Conzmr. (2017). Regresión Polinomial. Recuperado de https://conzmr.wordpress.com/2017/04/04/regresion-polinomial/\n",
    "- Camacho, C. (s. f.). Interacción en regresión [PDF]. Universidad de Sevilla. Recuperado de https://personal.us.es/vararey/interaccion1.pdf\n",
    "- ChReInvent. (s. f.). Valor-p en regresión lineal. Recuperado de https://www.chreinvent.com/recursos/valor-p-en-regresi%C3%B3n-lineal\n",
    "- IBM. (2023). ¿Qué es regression de ridge? Think. https://www.ibm.com/mx-es/think/topics/ridge-regression\n",
    "- Amat Rodrigo, J. (2016). Selección de predictores, regularización ridge, lasso, elasticnet y reducción de dimensionalidad. Cienciadedatos.net. Recuperado de https://cienciadedatos.net/documentos/31_seleccion_de_predictores_subset_selection_ridge_lasso_dimension_reduction\n",
    "- Interactive Chaos. (s. f.). Elastic Net. Recuperado de https://interactivechaos.com/es/manual/tutorial-de-machine-learning/elastic-net\n",
    "- Company Financials Dataset. (2023, August 1). https://www.kaggle.com/datasets/atharvaarya25/financials/data"
   ]
  },
  {
   "cell_type": "code",
   "execution_count": null,
   "id": "2b64b6ec-f40c-4e7a-84be-c39fff4144e6",
   "metadata": {
    "ExecuteTime": {
     "end_time": "2025-09-29T19:27:01.269284Z",
     "start_time": "2025-09-29T19:27:01.266651Z"
    }
   },
   "outputs": [],
   "source": []
  }
 ],
 "metadata": {
  "kernelspec": {
   "display_name": "Python 3 (ipykernel)",
   "language": "python",
   "name": "python3"
  },
  "language_info": {
   "codemirror_mode": {
    "name": "ipython",
    "version": 3
   },
   "file_extension": ".py",
   "mimetype": "text/x-python",
   "name": "python",
   "nbconvert_exporter": "python",
   "pygments_lexer": "ipython3",
   "version": "3.13.5"
  }
 },
 "nbformat": 4,
 "nbformat_minor": 5
}
