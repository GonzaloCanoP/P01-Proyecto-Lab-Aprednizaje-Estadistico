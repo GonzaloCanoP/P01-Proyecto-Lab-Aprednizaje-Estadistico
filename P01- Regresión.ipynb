{
 "cells": [
  {
   "cell_type": "markdown",
   "id": "c8497edb9b342b8e",
   "metadata": {},
   "source": [
    "# P01 - Regresión\n",
    "\n",
    "# Predicción y análisis de profit de ventas de bicicletas\n",
    "\n",
    "* Andre Esteban\n",
    "* Nicolas Martinez\n",
    "* Gonzalo Cano\n",
    "\n",
    "---"
   ]
  },
  {
   "cell_type": "markdown",
   "id": "6d8b4955fc1b547",
   "metadata": {},
   "source": [
    "## Objetivos\n",
    "\n",
    "**Objetivos generales:**\n",
    "\n",
    "El objetivo general de este proyecto es hacer un análisis de los datos de las ventas de una empresa que se dedica a vender bicicletas mediante la aplicación de modelos de regresión y técnicas de regularización, con el fin de identificar qué factores son los más relevantes para las ventas de la empresa y proponer modelos que nos permitan optimizar la toma de decisiones comerciales para la empresa.\n",
    "\n",
    "**Objetivos Específicos:**\n",
    "\n",
    "Para poder cumplir el objetivo del proyecto lo que se tendrá que hacer es lo siguiente:\n",
    "\n",
    "* Analizar el dataset de la empresa, identificando la estructura, que variables tenemos disponibles y la información relevante que aportan las muestras.\n",
    "\n",
    "* Limpiar y transformar los datos, ajustando las variables necesarias para que puedan usarse adecuadamente en los modelos de regresión.\n",
    "\n",
    "* Usar y comparar diferentes enfoques de regresión para evaluar el ajuste de los modelos a través de las métricas de desempeño.\n",
    "\n",
    "* Utilizar métodos de penalización para evaluar el impacto en la predicción y en la significancia de las variables.\n",
    "\n",
    "* Diseñar un Pipeline que incluya de forma estructurada todos los pasos que se realizaron para hacer el modelo.\n",
    "\n",
    "* Evaluar los valores estadísticos de los modelos y compararlos para identificar aquel modelo que tenga un mejor balance.\n",
    "\n",
    "* A partir de los resultados obtenidos concluir sobre la efectividad de los modelos y la relevancia de los factores en las ventas de la empresa.\n"
   ]
  },
  {
   "cell_type": "markdown",
   "id": "db062747c87f52fe",
   "metadata": {
    "jp-MarkdownHeadingCollapsed": true
   },
   "source": [
    "---\n",
    "## Marco Téorico\n",
    "\n",
    "La regresión lineal es una herramienta estadística que predice o estima el valor de una variable, llamada dependiente, en función de una o más variables independientes. Según IBM, busca ajustar una línea recta, o plano, si hay múltiples variables, que minimice la diferencia entre los valores reales y los valores predichos, mediante un método de “mínimos cuadrados”. Con ello genera una fórmula matemática interpretable que explica la relación entre variables. Esta técnica es usada en muchos ámbitos (negocios, ciencias sociales, ambientales) porque permite transformar datos en pronósticos útiles y entender cómo cambian los resultados cuando varían las variables explicativas. (IBM, 2021)\n",
    "\n",
    "$$ y = b_0 + b_1 x $$\n",
    "\n",
    "La regresión polinómial es una técnica estadística que extiende la regresión lineal al incluir potencias de la variable independiente x, lo que permite capturar relaciones no lineales con la variable dependiente y. Aunque el modelo describe curvas, sigue siendo lineal en sus parámetros y por ello se considera un caso especial de regresión lineal múltiple. Su objetivo es encontrar la mejor curva de ajuste, generalmente mediante mínimos cuadrados, para explicar fenómenos donde una recta no basta. Además, se aplican pruebas para elegir el grado adecuado del polinomio y se utilizan herramientas como intervalos de confianza, bondad de ajuste y análisis de residuos para validar el modelo. (Conzmr, 2017)\n",
    "\n",
    "$$ y = \\beta_0 + \\beta_1 x + \\beta_2 x^2 + \\beta_3 x^3 + \\cdots + \\beta_n x^n $$\n",
    "\n",
    "La interacción ocurre cuando el efecto de una variable explicativa sobre el resultado depende del nivel de otra variable. En otras palabras, dos o más factores no se suman de forma independiente, sino que se alteran mutuamente. Por ejemplo, el efecto de X sobre Y puede variar si otra variable Z toma distintos valores. En regresión se modela con un término multiplicativo (por ejemplo X*Z) y, si su coeficiente es significativo, eso indica que hay una interacción real entre esos factores. (Camacho, s.f)\n",
    "\n",
    "La significancia de factores se refiere a la comprobación estadística de si cada variable explicativa tiene un efecto real sobre la variable dependiente. En regresión, esto se hace mediante pruebas t, obteniendo p_values que indican la probabilidad de que ese efecto pueda ser cero por azar. Si el p-value es menor que un nivel de confianza, decimos que el factor es significativo. Esta evaluación ayuda a decidir qué variables quedan en el modelo final. (ChReInvent, s. f.)\n",
    "\n",
    "La regularización es una técnica para mejorar modelos de regresión evitando que los coeficientes se vuelvan demasiado grandes (lo que puede provocar sobreajuste). \n",
    "- Ridge (o regularización L2) agrega un término que penaliza la suma de los cuadrados de los coeficientes. Así los coeficientes grandes se reducen, pero ninguno llega a cero. (IBM, 2023)\n",
    "- Lasso (o regularización L1) penaliza la suma de los valores absolutos de los coeficientes. Esto puede forzar algunos coeficientes exactamente a cero, lo que equivale a una selección automática de variables. (Amat Rodrigo, 2016)\n",
    "-  ElasticNet combina ambas penalizaciones (L1 + L2). De esta forma hereda ventajas de Ridge (coeficientes estables frente a correlación) y de Lasso (puede poner coeficientes a cero). Se usa cuando hay muchas variables correlacionadas. (Interactive Chaos, s. f.)\n",
    "\n",
    "El tema elegido para proyecto se centra en evaluar la relación entre diferentes variables y las ventas de una empresa que se dedica a vender bicicletas mediante modelos de regresión lineal y sus variantes regularizadas (Ridge, Lasso y Elastic Net). El objetivo es identificar qué factores influyen de manera significativa en las ventas y cómo cambia el desempeño del modelo al aplicar distintas técnicas de regularización."
   ]
  },
  {
   "cell_type": "markdown",
   "id": "42379ed4450889b7",
   "metadata": {},
   "source": [
    "---\n",
    "## Análisis de dataset\n",
    "\n",
    "**¿De dónde viene?**\n",
    "\n",
    "El dataset proviene de la página de internet Kaggle, la cual es una página de internet donde se pueden encontrar muchos datasets para el análisis de datos, este dataset viene de un repositorio que se llama “Company Financials Dataset” creado por Atharva Arya\n",
    "\n",
    "**¿Qué contiene?**\n",
    "\n",
    "El dataset contiene datos de ventas y costos simulados de una empresa durante el año 2024, contiene información financiera de ventas de productos incluyendo lo siguiente:\n",
    "\n",
    "* Segmento de mercado\n",
    "\n",
    "* País de venta\n",
    "\n",
    "* Nombre y tipo del producto\n",
    "\n",
    "* Precio de manufactura y precio de venta\n",
    "\n",
    "* Unidades vendidas\n",
    "\n",
    "* Ventas brutas y netas\n",
    "\n",
    "* Costos de producción\n",
    "\n",
    "* Utilidades\n",
    "\n",
    "* Fechas\n",
    "\n",
    "**¿Qué información dan las muestras?**\n",
    "\n",
    "Cada fila del dataset es una muestra de transacción de ventas donde se puede ver el comportamiento del producto vendido en un país determinado, segmento y periodo, todo esto nos muestra el nivel de ventas alcanzado, la rentabilidad de cada producto, la relación entre lo vendido, precio, costos y utilidades\n",
    "\n",
    "**¿Qué se quiere analizar?**\n",
    "\n",
    "El objetivo es predecir y analizar las ventas de la empresa, entonces se requiere identificar qué factores son los que influyen más en las ventas, evaluar cómo cambian las utilidades según las variaciones en las variables y comparar los diferentes modelos de regresión para ver cuál es el que ofrece la mejor predicción\n",
    "\n",
    "**¿Qué variables se tienen que transformar para poder usarse en un modelo de regresión?**\n",
    "\n",
    "Primero se tienen que limpiar las variables numéricas que tienen caracteres especiales para poder convertirlos en valores numéricos y después transformar las variables categóricas, como el segmento de mercado, tipo de producto, país y el nombre del mes, transformarlas en variables dummies para poder hacer la regresión. También se van a tener que escalar o estandarizar los datos para mejorar la comparabilidad de los datos en los modelos."
   ]
  },
  {
   "cell_type": "code",
   "id": "cdb73ed03f1ac21d",
   "metadata": {
    "ExecuteTime": {
     "end_time": "2025-09-28T23:09:23.182169Z",
     "start_time": "2025-09-28T23:09:23.104367Z"
    }
   },
   "source": [
    "import pandas as pd\n",
    "\n",
    "data = pd.read_excel('DataSet_Proyecto.xlsx')\n",
    "# Quitar espacios extra en los nombres de columnas\n",
    "data.columns = data.columns.str.strip()\n",
    "data"
   ],
   "outputs": [
    {
     "data": {
      "text/plain": [
       "              Segment                   Country      Product Discount Band  \\\n",
       "0          Government                    Canada   Carretera          None    \n",
       "1          Government                   Germany   Carretera          None    \n",
       "2           Midmarket                    France   Carretera          None    \n",
       "3           Midmarket                   Germany   Carretera          None    \n",
       "4           Midmarket                    Mexico   Carretera          None    \n",
       "..                ...                       ...          ...           ...   \n",
       "695    Small Business                    France    Amarilla          High    \n",
       "696    Small Business                    Mexico    Amarilla          High    \n",
       "697        Government                    Mexico     Montana          High    \n",
       "698        Government                    Canada       Paseo          High    \n",
       "699  Channel Partners  United States of America         VTT          High    \n",
       "\n",
       "     Units Sold  Manufacturing Price  Sale Price     Gross Sales  \\\n",
       "0        1618.5                    3          20           32370   \n",
       "1        1321.0                    3          20           26420   \n",
       "2        2178.0                    3          15           32670   \n",
       "3         888.0                    3          15           13320   \n",
       "4        2470.0                    3          15           37050   \n",
       "..          ...                  ...         ...             ...   \n",
       "695      2475.0                  260         300   $7,42,500.00    \n",
       "696       546.0                  260         300   $1,63,800.00    \n",
       "697      1368.0                    5           7            9576   \n",
       "698       723.0                   10           7            5061   \n",
       "699      1806.0                  250          12           21672   \n",
       "\n",
       "          Discounts           Sales            COGS   Profit       Date  \\\n",
       "0                 0           32370           16185    16185 2014-01-01   \n",
       "1                 0           26420           13210    13210 2014-01-01   \n",
       "2                 0           32670           21780    10890 2014-06-01   \n",
       "3                 0           13320            8880     4440 2014-06-01   \n",
       "4                 0           37050           24700    12350 2014-06-01   \n",
       "..              ...             ...             ...      ...        ...   \n",
       "695   $1,11,375.00    $6,31,125.00    $6,18,750.00     12375 2014-03-01   \n",
       "696           24570   $1,39,230.00    $1,36,500.00      2730 2014-10-01   \n",
       "697          1436.4          8139.6            6840   1299.6 2014-02-01   \n",
       "698          759.15         4301.85            3615   686.85 2014-04-01   \n",
       "699          3250.8         18421.2            5418  13003.2 2014-05-01   \n",
       "\n",
       "     Month Number  Month Name  Year  \n",
       "0               1    January   2014  \n",
       "1               1    January   2014  \n",
       "2               6       June   2014  \n",
       "3               6       June   2014  \n",
       "4               6       June   2014  \n",
       "..            ...         ...   ...  \n",
       "695             3      March   2014  \n",
       "696            10    October   2014  \n",
       "697             2   February   2014  \n",
       "698             4      April   2014  \n",
       "699             5        May   2014  \n",
       "\n",
       "[700 rows x 16 columns]"
      ],
      "text/html": [
       "<div>\n",
       "<style scoped>\n",
       "    .dataframe tbody tr th:only-of-type {\n",
       "        vertical-align: middle;\n",
       "    }\n",
       "\n",
       "    .dataframe tbody tr th {\n",
       "        vertical-align: top;\n",
       "    }\n",
       "\n",
       "    .dataframe thead th {\n",
       "        text-align: right;\n",
       "    }\n",
       "</style>\n",
       "<table border=\"1\" class=\"dataframe\">\n",
       "  <thead>\n",
       "    <tr style=\"text-align: right;\">\n",
       "      <th></th>\n",
       "      <th>Segment</th>\n",
       "      <th>Country</th>\n",
       "      <th>Product</th>\n",
       "      <th>Discount Band</th>\n",
       "      <th>Units Sold</th>\n",
       "      <th>Manufacturing Price</th>\n",
       "      <th>Sale Price</th>\n",
       "      <th>Gross Sales</th>\n",
       "      <th>Discounts</th>\n",
       "      <th>Sales</th>\n",
       "      <th>COGS</th>\n",
       "      <th>Profit</th>\n",
       "      <th>Date</th>\n",
       "      <th>Month Number</th>\n",
       "      <th>Month Name</th>\n",
       "      <th>Year</th>\n",
       "    </tr>\n",
       "  </thead>\n",
       "  <tbody>\n",
       "    <tr>\n",
       "      <th>0</th>\n",
       "      <td>Government</td>\n",
       "      <td>Canada</td>\n",
       "      <td>Carretera</td>\n",
       "      <td>None</td>\n",
       "      <td>1618.5</td>\n",
       "      <td>3</td>\n",
       "      <td>20</td>\n",
       "      <td>32370</td>\n",
       "      <td>0</td>\n",
       "      <td>32370</td>\n",
       "      <td>16185</td>\n",
       "      <td>16185</td>\n",
       "      <td>2014-01-01</td>\n",
       "      <td>1</td>\n",
       "      <td>January</td>\n",
       "      <td>2014</td>\n",
       "    </tr>\n",
       "    <tr>\n",
       "      <th>1</th>\n",
       "      <td>Government</td>\n",
       "      <td>Germany</td>\n",
       "      <td>Carretera</td>\n",
       "      <td>None</td>\n",
       "      <td>1321.0</td>\n",
       "      <td>3</td>\n",
       "      <td>20</td>\n",
       "      <td>26420</td>\n",
       "      <td>0</td>\n",
       "      <td>26420</td>\n",
       "      <td>13210</td>\n",
       "      <td>13210</td>\n",
       "      <td>2014-01-01</td>\n",
       "      <td>1</td>\n",
       "      <td>January</td>\n",
       "      <td>2014</td>\n",
       "    </tr>\n",
       "    <tr>\n",
       "      <th>2</th>\n",
       "      <td>Midmarket</td>\n",
       "      <td>France</td>\n",
       "      <td>Carretera</td>\n",
       "      <td>None</td>\n",
       "      <td>2178.0</td>\n",
       "      <td>3</td>\n",
       "      <td>15</td>\n",
       "      <td>32670</td>\n",
       "      <td>0</td>\n",
       "      <td>32670</td>\n",
       "      <td>21780</td>\n",
       "      <td>10890</td>\n",
       "      <td>2014-06-01</td>\n",
       "      <td>6</td>\n",
       "      <td>June</td>\n",
       "      <td>2014</td>\n",
       "    </tr>\n",
       "    <tr>\n",
       "      <th>3</th>\n",
       "      <td>Midmarket</td>\n",
       "      <td>Germany</td>\n",
       "      <td>Carretera</td>\n",
       "      <td>None</td>\n",
       "      <td>888.0</td>\n",
       "      <td>3</td>\n",
       "      <td>15</td>\n",
       "      <td>13320</td>\n",
       "      <td>0</td>\n",
       "      <td>13320</td>\n",
       "      <td>8880</td>\n",
       "      <td>4440</td>\n",
       "      <td>2014-06-01</td>\n",
       "      <td>6</td>\n",
       "      <td>June</td>\n",
       "      <td>2014</td>\n",
       "    </tr>\n",
       "    <tr>\n",
       "      <th>4</th>\n",
       "      <td>Midmarket</td>\n",
       "      <td>Mexico</td>\n",
       "      <td>Carretera</td>\n",
       "      <td>None</td>\n",
       "      <td>2470.0</td>\n",
       "      <td>3</td>\n",
       "      <td>15</td>\n",
       "      <td>37050</td>\n",
       "      <td>0</td>\n",
       "      <td>37050</td>\n",
       "      <td>24700</td>\n",
       "      <td>12350</td>\n",
       "      <td>2014-06-01</td>\n",
       "      <td>6</td>\n",
       "      <td>June</td>\n",
       "      <td>2014</td>\n",
       "    </tr>\n",
       "    <tr>\n",
       "      <th>...</th>\n",
       "      <td>...</td>\n",
       "      <td>...</td>\n",
       "      <td>...</td>\n",
       "      <td>...</td>\n",
       "      <td>...</td>\n",
       "      <td>...</td>\n",
       "      <td>...</td>\n",
       "      <td>...</td>\n",
       "      <td>...</td>\n",
       "      <td>...</td>\n",
       "      <td>...</td>\n",
       "      <td>...</td>\n",
       "      <td>...</td>\n",
       "      <td>...</td>\n",
       "      <td>...</td>\n",
       "      <td>...</td>\n",
       "    </tr>\n",
       "    <tr>\n",
       "      <th>695</th>\n",
       "      <td>Small Business</td>\n",
       "      <td>France</td>\n",
       "      <td>Amarilla</td>\n",
       "      <td>High</td>\n",
       "      <td>2475.0</td>\n",
       "      <td>260</td>\n",
       "      <td>300</td>\n",
       "      <td>$7,42,500.00</td>\n",
       "      <td>$1,11,375.00</td>\n",
       "      <td>$6,31,125.00</td>\n",
       "      <td>$6,18,750.00</td>\n",
       "      <td>12375</td>\n",
       "      <td>2014-03-01</td>\n",
       "      <td>3</td>\n",
       "      <td>March</td>\n",
       "      <td>2014</td>\n",
       "    </tr>\n",
       "    <tr>\n",
       "      <th>696</th>\n",
       "      <td>Small Business</td>\n",
       "      <td>Mexico</td>\n",
       "      <td>Amarilla</td>\n",
       "      <td>High</td>\n",
       "      <td>546.0</td>\n",
       "      <td>260</td>\n",
       "      <td>300</td>\n",
       "      <td>$1,63,800.00</td>\n",
       "      <td>24570</td>\n",
       "      <td>$1,39,230.00</td>\n",
       "      <td>$1,36,500.00</td>\n",
       "      <td>2730</td>\n",
       "      <td>2014-10-01</td>\n",
       "      <td>10</td>\n",
       "      <td>October</td>\n",
       "      <td>2014</td>\n",
       "    </tr>\n",
       "    <tr>\n",
       "      <th>697</th>\n",
       "      <td>Government</td>\n",
       "      <td>Mexico</td>\n",
       "      <td>Montana</td>\n",
       "      <td>High</td>\n",
       "      <td>1368.0</td>\n",
       "      <td>5</td>\n",
       "      <td>7</td>\n",
       "      <td>9576</td>\n",
       "      <td>1436.4</td>\n",
       "      <td>8139.6</td>\n",
       "      <td>6840</td>\n",
       "      <td>1299.6</td>\n",
       "      <td>2014-02-01</td>\n",
       "      <td>2</td>\n",
       "      <td>February</td>\n",
       "      <td>2014</td>\n",
       "    </tr>\n",
       "    <tr>\n",
       "      <th>698</th>\n",
       "      <td>Government</td>\n",
       "      <td>Canada</td>\n",
       "      <td>Paseo</td>\n",
       "      <td>High</td>\n",
       "      <td>723.0</td>\n",
       "      <td>10</td>\n",
       "      <td>7</td>\n",
       "      <td>5061</td>\n",
       "      <td>759.15</td>\n",
       "      <td>4301.85</td>\n",
       "      <td>3615</td>\n",
       "      <td>686.85</td>\n",
       "      <td>2014-04-01</td>\n",
       "      <td>4</td>\n",
       "      <td>April</td>\n",
       "      <td>2014</td>\n",
       "    </tr>\n",
       "    <tr>\n",
       "      <th>699</th>\n",
       "      <td>Channel Partners</td>\n",
       "      <td>United States of America</td>\n",
       "      <td>VTT</td>\n",
       "      <td>High</td>\n",
       "      <td>1806.0</td>\n",
       "      <td>250</td>\n",
       "      <td>12</td>\n",
       "      <td>21672</td>\n",
       "      <td>3250.8</td>\n",
       "      <td>18421.2</td>\n",
       "      <td>5418</td>\n",
       "      <td>13003.2</td>\n",
       "      <td>2014-05-01</td>\n",
       "      <td>5</td>\n",
       "      <td>May</td>\n",
       "      <td>2014</td>\n",
       "    </tr>\n",
       "  </tbody>\n",
       "</table>\n",
       "<p>700 rows × 16 columns</p>\n",
       "</div>"
      ]
     },
     "execution_count": 13,
     "metadata": {},
     "output_type": "execute_result"
    }
   ],
   "execution_count": 13
  },
  {
   "cell_type": "code",
   "id": "41b1da6e7cf02d44",
   "metadata": {
    "ExecuteTime": {
     "end_time": "2025-09-28T23:09:23.231602Z",
     "start_time": "2025-09-28T23:09:23.225766Z"
    }
   },
   "source": [
    "# Quitar columnas irrelevantes para predecir nuestras ventas\n",
    "data = data.drop(columns=['Discount Band','Date','Month Name'])\n",
    "data"
   ],
   "outputs": [
    {
     "data": {
      "text/plain": [
       "              Segment                   Country      Product  Units Sold  \\\n",
       "0          Government                    Canada   Carretera       1618.5   \n",
       "1          Government                   Germany   Carretera       1321.0   \n",
       "2           Midmarket                    France   Carretera       2178.0   \n",
       "3           Midmarket                   Germany   Carretera        888.0   \n",
       "4           Midmarket                    Mexico   Carretera       2470.0   \n",
       "..                ...                       ...          ...         ...   \n",
       "695    Small Business                    France    Amarilla       2475.0   \n",
       "696    Small Business                    Mexico    Amarilla        546.0   \n",
       "697        Government                    Mexico     Montana       1368.0   \n",
       "698        Government                    Canada       Paseo        723.0   \n",
       "699  Channel Partners  United States of America         VTT       1806.0   \n",
       "\n",
       "     Manufacturing Price  Sale Price     Gross Sales       Discounts  \\\n",
       "0                      3          20           32370               0   \n",
       "1                      3          20           26420               0   \n",
       "2                      3          15           32670               0   \n",
       "3                      3          15           13320               0   \n",
       "4                      3          15           37050               0   \n",
       "..                   ...         ...             ...             ...   \n",
       "695                  260         300   $7,42,500.00    $1,11,375.00    \n",
       "696                  260         300   $1,63,800.00            24570   \n",
       "697                    5           7            9576          1436.4   \n",
       "698                   10           7            5061          759.15   \n",
       "699                  250          12           21672          3250.8   \n",
       "\n",
       "              Sales            COGS   Profit  Month Number  Year  \n",
       "0             32370           16185    16185             1  2014  \n",
       "1             26420           13210    13210             1  2014  \n",
       "2             32670           21780    10890             6  2014  \n",
       "3             13320            8880     4440             6  2014  \n",
       "4             37050           24700    12350             6  2014  \n",
       "..              ...             ...      ...           ...   ...  \n",
       "695   $6,31,125.00    $6,18,750.00     12375             3  2014  \n",
       "696   $1,39,230.00    $1,36,500.00      2730            10  2014  \n",
       "697          8139.6            6840   1299.6             2  2014  \n",
       "698         4301.85            3615   686.85             4  2014  \n",
       "699         18421.2            5418  13003.2             5  2014  \n",
       "\n",
       "[700 rows x 13 columns]"
      ],
      "text/html": [
       "<div>\n",
       "<style scoped>\n",
       "    .dataframe tbody tr th:only-of-type {\n",
       "        vertical-align: middle;\n",
       "    }\n",
       "\n",
       "    .dataframe tbody tr th {\n",
       "        vertical-align: top;\n",
       "    }\n",
       "\n",
       "    .dataframe thead th {\n",
       "        text-align: right;\n",
       "    }\n",
       "</style>\n",
       "<table border=\"1\" class=\"dataframe\">\n",
       "  <thead>\n",
       "    <tr style=\"text-align: right;\">\n",
       "      <th></th>\n",
       "      <th>Segment</th>\n",
       "      <th>Country</th>\n",
       "      <th>Product</th>\n",
       "      <th>Units Sold</th>\n",
       "      <th>Manufacturing Price</th>\n",
       "      <th>Sale Price</th>\n",
       "      <th>Gross Sales</th>\n",
       "      <th>Discounts</th>\n",
       "      <th>Sales</th>\n",
       "      <th>COGS</th>\n",
       "      <th>Profit</th>\n",
       "      <th>Month Number</th>\n",
       "      <th>Year</th>\n",
       "    </tr>\n",
       "  </thead>\n",
       "  <tbody>\n",
       "    <tr>\n",
       "      <th>0</th>\n",
       "      <td>Government</td>\n",
       "      <td>Canada</td>\n",
       "      <td>Carretera</td>\n",
       "      <td>1618.5</td>\n",
       "      <td>3</td>\n",
       "      <td>20</td>\n",
       "      <td>32370</td>\n",
       "      <td>0</td>\n",
       "      <td>32370</td>\n",
       "      <td>16185</td>\n",
       "      <td>16185</td>\n",
       "      <td>1</td>\n",
       "      <td>2014</td>\n",
       "    </tr>\n",
       "    <tr>\n",
       "      <th>1</th>\n",
       "      <td>Government</td>\n",
       "      <td>Germany</td>\n",
       "      <td>Carretera</td>\n",
       "      <td>1321.0</td>\n",
       "      <td>3</td>\n",
       "      <td>20</td>\n",
       "      <td>26420</td>\n",
       "      <td>0</td>\n",
       "      <td>26420</td>\n",
       "      <td>13210</td>\n",
       "      <td>13210</td>\n",
       "      <td>1</td>\n",
       "      <td>2014</td>\n",
       "    </tr>\n",
       "    <tr>\n",
       "      <th>2</th>\n",
       "      <td>Midmarket</td>\n",
       "      <td>France</td>\n",
       "      <td>Carretera</td>\n",
       "      <td>2178.0</td>\n",
       "      <td>3</td>\n",
       "      <td>15</td>\n",
       "      <td>32670</td>\n",
       "      <td>0</td>\n",
       "      <td>32670</td>\n",
       "      <td>21780</td>\n",
       "      <td>10890</td>\n",
       "      <td>6</td>\n",
       "      <td>2014</td>\n",
       "    </tr>\n",
       "    <tr>\n",
       "      <th>3</th>\n",
       "      <td>Midmarket</td>\n",
       "      <td>Germany</td>\n",
       "      <td>Carretera</td>\n",
       "      <td>888.0</td>\n",
       "      <td>3</td>\n",
       "      <td>15</td>\n",
       "      <td>13320</td>\n",
       "      <td>0</td>\n",
       "      <td>13320</td>\n",
       "      <td>8880</td>\n",
       "      <td>4440</td>\n",
       "      <td>6</td>\n",
       "      <td>2014</td>\n",
       "    </tr>\n",
       "    <tr>\n",
       "      <th>4</th>\n",
       "      <td>Midmarket</td>\n",
       "      <td>Mexico</td>\n",
       "      <td>Carretera</td>\n",
       "      <td>2470.0</td>\n",
       "      <td>3</td>\n",
       "      <td>15</td>\n",
       "      <td>37050</td>\n",
       "      <td>0</td>\n",
       "      <td>37050</td>\n",
       "      <td>24700</td>\n",
       "      <td>12350</td>\n",
       "      <td>6</td>\n",
       "      <td>2014</td>\n",
       "    </tr>\n",
       "    <tr>\n",
       "      <th>...</th>\n",
       "      <td>...</td>\n",
       "      <td>...</td>\n",
       "      <td>...</td>\n",
       "      <td>...</td>\n",
       "      <td>...</td>\n",
       "      <td>...</td>\n",
       "      <td>...</td>\n",
       "      <td>...</td>\n",
       "      <td>...</td>\n",
       "      <td>...</td>\n",
       "      <td>...</td>\n",
       "      <td>...</td>\n",
       "      <td>...</td>\n",
       "    </tr>\n",
       "    <tr>\n",
       "      <th>695</th>\n",
       "      <td>Small Business</td>\n",
       "      <td>France</td>\n",
       "      <td>Amarilla</td>\n",
       "      <td>2475.0</td>\n",
       "      <td>260</td>\n",
       "      <td>300</td>\n",
       "      <td>$7,42,500.00</td>\n",
       "      <td>$1,11,375.00</td>\n",
       "      <td>$6,31,125.00</td>\n",
       "      <td>$6,18,750.00</td>\n",
       "      <td>12375</td>\n",
       "      <td>3</td>\n",
       "      <td>2014</td>\n",
       "    </tr>\n",
       "    <tr>\n",
       "      <th>696</th>\n",
       "      <td>Small Business</td>\n",
       "      <td>Mexico</td>\n",
       "      <td>Amarilla</td>\n",
       "      <td>546.0</td>\n",
       "      <td>260</td>\n",
       "      <td>300</td>\n",
       "      <td>$1,63,800.00</td>\n",
       "      <td>24570</td>\n",
       "      <td>$1,39,230.00</td>\n",
       "      <td>$1,36,500.00</td>\n",
       "      <td>2730</td>\n",
       "      <td>10</td>\n",
       "      <td>2014</td>\n",
       "    </tr>\n",
       "    <tr>\n",
       "      <th>697</th>\n",
       "      <td>Government</td>\n",
       "      <td>Mexico</td>\n",
       "      <td>Montana</td>\n",
       "      <td>1368.0</td>\n",
       "      <td>5</td>\n",
       "      <td>7</td>\n",
       "      <td>9576</td>\n",
       "      <td>1436.4</td>\n",
       "      <td>8139.6</td>\n",
       "      <td>6840</td>\n",
       "      <td>1299.6</td>\n",
       "      <td>2</td>\n",
       "      <td>2014</td>\n",
       "    </tr>\n",
       "    <tr>\n",
       "      <th>698</th>\n",
       "      <td>Government</td>\n",
       "      <td>Canada</td>\n",
       "      <td>Paseo</td>\n",
       "      <td>723.0</td>\n",
       "      <td>10</td>\n",
       "      <td>7</td>\n",
       "      <td>5061</td>\n",
       "      <td>759.15</td>\n",
       "      <td>4301.85</td>\n",
       "      <td>3615</td>\n",
       "      <td>686.85</td>\n",
       "      <td>4</td>\n",
       "      <td>2014</td>\n",
       "    </tr>\n",
       "    <tr>\n",
       "      <th>699</th>\n",
       "      <td>Channel Partners</td>\n",
       "      <td>United States of America</td>\n",
       "      <td>VTT</td>\n",
       "      <td>1806.0</td>\n",
       "      <td>250</td>\n",
       "      <td>12</td>\n",
       "      <td>21672</td>\n",
       "      <td>3250.8</td>\n",
       "      <td>18421.2</td>\n",
       "      <td>5418</td>\n",
       "      <td>13003.2</td>\n",
       "      <td>5</td>\n",
       "      <td>2014</td>\n",
       "    </tr>\n",
       "  </tbody>\n",
       "</table>\n",
       "<p>700 rows × 13 columns</p>\n",
       "</div>"
      ]
     },
     "execution_count": 14,
     "metadata": {},
     "output_type": "execute_result"
    }
   ],
   "execution_count": 14
  },
  {
   "cell_type": "code",
   "id": "e313b82e1c3236",
   "metadata": {
    "ExecuteTime": {
     "end_time": "2025-09-28T23:09:23.355392Z",
     "start_time": "2025-09-28T23:09:23.346141Z"
    }
   },
   "source": [
    "# Quitamos las comas y signos de las columnas\n",
    "cols_a_convertir = ['Units Sold', 'Manufacturing Price', 'Sale Price', 'Gross Sales','Sales','COGS','Profit','Discounts']\n",
    "\n",
    "# Reemplazamos $ y comas en todas las columnas seleccionadas\n",
    "data[cols_a_convertir] = data[cols_a_convertir].replace('[\\$,]', '', regex=True).astype(float)\n",
    "data"
   ],
   "outputs": [
    {
     "name": "stderr",
     "output_type": "stream",
     "text": [
      "<>:5: SyntaxWarning: invalid escape sequence '\\$'\n",
      "<>:5: SyntaxWarning: invalid escape sequence '\\$'\n",
      "/var/folders/20/xvvxf3fd0bsc8mhjgvpylzzc0000gn/T/ipykernel_25066/3704823260.py:5: SyntaxWarning: invalid escape sequence '\\$'\n",
      "  data[cols_a_convertir] = data[cols_a_convertir].replace('[\\$,]', '', regex=True).astype(float)\n"
     ]
    },
    {
     "data": {
      "text/plain": [
       "              Segment                   Country      Product  Units Sold  \\\n",
       "0          Government                    Canada   Carretera       1618.5   \n",
       "1          Government                   Germany   Carretera       1321.0   \n",
       "2           Midmarket                    France   Carretera       2178.0   \n",
       "3           Midmarket                   Germany   Carretera        888.0   \n",
       "4           Midmarket                    Mexico   Carretera       2470.0   \n",
       "..                ...                       ...          ...         ...   \n",
       "695    Small Business                    France    Amarilla       2475.0   \n",
       "696    Small Business                    Mexico    Amarilla        546.0   \n",
       "697        Government                    Mexico     Montana       1368.0   \n",
       "698        Government                    Canada       Paseo        723.0   \n",
       "699  Channel Partners  United States of America         VTT       1806.0   \n",
       "\n",
       "     Manufacturing Price  Sale Price  Gross Sales  Discounts      Sales  \\\n",
       "0                    3.0        20.0      32370.0       0.00   32370.00   \n",
       "1                    3.0        20.0      26420.0       0.00   26420.00   \n",
       "2                    3.0        15.0      32670.0       0.00   32670.00   \n",
       "3                    3.0        15.0      13320.0       0.00   13320.00   \n",
       "4                    3.0        15.0      37050.0       0.00   37050.00   \n",
       "..                   ...         ...          ...        ...        ...   \n",
       "695                260.0       300.0     742500.0  111375.00  631125.00   \n",
       "696                260.0       300.0     163800.0   24570.00  139230.00   \n",
       "697                  5.0         7.0       9576.0    1436.40    8139.60   \n",
       "698                 10.0         7.0       5061.0     759.15    4301.85   \n",
       "699                250.0        12.0      21672.0    3250.80   18421.20   \n",
       "\n",
       "         COGS    Profit  Month Number  Year  \n",
       "0     16185.0  16185.00             1  2014  \n",
       "1     13210.0  13210.00             1  2014  \n",
       "2     21780.0  10890.00             6  2014  \n",
       "3      8880.0   4440.00             6  2014  \n",
       "4     24700.0  12350.00             6  2014  \n",
       "..        ...       ...           ...   ...  \n",
       "695  618750.0  12375.00             3  2014  \n",
       "696  136500.0   2730.00            10  2014  \n",
       "697    6840.0   1299.60             2  2014  \n",
       "698    3615.0    686.85             4  2014  \n",
       "699    5418.0  13003.20             5  2014  \n",
       "\n",
       "[700 rows x 13 columns]"
      ],
      "text/html": [
       "<div>\n",
       "<style scoped>\n",
       "    .dataframe tbody tr th:only-of-type {\n",
       "        vertical-align: middle;\n",
       "    }\n",
       "\n",
       "    .dataframe tbody tr th {\n",
       "        vertical-align: top;\n",
       "    }\n",
       "\n",
       "    .dataframe thead th {\n",
       "        text-align: right;\n",
       "    }\n",
       "</style>\n",
       "<table border=\"1\" class=\"dataframe\">\n",
       "  <thead>\n",
       "    <tr style=\"text-align: right;\">\n",
       "      <th></th>\n",
       "      <th>Segment</th>\n",
       "      <th>Country</th>\n",
       "      <th>Product</th>\n",
       "      <th>Units Sold</th>\n",
       "      <th>Manufacturing Price</th>\n",
       "      <th>Sale Price</th>\n",
       "      <th>Gross Sales</th>\n",
       "      <th>Discounts</th>\n",
       "      <th>Sales</th>\n",
       "      <th>COGS</th>\n",
       "      <th>Profit</th>\n",
       "      <th>Month Number</th>\n",
       "      <th>Year</th>\n",
       "    </tr>\n",
       "  </thead>\n",
       "  <tbody>\n",
       "    <tr>\n",
       "      <th>0</th>\n",
       "      <td>Government</td>\n",
       "      <td>Canada</td>\n",
       "      <td>Carretera</td>\n",
       "      <td>1618.5</td>\n",
       "      <td>3.0</td>\n",
       "      <td>20.0</td>\n",
       "      <td>32370.0</td>\n",
       "      <td>0.00</td>\n",
       "      <td>32370.00</td>\n",
       "      <td>16185.0</td>\n",
       "      <td>16185.00</td>\n",
       "      <td>1</td>\n",
       "      <td>2014</td>\n",
       "    </tr>\n",
       "    <tr>\n",
       "      <th>1</th>\n",
       "      <td>Government</td>\n",
       "      <td>Germany</td>\n",
       "      <td>Carretera</td>\n",
       "      <td>1321.0</td>\n",
       "      <td>3.0</td>\n",
       "      <td>20.0</td>\n",
       "      <td>26420.0</td>\n",
       "      <td>0.00</td>\n",
       "      <td>26420.00</td>\n",
       "      <td>13210.0</td>\n",
       "      <td>13210.00</td>\n",
       "      <td>1</td>\n",
       "      <td>2014</td>\n",
       "    </tr>\n",
       "    <tr>\n",
       "      <th>2</th>\n",
       "      <td>Midmarket</td>\n",
       "      <td>France</td>\n",
       "      <td>Carretera</td>\n",
       "      <td>2178.0</td>\n",
       "      <td>3.0</td>\n",
       "      <td>15.0</td>\n",
       "      <td>32670.0</td>\n",
       "      <td>0.00</td>\n",
       "      <td>32670.00</td>\n",
       "      <td>21780.0</td>\n",
       "      <td>10890.00</td>\n",
       "      <td>6</td>\n",
       "      <td>2014</td>\n",
       "    </tr>\n",
       "    <tr>\n",
       "      <th>3</th>\n",
       "      <td>Midmarket</td>\n",
       "      <td>Germany</td>\n",
       "      <td>Carretera</td>\n",
       "      <td>888.0</td>\n",
       "      <td>3.0</td>\n",
       "      <td>15.0</td>\n",
       "      <td>13320.0</td>\n",
       "      <td>0.00</td>\n",
       "      <td>13320.00</td>\n",
       "      <td>8880.0</td>\n",
       "      <td>4440.00</td>\n",
       "      <td>6</td>\n",
       "      <td>2014</td>\n",
       "    </tr>\n",
       "    <tr>\n",
       "      <th>4</th>\n",
       "      <td>Midmarket</td>\n",
       "      <td>Mexico</td>\n",
       "      <td>Carretera</td>\n",
       "      <td>2470.0</td>\n",
       "      <td>3.0</td>\n",
       "      <td>15.0</td>\n",
       "      <td>37050.0</td>\n",
       "      <td>0.00</td>\n",
       "      <td>37050.00</td>\n",
       "      <td>24700.0</td>\n",
       "      <td>12350.00</td>\n",
       "      <td>6</td>\n",
       "      <td>2014</td>\n",
       "    </tr>\n",
       "    <tr>\n",
       "      <th>...</th>\n",
       "      <td>...</td>\n",
       "      <td>...</td>\n",
       "      <td>...</td>\n",
       "      <td>...</td>\n",
       "      <td>...</td>\n",
       "      <td>...</td>\n",
       "      <td>...</td>\n",
       "      <td>...</td>\n",
       "      <td>...</td>\n",
       "      <td>...</td>\n",
       "      <td>...</td>\n",
       "      <td>...</td>\n",
       "      <td>...</td>\n",
       "    </tr>\n",
       "    <tr>\n",
       "      <th>695</th>\n",
       "      <td>Small Business</td>\n",
       "      <td>France</td>\n",
       "      <td>Amarilla</td>\n",
       "      <td>2475.0</td>\n",
       "      <td>260.0</td>\n",
       "      <td>300.0</td>\n",
       "      <td>742500.0</td>\n",
       "      <td>111375.00</td>\n",
       "      <td>631125.00</td>\n",
       "      <td>618750.0</td>\n",
       "      <td>12375.00</td>\n",
       "      <td>3</td>\n",
       "      <td>2014</td>\n",
       "    </tr>\n",
       "    <tr>\n",
       "      <th>696</th>\n",
       "      <td>Small Business</td>\n",
       "      <td>Mexico</td>\n",
       "      <td>Amarilla</td>\n",
       "      <td>546.0</td>\n",
       "      <td>260.0</td>\n",
       "      <td>300.0</td>\n",
       "      <td>163800.0</td>\n",
       "      <td>24570.00</td>\n",
       "      <td>139230.00</td>\n",
       "      <td>136500.0</td>\n",
       "      <td>2730.00</td>\n",
       "      <td>10</td>\n",
       "      <td>2014</td>\n",
       "    </tr>\n",
       "    <tr>\n",
       "      <th>697</th>\n",
       "      <td>Government</td>\n",
       "      <td>Mexico</td>\n",
       "      <td>Montana</td>\n",
       "      <td>1368.0</td>\n",
       "      <td>5.0</td>\n",
       "      <td>7.0</td>\n",
       "      <td>9576.0</td>\n",
       "      <td>1436.40</td>\n",
       "      <td>8139.60</td>\n",
       "      <td>6840.0</td>\n",
       "      <td>1299.60</td>\n",
       "      <td>2</td>\n",
       "      <td>2014</td>\n",
       "    </tr>\n",
       "    <tr>\n",
       "      <th>698</th>\n",
       "      <td>Government</td>\n",
       "      <td>Canada</td>\n",
       "      <td>Paseo</td>\n",
       "      <td>723.0</td>\n",
       "      <td>10.0</td>\n",
       "      <td>7.0</td>\n",
       "      <td>5061.0</td>\n",
       "      <td>759.15</td>\n",
       "      <td>4301.85</td>\n",
       "      <td>3615.0</td>\n",
       "      <td>686.85</td>\n",
       "      <td>4</td>\n",
       "      <td>2014</td>\n",
       "    </tr>\n",
       "    <tr>\n",
       "      <th>699</th>\n",
       "      <td>Channel Partners</td>\n",
       "      <td>United States of America</td>\n",
       "      <td>VTT</td>\n",
       "      <td>1806.0</td>\n",
       "      <td>250.0</td>\n",
       "      <td>12.0</td>\n",
       "      <td>21672.0</td>\n",
       "      <td>3250.80</td>\n",
       "      <td>18421.20</td>\n",
       "      <td>5418.0</td>\n",
       "      <td>13003.20</td>\n",
       "      <td>5</td>\n",
       "      <td>2014</td>\n",
       "    </tr>\n",
       "  </tbody>\n",
       "</table>\n",
       "<p>700 rows × 13 columns</p>\n",
       "</div>"
      ]
     },
     "execution_count": 15,
     "metadata": {},
     "output_type": "execute_result"
    }
   ],
   "execution_count": 15
  },
  {
   "cell_type": "code",
   "id": "6663f1db0dafb9dd",
   "metadata": {
    "ExecuteTime": {
     "end_time": "2025-09-28T23:09:23.554342Z",
     "start_time": "2025-09-28T23:09:23.545443Z"
    }
   },
   "source": [
    "data.describe()"
   ],
   "outputs": [
    {
     "data": {
      "text/plain": [
       "        Units Sold  Manufacturing Price  Sale Price   Gross Sales  \\\n",
       "count   700.000000           700.000000  700.000000  7.000000e+02   \n",
       "mean   1608.294286            96.477143  118.428571  1.827594e+05   \n",
       "std     867.427859           108.602612  136.775515  2.542623e+05   \n",
       "min     200.000000             3.000000    7.000000  1.799000e+03   \n",
       "25%     905.000000             5.000000   12.000000  1.739175e+04   \n",
       "50%    1542.500000            10.000000   20.000000  3.798000e+04   \n",
       "75%    2229.125000           250.000000  300.000000  2.790250e+05   \n",
       "max    4492.500000           260.000000  350.000000  1.207500e+06   \n",
       "\n",
       "           Discounts         Sales           COGS         Profit  \\\n",
       "count     700.000000  7.000000e+02     700.000000     700.000000   \n",
       "mean    13150.354671  1.696091e+05  145475.211429   24133.860414   \n",
       "std     22962.928760  2.367263e+05  203865.506118   42760.626547   \n",
       "min         0.000000  1.655080e+03     918.000000  -40617.500000   \n",
       "25%       800.320000  1.592800e+04    7490.000000    2805.960000   \n",
       "50%      2585.250000  3.554020e+04   22506.250000    9242.200000   \n",
       "75%     15956.347500  2.610775e+05  245607.500000   22662.000000   \n",
       "max    149677.500000  1.159200e+06  950625.000000  262200.000000   \n",
       "\n",
       "       Month Number         Year  \n",
       "count    700.000000   700.000000  \n",
       "mean       7.900000  2013.750000  \n",
       "std        3.377321     0.433322  \n",
       "min        1.000000  2013.000000  \n",
       "25%        5.750000  2013.750000  \n",
       "50%        9.000000  2014.000000  \n",
       "75%       10.250000  2014.000000  \n",
       "max       12.000000  2014.000000  "
      ],
      "text/html": [
       "<div>\n",
       "<style scoped>\n",
       "    .dataframe tbody tr th:only-of-type {\n",
       "        vertical-align: middle;\n",
       "    }\n",
       "\n",
       "    .dataframe tbody tr th {\n",
       "        vertical-align: top;\n",
       "    }\n",
       "\n",
       "    .dataframe thead th {\n",
       "        text-align: right;\n",
       "    }\n",
       "</style>\n",
       "<table border=\"1\" class=\"dataframe\">\n",
       "  <thead>\n",
       "    <tr style=\"text-align: right;\">\n",
       "      <th></th>\n",
       "      <th>Units Sold</th>\n",
       "      <th>Manufacturing Price</th>\n",
       "      <th>Sale Price</th>\n",
       "      <th>Gross Sales</th>\n",
       "      <th>Discounts</th>\n",
       "      <th>Sales</th>\n",
       "      <th>COGS</th>\n",
       "      <th>Profit</th>\n",
       "      <th>Month Number</th>\n",
       "      <th>Year</th>\n",
       "    </tr>\n",
       "  </thead>\n",
       "  <tbody>\n",
       "    <tr>\n",
       "      <th>count</th>\n",
       "      <td>700.000000</td>\n",
       "      <td>700.000000</td>\n",
       "      <td>700.000000</td>\n",
       "      <td>7.000000e+02</td>\n",
       "      <td>700.000000</td>\n",
       "      <td>7.000000e+02</td>\n",
       "      <td>700.000000</td>\n",
       "      <td>700.000000</td>\n",
       "      <td>700.000000</td>\n",
       "      <td>700.000000</td>\n",
       "    </tr>\n",
       "    <tr>\n",
       "      <th>mean</th>\n",
       "      <td>1608.294286</td>\n",
       "      <td>96.477143</td>\n",
       "      <td>118.428571</td>\n",
       "      <td>1.827594e+05</td>\n",
       "      <td>13150.354671</td>\n",
       "      <td>1.696091e+05</td>\n",
       "      <td>145475.211429</td>\n",
       "      <td>24133.860414</td>\n",
       "      <td>7.900000</td>\n",
       "      <td>2013.750000</td>\n",
       "    </tr>\n",
       "    <tr>\n",
       "      <th>std</th>\n",
       "      <td>867.427859</td>\n",
       "      <td>108.602612</td>\n",
       "      <td>136.775515</td>\n",
       "      <td>2.542623e+05</td>\n",
       "      <td>22962.928760</td>\n",
       "      <td>2.367263e+05</td>\n",
       "      <td>203865.506118</td>\n",
       "      <td>42760.626547</td>\n",
       "      <td>3.377321</td>\n",
       "      <td>0.433322</td>\n",
       "    </tr>\n",
       "    <tr>\n",
       "      <th>min</th>\n",
       "      <td>200.000000</td>\n",
       "      <td>3.000000</td>\n",
       "      <td>7.000000</td>\n",
       "      <td>1.799000e+03</td>\n",
       "      <td>0.000000</td>\n",
       "      <td>1.655080e+03</td>\n",
       "      <td>918.000000</td>\n",
       "      <td>-40617.500000</td>\n",
       "      <td>1.000000</td>\n",
       "      <td>2013.000000</td>\n",
       "    </tr>\n",
       "    <tr>\n",
       "      <th>25%</th>\n",
       "      <td>905.000000</td>\n",
       "      <td>5.000000</td>\n",
       "      <td>12.000000</td>\n",
       "      <td>1.739175e+04</td>\n",
       "      <td>800.320000</td>\n",
       "      <td>1.592800e+04</td>\n",
       "      <td>7490.000000</td>\n",
       "      <td>2805.960000</td>\n",
       "      <td>5.750000</td>\n",
       "      <td>2013.750000</td>\n",
       "    </tr>\n",
       "    <tr>\n",
       "      <th>50%</th>\n",
       "      <td>1542.500000</td>\n",
       "      <td>10.000000</td>\n",
       "      <td>20.000000</td>\n",
       "      <td>3.798000e+04</td>\n",
       "      <td>2585.250000</td>\n",
       "      <td>3.554020e+04</td>\n",
       "      <td>22506.250000</td>\n",
       "      <td>9242.200000</td>\n",
       "      <td>9.000000</td>\n",
       "      <td>2014.000000</td>\n",
       "    </tr>\n",
       "    <tr>\n",
       "      <th>75%</th>\n",
       "      <td>2229.125000</td>\n",
       "      <td>250.000000</td>\n",
       "      <td>300.000000</td>\n",
       "      <td>2.790250e+05</td>\n",
       "      <td>15956.347500</td>\n",
       "      <td>2.610775e+05</td>\n",
       "      <td>245607.500000</td>\n",
       "      <td>22662.000000</td>\n",
       "      <td>10.250000</td>\n",
       "      <td>2014.000000</td>\n",
       "    </tr>\n",
       "    <tr>\n",
       "      <th>max</th>\n",
       "      <td>4492.500000</td>\n",
       "      <td>260.000000</td>\n",
       "      <td>350.000000</td>\n",
       "      <td>1.207500e+06</td>\n",
       "      <td>149677.500000</td>\n",
       "      <td>1.159200e+06</td>\n",
       "      <td>950625.000000</td>\n",
       "      <td>262200.000000</td>\n",
       "      <td>12.000000</td>\n",
       "      <td>2014.000000</td>\n",
       "    </tr>\n",
       "  </tbody>\n",
       "</table>\n",
       "</div>"
      ]
     },
     "execution_count": 16,
     "metadata": {},
     "output_type": "execute_result"
    }
   ],
   "execution_count": 16
  },
  {
   "cell_type": "code",
   "id": "d47466801367d09e",
   "metadata": {
    "ExecuteTime": {
     "end_time": "2025-09-28T23:09:23.697778Z",
     "start_time": "2025-09-28T23:09:23.695372Z"
    }
   },
   "source": [
    "# Analizamos si nos conviene convertir la variable de países a una de región\n",
    "data['Country'].value_counts()"
   ],
   "outputs": [
    {
     "data": {
      "text/plain": [
       "Country\n",
       "Canada                      140\n",
       "Germany                     140\n",
       "France                      140\n",
       "Mexico                      140\n",
       "United States of America    140\n",
       "Name: count, dtype: int64"
      ]
     },
     "execution_count": 17,
     "metadata": {},
     "output_type": "execute_result"
    }
   ],
   "execution_count": 17
  },
  {
   "cell_type": "code",
   "id": "11a4e08d-6f65-4019-b345-e51f484682f2",
   "metadata": {
    "ExecuteTime": {
     "end_time": "2025-09-28T23:09:23.778014Z",
     "start_time": "2025-09-28T23:09:23.768223Z"
    }
   },
   "source": [
    "# Podemos seguir trabajando con países, ya que no hay muchos, no es necesario agruparlos por regiones\n",
    "# Ahora continuamos con la preparación de nuestros datos, convertimos las variables categóricas Segment, Country, Product a numéricas (dummies)\n",
    "data = pd.get_dummies(data, columns=['Segment', 'Country', 'Product'], drop_first=True).astype(float)\n",
    "data.head()"
   ],
   "outputs": [
    {
     "data": {
      "text/plain": [
       "   Units Sold  Manufacturing Price  Sale Price  Gross Sales  Discounts  \\\n",
       "0      1618.5                  3.0        20.0      32370.0        0.0   \n",
       "1      1321.0                  3.0        20.0      26420.0        0.0   \n",
       "2      2178.0                  3.0        15.0      32670.0        0.0   \n",
       "3       888.0                  3.0        15.0      13320.0        0.0   \n",
       "4      2470.0                  3.0        15.0      37050.0        0.0   \n",
       "\n",
       "     Sales     COGS   Profit  Month Number    Year  ...  \\\n",
       "0  32370.0  16185.0  16185.0           1.0  2014.0  ...   \n",
       "1  26420.0  13210.0  13210.0           1.0  2014.0  ...   \n",
       "2  32670.0  21780.0  10890.0           6.0  2014.0  ...   \n",
       "3  13320.0   8880.0   4440.0           6.0  2014.0  ...   \n",
       "4  37050.0  24700.0  12350.0           6.0  2014.0  ...   \n",
       "\n",
       "   Segment_Small Business  Country_France  Country_Germany  Country_Mexico  \\\n",
       "0                     0.0             0.0              0.0             0.0   \n",
       "1                     0.0             0.0              1.0             0.0   \n",
       "2                     0.0             1.0              0.0             0.0   \n",
       "3                     0.0             0.0              1.0             0.0   \n",
       "4                     0.0             0.0              0.0             1.0   \n",
       "\n",
       "   Country_United States of America  Product_ Carretera   Product_ Montana   \\\n",
       "0                               0.0                  1.0                0.0   \n",
       "1                               0.0                  1.0                0.0   \n",
       "2                               0.0                  1.0                0.0   \n",
       "3                               0.0                  1.0                0.0   \n",
       "4                               0.0                  1.0                0.0   \n",
       "\n",
       "   Product_ Paseo   Product_ VTT   Product_ Velo   \n",
       "0              0.0            0.0             0.0  \n",
       "1              0.0            0.0             0.0  \n",
       "2              0.0            0.0             0.0  \n",
       "3              0.0            0.0             0.0  \n",
       "4              0.0            0.0             0.0  \n",
       "\n",
       "[5 rows x 23 columns]"
      ],
      "text/html": [
       "<div>\n",
       "<style scoped>\n",
       "    .dataframe tbody tr th:only-of-type {\n",
       "        vertical-align: middle;\n",
       "    }\n",
       "\n",
       "    .dataframe tbody tr th {\n",
       "        vertical-align: top;\n",
       "    }\n",
       "\n",
       "    .dataframe thead th {\n",
       "        text-align: right;\n",
       "    }\n",
       "</style>\n",
       "<table border=\"1\" class=\"dataframe\">\n",
       "  <thead>\n",
       "    <tr style=\"text-align: right;\">\n",
       "      <th></th>\n",
       "      <th>Units Sold</th>\n",
       "      <th>Manufacturing Price</th>\n",
       "      <th>Sale Price</th>\n",
       "      <th>Gross Sales</th>\n",
       "      <th>Discounts</th>\n",
       "      <th>Sales</th>\n",
       "      <th>COGS</th>\n",
       "      <th>Profit</th>\n",
       "      <th>Month Number</th>\n",
       "      <th>Year</th>\n",
       "      <th>...</th>\n",
       "      <th>Segment_Small Business</th>\n",
       "      <th>Country_France</th>\n",
       "      <th>Country_Germany</th>\n",
       "      <th>Country_Mexico</th>\n",
       "      <th>Country_United States of America</th>\n",
       "      <th>Product_ Carretera</th>\n",
       "      <th>Product_ Montana</th>\n",
       "      <th>Product_ Paseo</th>\n",
       "      <th>Product_ VTT</th>\n",
       "      <th>Product_ Velo</th>\n",
       "    </tr>\n",
       "  </thead>\n",
       "  <tbody>\n",
       "    <tr>\n",
       "      <th>0</th>\n",
       "      <td>1618.5</td>\n",
       "      <td>3.0</td>\n",
       "      <td>20.0</td>\n",
       "      <td>32370.0</td>\n",
       "      <td>0.0</td>\n",
       "      <td>32370.0</td>\n",
       "      <td>16185.0</td>\n",
       "      <td>16185.0</td>\n",
       "      <td>1.0</td>\n",
       "      <td>2014.0</td>\n",
       "      <td>...</td>\n",
       "      <td>0.0</td>\n",
       "      <td>0.0</td>\n",
       "      <td>0.0</td>\n",
       "      <td>0.0</td>\n",
       "      <td>0.0</td>\n",
       "      <td>1.0</td>\n",
       "      <td>0.0</td>\n",
       "      <td>0.0</td>\n",
       "      <td>0.0</td>\n",
       "      <td>0.0</td>\n",
       "    </tr>\n",
       "    <tr>\n",
       "      <th>1</th>\n",
       "      <td>1321.0</td>\n",
       "      <td>3.0</td>\n",
       "      <td>20.0</td>\n",
       "      <td>26420.0</td>\n",
       "      <td>0.0</td>\n",
       "      <td>26420.0</td>\n",
       "      <td>13210.0</td>\n",
       "      <td>13210.0</td>\n",
       "      <td>1.0</td>\n",
       "      <td>2014.0</td>\n",
       "      <td>...</td>\n",
       "      <td>0.0</td>\n",
       "      <td>0.0</td>\n",
       "      <td>1.0</td>\n",
       "      <td>0.0</td>\n",
       "      <td>0.0</td>\n",
       "      <td>1.0</td>\n",
       "      <td>0.0</td>\n",
       "      <td>0.0</td>\n",
       "      <td>0.0</td>\n",
       "      <td>0.0</td>\n",
       "    </tr>\n",
       "    <tr>\n",
       "      <th>2</th>\n",
       "      <td>2178.0</td>\n",
       "      <td>3.0</td>\n",
       "      <td>15.0</td>\n",
       "      <td>32670.0</td>\n",
       "      <td>0.0</td>\n",
       "      <td>32670.0</td>\n",
       "      <td>21780.0</td>\n",
       "      <td>10890.0</td>\n",
       "      <td>6.0</td>\n",
       "      <td>2014.0</td>\n",
       "      <td>...</td>\n",
       "      <td>0.0</td>\n",
       "      <td>1.0</td>\n",
       "      <td>0.0</td>\n",
       "      <td>0.0</td>\n",
       "      <td>0.0</td>\n",
       "      <td>1.0</td>\n",
       "      <td>0.0</td>\n",
       "      <td>0.0</td>\n",
       "      <td>0.0</td>\n",
       "      <td>0.0</td>\n",
       "    </tr>\n",
       "    <tr>\n",
       "      <th>3</th>\n",
       "      <td>888.0</td>\n",
       "      <td>3.0</td>\n",
       "      <td>15.0</td>\n",
       "      <td>13320.0</td>\n",
       "      <td>0.0</td>\n",
       "      <td>13320.0</td>\n",
       "      <td>8880.0</td>\n",
       "      <td>4440.0</td>\n",
       "      <td>6.0</td>\n",
       "      <td>2014.0</td>\n",
       "      <td>...</td>\n",
       "      <td>0.0</td>\n",
       "      <td>0.0</td>\n",
       "      <td>1.0</td>\n",
       "      <td>0.0</td>\n",
       "      <td>0.0</td>\n",
       "      <td>1.0</td>\n",
       "      <td>0.0</td>\n",
       "      <td>0.0</td>\n",
       "      <td>0.0</td>\n",
       "      <td>0.0</td>\n",
       "    </tr>\n",
       "    <tr>\n",
       "      <th>4</th>\n",
       "      <td>2470.0</td>\n",
       "      <td>3.0</td>\n",
       "      <td>15.0</td>\n",
       "      <td>37050.0</td>\n",
       "      <td>0.0</td>\n",
       "      <td>37050.0</td>\n",
       "      <td>24700.0</td>\n",
       "      <td>12350.0</td>\n",
       "      <td>6.0</td>\n",
       "      <td>2014.0</td>\n",
       "      <td>...</td>\n",
       "      <td>0.0</td>\n",
       "      <td>0.0</td>\n",
       "      <td>0.0</td>\n",
       "      <td>1.0</td>\n",
       "      <td>0.0</td>\n",
       "      <td>1.0</td>\n",
       "      <td>0.0</td>\n",
       "      <td>0.0</td>\n",
       "      <td>0.0</td>\n",
       "      <td>0.0</td>\n",
       "    </tr>\n",
       "  </tbody>\n",
       "</table>\n",
       "<p>5 rows × 23 columns</p>\n",
       "</div>"
      ]
     },
     "execution_count": 18,
     "metadata": {},
     "output_type": "execute_result"
    }
   ],
   "execution_count": 18
  },
  {
   "cell_type": "code",
   "id": "a70ff291",
   "metadata": {
    "scrolled": true,
    "ExecuteTime": {
     "end_time": "2025-09-28T23:09:23.949669Z",
     "start_time": "2025-09-28T23:09:23.945940Z"
    }
   },
   "source": [
    "data.info()"
   ],
   "outputs": [
    {
     "name": "stdout",
     "output_type": "stream",
     "text": [
      "<class 'pandas.core.frame.DataFrame'>\n",
      "RangeIndex: 700 entries, 0 to 699\n",
      "Data columns (total 23 columns):\n",
      " #   Column                            Non-Null Count  Dtype  \n",
      "---  ------                            --------------  -----  \n",
      " 0   Units Sold                        700 non-null    float64\n",
      " 1   Manufacturing Price               700 non-null    float64\n",
      " 2   Sale Price                        700 non-null    float64\n",
      " 3   Gross Sales                       700 non-null    float64\n",
      " 4   Discounts                         700 non-null    float64\n",
      " 5   Sales                             700 non-null    float64\n",
      " 6   COGS                              700 non-null    float64\n",
      " 7   Profit                            700 non-null    float64\n",
      " 8   Month Number                      700 non-null    float64\n",
      " 9   Year                              700 non-null    float64\n",
      " 10  Segment_Enterprise                700 non-null    float64\n",
      " 11  Segment_Government                700 non-null    float64\n",
      " 12  Segment_Midmarket                 700 non-null    float64\n",
      " 13  Segment_Small Business            700 non-null    float64\n",
      " 14  Country_France                    700 non-null    float64\n",
      " 15  Country_Germany                   700 non-null    float64\n",
      " 16  Country_Mexico                    700 non-null    float64\n",
      " 17  Country_United States of America  700 non-null    float64\n",
      " 18  Product_ Carretera                700 non-null    float64\n",
      " 19  Product_ Montana                  700 non-null    float64\n",
      " 20  Product_ Paseo                    700 non-null    float64\n",
      " 21  Product_ VTT                      700 non-null    float64\n",
      " 22  Product_ Velo                     700 non-null    float64\n",
      "dtypes: float64(23)\n",
      "memory usage: 125.9 KB\n"
     ]
    }
   ],
   "execution_count": 19
  },
  {
   "cell_type": "markdown",
   "id": "7ee2466c",
   "metadata": {},
   "source": [
    "---\n",
    "## Modelo propuesto\n",
    "Los 3 modelos distintos para comparar entre ellos serán:\n",
    "\n",
    "- 1. Lineal Múltiple (relación directa de costos y ventas)\n",
    "- 2. Polinomial (grado 2)\n",
    "- 3. Lineal Múltiple usando Precio Efectivo (variale obtenida)\n",
    "\n",
    "Cada modelo tendrá 4 versiones: sin penalización, Ridge, Lasso, y ElasticNet."
   ]
  },
  {
   "cell_type": "markdown",
   "id": "b779f4cc-52cf-4dbc-8fbb-b286e749a63a",
   "metadata": {},
   "source": [
    "---\n",
    "### 1. Lineal Múltiple (relación directa de costos y ventas)"
   ]
  },
  {
   "cell_type": "markdown",
   "id": "84516e96-8270-45e3-a20b-bed3dd080900",
   "metadata": {},
   "source": [
    "### Sin Penalización"
   ]
  },
  {
   "cell_type": "code",
   "id": "1ce999ef-f97e-4847-a08a-9caafbcc6323",
   "metadata": {
    "ExecuteTime": {
     "end_time": "2025-09-28T23:09:24.044699Z",
     "start_time": "2025-09-28T23:09:24.039503Z"
    }
   },
   "source": [
    "import numpy as np\n",
    "import pandas as pd\n",
    "from sklearn.linear_model import LinearRegression\n",
    "from sklearn.metrics import r2_score\n",
    "import statsmodels.api as sm\n",
    "from scipy import stats\n",
    "from sklearn.model_selection import train_test_split\n",
    "from sklearn.linear_model import LinearRegression, Ridge, Lasso, ElasticNet"
   ],
   "outputs": [],
   "execution_count": 20
  },
  {
   "cell_type": "code",
   "id": "863780cc-3e42-478e-9fb5-c826db933c5f",
   "metadata": {
    "ExecuteTime": {
     "end_time": "2025-09-28T23:09:24.058047Z",
     "start_time": "2025-09-28T23:09:24.052189Z"
    }
   },
   "source": [
    "y = data[\"Sales\"]\n",
    "x = data[[\"COGS\", \"Discounts\", \"Units Sold\", \"Manufacturing Price\"]] "
   ],
   "outputs": [],
   "execution_count": 21
  },
  {
   "cell_type": "code",
   "id": "bcf130cb-1451-49b5-b3f3-0acef2388d26",
   "metadata": {
    "ExecuteTime": {
     "end_time": "2025-09-28T23:09:24.077833Z",
     "start_time": "2025-09-28T23:09:24.075675Z"
    }
   },
   "source": [
    "n = len(data)"
   ],
   "outputs": [],
   "execution_count": 22
  },
  {
   "cell_type": "code",
   "id": "8ee5a04e-95a2-4992-a12b-a65e8211c5c9",
   "metadata": {
    "ExecuteTime": {
     "end_time": "2025-09-28T23:09:24.090052Z",
     "start_time": "2025-09-28T23:09:24.087586Z"
    }
   },
   "source": [
    "x_train, x_test, y_train, y_test = train_test_split(x, y, train_size = 0.4, random_state = 137)"
   ],
   "outputs": [],
   "execution_count": 23
  },
  {
   "cell_type": "markdown",
   "id": "5cc5877b-747c-4ac1-a6de-3c548a4161fa",
   "metadata": {},
   "source": [
    "#### Escalamiento"
   ]
  },
  {
   "cell_type": "code",
   "id": "b1f62959-4028-4263-9d62-c0b494ce42db",
   "metadata": {
    "ExecuteTime": {
     "end_time": "2025-09-28T23:09:24.105091Z",
     "start_time": "2025-09-28T23:09:24.100239Z"
    }
   },
   "source": [
    "from sklearn.preprocessing import StandardScaler\n",
    "scaler = StandardScaler().fit(x_train)\n",
    "X_train_scaled = scaler.transform(x_train)\n",
    "lr = LinearRegression()\n",
    "lr.fit(X_train_scaled, y_train)"
   ],
   "outputs": [
    {
     "data": {
      "text/plain": [
       "LinearRegression()"
      ],
      "text/html": [
       "<style>#sk-container-id-2 {\n",
       "  /* Definition of color scheme common for light and dark mode */\n",
       "  --sklearn-color-text: black;\n",
       "  --sklearn-color-line: gray;\n",
       "  /* Definition of color scheme for unfitted estimators */\n",
       "  --sklearn-color-unfitted-level-0: #fff5e6;\n",
       "  --sklearn-color-unfitted-level-1: #f6e4d2;\n",
       "  --sklearn-color-unfitted-level-2: #ffe0b3;\n",
       "  --sklearn-color-unfitted-level-3: chocolate;\n",
       "  /* Definition of color scheme for fitted estimators */\n",
       "  --sklearn-color-fitted-level-0: #f0f8ff;\n",
       "  --sklearn-color-fitted-level-1: #d4ebff;\n",
       "  --sklearn-color-fitted-level-2: #b3dbfd;\n",
       "  --sklearn-color-fitted-level-3: cornflowerblue;\n",
       "\n",
       "  /* Specific color for light theme */\n",
       "  --sklearn-color-text-on-default-background: var(--sg-text-color, var(--theme-code-foreground, var(--jp-content-font-color1, black)));\n",
       "  --sklearn-color-background: var(--sg-background-color, var(--theme-background, var(--jp-layout-color0, white)));\n",
       "  --sklearn-color-border-box: var(--sg-text-color, var(--theme-code-foreground, var(--jp-content-font-color1, black)));\n",
       "  --sklearn-color-icon: #696969;\n",
       "\n",
       "  @media (prefers-color-scheme: dark) {\n",
       "    /* Redefinition of color scheme for dark theme */\n",
       "    --sklearn-color-text-on-default-background: var(--sg-text-color, var(--theme-code-foreground, var(--jp-content-font-color1, white)));\n",
       "    --sklearn-color-background: var(--sg-background-color, var(--theme-background, var(--jp-layout-color0, #111)));\n",
       "    --sklearn-color-border-box: var(--sg-text-color, var(--theme-code-foreground, var(--jp-content-font-color1, white)));\n",
       "    --sklearn-color-icon: #878787;\n",
       "  }\n",
       "}\n",
       "\n",
       "#sk-container-id-2 {\n",
       "  color: var(--sklearn-color-text);\n",
       "}\n",
       "\n",
       "#sk-container-id-2 pre {\n",
       "  padding: 0;\n",
       "}\n",
       "\n",
       "#sk-container-id-2 input.sk-hidden--visually {\n",
       "  border: 0;\n",
       "  clip: rect(1px 1px 1px 1px);\n",
       "  clip: rect(1px, 1px, 1px, 1px);\n",
       "  height: 1px;\n",
       "  margin: -1px;\n",
       "  overflow: hidden;\n",
       "  padding: 0;\n",
       "  position: absolute;\n",
       "  width: 1px;\n",
       "}\n",
       "\n",
       "#sk-container-id-2 div.sk-dashed-wrapped {\n",
       "  border: 1px dashed var(--sklearn-color-line);\n",
       "  margin: 0 0.4em 0.5em 0.4em;\n",
       "  box-sizing: border-box;\n",
       "  padding-bottom: 0.4em;\n",
       "  background-color: var(--sklearn-color-background);\n",
       "}\n",
       "\n",
       "#sk-container-id-2 div.sk-container {\n",
       "  /* jupyter's `normalize.less` sets `[hidden] { display: none; }`\n",
       "     but bootstrap.min.css set `[hidden] { display: none !important; }`\n",
       "     so we also need the `!important` here to be able to override the\n",
       "     default hidden behavior on the sphinx rendered scikit-learn.org.\n",
       "     See: https://github.com/scikit-learn/scikit-learn/issues/21755 */\n",
       "  display: inline-block !important;\n",
       "  position: relative;\n",
       "}\n",
       "\n",
       "#sk-container-id-2 div.sk-text-repr-fallback {\n",
       "  display: none;\n",
       "}\n",
       "\n",
       "div.sk-parallel-item,\n",
       "div.sk-serial,\n",
       "div.sk-item {\n",
       "  /* draw centered vertical line to link estimators */\n",
       "  background-image: linear-gradient(var(--sklearn-color-text-on-default-background), var(--sklearn-color-text-on-default-background));\n",
       "  background-size: 2px 100%;\n",
       "  background-repeat: no-repeat;\n",
       "  background-position: center center;\n",
       "}\n",
       "\n",
       "/* Parallel-specific style estimator block */\n",
       "\n",
       "#sk-container-id-2 div.sk-parallel-item::after {\n",
       "  content: \"\";\n",
       "  width: 100%;\n",
       "  border-bottom: 2px solid var(--sklearn-color-text-on-default-background);\n",
       "  flex-grow: 1;\n",
       "}\n",
       "\n",
       "#sk-container-id-2 div.sk-parallel {\n",
       "  display: flex;\n",
       "  align-items: stretch;\n",
       "  justify-content: center;\n",
       "  background-color: var(--sklearn-color-background);\n",
       "  position: relative;\n",
       "}\n",
       "\n",
       "#sk-container-id-2 div.sk-parallel-item {\n",
       "  display: flex;\n",
       "  flex-direction: column;\n",
       "}\n",
       "\n",
       "#sk-container-id-2 div.sk-parallel-item:first-child::after {\n",
       "  align-self: flex-end;\n",
       "  width: 50%;\n",
       "}\n",
       "\n",
       "#sk-container-id-2 div.sk-parallel-item:last-child::after {\n",
       "  align-self: flex-start;\n",
       "  width: 50%;\n",
       "}\n",
       "\n",
       "#sk-container-id-2 div.sk-parallel-item:only-child::after {\n",
       "  width: 0;\n",
       "}\n",
       "\n",
       "/* Serial-specific style estimator block */\n",
       "\n",
       "#sk-container-id-2 div.sk-serial {\n",
       "  display: flex;\n",
       "  flex-direction: column;\n",
       "  align-items: center;\n",
       "  background-color: var(--sklearn-color-background);\n",
       "  padding-right: 1em;\n",
       "  padding-left: 1em;\n",
       "}\n",
       "\n",
       "\n",
       "/* Toggleable style: style used for estimator/Pipeline/ColumnTransformer box that is\n",
       "clickable and can be expanded/collapsed.\n",
       "- Pipeline and ColumnTransformer use this feature and define the default style\n",
       "- Estimators will overwrite some part of the style using the `sk-estimator` class\n",
       "*/\n",
       "\n",
       "/* Pipeline and ColumnTransformer style (default) */\n",
       "\n",
       "#sk-container-id-2 div.sk-toggleable {\n",
       "  /* Default theme specific background. It is overwritten whether we have a\n",
       "  specific estimator or a Pipeline/ColumnTransformer */\n",
       "  background-color: var(--sklearn-color-background);\n",
       "}\n",
       "\n",
       "/* Toggleable label */\n",
       "#sk-container-id-2 label.sk-toggleable__label {\n",
       "  cursor: pointer;\n",
       "  display: block;\n",
       "  width: 100%;\n",
       "  margin-bottom: 0;\n",
       "  padding: 0.5em;\n",
       "  box-sizing: border-box;\n",
       "  text-align: center;\n",
       "}\n",
       "\n",
       "#sk-container-id-2 label.sk-toggleable__label-arrow:before {\n",
       "  /* Arrow on the left of the label */\n",
       "  content: \"▸\";\n",
       "  float: left;\n",
       "  margin-right: 0.25em;\n",
       "  color: var(--sklearn-color-icon);\n",
       "}\n",
       "\n",
       "#sk-container-id-2 label.sk-toggleable__label-arrow:hover:before {\n",
       "  color: var(--sklearn-color-text);\n",
       "}\n",
       "\n",
       "/* Toggleable content - dropdown */\n",
       "\n",
       "#sk-container-id-2 div.sk-toggleable__content {\n",
       "  max-height: 0;\n",
       "  max-width: 0;\n",
       "  overflow: hidden;\n",
       "  text-align: left;\n",
       "  /* unfitted */\n",
       "  background-color: var(--sklearn-color-unfitted-level-0);\n",
       "}\n",
       "\n",
       "#sk-container-id-2 div.sk-toggleable__content.fitted {\n",
       "  /* fitted */\n",
       "  background-color: var(--sklearn-color-fitted-level-0);\n",
       "}\n",
       "\n",
       "#sk-container-id-2 div.sk-toggleable__content pre {\n",
       "  margin: 0.2em;\n",
       "  border-radius: 0.25em;\n",
       "  color: var(--sklearn-color-text);\n",
       "  /* unfitted */\n",
       "  background-color: var(--sklearn-color-unfitted-level-0);\n",
       "}\n",
       "\n",
       "#sk-container-id-2 div.sk-toggleable__content.fitted pre {\n",
       "  /* unfitted */\n",
       "  background-color: var(--sklearn-color-fitted-level-0);\n",
       "}\n",
       "\n",
       "#sk-container-id-2 input.sk-toggleable__control:checked~div.sk-toggleable__content {\n",
       "  /* Expand drop-down */\n",
       "  max-height: 200px;\n",
       "  max-width: 100%;\n",
       "  overflow: auto;\n",
       "}\n",
       "\n",
       "#sk-container-id-2 input.sk-toggleable__control:checked~label.sk-toggleable__label-arrow:before {\n",
       "  content: \"▾\";\n",
       "}\n",
       "\n",
       "/* Pipeline/ColumnTransformer-specific style */\n",
       "\n",
       "#sk-container-id-2 div.sk-label input.sk-toggleable__control:checked~label.sk-toggleable__label {\n",
       "  color: var(--sklearn-color-text);\n",
       "  background-color: var(--sklearn-color-unfitted-level-2);\n",
       "}\n",
       "\n",
       "#sk-container-id-2 div.sk-label.fitted input.sk-toggleable__control:checked~label.sk-toggleable__label {\n",
       "  background-color: var(--sklearn-color-fitted-level-2);\n",
       "}\n",
       "\n",
       "/* Estimator-specific style */\n",
       "\n",
       "/* Colorize estimator box */\n",
       "#sk-container-id-2 div.sk-estimator input.sk-toggleable__control:checked~label.sk-toggleable__label {\n",
       "  /* unfitted */\n",
       "  background-color: var(--sklearn-color-unfitted-level-2);\n",
       "}\n",
       "\n",
       "#sk-container-id-2 div.sk-estimator.fitted input.sk-toggleable__control:checked~label.sk-toggleable__label {\n",
       "  /* fitted */\n",
       "  background-color: var(--sklearn-color-fitted-level-2);\n",
       "}\n",
       "\n",
       "#sk-container-id-2 div.sk-label label.sk-toggleable__label,\n",
       "#sk-container-id-2 div.sk-label label {\n",
       "  /* The background is the default theme color */\n",
       "  color: var(--sklearn-color-text-on-default-background);\n",
       "}\n",
       "\n",
       "/* On hover, darken the color of the background */\n",
       "#sk-container-id-2 div.sk-label:hover label.sk-toggleable__label {\n",
       "  color: var(--sklearn-color-text);\n",
       "  background-color: var(--sklearn-color-unfitted-level-2);\n",
       "}\n",
       "\n",
       "/* Label box, darken color on hover, fitted */\n",
       "#sk-container-id-2 div.sk-label.fitted:hover label.sk-toggleable__label.fitted {\n",
       "  color: var(--sklearn-color-text);\n",
       "  background-color: var(--sklearn-color-fitted-level-2);\n",
       "}\n",
       "\n",
       "/* Estimator label */\n",
       "\n",
       "#sk-container-id-2 div.sk-label label {\n",
       "  font-family: monospace;\n",
       "  font-weight: bold;\n",
       "  display: inline-block;\n",
       "  line-height: 1.2em;\n",
       "}\n",
       "\n",
       "#sk-container-id-2 div.sk-label-container {\n",
       "  text-align: center;\n",
       "}\n",
       "\n",
       "/* Estimator-specific */\n",
       "#sk-container-id-2 div.sk-estimator {\n",
       "  font-family: monospace;\n",
       "  border: 1px dotted var(--sklearn-color-border-box);\n",
       "  border-radius: 0.25em;\n",
       "  box-sizing: border-box;\n",
       "  margin-bottom: 0.5em;\n",
       "  /* unfitted */\n",
       "  background-color: var(--sklearn-color-unfitted-level-0);\n",
       "}\n",
       "\n",
       "#sk-container-id-2 div.sk-estimator.fitted {\n",
       "  /* fitted */\n",
       "  background-color: var(--sklearn-color-fitted-level-0);\n",
       "}\n",
       "\n",
       "/* on hover */\n",
       "#sk-container-id-2 div.sk-estimator:hover {\n",
       "  /* unfitted */\n",
       "  background-color: var(--sklearn-color-unfitted-level-2);\n",
       "}\n",
       "\n",
       "#sk-container-id-2 div.sk-estimator.fitted:hover {\n",
       "  /* fitted */\n",
       "  background-color: var(--sklearn-color-fitted-level-2);\n",
       "}\n",
       "\n",
       "/* Specification for estimator info (e.g. \"i\" and \"?\") */\n",
       "\n",
       "/* Common style for \"i\" and \"?\" */\n",
       "\n",
       ".sk-estimator-doc-link,\n",
       "a:link.sk-estimator-doc-link,\n",
       "a:visited.sk-estimator-doc-link {\n",
       "  float: right;\n",
       "  font-size: smaller;\n",
       "  line-height: 1em;\n",
       "  font-family: monospace;\n",
       "  background-color: var(--sklearn-color-background);\n",
       "  border-radius: 1em;\n",
       "  height: 1em;\n",
       "  width: 1em;\n",
       "  text-decoration: none !important;\n",
       "  margin-left: 1ex;\n",
       "  /* unfitted */\n",
       "  border: var(--sklearn-color-unfitted-level-1) 1pt solid;\n",
       "  color: var(--sklearn-color-unfitted-level-1);\n",
       "}\n",
       "\n",
       ".sk-estimator-doc-link.fitted,\n",
       "a:link.sk-estimator-doc-link.fitted,\n",
       "a:visited.sk-estimator-doc-link.fitted {\n",
       "  /* fitted */\n",
       "  border: var(--sklearn-color-fitted-level-1) 1pt solid;\n",
       "  color: var(--sklearn-color-fitted-level-1);\n",
       "}\n",
       "\n",
       "/* On hover */\n",
       "div.sk-estimator:hover .sk-estimator-doc-link:hover,\n",
       ".sk-estimator-doc-link:hover,\n",
       "div.sk-label-container:hover .sk-estimator-doc-link:hover,\n",
       ".sk-estimator-doc-link:hover {\n",
       "  /* unfitted */\n",
       "  background-color: var(--sklearn-color-unfitted-level-3);\n",
       "  color: var(--sklearn-color-background);\n",
       "  text-decoration: none;\n",
       "}\n",
       "\n",
       "div.sk-estimator.fitted:hover .sk-estimator-doc-link.fitted:hover,\n",
       ".sk-estimator-doc-link.fitted:hover,\n",
       "div.sk-label-container:hover .sk-estimator-doc-link.fitted:hover,\n",
       ".sk-estimator-doc-link.fitted:hover {\n",
       "  /* fitted */\n",
       "  background-color: var(--sklearn-color-fitted-level-3);\n",
       "  color: var(--sklearn-color-background);\n",
       "  text-decoration: none;\n",
       "}\n",
       "\n",
       "/* Span, style for the box shown on hovering the info icon */\n",
       ".sk-estimator-doc-link span {\n",
       "  display: none;\n",
       "  z-index: 9999;\n",
       "  position: relative;\n",
       "  font-weight: normal;\n",
       "  right: .2ex;\n",
       "  padding: .5ex;\n",
       "  margin: .5ex;\n",
       "  width: min-content;\n",
       "  min-width: 20ex;\n",
       "  max-width: 50ex;\n",
       "  color: var(--sklearn-color-text);\n",
       "  box-shadow: 2pt 2pt 4pt #999;\n",
       "  /* unfitted */\n",
       "  background: var(--sklearn-color-unfitted-level-0);\n",
       "  border: .5pt solid var(--sklearn-color-unfitted-level-3);\n",
       "}\n",
       "\n",
       ".sk-estimator-doc-link.fitted span {\n",
       "  /* fitted */\n",
       "  background: var(--sklearn-color-fitted-level-0);\n",
       "  border: var(--sklearn-color-fitted-level-3);\n",
       "}\n",
       "\n",
       ".sk-estimator-doc-link:hover span {\n",
       "  display: block;\n",
       "}\n",
       "\n",
       "/* \"?\"-specific style due to the `<a>` HTML tag */\n",
       "\n",
       "#sk-container-id-2 a.estimator_doc_link {\n",
       "  float: right;\n",
       "  font-size: 1rem;\n",
       "  line-height: 1em;\n",
       "  font-family: monospace;\n",
       "  background-color: var(--sklearn-color-background);\n",
       "  border-radius: 1rem;\n",
       "  height: 1rem;\n",
       "  width: 1rem;\n",
       "  text-decoration: none;\n",
       "  /* unfitted */\n",
       "  color: var(--sklearn-color-unfitted-level-1);\n",
       "  border: var(--sklearn-color-unfitted-level-1) 1pt solid;\n",
       "}\n",
       "\n",
       "#sk-container-id-2 a.estimator_doc_link.fitted {\n",
       "  /* fitted */\n",
       "  border: var(--sklearn-color-fitted-level-1) 1pt solid;\n",
       "  color: var(--sklearn-color-fitted-level-1);\n",
       "}\n",
       "\n",
       "/* On hover */\n",
       "#sk-container-id-2 a.estimator_doc_link:hover {\n",
       "  /* unfitted */\n",
       "  background-color: var(--sklearn-color-unfitted-level-3);\n",
       "  color: var(--sklearn-color-background);\n",
       "  text-decoration: none;\n",
       "}\n",
       "\n",
       "#sk-container-id-2 a.estimator_doc_link.fitted:hover {\n",
       "  /* fitted */\n",
       "  background-color: var(--sklearn-color-fitted-level-3);\n",
       "}\n",
       "</style><div id=\"sk-container-id-2\" class=\"sk-top-container\"><div class=\"sk-text-repr-fallback\"><pre>LinearRegression()</pre><b>In a Jupyter environment, please rerun this cell to show the HTML representation or trust the notebook. <br />On GitHub, the HTML representation is unable to render, please try loading this page with nbviewer.org.</b></div><div class=\"sk-container\" hidden><div class=\"sk-item\"><div class=\"sk-estimator fitted sk-toggleable\"><input class=\"sk-toggleable__control sk-hidden--visually\" id=\"sk-estimator-id-2\" type=\"checkbox\" checked><label for=\"sk-estimator-id-2\" class=\"sk-toggleable__label fitted sk-toggleable__label-arrow fitted\">&nbsp;&nbsp;LinearRegression<a class=\"sk-estimator-doc-link fitted\" rel=\"noreferrer\" target=\"_blank\" href=\"https://scikit-learn.org/1.5/modules/generated/sklearn.linear_model.LinearRegression.html\">?<span>Documentation for LinearRegression</span></a><span class=\"sk-estimator-doc-link fitted\">i<span>Fitted</span></span></label><div class=\"sk-toggleable__content fitted\"><pre>LinearRegression()</pre></div> </div></div></div></div>"
      ]
     },
     "execution_count": 24,
     "metadata": {},
     "output_type": "execute_result"
    }
   ],
   "execution_count": 24
  },
  {
   "cell_type": "markdown",
   "id": "22143848-5eac-46ed-9c85-45b9bded4861",
   "metadata": {},
   "source": [
    "#### Train"
   ]
  },
  {
   "cell_type": "code",
   "id": "c0b3db18-6c72-4a0a-9e3b-a3afe41c3908",
   "metadata": {
    "ExecuteTime": {
     "end_time": "2025-09-28T23:09:24.151829Z",
     "start_time": "2025-09-28T23:09:24.149095Z"
    }
   },
   "source": [
    "y_hat = lr.predict(X_train_scaled)\n",
    "r2_score(y_train, y_hat)"
   ],
   "outputs": [
    {
     "data": {
      "text/plain": [
       "0.9884871763859922"
      ]
     },
     "execution_count": 25,
     "metadata": {},
     "output_type": "execute_result"
    }
   ],
   "execution_count": 25
  },
  {
   "cell_type": "code",
   "id": "fa2f82e4-b007-4566-afa5-8631ea24d39c",
   "metadata": {
    "ExecuteTime": {
     "end_time": "2025-09-28T23:09:24.186067Z",
     "start_time": "2025-09-28T23:09:24.173617Z"
    }
   },
   "source": [
    "n = len(X_train_scaled)\n",
    "unos = np.ones([n,1])\n",
    "X = np.column_stack([unos,X_train_scaled])\n",
    "ols = sm.OLS(y_train, X)\n",
    "results = ols.fit()\n",
    "results.summary()"
   ],
   "outputs": [
    {
     "data": {
      "text/plain": [
       "<class 'statsmodels.iolib.summary.Summary'>\n",
       "\"\"\"\n",
       "                            OLS Regression Results                            \n",
       "==============================================================================\n",
       "Dep. Variable:                  Sales   R-squared:                       0.988\n",
       "Model:                            OLS   Adj. R-squared:                  0.988\n",
       "Method:                 Least Squares   F-statistic:                     5903.\n",
       "Date:                Sun, 28 Sep 2025   Prob (F-statistic):          3.54e-265\n",
       "Time:                        17:09:24   Log-Likelihood:                -3243.8\n",
       "No. Observations:                 280   AIC:                             6498.\n",
       "Df Residuals:                     275   BIC:                             6516.\n",
       "Df Model:                           4                                         \n",
       "Covariance Type:            nonrobust                                         \n",
       "==============================================================================\n",
       "                 coef    std err          t      P>|t|      [0.025      0.975]\n",
       "------------------------------------------------------------------------------\n",
       "const       1.777e+05   1568.235    113.343      0.000    1.75e+05    1.81e+05\n",
       "x1          2.606e+05   2746.076     94.889      0.000    2.55e+05    2.66e+05\n",
       "x2          -2.51e+04   2690.677     -9.330      0.000   -3.04e+04   -1.98e+04\n",
       "x3           980.9174   1676.315      0.585      0.559   -2319.123    4280.958\n",
       "x4           178.3495   1574.536      0.113      0.910   -2921.327    3278.026\n",
       "==============================================================================\n",
       "Omnibus:                       20.131   Durbin-Watson:                   2.061\n",
       "Prob(Omnibus):                  0.000   Jarque-Bera (JB):               27.713\n",
       "Skew:                          -0.514   Prob(JB):                     9.60e-07\n",
       "Kurtosis:                       4.149   Cond. No.                         3.30\n",
       "==============================================================================\n",
       "\n",
       "Notes:\n",
       "[1] Standard Errors assume that the covariance matrix of the errors is correctly specified.\n",
       "\"\"\""
      ],
      "text/html": [
       "<table class=\"simpletable\">\n",
       "<caption>OLS Regression Results</caption>\n",
       "<tr>\n",
       "  <th>Dep. Variable:</th>          <td>Sales</td>      <th>  R-squared:         </th> <td>   0.988</td> \n",
       "</tr>\n",
       "<tr>\n",
       "  <th>Model:</th>                   <td>OLS</td>       <th>  Adj. R-squared:    </th> <td>   0.988</td> \n",
       "</tr>\n",
       "<tr>\n",
       "  <th>Method:</th>             <td>Least Squares</td>  <th>  F-statistic:       </th> <td>   5903.</td> \n",
       "</tr>\n",
       "<tr>\n",
       "  <th>Date:</th>             <td>Sun, 28 Sep 2025</td> <th>  Prob (F-statistic):</th> <td>3.54e-265</td>\n",
       "</tr>\n",
       "<tr>\n",
       "  <th>Time:</th>                 <td>17:09:24</td>     <th>  Log-Likelihood:    </th> <td> -3243.8</td> \n",
       "</tr>\n",
       "<tr>\n",
       "  <th>No. Observations:</th>      <td>   280</td>      <th>  AIC:               </th> <td>   6498.</td> \n",
       "</tr>\n",
       "<tr>\n",
       "  <th>Df Residuals:</th>          <td>   275</td>      <th>  BIC:               </th> <td>   6516.</td> \n",
       "</tr>\n",
       "<tr>\n",
       "  <th>Df Model:</th>              <td>     4</td>      <th>                     </th>     <td> </td>    \n",
       "</tr>\n",
       "<tr>\n",
       "  <th>Covariance Type:</th>      <td>nonrobust</td>    <th>                     </th>     <td> </td>    \n",
       "</tr>\n",
       "</table>\n",
       "<table class=\"simpletable\">\n",
       "<tr>\n",
       "    <td></td>       <th>coef</th>     <th>std err</th>      <th>t</th>      <th>P>|t|</th>  <th>[0.025</th>    <th>0.975]</th>  \n",
       "</tr>\n",
       "<tr>\n",
       "  <th>const</th> <td> 1.777e+05</td> <td> 1568.235</td> <td>  113.343</td> <td> 0.000</td> <td> 1.75e+05</td> <td> 1.81e+05</td>\n",
       "</tr>\n",
       "<tr>\n",
       "  <th>x1</th>    <td> 2.606e+05</td> <td> 2746.076</td> <td>   94.889</td> <td> 0.000</td> <td> 2.55e+05</td> <td> 2.66e+05</td>\n",
       "</tr>\n",
       "<tr>\n",
       "  <th>x2</th>    <td> -2.51e+04</td> <td> 2690.677</td> <td>   -9.330</td> <td> 0.000</td> <td>-3.04e+04</td> <td>-1.98e+04</td>\n",
       "</tr>\n",
       "<tr>\n",
       "  <th>x3</th>    <td>  980.9174</td> <td> 1676.315</td> <td>    0.585</td> <td> 0.559</td> <td>-2319.123</td> <td> 4280.958</td>\n",
       "</tr>\n",
       "<tr>\n",
       "  <th>x4</th>    <td>  178.3495</td> <td> 1574.536</td> <td>    0.113</td> <td> 0.910</td> <td>-2921.327</td> <td> 3278.026</td>\n",
       "</tr>\n",
       "</table>\n",
       "<table class=\"simpletable\">\n",
       "<tr>\n",
       "  <th>Omnibus:</th>       <td>20.131</td> <th>  Durbin-Watson:     </th> <td>   2.061</td>\n",
       "</tr>\n",
       "<tr>\n",
       "  <th>Prob(Omnibus):</th> <td> 0.000</td> <th>  Jarque-Bera (JB):  </th> <td>  27.713</td>\n",
       "</tr>\n",
       "<tr>\n",
       "  <th>Skew:</th>          <td>-0.514</td> <th>  Prob(JB):          </th> <td>9.60e-07</td>\n",
       "</tr>\n",
       "<tr>\n",
       "  <th>Kurtosis:</th>      <td> 4.149</td> <th>  Cond. No.          </th> <td>    3.30</td>\n",
       "</tr>\n",
       "</table><br/><br/>Notes:<br/>[1] Standard Errors assume that the covariance matrix of the errors is correctly specified."
      ],
      "text/latex": "\\begin{center}\n\\begin{tabular}{lclc}\n\\toprule\n\\textbf{Dep. Variable:}    &      Sales       & \\textbf{  R-squared:         } &     0.988   \\\\\n\\textbf{Model:}            &       OLS        & \\textbf{  Adj. R-squared:    } &     0.988   \\\\\n\\textbf{Method:}           &  Least Squares   & \\textbf{  F-statistic:       } &     5903.   \\\\\n\\textbf{Date:}             & Sun, 28 Sep 2025 & \\textbf{  Prob (F-statistic):} & 3.54e-265   \\\\\n\\textbf{Time:}             &     17:09:24     & \\textbf{  Log-Likelihood:    } &   -3243.8   \\\\\n\\textbf{No. Observations:} &         280      & \\textbf{  AIC:               } &     6498.   \\\\\n\\textbf{Df Residuals:}     &         275      & \\textbf{  BIC:               } &     6516.   \\\\\n\\textbf{Df Model:}         &           4      & \\textbf{                     } &             \\\\\n\\textbf{Covariance Type:}  &    nonrobust     & \\textbf{                     } &             \\\\\n\\bottomrule\n\\end{tabular}\n\\begin{tabular}{lcccccc}\n               & \\textbf{coef} & \\textbf{std err} & \\textbf{t} & \\textbf{P$> |$t$|$} & \\textbf{[0.025} & \\textbf{0.975]}  \\\\\n\\midrule\n\\textbf{const} &    1.777e+05  &     1568.235     &   113.343  &         0.000        &     1.75e+05    &     1.81e+05     \\\\\n\\textbf{x1}    &    2.606e+05  &     2746.076     &    94.889  &         0.000        &     2.55e+05    &     2.66e+05     \\\\\n\\textbf{x2}    &    -2.51e+04  &     2690.677     &    -9.330  &         0.000        &    -3.04e+04    &    -1.98e+04     \\\\\n\\textbf{x3}    &     980.9174  &     1676.315     &     0.585  &         0.559        &    -2319.123    &     4280.958     \\\\\n\\textbf{x4}    &     178.3495  &     1574.536     &     0.113  &         0.910        &    -2921.327    &     3278.026     \\\\\n\\bottomrule\n\\end{tabular}\n\\begin{tabular}{lclc}\n\\textbf{Omnibus:}       & 20.131 & \\textbf{  Durbin-Watson:     } &    2.061  \\\\\n\\textbf{Prob(Omnibus):} &  0.000 & \\textbf{  Jarque-Bera (JB):  } &   27.713  \\\\\n\\textbf{Skew:}          & -0.514 & \\textbf{  Prob(JB):          } & 9.60e-07  \\\\\n\\textbf{Kurtosis:}      &  4.149 & \\textbf{  Cond. No.          } &     3.30  \\\\\n\\bottomrule\n\\end{tabular}\n%\\caption{OLS Regression Results}\n\\end{center}\n\nNotes: \\newline\n [1] Standard Errors assume that the covariance matrix of the errors is correctly specified."
     },
     "execution_count": 26,
     "metadata": {},
     "output_type": "execute_result"
    }
   ],
   "execution_count": 26
  },
  {
   "cell_type": "markdown",
   "id": "c7449178-7353-4f7d-ac23-92022b0798cb",
   "metadata": {},
   "source": [
    "Los p-values de COGS y Discounts son de 0 por lo que sí influyen en las ventas, COGS alza ventas y descuentos las bajan. Los p-values de Units Sold y Manufacturing Price son grandes por lo que no hay evidencia de que aporten algo extra cuando COGS ya está en el modelo. "
   ]
  },
  {
   "cell_type": "markdown",
   "id": "59f70f7e-1998-4ed1-b6cb-eaacf0bdabbe",
   "metadata": {},
   "source": [
    "#### Interpretación signos betas"
   ]
  },
  {
   "cell_type": "markdown",
   "id": "c80857db-ae46-4416-9531-ec1e19a4877f",
   "metadata": {},
   "source": [
    "- const: Las ventas cuando las demás variables están en su nivel promedio son de aproximadamente 177,700\n",
    "- COGS: Si el Cost of Groods Sold sube las ventas incrementan en más de 260,600\n",
    "- Discounts: Si los descuentos suben las ventas bajan en aproximadamente 25,100\n",
    "- Units Sold: Cuando las unidades vendidas incrementan las ventas también lo hacen en 980.9174\n",
    "- Manufacturing Price: Cuando el precio de manufactura incrementa, las ventas lo hacen en 178.3495"
   ]
  },
  {
   "cell_type": "markdown",
   "id": "ad8438c7-6a88-4330-a637-5e84eba67f70",
   "metadata": {},
   "source": [
    "#### Test"
   ]
  },
  {
   "cell_type": "code",
   "id": "a5be3817-796d-4a46-a601-d7b4e427c656",
   "metadata": {
    "ExecuteTime": {
     "end_time": "2025-09-28T23:09:24.240555Z",
     "start_time": "2025-09-28T23:09:24.236651Z"
    }
   },
   "source": [
    "X_test_scaled = scaler.transform(x_test)\n",
    "lr = LinearRegression()\n",
    "lr.fit(X_test_scaled, y_test)"
   ],
   "outputs": [
    {
     "data": {
      "text/plain": [
       "LinearRegression()"
      ],
      "text/html": [
       "<style>#sk-container-id-3 {\n",
       "  /* Definition of color scheme common for light and dark mode */\n",
       "  --sklearn-color-text: black;\n",
       "  --sklearn-color-line: gray;\n",
       "  /* Definition of color scheme for unfitted estimators */\n",
       "  --sklearn-color-unfitted-level-0: #fff5e6;\n",
       "  --sklearn-color-unfitted-level-1: #f6e4d2;\n",
       "  --sklearn-color-unfitted-level-2: #ffe0b3;\n",
       "  --sklearn-color-unfitted-level-3: chocolate;\n",
       "  /* Definition of color scheme for fitted estimators */\n",
       "  --sklearn-color-fitted-level-0: #f0f8ff;\n",
       "  --sklearn-color-fitted-level-1: #d4ebff;\n",
       "  --sklearn-color-fitted-level-2: #b3dbfd;\n",
       "  --sklearn-color-fitted-level-3: cornflowerblue;\n",
       "\n",
       "  /* Specific color for light theme */\n",
       "  --sklearn-color-text-on-default-background: var(--sg-text-color, var(--theme-code-foreground, var(--jp-content-font-color1, black)));\n",
       "  --sklearn-color-background: var(--sg-background-color, var(--theme-background, var(--jp-layout-color0, white)));\n",
       "  --sklearn-color-border-box: var(--sg-text-color, var(--theme-code-foreground, var(--jp-content-font-color1, black)));\n",
       "  --sklearn-color-icon: #696969;\n",
       "\n",
       "  @media (prefers-color-scheme: dark) {\n",
       "    /* Redefinition of color scheme for dark theme */\n",
       "    --sklearn-color-text-on-default-background: var(--sg-text-color, var(--theme-code-foreground, var(--jp-content-font-color1, white)));\n",
       "    --sklearn-color-background: var(--sg-background-color, var(--theme-background, var(--jp-layout-color0, #111)));\n",
       "    --sklearn-color-border-box: var(--sg-text-color, var(--theme-code-foreground, var(--jp-content-font-color1, white)));\n",
       "    --sklearn-color-icon: #878787;\n",
       "  }\n",
       "}\n",
       "\n",
       "#sk-container-id-3 {\n",
       "  color: var(--sklearn-color-text);\n",
       "}\n",
       "\n",
       "#sk-container-id-3 pre {\n",
       "  padding: 0;\n",
       "}\n",
       "\n",
       "#sk-container-id-3 input.sk-hidden--visually {\n",
       "  border: 0;\n",
       "  clip: rect(1px 1px 1px 1px);\n",
       "  clip: rect(1px, 1px, 1px, 1px);\n",
       "  height: 1px;\n",
       "  margin: -1px;\n",
       "  overflow: hidden;\n",
       "  padding: 0;\n",
       "  position: absolute;\n",
       "  width: 1px;\n",
       "}\n",
       "\n",
       "#sk-container-id-3 div.sk-dashed-wrapped {\n",
       "  border: 1px dashed var(--sklearn-color-line);\n",
       "  margin: 0 0.4em 0.5em 0.4em;\n",
       "  box-sizing: border-box;\n",
       "  padding-bottom: 0.4em;\n",
       "  background-color: var(--sklearn-color-background);\n",
       "}\n",
       "\n",
       "#sk-container-id-3 div.sk-container {\n",
       "  /* jupyter's `normalize.less` sets `[hidden] { display: none; }`\n",
       "     but bootstrap.min.css set `[hidden] { display: none !important; }`\n",
       "     so we also need the `!important` here to be able to override the\n",
       "     default hidden behavior on the sphinx rendered scikit-learn.org.\n",
       "     See: https://github.com/scikit-learn/scikit-learn/issues/21755 */\n",
       "  display: inline-block !important;\n",
       "  position: relative;\n",
       "}\n",
       "\n",
       "#sk-container-id-3 div.sk-text-repr-fallback {\n",
       "  display: none;\n",
       "}\n",
       "\n",
       "div.sk-parallel-item,\n",
       "div.sk-serial,\n",
       "div.sk-item {\n",
       "  /* draw centered vertical line to link estimators */\n",
       "  background-image: linear-gradient(var(--sklearn-color-text-on-default-background), var(--sklearn-color-text-on-default-background));\n",
       "  background-size: 2px 100%;\n",
       "  background-repeat: no-repeat;\n",
       "  background-position: center center;\n",
       "}\n",
       "\n",
       "/* Parallel-specific style estimator block */\n",
       "\n",
       "#sk-container-id-3 div.sk-parallel-item::after {\n",
       "  content: \"\";\n",
       "  width: 100%;\n",
       "  border-bottom: 2px solid var(--sklearn-color-text-on-default-background);\n",
       "  flex-grow: 1;\n",
       "}\n",
       "\n",
       "#sk-container-id-3 div.sk-parallel {\n",
       "  display: flex;\n",
       "  align-items: stretch;\n",
       "  justify-content: center;\n",
       "  background-color: var(--sklearn-color-background);\n",
       "  position: relative;\n",
       "}\n",
       "\n",
       "#sk-container-id-3 div.sk-parallel-item {\n",
       "  display: flex;\n",
       "  flex-direction: column;\n",
       "}\n",
       "\n",
       "#sk-container-id-3 div.sk-parallel-item:first-child::after {\n",
       "  align-self: flex-end;\n",
       "  width: 50%;\n",
       "}\n",
       "\n",
       "#sk-container-id-3 div.sk-parallel-item:last-child::after {\n",
       "  align-self: flex-start;\n",
       "  width: 50%;\n",
       "}\n",
       "\n",
       "#sk-container-id-3 div.sk-parallel-item:only-child::after {\n",
       "  width: 0;\n",
       "}\n",
       "\n",
       "/* Serial-specific style estimator block */\n",
       "\n",
       "#sk-container-id-3 div.sk-serial {\n",
       "  display: flex;\n",
       "  flex-direction: column;\n",
       "  align-items: center;\n",
       "  background-color: var(--sklearn-color-background);\n",
       "  padding-right: 1em;\n",
       "  padding-left: 1em;\n",
       "}\n",
       "\n",
       "\n",
       "/* Toggleable style: style used for estimator/Pipeline/ColumnTransformer box that is\n",
       "clickable and can be expanded/collapsed.\n",
       "- Pipeline and ColumnTransformer use this feature and define the default style\n",
       "- Estimators will overwrite some part of the style using the `sk-estimator` class\n",
       "*/\n",
       "\n",
       "/* Pipeline and ColumnTransformer style (default) */\n",
       "\n",
       "#sk-container-id-3 div.sk-toggleable {\n",
       "  /* Default theme specific background. It is overwritten whether we have a\n",
       "  specific estimator or a Pipeline/ColumnTransformer */\n",
       "  background-color: var(--sklearn-color-background);\n",
       "}\n",
       "\n",
       "/* Toggleable label */\n",
       "#sk-container-id-3 label.sk-toggleable__label {\n",
       "  cursor: pointer;\n",
       "  display: block;\n",
       "  width: 100%;\n",
       "  margin-bottom: 0;\n",
       "  padding: 0.5em;\n",
       "  box-sizing: border-box;\n",
       "  text-align: center;\n",
       "}\n",
       "\n",
       "#sk-container-id-3 label.sk-toggleable__label-arrow:before {\n",
       "  /* Arrow on the left of the label */\n",
       "  content: \"▸\";\n",
       "  float: left;\n",
       "  margin-right: 0.25em;\n",
       "  color: var(--sklearn-color-icon);\n",
       "}\n",
       "\n",
       "#sk-container-id-3 label.sk-toggleable__label-arrow:hover:before {\n",
       "  color: var(--sklearn-color-text);\n",
       "}\n",
       "\n",
       "/* Toggleable content - dropdown */\n",
       "\n",
       "#sk-container-id-3 div.sk-toggleable__content {\n",
       "  max-height: 0;\n",
       "  max-width: 0;\n",
       "  overflow: hidden;\n",
       "  text-align: left;\n",
       "  /* unfitted */\n",
       "  background-color: var(--sklearn-color-unfitted-level-0);\n",
       "}\n",
       "\n",
       "#sk-container-id-3 div.sk-toggleable__content.fitted {\n",
       "  /* fitted */\n",
       "  background-color: var(--sklearn-color-fitted-level-0);\n",
       "}\n",
       "\n",
       "#sk-container-id-3 div.sk-toggleable__content pre {\n",
       "  margin: 0.2em;\n",
       "  border-radius: 0.25em;\n",
       "  color: var(--sklearn-color-text);\n",
       "  /* unfitted */\n",
       "  background-color: var(--sklearn-color-unfitted-level-0);\n",
       "}\n",
       "\n",
       "#sk-container-id-3 div.sk-toggleable__content.fitted pre {\n",
       "  /* unfitted */\n",
       "  background-color: var(--sklearn-color-fitted-level-0);\n",
       "}\n",
       "\n",
       "#sk-container-id-3 input.sk-toggleable__control:checked~div.sk-toggleable__content {\n",
       "  /* Expand drop-down */\n",
       "  max-height: 200px;\n",
       "  max-width: 100%;\n",
       "  overflow: auto;\n",
       "}\n",
       "\n",
       "#sk-container-id-3 input.sk-toggleable__control:checked~label.sk-toggleable__label-arrow:before {\n",
       "  content: \"▾\";\n",
       "}\n",
       "\n",
       "/* Pipeline/ColumnTransformer-specific style */\n",
       "\n",
       "#sk-container-id-3 div.sk-label input.sk-toggleable__control:checked~label.sk-toggleable__label {\n",
       "  color: var(--sklearn-color-text);\n",
       "  background-color: var(--sklearn-color-unfitted-level-2);\n",
       "}\n",
       "\n",
       "#sk-container-id-3 div.sk-label.fitted input.sk-toggleable__control:checked~label.sk-toggleable__label {\n",
       "  background-color: var(--sklearn-color-fitted-level-2);\n",
       "}\n",
       "\n",
       "/* Estimator-specific style */\n",
       "\n",
       "/* Colorize estimator box */\n",
       "#sk-container-id-3 div.sk-estimator input.sk-toggleable__control:checked~label.sk-toggleable__label {\n",
       "  /* unfitted */\n",
       "  background-color: var(--sklearn-color-unfitted-level-2);\n",
       "}\n",
       "\n",
       "#sk-container-id-3 div.sk-estimator.fitted input.sk-toggleable__control:checked~label.sk-toggleable__label {\n",
       "  /* fitted */\n",
       "  background-color: var(--sklearn-color-fitted-level-2);\n",
       "}\n",
       "\n",
       "#sk-container-id-3 div.sk-label label.sk-toggleable__label,\n",
       "#sk-container-id-3 div.sk-label label {\n",
       "  /* The background is the default theme color */\n",
       "  color: var(--sklearn-color-text-on-default-background);\n",
       "}\n",
       "\n",
       "/* On hover, darken the color of the background */\n",
       "#sk-container-id-3 div.sk-label:hover label.sk-toggleable__label {\n",
       "  color: var(--sklearn-color-text);\n",
       "  background-color: var(--sklearn-color-unfitted-level-2);\n",
       "}\n",
       "\n",
       "/* Label box, darken color on hover, fitted */\n",
       "#sk-container-id-3 div.sk-label.fitted:hover label.sk-toggleable__label.fitted {\n",
       "  color: var(--sklearn-color-text);\n",
       "  background-color: var(--sklearn-color-fitted-level-2);\n",
       "}\n",
       "\n",
       "/* Estimator label */\n",
       "\n",
       "#sk-container-id-3 div.sk-label label {\n",
       "  font-family: monospace;\n",
       "  font-weight: bold;\n",
       "  display: inline-block;\n",
       "  line-height: 1.2em;\n",
       "}\n",
       "\n",
       "#sk-container-id-3 div.sk-label-container {\n",
       "  text-align: center;\n",
       "}\n",
       "\n",
       "/* Estimator-specific */\n",
       "#sk-container-id-3 div.sk-estimator {\n",
       "  font-family: monospace;\n",
       "  border: 1px dotted var(--sklearn-color-border-box);\n",
       "  border-radius: 0.25em;\n",
       "  box-sizing: border-box;\n",
       "  margin-bottom: 0.5em;\n",
       "  /* unfitted */\n",
       "  background-color: var(--sklearn-color-unfitted-level-0);\n",
       "}\n",
       "\n",
       "#sk-container-id-3 div.sk-estimator.fitted {\n",
       "  /* fitted */\n",
       "  background-color: var(--sklearn-color-fitted-level-0);\n",
       "}\n",
       "\n",
       "/* on hover */\n",
       "#sk-container-id-3 div.sk-estimator:hover {\n",
       "  /* unfitted */\n",
       "  background-color: var(--sklearn-color-unfitted-level-2);\n",
       "}\n",
       "\n",
       "#sk-container-id-3 div.sk-estimator.fitted:hover {\n",
       "  /* fitted */\n",
       "  background-color: var(--sklearn-color-fitted-level-2);\n",
       "}\n",
       "\n",
       "/* Specification for estimator info (e.g. \"i\" and \"?\") */\n",
       "\n",
       "/* Common style for \"i\" and \"?\" */\n",
       "\n",
       ".sk-estimator-doc-link,\n",
       "a:link.sk-estimator-doc-link,\n",
       "a:visited.sk-estimator-doc-link {\n",
       "  float: right;\n",
       "  font-size: smaller;\n",
       "  line-height: 1em;\n",
       "  font-family: monospace;\n",
       "  background-color: var(--sklearn-color-background);\n",
       "  border-radius: 1em;\n",
       "  height: 1em;\n",
       "  width: 1em;\n",
       "  text-decoration: none !important;\n",
       "  margin-left: 1ex;\n",
       "  /* unfitted */\n",
       "  border: var(--sklearn-color-unfitted-level-1) 1pt solid;\n",
       "  color: var(--sklearn-color-unfitted-level-1);\n",
       "}\n",
       "\n",
       ".sk-estimator-doc-link.fitted,\n",
       "a:link.sk-estimator-doc-link.fitted,\n",
       "a:visited.sk-estimator-doc-link.fitted {\n",
       "  /* fitted */\n",
       "  border: var(--sklearn-color-fitted-level-1) 1pt solid;\n",
       "  color: var(--sklearn-color-fitted-level-1);\n",
       "}\n",
       "\n",
       "/* On hover */\n",
       "div.sk-estimator:hover .sk-estimator-doc-link:hover,\n",
       ".sk-estimator-doc-link:hover,\n",
       "div.sk-label-container:hover .sk-estimator-doc-link:hover,\n",
       ".sk-estimator-doc-link:hover {\n",
       "  /* unfitted */\n",
       "  background-color: var(--sklearn-color-unfitted-level-3);\n",
       "  color: var(--sklearn-color-background);\n",
       "  text-decoration: none;\n",
       "}\n",
       "\n",
       "div.sk-estimator.fitted:hover .sk-estimator-doc-link.fitted:hover,\n",
       ".sk-estimator-doc-link.fitted:hover,\n",
       "div.sk-label-container:hover .sk-estimator-doc-link.fitted:hover,\n",
       ".sk-estimator-doc-link.fitted:hover {\n",
       "  /* fitted */\n",
       "  background-color: var(--sklearn-color-fitted-level-3);\n",
       "  color: var(--sklearn-color-background);\n",
       "  text-decoration: none;\n",
       "}\n",
       "\n",
       "/* Span, style for the box shown on hovering the info icon */\n",
       ".sk-estimator-doc-link span {\n",
       "  display: none;\n",
       "  z-index: 9999;\n",
       "  position: relative;\n",
       "  font-weight: normal;\n",
       "  right: .2ex;\n",
       "  padding: .5ex;\n",
       "  margin: .5ex;\n",
       "  width: min-content;\n",
       "  min-width: 20ex;\n",
       "  max-width: 50ex;\n",
       "  color: var(--sklearn-color-text);\n",
       "  box-shadow: 2pt 2pt 4pt #999;\n",
       "  /* unfitted */\n",
       "  background: var(--sklearn-color-unfitted-level-0);\n",
       "  border: .5pt solid var(--sklearn-color-unfitted-level-3);\n",
       "}\n",
       "\n",
       ".sk-estimator-doc-link.fitted span {\n",
       "  /* fitted */\n",
       "  background: var(--sklearn-color-fitted-level-0);\n",
       "  border: var(--sklearn-color-fitted-level-3);\n",
       "}\n",
       "\n",
       ".sk-estimator-doc-link:hover span {\n",
       "  display: block;\n",
       "}\n",
       "\n",
       "/* \"?\"-specific style due to the `<a>` HTML tag */\n",
       "\n",
       "#sk-container-id-3 a.estimator_doc_link {\n",
       "  float: right;\n",
       "  font-size: 1rem;\n",
       "  line-height: 1em;\n",
       "  font-family: monospace;\n",
       "  background-color: var(--sklearn-color-background);\n",
       "  border-radius: 1rem;\n",
       "  height: 1rem;\n",
       "  width: 1rem;\n",
       "  text-decoration: none;\n",
       "  /* unfitted */\n",
       "  color: var(--sklearn-color-unfitted-level-1);\n",
       "  border: var(--sklearn-color-unfitted-level-1) 1pt solid;\n",
       "}\n",
       "\n",
       "#sk-container-id-3 a.estimator_doc_link.fitted {\n",
       "  /* fitted */\n",
       "  border: var(--sklearn-color-fitted-level-1) 1pt solid;\n",
       "  color: var(--sklearn-color-fitted-level-1);\n",
       "}\n",
       "\n",
       "/* On hover */\n",
       "#sk-container-id-3 a.estimator_doc_link:hover {\n",
       "  /* unfitted */\n",
       "  background-color: var(--sklearn-color-unfitted-level-3);\n",
       "  color: var(--sklearn-color-background);\n",
       "  text-decoration: none;\n",
       "}\n",
       "\n",
       "#sk-container-id-3 a.estimator_doc_link.fitted:hover {\n",
       "  /* fitted */\n",
       "  background-color: var(--sklearn-color-fitted-level-3);\n",
       "}\n",
       "</style><div id=\"sk-container-id-3\" class=\"sk-top-container\"><div class=\"sk-text-repr-fallback\"><pre>LinearRegression()</pre><b>In a Jupyter environment, please rerun this cell to show the HTML representation or trust the notebook. <br />On GitHub, the HTML representation is unable to render, please try loading this page with nbviewer.org.</b></div><div class=\"sk-container\" hidden><div class=\"sk-item\"><div class=\"sk-estimator fitted sk-toggleable\"><input class=\"sk-toggleable__control sk-hidden--visually\" id=\"sk-estimator-id-3\" type=\"checkbox\" checked><label for=\"sk-estimator-id-3\" class=\"sk-toggleable__label fitted sk-toggleable__label-arrow fitted\">&nbsp;&nbsp;LinearRegression<a class=\"sk-estimator-doc-link fitted\" rel=\"noreferrer\" target=\"_blank\" href=\"https://scikit-learn.org/1.5/modules/generated/sklearn.linear_model.LinearRegression.html\">?<span>Documentation for LinearRegression</span></a><span class=\"sk-estimator-doc-link fitted\">i<span>Fitted</span></span></label><div class=\"sk-toggleable__content fitted\"><pre>LinearRegression()</pre></div> </div></div></div></div>"
      ]
     },
     "execution_count": 27,
     "metadata": {},
     "output_type": "execute_result"
    }
   ],
   "execution_count": 27
  },
  {
   "cell_type": "code",
   "id": "13e924ae-2dc5-4124-98db-ad2d76477bf7",
   "metadata": {
    "ExecuteTime": {
     "end_time": "2025-09-28T23:09:24.277703Z",
     "start_time": "2025-09-28T23:09:24.274835Z"
    }
   },
   "source": [
    "y_hat_test = lr.predict(X_test_scaled)\n",
    "r2_score(y_test, y_hat_test)"
   ],
   "outputs": [
    {
     "data": {
      "text/plain": [
       "0.9871901733701929"
      ]
     },
     "execution_count": 28,
     "metadata": {},
     "output_type": "execute_result"
    }
   ],
   "execution_count": 28
  },
  {
   "cell_type": "code",
   "id": "e00c86da-a27b-4d02-9ee2-590cda330785",
   "metadata": {
    "ExecuteTime": {
     "end_time": "2025-09-28T23:09:24.309859Z",
     "start_time": "2025-09-28T23:09:24.298981Z"
    }
   },
   "source": [
    "n = len(X_test_scaled)\n",
    "unos = np.ones([n,1])\n",
    "X = np.column_stack([unos,X_test_scaled])\n",
    "ols = sm.OLS(y_test, X)\n",
    "results = ols.fit()\n",
    "results.summary()"
   ],
   "outputs": [
    {
     "data": {
      "text/plain": [
       "<class 'statsmodels.iolib.summary.Summary'>\n",
       "\"\"\"\n",
       "                            OLS Regression Results                            \n",
       "==============================================================================\n",
       "Dep. Variable:                  Sales   R-squared:                       0.987\n",
       "Model:                            OLS   Adj. R-squared:                  0.987\n",
       "Method:                 Least Squares   F-statistic:                     7996.\n",
       "Date:                Sun, 28 Sep 2025   Prob (F-statistic):               0.00\n",
       "Time:                        17:09:24   Log-Likelihood:                -4870.6\n",
       "No. Observations:                 420   AIC:                             9751.\n",
       "Df Residuals:                     415   BIC:                             9771.\n",
       "Df Model:                           4                                         \n",
       "Covariance Type:            nonrobust                                         \n",
       "==============================================================================\n",
       "                 coef    std err          t      P>|t|      [0.025      0.975]\n",
       "------------------------------------------------------------------------------\n",
       "const       1.752e+05   1306.638    134.068      0.000    1.73e+05    1.78e+05\n",
       "x1          2.498e+05   2098.769    119.011      0.000    2.46e+05    2.54e+05\n",
       "x2         -1.838e+04   2016.892     -9.115      0.000   -2.23e+04   -1.44e+04\n",
       "x3         -1356.0176   1249.710     -1.085      0.279   -3812.568    1100.533\n",
       "x4          1328.9468   1276.174      1.041      0.298   -1179.625    3837.518\n",
       "==============================================================================\n",
       "Omnibus:                       34.864   Durbin-Watson:                   1.910\n",
       "Prob(Omnibus):                  0.000   Jarque-Bera (JB):              150.449\n",
       "Skew:                           0.116   Prob(JB):                     2.14e-33\n",
       "Kurtosis:                       5.923   Cond. No.                         2.96\n",
       "==============================================================================\n",
       "\n",
       "Notes:\n",
       "[1] Standard Errors assume that the covariance matrix of the errors is correctly specified.\n",
       "\"\"\""
      ],
      "text/html": [
       "<table class=\"simpletable\">\n",
       "<caption>OLS Regression Results</caption>\n",
       "<tr>\n",
       "  <th>Dep. Variable:</th>          <td>Sales</td>      <th>  R-squared:         </th> <td>   0.987</td>\n",
       "</tr>\n",
       "<tr>\n",
       "  <th>Model:</th>                   <td>OLS</td>       <th>  Adj. R-squared:    </th> <td>   0.987</td>\n",
       "</tr>\n",
       "<tr>\n",
       "  <th>Method:</th>             <td>Least Squares</td>  <th>  F-statistic:       </th> <td>   7996.</td>\n",
       "</tr>\n",
       "<tr>\n",
       "  <th>Date:</th>             <td>Sun, 28 Sep 2025</td> <th>  Prob (F-statistic):</th>  <td>  0.00</td> \n",
       "</tr>\n",
       "<tr>\n",
       "  <th>Time:</th>                 <td>17:09:24</td>     <th>  Log-Likelihood:    </th> <td> -4870.6</td>\n",
       "</tr>\n",
       "<tr>\n",
       "  <th>No. Observations:</th>      <td>   420</td>      <th>  AIC:               </th> <td>   9751.</td>\n",
       "</tr>\n",
       "<tr>\n",
       "  <th>Df Residuals:</th>          <td>   415</td>      <th>  BIC:               </th> <td>   9771.</td>\n",
       "</tr>\n",
       "<tr>\n",
       "  <th>Df Model:</th>              <td>     4</td>      <th>                     </th>     <td> </td>   \n",
       "</tr>\n",
       "<tr>\n",
       "  <th>Covariance Type:</th>      <td>nonrobust</td>    <th>                     </th>     <td> </td>   \n",
       "</tr>\n",
       "</table>\n",
       "<table class=\"simpletable\">\n",
       "<tr>\n",
       "    <td></td>       <th>coef</th>     <th>std err</th>      <th>t</th>      <th>P>|t|</th>  <th>[0.025</th>    <th>0.975]</th>  \n",
       "</tr>\n",
       "<tr>\n",
       "  <th>const</th> <td> 1.752e+05</td> <td> 1306.638</td> <td>  134.068</td> <td> 0.000</td> <td> 1.73e+05</td> <td> 1.78e+05</td>\n",
       "</tr>\n",
       "<tr>\n",
       "  <th>x1</th>    <td> 2.498e+05</td> <td> 2098.769</td> <td>  119.011</td> <td> 0.000</td> <td> 2.46e+05</td> <td> 2.54e+05</td>\n",
       "</tr>\n",
       "<tr>\n",
       "  <th>x2</th>    <td>-1.838e+04</td> <td> 2016.892</td> <td>   -9.115</td> <td> 0.000</td> <td>-2.23e+04</td> <td>-1.44e+04</td>\n",
       "</tr>\n",
       "<tr>\n",
       "  <th>x3</th>    <td>-1356.0176</td> <td> 1249.710</td> <td>   -1.085</td> <td> 0.279</td> <td>-3812.568</td> <td> 1100.533</td>\n",
       "</tr>\n",
       "<tr>\n",
       "  <th>x4</th>    <td> 1328.9468</td> <td> 1276.174</td> <td>    1.041</td> <td> 0.298</td> <td>-1179.625</td> <td> 3837.518</td>\n",
       "</tr>\n",
       "</table>\n",
       "<table class=\"simpletable\">\n",
       "<tr>\n",
       "  <th>Omnibus:</th>       <td>34.864</td> <th>  Durbin-Watson:     </th> <td>   1.910</td>\n",
       "</tr>\n",
       "<tr>\n",
       "  <th>Prob(Omnibus):</th> <td> 0.000</td> <th>  Jarque-Bera (JB):  </th> <td> 150.449</td>\n",
       "</tr>\n",
       "<tr>\n",
       "  <th>Skew:</th>          <td> 0.116</td> <th>  Prob(JB):          </th> <td>2.14e-33</td>\n",
       "</tr>\n",
       "<tr>\n",
       "  <th>Kurtosis:</th>      <td> 5.923</td> <th>  Cond. No.          </th> <td>    2.96</td>\n",
       "</tr>\n",
       "</table><br/><br/>Notes:<br/>[1] Standard Errors assume that the covariance matrix of the errors is correctly specified."
      ],
      "text/latex": "\\begin{center}\n\\begin{tabular}{lclc}\n\\toprule\n\\textbf{Dep. Variable:}    &      Sales       & \\textbf{  R-squared:         } &     0.987   \\\\\n\\textbf{Model:}            &       OLS        & \\textbf{  Adj. R-squared:    } &     0.987   \\\\\n\\textbf{Method:}           &  Least Squares   & \\textbf{  F-statistic:       } &     7996.   \\\\\n\\textbf{Date:}             & Sun, 28 Sep 2025 & \\textbf{  Prob (F-statistic):} &     0.00    \\\\\n\\textbf{Time:}             &     17:09:24     & \\textbf{  Log-Likelihood:    } &   -4870.6   \\\\\n\\textbf{No. Observations:} &         420      & \\textbf{  AIC:               } &     9751.   \\\\\n\\textbf{Df Residuals:}     &         415      & \\textbf{  BIC:               } &     9771.   \\\\\n\\textbf{Df Model:}         &           4      & \\textbf{                     } &             \\\\\n\\textbf{Covariance Type:}  &    nonrobust     & \\textbf{                     } &             \\\\\n\\bottomrule\n\\end{tabular}\n\\begin{tabular}{lcccccc}\n               & \\textbf{coef} & \\textbf{std err} & \\textbf{t} & \\textbf{P$> |$t$|$} & \\textbf{[0.025} & \\textbf{0.975]}  \\\\\n\\midrule\n\\textbf{const} &    1.752e+05  &     1306.638     &   134.068  &         0.000        &     1.73e+05    &     1.78e+05     \\\\\n\\textbf{x1}    &    2.498e+05  &     2098.769     &   119.011  &         0.000        &     2.46e+05    &     2.54e+05     \\\\\n\\textbf{x2}    &   -1.838e+04  &     2016.892     &    -9.115  &         0.000        &    -2.23e+04    &    -1.44e+04     \\\\\n\\textbf{x3}    &   -1356.0176  &     1249.710     &    -1.085  &         0.279        &    -3812.568    &     1100.533     \\\\\n\\textbf{x4}    &    1328.9468  &     1276.174     &     1.041  &         0.298        &    -1179.625    &     3837.518     \\\\\n\\bottomrule\n\\end{tabular}\n\\begin{tabular}{lclc}\n\\textbf{Omnibus:}       & 34.864 & \\textbf{  Durbin-Watson:     } &    1.910  \\\\\n\\textbf{Prob(Omnibus):} &  0.000 & \\textbf{  Jarque-Bera (JB):  } &  150.449  \\\\\n\\textbf{Skew:}          &  0.116 & \\textbf{  Prob(JB):          } & 2.14e-33  \\\\\n\\textbf{Kurtosis:}      &  5.923 & \\textbf{  Cond. No.          } &     2.96  \\\\\n\\bottomrule\n\\end{tabular}\n%\\caption{OLS Regression Results}\n\\end{center}\n\nNotes: \\newline\n [1] Standard Errors assume that the covariance matrix of the errors is correctly specified."
     },
     "execution_count": 29,
     "metadata": {},
     "output_type": "execute_result"
    }
   ],
   "execution_count": 29
  },
  {
   "cell_type": "markdown",
   "id": "b5bbc73d-c422-4369-8b68-636e764f5706",
   "metadata": {},
   "source": [
    "Al igual que el modelo con Train, en el conjunto de Test, COGS y Discounts son claramente significativos (p-values < 0.001) pues COGS empuja ventas hacia arriba y los descuentos las reducen. En cambio, Units Sold y Manufacturing Price no son significativos al tener COGS en el modelo."
   ]
  },
  {
   "cell_type": "markdown",
   "id": "6a8a07bc-6dd9-4c4b-951d-5e38079f7e50",
   "metadata": {},
   "source": [
    "#### Interpretación signos Betas"
   ]
  },
  {
   "cell_type": "markdown",
   "id": "c9e78025-d691-442a-88b3-d0d32094616b",
   "metadata": {},
   "source": [
    "- const: Ventas promedio cuando las demás variables están en su nivel promedio son de aproximadamente 175,200.\n",
    "- COGS: Si el COGS sube, las ventas aumentan aproximadamente 249,800.\n",
    "- Discounts: Si los descuentos suben, las ventas bajan aproximadamente 18,400.\n",
    "- Units Sold: Tiene un efecto pequeño, no vemos cambio claro en ventas (-1356.0176).\n",
    "- Manufacturing Price: Tiene un efecto pequeño, tampoco hay un cambio claro (1328.9468)"
   ]
  },
  {
   "cell_type": "markdown",
   "id": "45013c2e-a1c1-4c56-b283-5305ac95df79",
   "metadata": {},
   "source": [
    "### Ridge"
   ]
  },
  {
   "cell_type": "code",
   "id": "88afc1a4-2781-49cf-8d46-66aa64ccc2cd",
   "metadata": {
    "ExecuteTime": {
     "end_time": "2025-09-28T23:09:24.329505Z",
     "start_time": "2025-09-28T23:09:24.322315Z"
    }
   },
   "source": [
    "l2 = Ridge(alpha = 0.1)  \n",
    "l2.fit(x, y)"
   ],
   "outputs": [
    {
     "data": {
      "text/plain": [
       "Ridge(alpha=0.1)"
      ],
      "text/html": [
       "<style>#sk-container-id-4 {\n",
       "  /* Definition of color scheme common for light and dark mode */\n",
       "  --sklearn-color-text: black;\n",
       "  --sklearn-color-line: gray;\n",
       "  /* Definition of color scheme for unfitted estimators */\n",
       "  --sklearn-color-unfitted-level-0: #fff5e6;\n",
       "  --sklearn-color-unfitted-level-1: #f6e4d2;\n",
       "  --sklearn-color-unfitted-level-2: #ffe0b3;\n",
       "  --sklearn-color-unfitted-level-3: chocolate;\n",
       "  /* Definition of color scheme for fitted estimators */\n",
       "  --sklearn-color-fitted-level-0: #f0f8ff;\n",
       "  --sklearn-color-fitted-level-1: #d4ebff;\n",
       "  --sklearn-color-fitted-level-2: #b3dbfd;\n",
       "  --sklearn-color-fitted-level-3: cornflowerblue;\n",
       "\n",
       "  /* Specific color for light theme */\n",
       "  --sklearn-color-text-on-default-background: var(--sg-text-color, var(--theme-code-foreground, var(--jp-content-font-color1, black)));\n",
       "  --sklearn-color-background: var(--sg-background-color, var(--theme-background, var(--jp-layout-color0, white)));\n",
       "  --sklearn-color-border-box: var(--sg-text-color, var(--theme-code-foreground, var(--jp-content-font-color1, black)));\n",
       "  --sklearn-color-icon: #696969;\n",
       "\n",
       "  @media (prefers-color-scheme: dark) {\n",
       "    /* Redefinition of color scheme for dark theme */\n",
       "    --sklearn-color-text-on-default-background: var(--sg-text-color, var(--theme-code-foreground, var(--jp-content-font-color1, white)));\n",
       "    --sklearn-color-background: var(--sg-background-color, var(--theme-background, var(--jp-layout-color0, #111)));\n",
       "    --sklearn-color-border-box: var(--sg-text-color, var(--theme-code-foreground, var(--jp-content-font-color1, white)));\n",
       "    --sklearn-color-icon: #878787;\n",
       "  }\n",
       "}\n",
       "\n",
       "#sk-container-id-4 {\n",
       "  color: var(--sklearn-color-text);\n",
       "}\n",
       "\n",
       "#sk-container-id-4 pre {\n",
       "  padding: 0;\n",
       "}\n",
       "\n",
       "#sk-container-id-4 input.sk-hidden--visually {\n",
       "  border: 0;\n",
       "  clip: rect(1px 1px 1px 1px);\n",
       "  clip: rect(1px, 1px, 1px, 1px);\n",
       "  height: 1px;\n",
       "  margin: -1px;\n",
       "  overflow: hidden;\n",
       "  padding: 0;\n",
       "  position: absolute;\n",
       "  width: 1px;\n",
       "}\n",
       "\n",
       "#sk-container-id-4 div.sk-dashed-wrapped {\n",
       "  border: 1px dashed var(--sklearn-color-line);\n",
       "  margin: 0 0.4em 0.5em 0.4em;\n",
       "  box-sizing: border-box;\n",
       "  padding-bottom: 0.4em;\n",
       "  background-color: var(--sklearn-color-background);\n",
       "}\n",
       "\n",
       "#sk-container-id-4 div.sk-container {\n",
       "  /* jupyter's `normalize.less` sets `[hidden] { display: none; }`\n",
       "     but bootstrap.min.css set `[hidden] { display: none !important; }`\n",
       "     so we also need the `!important` here to be able to override the\n",
       "     default hidden behavior on the sphinx rendered scikit-learn.org.\n",
       "     See: https://github.com/scikit-learn/scikit-learn/issues/21755 */\n",
       "  display: inline-block !important;\n",
       "  position: relative;\n",
       "}\n",
       "\n",
       "#sk-container-id-4 div.sk-text-repr-fallback {\n",
       "  display: none;\n",
       "}\n",
       "\n",
       "div.sk-parallel-item,\n",
       "div.sk-serial,\n",
       "div.sk-item {\n",
       "  /* draw centered vertical line to link estimators */\n",
       "  background-image: linear-gradient(var(--sklearn-color-text-on-default-background), var(--sklearn-color-text-on-default-background));\n",
       "  background-size: 2px 100%;\n",
       "  background-repeat: no-repeat;\n",
       "  background-position: center center;\n",
       "}\n",
       "\n",
       "/* Parallel-specific style estimator block */\n",
       "\n",
       "#sk-container-id-4 div.sk-parallel-item::after {\n",
       "  content: \"\";\n",
       "  width: 100%;\n",
       "  border-bottom: 2px solid var(--sklearn-color-text-on-default-background);\n",
       "  flex-grow: 1;\n",
       "}\n",
       "\n",
       "#sk-container-id-4 div.sk-parallel {\n",
       "  display: flex;\n",
       "  align-items: stretch;\n",
       "  justify-content: center;\n",
       "  background-color: var(--sklearn-color-background);\n",
       "  position: relative;\n",
       "}\n",
       "\n",
       "#sk-container-id-4 div.sk-parallel-item {\n",
       "  display: flex;\n",
       "  flex-direction: column;\n",
       "}\n",
       "\n",
       "#sk-container-id-4 div.sk-parallel-item:first-child::after {\n",
       "  align-self: flex-end;\n",
       "  width: 50%;\n",
       "}\n",
       "\n",
       "#sk-container-id-4 div.sk-parallel-item:last-child::after {\n",
       "  align-self: flex-start;\n",
       "  width: 50%;\n",
       "}\n",
       "\n",
       "#sk-container-id-4 div.sk-parallel-item:only-child::after {\n",
       "  width: 0;\n",
       "}\n",
       "\n",
       "/* Serial-specific style estimator block */\n",
       "\n",
       "#sk-container-id-4 div.sk-serial {\n",
       "  display: flex;\n",
       "  flex-direction: column;\n",
       "  align-items: center;\n",
       "  background-color: var(--sklearn-color-background);\n",
       "  padding-right: 1em;\n",
       "  padding-left: 1em;\n",
       "}\n",
       "\n",
       "\n",
       "/* Toggleable style: style used for estimator/Pipeline/ColumnTransformer box that is\n",
       "clickable and can be expanded/collapsed.\n",
       "- Pipeline and ColumnTransformer use this feature and define the default style\n",
       "- Estimators will overwrite some part of the style using the `sk-estimator` class\n",
       "*/\n",
       "\n",
       "/* Pipeline and ColumnTransformer style (default) */\n",
       "\n",
       "#sk-container-id-4 div.sk-toggleable {\n",
       "  /* Default theme specific background. It is overwritten whether we have a\n",
       "  specific estimator or a Pipeline/ColumnTransformer */\n",
       "  background-color: var(--sklearn-color-background);\n",
       "}\n",
       "\n",
       "/* Toggleable label */\n",
       "#sk-container-id-4 label.sk-toggleable__label {\n",
       "  cursor: pointer;\n",
       "  display: block;\n",
       "  width: 100%;\n",
       "  margin-bottom: 0;\n",
       "  padding: 0.5em;\n",
       "  box-sizing: border-box;\n",
       "  text-align: center;\n",
       "}\n",
       "\n",
       "#sk-container-id-4 label.sk-toggleable__label-arrow:before {\n",
       "  /* Arrow on the left of the label */\n",
       "  content: \"▸\";\n",
       "  float: left;\n",
       "  margin-right: 0.25em;\n",
       "  color: var(--sklearn-color-icon);\n",
       "}\n",
       "\n",
       "#sk-container-id-4 label.sk-toggleable__label-arrow:hover:before {\n",
       "  color: var(--sklearn-color-text);\n",
       "}\n",
       "\n",
       "/* Toggleable content - dropdown */\n",
       "\n",
       "#sk-container-id-4 div.sk-toggleable__content {\n",
       "  max-height: 0;\n",
       "  max-width: 0;\n",
       "  overflow: hidden;\n",
       "  text-align: left;\n",
       "  /* unfitted */\n",
       "  background-color: var(--sklearn-color-unfitted-level-0);\n",
       "}\n",
       "\n",
       "#sk-container-id-4 div.sk-toggleable__content.fitted {\n",
       "  /* fitted */\n",
       "  background-color: var(--sklearn-color-fitted-level-0);\n",
       "}\n",
       "\n",
       "#sk-container-id-4 div.sk-toggleable__content pre {\n",
       "  margin: 0.2em;\n",
       "  border-radius: 0.25em;\n",
       "  color: var(--sklearn-color-text);\n",
       "  /* unfitted */\n",
       "  background-color: var(--sklearn-color-unfitted-level-0);\n",
       "}\n",
       "\n",
       "#sk-container-id-4 div.sk-toggleable__content.fitted pre {\n",
       "  /* unfitted */\n",
       "  background-color: var(--sklearn-color-fitted-level-0);\n",
       "}\n",
       "\n",
       "#sk-container-id-4 input.sk-toggleable__control:checked~div.sk-toggleable__content {\n",
       "  /* Expand drop-down */\n",
       "  max-height: 200px;\n",
       "  max-width: 100%;\n",
       "  overflow: auto;\n",
       "}\n",
       "\n",
       "#sk-container-id-4 input.sk-toggleable__control:checked~label.sk-toggleable__label-arrow:before {\n",
       "  content: \"▾\";\n",
       "}\n",
       "\n",
       "/* Pipeline/ColumnTransformer-specific style */\n",
       "\n",
       "#sk-container-id-4 div.sk-label input.sk-toggleable__control:checked~label.sk-toggleable__label {\n",
       "  color: var(--sklearn-color-text);\n",
       "  background-color: var(--sklearn-color-unfitted-level-2);\n",
       "}\n",
       "\n",
       "#sk-container-id-4 div.sk-label.fitted input.sk-toggleable__control:checked~label.sk-toggleable__label {\n",
       "  background-color: var(--sklearn-color-fitted-level-2);\n",
       "}\n",
       "\n",
       "/* Estimator-specific style */\n",
       "\n",
       "/* Colorize estimator box */\n",
       "#sk-container-id-4 div.sk-estimator input.sk-toggleable__control:checked~label.sk-toggleable__label {\n",
       "  /* unfitted */\n",
       "  background-color: var(--sklearn-color-unfitted-level-2);\n",
       "}\n",
       "\n",
       "#sk-container-id-4 div.sk-estimator.fitted input.sk-toggleable__control:checked~label.sk-toggleable__label {\n",
       "  /* fitted */\n",
       "  background-color: var(--sklearn-color-fitted-level-2);\n",
       "}\n",
       "\n",
       "#sk-container-id-4 div.sk-label label.sk-toggleable__label,\n",
       "#sk-container-id-4 div.sk-label label {\n",
       "  /* The background is the default theme color */\n",
       "  color: var(--sklearn-color-text-on-default-background);\n",
       "}\n",
       "\n",
       "/* On hover, darken the color of the background */\n",
       "#sk-container-id-4 div.sk-label:hover label.sk-toggleable__label {\n",
       "  color: var(--sklearn-color-text);\n",
       "  background-color: var(--sklearn-color-unfitted-level-2);\n",
       "}\n",
       "\n",
       "/* Label box, darken color on hover, fitted */\n",
       "#sk-container-id-4 div.sk-label.fitted:hover label.sk-toggleable__label.fitted {\n",
       "  color: var(--sklearn-color-text);\n",
       "  background-color: var(--sklearn-color-fitted-level-2);\n",
       "}\n",
       "\n",
       "/* Estimator label */\n",
       "\n",
       "#sk-container-id-4 div.sk-label label {\n",
       "  font-family: monospace;\n",
       "  font-weight: bold;\n",
       "  display: inline-block;\n",
       "  line-height: 1.2em;\n",
       "}\n",
       "\n",
       "#sk-container-id-4 div.sk-label-container {\n",
       "  text-align: center;\n",
       "}\n",
       "\n",
       "/* Estimator-specific */\n",
       "#sk-container-id-4 div.sk-estimator {\n",
       "  font-family: monospace;\n",
       "  border: 1px dotted var(--sklearn-color-border-box);\n",
       "  border-radius: 0.25em;\n",
       "  box-sizing: border-box;\n",
       "  margin-bottom: 0.5em;\n",
       "  /* unfitted */\n",
       "  background-color: var(--sklearn-color-unfitted-level-0);\n",
       "}\n",
       "\n",
       "#sk-container-id-4 div.sk-estimator.fitted {\n",
       "  /* fitted */\n",
       "  background-color: var(--sklearn-color-fitted-level-0);\n",
       "}\n",
       "\n",
       "/* on hover */\n",
       "#sk-container-id-4 div.sk-estimator:hover {\n",
       "  /* unfitted */\n",
       "  background-color: var(--sklearn-color-unfitted-level-2);\n",
       "}\n",
       "\n",
       "#sk-container-id-4 div.sk-estimator.fitted:hover {\n",
       "  /* fitted */\n",
       "  background-color: var(--sklearn-color-fitted-level-2);\n",
       "}\n",
       "\n",
       "/* Specification for estimator info (e.g. \"i\" and \"?\") */\n",
       "\n",
       "/* Common style for \"i\" and \"?\" */\n",
       "\n",
       ".sk-estimator-doc-link,\n",
       "a:link.sk-estimator-doc-link,\n",
       "a:visited.sk-estimator-doc-link {\n",
       "  float: right;\n",
       "  font-size: smaller;\n",
       "  line-height: 1em;\n",
       "  font-family: monospace;\n",
       "  background-color: var(--sklearn-color-background);\n",
       "  border-radius: 1em;\n",
       "  height: 1em;\n",
       "  width: 1em;\n",
       "  text-decoration: none !important;\n",
       "  margin-left: 1ex;\n",
       "  /* unfitted */\n",
       "  border: var(--sklearn-color-unfitted-level-1) 1pt solid;\n",
       "  color: var(--sklearn-color-unfitted-level-1);\n",
       "}\n",
       "\n",
       ".sk-estimator-doc-link.fitted,\n",
       "a:link.sk-estimator-doc-link.fitted,\n",
       "a:visited.sk-estimator-doc-link.fitted {\n",
       "  /* fitted */\n",
       "  border: var(--sklearn-color-fitted-level-1) 1pt solid;\n",
       "  color: var(--sklearn-color-fitted-level-1);\n",
       "}\n",
       "\n",
       "/* On hover */\n",
       "div.sk-estimator:hover .sk-estimator-doc-link:hover,\n",
       ".sk-estimator-doc-link:hover,\n",
       "div.sk-label-container:hover .sk-estimator-doc-link:hover,\n",
       ".sk-estimator-doc-link:hover {\n",
       "  /* unfitted */\n",
       "  background-color: var(--sklearn-color-unfitted-level-3);\n",
       "  color: var(--sklearn-color-background);\n",
       "  text-decoration: none;\n",
       "}\n",
       "\n",
       "div.sk-estimator.fitted:hover .sk-estimator-doc-link.fitted:hover,\n",
       ".sk-estimator-doc-link.fitted:hover,\n",
       "div.sk-label-container:hover .sk-estimator-doc-link.fitted:hover,\n",
       ".sk-estimator-doc-link.fitted:hover {\n",
       "  /* fitted */\n",
       "  background-color: var(--sklearn-color-fitted-level-3);\n",
       "  color: var(--sklearn-color-background);\n",
       "  text-decoration: none;\n",
       "}\n",
       "\n",
       "/* Span, style for the box shown on hovering the info icon */\n",
       ".sk-estimator-doc-link span {\n",
       "  display: none;\n",
       "  z-index: 9999;\n",
       "  position: relative;\n",
       "  font-weight: normal;\n",
       "  right: .2ex;\n",
       "  padding: .5ex;\n",
       "  margin: .5ex;\n",
       "  width: min-content;\n",
       "  min-width: 20ex;\n",
       "  max-width: 50ex;\n",
       "  color: var(--sklearn-color-text);\n",
       "  box-shadow: 2pt 2pt 4pt #999;\n",
       "  /* unfitted */\n",
       "  background: var(--sklearn-color-unfitted-level-0);\n",
       "  border: .5pt solid var(--sklearn-color-unfitted-level-3);\n",
       "}\n",
       "\n",
       ".sk-estimator-doc-link.fitted span {\n",
       "  /* fitted */\n",
       "  background: var(--sklearn-color-fitted-level-0);\n",
       "  border: var(--sklearn-color-fitted-level-3);\n",
       "}\n",
       "\n",
       ".sk-estimator-doc-link:hover span {\n",
       "  display: block;\n",
       "}\n",
       "\n",
       "/* \"?\"-specific style due to the `<a>` HTML tag */\n",
       "\n",
       "#sk-container-id-4 a.estimator_doc_link {\n",
       "  float: right;\n",
       "  font-size: 1rem;\n",
       "  line-height: 1em;\n",
       "  font-family: monospace;\n",
       "  background-color: var(--sklearn-color-background);\n",
       "  border-radius: 1rem;\n",
       "  height: 1rem;\n",
       "  width: 1rem;\n",
       "  text-decoration: none;\n",
       "  /* unfitted */\n",
       "  color: var(--sklearn-color-unfitted-level-1);\n",
       "  border: var(--sklearn-color-unfitted-level-1) 1pt solid;\n",
       "}\n",
       "\n",
       "#sk-container-id-4 a.estimator_doc_link.fitted {\n",
       "  /* fitted */\n",
       "  border: var(--sklearn-color-fitted-level-1) 1pt solid;\n",
       "  color: var(--sklearn-color-fitted-level-1);\n",
       "}\n",
       "\n",
       "/* On hover */\n",
       "#sk-container-id-4 a.estimator_doc_link:hover {\n",
       "  /* unfitted */\n",
       "  background-color: var(--sklearn-color-unfitted-level-3);\n",
       "  color: var(--sklearn-color-background);\n",
       "  text-decoration: none;\n",
       "}\n",
       "\n",
       "#sk-container-id-4 a.estimator_doc_link.fitted:hover {\n",
       "  /* fitted */\n",
       "  background-color: var(--sklearn-color-fitted-level-3);\n",
       "}\n",
       "</style><div id=\"sk-container-id-4\" class=\"sk-top-container\"><div class=\"sk-text-repr-fallback\"><pre>Ridge(alpha=0.1)</pre><b>In a Jupyter environment, please rerun this cell to show the HTML representation or trust the notebook. <br />On GitHub, the HTML representation is unable to render, please try loading this page with nbviewer.org.</b></div><div class=\"sk-container\" hidden><div class=\"sk-item\"><div class=\"sk-estimator fitted sk-toggleable\"><input class=\"sk-toggleable__control sk-hidden--visually\" id=\"sk-estimator-id-4\" type=\"checkbox\" checked><label for=\"sk-estimator-id-4\" class=\"sk-toggleable__label fitted sk-toggleable__label-arrow fitted\">&nbsp;&nbsp;Ridge<a class=\"sk-estimator-doc-link fitted\" rel=\"noreferrer\" target=\"_blank\" href=\"https://scikit-learn.org/1.5/modules/generated/sklearn.linear_model.Ridge.html\">?<span>Documentation for Ridge</span></a><span class=\"sk-estimator-doc-link fitted\">i<span>Fitted</span></span></label><div class=\"sk-toggleable__content fitted\"><pre>Ridge(alpha=0.1)</pre></div> </div></div></div></div>"
      ]
     },
     "execution_count": 30,
     "metadata": {},
     "output_type": "execute_result"
    }
   ],
   "execution_count": 30
  },
  {
   "cell_type": "code",
   "id": "13ee0db9-5055-4f42-a0a2-b5cf0eb8a4e5",
   "metadata": {
    "ExecuteTime": {
     "end_time": "2025-09-28T23:09:24.339196Z",
     "start_time": "2025-09-28T23:09:24.337382Z"
    }
   },
   "source": [
    "y_pred = l2.predict(x)"
   ],
   "outputs": [],
   "execution_count": 31
  },
  {
   "cell_type": "code",
   "id": "daeb28e8-89f8-4498-a20e-f82e8a9f8f94",
   "metadata": {
    "ExecuteTime": {
     "end_time": "2025-09-28T23:09:24.369679Z",
     "start_time": "2025-09-28T23:09:24.367420Z"
    }
   },
   "source": [
    "r2_score(y, y_pred)"
   ],
   "outputs": [
    {
     "data": {
      "text/plain": [
       "0.9874531273335674"
      ]
     },
     "execution_count": 32,
     "metadata": {},
     "output_type": "execute_result"
    }
   ],
   "execution_count": 32
  },
  {
   "cell_type": "code",
   "id": "75f8e150-2b7b-4d80-aef5-33d8ccc37e06",
   "metadata": {
    "ExecuteTime": {
     "end_time": "2025-09-28T23:09:24.395190Z",
     "start_time": "2025-09-28T23:09:24.392900Z"
    }
   },
   "source": [
    "l2.intercept_"
   ],
   "outputs": [
    {
     "data": {
      "text/plain": [
       "2691.460185948963"
      ]
     },
     "execution_count": 33,
     "metadata": {},
     "output_type": "execute_result"
    }
   ],
   "execution_count": 33
  },
  {
   "cell_type": "code",
   "id": "2277eab7-2d86-419a-8405-64af7a6e93d7",
   "metadata": {
    "ExecuteTime": {
     "end_time": "2025-09-28T23:09:24.413983Z",
     "start_time": "2025-09-28T23:09:24.411870Z"
    }
   },
   "source": [
    "l2.coef_"
   ],
   "outputs": [
    {
     "data": {
      "text/plain": [
       "array([ 1.2315188 , -0.88895857, -0.80363359,  7.71947723])"
      ]
     },
     "execution_count": 34,
     "metadata": {},
     "output_type": "execute_result"
    }
   ],
   "execution_count": 34
  },
  {
   "cell_type": "code",
   "id": "20e0df17-4232-4560-a4e8-2d00c126d41c",
   "metadata": {
    "ExecuteTime": {
     "end_time": "2025-09-28T23:09:24.429777Z",
     "start_time": "2025-09-28T23:09:24.425418Z"
    }
   },
   "source": [
    "l2 = Ridge(alpha = 1)  \n",
    "l2.fit(x, y)\n",
    "y_pred = l2.predict(x)\n",
    "r2_score(y, y_pred)"
   ],
   "outputs": [
    {
     "data": {
      "text/plain": [
       "0.9874531273335674"
      ]
     },
     "execution_count": 35,
     "metadata": {},
     "output_type": "execute_result"
    }
   ],
   "execution_count": 35
  },
  {
   "cell_type": "code",
   "id": "80303ddd-2dab-45ae-be68-9dc3f5785768",
   "metadata": {
    "ExecuteTime": {
     "end_time": "2025-09-28T23:09:24.441362Z",
     "start_time": "2025-09-28T23:09:24.439499Z"
    }
   },
   "source": [
    "l2.intercept_"
   ],
   "outputs": [
    {
     "data": {
      "text/plain": [
       "2691.4602700232354"
      ]
     },
     "execution_count": 36,
     "metadata": {},
     "output_type": "execute_result"
    }
   ],
   "execution_count": 36
  },
  {
   "cell_type": "code",
   "id": "bcf63caf-6fc7-4e78-b045-917cd2d1ce47",
   "metadata": {
    "ExecuteTime": {
     "end_time": "2025-09-28T23:09:24.456906Z",
     "start_time": "2025-09-28T23:09:24.454739Z"
    }
   },
   "source": [
    "l2.coef_"
   ],
   "outputs": [
    {
     "data": {
      "text/plain": [
       "array([ 1.2315188 , -0.88895857, -0.8036336 ,  7.71947639])"
      ]
     },
     "execution_count": 37,
     "metadata": {},
     "output_type": "execute_result"
    }
   ],
   "execution_count": 37
  },
  {
   "cell_type": "code",
   "id": "58768cd7-2285-4971-a578-3cfc445a28f6",
   "metadata": {
    "ExecuteTime": {
     "end_time": "2025-09-28T23:09:24.472408Z",
     "start_time": "2025-09-28T23:09:24.468492Z"
    }
   },
   "source": [
    "l2 = Ridge(alpha = 10)  \n",
    "l2.fit(x, y)\n",
    "y_pred = l2.predict(x)\n",
    "r2_score(y, y_pred)"
   ],
   "outputs": [
    {
     "data": {
      "text/plain": [
       "0.9874531273335674"
      ]
     },
     "execution_count": 38,
     "metadata": {},
     "output_type": "execute_result"
    }
   ],
   "execution_count": 38
  },
  {
   "cell_type": "code",
   "id": "1cf8d4a7-7e49-4944-9d45-5409b29cb6c3",
   "metadata": {
    "ExecuteTime": {
     "end_time": "2025-09-28T23:09:24.492700Z",
     "start_time": "2025-09-28T23:09:24.490580Z"
    }
   },
   "source": [
    "l2.intercept_"
   ],
   "outputs": [
    {
     "data": {
      "text/plain": [
       "2691.4611107650853"
      ]
     },
     "execution_count": 39,
     "metadata": {},
     "output_type": "execute_result"
    }
   ],
   "execution_count": 39
  },
  {
   "cell_type": "code",
   "id": "f64fe5c3-407c-47a2-9821-40ee51c3d255",
   "metadata": {
    "ExecuteTime": {
     "end_time": "2025-09-28T23:09:24.506413Z",
     "start_time": "2025-09-28T23:09:24.504580Z"
    }
   },
   "source": [
    "l2.coef_"
   ],
   "outputs": [
    {
     "data": {
      "text/plain": [
       "array([ 1.2315188 , -0.88895857, -0.80363364,  7.71946792])"
      ]
     },
     "execution_count": 40,
     "metadata": {},
     "output_type": "execute_result"
    }
   ],
   "execution_count": 40
  },
  {
   "cell_type": "markdown",
   "id": "54e67dad-8f1b-44e8-9c01-11d4aa790790",
   "metadata": {},
   "source": [
    "#### Interpretación"
   ]
  },
  {
   "cell_type": "markdown",
   "id": "de988af6-f59d-4473-a4d5-264b54e6864c",
   "metadata": {},
   "source": [
    "Al comparar los modelos de Ridge con distintos valores de alpha, se observa que el desempeño medido con el R2 prácticamente no cambia, lo cual significa que el ajuste del modelo sigue siendo igual de bueno. Lo que sí cambia, aunque de manera muy ligera, son los coeficientes, al aumentar el valor de alpha, los coeficientes se hacen un poco más pequeños y estables, pero sin modificar de forma importante el resultado final. Esto refleja que Ridge introduce un pequeño ajuste para evitar que los coeficientes crezcan demasiado, pero en este caso el efecto es mínimo porque el modelo ya estaba bastante bien ajustado"
   ]
  },
  {
   "cell_type": "markdown",
   "id": "1816dafd-7dad-442e-be77-26d35daf0029",
   "metadata": {},
   "source": [
    "### Ridge Train"
   ]
  },
  {
   "cell_type": "code",
   "id": "c417e381-265d-4c4d-ae92-89fdbca39ee4",
   "metadata": {
    "ExecuteTime": {
     "end_time": "2025-09-28T23:09:24.524084Z",
     "start_time": "2025-09-28T23:09:24.520820Z"
    }
   },
   "source": [
    "l2 = Ridge(alpha = 0.1)  \n",
    "l2.fit(X_train_scaled, y_train)"
   ],
   "outputs": [
    {
     "data": {
      "text/plain": [
       "Ridge(alpha=0.1)"
      ],
      "text/html": [
       "<style>#sk-container-id-5 {\n",
       "  /* Definition of color scheme common for light and dark mode */\n",
       "  --sklearn-color-text: black;\n",
       "  --sklearn-color-line: gray;\n",
       "  /* Definition of color scheme for unfitted estimators */\n",
       "  --sklearn-color-unfitted-level-0: #fff5e6;\n",
       "  --sklearn-color-unfitted-level-1: #f6e4d2;\n",
       "  --sklearn-color-unfitted-level-2: #ffe0b3;\n",
       "  --sklearn-color-unfitted-level-3: chocolate;\n",
       "  /* Definition of color scheme for fitted estimators */\n",
       "  --sklearn-color-fitted-level-0: #f0f8ff;\n",
       "  --sklearn-color-fitted-level-1: #d4ebff;\n",
       "  --sklearn-color-fitted-level-2: #b3dbfd;\n",
       "  --sklearn-color-fitted-level-3: cornflowerblue;\n",
       "\n",
       "  /* Specific color for light theme */\n",
       "  --sklearn-color-text-on-default-background: var(--sg-text-color, var(--theme-code-foreground, var(--jp-content-font-color1, black)));\n",
       "  --sklearn-color-background: var(--sg-background-color, var(--theme-background, var(--jp-layout-color0, white)));\n",
       "  --sklearn-color-border-box: var(--sg-text-color, var(--theme-code-foreground, var(--jp-content-font-color1, black)));\n",
       "  --sklearn-color-icon: #696969;\n",
       "\n",
       "  @media (prefers-color-scheme: dark) {\n",
       "    /* Redefinition of color scheme for dark theme */\n",
       "    --sklearn-color-text-on-default-background: var(--sg-text-color, var(--theme-code-foreground, var(--jp-content-font-color1, white)));\n",
       "    --sklearn-color-background: var(--sg-background-color, var(--theme-background, var(--jp-layout-color0, #111)));\n",
       "    --sklearn-color-border-box: var(--sg-text-color, var(--theme-code-foreground, var(--jp-content-font-color1, white)));\n",
       "    --sklearn-color-icon: #878787;\n",
       "  }\n",
       "}\n",
       "\n",
       "#sk-container-id-5 {\n",
       "  color: var(--sklearn-color-text);\n",
       "}\n",
       "\n",
       "#sk-container-id-5 pre {\n",
       "  padding: 0;\n",
       "}\n",
       "\n",
       "#sk-container-id-5 input.sk-hidden--visually {\n",
       "  border: 0;\n",
       "  clip: rect(1px 1px 1px 1px);\n",
       "  clip: rect(1px, 1px, 1px, 1px);\n",
       "  height: 1px;\n",
       "  margin: -1px;\n",
       "  overflow: hidden;\n",
       "  padding: 0;\n",
       "  position: absolute;\n",
       "  width: 1px;\n",
       "}\n",
       "\n",
       "#sk-container-id-5 div.sk-dashed-wrapped {\n",
       "  border: 1px dashed var(--sklearn-color-line);\n",
       "  margin: 0 0.4em 0.5em 0.4em;\n",
       "  box-sizing: border-box;\n",
       "  padding-bottom: 0.4em;\n",
       "  background-color: var(--sklearn-color-background);\n",
       "}\n",
       "\n",
       "#sk-container-id-5 div.sk-container {\n",
       "  /* jupyter's `normalize.less` sets `[hidden] { display: none; }`\n",
       "     but bootstrap.min.css set `[hidden] { display: none !important; }`\n",
       "     so we also need the `!important` here to be able to override the\n",
       "     default hidden behavior on the sphinx rendered scikit-learn.org.\n",
       "     See: https://github.com/scikit-learn/scikit-learn/issues/21755 */\n",
       "  display: inline-block !important;\n",
       "  position: relative;\n",
       "}\n",
       "\n",
       "#sk-container-id-5 div.sk-text-repr-fallback {\n",
       "  display: none;\n",
       "}\n",
       "\n",
       "div.sk-parallel-item,\n",
       "div.sk-serial,\n",
       "div.sk-item {\n",
       "  /* draw centered vertical line to link estimators */\n",
       "  background-image: linear-gradient(var(--sklearn-color-text-on-default-background), var(--sklearn-color-text-on-default-background));\n",
       "  background-size: 2px 100%;\n",
       "  background-repeat: no-repeat;\n",
       "  background-position: center center;\n",
       "}\n",
       "\n",
       "/* Parallel-specific style estimator block */\n",
       "\n",
       "#sk-container-id-5 div.sk-parallel-item::after {\n",
       "  content: \"\";\n",
       "  width: 100%;\n",
       "  border-bottom: 2px solid var(--sklearn-color-text-on-default-background);\n",
       "  flex-grow: 1;\n",
       "}\n",
       "\n",
       "#sk-container-id-5 div.sk-parallel {\n",
       "  display: flex;\n",
       "  align-items: stretch;\n",
       "  justify-content: center;\n",
       "  background-color: var(--sklearn-color-background);\n",
       "  position: relative;\n",
       "}\n",
       "\n",
       "#sk-container-id-5 div.sk-parallel-item {\n",
       "  display: flex;\n",
       "  flex-direction: column;\n",
       "}\n",
       "\n",
       "#sk-container-id-5 div.sk-parallel-item:first-child::after {\n",
       "  align-self: flex-end;\n",
       "  width: 50%;\n",
       "}\n",
       "\n",
       "#sk-container-id-5 div.sk-parallel-item:last-child::after {\n",
       "  align-self: flex-start;\n",
       "  width: 50%;\n",
       "}\n",
       "\n",
       "#sk-container-id-5 div.sk-parallel-item:only-child::after {\n",
       "  width: 0;\n",
       "}\n",
       "\n",
       "/* Serial-specific style estimator block */\n",
       "\n",
       "#sk-container-id-5 div.sk-serial {\n",
       "  display: flex;\n",
       "  flex-direction: column;\n",
       "  align-items: center;\n",
       "  background-color: var(--sklearn-color-background);\n",
       "  padding-right: 1em;\n",
       "  padding-left: 1em;\n",
       "}\n",
       "\n",
       "\n",
       "/* Toggleable style: style used for estimator/Pipeline/ColumnTransformer box that is\n",
       "clickable and can be expanded/collapsed.\n",
       "- Pipeline and ColumnTransformer use this feature and define the default style\n",
       "- Estimators will overwrite some part of the style using the `sk-estimator` class\n",
       "*/\n",
       "\n",
       "/* Pipeline and ColumnTransformer style (default) */\n",
       "\n",
       "#sk-container-id-5 div.sk-toggleable {\n",
       "  /* Default theme specific background. It is overwritten whether we have a\n",
       "  specific estimator or a Pipeline/ColumnTransformer */\n",
       "  background-color: var(--sklearn-color-background);\n",
       "}\n",
       "\n",
       "/* Toggleable label */\n",
       "#sk-container-id-5 label.sk-toggleable__label {\n",
       "  cursor: pointer;\n",
       "  display: block;\n",
       "  width: 100%;\n",
       "  margin-bottom: 0;\n",
       "  padding: 0.5em;\n",
       "  box-sizing: border-box;\n",
       "  text-align: center;\n",
       "}\n",
       "\n",
       "#sk-container-id-5 label.sk-toggleable__label-arrow:before {\n",
       "  /* Arrow on the left of the label */\n",
       "  content: \"▸\";\n",
       "  float: left;\n",
       "  margin-right: 0.25em;\n",
       "  color: var(--sklearn-color-icon);\n",
       "}\n",
       "\n",
       "#sk-container-id-5 label.sk-toggleable__label-arrow:hover:before {\n",
       "  color: var(--sklearn-color-text);\n",
       "}\n",
       "\n",
       "/* Toggleable content - dropdown */\n",
       "\n",
       "#sk-container-id-5 div.sk-toggleable__content {\n",
       "  max-height: 0;\n",
       "  max-width: 0;\n",
       "  overflow: hidden;\n",
       "  text-align: left;\n",
       "  /* unfitted */\n",
       "  background-color: var(--sklearn-color-unfitted-level-0);\n",
       "}\n",
       "\n",
       "#sk-container-id-5 div.sk-toggleable__content.fitted {\n",
       "  /* fitted */\n",
       "  background-color: var(--sklearn-color-fitted-level-0);\n",
       "}\n",
       "\n",
       "#sk-container-id-5 div.sk-toggleable__content pre {\n",
       "  margin: 0.2em;\n",
       "  border-radius: 0.25em;\n",
       "  color: var(--sklearn-color-text);\n",
       "  /* unfitted */\n",
       "  background-color: var(--sklearn-color-unfitted-level-0);\n",
       "}\n",
       "\n",
       "#sk-container-id-5 div.sk-toggleable__content.fitted pre {\n",
       "  /* unfitted */\n",
       "  background-color: var(--sklearn-color-fitted-level-0);\n",
       "}\n",
       "\n",
       "#sk-container-id-5 input.sk-toggleable__control:checked~div.sk-toggleable__content {\n",
       "  /* Expand drop-down */\n",
       "  max-height: 200px;\n",
       "  max-width: 100%;\n",
       "  overflow: auto;\n",
       "}\n",
       "\n",
       "#sk-container-id-5 input.sk-toggleable__control:checked~label.sk-toggleable__label-arrow:before {\n",
       "  content: \"▾\";\n",
       "}\n",
       "\n",
       "/* Pipeline/ColumnTransformer-specific style */\n",
       "\n",
       "#sk-container-id-5 div.sk-label input.sk-toggleable__control:checked~label.sk-toggleable__label {\n",
       "  color: var(--sklearn-color-text);\n",
       "  background-color: var(--sklearn-color-unfitted-level-2);\n",
       "}\n",
       "\n",
       "#sk-container-id-5 div.sk-label.fitted input.sk-toggleable__control:checked~label.sk-toggleable__label {\n",
       "  background-color: var(--sklearn-color-fitted-level-2);\n",
       "}\n",
       "\n",
       "/* Estimator-specific style */\n",
       "\n",
       "/* Colorize estimator box */\n",
       "#sk-container-id-5 div.sk-estimator input.sk-toggleable__control:checked~label.sk-toggleable__label {\n",
       "  /* unfitted */\n",
       "  background-color: var(--sklearn-color-unfitted-level-2);\n",
       "}\n",
       "\n",
       "#sk-container-id-5 div.sk-estimator.fitted input.sk-toggleable__control:checked~label.sk-toggleable__label {\n",
       "  /* fitted */\n",
       "  background-color: var(--sklearn-color-fitted-level-2);\n",
       "}\n",
       "\n",
       "#sk-container-id-5 div.sk-label label.sk-toggleable__label,\n",
       "#sk-container-id-5 div.sk-label label {\n",
       "  /* The background is the default theme color */\n",
       "  color: var(--sklearn-color-text-on-default-background);\n",
       "}\n",
       "\n",
       "/* On hover, darken the color of the background */\n",
       "#sk-container-id-5 div.sk-label:hover label.sk-toggleable__label {\n",
       "  color: var(--sklearn-color-text);\n",
       "  background-color: var(--sklearn-color-unfitted-level-2);\n",
       "}\n",
       "\n",
       "/* Label box, darken color on hover, fitted */\n",
       "#sk-container-id-5 div.sk-label.fitted:hover label.sk-toggleable__label.fitted {\n",
       "  color: var(--sklearn-color-text);\n",
       "  background-color: var(--sklearn-color-fitted-level-2);\n",
       "}\n",
       "\n",
       "/* Estimator label */\n",
       "\n",
       "#sk-container-id-5 div.sk-label label {\n",
       "  font-family: monospace;\n",
       "  font-weight: bold;\n",
       "  display: inline-block;\n",
       "  line-height: 1.2em;\n",
       "}\n",
       "\n",
       "#sk-container-id-5 div.sk-label-container {\n",
       "  text-align: center;\n",
       "}\n",
       "\n",
       "/* Estimator-specific */\n",
       "#sk-container-id-5 div.sk-estimator {\n",
       "  font-family: monospace;\n",
       "  border: 1px dotted var(--sklearn-color-border-box);\n",
       "  border-radius: 0.25em;\n",
       "  box-sizing: border-box;\n",
       "  margin-bottom: 0.5em;\n",
       "  /* unfitted */\n",
       "  background-color: var(--sklearn-color-unfitted-level-0);\n",
       "}\n",
       "\n",
       "#sk-container-id-5 div.sk-estimator.fitted {\n",
       "  /* fitted */\n",
       "  background-color: var(--sklearn-color-fitted-level-0);\n",
       "}\n",
       "\n",
       "/* on hover */\n",
       "#sk-container-id-5 div.sk-estimator:hover {\n",
       "  /* unfitted */\n",
       "  background-color: var(--sklearn-color-unfitted-level-2);\n",
       "}\n",
       "\n",
       "#sk-container-id-5 div.sk-estimator.fitted:hover {\n",
       "  /* fitted */\n",
       "  background-color: var(--sklearn-color-fitted-level-2);\n",
       "}\n",
       "\n",
       "/* Specification for estimator info (e.g. \"i\" and \"?\") */\n",
       "\n",
       "/* Common style for \"i\" and \"?\" */\n",
       "\n",
       ".sk-estimator-doc-link,\n",
       "a:link.sk-estimator-doc-link,\n",
       "a:visited.sk-estimator-doc-link {\n",
       "  float: right;\n",
       "  font-size: smaller;\n",
       "  line-height: 1em;\n",
       "  font-family: monospace;\n",
       "  background-color: var(--sklearn-color-background);\n",
       "  border-radius: 1em;\n",
       "  height: 1em;\n",
       "  width: 1em;\n",
       "  text-decoration: none !important;\n",
       "  margin-left: 1ex;\n",
       "  /* unfitted */\n",
       "  border: var(--sklearn-color-unfitted-level-1) 1pt solid;\n",
       "  color: var(--sklearn-color-unfitted-level-1);\n",
       "}\n",
       "\n",
       ".sk-estimator-doc-link.fitted,\n",
       "a:link.sk-estimator-doc-link.fitted,\n",
       "a:visited.sk-estimator-doc-link.fitted {\n",
       "  /* fitted */\n",
       "  border: var(--sklearn-color-fitted-level-1) 1pt solid;\n",
       "  color: var(--sklearn-color-fitted-level-1);\n",
       "}\n",
       "\n",
       "/* On hover */\n",
       "div.sk-estimator:hover .sk-estimator-doc-link:hover,\n",
       ".sk-estimator-doc-link:hover,\n",
       "div.sk-label-container:hover .sk-estimator-doc-link:hover,\n",
       ".sk-estimator-doc-link:hover {\n",
       "  /* unfitted */\n",
       "  background-color: var(--sklearn-color-unfitted-level-3);\n",
       "  color: var(--sklearn-color-background);\n",
       "  text-decoration: none;\n",
       "}\n",
       "\n",
       "div.sk-estimator.fitted:hover .sk-estimator-doc-link.fitted:hover,\n",
       ".sk-estimator-doc-link.fitted:hover,\n",
       "div.sk-label-container:hover .sk-estimator-doc-link.fitted:hover,\n",
       ".sk-estimator-doc-link.fitted:hover {\n",
       "  /* fitted */\n",
       "  background-color: var(--sklearn-color-fitted-level-3);\n",
       "  color: var(--sklearn-color-background);\n",
       "  text-decoration: none;\n",
       "}\n",
       "\n",
       "/* Span, style for the box shown on hovering the info icon */\n",
       ".sk-estimator-doc-link span {\n",
       "  display: none;\n",
       "  z-index: 9999;\n",
       "  position: relative;\n",
       "  font-weight: normal;\n",
       "  right: .2ex;\n",
       "  padding: .5ex;\n",
       "  margin: .5ex;\n",
       "  width: min-content;\n",
       "  min-width: 20ex;\n",
       "  max-width: 50ex;\n",
       "  color: var(--sklearn-color-text);\n",
       "  box-shadow: 2pt 2pt 4pt #999;\n",
       "  /* unfitted */\n",
       "  background: var(--sklearn-color-unfitted-level-0);\n",
       "  border: .5pt solid var(--sklearn-color-unfitted-level-3);\n",
       "}\n",
       "\n",
       ".sk-estimator-doc-link.fitted span {\n",
       "  /* fitted */\n",
       "  background: var(--sklearn-color-fitted-level-0);\n",
       "  border: var(--sklearn-color-fitted-level-3);\n",
       "}\n",
       "\n",
       ".sk-estimator-doc-link:hover span {\n",
       "  display: block;\n",
       "}\n",
       "\n",
       "/* \"?\"-specific style due to the `<a>` HTML tag */\n",
       "\n",
       "#sk-container-id-5 a.estimator_doc_link {\n",
       "  float: right;\n",
       "  font-size: 1rem;\n",
       "  line-height: 1em;\n",
       "  font-family: monospace;\n",
       "  background-color: var(--sklearn-color-background);\n",
       "  border-radius: 1rem;\n",
       "  height: 1rem;\n",
       "  width: 1rem;\n",
       "  text-decoration: none;\n",
       "  /* unfitted */\n",
       "  color: var(--sklearn-color-unfitted-level-1);\n",
       "  border: var(--sklearn-color-unfitted-level-1) 1pt solid;\n",
       "}\n",
       "\n",
       "#sk-container-id-5 a.estimator_doc_link.fitted {\n",
       "  /* fitted */\n",
       "  border: var(--sklearn-color-fitted-level-1) 1pt solid;\n",
       "  color: var(--sklearn-color-fitted-level-1);\n",
       "}\n",
       "\n",
       "/* On hover */\n",
       "#sk-container-id-5 a.estimator_doc_link:hover {\n",
       "  /* unfitted */\n",
       "  background-color: var(--sklearn-color-unfitted-level-3);\n",
       "  color: var(--sklearn-color-background);\n",
       "  text-decoration: none;\n",
       "}\n",
       "\n",
       "#sk-container-id-5 a.estimator_doc_link.fitted:hover {\n",
       "  /* fitted */\n",
       "  background-color: var(--sklearn-color-fitted-level-3);\n",
       "}\n",
       "</style><div id=\"sk-container-id-5\" class=\"sk-top-container\"><div class=\"sk-text-repr-fallback\"><pre>Ridge(alpha=0.1)</pre><b>In a Jupyter environment, please rerun this cell to show the HTML representation or trust the notebook. <br />On GitHub, the HTML representation is unable to render, please try loading this page with nbviewer.org.</b></div><div class=\"sk-container\" hidden><div class=\"sk-item\"><div class=\"sk-estimator fitted sk-toggleable\"><input class=\"sk-toggleable__control sk-hidden--visually\" id=\"sk-estimator-id-5\" type=\"checkbox\" checked><label for=\"sk-estimator-id-5\" class=\"sk-toggleable__label fitted sk-toggleable__label-arrow fitted\">&nbsp;&nbsp;Ridge<a class=\"sk-estimator-doc-link fitted\" rel=\"noreferrer\" target=\"_blank\" href=\"https://scikit-learn.org/1.5/modules/generated/sklearn.linear_model.Ridge.html\">?<span>Documentation for Ridge</span></a><span class=\"sk-estimator-doc-link fitted\">i<span>Fitted</span></span></label><div class=\"sk-toggleable__content fitted\"><pre>Ridge(alpha=0.1)</pre></div> </div></div></div></div>"
      ]
     },
     "execution_count": 41,
     "metadata": {},
     "output_type": "execute_result"
    }
   ],
   "execution_count": 41
  },
  {
   "cell_type": "code",
   "id": "9c663933-3d8e-4e83-9294-14c0fb2a60b6",
   "metadata": {
    "ExecuteTime": {
     "end_time": "2025-09-28T23:09:24.542341Z",
     "start_time": "2025-09-28T23:09:24.540211Z"
    }
   },
   "source": [
    "y_pred = l2.predict(X_train_scaled)\n",
    "r2_score(y_train, y_pred)"
   ],
   "outputs": [
    {
     "data": {
      "text/plain": [
       "0.9884866549688349"
      ]
     },
     "execution_count": 42,
     "metadata": {},
     "output_type": "execute_result"
    }
   ],
   "execution_count": 42
  },
  {
   "cell_type": "code",
   "id": "99719669-7e13-4c76-b960-5a32c74a56bb",
   "metadata": {
    "ExecuteTime": {
     "end_time": "2025-09-28T23:09:24.561586Z",
     "start_time": "2025-09-28T23:09:24.558973Z"
    }
   },
   "source": [
    "l2.intercept_"
   ],
   "outputs": [
    {
     "data": {
      "text/plain": [
       "177747.69771428572"
      ]
     },
     "execution_count": 43,
     "metadata": {},
     "output_type": "execute_result"
    }
   ],
   "execution_count": 43
  },
  {
   "cell_type": "code",
   "id": "d629e3f6-0e29-40d9-8f07-94bcd076b47e",
   "metadata": {
    "ExecuteTime": {
     "end_time": "2025-09-28T23:09:24.575159Z",
     "start_time": "2025-09-28T23:09:24.573152Z"
    }
   },
   "source": [
    "l2.coef_"
   ],
   "outputs": [
    {
     "data": {
      "text/plain": [
       "array([ 2.60267435e+05, -2.48556138e+04,  1.01520058e+03,  1.88464176e+02])"
      ]
     },
     "execution_count": 44,
     "metadata": {},
     "output_type": "execute_result"
    }
   ],
   "execution_count": 44
  },
  {
   "cell_type": "code",
   "id": "844de7cf-ae0a-492e-a6f1-948ed603cb85",
   "metadata": {
    "ExecuteTime": {
     "end_time": "2025-09-28T23:09:24.597704Z",
     "start_time": "2025-09-28T23:09:24.594583Z"
    }
   },
   "source": [
    "l2 = Ridge(alpha = 1)  \n",
    "l2.fit(X_train_scaled, y_train)"
   ],
   "outputs": [
    {
     "data": {
      "text/plain": [
       "Ridge(alpha=1)"
      ],
      "text/html": [
       "<style>#sk-container-id-6 {\n",
       "  /* Definition of color scheme common for light and dark mode */\n",
       "  --sklearn-color-text: black;\n",
       "  --sklearn-color-line: gray;\n",
       "  /* Definition of color scheme for unfitted estimators */\n",
       "  --sklearn-color-unfitted-level-0: #fff5e6;\n",
       "  --sklearn-color-unfitted-level-1: #f6e4d2;\n",
       "  --sklearn-color-unfitted-level-2: #ffe0b3;\n",
       "  --sklearn-color-unfitted-level-3: chocolate;\n",
       "  /* Definition of color scheme for fitted estimators */\n",
       "  --sklearn-color-fitted-level-0: #f0f8ff;\n",
       "  --sklearn-color-fitted-level-1: #d4ebff;\n",
       "  --sklearn-color-fitted-level-2: #b3dbfd;\n",
       "  --sklearn-color-fitted-level-3: cornflowerblue;\n",
       "\n",
       "  /* Specific color for light theme */\n",
       "  --sklearn-color-text-on-default-background: var(--sg-text-color, var(--theme-code-foreground, var(--jp-content-font-color1, black)));\n",
       "  --sklearn-color-background: var(--sg-background-color, var(--theme-background, var(--jp-layout-color0, white)));\n",
       "  --sklearn-color-border-box: var(--sg-text-color, var(--theme-code-foreground, var(--jp-content-font-color1, black)));\n",
       "  --sklearn-color-icon: #696969;\n",
       "\n",
       "  @media (prefers-color-scheme: dark) {\n",
       "    /* Redefinition of color scheme for dark theme */\n",
       "    --sklearn-color-text-on-default-background: var(--sg-text-color, var(--theme-code-foreground, var(--jp-content-font-color1, white)));\n",
       "    --sklearn-color-background: var(--sg-background-color, var(--theme-background, var(--jp-layout-color0, #111)));\n",
       "    --sklearn-color-border-box: var(--sg-text-color, var(--theme-code-foreground, var(--jp-content-font-color1, white)));\n",
       "    --sklearn-color-icon: #878787;\n",
       "  }\n",
       "}\n",
       "\n",
       "#sk-container-id-6 {\n",
       "  color: var(--sklearn-color-text);\n",
       "}\n",
       "\n",
       "#sk-container-id-6 pre {\n",
       "  padding: 0;\n",
       "}\n",
       "\n",
       "#sk-container-id-6 input.sk-hidden--visually {\n",
       "  border: 0;\n",
       "  clip: rect(1px 1px 1px 1px);\n",
       "  clip: rect(1px, 1px, 1px, 1px);\n",
       "  height: 1px;\n",
       "  margin: -1px;\n",
       "  overflow: hidden;\n",
       "  padding: 0;\n",
       "  position: absolute;\n",
       "  width: 1px;\n",
       "}\n",
       "\n",
       "#sk-container-id-6 div.sk-dashed-wrapped {\n",
       "  border: 1px dashed var(--sklearn-color-line);\n",
       "  margin: 0 0.4em 0.5em 0.4em;\n",
       "  box-sizing: border-box;\n",
       "  padding-bottom: 0.4em;\n",
       "  background-color: var(--sklearn-color-background);\n",
       "}\n",
       "\n",
       "#sk-container-id-6 div.sk-container {\n",
       "  /* jupyter's `normalize.less` sets `[hidden] { display: none; }`\n",
       "     but bootstrap.min.css set `[hidden] { display: none !important; }`\n",
       "     so we also need the `!important` here to be able to override the\n",
       "     default hidden behavior on the sphinx rendered scikit-learn.org.\n",
       "     See: https://github.com/scikit-learn/scikit-learn/issues/21755 */\n",
       "  display: inline-block !important;\n",
       "  position: relative;\n",
       "}\n",
       "\n",
       "#sk-container-id-6 div.sk-text-repr-fallback {\n",
       "  display: none;\n",
       "}\n",
       "\n",
       "div.sk-parallel-item,\n",
       "div.sk-serial,\n",
       "div.sk-item {\n",
       "  /* draw centered vertical line to link estimators */\n",
       "  background-image: linear-gradient(var(--sklearn-color-text-on-default-background), var(--sklearn-color-text-on-default-background));\n",
       "  background-size: 2px 100%;\n",
       "  background-repeat: no-repeat;\n",
       "  background-position: center center;\n",
       "}\n",
       "\n",
       "/* Parallel-specific style estimator block */\n",
       "\n",
       "#sk-container-id-6 div.sk-parallel-item::after {\n",
       "  content: \"\";\n",
       "  width: 100%;\n",
       "  border-bottom: 2px solid var(--sklearn-color-text-on-default-background);\n",
       "  flex-grow: 1;\n",
       "}\n",
       "\n",
       "#sk-container-id-6 div.sk-parallel {\n",
       "  display: flex;\n",
       "  align-items: stretch;\n",
       "  justify-content: center;\n",
       "  background-color: var(--sklearn-color-background);\n",
       "  position: relative;\n",
       "}\n",
       "\n",
       "#sk-container-id-6 div.sk-parallel-item {\n",
       "  display: flex;\n",
       "  flex-direction: column;\n",
       "}\n",
       "\n",
       "#sk-container-id-6 div.sk-parallel-item:first-child::after {\n",
       "  align-self: flex-end;\n",
       "  width: 50%;\n",
       "}\n",
       "\n",
       "#sk-container-id-6 div.sk-parallel-item:last-child::after {\n",
       "  align-self: flex-start;\n",
       "  width: 50%;\n",
       "}\n",
       "\n",
       "#sk-container-id-6 div.sk-parallel-item:only-child::after {\n",
       "  width: 0;\n",
       "}\n",
       "\n",
       "/* Serial-specific style estimator block */\n",
       "\n",
       "#sk-container-id-6 div.sk-serial {\n",
       "  display: flex;\n",
       "  flex-direction: column;\n",
       "  align-items: center;\n",
       "  background-color: var(--sklearn-color-background);\n",
       "  padding-right: 1em;\n",
       "  padding-left: 1em;\n",
       "}\n",
       "\n",
       "\n",
       "/* Toggleable style: style used for estimator/Pipeline/ColumnTransformer box that is\n",
       "clickable and can be expanded/collapsed.\n",
       "- Pipeline and ColumnTransformer use this feature and define the default style\n",
       "- Estimators will overwrite some part of the style using the `sk-estimator` class\n",
       "*/\n",
       "\n",
       "/* Pipeline and ColumnTransformer style (default) */\n",
       "\n",
       "#sk-container-id-6 div.sk-toggleable {\n",
       "  /* Default theme specific background. It is overwritten whether we have a\n",
       "  specific estimator or a Pipeline/ColumnTransformer */\n",
       "  background-color: var(--sklearn-color-background);\n",
       "}\n",
       "\n",
       "/* Toggleable label */\n",
       "#sk-container-id-6 label.sk-toggleable__label {\n",
       "  cursor: pointer;\n",
       "  display: block;\n",
       "  width: 100%;\n",
       "  margin-bottom: 0;\n",
       "  padding: 0.5em;\n",
       "  box-sizing: border-box;\n",
       "  text-align: center;\n",
       "}\n",
       "\n",
       "#sk-container-id-6 label.sk-toggleable__label-arrow:before {\n",
       "  /* Arrow on the left of the label */\n",
       "  content: \"▸\";\n",
       "  float: left;\n",
       "  margin-right: 0.25em;\n",
       "  color: var(--sklearn-color-icon);\n",
       "}\n",
       "\n",
       "#sk-container-id-6 label.sk-toggleable__label-arrow:hover:before {\n",
       "  color: var(--sklearn-color-text);\n",
       "}\n",
       "\n",
       "/* Toggleable content - dropdown */\n",
       "\n",
       "#sk-container-id-6 div.sk-toggleable__content {\n",
       "  max-height: 0;\n",
       "  max-width: 0;\n",
       "  overflow: hidden;\n",
       "  text-align: left;\n",
       "  /* unfitted */\n",
       "  background-color: var(--sklearn-color-unfitted-level-0);\n",
       "}\n",
       "\n",
       "#sk-container-id-6 div.sk-toggleable__content.fitted {\n",
       "  /* fitted */\n",
       "  background-color: var(--sklearn-color-fitted-level-0);\n",
       "}\n",
       "\n",
       "#sk-container-id-6 div.sk-toggleable__content pre {\n",
       "  margin: 0.2em;\n",
       "  border-radius: 0.25em;\n",
       "  color: var(--sklearn-color-text);\n",
       "  /* unfitted */\n",
       "  background-color: var(--sklearn-color-unfitted-level-0);\n",
       "}\n",
       "\n",
       "#sk-container-id-6 div.sk-toggleable__content.fitted pre {\n",
       "  /* unfitted */\n",
       "  background-color: var(--sklearn-color-fitted-level-0);\n",
       "}\n",
       "\n",
       "#sk-container-id-6 input.sk-toggleable__control:checked~div.sk-toggleable__content {\n",
       "  /* Expand drop-down */\n",
       "  max-height: 200px;\n",
       "  max-width: 100%;\n",
       "  overflow: auto;\n",
       "}\n",
       "\n",
       "#sk-container-id-6 input.sk-toggleable__control:checked~label.sk-toggleable__label-arrow:before {\n",
       "  content: \"▾\";\n",
       "}\n",
       "\n",
       "/* Pipeline/ColumnTransformer-specific style */\n",
       "\n",
       "#sk-container-id-6 div.sk-label input.sk-toggleable__control:checked~label.sk-toggleable__label {\n",
       "  color: var(--sklearn-color-text);\n",
       "  background-color: var(--sklearn-color-unfitted-level-2);\n",
       "}\n",
       "\n",
       "#sk-container-id-6 div.sk-label.fitted input.sk-toggleable__control:checked~label.sk-toggleable__label {\n",
       "  background-color: var(--sklearn-color-fitted-level-2);\n",
       "}\n",
       "\n",
       "/* Estimator-specific style */\n",
       "\n",
       "/* Colorize estimator box */\n",
       "#sk-container-id-6 div.sk-estimator input.sk-toggleable__control:checked~label.sk-toggleable__label {\n",
       "  /* unfitted */\n",
       "  background-color: var(--sklearn-color-unfitted-level-2);\n",
       "}\n",
       "\n",
       "#sk-container-id-6 div.sk-estimator.fitted input.sk-toggleable__control:checked~label.sk-toggleable__label {\n",
       "  /* fitted */\n",
       "  background-color: var(--sklearn-color-fitted-level-2);\n",
       "}\n",
       "\n",
       "#sk-container-id-6 div.sk-label label.sk-toggleable__label,\n",
       "#sk-container-id-6 div.sk-label label {\n",
       "  /* The background is the default theme color */\n",
       "  color: var(--sklearn-color-text-on-default-background);\n",
       "}\n",
       "\n",
       "/* On hover, darken the color of the background */\n",
       "#sk-container-id-6 div.sk-label:hover label.sk-toggleable__label {\n",
       "  color: var(--sklearn-color-text);\n",
       "  background-color: var(--sklearn-color-unfitted-level-2);\n",
       "}\n",
       "\n",
       "/* Label box, darken color on hover, fitted */\n",
       "#sk-container-id-6 div.sk-label.fitted:hover label.sk-toggleable__label.fitted {\n",
       "  color: var(--sklearn-color-text);\n",
       "  background-color: var(--sklearn-color-fitted-level-2);\n",
       "}\n",
       "\n",
       "/* Estimator label */\n",
       "\n",
       "#sk-container-id-6 div.sk-label label {\n",
       "  font-family: monospace;\n",
       "  font-weight: bold;\n",
       "  display: inline-block;\n",
       "  line-height: 1.2em;\n",
       "}\n",
       "\n",
       "#sk-container-id-6 div.sk-label-container {\n",
       "  text-align: center;\n",
       "}\n",
       "\n",
       "/* Estimator-specific */\n",
       "#sk-container-id-6 div.sk-estimator {\n",
       "  font-family: monospace;\n",
       "  border: 1px dotted var(--sklearn-color-border-box);\n",
       "  border-radius: 0.25em;\n",
       "  box-sizing: border-box;\n",
       "  margin-bottom: 0.5em;\n",
       "  /* unfitted */\n",
       "  background-color: var(--sklearn-color-unfitted-level-0);\n",
       "}\n",
       "\n",
       "#sk-container-id-6 div.sk-estimator.fitted {\n",
       "  /* fitted */\n",
       "  background-color: var(--sklearn-color-fitted-level-0);\n",
       "}\n",
       "\n",
       "/* on hover */\n",
       "#sk-container-id-6 div.sk-estimator:hover {\n",
       "  /* unfitted */\n",
       "  background-color: var(--sklearn-color-unfitted-level-2);\n",
       "}\n",
       "\n",
       "#sk-container-id-6 div.sk-estimator.fitted:hover {\n",
       "  /* fitted */\n",
       "  background-color: var(--sklearn-color-fitted-level-2);\n",
       "}\n",
       "\n",
       "/* Specification for estimator info (e.g. \"i\" and \"?\") */\n",
       "\n",
       "/* Common style for \"i\" and \"?\" */\n",
       "\n",
       ".sk-estimator-doc-link,\n",
       "a:link.sk-estimator-doc-link,\n",
       "a:visited.sk-estimator-doc-link {\n",
       "  float: right;\n",
       "  font-size: smaller;\n",
       "  line-height: 1em;\n",
       "  font-family: monospace;\n",
       "  background-color: var(--sklearn-color-background);\n",
       "  border-radius: 1em;\n",
       "  height: 1em;\n",
       "  width: 1em;\n",
       "  text-decoration: none !important;\n",
       "  margin-left: 1ex;\n",
       "  /* unfitted */\n",
       "  border: var(--sklearn-color-unfitted-level-1) 1pt solid;\n",
       "  color: var(--sklearn-color-unfitted-level-1);\n",
       "}\n",
       "\n",
       ".sk-estimator-doc-link.fitted,\n",
       "a:link.sk-estimator-doc-link.fitted,\n",
       "a:visited.sk-estimator-doc-link.fitted {\n",
       "  /* fitted */\n",
       "  border: var(--sklearn-color-fitted-level-1) 1pt solid;\n",
       "  color: var(--sklearn-color-fitted-level-1);\n",
       "}\n",
       "\n",
       "/* On hover */\n",
       "div.sk-estimator:hover .sk-estimator-doc-link:hover,\n",
       ".sk-estimator-doc-link:hover,\n",
       "div.sk-label-container:hover .sk-estimator-doc-link:hover,\n",
       ".sk-estimator-doc-link:hover {\n",
       "  /* unfitted */\n",
       "  background-color: var(--sklearn-color-unfitted-level-3);\n",
       "  color: var(--sklearn-color-background);\n",
       "  text-decoration: none;\n",
       "}\n",
       "\n",
       "div.sk-estimator.fitted:hover .sk-estimator-doc-link.fitted:hover,\n",
       ".sk-estimator-doc-link.fitted:hover,\n",
       "div.sk-label-container:hover .sk-estimator-doc-link.fitted:hover,\n",
       ".sk-estimator-doc-link.fitted:hover {\n",
       "  /* fitted */\n",
       "  background-color: var(--sklearn-color-fitted-level-3);\n",
       "  color: var(--sklearn-color-background);\n",
       "  text-decoration: none;\n",
       "}\n",
       "\n",
       "/* Span, style for the box shown on hovering the info icon */\n",
       ".sk-estimator-doc-link span {\n",
       "  display: none;\n",
       "  z-index: 9999;\n",
       "  position: relative;\n",
       "  font-weight: normal;\n",
       "  right: .2ex;\n",
       "  padding: .5ex;\n",
       "  margin: .5ex;\n",
       "  width: min-content;\n",
       "  min-width: 20ex;\n",
       "  max-width: 50ex;\n",
       "  color: var(--sklearn-color-text);\n",
       "  box-shadow: 2pt 2pt 4pt #999;\n",
       "  /* unfitted */\n",
       "  background: var(--sklearn-color-unfitted-level-0);\n",
       "  border: .5pt solid var(--sklearn-color-unfitted-level-3);\n",
       "}\n",
       "\n",
       ".sk-estimator-doc-link.fitted span {\n",
       "  /* fitted */\n",
       "  background: var(--sklearn-color-fitted-level-0);\n",
       "  border: var(--sklearn-color-fitted-level-3);\n",
       "}\n",
       "\n",
       ".sk-estimator-doc-link:hover span {\n",
       "  display: block;\n",
       "}\n",
       "\n",
       "/* \"?\"-specific style due to the `<a>` HTML tag */\n",
       "\n",
       "#sk-container-id-6 a.estimator_doc_link {\n",
       "  float: right;\n",
       "  font-size: 1rem;\n",
       "  line-height: 1em;\n",
       "  font-family: monospace;\n",
       "  background-color: var(--sklearn-color-background);\n",
       "  border-radius: 1rem;\n",
       "  height: 1rem;\n",
       "  width: 1rem;\n",
       "  text-decoration: none;\n",
       "  /* unfitted */\n",
       "  color: var(--sklearn-color-unfitted-level-1);\n",
       "  border: var(--sklearn-color-unfitted-level-1) 1pt solid;\n",
       "}\n",
       "\n",
       "#sk-container-id-6 a.estimator_doc_link.fitted {\n",
       "  /* fitted */\n",
       "  border: var(--sklearn-color-fitted-level-1) 1pt solid;\n",
       "  color: var(--sklearn-color-fitted-level-1);\n",
       "}\n",
       "\n",
       "/* On hover */\n",
       "#sk-container-id-6 a.estimator_doc_link:hover {\n",
       "  /* unfitted */\n",
       "  background-color: var(--sklearn-color-unfitted-level-3);\n",
       "  color: var(--sklearn-color-background);\n",
       "  text-decoration: none;\n",
       "}\n",
       "\n",
       "#sk-container-id-6 a.estimator_doc_link.fitted:hover {\n",
       "  /* fitted */\n",
       "  background-color: var(--sklearn-color-fitted-level-3);\n",
       "}\n",
       "</style><div id=\"sk-container-id-6\" class=\"sk-top-container\"><div class=\"sk-text-repr-fallback\"><pre>Ridge(alpha=1)</pre><b>In a Jupyter environment, please rerun this cell to show the HTML representation or trust the notebook. <br />On GitHub, the HTML representation is unable to render, please try loading this page with nbviewer.org.</b></div><div class=\"sk-container\" hidden><div class=\"sk-item\"><div class=\"sk-estimator fitted sk-toggleable\"><input class=\"sk-toggleable__control sk-hidden--visually\" id=\"sk-estimator-id-6\" type=\"checkbox\" checked><label for=\"sk-estimator-id-6\" class=\"sk-toggleable__label fitted sk-toggleable__label-arrow fitted\">&nbsp;&nbsp;Ridge<a class=\"sk-estimator-doc-link fitted\" rel=\"noreferrer\" target=\"_blank\" href=\"https://scikit-learn.org/1.5/modules/generated/sklearn.linear_model.Ridge.html\">?<span>Documentation for Ridge</span></a><span class=\"sk-estimator-doc-link fitted\">i<span>Fitted</span></span></label><div class=\"sk-toggleable__content fitted\"><pre>Ridge(alpha=1)</pre></div> </div></div></div></div>"
      ]
     },
     "execution_count": 45,
     "metadata": {},
     "output_type": "execute_result"
    }
   ],
   "execution_count": 45
  },
  {
   "cell_type": "code",
   "id": "ac066082-976a-4e89-9708-eeb84bc06006",
   "metadata": {
    "ExecuteTime": {
     "end_time": "2025-09-28T23:09:24.619384Z",
     "start_time": "2025-09-28T23:09:24.617274Z"
    }
   },
   "source": [
    "l2.intercept_"
   ],
   "outputs": [
    {
     "data": {
      "text/plain": [
       "177747.69771428572"
      ]
     },
     "execution_count": 46,
     "metadata": {},
     "output_type": "execute_result"
    }
   ],
   "execution_count": 46
  },
  {
   "cell_type": "code",
   "id": "0cc18bba-60fd-49f1-826d-2dc4753a1863",
   "metadata": {
    "ExecuteTime": {
     "end_time": "2025-09-28T23:09:24.639230Z",
     "start_time": "2025-09-28T23:09:24.636818Z"
    }
   },
   "source": [
    "l2.coef_"
   ],
   "outputs": [
    {
     "data": {
      "text/plain": [
       "array([257561.87060672, -22672.87083967,   1319.04616626,    277.49357921])"
      ]
     },
     "execution_count": 47,
     "metadata": {},
     "output_type": "execute_result"
    }
   ],
   "execution_count": 47
  },
  {
   "cell_type": "code",
   "id": "a2977ab2-70d3-4b05-8a16-201121b5f277",
   "metadata": {
    "ExecuteTime": {
     "end_time": "2025-09-28T23:09:24.656478Z",
     "start_time": "2025-09-28T23:09:24.652901Z"
    }
   },
   "source": [
    "l2 = Ridge(alpha = 10)  \n",
    "l2.fit(X_train_scaled, y_train)\n",
    "y_pred = l2.predict(X_train_scaled)\n",
    "r2_score(y_train, y_pred)"
   ],
   "outputs": [
    {
     "data": {
      "text/plain": [
       "0.984726110884884"
      ]
     },
     "execution_count": 48,
     "metadata": {},
     "output_type": "execute_result"
    }
   ],
   "execution_count": 48
  },
  {
   "cell_type": "code",
   "id": "93832f9f-8ab4-4f15-a03c-d78db4b5e1bb",
   "metadata": {
    "ExecuteTime": {
     "end_time": "2025-09-28T23:09:24.669487Z",
     "start_time": "2025-09-28T23:09:24.667555Z"
    }
   },
   "source": [
    "l2.intercept_"
   ],
   "outputs": [
    {
     "data": {
      "text/plain": [
       "177747.69771428572"
      ]
     },
     "execution_count": 49,
     "metadata": {},
     "output_type": "execute_result"
    }
   ],
   "execution_count": 49
  },
  {
   "cell_type": "code",
   "id": "1014057b-dd09-4c21-a9d2-4e9340b4e959",
   "metadata": {
    "ExecuteTime": {
     "end_time": "2025-09-28T23:09:24.693058Z",
     "start_time": "2025-09-28T23:09:24.690696Z"
    }
   },
   "source": [
    "l2.coef_"
   ],
   "outputs": [
    {
     "data": {
      "text/plain": [
       "array([234549.35852893,  -4652.18597342,   3959.54073029,   1001.99543288])"
      ]
     },
     "execution_count": 50,
     "metadata": {},
     "output_type": "execute_result"
    }
   ],
   "execution_count": 50
  },
  {
   "cell_type": "markdown",
   "id": "ba600be5-ad70-48d2-b152-5e2d8e14cd21",
   "metadata": {},
   "source": [
    "#### Interpretación"
   ]
  },
  {
   "cell_type": "markdown",
   "id": "af5c2c09-2d82-46e9-a282-d2dc8985dc16",
   "metadata": {},
   "source": [
    "Con los R2 se puede ver que el valor se mantiene prácticamente igual en los tres casos 0.9884 con alpha = 0.1, 0.9884 con alpha = 1 y 0.9847 con alpha = 10. Esto significa que el cambio en alpha no afecta mucho la capacidad del modelo para explicar las ventas, ya que la explicación de la variabilidad de los datos sigue siendo muy alta. Sin embargo, cuando el alpha sube a 10, el R2 baja un poco, lo que indica que el modelo empieza a perder algo de ajuste en favor de tener coeficientes más pequeños y un modelo más estable."
   ]
  },
  {
   "cell_type": "markdown",
   "id": "c3c19961-9004-4559-b6fb-c97715fd74fa",
   "metadata": {},
   "source": [
    "### Ridge test"
   ]
  },
  {
   "cell_type": "code",
   "id": "617868f1-809f-4c90-b4e4-bced65aa2ae8",
   "metadata": {
    "ExecuteTime": {
     "end_time": "2025-09-28T23:09:24.710502Z",
     "start_time": "2025-09-28T23:09:24.707706Z"
    }
   },
   "source": [
    "l2 = Ridge(alpha = 0.1)\n",
    "l2.fit(X_test_scaled, y_test)"
   ],
   "outputs": [
    {
     "data": {
      "text/plain": [
       "Ridge(alpha=0.1)"
      ],
      "text/html": [
       "<style>#sk-container-id-7 {\n",
       "  /* Definition of color scheme common for light and dark mode */\n",
       "  --sklearn-color-text: black;\n",
       "  --sklearn-color-line: gray;\n",
       "  /* Definition of color scheme for unfitted estimators */\n",
       "  --sklearn-color-unfitted-level-0: #fff5e6;\n",
       "  --sklearn-color-unfitted-level-1: #f6e4d2;\n",
       "  --sklearn-color-unfitted-level-2: #ffe0b3;\n",
       "  --sklearn-color-unfitted-level-3: chocolate;\n",
       "  /* Definition of color scheme for fitted estimators */\n",
       "  --sklearn-color-fitted-level-0: #f0f8ff;\n",
       "  --sklearn-color-fitted-level-1: #d4ebff;\n",
       "  --sklearn-color-fitted-level-2: #b3dbfd;\n",
       "  --sklearn-color-fitted-level-3: cornflowerblue;\n",
       "\n",
       "  /* Specific color for light theme */\n",
       "  --sklearn-color-text-on-default-background: var(--sg-text-color, var(--theme-code-foreground, var(--jp-content-font-color1, black)));\n",
       "  --sklearn-color-background: var(--sg-background-color, var(--theme-background, var(--jp-layout-color0, white)));\n",
       "  --sklearn-color-border-box: var(--sg-text-color, var(--theme-code-foreground, var(--jp-content-font-color1, black)));\n",
       "  --sklearn-color-icon: #696969;\n",
       "\n",
       "  @media (prefers-color-scheme: dark) {\n",
       "    /* Redefinition of color scheme for dark theme */\n",
       "    --sklearn-color-text-on-default-background: var(--sg-text-color, var(--theme-code-foreground, var(--jp-content-font-color1, white)));\n",
       "    --sklearn-color-background: var(--sg-background-color, var(--theme-background, var(--jp-layout-color0, #111)));\n",
       "    --sklearn-color-border-box: var(--sg-text-color, var(--theme-code-foreground, var(--jp-content-font-color1, white)));\n",
       "    --sklearn-color-icon: #878787;\n",
       "  }\n",
       "}\n",
       "\n",
       "#sk-container-id-7 {\n",
       "  color: var(--sklearn-color-text);\n",
       "}\n",
       "\n",
       "#sk-container-id-7 pre {\n",
       "  padding: 0;\n",
       "}\n",
       "\n",
       "#sk-container-id-7 input.sk-hidden--visually {\n",
       "  border: 0;\n",
       "  clip: rect(1px 1px 1px 1px);\n",
       "  clip: rect(1px, 1px, 1px, 1px);\n",
       "  height: 1px;\n",
       "  margin: -1px;\n",
       "  overflow: hidden;\n",
       "  padding: 0;\n",
       "  position: absolute;\n",
       "  width: 1px;\n",
       "}\n",
       "\n",
       "#sk-container-id-7 div.sk-dashed-wrapped {\n",
       "  border: 1px dashed var(--sklearn-color-line);\n",
       "  margin: 0 0.4em 0.5em 0.4em;\n",
       "  box-sizing: border-box;\n",
       "  padding-bottom: 0.4em;\n",
       "  background-color: var(--sklearn-color-background);\n",
       "}\n",
       "\n",
       "#sk-container-id-7 div.sk-container {\n",
       "  /* jupyter's `normalize.less` sets `[hidden] { display: none; }`\n",
       "     but bootstrap.min.css set `[hidden] { display: none !important; }`\n",
       "     so we also need the `!important` here to be able to override the\n",
       "     default hidden behavior on the sphinx rendered scikit-learn.org.\n",
       "     See: https://github.com/scikit-learn/scikit-learn/issues/21755 */\n",
       "  display: inline-block !important;\n",
       "  position: relative;\n",
       "}\n",
       "\n",
       "#sk-container-id-7 div.sk-text-repr-fallback {\n",
       "  display: none;\n",
       "}\n",
       "\n",
       "div.sk-parallel-item,\n",
       "div.sk-serial,\n",
       "div.sk-item {\n",
       "  /* draw centered vertical line to link estimators */\n",
       "  background-image: linear-gradient(var(--sklearn-color-text-on-default-background), var(--sklearn-color-text-on-default-background));\n",
       "  background-size: 2px 100%;\n",
       "  background-repeat: no-repeat;\n",
       "  background-position: center center;\n",
       "}\n",
       "\n",
       "/* Parallel-specific style estimator block */\n",
       "\n",
       "#sk-container-id-7 div.sk-parallel-item::after {\n",
       "  content: \"\";\n",
       "  width: 100%;\n",
       "  border-bottom: 2px solid var(--sklearn-color-text-on-default-background);\n",
       "  flex-grow: 1;\n",
       "}\n",
       "\n",
       "#sk-container-id-7 div.sk-parallel {\n",
       "  display: flex;\n",
       "  align-items: stretch;\n",
       "  justify-content: center;\n",
       "  background-color: var(--sklearn-color-background);\n",
       "  position: relative;\n",
       "}\n",
       "\n",
       "#sk-container-id-7 div.sk-parallel-item {\n",
       "  display: flex;\n",
       "  flex-direction: column;\n",
       "}\n",
       "\n",
       "#sk-container-id-7 div.sk-parallel-item:first-child::after {\n",
       "  align-self: flex-end;\n",
       "  width: 50%;\n",
       "}\n",
       "\n",
       "#sk-container-id-7 div.sk-parallel-item:last-child::after {\n",
       "  align-self: flex-start;\n",
       "  width: 50%;\n",
       "}\n",
       "\n",
       "#sk-container-id-7 div.sk-parallel-item:only-child::after {\n",
       "  width: 0;\n",
       "}\n",
       "\n",
       "/* Serial-specific style estimator block */\n",
       "\n",
       "#sk-container-id-7 div.sk-serial {\n",
       "  display: flex;\n",
       "  flex-direction: column;\n",
       "  align-items: center;\n",
       "  background-color: var(--sklearn-color-background);\n",
       "  padding-right: 1em;\n",
       "  padding-left: 1em;\n",
       "}\n",
       "\n",
       "\n",
       "/* Toggleable style: style used for estimator/Pipeline/ColumnTransformer box that is\n",
       "clickable and can be expanded/collapsed.\n",
       "- Pipeline and ColumnTransformer use this feature and define the default style\n",
       "- Estimators will overwrite some part of the style using the `sk-estimator` class\n",
       "*/\n",
       "\n",
       "/* Pipeline and ColumnTransformer style (default) */\n",
       "\n",
       "#sk-container-id-7 div.sk-toggleable {\n",
       "  /* Default theme specific background. It is overwritten whether we have a\n",
       "  specific estimator or a Pipeline/ColumnTransformer */\n",
       "  background-color: var(--sklearn-color-background);\n",
       "}\n",
       "\n",
       "/* Toggleable label */\n",
       "#sk-container-id-7 label.sk-toggleable__label {\n",
       "  cursor: pointer;\n",
       "  display: block;\n",
       "  width: 100%;\n",
       "  margin-bottom: 0;\n",
       "  padding: 0.5em;\n",
       "  box-sizing: border-box;\n",
       "  text-align: center;\n",
       "}\n",
       "\n",
       "#sk-container-id-7 label.sk-toggleable__label-arrow:before {\n",
       "  /* Arrow on the left of the label */\n",
       "  content: \"▸\";\n",
       "  float: left;\n",
       "  margin-right: 0.25em;\n",
       "  color: var(--sklearn-color-icon);\n",
       "}\n",
       "\n",
       "#sk-container-id-7 label.sk-toggleable__label-arrow:hover:before {\n",
       "  color: var(--sklearn-color-text);\n",
       "}\n",
       "\n",
       "/* Toggleable content - dropdown */\n",
       "\n",
       "#sk-container-id-7 div.sk-toggleable__content {\n",
       "  max-height: 0;\n",
       "  max-width: 0;\n",
       "  overflow: hidden;\n",
       "  text-align: left;\n",
       "  /* unfitted */\n",
       "  background-color: var(--sklearn-color-unfitted-level-0);\n",
       "}\n",
       "\n",
       "#sk-container-id-7 div.sk-toggleable__content.fitted {\n",
       "  /* fitted */\n",
       "  background-color: var(--sklearn-color-fitted-level-0);\n",
       "}\n",
       "\n",
       "#sk-container-id-7 div.sk-toggleable__content pre {\n",
       "  margin: 0.2em;\n",
       "  border-radius: 0.25em;\n",
       "  color: var(--sklearn-color-text);\n",
       "  /* unfitted */\n",
       "  background-color: var(--sklearn-color-unfitted-level-0);\n",
       "}\n",
       "\n",
       "#sk-container-id-7 div.sk-toggleable__content.fitted pre {\n",
       "  /* unfitted */\n",
       "  background-color: var(--sklearn-color-fitted-level-0);\n",
       "}\n",
       "\n",
       "#sk-container-id-7 input.sk-toggleable__control:checked~div.sk-toggleable__content {\n",
       "  /* Expand drop-down */\n",
       "  max-height: 200px;\n",
       "  max-width: 100%;\n",
       "  overflow: auto;\n",
       "}\n",
       "\n",
       "#sk-container-id-7 input.sk-toggleable__control:checked~label.sk-toggleable__label-arrow:before {\n",
       "  content: \"▾\";\n",
       "}\n",
       "\n",
       "/* Pipeline/ColumnTransformer-specific style */\n",
       "\n",
       "#sk-container-id-7 div.sk-label input.sk-toggleable__control:checked~label.sk-toggleable__label {\n",
       "  color: var(--sklearn-color-text);\n",
       "  background-color: var(--sklearn-color-unfitted-level-2);\n",
       "}\n",
       "\n",
       "#sk-container-id-7 div.sk-label.fitted input.sk-toggleable__control:checked~label.sk-toggleable__label {\n",
       "  background-color: var(--sklearn-color-fitted-level-2);\n",
       "}\n",
       "\n",
       "/* Estimator-specific style */\n",
       "\n",
       "/* Colorize estimator box */\n",
       "#sk-container-id-7 div.sk-estimator input.sk-toggleable__control:checked~label.sk-toggleable__label {\n",
       "  /* unfitted */\n",
       "  background-color: var(--sklearn-color-unfitted-level-2);\n",
       "}\n",
       "\n",
       "#sk-container-id-7 div.sk-estimator.fitted input.sk-toggleable__control:checked~label.sk-toggleable__label {\n",
       "  /* fitted */\n",
       "  background-color: var(--sklearn-color-fitted-level-2);\n",
       "}\n",
       "\n",
       "#sk-container-id-7 div.sk-label label.sk-toggleable__label,\n",
       "#sk-container-id-7 div.sk-label label {\n",
       "  /* The background is the default theme color */\n",
       "  color: var(--sklearn-color-text-on-default-background);\n",
       "}\n",
       "\n",
       "/* On hover, darken the color of the background */\n",
       "#sk-container-id-7 div.sk-label:hover label.sk-toggleable__label {\n",
       "  color: var(--sklearn-color-text);\n",
       "  background-color: var(--sklearn-color-unfitted-level-2);\n",
       "}\n",
       "\n",
       "/* Label box, darken color on hover, fitted */\n",
       "#sk-container-id-7 div.sk-label.fitted:hover label.sk-toggleable__label.fitted {\n",
       "  color: var(--sklearn-color-text);\n",
       "  background-color: var(--sklearn-color-fitted-level-2);\n",
       "}\n",
       "\n",
       "/* Estimator label */\n",
       "\n",
       "#sk-container-id-7 div.sk-label label {\n",
       "  font-family: monospace;\n",
       "  font-weight: bold;\n",
       "  display: inline-block;\n",
       "  line-height: 1.2em;\n",
       "}\n",
       "\n",
       "#sk-container-id-7 div.sk-label-container {\n",
       "  text-align: center;\n",
       "}\n",
       "\n",
       "/* Estimator-specific */\n",
       "#sk-container-id-7 div.sk-estimator {\n",
       "  font-family: monospace;\n",
       "  border: 1px dotted var(--sklearn-color-border-box);\n",
       "  border-radius: 0.25em;\n",
       "  box-sizing: border-box;\n",
       "  margin-bottom: 0.5em;\n",
       "  /* unfitted */\n",
       "  background-color: var(--sklearn-color-unfitted-level-0);\n",
       "}\n",
       "\n",
       "#sk-container-id-7 div.sk-estimator.fitted {\n",
       "  /* fitted */\n",
       "  background-color: var(--sklearn-color-fitted-level-0);\n",
       "}\n",
       "\n",
       "/* on hover */\n",
       "#sk-container-id-7 div.sk-estimator:hover {\n",
       "  /* unfitted */\n",
       "  background-color: var(--sklearn-color-unfitted-level-2);\n",
       "}\n",
       "\n",
       "#sk-container-id-7 div.sk-estimator.fitted:hover {\n",
       "  /* fitted */\n",
       "  background-color: var(--sklearn-color-fitted-level-2);\n",
       "}\n",
       "\n",
       "/* Specification for estimator info (e.g. \"i\" and \"?\") */\n",
       "\n",
       "/* Common style for \"i\" and \"?\" */\n",
       "\n",
       ".sk-estimator-doc-link,\n",
       "a:link.sk-estimator-doc-link,\n",
       "a:visited.sk-estimator-doc-link {\n",
       "  float: right;\n",
       "  font-size: smaller;\n",
       "  line-height: 1em;\n",
       "  font-family: monospace;\n",
       "  background-color: var(--sklearn-color-background);\n",
       "  border-radius: 1em;\n",
       "  height: 1em;\n",
       "  width: 1em;\n",
       "  text-decoration: none !important;\n",
       "  margin-left: 1ex;\n",
       "  /* unfitted */\n",
       "  border: var(--sklearn-color-unfitted-level-1) 1pt solid;\n",
       "  color: var(--sklearn-color-unfitted-level-1);\n",
       "}\n",
       "\n",
       ".sk-estimator-doc-link.fitted,\n",
       "a:link.sk-estimator-doc-link.fitted,\n",
       "a:visited.sk-estimator-doc-link.fitted {\n",
       "  /* fitted */\n",
       "  border: var(--sklearn-color-fitted-level-1) 1pt solid;\n",
       "  color: var(--sklearn-color-fitted-level-1);\n",
       "}\n",
       "\n",
       "/* On hover */\n",
       "div.sk-estimator:hover .sk-estimator-doc-link:hover,\n",
       ".sk-estimator-doc-link:hover,\n",
       "div.sk-label-container:hover .sk-estimator-doc-link:hover,\n",
       ".sk-estimator-doc-link:hover {\n",
       "  /* unfitted */\n",
       "  background-color: var(--sklearn-color-unfitted-level-3);\n",
       "  color: var(--sklearn-color-background);\n",
       "  text-decoration: none;\n",
       "}\n",
       "\n",
       "div.sk-estimator.fitted:hover .sk-estimator-doc-link.fitted:hover,\n",
       ".sk-estimator-doc-link.fitted:hover,\n",
       "div.sk-label-container:hover .sk-estimator-doc-link.fitted:hover,\n",
       ".sk-estimator-doc-link.fitted:hover {\n",
       "  /* fitted */\n",
       "  background-color: var(--sklearn-color-fitted-level-3);\n",
       "  color: var(--sklearn-color-background);\n",
       "  text-decoration: none;\n",
       "}\n",
       "\n",
       "/* Span, style for the box shown on hovering the info icon */\n",
       ".sk-estimator-doc-link span {\n",
       "  display: none;\n",
       "  z-index: 9999;\n",
       "  position: relative;\n",
       "  font-weight: normal;\n",
       "  right: .2ex;\n",
       "  padding: .5ex;\n",
       "  margin: .5ex;\n",
       "  width: min-content;\n",
       "  min-width: 20ex;\n",
       "  max-width: 50ex;\n",
       "  color: var(--sklearn-color-text);\n",
       "  box-shadow: 2pt 2pt 4pt #999;\n",
       "  /* unfitted */\n",
       "  background: var(--sklearn-color-unfitted-level-0);\n",
       "  border: .5pt solid var(--sklearn-color-unfitted-level-3);\n",
       "}\n",
       "\n",
       ".sk-estimator-doc-link.fitted span {\n",
       "  /* fitted */\n",
       "  background: var(--sklearn-color-fitted-level-0);\n",
       "  border: var(--sklearn-color-fitted-level-3);\n",
       "}\n",
       "\n",
       ".sk-estimator-doc-link:hover span {\n",
       "  display: block;\n",
       "}\n",
       "\n",
       "/* \"?\"-specific style due to the `<a>` HTML tag */\n",
       "\n",
       "#sk-container-id-7 a.estimator_doc_link {\n",
       "  float: right;\n",
       "  font-size: 1rem;\n",
       "  line-height: 1em;\n",
       "  font-family: monospace;\n",
       "  background-color: var(--sklearn-color-background);\n",
       "  border-radius: 1rem;\n",
       "  height: 1rem;\n",
       "  width: 1rem;\n",
       "  text-decoration: none;\n",
       "  /* unfitted */\n",
       "  color: var(--sklearn-color-unfitted-level-1);\n",
       "  border: var(--sklearn-color-unfitted-level-1) 1pt solid;\n",
       "}\n",
       "\n",
       "#sk-container-id-7 a.estimator_doc_link.fitted {\n",
       "  /* fitted */\n",
       "  border: var(--sklearn-color-fitted-level-1) 1pt solid;\n",
       "  color: var(--sklearn-color-fitted-level-1);\n",
       "}\n",
       "\n",
       "/* On hover */\n",
       "#sk-container-id-7 a.estimator_doc_link:hover {\n",
       "  /* unfitted */\n",
       "  background-color: var(--sklearn-color-unfitted-level-3);\n",
       "  color: var(--sklearn-color-background);\n",
       "  text-decoration: none;\n",
       "}\n",
       "\n",
       "#sk-container-id-7 a.estimator_doc_link.fitted:hover {\n",
       "  /* fitted */\n",
       "  background-color: var(--sklearn-color-fitted-level-3);\n",
       "}\n",
       "</style><div id=\"sk-container-id-7\" class=\"sk-top-container\"><div class=\"sk-text-repr-fallback\"><pre>Ridge(alpha=0.1)</pre><b>In a Jupyter environment, please rerun this cell to show the HTML representation or trust the notebook. <br />On GitHub, the HTML representation is unable to render, please try loading this page with nbviewer.org.</b></div><div class=\"sk-container\" hidden><div class=\"sk-item\"><div class=\"sk-estimator fitted sk-toggleable\"><input class=\"sk-toggleable__control sk-hidden--visually\" id=\"sk-estimator-id-7\" type=\"checkbox\" checked><label for=\"sk-estimator-id-7\" class=\"sk-toggleable__label fitted sk-toggleable__label-arrow fitted\">&nbsp;&nbsp;Ridge<a class=\"sk-estimator-doc-link fitted\" rel=\"noreferrer\" target=\"_blank\" href=\"https://scikit-learn.org/1.5/modules/generated/sklearn.linear_model.Ridge.html\">?<span>Documentation for Ridge</span></a><span class=\"sk-estimator-doc-link fitted\">i<span>Fitted</span></span></label><div class=\"sk-toggleable__content fitted\"><pre>Ridge(alpha=0.1)</pre></div> </div></div></div></div>"
      ]
     },
     "execution_count": 51,
     "metadata": {},
     "output_type": "execute_result"
    }
   ],
   "execution_count": 51
  },
  {
   "cell_type": "code",
   "id": "fbe70369-50e5-4095-ad97-6bce2b653d40",
   "metadata": {
    "ExecuteTime": {
     "end_time": "2025-09-28T23:09:24.736079Z",
     "start_time": "2025-09-28T23:09:24.733849Z"
    }
   },
   "source": [
    "y_pred_test = l2.predict(X_test_scaled)\n",
    "r2_score(y_test, y_pred_test)"
   ],
   "outputs": [
    {
     "data": {
      "text/plain": [
       "0.9871899815353641"
      ]
     },
     "execution_count": 52,
     "metadata": {},
     "output_type": "execute_result"
    }
   ],
   "execution_count": 52
  },
  {
   "cell_type": "code",
   "id": "3ccb7090-efb4-4ea0-b951-e35230eef255",
   "metadata": {
    "ExecuteTime": {
     "end_time": "2025-09-28T23:09:24.756583Z",
     "start_time": "2025-09-28T23:09:24.753386Z"
    }
   },
   "source": [
    "l2.intercept_"
   ],
   "outputs": [
    {
     "data": {
      "text/plain": [
       "175178.03637198082"
      ]
     },
     "execution_count": 53,
     "metadata": {},
     "output_type": "execute_result"
    }
   ],
   "execution_count": 53
  },
  {
   "cell_type": "code",
   "id": "4d1091f1-6259-4ec8-948f-2578550904cd",
   "metadata": {
    "ExecuteTime": {
     "end_time": "2025-09-28T23:09:24.769997Z",
     "start_time": "2025-09-28T23:09:24.767998Z"
    }
   },
   "source": [
    "l2.coef_"
   ],
   "outputs": [
    {
     "data": {
      "text/plain": [
       "array([249610.71766933, -18260.96035356,  -1333.54697641,   1334.56429711])"
      ]
     },
     "execution_count": 54,
     "metadata": {},
     "output_type": "execute_result"
    }
   ],
   "execution_count": 54
  },
  {
   "cell_type": "code",
   "id": "aced5742-ef67-4068-87aa-a57b936efff1",
   "metadata": {
    "ExecuteTime": {
     "end_time": "2025-09-28T23:09:24.783649Z",
     "start_time": "2025-09-28T23:09:24.781022Z"
    }
   },
   "source": [
    "l2 = Ridge(alpha = 1)\n",
    "l2.fit(X_test_scaled, y_test)\n",
    "y_pred_test = l2.predict(X_test_scaled)\n",
    "r2_score(y_test, y_pred_test)"
   ],
   "outputs": [
    {
     "data": {
      "text/plain": [
       "0.9871713260825816"
      ]
     },
     "execution_count": 55,
     "metadata": {},
     "output_type": "execute_result"
    }
   ],
   "execution_count": 55
  },
  {
   "cell_type": "code",
   "id": "3460362b-584b-41f1-b930-b00073d85ec2",
   "metadata": {
    "ExecuteTime": {
     "end_time": "2025-09-28T23:09:24.796410Z",
     "start_time": "2025-09-28T23:09:24.794333Z"
    }
   },
   "source": [
    "l2.intercept_"
   ],
   "outputs": [
    {
     "data": {
      "text/plain": [
       "175180.61143422438"
      ]
     },
     "execution_count": 56,
     "metadata": {},
     "output_type": "execute_result"
    }
   ],
   "execution_count": 56
  },
  {
   "cell_type": "code",
   "id": "bc838637-045a-404b-89ce-b06d4db06fdb",
   "metadata": {
    "ExecuteTime": {
     "end_time": "2025-09-28T23:09:24.809650Z",
     "start_time": "2025-09-28T23:09:24.807385Z"
    }
   },
   "source": [
    "l2.coef_"
   ],
   "outputs": [
    {
     "data": {
      "text/plain": [
       "array([248137.45892837, -17165.45499094,  -1133.15470005,   1384.58880036])"
      ]
     },
     "execution_count": 57,
     "metadata": {},
     "output_type": "execute_result"
    }
   ],
   "execution_count": 57
  },
  {
   "cell_type": "code",
   "id": "eafd793d-4994-4060-bb1f-427dfabc84b6",
   "metadata": {
    "ExecuteTime": {
     "end_time": "2025-09-28T23:09:24.834894Z",
     "start_time": "2025-09-28T23:09:24.831631Z"
    }
   },
   "source": [
    "l2 = Ridge(alpha = 10)\n",
    "l2.fit(X_test_scaled, y_test)\n",
    "y_pred_test = l2.predict(X_test_scaled)\n",
    "r2_score(y_test, y_pred_test)"
   ],
   "outputs": [
    {
     "data": {
      "text/plain": [
       "0.9855956340350267"
      ]
     },
     "execution_count": 58,
     "metadata": {},
     "output_type": "execute_result"
    }
   ],
   "execution_count": 58
  },
  {
   "cell_type": "code",
   "id": "ce648458-fe59-49e0-a934-8cecdad23809",
   "metadata": {
    "ExecuteTime": {
     "end_time": "2025-09-28T23:09:24.855317Z",
     "start_time": "2025-09-28T23:09:24.853306Z"
    }
   },
   "source": [
    "l2.intercept_"
   ],
   "outputs": [
    {
     "data": {
      "text/plain": [
       "175185.7115060192"
      ]
     },
     "execution_count": 59,
     "metadata": {},
     "output_type": "execute_result"
    }
   ],
   "execution_count": 59
  },
  {
   "cell_type": "code",
   "id": "eec00532-979a-4415-a789-5ab699dbc376",
   "metadata": {
    "ExecuteTime": {
     "end_time": "2025-09-28T23:09:24.872368Z",
     "start_time": "2025-09-28T23:09:24.870372Z"
    }
   },
   "source": [
    "l2.coef_"
   ],
   "outputs": [
    {
     "data": {
      "text/plain": [
       "array([234694.66756886,  -7374.03460377,    704.36241025,   1836.96488924])"
      ]
     },
     "execution_count": 60,
     "metadata": {},
     "output_type": "execute_result"
    }
   ],
   "execution_count": 60
  },
  {
   "cell_type": "markdown",
   "id": "87a8b3ac-4a7b-4626-ba87-022c36e0789f",
   "metadata": {},
   "source": [
    "#### Interpretación"
   ]
  },
  {
   "cell_type": "markdown",
   "id": "9e3c9752-c3b1-4c6f-b1a1-a578ed595b3b",
   "metadata": {},
   "source": [
    "En el modelo Ridge con los datos de prueba, se observa que al usar un alpha pequeño (0.1) los coeficientes son más grandes y el R2 es muy alto (0.9871). Cuando se aumenta el alpha a 1 y luego a 10, los coeficientes se van reduciendo en magnitud, mientras que el R2 apenas baja un poco (de 0.9871 a 0.9859). Esto significa que, aunque el modelo sigue explicando muy bien las ventas, con un mayor alpha los coeficientes quedan más controlados y el riesgo de sobreajuste disminuye"
   ]
  },
  {
   "cell_type": "code",
   "id": "a4c7779c-d366-4d2c-b21c-7bae518f91c2",
   "metadata": {
    "ExecuteTime": {
     "end_time": "2025-09-28T23:09:24.904651Z",
     "start_time": "2025-09-28T23:09:24.903236Z"
    }
   },
   "source": [],
   "outputs": [],
   "execution_count": null
  },
  {
   "cell_type": "markdown",
   "id": "d51e4985-1aff-464a-81ff-f66f479bd3e0",
   "metadata": {},
   "source": [
    "### Lasso"
   ]
  },
  {
   "cell_type": "code",
   "id": "710c748a-e5e2-4f02-9562-3e3283012f1c",
   "metadata": {
    "ExecuteTime": {
     "end_time": "2025-09-28T23:09:24.925057Z",
     "start_time": "2025-09-28T23:09:24.920072Z"
    }
   },
   "source": [
    "l1 = Lasso(alpha = 0.1)   \n",
    "l1.fit(x, y)\n",
    "y_pred = l1.predict(x)\n",
    "r2_score(y, y_pred)"
   ],
   "outputs": [
    {
     "data": {
      "text/plain": [
       "0.9874531273335674"
      ]
     },
     "execution_count": 61,
     "metadata": {},
     "output_type": "execute_result"
    }
   ],
   "execution_count": 61
  },
  {
   "cell_type": "code",
   "id": "22f62a88-7917-4d71-af06-6c8402ca1380",
   "metadata": {
    "ExecuteTime": {
     "end_time": "2025-09-28T23:09:24.938953Z",
     "start_time": "2025-09-28T23:09:24.937187Z"
    }
   },
   "source": [
    "l1.intercept_"
   ],
   "outputs": [
    {
     "data": {
      "text/plain": [
       "2691.4608302671113"
      ]
     },
     "execution_count": 62,
     "metadata": {},
     "output_type": "execute_result"
    }
   ],
   "execution_count": 62
  },
  {
   "cell_type": "code",
   "id": "694acc9f-f9fb-47aa-8033-333a2874ca53",
   "metadata": {
    "ExecuteTime": {
     "end_time": "2025-09-28T23:09:24.952811Z",
     "start_time": "2025-09-28T23:09:24.950708Z"
    }
   },
   "source": [
    "l1.coef_"
   ],
   "outputs": [
    {
     "data": {
      "text/plain": [
       "array([ 1.2315188 , -0.88895857, -0.8036335 ,  7.71946885])"
      ]
     },
     "execution_count": 63,
     "metadata": {},
     "output_type": "execute_result"
    }
   ],
   "execution_count": 63
  },
  {
   "cell_type": "code",
   "id": "16d7836b-779c-4e07-995d-61008c238de1",
   "metadata": {
    "ExecuteTime": {
     "end_time": "2025-09-28T23:09:24.969014Z",
     "start_time": "2025-09-28T23:09:24.965014Z"
    }
   },
   "source": [
    "l1 = Lasso(alpha = 1)   \n",
    "l1.fit(x, y)\n",
    "y_pred = l1.predict(x)\n",
    "r2_score(y, y_pred)"
   ],
   "outputs": [
    {
     "data": {
      "text/plain": [
       "0.9874531273335658"
      ]
     },
     "execution_count": 64,
     "metadata": {},
     "output_type": "execute_result"
    }
   ],
   "execution_count": 64
  },
  {
   "cell_type": "code",
   "id": "e30aa8b5-e00d-4bd6-8ae6-23f454d34b53",
   "metadata": {
    "ExecuteTime": {
     "end_time": "2025-09-28T23:09:24.982298Z",
     "start_time": "2025-09-28T23:09:24.980410Z"
    }
   },
   "source": [
    "l1.intercept_"
   ],
   "outputs": [
    {
     "data": {
      "text/plain": [
       "2691.466713203292"
      ]
     },
     "execution_count": 65,
     "metadata": {},
     "output_type": "execute_result"
    }
   ],
   "execution_count": 65
  },
  {
   "cell_type": "code",
   "id": "41509592-8a32-46a3-9d4b-31760447ba55",
   "metadata": {
    "ExecuteTime": {
     "end_time": "2025-09-28T23:09:24.996082Z",
     "start_time": "2025-09-28T23:09:24.993945Z"
    }
   },
   "source": [
    "l1.coef_"
   ],
   "outputs": [
    {
     "data": {
      "text/plain": [
       "array([ 1.23151881, -0.88895858, -0.80363264,  7.71939255])"
      ]
     },
     "execution_count": 66,
     "metadata": {},
     "output_type": "execute_result"
    }
   ],
   "execution_count": 66
  },
  {
   "cell_type": "code",
   "id": "ddba5d25-a7c2-4201-8998-6643e5d4f5e5",
   "metadata": {
    "ExecuteTime": {
     "end_time": "2025-09-28T23:09:25.019324Z",
     "start_time": "2025-09-28T23:09:25.015794Z"
    }
   },
   "source": [
    "l1 = Lasso(alpha = 10)   \n",
    "l1.fit(x, y)\n",
    "y_pred = l1.predict(x)\n",
    "r2_score(y, y_pred)"
   ],
   "outputs": [
    {
     "data": {
      "text/plain": [
       "0.9874531273334142"
      ]
     },
     "execution_count": 67,
     "metadata": {},
     "output_type": "execute_result"
    }
   ],
   "execution_count": 67
  },
  {
   "cell_type": "code",
   "id": "7a702c85-4065-48c7-83b0-e72143211d3b",
   "metadata": {
    "ExecuteTime": {
     "end_time": "2025-09-28T23:09:25.036209Z",
     "start_time": "2025-09-28T23:09:25.034344Z"
    }
   },
   "source": [
    "l1.intercept_"
   ],
   "outputs": [
    {
     "data": {
      "text/plain": [
       "2691.525542546733"
      ]
     },
     "execution_count": 68,
     "metadata": {},
     "output_type": "execute_result"
    }
   ],
   "execution_count": 68
  },
  {
   "cell_type": "code",
   "id": "e27ac704-07b8-43b4-9a2e-2abe881f0d6b",
   "metadata": {
    "ExecuteTime": {
     "end_time": "2025-09-28T23:09:25.049630Z",
     "start_time": "2025-09-28T23:09:25.047626Z"
    }
   },
   "source": [
    "l1.coef_"
   ],
   "outputs": [
    {
     "data": {
      "text/plain": [
       "array([ 1.23151882, -0.88895868, -0.80362403,  7.71862952])"
      ]
     },
     "execution_count": 69,
     "metadata": {},
     "output_type": "execute_result"
    }
   ],
   "execution_count": 69
  },
  {
   "cell_type": "markdown",
   "id": "190147b5-3ba1-4413-95b3-b60abdb0a7c9",
   "metadata": {},
   "source": [
    "#### Interpretación"
   ]
  },
  {
   "cell_type": "markdown",
   "id": "3f9391a3-ea0f-449d-80d5-8823742e0834",
   "metadata": {},
   "source": [
    "En el modelo Lasso, al cambiar el valor de alpha (0.1, 1 y 10) prácticamente no hay un impacto grande en el ajuste del modelo, el R² se mantiene casi igual, 0.987 en todos los casos, y los coeficientes solo tienen variaciones muy pequeñas. Esto pasa porque tu modelo ya está muy bien ajustado y la penalización de Lasso, que normalmente reduce coeficientes hacia cero, apenas tiene efecto"
   ]
  },
  {
   "cell_type": "markdown",
   "id": "3bf6be3f-8002-4752-ad64-04c05a62437e",
   "metadata": {},
   "source": [
    "### Lasso Train"
   ]
  },
  {
   "cell_type": "code",
   "id": "c8df4ec7-a4fc-4021-9510-df0b45b58866",
   "metadata": {
    "ExecuteTime": {
     "end_time": "2025-09-28T23:09:25.062409Z",
     "start_time": "2025-09-28T23:09:25.059571Z"
    }
   },
   "source": [
    "l1 = Lasso(alpha = 0.1)\n",
    "l1.fit(X_train_scaled, y_train)"
   ],
   "outputs": [
    {
     "data": {
      "text/plain": [
       "Lasso(alpha=0.1)"
      ],
      "text/html": [
       "<style>#sk-container-id-8 {\n",
       "  /* Definition of color scheme common for light and dark mode */\n",
       "  --sklearn-color-text: black;\n",
       "  --sklearn-color-line: gray;\n",
       "  /* Definition of color scheme for unfitted estimators */\n",
       "  --sklearn-color-unfitted-level-0: #fff5e6;\n",
       "  --sklearn-color-unfitted-level-1: #f6e4d2;\n",
       "  --sklearn-color-unfitted-level-2: #ffe0b3;\n",
       "  --sklearn-color-unfitted-level-3: chocolate;\n",
       "  /* Definition of color scheme for fitted estimators */\n",
       "  --sklearn-color-fitted-level-0: #f0f8ff;\n",
       "  --sklearn-color-fitted-level-1: #d4ebff;\n",
       "  --sklearn-color-fitted-level-2: #b3dbfd;\n",
       "  --sklearn-color-fitted-level-3: cornflowerblue;\n",
       "\n",
       "  /* Specific color for light theme */\n",
       "  --sklearn-color-text-on-default-background: var(--sg-text-color, var(--theme-code-foreground, var(--jp-content-font-color1, black)));\n",
       "  --sklearn-color-background: var(--sg-background-color, var(--theme-background, var(--jp-layout-color0, white)));\n",
       "  --sklearn-color-border-box: var(--sg-text-color, var(--theme-code-foreground, var(--jp-content-font-color1, black)));\n",
       "  --sklearn-color-icon: #696969;\n",
       "\n",
       "  @media (prefers-color-scheme: dark) {\n",
       "    /* Redefinition of color scheme for dark theme */\n",
       "    --sklearn-color-text-on-default-background: var(--sg-text-color, var(--theme-code-foreground, var(--jp-content-font-color1, white)));\n",
       "    --sklearn-color-background: var(--sg-background-color, var(--theme-background, var(--jp-layout-color0, #111)));\n",
       "    --sklearn-color-border-box: var(--sg-text-color, var(--theme-code-foreground, var(--jp-content-font-color1, white)));\n",
       "    --sklearn-color-icon: #878787;\n",
       "  }\n",
       "}\n",
       "\n",
       "#sk-container-id-8 {\n",
       "  color: var(--sklearn-color-text);\n",
       "}\n",
       "\n",
       "#sk-container-id-8 pre {\n",
       "  padding: 0;\n",
       "}\n",
       "\n",
       "#sk-container-id-8 input.sk-hidden--visually {\n",
       "  border: 0;\n",
       "  clip: rect(1px 1px 1px 1px);\n",
       "  clip: rect(1px, 1px, 1px, 1px);\n",
       "  height: 1px;\n",
       "  margin: -1px;\n",
       "  overflow: hidden;\n",
       "  padding: 0;\n",
       "  position: absolute;\n",
       "  width: 1px;\n",
       "}\n",
       "\n",
       "#sk-container-id-8 div.sk-dashed-wrapped {\n",
       "  border: 1px dashed var(--sklearn-color-line);\n",
       "  margin: 0 0.4em 0.5em 0.4em;\n",
       "  box-sizing: border-box;\n",
       "  padding-bottom: 0.4em;\n",
       "  background-color: var(--sklearn-color-background);\n",
       "}\n",
       "\n",
       "#sk-container-id-8 div.sk-container {\n",
       "  /* jupyter's `normalize.less` sets `[hidden] { display: none; }`\n",
       "     but bootstrap.min.css set `[hidden] { display: none !important; }`\n",
       "     so we also need the `!important` here to be able to override the\n",
       "     default hidden behavior on the sphinx rendered scikit-learn.org.\n",
       "     See: https://github.com/scikit-learn/scikit-learn/issues/21755 */\n",
       "  display: inline-block !important;\n",
       "  position: relative;\n",
       "}\n",
       "\n",
       "#sk-container-id-8 div.sk-text-repr-fallback {\n",
       "  display: none;\n",
       "}\n",
       "\n",
       "div.sk-parallel-item,\n",
       "div.sk-serial,\n",
       "div.sk-item {\n",
       "  /* draw centered vertical line to link estimators */\n",
       "  background-image: linear-gradient(var(--sklearn-color-text-on-default-background), var(--sklearn-color-text-on-default-background));\n",
       "  background-size: 2px 100%;\n",
       "  background-repeat: no-repeat;\n",
       "  background-position: center center;\n",
       "}\n",
       "\n",
       "/* Parallel-specific style estimator block */\n",
       "\n",
       "#sk-container-id-8 div.sk-parallel-item::after {\n",
       "  content: \"\";\n",
       "  width: 100%;\n",
       "  border-bottom: 2px solid var(--sklearn-color-text-on-default-background);\n",
       "  flex-grow: 1;\n",
       "}\n",
       "\n",
       "#sk-container-id-8 div.sk-parallel {\n",
       "  display: flex;\n",
       "  align-items: stretch;\n",
       "  justify-content: center;\n",
       "  background-color: var(--sklearn-color-background);\n",
       "  position: relative;\n",
       "}\n",
       "\n",
       "#sk-container-id-8 div.sk-parallel-item {\n",
       "  display: flex;\n",
       "  flex-direction: column;\n",
       "}\n",
       "\n",
       "#sk-container-id-8 div.sk-parallel-item:first-child::after {\n",
       "  align-self: flex-end;\n",
       "  width: 50%;\n",
       "}\n",
       "\n",
       "#sk-container-id-8 div.sk-parallel-item:last-child::after {\n",
       "  align-self: flex-start;\n",
       "  width: 50%;\n",
       "}\n",
       "\n",
       "#sk-container-id-8 div.sk-parallel-item:only-child::after {\n",
       "  width: 0;\n",
       "}\n",
       "\n",
       "/* Serial-specific style estimator block */\n",
       "\n",
       "#sk-container-id-8 div.sk-serial {\n",
       "  display: flex;\n",
       "  flex-direction: column;\n",
       "  align-items: center;\n",
       "  background-color: var(--sklearn-color-background);\n",
       "  padding-right: 1em;\n",
       "  padding-left: 1em;\n",
       "}\n",
       "\n",
       "\n",
       "/* Toggleable style: style used for estimator/Pipeline/ColumnTransformer box that is\n",
       "clickable and can be expanded/collapsed.\n",
       "- Pipeline and ColumnTransformer use this feature and define the default style\n",
       "- Estimators will overwrite some part of the style using the `sk-estimator` class\n",
       "*/\n",
       "\n",
       "/* Pipeline and ColumnTransformer style (default) */\n",
       "\n",
       "#sk-container-id-8 div.sk-toggleable {\n",
       "  /* Default theme specific background. It is overwritten whether we have a\n",
       "  specific estimator or a Pipeline/ColumnTransformer */\n",
       "  background-color: var(--sklearn-color-background);\n",
       "}\n",
       "\n",
       "/* Toggleable label */\n",
       "#sk-container-id-8 label.sk-toggleable__label {\n",
       "  cursor: pointer;\n",
       "  display: block;\n",
       "  width: 100%;\n",
       "  margin-bottom: 0;\n",
       "  padding: 0.5em;\n",
       "  box-sizing: border-box;\n",
       "  text-align: center;\n",
       "}\n",
       "\n",
       "#sk-container-id-8 label.sk-toggleable__label-arrow:before {\n",
       "  /* Arrow on the left of the label */\n",
       "  content: \"▸\";\n",
       "  float: left;\n",
       "  margin-right: 0.25em;\n",
       "  color: var(--sklearn-color-icon);\n",
       "}\n",
       "\n",
       "#sk-container-id-8 label.sk-toggleable__label-arrow:hover:before {\n",
       "  color: var(--sklearn-color-text);\n",
       "}\n",
       "\n",
       "/* Toggleable content - dropdown */\n",
       "\n",
       "#sk-container-id-8 div.sk-toggleable__content {\n",
       "  max-height: 0;\n",
       "  max-width: 0;\n",
       "  overflow: hidden;\n",
       "  text-align: left;\n",
       "  /* unfitted */\n",
       "  background-color: var(--sklearn-color-unfitted-level-0);\n",
       "}\n",
       "\n",
       "#sk-container-id-8 div.sk-toggleable__content.fitted {\n",
       "  /* fitted */\n",
       "  background-color: var(--sklearn-color-fitted-level-0);\n",
       "}\n",
       "\n",
       "#sk-container-id-8 div.sk-toggleable__content pre {\n",
       "  margin: 0.2em;\n",
       "  border-radius: 0.25em;\n",
       "  color: var(--sklearn-color-text);\n",
       "  /* unfitted */\n",
       "  background-color: var(--sklearn-color-unfitted-level-0);\n",
       "}\n",
       "\n",
       "#sk-container-id-8 div.sk-toggleable__content.fitted pre {\n",
       "  /* unfitted */\n",
       "  background-color: var(--sklearn-color-fitted-level-0);\n",
       "}\n",
       "\n",
       "#sk-container-id-8 input.sk-toggleable__control:checked~div.sk-toggleable__content {\n",
       "  /* Expand drop-down */\n",
       "  max-height: 200px;\n",
       "  max-width: 100%;\n",
       "  overflow: auto;\n",
       "}\n",
       "\n",
       "#sk-container-id-8 input.sk-toggleable__control:checked~label.sk-toggleable__label-arrow:before {\n",
       "  content: \"▾\";\n",
       "}\n",
       "\n",
       "/* Pipeline/ColumnTransformer-specific style */\n",
       "\n",
       "#sk-container-id-8 div.sk-label input.sk-toggleable__control:checked~label.sk-toggleable__label {\n",
       "  color: var(--sklearn-color-text);\n",
       "  background-color: var(--sklearn-color-unfitted-level-2);\n",
       "}\n",
       "\n",
       "#sk-container-id-8 div.sk-label.fitted input.sk-toggleable__control:checked~label.sk-toggleable__label {\n",
       "  background-color: var(--sklearn-color-fitted-level-2);\n",
       "}\n",
       "\n",
       "/* Estimator-specific style */\n",
       "\n",
       "/* Colorize estimator box */\n",
       "#sk-container-id-8 div.sk-estimator input.sk-toggleable__control:checked~label.sk-toggleable__label {\n",
       "  /* unfitted */\n",
       "  background-color: var(--sklearn-color-unfitted-level-2);\n",
       "}\n",
       "\n",
       "#sk-container-id-8 div.sk-estimator.fitted input.sk-toggleable__control:checked~label.sk-toggleable__label {\n",
       "  /* fitted */\n",
       "  background-color: var(--sklearn-color-fitted-level-2);\n",
       "}\n",
       "\n",
       "#sk-container-id-8 div.sk-label label.sk-toggleable__label,\n",
       "#sk-container-id-8 div.sk-label label {\n",
       "  /* The background is the default theme color */\n",
       "  color: var(--sklearn-color-text-on-default-background);\n",
       "}\n",
       "\n",
       "/* On hover, darken the color of the background */\n",
       "#sk-container-id-8 div.sk-label:hover label.sk-toggleable__label {\n",
       "  color: var(--sklearn-color-text);\n",
       "  background-color: var(--sklearn-color-unfitted-level-2);\n",
       "}\n",
       "\n",
       "/* Label box, darken color on hover, fitted */\n",
       "#sk-container-id-8 div.sk-label.fitted:hover label.sk-toggleable__label.fitted {\n",
       "  color: var(--sklearn-color-text);\n",
       "  background-color: var(--sklearn-color-fitted-level-2);\n",
       "}\n",
       "\n",
       "/* Estimator label */\n",
       "\n",
       "#sk-container-id-8 div.sk-label label {\n",
       "  font-family: monospace;\n",
       "  font-weight: bold;\n",
       "  display: inline-block;\n",
       "  line-height: 1.2em;\n",
       "}\n",
       "\n",
       "#sk-container-id-8 div.sk-label-container {\n",
       "  text-align: center;\n",
       "}\n",
       "\n",
       "/* Estimator-specific */\n",
       "#sk-container-id-8 div.sk-estimator {\n",
       "  font-family: monospace;\n",
       "  border: 1px dotted var(--sklearn-color-border-box);\n",
       "  border-radius: 0.25em;\n",
       "  box-sizing: border-box;\n",
       "  margin-bottom: 0.5em;\n",
       "  /* unfitted */\n",
       "  background-color: var(--sklearn-color-unfitted-level-0);\n",
       "}\n",
       "\n",
       "#sk-container-id-8 div.sk-estimator.fitted {\n",
       "  /* fitted */\n",
       "  background-color: var(--sklearn-color-fitted-level-0);\n",
       "}\n",
       "\n",
       "/* on hover */\n",
       "#sk-container-id-8 div.sk-estimator:hover {\n",
       "  /* unfitted */\n",
       "  background-color: var(--sklearn-color-unfitted-level-2);\n",
       "}\n",
       "\n",
       "#sk-container-id-8 div.sk-estimator.fitted:hover {\n",
       "  /* fitted */\n",
       "  background-color: var(--sklearn-color-fitted-level-2);\n",
       "}\n",
       "\n",
       "/* Specification for estimator info (e.g. \"i\" and \"?\") */\n",
       "\n",
       "/* Common style for \"i\" and \"?\" */\n",
       "\n",
       ".sk-estimator-doc-link,\n",
       "a:link.sk-estimator-doc-link,\n",
       "a:visited.sk-estimator-doc-link {\n",
       "  float: right;\n",
       "  font-size: smaller;\n",
       "  line-height: 1em;\n",
       "  font-family: monospace;\n",
       "  background-color: var(--sklearn-color-background);\n",
       "  border-radius: 1em;\n",
       "  height: 1em;\n",
       "  width: 1em;\n",
       "  text-decoration: none !important;\n",
       "  margin-left: 1ex;\n",
       "  /* unfitted */\n",
       "  border: var(--sklearn-color-unfitted-level-1) 1pt solid;\n",
       "  color: var(--sklearn-color-unfitted-level-1);\n",
       "}\n",
       "\n",
       ".sk-estimator-doc-link.fitted,\n",
       "a:link.sk-estimator-doc-link.fitted,\n",
       "a:visited.sk-estimator-doc-link.fitted {\n",
       "  /* fitted */\n",
       "  border: var(--sklearn-color-fitted-level-1) 1pt solid;\n",
       "  color: var(--sklearn-color-fitted-level-1);\n",
       "}\n",
       "\n",
       "/* On hover */\n",
       "div.sk-estimator:hover .sk-estimator-doc-link:hover,\n",
       ".sk-estimator-doc-link:hover,\n",
       "div.sk-label-container:hover .sk-estimator-doc-link:hover,\n",
       ".sk-estimator-doc-link:hover {\n",
       "  /* unfitted */\n",
       "  background-color: var(--sklearn-color-unfitted-level-3);\n",
       "  color: var(--sklearn-color-background);\n",
       "  text-decoration: none;\n",
       "}\n",
       "\n",
       "div.sk-estimator.fitted:hover .sk-estimator-doc-link.fitted:hover,\n",
       ".sk-estimator-doc-link.fitted:hover,\n",
       "div.sk-label-container:hover .sk-estimator-doc-link.fitted:hover,\n",
       ".sk-estimator-doc-link.fitted:hover {\n",
       "  /* fitted */\n",
       "  background-color: var(--sklearn-color-fitted-level-3);\n",
       "  color: var(--sklearn-color-background);\n",
       "  text-decoration: none;\n",
       "}\n",
       "\n",
       "/* Span, style for the box shown on hovering the info icon */\n",
       ".sk-estimator-doc-link span {\n",
       "  display: none;\n",
       "  z-index: 9999;\n",
       "  position: relative;\n",
       "  font-weight: normal;\n",
       "  right: .2ex;\n",
       "  padding: .5ex;\n",
       "  margin: .5ex;\n",
       "  width: min-content;\n",
       "  min-width: 20ex;\n",
       "  max-width: 50ex;\n",
       "  color: var(--sklearn-color-text);\n",
       "  box-shadow: 2pt 2pt 4pt #999;\n",
       "  /* unfitted */\n",
       "  background: var(--sklearn-color-unfitted-level-0);\n",
       "  border: .5pt solid var(--sklearn-color-unfitted-level-3);\n",
       "}\n",
       "\n",
       ".sk-estimator-doc-link.fitted span {\n",
       "  /* fitted */\n",
       "  background: var(--sklearn-color-fitted-level-0);\n",
       "  border: var(--sklearn-color-fitted-level-3);\n",
       "}\n",
       "\n",
       ".sk-estimator-doc-link:hover span {\n",
       "  display: block;\n",
       "}\n",
       "\n",
       "/* \"?\"-specific style due to the `<a>` HTML tag */\n",
       "\n",
       "#sk-container-id-8 a.estimator_doc_link {\n",
       "  float: right;\n",
       "  font-size: 1rem;\n",
       "  line-height: 1em;\n",
       "  font-family: monospace;\n",
       "  background-color: var(--sklearn-color-background);\n",
       "  border-radius: 1rem;\n",
       "  height: 1rem;\n",
       "  width: 1rem;\n",
       "  text-decoration: none;\n",
       "  /* unfitted */\n",
       "  color: var(--sklearn-color-unfitted-level-1);\n",
       "  border: var(--sklearn-color-unfitted-level-1) 1pt solid;\n",
       "}\n",
       "\n",
       "#sk-container-id-8 a.estimator_doc_link.fitted {\n",
       "  /* fitted */\n",
       "  border: var(--sklearn-color-fitted-level-1) 1pt solid;\n",
       "  color: var(--sklearn-color-fitted-level-1);\n",
       "}\n",
       "\n",
       "/* On hover */\n",
       "#sk-container-id-8 a.estimator_doc_link:hover {\n",
       "  /* unfitted */\n",
       "  background-color: var(--sklearn-color-unfitted-level-3);\n",
       "  color: var(--sklearn-color-background);\n",
       "  text-decoration: none;\n",
       "}\n",
       "\n",
       "#sk-container-id-8 a.estimator_doc_link.fitted:hover {\n",
       "  /* fitted */\n",
       "  background-color: var(--sklearn-color-fitted-level-3);\n",
       "}\n",
       "</style><div id=\"sk-container-id-8\" class=\"sk-top-container\"><div class=\"sk-text-repr-fallback\"><pre>Lasso(alpha=0.1)</pre><b>In a Jupyter environment, please rerun this cell to show the HTML representation or trust the notebook. <br />On GitHub, the HTML representation is unable to render, please try loading this page with nbviewer.org.</b></div><div class=\"sk-container\" hidden><div class=\"sk-item\"><div class=\"sk-estimator fitted sk-toggleable\"><input class=\"sk-toggleable__control sk-hidden--visually\" id=\"sk-estimator-id-8\" type=\"checkbox\" checked><label for=\"sk-estimator-id-8\" class=\"sk-toggleable__label fitted sk-toggleable__label-arrow fitted\">&nbsp;&nbsp;Lasso<a class=\"sk-estimator-doc-link fitted\" rel=\"noreferrer\" target=\"_blank\" href=\"https://scikit-learn.org/1.5/modules/generated/sklearn.linear_model.Lasso.html\">?<span>Documentation for Lasso</span></a><span class=\"sk-estimator-doc-link fitted\">i<span>Fitted</span></span></label><div class=\"sk-toggleable__content fitted\"><pre>Lasso(alpha=0.1)</pre></div> </div></div></div></div>"
      ]
     },
     "execution_count": 70,
     "metadata": {},
     "output_type": "execute_result"
    }
   ],
   "execution_count": 70
  },
  {
   "cell_type": "code",
   "id": "f7e1573f-d145-4d4b-9848-1558b4098a7f",
   "metadata": {
    "ExecuteTime": {
     "end_time": "2025-09-28T23:09:25.080151Z",
     "start_time": "2025-09-28T23:09:25.077930Z"
    }
   },
   "source": [
    "y_pred = l1.predict(X_train_scaled)\n",
    "r2_score(y_train, y_pred)"
   ],
   "outputs": [
    {
     "data": {
      "text/plain": [
       "0.9884871763837466"
      ]
     },
     "execution_count": 71,
     "metadata": {},
     "output_type": "execute_result"
    }
   ],
   "execution_count": 71
  },
  {
   "cell_type": "code",
   "id": "6d07915f-819a-407c-aa58-fd188be6ebae",
   "metadata": {
    "ExecuteTime": {
     "end_time": "2025-09-28T23:09:25.098561Z",
     "start_time": "2025-09-28T23:09:25.096506Z"
    }
   },
   "source": [
    "l1.intercept_"
   ],
   "outputs": [
    {
     "data": {
      "text/plain": [
       "177747.69771428572"
      ]
     },
     "execution_count": 72,
     "metadata": {},
     "output_type": "execute_result"
    }
   ],
   "execution_count": 72
  },
  {
   "cell_type": "code",
   "id": "dda1372c-27e8-49eb-bbe3-d6c941d79484",
   "metadata": {
    "ExecuteTime": {
     "end_time": "2025-09-28T23:09:25.117261Z",
     "start_time": "2025-09-28T23:09:25.112342Z"
    }
   },
   "source": [
    "l1.coef_"
   ],
   "outputs": [
    {
     "data": {
      "text/plain": [
       "array([ 2.60572925e+05, -2.51026947e+04,  9.80834721e+02,  1.78259761e+02])"
      ]
     },
     "execution_count": 73,
     "metadata": {},
     "output_type": "execute_result"
    }
   ],
   "execution_count": 73
  },
  {
   "cell_type": "code",
   "id": "6c33f18d-c106-49eb-8441-4344a979a86f",
   "metadata": {
    "ExecuteTime": {
     "end_time": "2025-09-28T23:09:25.142203Z",
     "start_time": "2025-09-28T23:09:25.139341Z"
    }
   },
   "source": [
    "l1 = Lasso(alpha = 1)\n",
    "l1.fit(X_train_scaled, y_train)\n",
    "y_pred = l1.predict(X_train_scaled)\n",
    "r2_score(y_train, y_pred)"
   ],
   "outputs": [
    {
     "data": {
      "text/plain": [
       "0.988487176156903"
      ]
     },
     "execution_count": 74,
     "metadata": {},
     "output_type": "execute_result"
    }
   ],
   "execution_count": 74
  },
  {
   "cell_type": "code",
   "id": "3d955f9a-4f3e-4b53-bc7c-407f70b3bafe",
   "metadata": {
    "ExecuteTime": {
     "end_time": "2025-09-28T23:09:25.152799Z",
     "start_time": "2025-09-28T23:09:25.150758Z"
    }
   },
   "source": [
    "l1.intercept_"
   ],
   "outputs": [
    {
     "data": {
      "text/plain": [
       "177747.69771428572"
      ]
     },
     "execution_count": 75,
     "metadata": {},
     "output_type": "execute_result"
    }
   ],
   "execution_count": 75
  },
  {
   "cell_type": "code",
   "id": "cdff3baa-7d61-446a-9850-55e2cf981246",
   "metadata": {
    "ExecuteTime": {
     "end_time": "2025-09-28T23:09:25.164780Z",
     "start_time": "2025-09-28T23:09:25.162920Z"
    }
   },
   "source": [
    "l1.coef_"
   ],
   "outputs": [
    {
     "data": {
      "text/plain": [
       "array([ 2.60568057e+05, -2.50976495e+04,  9.80100263e+02,  1.77454434e+02])"
      ]
     },
     "execution_count": 76,
     "metadata": {},
     "output_type": "execute_result"
    }
   ],
   "execution_count": 76
  },
  {
   "cell_type": "code",
   "id": "0fabd34e-6cba-4146-a4da-6d9d746ff8e0",
   "metadata": {
    "ExecuteTime": {
     "end_time": "2025-09-28T23:09:25.182316Z",
     "start_time": "2025-09-28T23:09:25.179270Z"
    }
   },
   "source": [
    "l1 = Lasso(alpha = 10)\n",
    "l1.fit(X_train_scaled, y_train)\n",
    "y_pred = l1.predict(X_train_scaled)\n",
    "r2_score(y_train, y_pred)"
   ],
   "outputs": [
    {
     "data": {
      "text/plain": [
       "0.9884871539743914"
      ]
     },
     "execution_count": 77,
     "metadata": {},
     "output_type": "execute_result"
    }
   ],
   "execution_count": 77
  },
  {
   "cell_type": "code",
   "id": "84af1892-7b62-4f77-805c-c96a35da227d",
   "metadata": {
    "ExecuteTime": {
     "end_time": "2025-09-28T23:09:25.193681Z",
     "start_time": "2025-09-28T23:09:25.191888Z"
    }
   },
   "source": [
    "l1.intercept_"
   ],
   "outputs": [
    {
     "data": {
      "text/plain": [
       "177747.69771428572"
      ]
     },
     "execution_count": 78,
     "metadata": {},
     "output_type": "execute_result"
    }
   ],
   "execution_count": 78
  },
  {
   "cell_type": "code",
   "id": "988cb600-17d5-42db-91a8-88d425042d64",
   "metadata": {
    "ExecuteTime": {
     "end_time": "2025-09-28T23:09:25.210188Z",
     "start_time": "2025-09-28T23:09:25.208322Z"
    }
   },
   "source": [
    "l1.coef_"
   ],
   "outputs": [
    {
     "data": {
      "text/plain": [
       "array([ 2.60520297e+05, -2.50478991e+04,  9.72635239e+02,  1.69370066e+02])"
      ]
     },
     "execution_count": 79,
     "metadata": {},
     "output_type": "execute_result"
    }
   ],
   "execution_count": 79
  },
  {
   "cell_type": "markdown",
   "id": "9c385c1f-39c2-4977-89b9-c4d5406fd935",
   "metadata": {},
   "source": [
    "#### Interpretación"
   ]
  },
  {
   "cell_type": "markdown",
   "id": "348a5091-91f5-4718-bc52-c07c1b5449e3",
   "metadata": {},
   "source": [
    "Con un alpha pequeño 0.1, los coeficientes se mantienen más grandes porque el modelo casi no los reduce. A medida que subes a alpha = 1 o 10, el modelo empieza a encoger más los coeficientes, haciéndolos más pequeños en magnitud. Esto significa que el modelo se vuelve más simple porque reduce la importancia de algunas variables. Sin embargo, el R2 se mantiene casi igual (0.988), lo que indica que el ajuste sigue siendo muy bueno y el cambio de alpha no afecta mucho la capacidad de predicción en este caso, pero sí influye en la fuerza con que se penalizan los coeficientes."
   ]
  },
  {
   "cell_type": "markdown",
   "id": "bca5ffb0-365f-47f1-a47e-33dc2266a7ee",
   "metadata": {},
   "source": [
    "### Lasso Test"
   ]
  },
  {
   "cell_type": "code",
   "id": "72bac8fe-f14f-4801-a510-131ba1e494ce",
   "metadata": {
    "ExecuteTime": {
     "end_time": "2025-09-28T23:09:25.228042Z",
     "start_time": "2025-09-28T23:09:25.224799Z"
    }
   },
   "source": [
    "l1 = Lasso(alpha = 0.1)\n",
    "l1.fit(X_test_scaled, y_test)"
   ],
   "outputs": [
    {
     "data": {
      "text/plain": [
       "Lasso(alpha=0.1)"
      ],
      "text/html": [
       "<style>#sk-container-id-9 {\n",
       "  /* Definition of color scheme common for light and dark mode */\n",
       "  --sklearn-color-text: black;\n",
       "  --sklearn-color-line: gray;\n",
       "  /* Definition of color scheme for unfitted estimators */\n",
       "  --sklearn-color-unfitted-level-0: #fff5e6;\n",
       "  --sklearn-color-unfitted-level-1: #f6e4d2;\n",
       "  --sklearn-color-unfitted-level-2: #ffe0b3;\n",
       "  --sklearn-color-unfitted-level-3: chocolate;\n",
       "  /* Definition of color scheme for fitted estimators */\n",
       "  --sklearn-color-fitted-level-0: #f0f8ff;\n",
       "  --sklearn-color-fitted-level-1: #d4ebff;\n",
       "  --sklearn-color-fitted-level-2: #b3dbfd;\n",
       "  --sklearn-color-fitted-level-3: cornflowerblue;\n",
       "\n",
       "  /* Specific color for light theme */\n",
       "  --sklearn-color-text-on-default-background: var(--sg-text-color, var(--theme-code-foreground, var(--jp-content-font-color1, black)));\n",
       "  --sklearn-color-background: var(--sg-background-color, var(--theme-background, var(--jp-layout-color0, white)));\n",
       "  --sklearn-color-border-box: var(--sg-text-color, var(--theme-code-foreground, var(--jp-content-font-color1, black)));\n",
       "  --sklearn-color-icon: #696969;\n",
       "\n",
       "  @media (prefers-color-scheme: dark) {\n",
       "    /* Redefinition of color scheme for dark theme */\n",
       "    --sklearn-color-text-on-default-background: var(--sg-text-color, var(--theme-code-foreground, var(--jp-content-font-color1, white)));\n",
       "    --sklearn-color-background: var(--sg-background-color, var(--theme-background, var(--jp-layout-color0, #111)));\n",
       "    --sklearn-color-border-box: var(--sg-text-color, var(--theme-code-foreground, var(--jp-content-font-color1, white)));\n",
       "    --sklearn-color-icon: #878787;\n",
       "  }\n",
       "}\n",
       "\n",
       "#sk-container-id-9 {\n",
       "  color: var(--sklearn-color-text);\n",
       "}\n",
       "\n",
       "#sk-container-id-9 pre {\n",
       "  padding: 0;\n",
       "}\n",
       "\n",
       "#sk-container-id-9 input.sk-hidden--visually {\n",
       "  border: 0;\n",
       "  clip: rect(1px 1px 1px 1px);\n",
       "  clip: rect(1px, 1px, 1px, 1px);\n",
       "  height: 1px;\n",
       "  margin: -1px;\n",
       "  overflow: hidden;\n",
       "  padding: 0;\n",
       "  position: absolute;\n",
       "  width: 1px;\n",
       "}\n",
       "\n",
       "#sk-container-id-9 div.sk-dashed-wrapped {\n",
       "  border: 1px dashed var(--sklearn-color-line);\n",
       "  margin: 0 0.4em 0.5em 0.4em;\n",
       "  box-sizing: border-box;\n",
       "  padding-bottom: 0.4em;\n",
       "  background-color: var(--sklearn-color-background);\n",
       "}\n",
       "\n",
       "#sk-container-id-9 div.sk-container {\n",
       "  /* jupyter's `normalize.less` sets `[hidden] { display: none; }`\n",
       "     but bootstrap.min.css set `[hidden] { display: none !important; }`\n",
       "     so we also need the `!important` here to be able to override the\n",
       "     default hidden behavior on the sphinx rendered scikit-learn.org.\n",
       "     See: https://github.com/scikit-learn/scikit-learn/issues/21755 */\n",
       "  display: inline-block !important;\n",
       "  position: relative;\n",
       "}\n",
       "\n",
       "#sk-container-id-9 div.sk-text-repr-fallback {\n",
       "  display: none;\n",
       "}\n",
       "\n",
       "div.sk-parallel-item,\n",
       "div.sk-serial,\n",
       "div.sk-item {\n",
       "  /* draw centered vertical line to link estimators */\n",
       "  background-image: linear-gradient(var(--sklearn-color-text-on-default-background), var(--sklearn-color-text-on-default-background));\n",
       "  background-size: 2px 100%;\n",
       "  background-repeat: no-repeat;\n",
       "  background-position: center center;\n",
       "}\n",
       "\n",
       "/* Parallel-specific style estimator block */\n",
       "\n",
       "#sk-container-id-9 div.sk-parallel-item::after {\n",
       "  content: \"\";\n",
       "  width: 100%;\n",
       "  border-bottom: 2px solid var(--sklearn-color-text-on-default-background);\n",
       "  flex-grow: 1;\n",
       "}\n",
       "\n",
       "#sk-container-id-9 div.sk-parallel {\n",
       "  display: flex;\n",
       "  align-items: stretch;\n",
       "  justify-content: center;\n",
       "  background-color: var(--sklearn-color-background);\n",
       "  position: relative;\n",
       "}\n",
       "\n",
       "#sk-container-id-9 div.sk-parallel-item {\n",
       "  display: flex;\n",
       "  flex-direction: column;\n",
       "}\n",
       "\n",
       "#sk-container-id-9 div.sk-parallel-item:first-child::after {\n",
       "  align-self: flex-end;\n",
       "  width: 50%;\n",
       "}\n",
       "\n",
       "#sk-container-id-9 div.sk-parallel-item:last-child::after {\n",
       "  align-self: flex-start;\n",
       "  width: 50%;\n",
       "}\n",
       "\n",
       "#sk-container-id-9 div.sk-parallel-item:only-child::after {\n",
       "  width: 0;\n",
       "}\n",
       "\n",
       "/* Serial-specific style estimator block */\n",
       "\n",
       "#sk-container-id-9 div.sk-serial {\n",
       "  display: flex;\n",
       "  flex-direction: column;\n",
       "  align-items: center;\n",
       "  background-color: var(--sklearn-color-background);\n",
       "  padding-right: 1em;\n",
       "  padding-left: 1em;\n",
       "}\n",
       "\n",
       "\n",
       "/* Toggleable style: style used for estimator/Pipeline/ColumnTransformer box that is\n",
       "clickable and can be expanded/collapsed.\n",
       "- Pipeline and ColumnTransformer use this feature and define the default style\n",
       "- Estimators will overwrite some part of the style using the `sk-estimator` class\n",
       "*/\n",
       "\n",
       "/* Pipeline and ColumnTransformer style (default) */\n",
       "\n",
       "#sk-container-id-9 div.sk-toggleable {\n",
       "  /* Default theme specific background. It is overwritten whether we have a\n",
       "  specific estimator or a Pipeline/ColumnTransformer */\n",
       "  background-color: var(--sklearn-color-background);\n",
       "}\n",
       "\n",
       "/* Toggleable label */\n",
       "#sk-container-id-9 label.sk-toggleable__label {\n",
       "  cursor: pointer;\n",
       "  display: block;\n",
       "  width: 100%;\n",
       "  margin-bottom: 0;\n",
       "  padding: 0.5em;\n",
       "  box-sizing: border-box;\n",
       "  text-align: center;\n",
       "}\n",
       "\n",
       "#sk-container-id-9 label.sk-toggleable__label-arrow:before {\n",
       "  /* Arrow on the left of the label */\n",
       "  content: \"▸\";\n",
       "  float: left;\n",
       "  margin-right: 0.25em;\n",
       "  color: var(--sklearn-color-icon);\n",
       "}\n",
       "\n",
       "#sk-container-id-9 label.sk-toggleable__label-arrow:hover:before {\n",
       "  color: var(--sklearn-color-text);\n",
       "}\n",
       "\n",
       "/* Toggleable content - dropdown */\n",
       "\n",
       "#sk-container-id-9 div.sk-toggleable__content {\n",
       "  max-height: 0;\n",
       "  max-width: 0;\n",
       "  overflow: hidden;\n",
       "  text-align: left;\n",
       "  /* unfitted */\n",
       "  background-color: var(--sklearn-color-unfitted-level-0);\n",
       "}\n",
       "\n",
       "#sk-container-id-9 div.sk-toggleable__content.fitted {\n",
       "  /* fitted */\n",
       "  background-color: var(--sklearn-color-fitted-level-0);\n",
       "}\n",
       "\n",
       "#sk-container-id-9 div.sk-toggleable__content pre {\n",
       "  margin: 0.2em;\n",
       "  border-radius: 0.25em;\n",
       "  color: var(--sklearn-color-text);\n",
       "  /* unfitted */\n",
       "  background-color: var(--sklearn-color-unfitted-level-0);\n",
       "}\n",
       "\n",
       "#sk-container-id-9 div.sk-toggleable__content.fitted pre {\n",
       "  /* unfitted */\n",
       "  background-color: var(--sklearn-color-fitted-level-0);\n",
       "}\n",
       "\n",
       "#sk-container-id-9 input.sk-toggleable__control:checked~div.sk-toggleable__content {\n",
       "  /* Expand drop-down */\n",
       "  max-height: 200px;\n",
       "  max-width: 100%;\n",
       "  overflow: auto;\n",
       "}\n",
       "\n",
       "#sk-container-id-9 input.sk-toggleable__control:checked~label.sk-toggleable__label-arrow:before {\n",
       "  content: \"▾\";\n",
       "}\n",
       "\n",
       "/* Pipeline/ColumnTransformer-specific style */\n",
       "\n",
       "#sk-container-id-9 div.sk-label input.sk-toggleable__control:checked~label.sk-toggleable__label {\n",
       "  color: var(--sklearn-color-text);\n",
       "  background-color: var(--sklearn-color-unfitted-level-2);\n",
       "}\n",
       "\n",
       "#sk-container-id-9 div.sk-label.fitted input.sk-toggleable__control:checked~label.sk-toggleable__label {\n",
       "  background-color: var(--sklearn-color-fitted-level-2);\n",
       "}\n",
       "\n",
       "/* Estimator-specific style */\n",
       "\n",
       "/* Colorize estimator box */\n",
       "#sk-container-id-9 div.sk-estimator input.sk-toggleable__control:checked~label.sk-toggleable__label {\n",
       "  /* unfitted */\n",
       "  background-color: var(--sklearn-color-unfitted-level-2);\n",
       "}\n",
       "\n",
       "#sk-container-id-9 div.sk-estimator.fitted input.sk-toggleable__control:checked~label.sk-toggleable__label {\n",
       "  /* fitted */\n",
       "  background-color: var(--sklearn-color-fitted-level-2);\n",
       "}\n",
       "\n",
       "#sk-container-id-9 div.sk-label label.sk-toggleable__label,\n",
       "#sk-container-id-9 div.sk-label label {\n",
       "  /* The background is the default theme color */\n",
       "  color: var(--sklearn-color-text-on-default-background);\n",
       "}\n",
       "\n",
       "/* On hover, darken the color of the background */\n",
       "#sk-container-id-9 div.sk-label:hover label.sk-toggleable__label {\n",
       "  color: var(--sklearn-color-text);\n",
       "  background-color: var(--sklearn-color-unfitted-level-2);\n",
       "}\n",
       "\n",
       "/* Label box, darken color on hover, fitted */\n",
       "#sk-container-id-9 div.sk-label.fitted:hover label.sk-toggleable__label.fitted {\n",
       "  color: var(--sklearn-color-text);\n",
       "  background-color: var(--sklearn-color-fitted-level-2);\n",
       "}\n",
       "\n",
       "/* Estimator label */\n",
       "\n",
       "#sk-container-id-9 div.sk-label label {\n",
       "  font-family: monospace;\n",
       "  font-weight: bold;\n",
       "  display: inline-block;\n",
       "  line-height: 1.2em;\n",
       "}\n",
       "\n",
       "#sk-container-id-9 div.sk-label-container {\n",
       "  text-align: center;\n",
       "}\n",
       "\n",
       "/* Estimator-specific */\n",
       "#sk-container-id-9 div.sk-estimator {\n",
       "  font-family: monospace;\n",
       "  border: 1px dotted var(--sklearn-color-border-box);\n",
       "  border-radius: 0.25em;\n",
       "  box-sizing: border-box;\n",
       "  margin-bottom: 0.5em;\n",
       "  /* unfitted */\n",
       "  background-color: var(--sklearn-color-unfitted-level-0);\n",
       "}\n",
       "\n",
       "#sk-container-id-9 div.sk-estimator.fitted {\n",
       "  /* fitted */\n",
       "  background-color: var(--sklearn-color-fitted-level-0);\n",
       "}\n",
       "\n",
       "/* on hover */\n",
       "#sk-container-id-9 div.sk-estimator:hover {\n",
       "  /* unfitted */\n",
       "  background-color: var(--sklearn-color-unfitted-level-2);\n",
       "}\n",
       "\n",
       "#sk-container-id-9 div.sk-estimator.fitted:hover {\n",
       "  /* fitted */\n",
       "  background-color: var(--sklearn-color-fitted-level-2);\n",
       "}\n",
       "\n",
       "/* Specification for estimator info (e.g. \"i\" and \"?\") */\n",
       "\n",
       "/* Common style for \"i\" and \"?\" */\n",
       "\n",
       ".sk-estimator-doc-link,\n",
       "a:link.sk-estimator-doc-link,\n",
       "a:visited.sk-estimator-doc-link {\n",
       "  float: right;\n",
       "  font-size: smaller;\n",
       "  line-height: 1em;\n",
       "  font-family: monospace;\n",
       "  background-color: var(--sklearn-color-background);\n",
       "  border-radius: 1em;\n",
       "  height: 1em;\n",
       "  width: 1em;\n",
       "  text-decoration: none !important;\n",
       "  margin-left: 1ex;\n",
       "  /* unfitted */\n",
       "  border: var(--sklearn-color-unfitted-level-1) 1pt solid;\n",
       "  color: var(--sklearn-color-unfitted-level-1);\n",
       "}\n",
       "\n",
       ".sk-estimator-doc-link.fitted,\n",
       "a:link.sk-estimator-doc-link.fitted,\n",
       "a:visited.sk-estimator-doc-link.fitted {\n",
       "  /* fitted */\n",
       "  border: var(--sklearn-color-fitted-level-1) 1pt solid;\n",
       "  color: var(--sklearn-color-fitted-level-1);\n",
       "}\n",
       "\n",
       "/* On hover */\n",
       "div.sk-estimator:hover .sk-estimator-doc-link:hover,\n",
       ".sk-estimator-doc-link:hover,\n",
       "div.sk-label-container:hover .sk-estimator-doc-link:hover,\n",
       ".sk-estimator-doc-link:hover {\n",
       "  /* unfitted */\n",
       "  background-color: var(--sklearn-color-unfitted-level-3);\n",
       "  color: var(--sklearn-color-background);\n",
       "  text-decoration: none;\n",
       "}\n",
       "\n",
       "div.sk-estimator.fitted:hover .sk-estimator-doc-link.fitted:hover,\n",
       ".sk-estimator-doc-link.fitted:hover,\n",
       "div.sk-label-container:hover .sk-estimator-doc-link.fitted:hover,\n",
       ".sk-estimator-doc-link.fitted:hover {\n",
       "  /* fitted */\n",
       "  background-color: var(--sklearn-color-fitted-level-3);\n",
       "  color: var(--sklearn-color-background);\n",
       "  text-decoration: none;\n",
       "}\n",
       "\n",
       "/* Span, style for the box shown on hovering the info icon */\n",
       ".sk-estimator-doc-link span {\n",
       "  display: none;\n",
       "  z-index: 9999;\n",
       "  position: relative;\n",
       "  font-weight: normal;\n",
       "  right: .2ex;\n",
       "  padding: .5ex;\n",
       "  margin: .5ex;\n",
       "  width: min-content;\n",
       "  min-width: 20ex;\n",
       "  max-width: 50ex;\n",
       "  color: var(--sklearn-color-text);\n",
       "  box-shadow: 2pt 2pt 4pt #999;\n",
       "  /* unfitted */\n",
       "  background: var(--sklearn-color-unfitted-level-0);\n",
       "  border: .5pt solid var(--sklearn-color-unfitted-level-3);\n",
       "}\n",
       "\n",
       ".sk-estimator-doc-link.fitted span {\n",
       "  /* fitted */\n",
       "  background: var(--sklearn-color-fitted-level-0);\n",
       "  border: var(--sklearn-color-fitted-level-3);\n",
       "}\n",
       "\n",
       ".sk-estimator-doc-link:hover span {\n",
       "  display: block;\n",
       "}\n",
       "\n",
       "/* \"?\"-specific style due to the `<a>` HTML tag */\n",
       "\n",
       "#sk-container-id-9 a.estimator_doc_link {\n",
       "  float: right;\n",
       "  font-size: 1rem;\n",
       "  line-height: 1em;\n",
       "  font-family: monospace;\n",
       "  background-color: var(--sklearn-color-background);\n",
       "  border-radius: 1rem;\n",
       "  height: 1rem;\n",
       "  width: 1rem;\n",
       "  text-decoration: none;\n",
       "  /* unfitted */\n",
       "  color: var(--sklearn-color-unfitted-level-1);\n",
       "  border: var(--sklearn-color-unfitted-level-1) 1pt solid;\n",
       "}\n",
       "\n",
       "#sk-container-id-9 a.estimator_doc_link.fitted {\n",
       "  /* fitted */\n",
       "  border: var(--sklearn-color-fitted-level-1) 1pt solid;\n",
       "  color: var(--sklearn-color-fitted-level-1);\n",
       "}\n",
       "\n",
       "/* On hover */\n",
       "#sk-container-id-9 a.estimator_doc_link:hover {\n",
       "  /* unfitted */\n",
       "  background-color: var(--sklearn-color-unfitted-level-3);\n",
       "  color: var(--sklearn-color-background);\n",
       "  text-decoration: none;\n",
       "}\n",
       "\n",
       "#sk-container-id-9 a.estimator_doc_link.fitted:hover {\n",
       "  /* fitted */\n",
       "  background-color: var(--sklearn-color-fitted-level-3);\n",
       "}\n",
       "</style><div id=\"sk-container-id-9\" class=\"sk-top-container\"><div class=\"sk-text-repr-fallback\"><pre>Lasso(alpha=0.1)</pre><b>In a Jupyter environment, please rerun this cell to show the HTML representation or trust the notebook. <br />On GitHub, the HTML representation is unable to render, please try loading this page with nbviewer.org.</b></div><div class=\"sk-container\" hidden><div class=\"sk-item\"><div class=\"sk-estimator fitted sk-toggleable\"><input class=\"sk-toggleable__control sk-hidden--visually\" id=\"sk-estimator-id-9\" type=\"checkbox\" checked><label for=\"sk-estimator-id-9\" class=\"sk-toggleable__label fitted sk-toggleable__label-arrow fitted\">&nbsp;&nbsp;Lasso<a class=\"sk-estimator-doc-link fitted\" rel=\"noreferrer\" target=\"_blank\" href=\"https://scikit-learn.org/1.5/modules/generated/sklearn.linear_model.Lasso.html\">?<span>Documentation for Lasso</span></a><span class=\"sk-estimator-doc-link fitted\">i<span>Fitted</span></span></label><div class=\"sk-toggleable__content fitted\"><pre>Lasso(alpha=0.1)</pre></div> </div></div></div></div>"
      ]
     },
     "execution_count": 80,
     "metadata": {},
     "output_type": "execute_result"
    }
   ],
   "execution_count": 80
  },
  {
   "cell_type": "code",
   "id": "1fa9f13b-4d45-4c0c-86c2-fd4f9276088e",
   "metadata": {
    "ExecuteTime": {
     "end_time": "2025-09-28T23:09:25.245335Z",
     "start_time": "2025-09-28T23:09:25.243029Z"
    }
   },
   "source": [
    "y_pred_test = l1.predict(X_test_scaled)\n",
    "r2_score(y_test, y_pred_test)"
   ],
   "outputs": [
    {
     "data": {
      "text/plain": [
       "0.9871901733679374"
      ]
     },
     "execution_count": 81,
     "metadata": {},
     "output_type": "execute_result"
    }
   ],
   "execution_count": 81
  },
  {
   "cell_type": "code",
   "id": "a597bf96-db92-4bd1-a805-a620664b17c9",
   "metadata": {
    "ExecuteTime": {
     "end_time": "2025-09-28T23:09:25.263117Z",
     "start_time": "2025-09-28T23:09:25.261047Z"
    }
   },
   "source": [
    "l1.intercept_"
   ],
   "outputs": [
    {
     "data": {
      "text/plain": [
       "175177.718450723"
      ]
     },
     "execution_count": 82,
     "metadata": {},
     "output_type": "execute_result"
    }
   ],
   "execution_count": 82
  },
  {
   "cell_type": "code",
   "id": "585b302e-3d42-4368-a0e7-89162fdd7c8c",
   "metadata": {
    "ExecuteTime": {
     "end_time": "2025-09-28T23:09:25.275681Z",
     "start_time": "2025-09-28T23:09:25.273765Z"
    }
   },
   "source": [
    "l1.coef_"
   ],
   "outputs": [
    {
     "data": {
      "text/plain": [
       "array([249775.50741897, -18383.67925253,  -1355.88258514,   1328.86497025])"
      ]
     },
     "execution_count": 83,
     "metadata": {},
     "output_type": "execute_result"
    }
   ],
   "execution_count": 83
  },
  {
   "cell_type": "code",
   "id": "02f9a3e3-6806-4c02-acb0-75617e8ed926",
   "metadata": {
    "ExecuteTime": {
     "end_time": "2025-09-28T23:09:25.290433Z",
     "start_time": "2025-09-28T23:09:25.287075Z"
    }
   },
   "source": [
    "l1 = Lasso(alpha = 1)\n",
    "l1.fit(X_test_scaled, y_test)\n",
    "y_pred_test = l1.predict(X_test_scaled)\n",
    "r2_score(y_test, y_pred_test)"
   ],
   "outputs": [
    {
     "data": {
      "text/plain": [
       "0.9871901731369351"
      ]
     },
     "execution_count": 84,
     "metadata": {},
     "output_type": "execute_result"
    }
   ],
   "execution_count": 84
  },
  {
   "cell_type": "code",
   "id": "073b1b2f-aa73-4091-a682-c2b7e49a43ef",
   "metadata": {
    "ExecuteTime": {
     "end_time": "2025-09-28T23:09:25.303407Z",
     "start_time": "2025-09-28T23:09:25.301598Z"
    }
   },
   "source": [
    "l1.intercept_"
   ],
   "outputs": [
    {
     "data": {
      "text/plain": [
       "175177.6668790574"
      ]
     },
     "execution_count": 85,
     "metadata": {},
     "output_type": "execute_result"
    }
   ],
   "execution_count": 85
  },
  {
   "cell_type": "code",
   "id": "a62373ec-5f14-4bbd-9ea8-8f11dae896cb",
   "metadata": {
    "ExecuteTime": {
     "end_time": "2025-09-28T23:09:25.316188Z",
     "start_time": "2025-09-28T23:09:25.314126Z"
    }
   },
   "source": [
    "l1.coef_"
   ],
   "outputs": [
    {
     "data": {
      "text/plain": [
       "array([249770.85390461, -18379.54340528,  -1354.65113313,   1328.13236101])"
      ]
     },
     "execution_count": 86,
     "metadata": {},
     "output_type": "execute_result"
    }
   ],
   "execution_count": 86
  },
  {
   "cell_type": "code",
   "id": "e099cccb-1054-4790-82a4-90689c6e8756",
   "metadata": {
    "ExecuteTime": {
     "end_time": "2025-09-28T23:09:25.330928Z",
     "start_time": "2025-09-28T23:09:25.327629Z"
    }
   },
   "source": [
    "l1 = Lasso(alpha = 10)\n",
    "l1.fit(X_test_scaled, y_test)\n",
    "y_pred_test = l1.predict(X_test_scaled)\n",
    "r2_score(y_test, y_pred_test)"
   ],
   "outputs": [
    {
     "data": {
      "text/plain": [
       "0.9871901504223625"
      ]
     },
     "execution_count": 87,
     "metadata": {},
     "output_type": "execute_result"
    }
   ],
   "execution_count": 87
  },
  {
   "cell_type": "code",
   "id": "1b484253-2549-4298-bda3-116dcff0021d",
   "metadata": {
    "ExecuteTime": {
     "end_time": "2025-09-28T23:09:25.354153Z",
     "start_time": "2025-09-28T23:09:25.352106Z"
    }
   },
   "source": [
    "l1.intercept_"
   ],
   "outputs": [
    {
     "data": {
      "text/plain": [
       "175177.15360333084"
      ]
     },
     "execution_count": 88,
     "metadata": {},
     "output_type": "execute_result"
    }
   ],
   "execution_count": 88
  },
  {
   "cell_type": "code",
   "id": "d0bb7b71-de33-4165-adb4-da00a3a6ebc7",
   "metadata": {
    "ExecuteTime": {
     "end_time": "2025-09-28T23:09:25.370060Z",
     "start_time": "2025-09-28T23:09:25.368150Z"
    }
   },
   "source": [
    "l1.coef_"
   ],
   "outputs": [
    {
     "data": {
      "text/plain": [
       "array([249724.95991578, -18338.625528  ,  -1342.43072656,   1320.78165814])"
      ]
     },
     "execution_count": 89,
     "metadata": {},
     "output_type": "execute_result"
    }
   ],
   "execution_count": 89
  },
  {
   "cell_type": "markdown",
   "id": "942b6ad8-af87-4c54-a69d-dab6c457c044",
   "metadata": {},
   "source": [
    "#### Interpretación"
   ]
  },
  {
   "cell_type": "markdown",
   "id": "304f36ad-adec-47af-ba15-02facd9dd49b",
   "metadata": {},
   "source": [
    "En este caso con Lasso Test, al variar el valor de alpha (0.1, 1 y 10) el modelo prácticamente mantiene el mismo nivel de ajuste (el R2 se queda en 0.987). Lo que cambia un poco son los coeficientes, a medida que sube el alpha, los valores de los betas se van reduciendo ligeramente en magnitud, acercándose más a cero."
   ]
  },
  {
   "cell_type": "markdown",
   "id": "b7f544e1-c6a8-438b-826b-0c269c6298ef",
   "metadata": {},
   "source": [
    "### ElasticNet"
   ]
  },
  {
   "cell_type": "code",
   "id": "4f845956-7406-4789-9c7e-5624b3d16620",
   "metadata": {
    "ExecuteTime": {
     "end_time": "2025-09-28T23:09:25.395025Z",
     "start_time": "2025-09-28T23:09:25.391737Z"
    }
   },
   "source": [
    "le = ElasticNet(alpha=0.1)\n",
    "le.fit(x, y)"
   ],
   "outputs": [
    {
     "data": {
      "text/plain": [
       "ElasticNet(alpha=0.1)"
      ],
      "text/html": [
       "<style>#sk-container-id-10 {\n",
       "  /* Definition of color scheme common for light and dark mode */\n",
       "  --sklearn-color-text: black;\n",
       "  --sklearn-color-line: gray;\n",
       "  /* Definition of color scheme for unfitted estimators */\n",
       "  --sklearn-color-unfitted-level-0: #fff5e6;\n",
       "  --sklearn-color-unfitted-level-1: #f6e4d2;\n",
       "  --sklearn-color-unfitted-level-2: #ffe0b3;\n",
       "  --sklearn-color-unfitted-level-3: chocolate;\n",
       "  /* Definition of color scheme for fitted estimators */\n",
       "  --sklearn-color-fitted-level-0: #f0f8ff;\n",
       "  --sklearn-color-fitted-level-1: #d4ebff;\n",
       "  --sklearn-color-fitted-level-2: #b3dbfd;\n",
       "  --sklearn-color-fitted-level-3: cornflowerblue;\n",
       "\n",
       "  /* Specific color for light theme */\n",
       "  --sklearn-color-text-on-default-background: var(--sg-text-color, var(--theme-code-foreground, var(--jp-content-font-color1, black)));\n",
       "  --sklearn-color-background: var(--sg-background-color, var(--theme-background, var(--jp-layout-color0, white)));\n",
       "  --sklearn-color-border-box: var(--sg-text-color, var(--theme-code-foreground, var(--jp-content-font-color1, black)));\n",
       "  --sklearn-color-icon: #696969;\n",
       "\n",
       "  @media (prefers-color-scheme: dark) {\n",
       "    /* Redefinition of color scheme for dark theme */\n",
       "    --sklearn-color-text-on-default-background: var(--sg-text-color, var(--theme-code-foreground, var(--jp-content-font-color1, white)));\n",
       "    --sklearn-color-background: var(--sg-background-color, var(--theme-background, var(--jp-layout-color0, #111)));\n",
       "    --sklearn-color-border-box: var(--sg-text-color, var(--theme-code-foreground, var(--jp-content-font-color1, white)));\n",
       "    --sklearn-color-icon: #878787;\n",
       "  }\n",
       "}\n",
       "\n",
       "#sk-container-id-10 {\n",
       "  color: var(--sklearn-color-text);\n",
       "}\n",
       "\n",
       "#sk-container-id-10 pre {\n",
       "  padding: 0;\n",
       "}\n",
       "\n",
       "#sk-container-id-10 input.sk-hidden--visually {\n",
       "  border: 0;\n",
       "  clip: rect(1px 1px 1px 1px);\n",
       "  clip: rect(1px, 1px, 1px, 1px);\n",
       "  height: 1px;\n",
       "  margin: -1px;\n",
       "  overflow: hidden;\n",
       "  padding: 0;\n",
       "  position: absolute;\n",
       "  width: 1px;\n",
       "}\n",
       "\n",
       "#sk-container-id-10 div.sk-dashed-wrapped {\n",
       "  border: 1px dashed var(--sklearn-color-line);\n",
       "  margin: 0 0.4em 0.5em 0.4em;\n",
       "  box-sizing: border-box;\n",
       "  padding-bottom: 0.4em;\n",
       "  background-color: var(--sklearn-color-background);\n",
       "}\n",
       "\n",
       "#sk-container-id-10 div.sk-container {\n",
       "  /* jupyter's `normalize.less` sets `[hidden] { display: none; }`\n",
       "     but bootstrap.min.css set `[hidden] { display: none !important; }`\n",
       "     so we also need the `!important` here to be able to override the\n",
       "     default hidden behavior on the sphinx rendered scikit-learn.org.\n",
       "     See: https://github.com/scikit-learn/scikit-learn/issues/21755 */\n",
       "  display: inline-block !important;\n",
       "  position: relative;\n",
       "}\n",
       "\n",
       "#sk-container-id-10 div.sk-text-repr-fallback {\n",
       "  display: none;\n",
       "}\n",
       "\n",
       "div.sk-parallel-item,\n",
       "div.sk-serial,\n",
       "div.sk-item {\n",
       "  /* draw centered vertical line to link estimators */\n",
       "  background-image: linear-gradient(var(--sklearn-color-text-on-default-background), var(--sklearn-color-text-on-default-background));\n",
       "  background-size: 2px 100%;\n",
       "  background-repeat: no-repeat;\n",
       "  background-position: center center;\n",
       "}\n",
       "\n",
       "/* Parallel-specific style estimator block */\n",
       "\n",
       "#sk-container-id-10 div.sk-parallel-item::after {\n",
       "  content: \"\";\n",
       "  width: 100%;\n",
       "  border-bottom: 2px solid var(--sklearn-color-text-on-default-background);\n",
       "  flex-grow: 1;\n",
       "}\n",
       "\n",
       "#sk-container-id-10 div.sk-parallel {\n",
       "  display: flex;\n",
       "  align-items: stretch;\n",
       "  justify-content: center;\n",
       "  background-color: var(--sklearn-color-background);\n",
       "  position: relative;\n",
       "}\n",
       "\n",
       "#sk-container-id-10 div.sk-parallel-item {\n",
       "  display: flex;\n",
       "  flex-direction: column;\n",
       "}\n",
       "\n",
       "#sk-container-id-10 div.sk-parallel-item:first-child::after {\n",
       "  align-self: flex-end;\n",
       "  width: 50%;\n",
       "}\n",
       "\n",
       "#sk-container-id-10 div.sk-parallel-item:last-child::after {\n",
       "  align-self: flex-start;\n",
       "  width: 50%;\n",
       "}\n",
       "\n",
       "#sk-container-id-10 div.sk-parallel-item:only-child::after {\n",
       "  width: 0;\n",
       "}\n",
       "\n",
       "/* Serial-specific style estimator block */\n",
       "\n",
       "#sk-container-id-10 div.sk-serial {\n",
       "  display: flex;\n",
       "  flex-direction: column;\n",
       "  align-items: center;\n",
       "  background-color: var(--sklearn-color-background);\n",
       "  padding-right: 1em;\n",
       "  padding-left: 1em;\n",
       "}\n",
       "\n",
       "\n",
       "/* Toggleable style: style used for estimator/Pipeline/ColumnTransformer box that is\n",
       "clickable and can be expanded/collapsed.\n",
       "- Pipeline and ColumnTransformer use this feature and define the default style\n",
       "- Estimators will overwrite some part of the style using the `sk-estimator` class\n",
       "*/\n",
       "\n",
       "/* Pipeline and ColumnTransformer style (default) */\n",
       "\n",
       "#sk-container-id-10 div.sk-toggleable {\n",
       "  /* Default theme specific background. It is overwritten whether we have a\n",
       "  specific estimator or a Pipeline/ColumnTransformer */\n",
       "  background-color: var(--sklearn-color-background);\n",
       "}\n",
       "\n",
       "/* Toggleable label */\n",
       "#sk-container-id-10 label.sk-toggleable__label {\n",
       "  cursor: pointer;\n",
       "  display: block;\n",
       "  width: 100%;\n",
       "  margin-bottom: 0;\n",
       "  padding: 0.5em;\n",
       "  box-sizing: border-box;\n",
       "  text-align: center;\n",
       "}\n",
       "\n",
       "#sk-container-id-10 label.sk-toggleable__label-arrow:before {\n",
       "  /* Arrow on the left of the label */\n",
       "  content: \"▸\";\n",
       "  float: left;\n",
       "  margin-right: 0.25em;\n",
       "  color: var(--sklearn-color-icon);\n",
       "}\n",
       "\n",
       "#sk-container-id-10 label.sk-toggleable__label-arrow:hover:before {\n",
       "  color: var(--sklearn-color-text);\n",
       "}\n",
       "\n",
       "/* Toggleable content - dropdown */\n",
       "\n",
       "#sk-container-id-10 div.sk-toggleable__content {\n",
       "  max-height: 0;\n",
       "  max-width: 0;\n",
       "  overflow: hidden;\n",
       "  text-align: left;\n",
       "  /* unfitted */\n",
       "  background-color: var(--sklearn-color-unfitted-level-0);\n",
       "}\n",
       "\n",
       "#sk-container-id-10 div.sk-toggleable__content.fitted {\n",
       "  /* fitted */\n",
       "  background-color: var(--sklearn-color-fitted-level-0);\n",
       "}\n",
       "\n",
       "#sk-container-id-10 div.sk-toggleable__content pre {\n",
       "  margin: 0.2em;\n",
       "  border-radius: 0.25em;\n",
       "  color: var(--sklearn-color-text);\n",
       "  /* unfitted */\n",
       "  background-color: var(--sklearn-color-unfitted-level-0);\n",
       "}\n",
       "\n",
       "#sk-container-id-10 div.sk-toggleable__content.fitted pre {\n",
       "  /* unfitted */\n",
       "  background-color: var(--sklearn-color-fitted-level-0);\n",
       "}\n",
       "\n",
       "#sk-container-id-10 input.sk-toggleable__control:checked~div.sk-toggleable__content {\n",
       "  /* Expand drop-down */\n",
       "  max-height: 200px;\n",
       "  max-width: 100%;\n",
       "  overflow: auto;\n",
       "}\n",
       "\n",
       "#sk-container-id-10 input.sk-toggleable__control:checked~label.sk-toggleable__label-arrow:before {\n",
       "  content: \"▾\";\n",
       "}\n",
       "\n",
       "/* Pipeline/ColumnTransformer-specific style */\n",
       "\n",
       "#sk-container-id-10 div.sk-label input.sk-toggleable__control:checked~label.sk-toggleable__label {\n",
       "  color: var(--sklearn-color-text);\n",
       "  background-color: var(--sklearn-color-unfitted-level-2);\n",
       "}\n",
       "\n",
       "#sk-container-id-10 div.sk-label.fitted input.sk-toggleable__control:checked~label.sk-toggleable__label {\n",
       "  background-color: var(--sklearn-color-fitted-level-2);\n",
       "}\n",
       "\n",
       "/* Estimator-specific style */\n",
       "\n",
       "/* Colorize estimator box */\n",
       "#sk-container-id-10 div.sk-estimator input.sk-toggleable__control:checked~label.sk-toggleable__label {\n",
       "  /* unfitted */\n",
       "  background-color: var(--sklearn-color-unfitted-level-2);\n",
       "}\n",
       "\n",
       "#sk-container-id-10 div.sk-estimator.fitted input.sk-toggleable__control:checked~label.sk-toggleable__label {\n",
       "  /* fitted */\n",
       "  background-color: var(--sklearn-color-fitted-level-2);\n",
       "}\n",
       "\n",
       "#sk-container-id-10 div.sk-label label.sk-toggleable__label,\n",
       "#sk-container-id-10 div.sk-label label {\n",
       "  /* The background is the default theme color */\n",
       "  color: var(--sklearn-color-text-on-default-background);\n",
       "}\n",
       "\n",
       "/* On hover, darken the color of the background */\n",
       "#sk-container-id-10 div.sk-label:hover label.sk-toggleable__label {\n",
       "  color: var(--sklearn-color-text);\n",
       "  background-color: var(--sklearn-color-unfitted-level-2);\n",
       "}\n",
       "\n",
       "/* Label box, darken color on hover, fitted */\n",
       "#sk-container-id-10 div.sk-label.fitted:hover label.sk-toggleable__label.fitted {\n",
       "  color: var(--sklearn-color-text);\n",
       "  background-color: var(--sklearn-color-fitted-level-2);\n",
       "}\n",
       "\n",
       "/* Estimator label */\n",
       "\n",
       "#sk-container-id-10 div.sk-label label {\n",
       "  font-family: monospace;\n",
       "  font-weight: bold;\n",
       "  display: inline-block;\n",
       "  line-height: 1.2em;\n",
       "}\n",
       "\n",
       "#sk-container-id-10 div.sk-label-container {\n",
       "  text-align: center;\n",
       "}\n",
       "\n",
       "/* Estimator-specific */\n",
       "#sk-container-id-10 div.sk-estimator {\n",
       "  font-family: monospace;\n",
       "  border: 1px dotted var(--sklearn-color-border-box);\n",
       "  border-radius: 0.25em;\n",
       "  box-sizing: border-box;\n",
       "  margin-bottom: 0.5em;\n",
       "  /* unfitted */\n",
       "  background-color: var(--sklearn-color-unfitted-level-0);\n",
       "}\n",
       "\n",
       "#sk-container-id-10 div.sk-estimator.fitted {\n",
       "  /* fitted */\n",
       "  background-color: var(--sklearn-color-fitted-level-0);\n",
       "}\n",
       "\n",
       "/* on hover */\n",
       "#sk-container-id-10 div.sk-estimator:hover {\n",
       "  /* unfitted */\n",
       "  background-color: var(--sklearn-color-unfitted-level-2);\n",
       "}\n",
       "\n",
       "#sk-container-id-10 div.sk-estimator.fitted:hover {\n",
       "  /* fitted */\n",
       "  background-color: var(--sklearn-color-fitted-level-2);\n",
       "}\n",
       "\n",
       "/* Specification for estimator info (e.g. \"i\" and \"?\") */\n",
       "\n",
       "/* Common style for \"i\" and \"?\" */\n",
       "\n",
       ".sk-estimator-doc-link,\n",
       "a:link.sk-estimator-doc-link,\n",
       "a:visited.sk-estimator-doc-link {\n",
       "  float: right;\n",
       "  font-size: smaller;\n",
       "  line-height: 1em;\n",
       "  font-family: monospace;\n",
       "  background-color: var(--sklearn-color-background);\n",
       "  border-radius: 1em;\n",
       "  height: 1em;\n",
       "  width: 1em;\n",
       "  text-decoration: none !important;\n",
       "  margin-left: 1ex;\n",
       "  /* unfitted */\n",
       "  border: var(--sklearn-color-unfitted-level-1) 1pt solid;\n",
       "  color: var(--sklearn-color-unfitted-level-1);\n",
       "}\n",
       "\n",
       ".sk-estimator-doc-link.fitted,\n",
       "a:link.sk-estimator-doc-link.fitted,\n",
       "a:visited.sk-estimator-doc-link.fitted {\n",
       "  /* fitted */\n",
       "  border: var(--sklearn-color-fitted-level-1) 1pt solid;\n",
       "  color: var(--sklearn-color-fitted-level-1);\n",
       "}\n",
       "\n",
       "/* On hover */\n",
       "div.sk-estimator:hover .sk-estimator-doc-link:hover,\n",
       ".sk-estimator-doc-link:hover,\n",
       "div.sk-label-container:hover .sk-estimator-doc-link:hover,\n",
       ".sk-estimator-doc-link:hover {\n",
       "  /* unfitted */\n",
       "  background-color: var(--sklearn-color-unfitted-level-3);\n",
       "  color: var(--sklearn-color-background);\n",
       "  text-decoration: none;\n",
       "}\n",
       "\n",
       "div.sk-estimator.fitted:hover .sk-estimator-doc-link.fitted:hover,\n",
       ".sk-estimator-doc-link.fitted:hover,\n",
       "div.sk-label-container:hover .sk-estimator-doc-link.fitted:hover,\n",
       ".sk-estimator-doc-link.fitted:hover {\n",
       "  /* fitted */\n",
       "  background-color: var(--sklearn-color-fitted-level-3);\n",
       "  color: var(--sklearn-color-background);\n",
       "  text-decoration: none;\n",
       "}\n",
       "\n",
       "/* Span, style for the box shown on hovering the info icon */\n",
       ".sk-estimator-doc-link span {\n",
       "  display: none;\n",
       "  z-index: 9999;\n",
       "  position: relative;\n",
       "  font-weight: normal;\n",
       "  right: .2ex;\n",
       "  padding: .5ex;\n",
       "  margin: .5ex;\n",
       "  width: min-content;\n",
       "  min-width: 20ex;\n",
       "  max-width: 50ex;\n",
       "  color: var(--sklearn-color-text);\n",
       "  box-shadow: 2pt 2pt 4pt #999;\n",
       "  /* unfitted */\n",
       "  background: var(--sklearn-color-unfitted-level-0);\n",
       "  border: .5pt solid var(--sklearn-color-unfitted-level-3);\n",
       "}\n",
       "\n",
       ".sk-estimator-doc-link.fitted span {\n",
       "  /* fitted */\n",
       "  background: var(--sklearn-color-fitted-level-0);\n",
       "  border: var(--sklearn-color-fitted-level-3);\n",
       "}\n",
       "\n",
       ".sk-estimator-doc-link:hover span {\n",
       "  display: block;\n",
       "}\n",
       "\n",
       "/* \"?\"-specific style due to the `<a>` HTML tag */\n",
       "\n",
       "#sk-container-id-10 a.estimator_doc_link {\n",
       "  float: right;\n",
       "  font-size: 1rem;\n",
       "  line-height: 1em;\n",
       "  font-family: monospace;\n",
       "  background-color: var(--sklearn-color-background);\n",
       "  border-radius: 1rem;\n",
       "  height: 1rem;\n",
       "  width: 1rem;\n",
       "  text-decoration: none;\n",
       "  /* unfitted */\n",
       "  color: var(--sklearn-color-unfitted-level-1);\n",
       "  border: var(--sklearn-color-unfitted-level-1) 1pt solid;\n",
       "}\n",
       "\n",
       "#sk-container-id-10 a.estimator_doc_link.fitted {\n",
       "  /* fitted */\n",
       "  border: var(--sklearn-color-fitted-level-1) 1pt solid;\n",
       "  color: var(--sklearn-color-fitted-level-1);\n",
       "}\n",
       "\n",
       "/* On hover */\n",
       "#sk-container-id-10 a.estimator_doc_link:hover {\n",
       "  /* unfitted */\n",
       "  background-color: var(--sklearn-color-unfitted-level-3);\n",
       "  color: var(--sklearn-color-background);\n",
       "  text-decoration: none;\n",
       "}\n",
       "\n",
       "#sk-container-id-10 a.estimator_doc_link.fitted:hover {\n",
       "  /* fitted */\n",
       "  background-color: var(--sklearn-color-fitted-level-3);\n",
       "}\n",
       "</style><div id=\"sk-container-id-10\" class=\"sk-top-container\"><div class=\"sk-text-repr-fallback\"><pre>ElasticNet(alpha=0.1)</pre><b>In a Jupyter environment, please rerun this cell to show the HTML representation or trust the notebook. <br />On GitHub, the HTML representation is unable to render, please try loading this page with nbviewer.org.</b></div><div class=\"sk-container\" hidden><div class=\"sk-item\"><div class=\"sk-estimator fitted sk-toggleable\"><input class=\"sk-toggleable__control sk-hidden--visually\" id=\"sk-estimator-id-10\" type=\"checkbox\" checked><label for=\"sk-estimator-id-10\" class=\"sk-toggleable__label fitted sk-toggleable__label-arrow fitted\">&nbsp;&nbsp;ElasticNet<a class=\"sk-estimator-doc-link fitted\" rel=\"noreferrer\" target=\"_blank\" href=\"https://scikit-learn.org/1.5/modules/generated/sklearn.linear_model.ElasticNet.html\">?<span>Documentation for ElasticNet</span></a><span class=\"sk-estimator-doc-link fitted\">i<span>Fitted</span></span></label><div class=\"sk-toggleable__content fitted\"><pre>ElasticNet(alpha=0.1)</pre></div> </div></div></div></div>"
      ]
     },
     "execution_count": 90,
     "metadata": {},
     "output_type": "execute_result"
    }
   ],
   "execution_count": 90
  },
  {
   "cell_type": "code",
   "id": "20505962-d596-4582-8fb1-b87893a801cf",
   "metadata": {
    "ExecuteTime": {
     "end_time": "2025-09-28T23:09:26.201413Z",
     "start_time": "2025-09-28T23:09:26.196018Z"
    }
   },
   "source": [
    "y_pred = le.predict(x)"
   ],
   "outputs": [],
   "execution_count": 91
  },
  {
   "cell_type": "code",
   "id": "643916af-80df-4f29-89c7-640bf5449945",
   "metadata": {
    "ExecuteTime": {
     "end_time": "2025-09-28T23:09:26.244851Z",
     "start_time": "2025-09-28T23:09:26.238627Z"
    }
   },
   "source": [
    "r2_score(y, y_pred)"
   ],
   "outputs": [
    {
     "data": {
      "text/plain": [
       "0.987453127333567"
      ]
     },
     "execution_count": 92,
     "metadata": {},
     "output_type": "execute_result"
    }
   ],
   "execution_count": 92
  },
  {
   "cell_type": "code",
   "id": "19855ee0-744d-43da-b1db-37a10b07f2da",
   "metadata": {
    "ExecuteTime": {
     "end_time": "2025-09-28T23:09:26.418794Z",
     "start_time": "2025-09-28T23:09:26.412008Z"
    }
   },
   "source": [
    "le.intercept_"
   ],
   "outputs": [
    {
     "data": {
      "text/plain": [
       "2691.463772977004"
      ]
     },
     "execution_count": 93,
     "metadata": {},
     "output_type": "execute_result"
    }
   ],
   "execution_count": 93
  },
  {
   "cell_type": "code",
   "id": "a914cfac-f509-4dcc-b83b-f7ccb28a8330",
   "metadata": {
    "ExecuteTime": {
     "end_time": "2025-09-28T23:09:26.467859Z",
     "start_time": "2025-09-28T23:09:26.461742Z"
    }
   },
   "source": [
    "le.coef_"
   ],
   "outputs": [
    {
     "data": {
      "text/plain": [
       "array([ 1.23151881, -0.88895858, -0.8036337 ,  7.71944017])"
      ]
     },
     "execution_count": 94,
     "metadata": {},
     "output_type": "execute_result"
    }
   ],
   "execution_count": 94
  },
  {
   "cell_type": "code",
   "id": "86efc299-9041-4efa-b2d9-7f8641775691",
   "metadata": {
    "ExecuteTime": {
     "end_time": "2025-09-28T23:09:26.494336Z",
     "start_time": "2025-09-28T23:09:26.487415Z"
    }
   },
   "source": [
    "le = ElasticNet(alpha=1)\n",
    "le.fit(x, y)\n",
    "y_pred = le.predict(x)\n",
    "r2_score(y, y_pred)"
   ],
   "outputs": [
    {
     "data": {
      "text/plain": [
       "0.9874531273335384"
      ]
     },
     "execution_count": 95,
     "metadata": {},
     "output_type": "execute_result"
    }
   ],
   "execution_count": 95
  },
  {
   "cell_type": "code",
   "id": "a33844c6-e632-4089-a9a9-402c161d4c5e",
   "metadata": {
    "ExecuteTime": {
     "end_time": "2025-09-28T23:09:26.520805Z",
     "start_time": "2025-09-28T23:09:26.514271Z"
    }
   },
   "source": [
    "le.intercept_"
   ],
   "outputs": [
    {
     "data": {
      "text/plain": [
       "2691.496138847957"
      ]
     },
     "execution_count": 96,
     "metadata": {},
     "output_type": "execute_result"
    }
   ],
   "execution_count": 96
  },
  {
   "cell_type": "code",
   "id": "08034062-7d0b-422f-beb2-7f03d8dd8401",
   "metadata": {
    "ExecuteTime": {
     "end_time": "2025-09-28T23:09:26.539240Z",
     "start_time": "2025-09-28T23:09:26.534619Z"
    }
   },
   "source": [
    "le.coef_"
   ],
   "outputs": [
    {
     "data": {
      "text/plain": [
       "array([ 1.23151882, -0.88895864, -0.80363462,  7.71910576])"
      ]
     },
     "execution_count": 97,
     "metadata": {},
     "output_type": "execute_result"
    }
   ],
   "execution_count": 97
  },
  {
   "cell_type": "code",
   "id": "4c02c395-6e8d-49b5-a171-ac6351978688",
   "metadata": {
    "ExecuteTime": {
     "end_time": "2025-09-28T23:09:26.556023Z",
     "start_time": "2025-09-28T23:09:26.547473Z"
    }
   },
   "source": [
    "le = ElasticNet(alpha=10)\n",
    "le.fit(x, y)\n",
    "y_pred = le.predict(x)\n",
    "r2_score(y, y_pred)"
   ],
   "outputs": [
    {
     "data": {
      "text/plain": [
       "0.9874531273306767"
      ]
     },
     "execution_count": 98,
     "metadata": {},
     "output_type": "execute_result"
    }
   ],
   "execution_count": 98
  },
  {
   "cell_type": "code",
   "id": "58aaec65-7609-4f58-8eb1-15668c432c64",
   "metadata": {
    "ExecuteTime": {
     "end_time": "2025-09-28T23:09:26.576573Z",
     "start_time": "2025-09-28T23:09:26.570667Z"
    }
   },
   "source": [
    "le.intercept_"
   ],
   "outputs": [
    {
     "data": {
      "text/plain": [
       "2691.8196535649186"
      ]
     },
     "execution_count": 99,
     "metadata": {},
     "output_type": "execute_result"
    }
   ],
   "execution_count": 99
  },
  {
   "cell_type": "code",
   "id": "5b8641a7-6c26-4534-b4c4-ca59aa3f05f2",
   "metadata": {
    "ExecuteTime": {
     "end_time": "2025-09-28T23:09:26.601472Z",
     "start_time": "2025-09-28T23:09:26.596747Z"
    }
   },
   "source": [
    "le.coef_"
   ],
   "outputs": [
    {
     "data": {
      "text/plain": [
       "array([ 1.23151897, -0.88895925, -0.80364383,  7.71576305])"
      ]
     },
     "execution_count": 100,
     "metadata": {},
     "output_type": "execute_result"
    }
   ],
   "execution_count": 100
  },
  {
   "cell_type": "markdown",
   "id": "4019c814-559a-4f06-b5ac-1a4dd5e8c0c4",
   "metadata": {},
   "source": [
    "#### Interpretación"
   ]
  },
  {
   "cell_type": "markdown",
   "id": "b4b06693-2e0c-4a1f-839a-ab40d6fec7b7",
   "metadata": {},
   "source": [
    "En el modelo de Elastic Net con diferentes valores de alpha (0.1, 1 y 10), se observa que el R2 se mantiene prácticamente igual (0.987), lo que significa que el ajuste del modelo no cambia mucho en términos de capacidad predictiva. Sin embargo, al aumentar el valor de alpha, los coeficientes se van reduciendo ligeramente en magnitud, lo cual indica que Elastic Net está aplicando más regularización, combinando las ideas de Ridge (reducir coeficientes grandes) y Lasso (forzar coeficientes hacia cero)"
   ]
  },
  {
   "cell_type": "markdown",
   "id": "99a18fdb-cf9e-4ffc-b433-7a32154ee987",
   "metadata": {},
   "source": [
    "### ElasticNet Train"
   ]
  },
  {
   "cell_type": "code",
   "id": "8d642c85-496d-4ae8-908b-0125cf2907aa",
   "metadata": {
    "ExecuteTime": {
     "end_time": "2025-09-28T23:09:26.638504Z",
     "start_time": "2025-09-28T23:09:26.630482Z"
    }
   },
   "source": [
    "le = ElasticNet(alpha = 0.1)\n",
    "le.fit(X_train_scaled, y_train)\n",
    "y_pred = le.predict(X_train_scaled)\n",
    "r2_score(y_train, y_pred)"
   ],
   "outputs": [
    {
     "data": {
      "text/plain": [
       "0.9819218628037095"
      ]
     },
     "execution_count": 101,
     "metadata": {},
     "output_type": "execute_result"
    }
   ],
   "execution_count": 101
  },
  {
   "cell_type": "code",
   "id": "852560b9-8a42-443a-84e2-e5baf30d24c5",
   "metadata": {
    "ExecuteTime": {
     "end_time": "2025-09-28T23:09:26.653518Z",
     "start_time": "2025-09-28T23:09:26.650132Z"
    }
   },
   "source": [
    "le.intercept_"
   ],
   "outputs": [
    {
     "data": {
      "text/plain": [
       "177747.69771428572"
      ]
     },
     "execution_count": 102,
     "metadata": {},
     "output_type": "execute_result"
    }
   ],
   "execution_count": 102
  },
  {
   "cell_type": "code",
   "id": "6bba7b51-15ac-44e4-80b6-ba218d67ac15",
   "metadata": {
    "ExecuteTime": {
     "end_time": "2025-09-28T23:09:26.666122Z",
     "start_time": "2025-09-28T23:09:26.662046Z"
    }
   },
   "source": [
    "le.coef_"
   ],
   "outputs": [
    {
     "data": {
      "text/plain": [
       "array([226187.76623471,   1610.29900415,   4944.35461443,   1247.91236182])"
      ]
     },
     "execution_count": 103,
     "metadata": {},
     "output_type": "execute_result"
    }
   ],
   "execution_count": 103
  },
  {
   "cell_type": "code",
   "id": "4c2d2054-1062-48d3-a0cc-a0dacd24a30f",
   "metadata": {
    "ExecuteTime": {
     "end_time": "2025-09-28T23:09:26.677675Z",
     "start_time": "2025-09-28T23:09:26.672539Z"
    }
   },
   "source": [
    "le = ElasticNet(alpha = 1)\n",
    "le.fit(X_train_scaled, y_train)\n",
    "y_pred = le.predict(X_train_scaled)\n",
    "r2_score(y_train, y_pred)"
   ],
   "outputs": [
    {
     "data": {
      "text/plain": [
       "0.8801636918017546"
      ]
     },
     "execution_count": 104,
     "metadata": {},
     "output_type": "execute_result"
    }
   ],
   "execution_count": 104
  },
  {
   "cell_type": "code",
   "id": "496e5f8e-b676-47e3-a4e6-91897d46dc2b",
   "metadata": {
    "ExecuteTime": {
     "end_time": "2025-09-28T23:09:26.693078Z",
     "start_time": "2025-09-28T23:09:26.689650Z"
    }
   },
   "source": [
    "le.intercept_"
   ],
   "outputs": [
    {
     "data": {
      "text/plain": [
       "177747.69771428572"
      ]
     },
     "execution_count": 105,
     "metadata": {},
     "output_type": "execute_result"
    }
   ],
   "execution_count": 105
  },
  {
   "cell_type": "code",
   "id": "eb98b028-6533-4c8c-9281-b43aca0b8c2b",
   "metadata": {
    "ExecuteTime": {
     "end_time": "2025-09-28T23:09:26.705235Z",
     "start_time": "2025-09-28T23:09:26.703277Z"
    }
   },
   "source": [
    "le.coef_"
   ],
   "outputs": [
    {
     "data": {
      "text/plain": [
       "array([128510.02651953,  51826.37309965,  16326.87967525,   2720.594907  ])"
      ]
     },
     "execution_count": 106,
     "metadata": {},
     "output_type": "execute_result"
    }
   ],
   "execution_count": 106
  },
  {
   "cell_type": "code",
   "id": "4d30ddcc-8625-4c9a-abff-061875ab6f22",
   "metadata": {
    "ExecuteTime": {
     "end_time": "2025-09-28T23:09:26.733060Z",
     "start_time": "2025-09-28T23:09:26.720618Z"
    }
   },
   "source": [
    "le = ElasticNet(alpha = 10)\n",
    "le.fit(X_train_scaled, y_train)\n",
    "y_pred = le.predict(X_train_scaled)\n",
    "r2_score(y_train, y_pred)"
   ],
   "outputs": [
    {
     "data": {
      "text/plain": [
       "0.42079696327792715"
      ]
     },
     "execution_count": 107,
     "metadata": {},
     "output_type": "execute_result"
    }
   ],
   "execution_count": 107
  },
  {
   "cell_type": "code",
   "id": "1b2da652-bd5b-4211-b7bc-fa3b1ebd4369",
   "metadata": {
    "ExecuteTime": {
     "end_time": "2025-09-28T23:09:26.738798Z",
     "start_time": "2025-09-28T23:09:26.736668Z"
    }
   },
   "source": [
    "le.intercept_"
   ],
   "outputs": [
    {
     "data": {
      "text/plain": [
       "177747.69771428572"
      ]
     },
     "execution_count": 108,
     "metadata": {},
     "output_type": "execute_result"
    }
   ],
   "execution_count": 108
  },
  {
   "cell_type": "code",
   "id": "6d4d6c50-a4f9-4c87-a268-30ecd603e8d6",
   "metadata": {
    "ExecuteTime": {
     "end_time": "2025-09-28T23:09:26.757143Z",
     "start_time": "2025-09-28T23:09:26.755034Z"
    }
   },
   "source": [
    "le.coef_"
   ],
   "outputs": [
    {
     "data": {
      "text/plain": [
       "array([35987.42300894, 25747.36578807, 10649.07508629,   714.14108253])"
      ]
     },
     "execution_count": 109,
     "metadata": {},
     "output_type": "execute_result"
    }
   ],
   "execution_count": 109
  },
  {
   "cell_type": "markdown",
   "id": "cac1ab83-cfbd-4d23-bc38-98b8506a0108",
   "metadata": {},
   "source": [
    "#### Interpretación"
   ]
  },
  {
   "cell_type": "markdown",
   "id": "d310b32a-5b64-48a7-89ac-9f4dc889056f",
   "metadata": {},
   "source": [
    "Cuando probamos Elastic Net en el conjunto de entrenamiento, vimos que el valor de alpha cambia mucho el resultado. Con alpha = 0.1, el modelo tuvo un R2 = 0.9819, lo que significa que explica casi el 98% de la variación de las ventas, y los coeficientes quedaron en valores moderados. Al aumentar a alpha = 1, el R2 bajó a 0.8801, y los coeficientes crecieron un poco más. Finalmente, con alpha = 10, el R2 cayó fuertemente a 0.4208, lo que significa que el modelo ya casi no explica bien los datos, y además los coeficientes se inflaron mucho."
   ]
  },
  {
   "cell_type": "markdown",
   "id": "5bd815bc-a93b-46ec-9390-a521fdae5b29",
   "metadata": {},
   "source": [
    "### ElasticNet Test"
   ]
  },
  {
   "cell_type": "code",
   "id": "c2e69a91-95f4-4f45-8b4f-6a29986e77d4",
   "metadata": {
    "ExecuteTime": {
     "end_time": "2025-09-28T23:09:26.775027Z",
     "start_time": "2025-09-28T23:09:26.771848Z"
    }
   },
   "source": [
    "le = Lasso(alpha = 0.1)\n",
    "le.fit(X_test_scaled, y_test)\n",
    "y_pred_test = le.predict(X_test_scaled)\n",
    "r2_score(y_test, y_pred_test)"
   ],
   "outputs": [
    {
     "data": {
      "text/plain": [
       "0.9871901733679374"
      ]
     },
     "execution_count": 110,
     "metadata": {},
     "output_type": "execute_result"
    }
   ],
   "execution_count": 110
  },
  {
   "cell_type": "code",
   "id": "0157500d-37ef-469d-9e34-2ff464192bb1",
   "metadata": {
    "ExecuteTime": {
     "end_time": "2025-09-28T23:09:26.782528Z",
     "start_time": "2025-09-28T23:09:26.780642Z"
    }
   },
   "source": [
    "le.intercept_"
   ],
   "outputs": [
    {
     "data": {
      "text/plain": [
       "175177.718450723"
      ]
     },
     "execution_count": 111,
     "metadata": {},
     "output_type": "execute_result"
    }
   ],
   "execution_count": 111
  },
  {
   "cell_type": "code",
   "id": "5d3079f3-1811-4a56-8ad5-e9e3ac1eea42",
   "metadata": {
    "ExecuteTime": {
     "end_time": "2025-09-28T23:09:26.791589Z",
     "start_time": "2025-09-28T23:09:26.789457Z"
    }
   },
   "source": [
    "le.coef_"
   ],
   "outputs": [
    {
     "data": {
      "text/plain": [
       "array([249775.50741897, -18383.67925253,  -1355.88258514,   1328.86497025])"
      ]
     },
     "execution_count": 112,
     "metadata": {},
     "output_type": "execute_result"
    }
   ],
   "execution_count": 112
  },
  {
   "cell_type": "code",
   "id": "5f36d102-de16-4cff-ab75-ae3a8dd4257c",
   "metadata": {
    "ExecuteTime": {
     "end_time": "2025-09-28T23:09:26.804722Z",
     "start_time": "2025-09-28T23:09:26.801673Z"
    }
   },
   "source": [
    "le = Lasso(alpha = 1)\n",
    "le.fit(X_test_scaled, y_test)\n",
    "y_pred_test = le.predict(X_test_scaled)\n",
    "r2_score(y_test, y_pred_test)"
   ],
   "outputs": [
    {
     "data": {
      "text/plain": [
       "0.9871901731369351"
      ]
     },
     "execution_count": 113,
     "metadata": {},
     "output_type": "execute_result"
    }
   ],
   "execution_count": 113
  },
  {
   "cell_type": "code",
   "id": "6dc5a1bb-89a2-408e-acf4-133f7a42f979",
   "metadata": {
    "ExecuteTime": {
     "end_time": "2025-09-28T23:09:26.814865Z",
     "start_time": "2025-09-28T23:09:26.812861Z"
    }
   },
   "source": [
    "le.intercept_"
   ],
   "outputs": [
    {
     "data": {
      "text/plain": [
       "175177.6668790574"
      ]
     },
     "execution_count": 114,
     "metadata": {},
     "output_type": "execute_result"
    }
   ],
   "execution_count": 114
  },
  {
   "cell_type": "code",
   "id": "2ff961ee-153a-4e70-87d0-c6cce489e52f",
   "metadata": {
    "ExecuteTime": {
     "end_time": "2025-09-28T23:09:26.826796Z",
     "start_time": "2025-09-28T23:09:26.824827Z"
    }
   },
   "source": [
    "le.coef_"
   ],
   "outputs": [
    {
     "data": {
      "text/plain": [
       "array([249770.85390461, -18379.54340528,  -1354.65113313,   1328.13236101])"
      ]
     },
     "execution_count": 115,
     "metadata": {},
     "output_type": "execute_result"
    }
   ],
   "execution_count": 115
  },
  {
   "cell_type": "code",
   "id": "c3f53b78-fafe-4c08-92f6-7f7fb8688d5c",
   "metadata": {
    "ExecuteTime": {
     "end_time": "2025-09-28T23:09:26.838385Z",
     "start_time": "2025-09-28T23:09:26.835526Z"
    }
   },
   "source": [
    "le = Lasso(alpha = 10)\n",
    "le.fit(X_test_scaled, y_test)\n",
    "y_pred_test = le.predict(X_test_scaled)\n",
    "r2_score(y_test, y_pred_test)"
   ],
   "outputs": [
    {
     "data": {
      "text/plain": [
       "0.9871901504223625"
      ]
     },
     "execution_count": 116,
     "metadata": {},
     "output_type": "execute_result"
    }
   ],
   "execution_count": 116
  },
  {
   "cell_type": "code",
   "id": "e82f367b-c36f-4a4e-93b6-355d20e4ea4d",
   "metadata": {
    "ExecuteTime": {
     "end_time": "2025-09-28T23:09:26.848936Z",
     "start_time": "2025-09-28T23:09:26.846643Z"
    }
   },
   "source": [
    "le.intercept_"
   ],
   "outputs": [
    {
     "data": {
      "text/plain": [
       "175177.15360333084"
      ]
     },
     "execution_count": 117,
     "metadata": {},
     "output_type": "execute_result"
    }
   ],
   "execution_count": 117
  },
  {
   "cell_type": "code",
   "id": "a1c41e66-4ce1-4011-9fa4-d53b97093004",
   "metadata": {
    "ExecuteTime": {
     "end_time": "2025-09-28T23:09:26.859647Z",
     "start_time": "2025-09-28T23:09:26.857721Z"
    }
   },
   "source": [
    "le.coef_"
   ],
   "outputs": [
    {
     "data": {
      "text/plain": [
       "array([249724.95991578, -18338.625528  ,  -1342.43072656,   1320.78165814])"
      ]
     },
     "execution_count": 118,
     "metadata": {},
     "output_type": "execute_result"
    }
   ],
   "execution_count": 118
  },
  {
   "cell_type": "markdown",
   "id": "3a4a3506-c09e-45c6-9658-2d21e40bd0ad",
   "metadata": {},
   "source": [
    "#### Interpretación"
   ]
  },
  {
   "cell_type": "markdown",
   "id": "2edb59fe-7661-4615-8510-5e7141ab1bd7",
   "metadata": {},
   "source": [
    "En el modelo ElasticNet Test, se probaron diferentes valores de alpha (0.1, 1 y 10) y los resultados muestran que el desempeño del modelo, medido con R2, se mantiene prácticamente igual en todos los casos. Esto quiere decir que el ajuste del modelo a los datos de prueba no cambia mucho al variar alpha. Lo que si cambiaron fueron los betas, por ejemplo, con un alpha pequeño los valores de los parámetros son un poco más grandes en magnitud, mientras que al aumentar alpha estos coeficientes se reducen ligeramente y se hacen más pequeños. Aumentar alpha hace que los coeficientes se reduzcan ligeramente en magnitud, pero sin afectar demasiado la capacidad predictiva del modelo."
   ]
  },
  {
   "metadata": {},
   "cell_type": "markdown",
   "source": [
    "---\n",
    "\n",
    "### 2. Polinomial (grado 2)"
   ],
   "id": "7c08fdcdd85db400"
  },
  {
   "cell_type": "code",
   "id": "c8c22142-28fe-4806-af82-472f01fd0ba7",
   "metadata": {
    "ExecuteTime": {
     "end_time": "2025-09-28T23:09:26.877491Z",
     "start_time": "2025-09-28T23:09:26.876095Z"
    }
   },
   "source": [],
   "outputs": [],
   "execution_count": null
  },
  {
   "cell_type": "code",
   "id": "c3de00af-4522-463c-b431-ba56d03204b3",
   "metadata": {
    "ExecuteTime": {
     "end_time": "2025-09-28T23:09:26.888219Z",
     "start_time": "2025-09-28T23:09:26.887001Z"
    }
   },
   "source": [],
   "outputs": [],
   "execution_count": null
  },
  {
   "metadata": {},
   "cell_type": "markdown",
   "source": [
    "---\n",
    "### 3. Lineal Múltiple usando Precio Efectivo (variale obtenida)"
   ],
   "id": "9443bccb7b358cb9"
  },
  {
   "metadata": {
    "ExecuteTime": {
     "end_time": "2025-09-29T00:14:52.081059Z",
     "start_time": "2025-09-29T00:14:52.075814Z"
    }
   },
   "cell_type": "code",
   "source": [
    "#Preparar los datos para mi modelo\n",
    "data_3 = data.copy()\n",
    "\n",
    "# Columna precio efectivo\n",
    "data_3['Precio_efectivo'] = data_3['Sale Price'] - (data_3['Discounts'] / data_3['Units Sold'])\n",
    "\n",
    "# Columnas dummies\n",
    "dummy_cols = []\n",
    "for col in data_3.columns:\n",
    "    if col.startswith(('Segment_', 'Country_', 'Product_')):\n",
    "        dummy_cols.append(col)\n",
    "\n",
    "y = data_3['Profit']\n",
    "X = data_3[['Units Sold', 'Precio_efectivo'] + dummy_cols]\n",
    "\n",
    "X_train, X_test, y_train, y_test = train_test_split(X, y, train_size = 0.4, random_state = 137)"
   ],
   "id": "f26b9553ccb03c80",
   "outputs": [],
   "execution_count": 134
  },
  {
   "metadata": {},
   "cell_type": "markdown",
   "source": "#### Regresiones utilizando los datos de entrenamiento",
   "id": "568a2967ae74ad67"
  },
  {
   "metadata": {
    "ExecuteTime": {
     "end_time": "2025-09-29T00:14:52.950178Z",
     "start_time": "2025-09-29T00:14:52.934844Z"
    }
   },
   "cell_type": "code",
   "source": [
    "# Sin penalización\n",
    "\n",
    "# Escalamiento\n",
    "scaler = StandardScaler().fit(X_train)\n",
    "X_scaled_train= scaler.transform(X_train)\n",
    "\n",
    "n=len(X_scaled_train)\n",
    "unos = np.ones([n,1])\n",
    "\n",
    "X = np.hstack([unos, X_scaled_train])\n",
    "ols = sm.OLS(y_train,X)\n",
    "results = ols.fit()\n",
    "results.summary()"
   ],
   "id": "8ed9ada94d60257a",
   "outputs": [
    {
     "data": {
      "text/plain": [
       "<class 'statsmodels.iolib.summary.Summary'>\n",
       "\"\"\"\n",
       "                            OLS Regression Results                            \n",
       "==============================================================================\n",
       "Dep. Variable:                 Profit   R-squared:                       0.763\n",
       "Model:                            OLS   Adj. R-squared:                  0.750\n",
       "Method:                 Least Squares   F-statistic:                     56.69\n",
       "Date:                Sun, 28 Sep 2025   Prob (F-statistic):           1.89e-73\n",
       "Time:                        18:14:52   Log-Likelihood:                -3199.5\n",
       "No. Observations:                 280   AIC:                             6431.\n",
       "Df Residuals:                     264   BIC:                             6489.\n",
       "Df Model:                          15                                         \n",
       "Covariance Type:            nonrobust                                         \n",
       "==============================================================================\n",
       "                 coef    std err          t      P>|t|      [0.025      0.975]\n",
       "------------------------------------------------------------------------------\n",
       "const       2.617e+04   1366.178     19.158      0.000    2.35e+04    2.89e+04\n",
       "x1          1.296e+04   1446.333      8.958      0.000    1.01e+04    1.58e+04\n",
       "x2          4.131e+04   1763.861     23.422      0.000    3.78e+04    4.48e+04\n",
       "x3         -1.953e+04   1894.345    -10.312      0.000   -2.33e+04   -1.58e+04\n",
       "x4         -4750.1886   2252.833     -2.109      0.036   -9185.995    -314.382\n",
       "x5         -3625.3333   1796.309     -2.018      0.045   -7162.249     -88.418\n",
       "x6         -2.077e+04   2206.906     -9.413      0.000   -2.51e+04   -1.64e+04\n",
       "x7          -506.5224   1683.500     -0.301      0.764   -3821.318    2808.274\n",
       "x8          1081.4579   1739.686      0.622      0.535   -2343.968    4506.884\n",
       "x9         -1529.7429   1758.790     -0.870      0.385   -4992.784    1933.299\n",
       "x10        -2835.1989   1744.915     -1.625      0.105   -6270.920     600.522\n",
       "x11         -884.5498   1784.355     -0.496      0.621   -4397.929    2628.829\n",
       "x12         -926.6090   1775.452     -0.522      0.602   -4422.458    2569.240\n",
       "x13        -1182.5122   1946.416     -0.608      0.544   -5014.987    2649.962\n",
       "x14         1195.0669   1775.030      0.673      0.501   -2299.951    4690.085\n",
       "x15          212.5041   1892.859      0.112      0.911   -3514.517    3939.525\n",
       "==============================================================================\n",
       "Omnibus:                       85.892   Durbin-Watson:                   1.983\n",
       "Prob(Omnibus):                  0.000   Jarque-Bera (JB):              525.558\n",
       "Skew:                           1.081   Prob(JB):                    7.52e-115\n",
       "Kurtosis:                       9.354   Cond. No.                         3.42\n",
       "==============================================================================\n",
       "\n",
       "Notes:\n",
       "[1] Standard Errors assume that the covariance matrix of the errors is correctly specified.\n",
       "\"\"\""
      ],
      "text/html": [
       "<table class=\"simpletable\">\n",
       "<caption>OLS Regression Results</caption>\n",
       "<tr>\n",
       "  <th>Dep. Variable:</th>         <td>Profit</td>      <th>  R-squared:         </th> <td>   0.763</td>\n",
       "</tr>\n",
       "<tr>\n",
       "  <th>Model:</th>                   <td>OLS</td>       <th>  Adj. R-squared:    </th> <td>   0.750</td>\n",
       "</tr>\n",
       "<tr>\n",
       "  <th>Method:</th>             <td>Least Squares</td>  <th>  F-statistic:       </th> <td>   56.69</td>\n",
       "</tr>\n",
       "<tr>\n",
       "  <th>Date:</th>             <td>Sun, 28 Sep 2025</td> <th>  Prob (F-statistic):</th> <td>1.89e-73</td>\n",
       "</tr>\n",
       "<tr>\n",
       "  <th>Time:</th>                 <td>18:14:52</td>     <th>  Log-Likelihood:    </th> <td> -3199.5</td>\n",
       "</tr>\n",
       "<tr>\n",
       "  <th>No. Observations:</th>      <td>   280</td>      <th>  AIC:               </th> <td>   6431.</td>\n",
       "</tr>\n",
       "<tr>\n",
       "  <th>Df Residuals:</th>          <td>   264</td>      <th>  BIC:               </th> <td>   6489.</td>\n",
       "</tr>\n",
       "<tr>\n",
       "  <th>Df Model:</th>              <td>    15</td>      <th>                     </th>     <td> </td>   \n",
       "</tr>\n",
       "<tr>\n",
       "  <th>Covariance Type:</th>      <td>nonrobust</td>    <th>                     </th>     <td> </td>   \n",
       "</tr>\n",
       "</table>\n",
       "<table class=\"simpletable\">\n",
       "<tr>\n",
       "    <td></td>       <th>coef</th>     <th>std err</th>      <th>t</th>      <th>P>|t|</th>  <th>[0.025</th>    <th>0.975]</th>  \n",
       "</tr>\n",
       "<tr>\n",
       "  <th>const</th> <td> 2.617e+04</td> <td> 1366.178</td> <td>   19.158</td> <td> 0.000</td> <td> 2.35e+04</td> <td> 2.89e+04</td>\n",
       "</tr>\n",
       "<tr>\n",
       "  <th>x1</th>    <td> 1.296e+04</td> <td> 1446.333</td> <td>    8.958</td> <td> 0.000</td> <td> 1.01e+04</td> <td> 1.58e+04</td>\n",
       "</tr>\n",
       "<tr>\n",
       "  <th>x2</th>    <td> 4.131e+04</td> <td> 1763.861</td> <td>   23.422</td> <td> 0.000</td> <td> 3.78e+04</td> <td> 4.48e+04</td>\n",
       "</tr>\n",
       "<tr>\n",
       "  <th>x3</th>    <td>-1.953e+04</td> <td> 1894.345</td> <td>  -10.312</td> <td> 0.000</td> <td>-2.33e+04</td> <td>-1.58e+04</td>\n",
       "</tr>\n",
       "<tr>\n",
       "  <th>x4</th>    <td>-4750.1886</td> <td> 2252.833</td> <td>   -2.109</td> <td> 0.036</td> <td>-9185.995</td> <td> -314.382</td>\n",
       "</tr>\n",
       "<tr>\n",
       "  <th>x5</th>    <td>-3625.3333</td> <td> 1796.309</td> <td>   -2.018</td> <td> 0.045</td> <td>-7162.249</td> <td>  -88.418</td>\n",
       "</tr>\n",
       "<tr>\n",
       "  <th>x6</th>    <td>-2.077e+04</td> <td> 2206.906</td> <td>   -9.413</td> <td> 0.000</td> <td>-2.51e+04</td> <td>-1.64e+04</td>\n",
       "</tr>\n",
       "<tr>\n",
       "  <th>x7</th>    <td> -506.5224</td> <td> 1683.500</td> <td>   -0.301</td> <td> 0.764</td> <td>-3821.318</td> <td> 2808.274</td>\n",
       "</tr>\n",
       "<tr>\n",
       "  <th>x8</th>    <td> 1081.4579</td> <td> 1739.686</td> <td>    0.622</td> <td> 0.535</td> <td>-2343.968</td> <td> 4506.884</td>\n",
       "</tr>\n",
       "<tr>\n",
       "  <th>x9</th>    <td>-1529.7429</td> <td> 1758.790</td> <td>   -0.870</td> <td> 0.385</td> <td>-4992.784</td> <td> 1933.299</td>\n",
       "</tr>\n",
       "<tr>\n",
       "  <th>x10</th>   <td>-2835.1989</td> <td> 1744.915</td> <td>   -1.625</td> <td> 0.105</td> <td>-6270.920</td> <td>  600.522</td>\n",
       "</tr>\n",
       "<tr>\n",
       "  <th>x11</th>   <td> -884.5498</td> <td> 1784.355</td> <td>   -0.496</td> <td> 0.621</td> <td>-4397.929</td> <td> 2628.829</td>\n",
       "</tr>\n",
       "<tr>\n",
       "  <th>x12</th>   <td> -926.6090</td> <td> 1775.452</td> <td>   -0.522</td> <td> 0.602</td> <td>-4422.458</td> <td> 2569.240</td>\n",
       "</tr>\n",
       "<tr>\n",
       "  <th>x13</th>   <td>-1182.5122</td> <td> 1946.416</td> <td>   -0.608</td> <td> 0.544</td> <td>-5014.987</td> <td> 2649.962</td>\n",
       "</tr>\n",
       "<tr>\n",
       "  <th>x14</th>   <td> 1195.0669</td> <td> 1775.030</td> <td>    0.673</td> <td> 0.501</td> <td>-2299.951</td> <td> 4690.085</td>\n",
       "</tr>\n",
       "<tr>\n",
       "  <th>x15</th>   <td>  212.5041</td> <td> 1892.859</td> <td>    0.112</td> <td> 0.911</td> <td>-3514.517</td> <td> 3939.525</td>\n",
       "</tr>\n",
       "</table>\n",
       "<table class=\"simpletable\">\n",
       "<tr>\n",
       "  <th>Omnibus:</th>       <td>85.892</td> <th>  Durbin-Watson:     </th> <td>   1.983</td> \n",
       "</tr>\n",
       "<tr>\n",
       "  <th>Prob(Omnibus):</th> <td> 0.000</td> <th>  Jarque-Bera (JB):  </th> <td> 525.558</td> \n",
       "</tr>\n",
       "<tr>\n",
       "  <th>Skew:</th>          <td> 1.081</td> <th>  Prob(JB):          </th> <td>7.52e-115</td>\n",
       "</tr>\n",
       "<tr>\n",
       "  <th>Kurtosis:</th>      <td> 9.354</td> <th>  Cond. No.          </th> <td>    3.42</td> \n",
       "</tr>\n",
       "</table><br/><br/>Notes:<br/>[1] Standard Errors assume that the covariance matrix of the errors is correctly specified."
      ],
      "text/latex": "\\begin{center}\n\\begin{tabular}{lclc}\n\\toprule\n\\textbf{Dep. Variable:}    &      Profit      & \\textbf{  R-squared:         } &     0.763   \\\\\n\\textbf{Model:}            &       OLS        & \\textbf{  Adj. R-squared:    } &     0.750   \\\\\n\\textbf{Method:}           &  Least Squares   & \\textbf{  F-statistic:       } &     56.69   \\\\\n\\textbf{Date:}             & Sun, 28 Sep 2025 & \\textbf{  Prob (F-statistic):} &  1.89e-73   \\\\\n\\textbf{Time:}             &     18:14:52     & \\textbf{  Log-Likelihood:    } &   -3199.5   \\\\\n\\textbf{No. Observations:} &         280      & \\textbf{  AIC:               } &     6431.   \\\\\n\\textbf{Df Residuals:}     &         264      & \\textbf{  BIC:               } &     6489.   \\\\\n\\textbf{Df Model:}         &          15      & \\textbf{                     } &             \\\\\n\\textbf{Covariance Type:}  &    nonrobust     & \\textbf{                     } &             \\\\\n\\bottomrule\n\\end{tabular}\n\\begin{tabular}{lcccccc}\n               & \\textbf{coef} & \\textbf{std err} & \\textbf{t} & \\textbf{P$> |$t$|$} & \\textbf{[0.025} & \\textbf{0.975]}  \\\\\n\\midrule\n\\textbf{const} &    2.617e+04  &     1366.178     &    19.158  &         0.000        &     2.35e+04    &     2.89e+04     \\\\\n\\textbf{x1}    &    1.296e+04  &     1446.333     &     8.958  &         0.000        &     1.01e+04    &     1.58e+04     \\\\\n\\textbf{x2}    &    4.131e+04  &     1763.861     &    23.422  &         0.000        &     3.78e+04    &     4.48e+04     \\\\\n\\textbf{x3}    &   -1.953e+04  &     1894.345     &   -10.312  &         0.000        &    -2.33e+04    &    -1.58e+04     \\\\\n\\textbf{x4}    &   -4750.1886  &     2252.833     &    -2.109  &         0.036        &    -9185.995    &     -314.382     \\\\\n\\textbf{x5}    &   -3625.3333  &     1796.309     &    -2.018  &         0.045        &    -7162.249    &      -88.418     \\\\\n\\textbf{x6}    &   -2.077e+04  &     2206.906     &    -9.413  &         0.000        &    -2.51e+04    &    -1.64e+04     \\\\\n\\textbf{x7}    &    -506.5224  &     1683.500     &    -0.301  &         0.764        &    -3821.318    &     2808.274     \\\\\n\\textbf{x8}    &    1081.4579  &     1739.686     &     0.622  &         0.535        &    -2343.968    &     4506.884     \\\\\n\\textbf{x9}    &   -1529.7429  &     1758.790     &    -0.870  &         0.385        &    -4992.784    &     1933.299     \\\\\n\\textbf{x10}   &   -2835.1989  &     1744.915     &    -1.625  &         0.105        &    -6270.920    &      600.522     \\\\\n\\textbf{x11}   &    -884.5498  &     1784.355     &    -0.496  &         0.621        &    -4397.929    &     2628.829     \\\\\n\\textbf{x12}   &    -926.6090  &     1775.452     &    -0.522  &         0.602        &    -4422.458    &     2569.240     \\\\\n\\textbf{x13}   &   -1182.5122  &     1946.416     &    -0.608  &         0.544        &    -5014.987    &     2649.962     \\\\\n\\textbf{x14}   &    1195.0669  &     1775.030     &     0.673  &         0.501        &    -2299.951    &     4690.085     \\\\\n\\textbf{x15}   &     212.5041  &     1892.859     &     0.112  &         0.911        &    -3514.517    &     3939.525     \\\\\n\\bottomrule\n\\end{tabular}\n\\begin{tabular}{lclc}\n\\textbf{Omnibus:}       & 85.892 & \\textbf{  Durbin-Watson:     } &     1.983  \\\\\n\\textbf{Prob(Omnibus):} &  0.000 & \\textbf{  Jarque-Bera (JB):  } &   525.558  \\\\\n\\textbf{Skew:}          &  1.081 & \\textbf{  Prob(JB):          } & 7.52e-115  \\\\\n\\textbf{Kurtosis:}      &  9.354 & \\textbf{  Cond. No.          } &      3.42  \\\\\n\\bottomrule\n\\end{tabular}\n%\\caption{OLS Regression Results}\n\\end{center}\n\nNotes: \\newline\n [1] Standard Errors assume that the covariance matrix of the errors is correctly specified."
     },
     "execution_count": 135,
     "metadata": {},
     "output_type": "execute_result"
    }
   ],
   "execution_count": 135
  },
  {
   "metadata": {},
   "cell_type": "markdown",
   "source": [
    "**Interpretación Regresión sin penalización con datos de entrenamiento**\n",
    "\n",
    "* El modelo tiene un R^2 de 0.763 el cual nos dice que hay una variabilidad del profit del 76.3%\n",
    "* Units sold cuenta con un coeficiente positivo y con significancia estadistica, lo cual nos dice que a mayor volumen de ventas más profit\n",
    "* El precio efectivo también cuenta con un coeficiente positivo y con significancia estadistica, lo cual nos dice que precios netos más altos, ajustados por descuentos, incrementan el Profit.\n",
    "* Varios segmentos con significancia estadistica cuentan con coeficientes positivos lo cual nos dice que reducen el profic, segmentos como Enterprise, Government, Midmarket, Small Business reducen el Profit frente al segmento base Consumer.\n",
    "* Las varriables de los paises no cuentan con signifciancia estadistica, lo cual nos dice que no afecta en el profit"
   ],
   "id": "ee738916ec448868"
  },
  {
   "metadata": {
    "ExecuteTime": {
     "end_time": "2025-09-29T00:34:45.597558Z",
     "start_time": "2025-09-29T00:34:45.594389Z"
    }
   },
   "cell_type": "code",
   "source": [
    "# Con penalización Ridge\n",
    "l2 = Ridge(alpha = 0.1)\n",
    "l2.fit(X_scaled_train, y_train)\n",
    "y_pred = l2.predict(X_scaled_train)\n",
    "r2 = r2_score(y_train, y_pred)\n",
    "\n",
    "print(f\"R2: {r2}\")\n",
    "print(f\"Constante: {l2.intercept_}\")\n",
    "print(f\"Coeficiente: {l2.coef_}\")"
   ],
   "id": "99a14d11ca28c8f",
   "outputs": [
    {
     "name": "stdout",
     "output_type": "stream",
     "text": [
      "R2: 0.7631008110612786\n",
      "Constante: 26173.29235714285\n",
      "Coeficiente: [ 12949.65770228  41275.42041014 -19500.06439073  -4708.23589834\n",
      "  -3607.91095061 -20723.30285169   -507.2792443    1079.00610192\n",
      "  -1528.15779965  -2835.08640722   -880.45467747   -923.28484867\n",
      "  -1181.07156767   1193.00015638    212.11039169]\n"
     ]
    }
   ],
   "execution_count": 141
  },
  {
   "metadata": {},
   "cell_type": "markdown",
   "source": [
    "**Interpretación Regresión con penalización Ridge (α = 0.1) con datos de entrenamiento**\n",
    "\n",
    "* El modelo tiene un R² de 0.763, lo que significa que explica el 76.3% de la variabilidad del Profit, prácticamente igual que el modelo sin penalización.\n",
    "* Units Sold mantiene un coeficiente positivo y fuerte, lo cual confirma que un mayor volumen de ventas incrementa significativamente el Profit.\n",
    "* Precio efectivo también conserva un coeficiente positivo y elevado, mostrando que precios netos más altos (después de descuentos) aumentan el Profit.\n",
    " * Los segmentos (Enterprise, Government, Midmarket y Small Business) presentan coeficientes negativos, lo que indica que reducen el Profit frente al segmento base (Consumer). Ridge suavizó ligeramente estos valores, pero el efecto sigue siendo claro.\n",
    "  * Las variables de países y productos fueron empujadas más cerca de cero y no muestran un efecto relevante en el Profit, lo que confirma que su influencia es poco significativa en este modelo.\n"
   ],
   "id": "4830a7976e0b1206"
  },
  {
   "metadata": {
    "ExecuteTime": {
     "end_time": "2025-09-29T00:43:27.860278Z",
     "start_time": "2025-09-29T00:43:27.854382Z"
    }
   },
   "cell_type": "code",
   "source": [
    "# Con penalización Lasso\n",
    "l1 = Lasso(alpha = 0.1)\n",
    "l1.fit(X_scaled_train, y_train)\n",
    "y_pred = l1.predict(X_scaled_train)\n",
    "r2 = r2_score(y_train, y_pred)\n",
    "\n",
    "print(f\"R2: {r2}\")\n",
    "print(f\"Constante: {l1.intercept_}\")\n",
    "print(f\"Coeficiente: {l1.coef_}\")"
   ],
   "id": "98e8810130408988",
   "outputs": [
    {
     "name": "stdout",
     "output_type": "stream",
     "text": [
      "R2: 0.7631014326594544\n",
      "Constante: 26173.29235714285\n",
      "Coeficiente: [ 12955.75519359  41313.22553347 -19533.00529492  -4749.31312881\n",
      "  -3624.81863301 -20772.2458942    -506.33696028   1081.43398179\n",
      "  -1529.49533529  -2834.96647978   -884.26135517   -926.36844669\n",
      "  -1182.28647016   1195.04028301    212.53204218]\n"
     ]
    }
   ],
   "execution_count": 142
  },
  {
   "metadata": {},
   "cell_type": "markdown",
   "source": [
    "**Interpretación Regresión con penalización Lasso (α = 0.1) con datos de entrenamiento**\n",
    "\n",
    "* El modelo tiene un R² de 0.763, lo que significa que explica aproximadamente el 76.3% de la variabilidad del Profit, igual que en los modelos sin penalización y con Ridge.\n",
    "* Units Sold mantiene un coeficiente positivo y fuerte, confirmando que un mayor volumen de ventas incrementa significativamente el Profit.\n",
    "* El Precio efectivo conserva un coeficiente positivo y elevado, lo que indica que precios netos más altos (después de aplicar descuentos) aumentan el Profit.\n",
    "* Los segmentos (Enterprise, Government, Midmarket y Small Business) presentan coeficientes negativos, reduciendo el Profit en comparación con el segmento base (Consumer).\n",
    "* Las variables de países y productos muestran coeficientes más pequeños y cercanos a cero, lo que refleja que Lasso está reduciendo la relevancia de factores con poca contribución al modelo.\n",
    "* A diferencia de Ridge, Lasso puede llevar a cero coeficientes irrelevantes si el α es más alto; en este caso (α = 0.1), los coeficientes se reducen pero aún no desaparecen por completo.\n"
   ],
   "id": "47c6b70b205b40e9"
  },
  {
   "metadata": {
    "ExecuteTime": {
     "end_time": "2025-09-29T00:51:29.776211Z",
     "start_time": "2025-09-29T00:51:29.767746Z"
    }
   },
   "cell_type": "code",
   "source": [
    "# Penalización elastic net\n",
    "le = ElasticNet(alpha = 0.1)\n",
    "le.fit(X_scaled_train, y_train)\n",
    "y_pred = le.predict(X_scaled_train)\n",
    "r2 = r2_score(y_train, y_pred)\n",
    "\n",
    "print(f\"R2: {r2}\")\n",
    "print(f\"Constante: {le.intercept_}\")\n",
    "print(f\"Coeficiente: {le.coef_}\")"
   ],
   "id": "74a7fe791020f736",
   "outputs": [
    {
     "name": "stdout",
     "output_type": "stream",
     "text": [
      "R2: 0.7554496103202067\n",
      "Constante: 26173.29235714285\n",
      "Coeficiente: [ 12175.42614909  36895.07797075 -15984.71130088   -475.20720913\n",
      "  -1983.70966417 -15435.5491577    -542.04681855    857.61078214\n",
      "  -1347.83836641  -2775.74546352   -517.76784366   -588.44323343\n",
      "  -1049.43699113    946.35728316    107.04535165]\n"
     ]
    }
   ],
   "execution_count": 143
  },
  {
   "metadata": {},
   "cell_type": "markdown",
   "source": [
    "**Interpretación Regresión con penalización Elastic Net (α = 0.1) con datos de entrenamiento**\n",
    "\n",
    "* El modelo tiene un R² de 0.755, lo que significa que explica aproximadamente el 75.5% de la variabilidad del Profit, ligeramente menor que en los modelos sin penalización, Ridge y Lasso.\n",
    "* Units Sold mantiene un coeficiente positivo y fuerte, confirmando que el volumen de ventas incrementa de forma significativa el Profit.\n",
    "* El Precio efectivo conserva un coeficiente positivo y elevado, mostrando que precios netos más altos, ajustados por descuentos, aumentan el Profit.\n",
    "* Los segmentos (Enterprise, Government, Midmarket y Small Business) siguen mostrando coeficientes negativos, reduciendo el Profit en comparación con el segmento base (Consumer). Sin embargo, Elastic Net los suaviza aún más respecto a Lasso y Ridge.\n",
    "* Las variables de países y productos son empujadas aún más cerca de cero, reforzando la idea de que su efecto sobre el Profit es poco relevante en este modelo."
   ],
   "id": "ac756ab931f5e49c"
  },
  {
   "metadata": {},
   "cell_type": "markdown",
   "source": "### Regresiones utilizando datos de prueba\n",
   "id": "67942e1288395b81"
  },
  {
   "metadata": {
    "ExecuteTime": {
     "end_time": "2025-09-29T00:57:48.249484Z",
     "start_time": "2025-09-29T00:57:48.229073Z"
    }
   },
   "cell_type": "code",
   "source": [
    "# Sin penalización\n",
    "\n",
    "# Escalamiento\n",
    "scaler = StandardScaler().fit(X_test)\n",
    "X_scaled_test= scaler.transform(X_test)\n",
    "\n",
    "n=len(X_scaled_test)\n",
    "unos = np.ones([n,1])\n",
    "\n",
    "X = np.hstack([unos, X_scaled_test])\n",
    "ols = sm.OLS(y_test,X)\n",
    "results = ols.fit()\n",
    "results.summary()"
   ],
   "id": "11f03174f9411d0e",
   "outputs": [
    {
     "data": {
      "text/plain": [
       "<class 'statsmodels.iolib.summary.Summary'>\n",
       "\"\"\"\n",
       "                            OLS Regression Results                            \n",
       "==============================================================================\n",
       "Dep. Variable:                 Profit   R-squared:                       0.699\n",
       "Model:                            OLS   Adj. R-squared:                  0.688\n",
       "Method:                 Least Squares   F-statistic:                     62.67\n",
       "Date:                Sun, 28 Sep 2025   Prob (F-statistic):           2.03e-95\n",
       "Time:                        18:57:48   Log-Likelihood:                -4800.8\n",
       "No. Observations:                 420   AIC:                             9634.\n",
       "Df Residuals:                     404   BIC:                             9698.\n",
       "Df Model:                          15                                         \n",
       "Covariance Type:            nonrobust                                         \n",
       "==============================================================================\n",
       "                 coef    std err          t      P>|t|      [0.025      0.975]\n",
       "------------------------------------------------------------------------------\n",
       "const       2.277e+04   1108.581     20.544      0.000    2.06e+04     2.5e+04\n",
       "x1          1.224e+04   1129.408     10.836      0.000       1e+04    1.45e+04\n",
       "x2          3.687e+04   1498.010     24.615      0.000    3.39e+04    3.98e+04\n",
       "x3         -1.803e+04   1543.797    -11.678      0.000   -2.11e+04    -1.5e+04\n",
       "x4         -2776.8668   1804.418     -1.539      0.125   -6324.088     770.354\n",
       "x5         -2938.1331   1493.280     -1.968      0.050   -5873.703      -2.563\n",
       "x6         -1.634e+04   1859.100     -8.787      0.000      -2e+04   -1.27e+04\n",
       "x7          2163.0945   1445.130      1.497      0.135    -677.820    5004.009\n",
       "x8          2798.3813   1445.749      1.936      0.054     -43.749    5640.511\n",
       "x9          1076.5090   1422.056      0.757      0.449   -1719.044    3872.062\n",
       "x10          491.5115   1410.660      0.348      0.728   -2281.639    3264.662\n",
       "x11        -1484.8338   1506.898     -0.985      0.325   -4447.174    1477.506\n",
       "x12         -892.9303   1506.781     -0.593      0.554   -3855.041    2069.181\n",
       "x13          147.4676   1767.345      0.083      0.934   -3326.874    3621.809\n",
       "x14        -1026.1179   1580.701     -0.649      0.517   -4133.545    2081.309\n",
       "x15          221.6500   1506.786      0.147      0.883   -2740.471    3183.771\n",
       "==============================================================================\n",
       "Omnibus:                      160.775   Durbin-Watson:                   2.028\n",
       "Prob(Omnibus):                  0.000   Jarque-Bera (JB):             1496.604\n",
       "Skew:                           1.363   Prob(JB):                         0.00\n",
       "Kurtosis:                      11.837   Cond. No.                         3.71\n",
       "==============================================================================\n",
       "\n",
       "Notes:\n",
       "[1] Standard Errors assume that the covariance matrix of the errors is correctly specified.\n",
       "\"\"\""
      ],
      "text/html": [
       "<table class=\"simpletable\">\n",
       "<caption>OLS Regression Results</caption>\n",
       "<tr>\n",
       "  <th>Dep. Variable:</th>         <td>Profit</td>      <th>  R-squared:         </th> <td>   0.699</td>\n",
       "</tr>\n",
       "<tr>\n",
       "  <th>Model:</th>                   <td>OLS</td>       <th>  Adj. R-squared:    </th> <td>   0.688</td>\n",
       "</tr>\n",
       "<tr>\n",
       "  <th>Method:</th>             <td>Least Squares</td>  <th>  F-statistic:       </th> <td>   62.67</td>\n",
       "</tr>\n",
       "<tr>\n",
       "  <th>Date:</th>             <td>Sun, 28 Sep 2025</td> <th>  Prob (F-statistic):</th> <td>2.03e-95</td>\n",
       "</tr>\n",
       "<tr>\n",
       "  <th>Time:</th>                 <td>18:57:48</td>     <th>  Log-Likelihood:    </th> <td> -4800.8</td>\n",
       "</tr>\n",
       "<tr>\n",
       "  <th>No. Observations:</th>      <td>   420</td>      <th>  AIC:               </th> <td>   9634.</td>\n",
       "</tr>\n",
       "<tr>\n",
       "  <th>Df Residuals:</th>          <td>   404</td>      <th>  BIC:               </th> <td>   9698.</td>\n",
       "</tr>\n",
       "<tr>\n",
       "  <th>Df Model:</th>              <td>    15</td>      <th>                     </th>     <td> </td>   \n",
       "</tr>\n",
       "<tr>\n",
       "  <th>Covariance Type:</th>      <td>nonrobust</td>    <th>                     </th>     <td> </td>   \n",
       "</tr>\n",
       "</table>\n",
       "<table class=\"simpletable\">\n",
       "<tr>\n",
       "    <td></td>       <th>coef</th>     <th>std err</th>      <th>t</th>      <th>P>|t|</th>  <th>[0.025</th>    <th>0.975]</th>  \n",
       "</tr>\n",
       "<tr>\n",
       "  <th>const</th> <td> 2.277e+04</td> <td> 1108.581</td> <td>   20.544</td> <td> 0.000</td> <td> 2.06e+04</td> <td>  2.5e+04</td>\n",
       "</tr>\n",
       "<tr>\n",
       "  <th>x1</th>    <td> 1.224e+04</td> <td> 1129.408</td> <td>   10.836</td> <td> 0.000</td> <td>    1e+04</td> <td> 1.45e+04</td>\n",
       "</tr>\n",
       "<tr>\n",
       "  <th>x2</th>    <td> 3.687e+04</td> <td> 1498.010</td> <td>   24.615</td> <td> 0.000</td> <td> 3.39e+04</td> <td> 3.98e+04</td>\n",
       "</tr>\n",
       "<tr>\n",
       "  <th>x3</th>    <td>-1.803e+04</td> <td> 1543.797</td> <td>  -11.678</td> <td> 0.000</td> <td>-2.11e+04</td> <td> -1.5e+04</td>\n",
       "</tr>\n",
       "<tr>\n",
       "  <th>x4</th>    <td>-2776.8668</td> <td> 1804.418</td> <td>   -1.539</td> <td> 0.125</td> <td>-6324.088</td> <td>  770.354</td>\n",
       "</tr>\n",
       "<tr>\n",
       "  <th>x5</th>    <td>-2938.1331</td> <td> 1493.280</td> <td>   -1.968</td> <td> 0.050</td> <td>-5873.703</td> <td>   -2.563</td>\n",
       "</tr>\n",
       "<tr>\n",
       "  <th>x6</th>    <td>-1.634e+04</td> <td> 1859.100</td> <td>   -8.787</td> <td> 0.000</td> <td>   -2e+04</td> <td>-1.27e+04</td>\n",
       "</tr>\n",
       "<tr>\n",
       "  <th>x7</th>    <td> 2163.0945</td> <td> 1445.130</td> <td>    1.497</td> <td> 0.135</td> <td> -677.820</td> <td> 5004.009</td>\n",
       "</tr>\n",
       "<tr>\n",
       "  <th>x8</th>    <td> 2798.3813</td> <td> 1445.749</td> <td>    1.936</td> <td> 0.054</td> <td>  -43.749</td> <td> 5640.511</td>\n",
       "</tr>\n",
       "<tr>\n",
       "  <th>x9</th>    <td> 1076.5090</td> <td> 1422.056</td> <td>    0.757</td> <td> 0.449</td> <td>-1719.044</td> <td> 3872.062</td>\n",
       "</tr>\n",
       "<tr>\n",
       "  <th>x10</th>   <td>  491.5115</td> <td> 1410.660</td> <td>    0.348</td> <td> 0.728</td> <td>-2281.639</td> <td> 3264.662</td>\n",
       "</tr>\n",
       "<tr>\n",
       "  <th>x11</th>   <td>-1484.8338</td> <td> 1506.898</td> <td>   -0.985</td> <td> 0.325</td> <td>-4447.174</td> <td> 1477.506</td>\n",
       "</tr>\n",
       "<tr>\n",
       "  <th>x12</th>   <td> -892.9303</td> <td> 1506.781</td> <td>   -0.593</td> <td> 0.554</td> <td>-3855.041</td> <td> 2069.181</td>\n",
       "</tr>\n",
       "<tr>\n",
       "  <th>x13</th>   <td>  147.4676</td> <td> 1767.345</td> <td>    0.083</td> <td> 0.934</td> <td>-3326.874</td> <td> 3621.809</td>\n",
       "</tr>\n",
       "<tr>\n",
       "  <th>x14</th>   <td>-1026.1179</td> <td> 1580.701</td> <td>   -0.649</td> <td> 0.517</td> <td>-4133.545</td> <td> 2081.309</td>\n",
       "</tr>\n",
       "<tr>\n",
       "  <th>x15</th>   <td>  221.6500</td> <td> 1506.786</td> <td>    0.147</td> <td> 0.883</td> <td>-2740.471</td> <td> 3183.771</td>\n",
       "</tr>\n",
       "</table>\n",
       "<table class=\"simpletable\">\n",
       "<tr>\n",
       "  <th>Omnibus:</th>       <td>160.775</td> <th>  Durbin-Watson:     </th> <td>   2.028</td>\n",
       "</tr>\n",
       "<tr>\n",
       "  <th>Prob(Omnibus):</th> <td> 0.000</td>  <th>  Jarque-Bera (JB):  </th> <td>1496.604</td>\n",
       "</tr>\n",
       "<tr>\n",
       "  <th>Skew:</th>          <td> 1.363</td>  <th>  Prob(JB):          </th> <td>    0.00</td>\n",
       "</tr>\n",
       "<tr>\n",
       "  <th>Kurtosis:</th>      <td>11.837</td>  <th>  Cond. No.          </th> <td>    3.71</td>\n",
       "</tr>\n",
       "</table><br/><br/>Notes:<br/>[1] Standard Errors assume that the covariance matrix of the errors is correctly specified."
      ],
      "text/latex": "\\begin{center}\n\\begin{tabular}{lclc}\n\\toprule\n\\textbf{Dep. Variable:}    &      Profit      & \\textbf{  R-squared:         } &     0.699   \\\\\n\\textbf{Model:}            &       OLS        & \\textbf{  Adj. R-squared:    } &     0.688   \\\\\n\\textbf{Method:}           &  Least Squares   & \\textbf{  F-statistic:       } &     62.67   \\\\\n\\textbf{Date:}             & Sun, 28 Sep 2025 & \\textbf{  Prob (F-statistic):} &  2.03e-95   \\\\\n\\textbf{Time:}             &     18:57:48     & \\textbf{  Log-Likelihood:    } &   -4800.8   \\\\\n\\textbf{No. Observations:} &         420      & \\textbf{  AIC:               } &     9634.   \\\\\n\\textbf{Df Residuals:}     &         404      & \\textbf{  BIC:               } &     9698.   \\\\\n\\textbf{Df Model:}         &          15      & \\textbf{                     } &             \\\\\n\\textbf{Covariance Type:}  &    nonrobust     & \\textbf{                     } &             \\\\\n\\bottomrule\n\\end{tabular}\n\\begin{tabular}{lcccccc}\n               & \\textbf{coef} & \\textbf{std err} & \\textbf{t} & \\textbf{P$> |$t$|$} & \\textbf{[0.025} & \\textbf{0.975]}  \\\\\n\\midrule\n\\textbf{const} &    2.277e+04  &     1108.581     &    20.544  &         0.000        &     2.06e+04    &      2.5e+04     \\\\\n\\textbf{x1}    &    1.224e+04  &     1129.408     &    10.836  &         0.000        &        1e+04    &     1.45e+04     \\\\\n\\textbf{x2}    &    3.687e+04  &     1498.010     &    24.615  &         0.000        &     3.39e+04    &     3.98e+04     \\\\\n\\textbf{x3}    &   -1.803e+04  &     1543.797     &   -11.678  &         0.000        &    -2.11e+04    &     -1.5e+04     \\\\\n\\textbf{x4}    &   -2776.8668  &     1804.418     &    -1.539  &         0.125        &    -6324.088    &      770.354     \\\\\n\\textbf{x5}    &   -2938.1331  &     1493.280     &    -1.968  &         0.050        &    -5873.703    &       -2.563     \\\\\n\\textbf{x6}    &   -1.634e+04  &     1859.100     &    -8.787  &         0.000        &       -2e+04    &    -1.27e+04     \\\\\n\\textbf{x7}    &    2163.0945  &     1445.130     &     1.497  &         0.135        &     -677.820    &     5004.009     \\\\\n\\textbf{x8}    &    2798.3813  &     1445.749     &     1.936  &         0.054        &      -43.749    &     5640.511     \\\\\n\\textbf{x9}    &    1076.5090  &     1422.056     &     0.757  &         0.449        &    -1719.044    &     3872.062     \\\\\n\\textbf{x10}   &     491.5115  &     1410.660     &     0.348  &         0.728        &    -2281.639    &     3264.662     \\\\\n\\textbf{x11}   &   -1484.8338  &     1506.898     &    -0.985  &         0.325        &    -4447.174    &     1477.506     \\\\\n\\textbf{x12}   &    -892.9303  &     1506.781     &    -0.593  &         0.554        &    -3855.041    &     2069.181     \\\\\n\\textbf{x13}   &     147.4676  &     1767.345     &     0.083  &         0.934        &    -3326.874    &     3621.809     \\\\\n\\textbf{x14}   &   -1026.1179  &     1580.701     &    -0.649  &         0.517        &    -4133.545    &     2081.309     \\\\\n\\textbf{x15}   &     221.6500  &     1506.786     &     0.147  &         0.883        &    -2740.471    &     3183.771     \\\\\n\\bottomrule\n\\end{tabular}\n\\begin{tabular}{lclc}\n\\textbf{Omnibus:}       & 160.775 & \\textbf{  Durbin-Watson:     } &    2.028  \\\\\n\\textbf{Prob(Omnibus):} &   0.000 & \\textbf{  Jarque-Bera (JB):  } & 1496.604  \\\\\n\\textbf{Skew:}          &   1.363 & \\textbf{  Prob(JB):          } &     0.00  \\\\\n\\textbf{Kurtosis:}      &  11.837 & \\textbf{  Cond. No.          } &     3.71  \\\\\n\\bottomrule\n\\end{tabular}\n%\\caption{OLS Regression Results}\n\\end{center}\n\nNotes: \\newline\n [1] Standard Errors assume that the covariance matrix of the errors is correctly specified."
     },
     "execution_count": 144,
     "metadata": {},
     "output_type": "execute_result"
    }
   ],
   "execution_count": 144
  },
  {
   "metadata": {},
   "cell_type": "markdown",
   "source": [
    "**Interpretación Regresión sin penalización con datos de prueba**\n",
    "\n",
    "* El modelo tiene un R² de 0.699, lo que significa que explica aproximadamente el 69.9% de la variabilidad del Profit.\n",
    "* Units Sold mantiene un coeficiente positivo y fuerte, confirmando que un mayor volumen de ventas incrementa el Profit.\n",
    "* El Precio efectivo conserva un coeficiente positivo y elevado, mostrando que precios netos más altos, ajustados por descuentos, aumentan el Profit.\n",
    "* Los segmentos Enterprise y Small Business presentan coeficientes negativos y significativos, lo que indica que reducen el Profit frente al segmento base (Consumer).\n",
    "* Otros segmentos como Government y Midmarket se acercan al ser significativos, pero no son concluyentes.\n",
    "* Las variables de países y productos no resultan significativas, lo que indica que no afectan de forma clara el Profit."
   ],
   "id": "f832f923f7a9e93e"
  },
  {
   "metadata": {
    "ExecuteTime": {
     "end_time": "2025-09-29T00:59:07.945Z",
     "start_time": "2025-09-29T00:59:07.940629Z"
    }
   },
   "cell_type": "code",
   "source": [
    "# Con penalización Ridge\n",
    "l2 = Ridge(alpha = 0.1)\n",
    "l2.fit(X_scaled_test, y_test)\n",
    "y_pred = l2.predict(X_scaled_test)\n",
    "r2 = r2_score(y_test, y_pred)\n",
    "\n",
    "print(f\"R2: {r2}\")\n",
    "print(f\"Constante: {l2.intercept_}\")\n",
    "print(f\"Coeficiente: {l2.coef_}\")"
   ],
   "id": "9333ab2ff292e98c",
   "outputs": [
    {
     "name": "stdout",
     "output_type": "stream",
     "text": [
      "R2: 0.6994266816139776\n",
      "Constante: 22774.239119047626\n",
      "Coeficiente: [ 12234.74049737  36849.60150939 -18009.11808716  -2755.11833667\n",
      "  -2928.0567371  -16305.29081163   2161.90813173   2796.6679539\n",
      "   1074.07876232    490.70426879  -1486.5103126    -896.08573745\n",
      "    144.90544396  -1026.29702576    219.2515296 ]\n"
     ]
    }
   ],
   "execution_count": 145
  },
  {
   "metadata": {},
   "cell_type": "markdown",
   "source": [
    "**Interpretación Regresión con penalización Ridge (α = 0.1) con datos de prueba**\n",
    "\n",
    "* El modelo tiene un R² de 0.699, prácticamente igual al modelo sin penalización, lo que indica que mantiene el mismo poder explicativo.\n",
    "* Units Sold y Precio efectivo siguen siendo las variables más importantes con coeficientes positivos.\n",
    "* Los segmentos continúan mostrando efectos negativos.\n",
    "* Las variables de países y productos son casi cero, indicando que su efecto es poco relevante en la explicación del Profit."
   ],
   "id": "37154af965cb46dc"
  },
  {
   "metadata": {
    "ExecuteTime": {
     "end_time": "2025-09-29T00:59:55.673805Z",
     "start_time": "2025-09-29T00:59:55.669706Z"
    }
   },
   "cell_type": "code",
   "source": [
    "# Con penalización Lasso\n",
    "l1 = Lasso(alpha = 0.1)\n",
    "l1.fit(X_scaled_test, y_test)\n",
    "y_pred = l1.predict(X_scaled_test)\n",
    "r2 = r2_score(y_test, y_pred)\n",
    "\n",
    "print(f\"R2: {r2}\")\n",
    "print(f\"Constante: {l1.intercept_}\")\n",
    "print(f\"Coeficiente: {l1.coef_}\")"
   ],
   "id": "83f8db44abc6ae99",
   "outputs": [
    {
     "name": "stdout",
     "output_type": "stream",
     "text": [
      "R2: 0.6994269552052952\n",
      "Constante: 22774.239119047626\n",
      "Coeficiente: [ 12238.62500893  36873.59245486 -18028.55497822  -2776.0982231\n",
      "  -2937.62075037 -16334.75403773   2162.68476629   2797.9888783\n",
      "   1076.06784812    491.11777829  -1484.75718658   -892.89701593\n",
      "    147.38890942  -1026.0022913     221.53898875]\n"
     ]
    }
   ],
   "execution_count": 146
  },
  {
   "metadata": {},
   "cell_type": "markdown",
   "source": [
    "**Interpretación Regresión con penalización Lasso (α = 0.1) con datos de prueba**\n",
    "\n",
    "* El modelo tiene un R² de 0.699, muy similar a OLS y Ridge, manteniendo el mismo poder explicativo.\n",
    "Units Sold y Precio efectivo mantienen coeficientes positivos y fuertes, confirmando su significancia como factores clave del Profit.\n",
    "* Los segmentos presentan coeficientes negativos, reduciendo el Profit en comparación con el segmento base (Consumer).\n",
    "* Las variables de países y productos muestran coeficientes aún más pequeños, reflejando que Lasso penaliza con mayor fuerza a las variables de menor relevancia, aunque no las eliminó en este nivel de α."
   ],
   "id": "bf60cb8952e89b7b"
  },
  {
   "metadata": {
    "ExecuteTime": {
     "end_time": "2025-09-29T01:00:41.421558Z",
     "start_time": "2025-09-29T01:00:41.416637Z"
    }
   },
   "cell_type": "code",
   "source": [
    "# Penalización elastic net\n",
    "le = ElasticNet(alpha = 0.1)\n",
    "le.fit(X_scaled_test, y_test)\n",
    "y_pred = le.predict(X_scaled_test)\n",
    "r2 = r2_score(y_test, y_pred)\n",
    "\n",
    "print(f\"R2: {r2}\")\n",
    "print(f\"Constante: {le.intercept_}\")\n",
    "print(f\"Coeficiente: {le.coef_}\")"
   ],
   "id": "e6acf6aa642ac1eb",
   "outputs": [
    {
     "name": "stdout",
     "output_type": "stream",
     "text": [
      "R2: 0.691845281997308\n",
      "Constante: 22774.239119047623\n",
      "Coeficiente: [ 11450.99826003  32672.18890867 -14858.92547902    455.70906651\n",
      "  -1551.78593048 -11517.33713779   1932.2364074    2458.71931801\n",
      "    659.56778639    336.66909883  -1636.73025393  -1294.52394001\n",
      "   -123.4831839    -932.50818717    -53.54663435]\n"
     ]
    }
   ],
   "execution_count": 147
  },
  {
   "metadata": {},
   "cell_type": "markdown",
   "source": [
    "**Interpretación Regresión con penalización Elastic Net (α = 0.1) con datos de prueba**\n",
    "\n",
    "* El modelo tiene un R² de 0.691, lo que significa que explica aproximadamente el 69.1% de la variabilidad del Profit, ligeramente menor que en OLS, Ridge y Lasso.\n",
    "* Units Sold mantiene un coeficiente positivo y fuerte, confirmando que el volumen de ventas incrementa de forma significativa el Profit.\n",
    "* El Precio efectivo conserva un coeficiente positivo y elevado, mostrando que precios netos más altos, ajustados por descuentos, aumentan el Profit.\n",
    "* Los segmentos (Enterprise, Government, Midmarket y Small Business) continúan mostrando coeficientes negativos, reduciendo el Profit en comparación con el segmento base (Consumer), aunque Elastic Net los suaviza más respecto a Ridge y Lasso.\n",
    "* Las variables de países y productos se acercan aún más cerca a cero, reforzando que su impacto en el Profit es poco relevante dentro del modelo."
   ],
   "id": "5aeb62b2a3b4fe83"
  },
  {
   "cell_type": "markdown",
   "id": "64a4484e-1417-4116-b13f-72d0bbdf0c2d",
   "metadata": {},
   "source": [
    "---\n",
    "### Bibliografia APA"
   ]
  },
  {
   "metadata": {},
   "cell_type": "code",
   "outputs": [],
   "execution_count": null,
   "source": "",
   "id": "61bf883053ec15f"
  },
  {
   "cell_type": "markdown",
   "id": "844204f7-5aed-4f51-9f04-cd87c7e200b8",
   "metadata": {},
   "source": [
    "- IBM. (2021). What Is Linear Regression? Think. https://www.ibm.com/think/topics/linear-regression\n",
    "- Conzmr. (2017). Regresión Polinomial. Recuperado de https://conzmr.wordpress.com/2017/04/04/regresion-polinomial/\n",
    "- Camacho, C. (s. f.). Interacción en regresión [PDF]. Universidad de Sevilla. Recuperado de https://personal.us.es/vararey/interaccion1.pdf\n",
    "- ChReInvent. (s. f.). Valor-p en regresión lineal. Recuperado de https://www.chreinvent.com/recursos/valor-p-en-regresi%C3%B3n-lineal\n",
    "- IBM. (2023). ¿Qué es regression de ridge? Think. https://www.ibm.com/mx-es/think/topics/ridge-regression\n",
    "- Amat Rodrigo, J. (2016). Selección de predictores, regularización ridge, lasso, elasticnet y reducción de dimensionalidad. Cienciadedatos.net. Recuperado de https://cienciadedatos.net/documentos/31_seleccion_de_predictores_subset_selection_ridge_lasso_dimension_reduction\n",
    "- Interactive Chaos. (s. f.). Elastic Net. Recuperado de https://interactivechaos.com/es/manual/tutorial-de-machine-learning/elastic-net\n",
    "- Company Financials Dataset. (2023, August 1). https://www.kaggle.com/datasets/atharvaarya25/financials/data"
   ]
  },
  {
   "cell_type": "code",
   "id": "2b64b6ec-f40c-4e7a-84be-c39fff4144e6",
   "metadata": {
    "ExecuteTime": {
     "end_time": "2025-09-28T23:09:26.913105Z",
     "start_time": "2025-09-28T23:09:26.911852Z"
    }
   },
   "source": [],
   "outputs": [],
   "execution_count": null
  }
 ],
 "metadata": {
  "kernelspec": {
   "display_name": "Python 3 (ipykernel)",
   "language": "python",
   "name": "python3"
  },
  "language_info": {
   "codemirror_mode": {
    "name": "ipython",
    "version": 3
   },
   "file_extension": ".py",
   "mimetype": "text/x-python",
   "name": "python",
   "nbconvert_exporter": "python",
   "pygments_lexer": "ipython3",
   "version": "3.13.5"
  }
 },
 "nbformat": 4,
 "nbformat_minor": 5
}
